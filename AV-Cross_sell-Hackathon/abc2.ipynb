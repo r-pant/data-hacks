{
 "metadata": {
  "language_info": {
   "codemirror_mode": {
    "name": "ipython",
    "version": 3
   },
   "file_extension": ".py",
   "mimetype": "text/x-python",
   "name": "python",
   "nbconvert_exporter": "python",
   "pygments_lexer": "ipython3",
   "version": "3.8.5-final"
  },
  "orig_nbformat": 2,
  "kernelspec": {
   "name": "python3",
   "display_name": "Python 3.8.5 64-bit",
   "metadata": {
    "interpreter": {
     "hash": "006cf0146e1b2adb9befef93c4f4a0b3f5d6dd1fbbffdd8b2f06cde5fad86e4a"
    }
   }
  }
 },
 "nbformat": 4,
 "nbformat_minor": 2,
 "cells": [
  {
   "source": [
    "# JOB-A-THON dataset"
   ],
   "cell_type": "markdown",
   "metadata": {}
  },
  {
   "source": [
    "## Health Insurance Lead Prediction\n",
    "\n",
    "Your Client FinMan is a financial services company that provides various financial services like loan,investment funds, insurance etc. to its customers. FinMan wishes to cross-sell health insurance to the existing customers who may or may not hold insurance policies with the company. The company recommend health insurance to it's customers based on their profile once these customers land on the website. Customers might browse the recommended health insurance policy and consequently fill up a form to apply. When these customers fill-up the form, their Response towards the policy is considered positive and they are classified as a lead.\n",
    "\n",
    "Once these leads are acquired, the sales advisors approach them to convert and thus the company can sell proposed health insurance to these leads in a more efficient manner.\n",
    "\n",
    "Now the company needs your help in building a model to predict whether the person will be interested in their proposed Health plan/policy given the information about:\n",
    "\n",
    "    -Demographics (city, age, region etc.)\n",
    "    -Information regarding holding policies of the customer\n",
    "    -Recommended Policy Information"
   ],
   "cell_type": "markdown",
   "metadata": {}
  },
  {
   "cell_type": "code",
   "execution_count": 1,
   "metadata": {},
   "outputs": [],
   "source": [
    "## importing libraries \n",
    "import pandas as pd\n",
    "import numpy as np\n",
    "import matplotlib.pyplot as plt\n",
    "import seaborn as sns\n",
    "import math\n",
    "from sklearn.model_selection import train_test_split\n",
    "# our evaluation matric\n",
    "from sklearn.metrics import roc_auc_score\n",
    "%matplotlib inline"
   ]
  },
  {
   "source": [
    "#### Used Tableau and Excel for inital exploration.\n",
    "\n",
    "    - Did initial value change  from 14+ to 14 on excel for  - Holding_Policy_Duration  "
   ],
   "cell_type": "markdown",
   "metadata": {}
  },
  {
   "source": [
    "### loading the dataset "
   ],
   "cell_type": "markdown",
   "metadata": {}
  },
  {
   "cell_type": "code",
   "execution_count": 2,
   "metadata": {},
   "outputs": [],
   "source": [
    "df =pd.read_csv('train.csv')  #train data\n",
    "df_test = pd.read_csv('test.csv') #test data\n",
    "df_submit = pd.read_csv('sample_submission_QrCyCoT.csv')  #submission file"
   ]
  },
  {
   "cell_type": "code",
   "execution_count": 3,
   "metadata": {},
   "outputs": [],
   "source": [
    "data= df.copy()"
   ]
  },
  {
   "cell_type": "code",
   "execution_count": 4,
   "metadata": {},
   "outputs": [
    {
     "output_type": "execute_result",
     "data": {
      "text/plain": [
       "          ID City_Code  Region_Code Accomodation_Type Reco_Insurance_Type  \\\n",
       "4112    4113        C2         1419            Rented          Individual   \n",
       "40772  40773        C3         1105             Owned          Individual   \n",
       "28846  28847        C8         2648            Rented          Individual   \n",
       "14583  14584        C2         3369             Owned          Individual   \n",
       "40364  40365       C21         5584            Rented          Individual   \n",
       "5263    5264        C9         2005             Owned               Joint   \n",
       "\n",
       "       Upper_Age  Lower_Age Is_Spouse Health Indicator  \\\n",
       "4112          59         59        No               X1   \n",
       "40772         72         72        No               X2   \n",
       "28846         18         18        No               X1   \n",
       "14583         22         22        No              NaN   \n",
       "40364         23         23        No               X3   \n",
       "5263          73         47        No               X2   \n",
       "\n",
       "       Holding_Policy_Duration  Holding_Policy_Type  Reco_Policy_Cat  \\\n",
       "4112                      14.0                  4.0               14   \n",
       "40772                      2.0                  1.0               16   \n",
       "28846                      NaN                  NaN               21   \n",
       "14583                      1.0                  4.0               22   \n",
       "40364                      NaN                  NaN               13   \n",
       "5263                      14.0                  2.0               17   \n",
       "\n",
       "       Reco_Policy_Premium  Response  \n",
       "4112               19140.0         0  \n",
       "40772              27468.0         1  \n",
       "28846              11088.0         0  \n",
       "14583               8918.0         0  \n",
       "40364               6770.0         1  \n",
       "5263               25494.0         0  "
      ],
      "text/html": "<div>\n<style scoped>\n    .dataframe tbody tr th:only-of-type {\n        vertical-align: middle;\n    }\n\n    .dataframe tbody tr th {\n        vertical-align: top;\n    }\n\n    .dataframe thead th {\n        text-align: right;\n    }\n</style>\n<table border=\"1\" class=\"dataframe\">\n  <thead>\n    <tr style=\"text-align: right;\">\n      <th></th>\n      <th>ID</th>\n      <th>City_Code</th>\n      <th>Region_Code</th>\n      <th>Accomodation_Type</th>\n      <th>Reco_Insurance_Type</th>\n      <th>Upper_Age</th>\n      <th>Lower_Age</th>\n      <th>Is_Spouse</th>\n      <th>Health Indicator</th>\n      <th>Holding_Policy_Duration</th>\n      <th>Holding_Policy_Type</th>\n      <th>Reco_Policy_Cat</th>\n      <th>Reco_Policy_Premium</th>\n      <th>Response</th>\n    </tr>\n  </thead>\n  <tbody>\n    <tr>\n      <th>4112</th>\n      <td>4113</td>\n      <td>C2</td>\n      <td>1419</td>\n      <td>Rented</td>\n      <td>Individual</td>\n      <td>59</td>\n      <td>59</td>\n      <td>No</td>\n      <td>X1</td>\n      <td>14.0</td>\n      <td>4.0</td>\n      <td>14</td>\n      <td>19140.0</td>\n      <td>0</td>\n    </tr>\n    <tr>\n      <th>40772</th>\n      <td>40773</td>\n      <td>C3</td>\n      <td>1105</td>\n      <td>Owned</td>\n      <td>Individual</td>\n      <td>72</td>\n      <td>72</td>\n      <td>No</td>\n      <td>X2</td>\n      <td>2.0</td>\n      <td>1.0</td>\n      <td>16</td>\n      <td>27468.0</td>\n      <td>1</td>\n    </tr>\n    <tr>\n      <th>28846</th>\n      <td>28847</td>\n      <td>C8</td>\n      <td>2648</td>\n      <td>Rented</td>\n      <td>Individual</td>\n      <td>18</td>\n      <td>18</td>\n      <td>No</td>\n      <td>X1</td>\n      <td>NaN</td>\n      <td>NaN</td>\n      <td>21</td>\n      <td>11088.0</td>\n      <td>0</td>\n    </tr>\n    <tr>\n      <th>14583</th>\n      <td>14584</td>\n      <td>C2</td>\n      <td>3369</td>\n      <td>Owned</td>\n      <td>Individual</td>\n      <td>22</td>\n      <td>22</td>\n      <td>No</td>\n      <td>NaN</td>\n      <td>1.0</td>\n      <td>4.0</td>\n      <td>22</td>\n      <td>8918.0</td>\n      <td>0</td>\n    </tr>\n    <tr>\n      <th>40364</th>\n      <td>40365</td>\n      <td>C21</td>\n      <td>5584</td>\n      <td>Rented</td>\n      <td>Individual</td>\n      <td>23</td>\n      <td>23</td>\n      <td>No</td>\n      <td>X3</td>\n      <td>NaN</td>\n      <td>NaN</td>\n      <td>13</td>\n      <td>6770.0</td>\n      <td>1</td>\n    </tr>\n    <tr>\n      <th>5263</th>\n      <td>5264</td>\n      <td>C9</td>\n      <td>2005</td>\n      <td>Owned</td>\n      <td>Joint</td>\n      <td>73</td>\n      <td>47</td>\n      <td>No</td>\n      <td>X2</td>\n      <td>14.0</td>\n      <td>2.0</td>\n      <td>17</td>\n      <td>25494.0</td>\n      <td>0</td>\n    </tr>\n  </tbody>\n</table>\n</div>"
     },
     "metadata": {},
     "execution_count": 4
    }
   ],
   "source": [
    "df.sample(6)"
   ]
  },
  {
   "source": [
    "## Data validation"
   ],
   "cell_type": "markdown",
   "metadata": {}
  },
  {
   "cell_type": "code",
   "execution_count": 5,
   "metadata": {},
   "outputs": [
    {
     "output_type": "execute_result",
     "data": {
      "text/plain": [
       "((50882, 14), (21805, 13))"
      ]
     },
     "metadata": {},
     "execution_count": 5
    }
   ],
   "source": [
    "# Shape of our dataset - \n",
    "df.shape, df_test.shape"
   ]
  },
  {
   "cell_type": "code",
   "execution_count": 6,
   "metadata": {},
   "outputs": [
    {
     "output_type": "stream",
     "name": "stdout",
     "text": [
      "<class 'pandas.core.frame.DataFrame'>\nRangeIndex: 50882 entries, 0 to 50881\nData columns (total 14 columns):\n #   Column                   Non-Null Count  Dtype  \n---  ------                   --------------  -----  \n 0   ID                       50882 non-null  int64  \n 1   City_Code                50882 non-null  object \n 2   Region_Code              50882 non-null  int64  \n 3   Accomodation_Type        50882 non-null  object \n 4   Reco_Insurance_Type      50882 non-null  object \n 5   Upper_Age                50882 non-null  int64  \n 6   Lower_Age                50882 non-null  int64  \n 7   Is_Spouse                50882 non-null  object \n 8   Health Indicator         39191 non-null  object \n 9   Holding_Policy_Duration  30631 non-null  float64\n 10  Holding_Policy_Type      30631 non-null  float64\n 11  Reco_Policy_Cat          50882 non-null  int64  \n 12  Reco_Policy_Premium      50882 non-null  float64\n 13  Response                 50882 non-null  int64  \ndtypes: float64(3), int64(6), object(5)\nmemory usage: 5.4+ MB\n"
     ]
    }
   ],
   "source": [
    "df.info()"
   ]
  },
  {
   "source": [
    "### We have 3 columns with null values- \n",
    "    - Health Indicator\n",
    "    - Holding_Policy_Duration\n",
    "    - Holding_Policy_Type "
   ],
   "cell_type": "markdown",
   "metadata": {}
  },
  {
   "cell_type": "code",
   "execution_count": 7,
   "metadata": {},
   "outputs": [
    {
     "output_type": "execute_result",
     "data": {
      "text/plain": [
       "Index(['ID', 'City_Code', 'Region_Code', 'Accomodation_Type',\n",
       "       'Reco_Insurance_Type', 'Upper_Age', 'Lower_Age', 'Is_Spouse',\n",
       "       'Health Indicator', 'Holding_Policy_Duration', 'Holding_Policy_Type',\n",
       "       'Reco_Policy_Cat', 'Reco_Policy_Premium', 'Response'],\n",
       "      dtype='object')"
      ]
     },
     "metadata": {},
     "execution_count": 7
    }
   ],
   "source": [
    "df.columns"
   ]
  },
  {
   "cell_type": "code",
   "execution_count": 8,
   "metadata": {},
   "outputs": [
    {
     "output_type": "execute_result",
     "data": {
      "text/plain": [
       "3.0    13279\n",
       "1.0     8173\n",
       "2.0     5005\n",
       "4.0     4174\n",
       "Name: Holding_Policy_Type, dtype: int64"
      ]
     },
     "metadata": {},
     "execution_count": 8
    }
   ],
   "source": [
    "df['Holding_Policy_Type'].value_counts()"
   ]
  },
  {
   "cell_type": "code",
   "execution_count": 9,
   "metadata": {},
   "outputs": [
    {
     "output_type": "execute_result",
     "data": {
      "text/plain": [
       "                           count          mean           std     min  \\\n",
       "ID                       50882.0  25441.500000  14688.512535     1.0   \n",
       "Region_Code              50882.0   1732.788707   1424.081652     1.0   \n",
       "Upper_Age                50882.0     44.856275     17.310271    18.0   \n",
       "Lower_Age                50882.0     42.738866     17.319375    16.0   \n",
       "Holding_Policy_Duration  30631.0      6.015246      4.501648     1.0   \n",
       "Holding_Policy_Type      30631.0      2.439228      1.025923     1.0   \n",
       "Reco_Policy_Cat          50882.0     15.115188      6.340663     1.0   \n",
       "Reco_Policy_Premium      50882.0  14183.950069   6590.074873  2280.0   \n",
       "Response                 50882.0      0.239947      0.427055     0.0   \n",
       "\n",
       "                              25%      50%       75%      max  \n",
       "ID                       12721.25  25441.5  38161.75  50882.0  \n",
       "Region_Code                523.00   1391.0   2667.00   6194.0  \n",
       "Upper_Age                   28.00     44.0     59.00     75.0  \n",
       "Lower_Age                   27.00     40.0     57.00     75.0  \n",
       "Holding_Policy_Duration      2.00      5.0      9.00     14.0  \n",
       "Holding_Policy_Type          1.00      3.0      3.00      4.0  \n",
       "Reco_Policy_Cat             12.00     17.0     20.00     22.0  \n",
       "Reco_Policy_Premium       9248.00  13178.0  18096.00  43350.4  \n",
       "Response                     0.00      0.0      0.00      1.0  "
      ],
      "text/html": "<div>\n<style scoped>\n    .dataframe tbody tr th:only-of-type {\n        vertical-align: middle;\n    }\n\n    .dataframe tbody tr th {\n        vertical-align: top;\n    }\n\n    .dataframe thead th {\n        text-align: right;\n    }\n</style>\n<table border=\"1\" class=\"dataframe\">\n  <thead>\n    <tr style=\"text-align: right;\">\n      <th></th>\n      <th>count</th>\n      <th>mean</th>\n      <th>std</th>\n      <th>min</th>\n      <th>25%</th>\n      <th>50%</th>\n      <th>75%</th>\n      <th>max</th>\n    </tr>\n  </thead>\n  <tbody>\n    <tr>\n      <th>ID</th>\n      <td>50882.0</td>\n      <td>25441.500000</td>\n      <td>14688.512535</td>\n      <td>1.0</td>\n      <td>12721.25</td>\n      <td>25441.5</td>\n      <td>38161.75</td>\n      <td>50882.0</td>\n    </tr>\n    <tr>\n      <th>Region_Code</th>\n      <td>50882.0</td>\n      <td>1732.788707</td>\n      <td>1424.081652</td>\n      <td>1.0</td>\n      <td>523.00</td>\n      <td>1391.0</td>\n      <td>2667.00</td>\n      <td>6194.0</td>\n    </tr>\n    <tr>\n      <th>Upper_Age</th>\n      <td>50882.0</td>\n      <td>44.856275</td>\n      <td>17.310271</td>\n      <td>18.0</td>\n      <td>28.00</td>\n      <td>44.0</td>\n      <td>59.00</td>\n      <td>75.0</td>\n    </tr>\n    <tr>\n      <th>Lower_Age</th>\n      <td>50882.0</td>\n      <td>42.738866</td>\n      <td>17.319375</td>\n      <td>16.0</td>\n      <td>27.00</td>\n      <td>40.0</td>\n      <td>57.00</td>\n      <td>75.0</td>\n    </tr>\n    <tr>\n      <th>Holding_Policy_Duration</th>\n      <td>30631.0</td>\n      <td>6.015246</td>\n      <td>4.501648</td>\n      <td>1.0</td>\n      <td>2.00</td>\n      <td>5.0</td>\n      <td>9.00</td>\n      <td>14.0</td>\n    </tr>\n    <tr>\n      <th>Holding_Policy_Type</th>\n      <td>30631.0</td>\n      <td>2.439228</td>\n      <td>1.025923</td>\n      <td>1.0</td>\n      <td>1.00</td>\n      <td>3.0</td>\n      <td>3.00</td>\n      <td>4.0</td>\n    </tr>\n    <tr>\n      <th>Reco_Policy_Cat</th>\n      <td>50882.0</td>\n      <td>15.115188</td>\n      <td>6.340663</td>\n      <td>1.0</td>\n      <td>12.00</td>\n      <td>17.0</td>\n      <td>20.00</td>\n      <td>22.0</td>\n    </tr>\n    <tr>\n      <th>Reco_Policy_Premium</th>\n      <td>50882.0</td>\n      <td>14183.950069</td>\n      <td>6590.074873</td>\n      <td>2280.0</td>\n      <td>9248.00</td>\n      <td>13178.0</td>\n      <td>18096.00</td>\n      <td>43350.4</td>\n    </tr>\n    <tr>\n      <th>Response</th>\n      <td>50882.0</td>\n      <td>0.239947</td>\n      <td>0.427055</td>\n      <td>0.0</td>\n      <td>0.00</td>\n      <td>0.0</td>\n      <td>0.00</td>\n      <td>1.0</td>\n    </tr>\n  </tbody>\n</table>\n</div>"
     },
     "metadata": {},
     "execution_count": 9
    }
   ],
   "source": [
    "df.describe().T"
   ]
  },
  {
   "source": [
    "###  creating a column to check for new users based on past missing data from the columns"
   ],
   "cell_type": "markdown",
   "metadata": {}
  },
  {
   "cell_type": "code",
   "execution_count": 10,
   "metadata": {},
   "outputs": [],
   "source": [
    "df = df.replace({np.nan: None}) #replacin nan values with None\n",
    "df_test = df_test.replace({np.nan: None})"
   ]
  },
  {
   "cell_type": "code",
   "execution_count": 11,
   "metadata": {},
   "outputs": [],
   "source": [
    "# function to check in the columns for users for whom we do not have any past data - they probably will be new users\n",
    "def conditions(s):\n",
    "    if (s['Health Indicator'] == None) and (s['Holding_Policy_Duration'] == None) and  (s['Holding_Policy_Type'] == None):\n",
    "        return 1\n",
    "    else:\n",
    "        return 0"
   ]
  },
  {
   "cell_type": "code",
   "execution_count": 12,
   "metadata": {},
   "outputs": [],
   "source": [
    "df['new_user'] = df.apply(conditions, axis=1)\n",
    "df_test['new_user'] = df_test.apply(conditions, axis=1)"
   ]
  },
  {
   "cell_type": "code",
   "execution_count": 13,
   "metadata": {},
   "outputs": [
    {
     "output_type": "execute_result",
     "data": {
      "text/plain": [
       "2"
      ]
     },
     "metadata": {},
     "execution_count": 13
    }
   ],
   "source": [
    "df['new_user'].nunique()"
   ]
  },
  {
   "source": [
    "### imputing values for new users in the columns as:"
   ],
   "cell_type": "markdown",
   "metadata": {}
  },
  {
   "cell_type": "code",
   "execution_count": 14,
   "metadata": {},
   "outputs": [],
   "source": [
    "## train data\n",
    "df.loc[df.new_user == 1, \"Health Indicator\"] = \"X0\"\n",
    "df.loc[df.new_user == 1, \"Holding_Policy_Duration\"] = 0\n",
    "df.loc[df.new_user == 1, \"Holding_Policy_Type\"] = 0"
   ]
  },
  {
   "cell_type": "code",
   "execution_count": 15,
   "metadata": {},
   "outputs": [],
   "source": [
    "## test data\n",
    "df_test.loc[df_test.new_user == 1, \"Health Indicator\"] = \"X0\"\n",
    "df_test.loc[df_test.new_user == 1, \"Holding_Policy_Duration\"] = 0\n",
    "df_test.loc[df_test.new_user == 1, \"Holding_Policy_Type\"] = 0"
   ]
  },
  {
   "cell_type": "code",
   "execution_count": 16,
   "metadata": {},
   "outputs": [
    {
     "output_type": "execute_result",
     "data": {
      "text/plain": [
       "ID                             0\n",
       "City_Code                      0\n",
       "Region_Code                    0\n",
       "Accomodation_Type              0\n",
       "Reco_Insurance_Type            0\n",
       "Upper_Age                      0\n",
       "Lower_Age                      0\n",
       "Is_Spouse                      0\n",
       "Health Indicator            7083\n",
       "Holding_Policy_Duration    15643\n",
       "Holding_Policy_Type        15643\n",
       "Reco_Policy_Cat                0\n",
       "Reco_Policy_Premium            0\n",
       "Response                       0\n",
       "new_user                       0\n",
       "dtype: int64"
      ]
     },
     "metadata": {},
     "execution_count": 16
    }
   ],
   "source": [
    "df.isna().sum()"
   ]
  },
  {
   "cell_type": "code",
   "execution_count": 17,
   "metadata": {},
   "outputs": [],
   "source": [
    "#Filling rest of the values as 999\n",
    "\n",
    "df= df.fillna(999)\n",
    "df_test= df_test.fillna(999)"
   ]
  },
  {
   "cell_type": "code",
   "execution_count": 18,
   "metadata": {},
   "outputs": [
    {
     "output_type": "execute_result",
     "data": {
      "text/plain": [
       "ID                         0\n",
       "City_Code                  0\n",
       "Region_Code                0\n",
       "Accomodation_Type          0\n",
       "Reco_Insurance_Type        0\n",
       "Upper_Age                  0\n",
       "Lower_Age                  0\n",
       "Is_Spouse                  0\n",
       "Health Indicator           0\n",
       "Holding_Policy_Duration    0\n",
       "Holding_Policy_Type        0\n",
       "Reco_Policy_Cat            0\n",
       "Reco_Policy_Premium        0\n",
       "Response                   0\n",
       "new_user                   0\n",
       "dtype: int64"
      ]
     },
     "metadata": {},
     "execution_count": 18
    }
   ],
   "source": [
    "df.isna().sum()"
   ]
  },
  {
   "source": [
    "All missing values are now imputed"
   ],
   "cell_type": "markdown",
   "metadata": {}
  },
  {
   "source": [
    "## EDA"
   ],
   "cell_type": "markdown",
   "metadata": {}
  },
  {
   "cell_type": "code",
   "execution_count": 19,
   "metadata": {},
   "outputs": [
    {
     "output_type": "execute_result",
     "data": {
      "text/plain": [
       "   ID City_Code  Region_Code Accomodation_Type Reco_Insurance_Type  Upper_Age  \\\n",
       "0   1        C3         3213            Rented          Individual         36   \n",
       "1   2        C5         1117             Owned               Joint         75   \n",
       "2   3        C5         3732             Owned          Individual         32   \n",
       "3   4       C24         4378             Owned               Joint         52   \n",
       "4   5        C8         2190            Rented          Individual         44   \n",
       "\n",
       "   Lower_Age Is_Spouse Health Indicator  Holding_Policy_Duration  \\\n",
       "0         36        No               X1                     14.0   \n",
       "1         22        No               X2                    999.0   \n",
       "2         32        No              999                      1.0   \n",
       "3         48        No               X1                     14.0   \n",
       "4         44        No               X2                      3.0   \n",
       "\n",
       "   Holding_Policy_Type  Reco_Policy_Cat  Reco_Policy_Premium  Response  \\\n",
       "0                  3.0               22              11628.0         0   \n",
       "1                999.0               22              30510.0         0   \n",
       "2                  1.0               19               7450.0         1   \n",
       "3                  3.0               19              17780.0         0   \n",
       "4                  1.0               16              10404.0         0   \n",
       "\n",
       "   new_user  \n",
       "0         0  \n",
       "1         0  \n",
       "2         0  \n",
       "3         0  \n",
       "4         0  "
      ],
      "text/html": "<div>\n<style scoped>\n    .dataframe tbody tr th:only-of-type {\n        vertical-align: middle;\n    }\n\n    .dataframe tbody tr th {\n        vertical-align: top;\n    }\n\n    .dataframe thead th {\n        text-align: right;\n    }\n</style>\n<table border=\"1\" class=\"dataframe\">\n  <thead>\n    <tr style=\"text-align: right;\">\n      <th></th>\n      <th>ID</th>\n      <th>City_Code</th>\n      <th>Region_Code</th>\n      <th>Accomodation_Type</th>\n      <th>Reco_Insurance_Type</th>\n      <th>Upper_Age</th>\n      <th>Lower_Age</th>\n      <th>Is_Spouse</th>\n      <th>Health Indicator</th>\n      <th>Holding_Policy_Duration</th>\n      <th>Holding_Policy_Type</th>\n      <th>Reco_Policy_Cat</th>\n      <th>Reco_Policy_Premium</th>\n      <th>Response</th>\n      <th>new_user</th>\n    </tr>\n  </thead>\n  <tbody>\n    <tr>\n      <th>0</th>\n      <td>1</td>\n      <td>C3</td>\n      <td>3213</td>\n      <td>Rented</td>\n      <td>Individual</td>\n      <td>36</td>\n      <td>36</td>\n      <td>No</td>\n      <td>X1</td>\n      <td>14.0</td>\n      <td>3.0</td>\n      <td>22</td>\n      <td>11628.0</td>\n      <td>0</td>\n      <td>0</td>\n    </tr>\n    <tr>\n      <th>1</th>\n      <td>2</td>\n      <td>C5</td>\n      <td>1117</td>\n      <td>Owned</td>\n      <td>Joint</td>\n      <td>75</td>\n      <td>22</td>\n      <td>No</td>\n      <td>X2</td>\n      <td>999.0</td>\n      <td>999.0</td>\n      <td>22</td>\n      <td>30510.0</td>\n      <td>0</td>\n      <td>0</td>\n    </tr>\n    <tr>\n      <th>2</th>\n      <td>3</td>\n      <td>C5</td>\n      <td>3732</td>\n      <td>Owned</td>\n      <td>Individual</td>\n      <td>32</td>\n      <td>32</td>\n      <td>No</td>\n      <td>999</td>\n      <td>1.0</td>\n      <td>1.0</td>\n      <td>19</td>\n      <td>7450.0</td>\n      <td>1</td>\n      <td>0</td>\n    </tr>\n    <tr>\n      <th>3</th>\n      <td>4</td>\n      <td>C24</td>\n      <td>4378</td>\n      <td>Owned</td>\n      <td>Joint</td>\n      <td>52</td>\n      <td>48</td>\n      <td>No</td>\n      <td>X1</td>\n      <td>14.0</td>\n      <td>3.0</td>\n      <td>19</td>\n      <td>17780.0</td>\n      <td>0</td>\n      <td>0</td>\n    </tr>\n    <tr>\n      <th>4</th>\n      <td>5</td>\n      <td>C8</td>\n      <td>2190</td>\n      <td>Rented</td>\n      <td>Individual</td>\n      <td>44</td>\n      <td>44</td>\n      <td>No</td>\n      <td>X2</td>\n      <td>3.0</td>\n      <td>1.0</td>\n      <td>16</td>\n      <td>10404.0</td>\n      <td>0</td>\n      <td>0</td>\n    </tr>\n  </tbody>\n</table>\n</div>"
     },
     "metadata": {},
     "execution_count": 19
    }
   ],
   "source": [
    "df.head()"
   ]
  },
  {
   "cell_type": "code",
   "execution_count": 20,
   "metadata": {},
   "outputs": [
    {
     "output_type": "execute_result",
     "data": {
      "text/plain": [
       "                               ID  Region_Code  Upper_Age  Lower_Age  \\\n",
       "ID                       1.000000    -0.000465  -0.001725   0.001101   \n",
       "Region_Code             -0.000465     1.000000  -0.005649  -0.005928   \n",
       "Upper_Age               -0.001725    -0.005649   1.000000   0.921392   \n",
       "Lower_Age                0.001101    -0.005928   0.921392   1.000000   \n",
       "Holding_Policy_Duration -0.003939     0.001161  -0.233654  -0.212226   \n",
       "Holding_Policy_Type     -0.003893     0.001038  -0.235768  -0.214134   \n",
       "Reco_Policy_Cat         -0.002235    -0.065120   0.025257   0.021163   \n",
       "Reco_Policy_Premium     -0.002350    -0.010797   0.792689   0.615739   \n",
       "Response                 0.005159     0.001121   0.002772  -0.002099   \n",
       "new_user                 0.004870     0.002488  -0.110186  -0.098120   \n",
       "\n",
       "                         Holding_Policy_Duration  Holding_Policy_Type  \\\n",
       "ID                                     -0.003939            -0.003893   \n",
       "Region_Code                             0.001161             0.001038   \n",
       "Upper_Age                              -0.233654            -0.235768   \n",
       "Lower_Age                              -0.212226            -0.214134   \n",
       "Holding_Policy_Duration                 1.000000             0.999969   \n",
       "Holding_Policy_Type                     0.999969             1.000000   \n",
       "Reco_Policy_Cat                        -0.008491            -0.008669   \n",
       "Reco_Policy_Premium                    -0.183501            -0.185063   \n",
       "Response                                0.001897             0.001767   \n",
       "new_user                               -0.213841            -0.211704   \n",
       "\n",
       "                         Reco_Policy_Cat  Reco_Policy_Premium  Response  \\\n",
       "ID                             -0.002235            -0.002350  0.005159   \n",
       "Region_Code                    -0.065120            -0.010797  0.001121   \n",
       "Upper_Age                       0.025257             0.792689  0.002772   \n",
       "Lower_Age                       0.021163             0.615739 -0.002099   \n",
       "Holding_Policy_Duration        -0.008491            -0.183501  0.001897   \n",
       "Holding_Policy_Type            -0.008669            -0.185063  0.001767   \n",
       "Reco_Policy_Cat                 1.000000             0.060989  0.114321   \n",
       "Reco_Policy_Premium             0.060989             1.000000  0.007943   \n",
       "Response                        0.114321             0.007943  1.000000   \n",
       "new_user                       -0.009340            -0.090436 -0.006042   \n",
       "\n",
       "                         new_user  \n",
       "ID                       0.004870  \n",
       "Region_Code              0.002488  \n",
       "Upper_Age               -0.110186  \n",
       "Lower_Age               -0.098120  \n",
       "Holding_Policy_Duration -0.213841  \n",
       "Holding_Policy_Type     -0.211704  \n",
       "Reco_Policy_Cat         -0.009340  \n",
       "Reco_Policy_Premium     -0.090436  \n",
       "Response                -0.006042  \n",
       "new_user                 1.000000  "
      ],
      "text/html": "<div>\n<style scoped>\n    .dataframe tbody tr th:only-of-type {\n        vertical-align: middle;\n    }\n\n    .dataframe tbody tr th {\n        vertical-align: top;\n    }\n\n    .dataframe thead th {\n        text-align: right;\n    }\n</style>\n<table border=\"1\" class=\"dataframe\">\n  <thead>\n    <tr style=\"text-align: right;\">\n      <th></th>\n      <th>ID</th>\n      <th>Region_Code</th>\n      <th>Upper_Age</th>\n      <th>Lower_Age</th>\n      <th>Holding_Policy_Duration</th>\n      <th>Holding_Policy_Type</th>\n      <th>Reco_Policy_Cat</th>\n      <th>Reco_Policy_Premium</th>\n      <th>Response</th>\n      <th>new_user</th>\n    </tr>\n  </thead>\n  <tbody>\n    <tr>\n      <th>ID</th>\n      <td>1.000000</td>\n      <td>-0.000465</td>\n      <td>-0.001725</td>\n      <td>0.001101</td>\n      <td>-0.003939</td>\n      <td>-0.003893</td>\n      <td>-0.002235</td>\n      <td>-0.002350</td>\n      <td>0.005159</td>\n      <td>0.004870</td>\n    </tr>\n    <tr>\n      <th>Region_Code</th>\n      <td>-0.000465</td>\n      <td>1.000000</td>\n      <td>-0.005649</td>\n      <td>-0.005928</td>\n      <td>0.001161</td>\n      <td>0.001038</td>\n      <td>-0.065120</td>\n      <td>-0.010797</td>\n      <td>0.001121</td>\n      <td>0.002488</td>\n    </tr>\n    <tr>\n      <th>Upper_Age</th>\n      <td>-0.001725</td>\n      <td>-0.005649</td>\n      <td>1.000000</td>\n      <td>0.921392</td>\n      <td>-0.233654</td>\n      <td>-0.235768</td>\n      <td>0.025257</td>\n      <td>0.792689</td>\n      <td>0.002772</td>\n      <td>-0.110186</td>\n    </tr>\n    <tr>\n      <th>Lower_Age</th>\n      <td>0.001101</td>\n      <td>-0.005928</td>\n      <td>0.921392</td>\n      <td>1.000000</td>\n      <td>-0.212226</td>\n      <td>-0.214134</td>\n      <td>0.021163</td>\n      <td>0.615739</td>\n      <td>-0.002099</td>\n      <td>-0.098120</td>\n    </tr>\n    <tr>\n      <th>Holding_Policy_Duration</th>\n      <td>-0.003939</td>\n      <td>0.001161</td>\n      <td>-0.233654</td>\n      <td>-0.212226</td>\n      <td>1.000000</td>\n      <td>0.999969</td>\n      <td>-0.008491</td>\n      <td>-0.183501</td>\n      <td>0.001897</td>\n      <td>-0.213841</td>\n    </tr>\n    <tr>\n      <th>Holding_Policy_Type</th>\n      <td>-0.003893</td>\n      <td>0.001038</td>\n      <td>-0.235768</td>\n      <td>-0.214134</td>\n      <td>0.999969</td>\n      <td>1.000000</td>\n      <td>-0.008669</td>\n      <td>-0.185063</td>\n      <td>0.001767</td>\n      <td>-0.211704</td>\n    </tr>\n    <tr>\n      <th>Reco_Policy_Cat</th>\n      <td>-0.002235</td>\n      <td>-0.065120</td>\n      <td>0.025257</td>\n      <td>0.021163</td>\n      <td>-0.008491</td>\n      <td>-0.008669</td>\n      <td>1.000000</td>\n      <td>0.060989</td>\n      <td>0.114321</td>\n      <td>-0.009340</td>\n    </tr>\n    <tr>\n      <th>Reco_Policy_Premium</th>\n      <td>-0.002350</td>\n      <td>-0.010797</td>\n      <td>0.792689</td>\n      <td>0.615739</td>\n      <td>-0.183501</td>\n      <td>-0.185063</td>\n      <td>0.060989</td>\n      <td>1.000000</td>\n      <td>0.007943</td>\n      <td>-0.090436</td>\n    </tr>\n    <tr>\n      <th>Response</th>\n      <td>0.005159</td>\n      <td>0.001121</td>\n      <td>0.002772</td>\n      <td>-0.002099</td>\n      <td>0.001897</td>\n      <td>0.001767</td>\n      <td>0.114321</td>\n      <td>0.007943</td>\n      <td>1.000000</td>\n      <td>-0.006042</td>\n    </tr>\n    <tr>\n      <th>new_user</th>\n      <td>0.004870</td>\n      <td>0.002488</td>\n      <td>-0.110186</td>\n      <td>-0.098120</td>\n      <td>-0.213841</td>\n      <td>-0.211704</td>\n      <td>-0.009340</td>\n      <td>-0.090436</td>\n      <td>-0.006042</td>\n      <td>1.000000</td>\n    </tr>\n  </tbody>\n</table>\n</div>"
     },
     "metadata": {},
     "execution_count": 20
    }
   ],
   "source": [
    "df.corr()  # correlation value"
   ]
  },
  {
   "cell_type": "code",
   "execution_count": 21,
   "metadata": {},
   "outputs": [],
   "source": [
    "# df['av_Age'] = df['av_Age'].map(lambda x:x.astype('int'))\n",
    "# df_test['av_Age'] = df_test['av_Age'].apply(lambda x:x.astype('int'))\n"
   ]
  },
  {
   "cell_type": "code",
   "execution_count": 22,
   "metadata": {},
   "outputs": [
    {
     "output_type": "execute_result",
     "data": {
      "text/plain": [
       "   ID City_Code  Region_Code Accomodation_Type Reco_Insurance_Type  Upper_Age  \\\n",
       "0   1        C3         3213            Rented          Individual         36   \n",
       "1   2        C5         1117             Owned               Joint         75   \n",
       "2   3        C5         3732             Owned          Individual         32   \n",
       "3   4       C24         4378             Owned               Joint         52   \n",
       "4   5        C8         2190            Rented          Individual         44   \n",
       "\n",
       "   Lower_Age Is_Spouse Health Indicator  Holding_Policy_Duration  \\\n",
       "0         36        No               X1                     14.0   \n",
       "1         22        No               X2                    999.0   \n",
       "2         32        No              999                      1.0   \n",
       "3         48        No               X1                     14.0   \n",
       "4         44        No               X2                      3.0   \n",
       "\n",
       "   Holding_Policy_Type  Reco_Policy_Cat  Reco_Policy_Premium  Response  \\\n",
       "0                  3.0               22              11628.0         0   \n",
       "1                999.0               22              30510.0         0   \n",
       "2                  1.0               19               7450.0         1   \n",
       "3                  3.0               19              17780.0         0   \n",
       "4                  1.0               16              10404.0         0   \n",
       "\n",
       "   new_user  \n",
       "0         0  \n",
       "1         0  \n",
       "2         0  \n",
       "3         0  \n",
       "4         0  "
      ],
      "text/html": "<div>\n<style scoped>\n    .dataframe tbody tr th:only-of-type {\n        vertical-align: middle;\n    }\n\n    .dataframe tbody tr th {\n        vertical-align: top;\n    }\n\n    .dataframe thead th {\n        text-align: right;\n    }\n</style>\n<table border=\"1\" class=\"dataframe\">\n  <thead>\n    <tr style=\"text-align: right;\">\n      <th></th>\n      <th>ID</th>\n      <th>City_Code</th>\n      <th>Region_Code</th>\n      <th>Accomodation_Type</th>\n      <th>Reco_Insurance_Type</th>\n      <th>Upper_Age</th>\n      <th>Lower_Age</th>\n      <th>Is_Spouse</th>\n      <th>Health Indicator</th>\n      <th>Holding_Policy_Duration</th>\n      <th>Holding_Policy_Type</th>\n      <th>Reco_Policy_Cat</th>\n      <th>Reco_Policy_Premium</th>\n      <th>Response</th>\n      <th>new_user</th>\n    </tr>\n  </thead>\n  <tbody>\n    <tr>\n      <th>0</th>\n      <td>1</td>\n      <td>C3</td>\n      <td>3213</td>\n      <td>Rented</td>\n      <td>Individual</td>\n      <td>36</td>\n      <td>36</td>\n      <td>No</td>\n      <td>X1</td>\n      <td>14.0</td>\n      <td>3.0</td>\n      <td>22</td>\n      <td>11628.0</td>\n      <td>0</td>\n      <td>0</td>\n    </tr>\n    <tr>\n      <th>1</th>\n      <td>2</td>\n      <td>C5</td>\n      <td>1117</td>\n      <td>Owned</td>\n      <td>Joint</td>\n      <td>75</td>\n      <td>22</td>\n      <td>No</td>\n      <td>X2</td>\n      <td>999.0</td>\n      <td>999.0</td>\n      <td>22</td>\n      <td>30510.0</td>\n      <td>0</td>\n      <td>0</td>\n    </tr>\n    <tr>\n      <th>2</th>\n      <td>3</td>\n      <td>C5</td>\n      <td>3732</td>\n      <td>Owned</td>\n      <td>Individual</td>\n      <td>32</td>\n      <td>32</td>\n      <td>No</td>\n      <td>999</td>\n      <td>1.0</td>\n      <td>1.0</td>\n      <td>19</td>\n      <td>7450.0</td>\n      <td>1</td>\n      <td>0</td>\n    </tr>\n    <tr>\n      <th>3</th>\n      <td>4</td>\n      <td>C24</td>\n      <td>4378</td>\n      <td>Owned</td>\n      <td>Joint</td>\n      <td>52</td>\n      <td>48</td>\n      <td>No</td>\n      <td>X1</td>\n      <td>14.0</td>\n      <td>3.0</td>\n      <td>19</td>\n      <td>17780.0</td>\n      <td>0</td>\n      <td>0</td>\n    </tr>\n    <tr>\n      <th>4</th>\n      <td>5</td>\n      <td>C8</td>\n      <td>2190</td>\n      <td>Rented</td>\n      <td>Individual</td>\n      <td>44</td>\n      <td>44</td>\n      <td>No</td>\n      <td>X2</td>\n      <td>3.0</td>\n      <td>1.0</td>\n      <td>16</td>\n      <td>10404.0</td>\n      <td>0</td>\n      <td>0</td>\n    </tr>\n  </tbody>\n</table>\n</div>"
     },
     "metadata": {},
     "execution_count": 22
    }
   ],
   "source": [
    "df.head()"
   ]
  },
  {
   "cell_type": "code",
   "execution_count": 23,
   "metadata": {},
   "outputs": [
    {
     "output_type": "stream",
     "name": "stdout",
     "text": [
      "<class 'pandas.core.frame.DataFrame'>\nRangeIndex: 50882 entries, 0 to 50881\nData columns (total 15 columns):\n #   Column                   Non-Null Count  Dtype  \n---  ------                   --------------  -----  \n 0   ID                       50882 non-null  int64  \n 1   City_Code                50882 non-null  object \n 2   Region_Code              50882 non-null  int64  \n 3   Accomodation_Type        50882 non-null  object \n 4   Reco_Insurance_Type      50882 non-null  object \n 5   Upper_Age                50882 non-null  int64  \n 6   Lower_Age                50882 non-null  int64  \n 7   Is_Spouse                50882 non-null  object \n 8   Health Indicator         50882 non-null  object \n 9   Holding_Policy_Duration  50882 non-null  float64\n 10  Holding_Policy_Type      50882 non-null  float64\n 11  Reco_Policy_Cat          50882 non-null  int64  \n 12  Reco_Policy_Premium      50882 non-null  float64\n 13  Response                 50882 non-null  int64  \n 14  new_user                 50882 non-null  int64  \ndtypes: float64(3), int64(7), object(5)\nmemory usage: 5.8+ MB\n"
     ]
    }
   ],
   "source": [
    "df.info()"
   ]
  },
  {
   "source": [],
   "cell_type": "markdown",
   "metadata": {}
  },
  {
   "cell_type": "code",
   "execution_count": 24,
   "metadata": {},
   "outputs": [],
   "source": [
    "cat_cols = ['City_Code', 'Region_Code', 'Accomodation_Type', 'Reco_Insurance_Type', 'Is_Spouse', 'Health_Indicator','Holding_Policy_Duration', 'Holding_Policy_Type', 'Reco_Policy_Cat','Response','Top_tier_cities','new_user']\n",
    "cont_cols = ['av_Age','Age_Bracket', 'Reco_Policy_Premium']"
   ]
  },
  {
   "cell_type": "code",
   "execution_count": 136,
   "metadata": {},
   "outputs": [
    {
     "output_type": "stream",
     "name": "stdout",
     "text": [
      "<class 'pandas.core.frame.DataFrame'>\nRangeIndex: 50882 entries, 0 to 50881\nData columns (total 16 columns):\n #   Column                   Non-Null Count  Dtype   \n---  ------                   --------------  -----   \n 0   City_Code                50882 non-null  object  \n 1   Region_Code              50882 non-null  int64   \n 2   Accomodation_Type        50882 non-null  object  \n 3   Reco_Insurance_Type      50882 non-null  object  \n 4   Is_Spouse                50882 non-null  object  \n 5   Health Indicator         50882 non-null  object  \n 6   Holding_Policy_Duration  50882 non-null  float64 \n 7   Holding_Policy_Type      50882 non-null  float64 \n 8   Reco_Policy_Cat          50882 non-null  int64   \n 9   Reco_Policy_Premium      50882 non-null  float64 \n 10  Response                 50882 non-null  int64   \n 11  new_user                 50882 non-null  int64   \n 12  Age_Bracket              50882 non-null  int64   \n 13  AgeBin                   50882 non-null  category\n 14  single_user              50882 non-null  int64   \n 15  Top_tier_cities          50882 non-null  int64   \ndtypes: category(1), float64(3), int64(7), object(5)\nmemory usage: 5.9+ MB\n"
     ]
    }
   ],
   "source": [
    "df.info()"
   ]
  },
  {
   "source": [
    "## UVA"
   ],
   "cell_type": "markdown",
   "metadata": {}
  },
  {
   "cell_type": "code",
   "execution_count": 132,
   "metadata": {},
   "outputs": [],
   "source": [
    "## cont plot\n",
    "def plot_cont(var, l=8,b=5):\n",
    "    plt.figure(figsize=(l, b))\n",
    "    sns.distplot(df[var])\n",
    "    plt.xlabel(var)"
   ]
  },
  {
   "cell_type": "code",
   "execution_count": 133,
   "metadata": {},
   "outputs": [],
   "source": [
    "## cat plot\n",
    "def plot_cat(var, l=8,b=5):\n",
    "    plt.figure( figsize = (l, b))\n",
    "    sns.countplot(df[var], order = df[var].value_counts().index)"
   ]
  },
  {
   "cell_type": "code",
   "execution_count": 134,
   "metadata": {},
   "outputs": [],
   "source": [
    "#kde plot\n",
    "def plot_cont_kde(var, l=8,b=5):\n",
    "    \n",
    "    mini = data[var].min()\n",
    "    maxi = data[var].max()\n",
    "    ran = data[var].max()-data[var].min()\n",
    "    mean = data[var].mean()\n",
    "    skew = data[var].skew()\n",
    "    kurt = data[var].kurtosis()\n",
    "    median = data[var].median()\n",
    "    st_dev = data[var].std()\n",
    "    points = mean-st_dev, mean+st_dev\n",
    "    \n",
    "    fig, axes=plt.subplots(1,2)\n",
    "    sns.boxplot(data=data,x=var, ax=axes[0])\n",
    "    sns.distplot(a=data[var], ax=axes[1], color='#ff4125')\n",
    "    sns.lineplot(points, [0,0], color = 'black', label = \"std_dev\")\n",
    "    sns.scatterplot([mini, maxi], [0,0], color = 'orange', label = \"min/max\")\n",
    "    sns.scatterplot([mean], [0], color = 'red', label = \"mean\")\n",
    "    sns.scatterplot([median], [0], color = 'blue', label = \"median\")\n",
    "    fig.set_size_inches(l,b)\n",
    "    plt.title('std_dev = {}; kurtosis = {};\\nskew = {}; range = {}\\nmean = {}; median =  {}'.format((round(points[0],2),round(points[1],2)),\n",
    "    round(kurt,2),round(skew,2),(round(mini,2),round(maxi,2),\n",
    "    round(ran,2)),round(mean,2), round(median,2)))"
   ]
  },
  {
   "cell_type": "code",
   "execution_count": 137,
   "metadata": {},
   "outputs": [
    {
     "output_type": "display_data",
     "data": {
      "text/plain": "<Figure size 576x360 with 1 Axes>",
      "image/svg+xml": "<?xml version=\"1.0\" encoding=\"utf-8\" standalone=\"no\"?>\r\n<!DOCTYPE svg PUBLIC \"-//W3C//DTD SVG 1.1//EN\"\r\n  \"http://www.w3.org/Graphics/SVG/1.1/DTD/svg11.dtd\">\r\n<!-- Created with matplotlib (https://matplotlib.org/) -->\r\n<svg height=\"316.834375pt\" version=\"1.1\" viewBox=\"0 0 497.38125 316.834375\" width=\"497.38125pt\" xmlns=\"http://www.w3.org/2000/svg\" xmlns:xlink=\"http://www.w3.org/1999/xlink\">\r\n <metadata>\r\n  <rdf:RDF xmlns:cc=\"http://creativecommons.org/ns#\" xmlns:dc=\"http://purl.org/dc/elements/1.1/\" xmlns:rdf=\"http://www.w3.org/1999/02/22-rdf-syntax-ns#\">\r\n   <cc:Work>\r\n    <dc:type rdf:resource=\"http://purl.org/dc/dcmitype/StillImage\"/>\r\n    <dc:date>2021-02-28T21:38:41.639606</dc:date>\r\n    <dc:format>image/svg+xml</dc:format>\r\n    <dc:creator>\r\n     <cc:Agent>\r\n      <dc:title>Matplotlib v3.3.4, https://matplotlib.org/</dc:title>\r\n     </cc:Agent>\r\n    </dc:creator>\r\n   </cc:Work>\r\n  </rdf:RDF>\r\n </metadata>\r\n <defs>\r\n  <style type=\"text/css\">*{stroke-linecap:butt;stroke-linejoin:round;}</style>\r\n </defs>\r\n <g id=\"figure_1\">\r\n  <g id=\"patch_1\">\r\n   <path d=\"M 0 316.834375 \r\nL 497.38125 316.834375 \r\nL 497.38125 0 \r\nL 0 0 \r\nz\r\n\" style=\"fill:none;\"/>\r\n  </g>\r\n  <g id=\"axes_1\">\r\n   <g id=\"patch_2\">\r\n    <path d=\"M 43.78125 279 \r\nL 490.18125 279 \r\nL 490.18125 7.2 \r\nL 43.78125 7.2 \r\nz\r\n\" style=\"fill:#ffffff;\"/>\r\n   </g>\r\n   <g id=\"patch_3\">\r\n    <path clip-path=\"url(#p6da257f825)\" d=\"M 79.088452 279 \r\nL 86.604164 279 \r\nL 86.604164 20.142857 \r\nL 79.088452 20.142857 \r\nz\r\n\" style=\"fill:#1f77b4;opacity:0.4;\"/>\r\n   </g>\r\n   <g id=\"patch_4\">\r\n    <path clip-path=\"url(#p6da257f825)\" d=\"M 86.604164 279 \r\nL 94.119876 279 \r\nL 94.119876 270.278942 \r\nL 86.604164 270.278942 \r\nz\r\n\" style=\"fill:#1f77b4;opacity:0.4;\"/>\r\n   </g>\r\n   <g id=\"patch_5\">\r\n    <path clip-path=\"url(#p6da257f825)\" d=\"M 94.119876 279 \r\nL 101.635588 279 \r\nL 101.635588 272.289613 \r\nL 94.119876 272.289613 \r\nz\r\n\" style=\"fill:#1f77b4;opacity:0.4;\"/>\r\n   </g>\r\n   <g id=\"patch_6\">\r\n    <path clip-path=\"url(#p6da257f825)\" d=\"M 101.635588 279 \r\nL 109.1513 279 \r\nL 109.1513 274.269727 \r\nL 101.635588 274.269727 \r\nz\r\n\" style=\"fill:#1f77b4;opacity:0.4;\"/>\r\n   </g>\r\n   <g id=\"patch_7\">\r\n    <path clip-path=\"url(#p6da257f825)\" d=\"M 109.1513 279 \r\nL 116.667012 279 \r\nL 116.667012 275.369791 \r\nL 109.1513 275.369791 \r\nz\r\n\" style=\"fill:#1f77b4;opacity:0.4;\"/>\r\n   </g>\r\n   <g id=\"patch_8\">\r\n    <path clip-path=\"url(#p6da257f825)\" d=\"M 116.667012 279 \r\nL 124.182724 279 \r\nL 124.182724 273.646358 \r\nL 116.667012 273.646358 \r\nz\r\n\" style=\"fill:#1f77b4;opacity:0.4;\"/>\r\n   </g>\r\n   <g id=\"patch_9\">\r\n    <path clip-path=\"url(#p6da257f825)\" d=\"M 124.182724 279 \r\nL 131.698436 279 \r\nL 131.698436 277.307125 \r\nL 124.182724 277.307125 \r\nz\r\n\" style=\"fill:#1f77b4;opacity:0.4;\"/>\r\n   </g>\r\n   <g id=\"patch_10\">\r\n    <path clip-path=\"url(#p6da257f825)\" d=\"M 131.698436 279 \r\nL 139.214148 279 \r\nL 139.214148 277.594363 \r\nL 131.698436 277.594363 \r\nz\r\n\" style=\"fill:#1f77b4;opacity:0.4;\"/>\r\n   </g>\r\n   <g id=\"patch_11\">\r\n    <path clip-path=\"url(#p6da257f825)\" d=\"M 139.214148 279 \r\nL 146.729859 279 \r\nL 146.729859 277.844933 \r\nL 139.214148 277.844933 \r\nz\r\n\" style=\"fill:#1f77b4;opacity:0.4;\"/>\r\n   </g>\r\n   <g id=\"patch_12\">\r\n    <path clip-path=\"url(#p6da257f825)\" d=\"M 146.729859 279 \r\nL 154.245571 279 \r\nL 154.245571 277.973274 \r\nL 146.729859 277.973274 \r\nz\r\n\" style=\"fill:#1f77b4;opacity:0.4;\"/>\r\n   </g>\r\n   <g id=\"patch_13\">\r\n    <path clip-path=\"url(#p6da257f825)\" d=\"M 154.245571 279 \r\nL 161.761283 279 \r\nL 161.761283 278.339962 \r\nL 154.245571 278.339962 \r\nz\r\n\" style=\"fill:#1f77b4;opacity:0.4;\"/>\r\n   </g>\r\n   <g id=\"patch_14\">\r\n    <path clip-path=\"url(#p6da257f825)\" d=\"M 161.761283 279 \r\nL 169.276995 279 \r\nL 169.276995 277.869379 \r\nL 161.761283 277.869379 \r\nz\r\n\" style=\"fill:#1f77b4;opacity:0.4;\"/>\r\n   </g>\r\n   <g id=\"patch_15\">\r\n    <path clip-path=\"url(#p6da257f825)\" d=\"M 169.276995 279 \r\nL 176.792707 279 \r\nL 176.792707 278.58442 \r\nL 169.276995 278.58442 \r\nz\r\n\" style=\"fill:#1f77b4;opacity:0.4;\"/>\r\n   </g>\r\n   <g id=\"patch_16\">\r\n    <path clip-path=\"url(#p6da257f825)\" d=\"M 176.792707 279 \r\nL 184.308419 279 \r\nL 184.308419 278.682204 \r\nL 176.792707 278.682204 \r\nz\r\n\" style=\"fill:#1f77b4;opacity:0.4;\"/>\r\n   </g>\r\n   <g id=\"patch_17\">\r\n    <path clip-path=\"url(#p6da257f825)\" d=\"M 184.308419 279 \r\nL 191.824131 279 \r\nL 191.824131 278.700538 \r\nL 184.308419 278.700538 \r\nz\r\n\" style=\"fill:#1f77b4;opacity:0.4;\"/>\r\n   </g>\r\n   <g id=\"patch_18\">\r\n    <path clip-path=\"url(#p6da257f825)\" d=\"M 191.824131 279 \r\nL 199.339843 279 \r\nL 199.339843 278.621089 \r\nL 191.824131 278.621089 \r\nz\r\n\" style=\"fill:#1f77b4;opacity:0.4;\"/>\r\n   </g>\r\n   <g id=\"patch_19\">\r\n    <path clip-path=\"url(#p6da257f825)\" d=\"M 199.339843 279 \r\nL 206.855555 279 \r\nL 206.855555 278.107726 \r\nL 199.339843 278.107726 \r\nz\r\n\" style=\"fill:#1f77b4;opacity:0.4;\"/>\r\n   </g>\r\n   <g id=\"patch_20\">\r\n    <path clip-path=\"url(#p6da257f825)\" d=\"M 206.855555 279 \r\nL 214.371267 279 \r\nL 214.371267 278.462191 \r\nL 206.855555 278.462191 \r\nz\r\n\" style=\"fill:#1f77b4;opacity:0.4;\"/>\r\n   </g>\r\n   <g id=\"patch_21\">\r\n    <path clip-path=\"url(#p6da257f825)\" d=\"M 214.371267 279 \r\nL 221.886979 279 \r\nL 221.886979 278.382742 \r\nL 214.371267 278.382742 \r\nz\r\n\" style=\"fill:#1f77b4;opacity:0.4;\"/>\r\n   </g>\r\n   <g id=\"patch_22\">\r\n    <path clip-path=\"url(#p6da257f825)\" d=\"M 221.886979 279 \r\nL 229.40269 279 \r\nL 229.40269 278.327739 \r\nL 221.886979 278.327739 \r\nz\r\n\" style=\"fill:#1f77b4;opacity:0.4;\"/>\r\n   </g>\r\n   <g id=\"patch_23\">\r\n    <path clip-path=\"url(#p6da257f825)\" d=\"M 229.40269 279 \r\nL 236.918402 279 \r\nL 236.918402 278.272736 \r\nL 229.40269 278.272736 \r\nz\r\n\" style=\"fill:#1f77b4;opacity:0.4;\"/>\r\n   </g>\r\n   <g id=\"patch_24\">\r\n    <path clip-path=\"url(#p6da257f825)\" d=\"M 236.918402 279 \r\nL 244.434114 279 \r\nL 244.434114 278.272736 \r\nL 236.918402 278.272736 \r\nz\r\n\" style=\"fill:#1f77b4;opacity:0.4;\"/>\r\n   </g>\r\n   <g id=\"patch_25\">\r\n    <path clip-path=\"url(#p6da257f825)\" d=\"M 244.434114 279 \r\nL 251.949826 279 \r\nL 251.949826 277.423242 \r\nL 244.434114 277.423242 \r\nz\r\n\" style=\"fill:#1f77b4;opacity:0.4;\"/>\r\n   </g>\r\n   <g id=\"patch_26\">\r\n    <path clip-path=\"url(#p6da257f825)\" d=\"M 251.949826 279 \r\nL 259.465538 279 \r\nL 259.465538 278.339962 \r\nL 251.949826 278.339962 \r\nz\r\n\" style=\"fill:#1f77b4;opacity:0.4;\"/>\r\n   </g>\r\n   <g id=\"patch_27\">\r\n    <path clip-path=\"url(#p6da257f825)\" d=\"M 259.465538 279 \r\nL 266.98125 279 \r\nL 266.98125 278.174952 \r\nL 259.465538 278.174952 \r\nz\r\n\" style=\"fill:#1f77b4;opacity:0.4;\"/>\r\n   </g>\r\n   <g id=\"patch_28\">\r\n    <path clip-path=\"url(#p6da257f825)\" d=\"M 266.98125 279 \r\nL 274.496962 279 \r\nL 274.496962 278.229956 \r\nL 266.98125 278.229956 \r\nz\r\n\" style=\"fill:#1f77b4;opacity:0.4;\"/>\r\n   </g>\r\n   <g id=\"patch_29\">\r\n    <path clip-path=\"url(#p6da257f825)\" d=\"M 274.496962 279 \r\nL 282.012674 279 \r\nL 282.012674 278.297182 \r\nL 274.496962 278.297182 \r\nz\r\n\" style=\"fill:#1f77b4;opacity:0.4;\"/>\r\n   </g>\r\n   <g id=\"patch_30\">\r\n    <path clip-path=\"url(#p6da257f825)\" d=\"M 282.012674 279 \r\nL 289.528386 279 \r\nL 289.528386 277.728816 \r\nL 282.012674 277.728816 \r\nz\r\n\" style=\"fill:#1f77b4;opacity:0.4;\"/>\r\n   </g>\r\n   <g id=\"patch_31\">\r\n    <path clip-path=\"url(#p6da257f825)\" d=\"M 289.528386 279 \r\nL 297.044098 279 \r\nL 297.044098 278.394965 \r\nL 289.528386 278.394965 \r\nz\r\n\" style=\"fill:#1f77b4;opacity:0.4;\"/>\r\n   </g>\r\n   <g id=\"patch_32\">\r\n    <path clip-path=\"url(#p6da257f825)\" d=\"M 297.044098 279 \r\nL 304.55981 279 \r\nL 304.55981 278.401077 \r\nL 297.044098 278.401077 \r\nz\r\n\" style=\"fill:#1f77b4;opacity:0.4;\"/>\r\n   </g>\r\n   <g id=\"patch_33\">\r\n    <path clip-path=\"url(#p6da257f825)\" d=\"M 304.55981 279 \r\nL 312.075521 279 \r\nL 312.075521 278.486637 \r\nL 304.55981 278.486637 \r\nz\r\n\" style=\"fill:#1f77b4;opacity:0.4;\"/>\r\n   </g>\r\n   <g id=\"patch_34\">\r\n    <path clip-path=\"url(#p6da257f825)\" d=\"M 312.075521 279 \r\nL 319.591233 279 \r\nL 319.591233 278.566086 \r\nL 312.075521 278.566086 \r\nz\r\n\" style=\"fill:#1f77b4;opacity:0.4;\"/>\r\n   </g>\r\n   <g id=\"patch_35\">\r\n    <path clip-path=\"url(#p6da257f825)\" d=\"M 319.591233 279 \r\nL 327.106945 279 \r\nL 327.106945 278.676092 \r\nL 319.591233 278.676092 \r\nz\r\n\" style=\"fill:#1f77b4;opacity:0.4;\"/>\r\n   </g>\r\n   <g id=\"patch_36\">\r\n    <path clip-path=\"url(#p6da257f825)\" d=\"M 327.106945 279 \r\nL 334.622657 279 \r\nL 334.622657 278.468303 \r\nL 327.106945 278.468303 \r\nz\r\n\" style=\"fill:#1f77b4;opacity:0.4;\"/>\r\n   </g>\r\n   <g id=\"patch_37\">\r\n    <path clip-path=\"url(#p6da257f825)\" d=\"M 334.622657 279 \r\nL 342.138369 279 \r\nL 342.138369 278.841102 \r\nL 334.622657 278.841102 \r\nz\r\n\" style=\"fill:#1f77b4;opacity:0.4;\"/>\r\n   </g>\r\n   <g id=\"patch_38\">\r\n    <path clip-path=\"url(#p6da257f825)\" d=\"M 342.138369 279 \r\nL 349.654081 279 \r\nL 349.654081 278.810545 \r\nL 342.138369 278.810545 \r\nz\r\n\" style=\"fill:#1f77b4;opacity:0.4;\"/>\r\n   </g>\r\n   <g id=\"patch_39\">\r\n    <path clip-path=\"url(#p6da257f825)\" d=\"M 349.654081 279 \r\nL 357.169793 279 \r\nL 357.169793 278.853325 \r\nL 349.654081 278.853325 \r\nz\r\n\" style=\"fill:#1f77b4;opacity:0.4;\"/>\r\n   </g>\r\n   <g id=\"patch_40\">\r\n    <path clip-path=\"url(#p6da257f825)\" d=\"M 357.169793 279 \r\nL 364.685505 279 \r\nL 364.685505 278.902217 \r\nL 357.169793 278.902217 \r\nz\r\n\" style=\"fill:#1f77b4;opacity:0.4;\"/>\r\n   </g>\r\n   <g id=\"patch_41\">\r\n    <path clip-path=\"url(#p6da257f825)\" d=\"M 364.685505 279 \r\nL 372.201217 279 \r\nL 372.201217 278.767764 \r\nL 364.685505 278.767764 \r\nz\r\n\" style=\"fill:#1f77b4;opacity:0.4;\"/>\r\n   </g>\r\n   <g id=\"patch_42\">\r\n    <path clip-path=\"url(#p6da257f825)\" d=\"M 372.201217 279 \r\nL 379.716929 279 \r\nL 379.716929 278.896105 \r\nL 372.201217 278.896105 \r\nz\r\n\" style=\"fill:#1f77b4;opacity:0.4;\"/>\r\n   </g>\r\n   <g id=\"patch_43\">\r\n    <path clip-path=\"url(#p6da257f825)\" d=\"M 379.716929 279 \r\nL 387.232641 279 \r\nL 387.232641 278.908328 \r\nL 379.716929 278.908328 \r\nz\r\n\" style=\"fill:#1f77b4;opacity:0.4;\"/>\r\n   </g>\r\n   <g id=\"patch_44\">\r\n    <path clip-path=\"url(#p6da257f825)\" d=\"M 387.232641 279 \r\nL 394.748352 279 \r\nL 394.748352 278.926662 \r\nL 387.232641 278.926662 \r\nz\r\n\" style=\"fill:#1f77b4;opacity:0.4;\"/>\r\n   </g>\r\n   <g id=\"patch_45\">\r\n    <path clip-path=\"url(#p6da257f825)\" d=\"M 394.748352 279 \r\nL 402.264064 279 \r\nL 402.264064 278.920551 \r\nL 394.748352 278.920551 \r\nz\r\n\" style=\"fill:#1f77b4;opacity:0.4;\"/>\r\n   </g>\r\n   <g id=\"patch_46\">\r\n    <path clip-path=\"url(#p6da257f825)\" d=\"M 402.264064 279 \r\nL 409.779776 279 \r\nL 409.779776 278.969443 \r\nL 402.264064 278.969443 \r\nz\r\n\" style=\"fill:#1f77b4;opacity:0.4;\"/>\r\n   </g>\r\n   <g id=\"patch_47\">\r\n    <path clip-path=\"url(#p6da257f825)\" d=\"M 409.779776 279 \r\nL 417.295488 279 \r\nL 417.295488 278.871659 \r\nL 409.779776 278.871659 \r\nz\r\n\" style=\"fill:#1f77b4;opacity:0.4;\"/>\r\n   </g>\r\n   <g id=\"patch_48\">\r\n    <path clip-path=\"url(#p6da257f825)\" d=\"M 417.295488 279 \r\nL 424.8112 279 \r\nL 424.8112 278.975554 \r\nL 417.295488 278.975554 \r\nz\r\n\" style=\"fill:#1f77b4;opacity:0.4;\"/>\r\n   </g>\r\n   <g id=\"patch_49\">\r\n    <path clip-path=\"url(#p6da257f825)\" d=\"M 424.8112 279 \r\nL 432.326912 279 \r\nL 432.326912 278.95722 \r\nL 424.8112 278.95722 \r\nz\r\n\" style=\"fill:#1f77b4;opacity:0.4;\"/>\r\n   </g>\r\n   <g id=\"patch_50\">\r\n    <path clip-path=\"url(#p6da257f825)\" d=\"M 432.326912 279 \r\nL 439.842624 279 \r\nL 439.842624 278.969443 \r\nL 432.326912 278.969443 \r\nz\r\n\" style=\"fill:#1f77b4;opacity:0.4;\"/>\r\n   </g>\r\n   <g id=\"patch_51\">\r\n    <path clip-path=\"url(#p6da257f825)\" d=\"M 439.842624 279 \r\nL 447.358336 279 \r\nL 447.358336 278.963331 \r\nL 439.842624 278.963331 \r\nz\r\n\" style=\"fill:#1f77b4;opacity:0.4;\"/>\r\n   </g>\r\n   <g id=\"patch_52\">\r\n    <path clip-path=\"url(#p6da257f825)\" d=\"M 447.358336 279 \r\nL 454.874048 279 \r\nL 454.874048 278.975554 \r\nL 447.358336 278.975554 \r\nz\r\n\" style=\"fill:#1f77b4;opacity:0.4;\"/>\r\n   </g>\r\n   <g id=\"matplotlib.axis_1\">\r\n    <g id=\"xtick_1\">\r\n     <g id=\"line2d_1\">\r\n      <defs>\r\n       <path d=\"M 0 0 \r\nL 0 3.5 \r\n\" id=\"mc064a87f66\" style=\"stroke:#000000;stroke-width:0.8;\"/>\r\n      </defs>\r\n      <g>\r\n       <use style=\"stroke:#000000;stroke-width:0.8;\" x=\"79.088452\" xlink:href=\"#mc064a87f66\" y=\"279\"/>\r\n      </g>\r\n     </g>\r\n     <g id=\"text_1\">\r\n      <!-- 0 -->\r\n      <g transform=\"translate(75.907202 293.598437)scale(0.1 -0.1)\">\r\n       <defs>\r\n        <path d=\"M 31.78125 66.40625 \r\nQ 24.171875 66.40625 20.328125 58.90625 \r\nQ 16.5 51.421875 16.5 36.375 \r\nQ 16.5 21.390625 20.328125 13.890625 \r\nQ 24.171875 6.390625 31.78125 6.390625 \r\nQ 39.453125 6.390625 43.28125 13.890625 \r\nQ 47.125 21.390625 47.125 36.375 \r\nQ 47.125 51.421875 43.28125 58.90625 \r\nQ 39.453125 66.40625 31.78125 66.40625 \r\nz\r\nM 31.78125 74.21875 \r\nQ 44.046875 74.21875 50.515625 64.515625 \r\nQ 56.984375 54.828125 56.984375 36.375 \r\nQ 56.984375 17.96875 50.515625 8.265625 \r\nQ 44.046875 -1.421875 31.78125 -1.421875 \r\nQ 19.53125 -1.421875 13.0625 8.265625 \r\nQ 6.59375 17.96875 6.59375 36.375 \r\nQ 6.59375 54.828125 13.0625 64.515625 \r\nQ 19.53125 74.21875 31.78125 74.21875 \r\nz\r\n\" id=\"DejaVuSans-48\"/>\r\n       </defs>\r\n       <use xlink:href=\"#DejaVuSans-48\"/>\r\n      </g>\r\n     </g>\r\n    </g>\r\n    <g id=\"xtick_2\">\r\n     <g id=\"line2d_2\">\r\n      <g>\r\n       <use style=\"stroke:#000000;stroke-width:0.8;\" x=\"142.780926\" xlink:href=\"#mc064a87f66\" y=\"279\"/>\r\n      </g>\r\n     </g>\r\n     <g id=\"text_2\">\r\n      <!-- 10 -->\r\n      <g transform=\"translate(136.418426 293.598437)scale(0.1 -0.1)\">\r\n       <defs>\r\n        <path d=\"M 12.40625 8.296875 \r\nL 28.515625 8.296875 \r\nL 28.515625 63.921875 \r\nL 10.984375 60.40625 \r\nL 10.984375 69.390625 \r\nL 28.421875 72.90625 \r\nL 38.28125 72.90625 \r\nL 38.28125 8.296875 \r\nL 54.390625 8.296875 \r\nL 54.390625 0 \r\nL 12.40625 0 \r\nz\r\n\" id=\"DejaVuSans-49\"/>\r\n       </defs>\r\n       <use xlink:href=\"#DejaVuSans-49\"/>\r\n       <use x=\"63.623047\" xlink:href=\"#DejaVuSans-48\"/>\r\n      </g>\r\n     </g>\r\n    </g>\r\n    <g id=\"xtick_3\">\r\n     <g id=\"line2d_3\">\r\n      <g>\r\n       <use style=\"stroke:#000000;stroke-width:0.8;\" x=\"206.4734\" xlink:href=\"#mc064a87f66\" y=\"279\"/>\r\n      </g>\r\n     </g>\r\n     <g id=\"text_3\">\r\n      <!-- 20 -->\r\n      <g transform=\"translate(200.1109 293.598437)scale(0.1 -0.1)\">\r\n       <defs>\r\n        <path d=\"M 19.1875 8.296875 \r\nL 53.609375 8.296875 \r\nL 53.609375 0 \r\nL 7.328125 0 \r\nL 7.328125 8.296875 \r\nQ 12.9375 14.109375 22.625 23.890625 \r\nQ 32.328125 33.6875 34.8125 36.53125 \r\nQ 39.546875 41.84375 41.421875 45.53125 \r\nQ 43.3125 49.21875 43.3125 52.78125 \r\nQ 43.3125 58.59375 39.234375 62.25 \r\nQ 35.15625 65.921875 28.609375 65.921875 \r\nQ 23.96875 65.921875 18.8125 64.3125 \r\nQ 13.671875 62.703125 7.8125 59.421875 \r\nL 7.8125 69.390625 \r\nQ 13.765625 71.78125 18.9375 73 \r\nQ 24.125 74.21875 28.421875 74.21875 \r\nQ 39.75 74.21875 46.484375 68.546875 \r\nQ 53.21875 62.890625 53.21875 53.421875 \r\nQ 53.21875 48.921875 51.53125 44.890625 \r\nQ 49.859375 40.875 45.40625 35.40625 \r\nQ 44.1875 33.984375 37.640625 27.21875 \r\nQ 31.109375 20.453125 19.1875 8.296875 \r\nz\r\n\" id=\"DejaVuSans-50\"/>\r\n       </defs>\r\n       <use xlink:href=\"#DejaVuSans-50\"/>\r\n       <use x=\"63.623047\" xlink:href=\"#DejaVuSans-48\"/>\r\n      </g>\r\n     </g>\r\n    </g>\r\n    <g id=\"xtick_4\">\r\n     <g id=\"line2d_4\">\r\n      <g>\r\n       <use style=\"stroke:#000000;stroke-width:0.8;\" x=\"270.165874\" xlink:href=\"#mc064a87f66\" y=\"279\"/>\r\n      </g>\r\n     </g>\r\n     <g id=\"text_4\">\r\n      <!-- 30 -->\r\n      <g transform=\"translate(263.803374 293.598437)scale(0.1 -0.1)\">\r\n       <defs>\r\n        <path d=\"M 40.578125 39.3125 \r\nQ 47.65625 37.796875 51.625 33 \r\nQ 55.609375 28.21875 55.609375 21.1875 \r\nQ 55.609375 10.40625 48.1875 4.484375 \r\nQ 40.765625 -1.421875 27.09375 -1.421875 \r\nQ 22.515625 -1.421875 17.65625 -0.515625 \r\nQ 12.796875 0.390625 7.625 2.203125 \r\nL 7.625 11.71875 \r\nQ 11.71875 9.328125 16.59375 8.109375 \r\nQ 21.484375 6.890625 26.8125 6.890625 \r\nQ 36.078125 6.890625 40.9375 10.546875 \r\nQ 45.796875 14.203125 45.796875 21.1875 \r\nQ 45.796875 27.640625 41.28125 31.265625 \r\nQ 36.765625 34.90625 28.71875 34.90625 \r\nL 20.21875 34.90625 \r\nL 20.21875 43.015625 \r\nL 29.109375 43.015625 \r\nQ 36.375 43.015625 40.234375 45.921875 \r\nQ 44.09375 48.828125 44.09375 54.296875 \r\nQ 44.09375 59.90625 40.109375 62.90625 \r\nQ 36.140625 65.921875 28.71875 65.921875 \r\nQ 24.65625 65.921875 20.015625 65.03125 \r\nQ 15.375 64.15625 9.8125 62.3125 \r\nL 9.8125 71.09375 \r\nQ 15.4375 72.65625 20.34375 73.4375 \r\nQ 25.25 74.21875 29.59375 74.21875 \r\nQ 40.828125 74.21875 47.359375 69.109375 \r\nQ 53.90625 64.015625 53.90625 55.328125 \r\nQ 53.90625 49.265625 50.4375 45.09375 \r\nQ 46.96875 40.921875 40.578125 39.3125 \r\nz\r\n\" id=\"DejaVuSans-51\"/>\r\n       </defs>\r\n       <use xlink:href=\"#DejaVuSans-51\"/>\r\n       <use x=\"63.623047\" xlink:href=\"#DejaVuSans-48\"/>\r\n      </g>\r\n     </g>\r\n    </g>\r\n    <g id=\"xtick_5\">\r\n     <g id=\"line2d_5\">\r\n      <g>\r\n       <use style=\"stroke:#000000;stroke-width:0.8;\" x=\"333.858347\" xlink:href=\"#mc064a87f66\" y=\"279\"/>\r\n      </g>\r\n     </g>\r\n     <g id=\"text_5\">\r\n      <!-- 40 -->\r\n      <g transform=\"translate(327.495847 293.598437)scale(0.1 -0.1)\">\r\n       <defs>\r\n        <path d=\"M 37.796875 64.3125 \r\nL 12.890625 25.390625 \r\nL 37.796875 25.390625 \r\nz\r\nM 35.203125 72.90625 \r\nL 47.609375 72.90625 \r\nL 47.609375 25.390625 \r\nL 58.015625 25.390625 \r\nL 58.015625 17.1875 \r\nL 47.609375 17.1875 \r\nL 47.609375 0 \r\nL 37.796875 0 \r\nL 37.796875 17.1875 \r\nL 4.890625 17.1875 \r\nL 4.890625 26.703125 \r\nz\r\n\" id=\"DejaVuSans-52\"/>\r\n       </defs>\r\n       <use xlink:href=\"#DejaVuSans-52\"/>\r\n       <use x=\"63.623047\" xlink:href=\"#DejaVuSans-48\"/>\r\n      </g>\r\n     </g>\r\n    </g>\r\n    <g id=\"xtick_6\">\r\n     <g id=\"line2d_6\">\r\n      <g>\r\n       <use style=\"stroke:#000000;stroke-width:0.8;\" x=\"397.550821\" xlink:href=\"#mc064a87f66\" y=\"279\"/>\r\n      </g>\r\n     </g>\r\n     <g id=\"text_6\">\r\n      <!-- 50 -->\r\n      <g transform=\"translate(391.188321 293.598437)scale(0.1 -0.1)\">\r\n       <defs>\r\n        <path d=\"M 10.796875 72.90625 \r\nL 49.515625 72.90625 \r\nL 49.515625 64.59375 \r\nL 19.828125 64.59375 \r\nL 19.828125 46.734375 \r\nQ 21.96875 47.46875 24.109375 47.828125 \r\nQ 26.265625 48.1875 28.421875 48.1875 \r\nQ 40.625 48.1875 47.75 41.5 \r\nQ 54.890625 34.8125 54.890625 23.390625 \r\nQ 54.890625 11.625 47.5625 5.09375 \r\nQ 40.234375 -1.421875 26.90625 -1.421875 \r\nQ 22.3125 -1.421875 17.546875 -0.640625 \r\nQ 12.796875 0.140625 7.71875 1.703125 \r\nL 7.71875 11.625 \r\nQ 12.109375 9.234375 16.796875 8.0625 \r\nQ 21.484375 6.890625 26.703125 6.890625 \r\nQ 35.15625 6.890625 40.078125 11.328125 \r\nQ 45.015625 15.765625 45.015625 23.390625 \r\nQ 45.015625 31 40.078125 35.4375 \r\nQ 35.15625 39.890625 26.703125 39.890625 \r\nQ 22.75 39.890625 18.8125 39.015625 \r\nQ 14.890625 38.140625 10.796875 36.28125 \r\nz\r\n\" id=\"DejaVuSans-53\"/>\r\n       </defs>\r\n       <use xlink:href=\"#DejaVuSans-53\"/>\r\n       <use x=\"63.623047\" xlink:href=\"#DejaVuSans-48\"/>\r\n      </g>\r\n     </g>\r\n    </g>\r\n    <g id=\"xtick_7\">\r\n     <g id=\"line2d_7\">\r\n      <g>\r\n       <use style=\"stroke:#000000;stroke-width:0.8;\" x=\"461.243295\" xlink:href=\"#mc064a87f66\" y=\"279\"/>\r\n      </g>\r\n     </g>\r\n     <g id=\"text_7\">\r\n      <!-- 60 -->\r\n      <g transform=\"translate(454.880795 293.598437)scale(0.1 -0.1)\">\r\n       <defs>\r\n        <path d=\"M 33.015625 40.375 \r\nQ 26.375 40.375 22.484375 35.828125 \r\nQ 18.609375 31.296875 18.609375 23.390625 \r\nQ 18.609375 15.53125 22.484375 10.953125 \r\nQ 26.375 6.390625 33.015625 6.390625 \r\nQ 39.65625 6.390625 43.53125 10.953125 \r\nQ 47.40625 15.53125 47.40625 23.390625 \r\nQ 47.40625 31.296875 43.53125 35.828125 \r\nQ 39.65625 40.375 33.015625 40.375 \r\nz\r\nM 52.59375 71.296875 \r\nL 52.59375 62.3125 \r\nQ 48.875 64.0625 45.09375 64.984375 \r\nQ 41.3125 65.921875 37.59375 65.921875 \r\nQ 27.828125 65.921875 22.671875 59.328125 \r\nQ 17.53125 52.734375 16.796875 39.40625 \r\nQ 19.671875 43.65625 24.015625 45.921875 \r\nQ 28.375 48.1875 33.59375 48.1875 \r\nQ 44.578125 48.1875 50.953125 41.515625 \r\nQ 57.328125 34.859375 57.328125 23.390625 \r\nQ 57.328125 12.15625 50.6875 5.359375 \r\nQ 44.046875 -1.421875 33.015625 -1.421875 \r\nQ 20.359375 -1.421875 13.671875 8.265625 \r\nQ 6.984375 17.96875 6.984375 36.375 \r\nQ 6.984375 53.65625 15.1875 63.9375 \r\nQ 23.390625 74.21875 37.203125 74.21875 \r\nQ 40.921875 74.21875 44.703125 73.484375 \r\nQ 48.484375 72.75 52.59375 71.296875 \r\nz\r\n\" id=\"DejaVuSans-54\"/>\r\n       </defs>\r\n       <use xlink:href=\"#DejaVuSans-54\"/>\r\n       <use x=\"63.623047\" xlink:href=\"#DejaVuSans-48\"/>\r\n      </g>\r\n     </g>\r\n    </g>\r\n    <g id=\"text_8\">\r\n     <!-- Age_Bracket -->\r\n     <g transform=\"translate(235.760156 307.276562)scale(0.1 -0.1)\">\r\n      <defs>\r\n       <path d=\"M 34.1875 63.1875 \r\nL 20.796875 26.90625 \r\nL 47.609375 26.90625 \r\nz\r\nM 28.609375 72.90625 \r\nL 39.796875 72.90625 \r\nL 67.578125 0 \r\nL 57.328125 0 \r\nL 50.6875 18.703125 \r\nL 17.828125 18.703125 \r\nL 11.1875 0 \r\nL 0.78125 0 \r\nz\r\n\" id=\"DejaVuSans-65\"/>\r\n       <path d=\"M 45.40625 27.984375 \r\nQ 45.40625 37.75 41.375 43.109375 \r\nQ 37.359375 48.484375 30.078125 48.484375 \r\nQ 22.859375 48.484375 18.828125 43.109375 \r\nQ 14.796875 37.75 14.796875 27.984375 \r\nQ 14.796875 18.265625 18.828125 12.890625 \r\nQ 22.859375 7.515625 30.078125 7.515625 \r\nQ 37.359375 7.515625 41.375 12.890625 \r\nQ 45.40625 18.265625 45.40625 27.984375 \r\nz\r\nM 54.390625 6.78125 \r\nQ 54.390625 -7.171875 48.1875 -13.984375 \r\nQ 42 -20.796875 29.203125 -20.796875 \r\nQ 24.46875 -20.796875 20.265625 -20.09375 \r\nQ 16.0625 -19.390625 12.109375 -17.921875 \r\nL 12.109375 -9.1875 \r\nQ 16.0625 -11.328125 19.921875 -12.34375 \r\nQ 23.78125 -13.375 27.78125 -13.375 \r\nQ 36.625 -13.375 41.015625 -8.765625 \r\nQ 45.40625 -4.15625 45.40625 5.171875 \r\nL 45.40625 9.625 \r\nQ 42.625 4.78125 38.28125 2.390625 \r\nQ 33.9375 0 27.875 0 \r\nQ 17.828125 0 11.671875 7.65625 \r\nQ 5.515625 15.328125 5.515625 27.984375 \r\nQ 5.515625 40.671875 11.671875 48.328125 \r\nQ 17.828125 56 27.875 56 \r\nQ 33.9375 56 38.28125 53.609375 \r\nQ 42.625 51.21875 45.40625 46.390625 \r\nL 45.40625 54.6875 \r\nL 54.390625 54.6875 \r\nz\r\n\" id=\"DejaVuSans-103\"/>\r\n       <path d=\"M 56.203125 29.59375 \r\nL 56.203125 25.203125 \r\nL 14.890625 25.203125 \r\nQ 15.484375 15.921875 20.484375 11.0625 \r\nQ 25.484375 6.203125 34.421875 6.203125 \r\nQ 39.59375 6.203125 44.453125 7.46875 \r\nQ 49.3125 8.734375 54.109375 11.28125 \r\nL 54.109375 2.78125 \r\nQ 49.265625 0.734375 44.1875 -0.34375 \r\nQ 39.109375 -1.421875 33.890625 -1.421875 \r\nQ 20.796875 -1.421875 13.15625 6.1875 \r\nQ 5.515625 13.8125 5.515625 26.8125 \r\nQ 5.515625 40.234375 12.765625 48.109375 \r\nQ 20.015625 56 32.328125 56 \r\nQ 43.359375 56 49.78125 48.890625 \r\nQ 56.203125 41.796875 56.203125 29.59375 \r\nz\r\nM 47.21875 32.234375 \r\nQ 47.125 39.59375 43.09375 43.984375 \r\nQ 39.0625 48.390625 32.421875 48.390625 \r\nQ 24.90625 48.390625 20.390625 44.140625 \r\nQ 15.875 39.890625 15.1875 32.171875 \r\nz\r\n\" id=\"DejaVuSans-101\"/>\r\n       <path d=\"M 50.984375 -16.609375 \r\nL 50.984375 -23.578125 \r\nL -0.984375 -23.578125 \r\nL -0.984375 -16.609375 \r\nz\r\n\" id=\"DejaVuSans-95\"/>\r\n       <path d=\"M 19.671875 34.8125 \r\nL 19.671875 8.109375 \r\nL 35.5 8.109375 \r\nQ 43.453125 8.109375 47.28125 11.40625 \r\nQ 51.125 14.703125 51.125 21.484375 \r\nQ 51.125 28.328125 47.28125 31.5625 \r\nQ 43.453125 34.8125 35.5 34.8125 \r\nz\r\nM 19.671875 64.796875 \r\nL 19.671875 42.828125 \r\nL 34.28125 42.828125 \r\nQ 41.5 42.828125 45.03125 45.53125 \r\nQ 48.578125 48.25 48.578125 53.8125 \r\nQ 48.578125 59.328125 45.03125 62.0625 \r\nQ 41.5 64.796875 34.28125 64.796875 \r\nz\r\nM 9.8125 72.90625 \r\nL 35.015625 72.90625 \r\nQ 46.296875 72.90625 52.390625 68.21875 \r\nQ 58.5 63.53125 58.5 54.890625 \r\nQ 58.5 48.1875 55.375 44.234375 \r\nQ 52.25 40.28125 46.1875 39.3125 \r\nQ 53.46875 37.75 57.5 32.78125 \r\nQ 61.53125 27.828125 61.53125 20.40625 \r\nQ 61.53125 10.640625 54.890625 5.3125 \r\nQ 48.25 0 35.984375 0 \r\nL 9.8125 0 \r\nz\r\n\" id=\"DejaVuSans-66\"/>\r\n       <path d=\"M 41.109375 46.296875 \r\nQ 39.59375 47.171875 37.8125 47.578125 \r\nQ 36.03125 48 33.890625 48 \r\nQ 26.265625 48 22.1875 43.046875 \r\nQ 18.109375 38.09375 18.109375 28.8125 \r\nL 18.109375 0 \r\nL 9.078125 0 \r\nL 9.078125 54.6875 \r\nL 18.109375 54.6875 \r\nL 18.109375 46.1875 \r\nQ 20.953125 51.171875 25.484375 53.578125 \r\nQ 30.03125 56 36.53125 56 \r\nQ 37.453125 56 38.578125 55.875 \r\nQ 39.703125 55.765625 41.0625 55.515625 \r\nz\r\n\" id=\"DejaVuSans-114\"/>\r\n       <path d=\"M 34.28125 27.484375 \r\nQ 23.390625 27.484375 19.1875 25 \r\nQ 14.984375 22.515625 14.984375 16.5 \r\nQ 14.984375 11.71875 18.140625 8.90625 \r\nQ 21.296875 6.109375 26.703125 6.109375 \r\nQ 34.1875 6.109375 38.703125 11.40625 \r\nQ 43.21875 16.703125 43.21875 25.484375 \r\nL 43.21875 27.484375 \r\nz\r\nM 52.203125 31.203125 \r\nL 52.203125 0 \r\nL 43.21875 0 \r\nL 43.21875 8.296875 \r\nQ 40.140625 3.328125 35.546875 0.953125 \r\nQ 30.953125 -1.421875 24.3125 -1.421875 \r\nQ 15.921875 -1.421875 10.953125 3.296875 \r\nQ 6 8.015625 6 15.921875 \r\nQ 6 25.140625 12.171875 29.828125 \r\nQ 18.359375 34.515625 30.609375 34.515625 \r\nL 43.21875 34.515625 \r\nL 43.21875 35.40625 \r\nQ 43.21875 41.609375 39.140625 45 \r\nQ 35.0625 48.390625 27.6875 48.390625 \r\nQ 23 48.390625 18.546875 47.265625 \r\nQ 14.109375 46.140625 10.015625 43.890625 \r\nL 10.015625 52.203125 \r\nQ 14.9375 54.109375 19.578125 55.046875 \r\nQ 24.21875 56 28.609375 56 \r\nQ 40.484375 56 46.34375 49.84375 \r\nQ 52.203125 43.703125 52.203125 31.203125 \r\nz\r\n\" id=\"DejaVuSans-97\"/>\r\n       <path d=\"M 48.78125 52.59375 \r\nL 48.78125 44.1875 \r\nQ 44.96875 46.296875 41.140625 47.34375 \r\nQ 37.3125 48.390625 33.40625 48.390625 \r\nQ 24.65625 48.390625 19.8125 42.84375 \r\nQ 14.984375 37.3125 14.984375 27.296875 \r\nQ 14.984375 17.28125 19.8125 11.734375 \r\nQ 24.65625 6.203125 33.40625 6.203125 \r\nQ 37.3125 6.203125 41.140625 7.25 \r\nQ 44.96875 8.296875 48.78125 10.40625 \r\nL 48.78125 2.09375 \r\nQ 45.015625 0.34375 40.984375 -0.53125 \r\nQ 36.96875 -1.421875 32.421875 -1.421875 \r\nQ 20.0625 -1.421875 12.78125 6.34375 \r\nQ 5.515625 14.109375 5.515625 27.296875 \r\nQ 5.515625 40.671875 12.859375 48.328125 \r\nQ 20.21875 56 33.015625 56 \r\nQ 37.15625 56 41.109375 55.140625 \r\nQ 45.0625 54.296875 48.78125 52.59375 \r\nz\r\n\" id=\"DejaVuSans-99\"/>\r\n       <path d=\"M 9.078125 75.984375 \r\nL 18.109375 75.984375 \r\nL 18.109375 31.109375 \r\nL 44.921875 54.6875 \r\nL 56.390625 54.6875 \r\nL 27.390625 29.109375 \r\nL 57.625 0 \r\nL 45.90625 0 \r\nL 18.109375 26.703125 \r\nL 18.109375 0 \r\nL 9.078125 0 \r\nz\r\n\" id=\"DejaVuSans-107\"/>\r\n       <path d=\"M 18.3125 70.21875 \r\nL 18.3125 54.6875 \r\nL 36.8125 54.6875 \r\nL 36.8125 47.703125 \r\nL 18.3125 47.703125 \r\nL 18.3125 18.015625 \r\nQ 18.3125 11.328125 20.140625 9.421875 \r\nQ 21.96875 7.515625 27.59375 7.515625 \r\nL 36.8125 7.515625 \r\nL 36.8125 0 \r\nL 27.59375 0 \r\nQ 17.1875 0 13.234375 3.875 \r\nQ 9.28125 7.765625 9.28125 18.015625 \r\nL 9.28125 47.703125 \r\nL 2.6875 47.703125 \r\nL 2.6875 54.6875 \r\nL 9.28125 54.6875 \r\nL 9.28125 70.21875 \r\nz\r\n\" id=\"DejaVuSans-116\"/>\r\n      </defs>\r\n      <use xlink:href=\"#DejaVuSans-65\"/>\r\n      <use x=\"68.408203\" xlink:href=\"#DejaVuSans-103\"/>\r\n      <use x=\"131.884766\" xlink:href=\"#DejaVuSans-101\"/>\r\n      <use x=\"193.408203\" xlink:href=\"#DejaVuSans-95\"/>\r\n      <use x=\"243.408203\" xlink:href=\"#DejaVuSans-66\"/>\r\n      <use x=\"312.011719\" xlink:href=\"#DejaVuSans-114\"/>\r\n      <use x=\"353.125\" xlink:href=\"#DejaVuSans-97\"/>\r\n      <use x=\"414.404297\" xlink:href=\"#DejaVuSans-99\"/>\r\n      <use x=\"469.384766\" xlink:href=\"#DejaVuSans-107\"/>\r\n      <use x=\"523.669922\" xlink:href=\"#DejaVuSans-101\"/>\r\n      <use x=\"585.193359\" xlink:href=\"#DejaVuSans-116\"/>\r\n     </g>\r\n    </g>\r\n   </g>\r\n   <g id=\"matplotlib.axis_2\">\r\n    <g id=\"ytick_1\">\r\n     <g id=\"line2d_8\">\r\n      <defs>\r\n       <path d=\"M 0 0 \r\nL -3.5 0 \r\n\" id=\"m506a8206b0\" style=\"stroke:#000000;stroke-width:0.8;\"/>\r\n      </defs>\r\n      <g>\r\n       <use style=\"stroke:#000000;stroke-width:0.8;\" x=\"43.78125\" xlink:href=\"#m506a8206b0\" y=\"279\"/>\r\n      </g>\r\n     </g>\r\n     <g id=\"text_9\">\r\n      <!-- 0.0 -->\r\n      <g transform=\"translate(20.878125 282.799219)scale(0.1 -0.1)\">\r\n       <defs>\r\n        <path d=\"M 10.6875 12.40625 \r\nL 21 12.40625 \r\nL 21 0 \r\nL 10.6875 0 \r\nz\r\n\" id=\"DejaVuSans-46\"/>\r\n       </defs>\r\n       <use xlink:href=\"#DejaVuSans-48\"/>\r\n       <use x=\"63.623047\" xlink:href=\"#DejaVuSans-46\"/>\r\n       <use x=\"95.410156\" xlink:href=\"#DejaVuSans-48\"/>\r\n      </g>\r\n     </g>\r\n    </g>\r\n    <g id=\"ytick_2\">\r\n     <g id=\"line2d_9\">\r\n      <g>\r\n       <use style=\"stroke:#000000;stroke-width:0.8;\" x=\"43.78125\" xlink:href=\"#m506a8206b0\" y=\"242.306309\"/>\r\n      </g>\r\n     </g>\r\n     <g id=\"text_10\">\r\n      <!-- 0.1 -->\r\n      <g transform=\"translate(20.878125 246.105528)scale(0.1 -0.1)\">\r\n       <use xlink:href=\"#DejaVuSans-48\"/>\r\n       <use x=\"63.623047\" xlink:href=\"#DejaVuSans-46\"/>\r\n       <use x=\"95.410156\" xlink:href=\"#DejaVuSans-49\"/>\r\n      </g>\r\n     </g>\r\n    </g>\r\n    <g id=\"ytick_3\">\r\n     <g id=\"line2d_10\">\r\n      <g>\r\n       <use style=\"stroke:#000000;stroke-width:0.8;\" x=\"43.78125\" xlink:href=\"#m506a8206b0\" y=\"205.612619\"/>\r\n      </g>\r\n     </g>\r\n     <g id=\"text_11\">\r\n      <!-- 0.2 -->\r\n      <g transform=\"translate(20.878125 209.411838)scale(0.1 -0.1)\">\r\n       <use xlink:href=\"#DejaVuSans-48\"/>\r\n       <use x=\"63.623047\" xlink:href=\"#DejaVuSans-46\"/>\r\n       <use x=\"95.410156\" xlink:href=\"#DejaVuSans-50\"/>\r\n      </g>\r\n     </g>\r\n    </g>\r\n    <g id=\"ytick_4\">\r\n     <g id=\"line2d_11\">\r\n      <g>\r\n       <use style=\"stroke:#000000;stroke-width:0.8;\" x=\"43.78125\" xlink:href=\"#m506a8206b0\" y=\"168.918928\"/>\r\n      </g>\r\n     </g>\r\n     <g id=\"text_12\">\r\n      <!-- 0.3 -->\r\n      <g transform=\"translate(20.878125 172.718147)scale(0.1 -0.1)\">\r\n       <use xlink:href=\"#DejaVuSans-48\"/>\r\n       <use x=\"63.623047\" xlink:href=\"#DejaVuSans-46\"/>\r\n       <use x=\"95.410156\" xlink:href=\"#DejaVuSans-51\"/>\r\n      </g>\r\n     </g>\r\n    </g>\r\n    <g id=\"ytick_5\">\r\n     <g id=\"line2d_12\">\r\n      <g>\r\n       <use style=\"stroke:#000000;stroke-width:0.8;\" x=\"43.78125\" xlink:href=\"#m506a8206b0\" y=\"132.225238\"/>\r\n      </g>\r\n     </g>\r\n     <g id=\"text_13\">\r\n      <!-- 0.4 -->\r\n      <g transform=\"translate(20.878125 136.024456)scale(0.1 -0.1)\">\r\n       <use xlink:href=\"#DejaVuSans-48\"/>\r\n       <use x=\"63.623047\" xlink:href=\"#DejaVuSans-46\"/>\r\n       <use x=\"95.410156\" xlink:href=\"#DejaVuSans-52\"/>\r\n      </g>\r\n     </g>\r\n    </g>\r\n    <g id=\"ytick_6\">\r\n     <g id=\"line2d_13\">\r\n      <g>\r\n       <use style=\"stroke:#000000;stroke-width:0.8;\" x=\"43.78125\" xlink:href=\"#m506a8206b0\" y=\"95.531547\"/>\r\n      </g>\r\n     </g>\r\n     <g id=\"text_14\">\r\n      <!-- 0.5 -->\r\n      <g transform=\"translate(20.878125 99.330766)scale(0.1 -0.1)\">\r\n       <use xlink:href=\"#DejaVuSans-48\"/>\r\n       <use x=\"63.623047\" xlink:href=\"#DejaVuSans-46\"/>\r\n       <use x=\"95.410156\" xlink:href=\"#DejaVuSans-53\"/>\r\n      </g>\r\n     </g>\r\n    </g>\r\n    <g id=\"ytick_7\">\r\n     <g id=\"line2d_14\">\r\n      <g>\r\n       <use style=\"stroke:#000000;stroke-width:0.8;\" x=\"43.78125\" xlink:href=\"#m506a8206b0\" y=\"58.837856\"/>\r\n      </g>\r\n     </g>\r\n     <g id=\"text_15\">\r\n      <!-- 0.6 -->\r\n      <g transform=\"translate(20.878125 62.637075)scale(0.1 -0.1)\">\r\n       <use xlink:href=\"#DejaVuSans-48\"/>\r\n       <use x=\"63.623047\" xlink:href=\"#DejaVuSans-46\"/>\r\n       <use x=\"95.410156\" xlink:href=\"#DejaVuSans-54\"/>\r\n      </g>\r\n     </g>\r\n    </g>\r\n    <g id=\"ytick_8\">\r\n     <g id=\"line2d_15\">\r\n      <g>\r\n       <use style=\"stroke:#000000;stroke-width:0.8;\" x=\"43.78125\" xlink:href=\"#m506a8206b0\" y=\"22.144166\"/>\r\n      </g>\r\n     </g>\r\n     <g id=\"text_16\">\r\n      <!-- 0.7 -->\r\n      <g transform=\"translate(20.878125 25.943385)scale(0.1 -0.1)\">\r\n       <defs>\r\n        <path d=\"M 8.203125 72.90625 \r\nL 55.078125 72.90625 \r\nL 55.078125 68.703125 \r\nL 28.609375 0 \r\nL 18.3125 0 \r\nL 43.21875 64.59375 \r\nL 8.203125 64.59375 \r\nz\r\n\" id=\"DejaVuSans-55\"/>\r\n       </defs>\r\n       <use xlink:href=\"#DejaVuSans-48\"/>\r\n       <use x=\"63.623047\" xlink:href=\"#DejaVuSans-46\"/>\r\n       <use x=\"95.410156\" xlink:href=\"#DejaVuSans-55\"/>\r\n      </g>\r\n     </g>\r\n    </g>\r\n    <g id=\"text_17\">\r\n     <!-- Density -->\r\n     <g transform=\"translate(14.798438 162.108594)rotate(-90)scale(0.1 -0.1)\">\r\n      <defs>\r\n       <path d=\"M 19.671875 64.796875 \r\nL 19.671875 8.109375 \r\nL 31.59375 8.109375 \r\nQ 46.6875 8.109375 53.6875 14.9375 \r\nQ 60.6875 21.78125 60.6875 36.53125 \r\nQ 60.6875 51.171875 53.6875 57.984375 \r\nQ 46.6875 64.796875 31.59375 64.796875 \r\nz\r\nM 9.8125 72.90625 \r\nL 30.078125 72.90625 \r\nQ 51.265625 72.90625 61.171875 64.09375 \r\nQ 71.09375 55.28125 71.09375 36.53125 \r\nQ 71.09375 17.671875 61.125 8.828125 \r\nQ 51.171875 0 30.078125 0 \r\nL 9.8125 0 \r\nz\r\n\" id=\"DejaVuSans-68\"/>\r\n       <path d=\"M 54.890625 33.015625 \r\nL 54.890625 0 \r\nL 45.90625 0 \r\nL 45.90625 32.71875 \r\nQ 45.90625 40.484375 42.875 44.328125 \r\nQ 39.84375 48.1875 33.796875 48.1875 \r\nQ 26.515625 48.1875 22.3125 43.546875 \r\nQ 18.109375 38.921875 18.109375 30.90625 \r\nL 18.109375 0 \r\nL 9.078125 0 \r\nL 9.078125 54.6875 \r\nL 18.109375 54.6875 \r\nL 18.109375 46.1875 \r\nQ 21.34375 51.125 25.703125 53.5625 \r\nQ 30.078125 56 35.796875 56 \r\nQ 45.21875 56 50.046875 50.171875 \r\nQ 54.890625 44.34375 54.890625 33.015625 \r\nz\r\n\" id=\"DejaVuSans-110\"/>\r\n       <path d=\"M 44.28125 53.078125 \r\nL 44.28125 44.578125 \r\nQ 40.484375 46.53125 36.375 47.5 \r\nQ 32.28125 48.484375 27.875 48.484375 \r\nQ 21.1875 48.484375 17.84375 46.4375 \r\nQ 14.5 44.390625 14.5 40.28125 \r\nQ 14.5 37.15625 16.890625 35.375 \r\nQ 19.28125 33.59375 26.515625 31.984375 \r\nL 29.59375 31.296875 \r\nQ 39.15625 29.25 43.1875 25.515625 \r\nQ 47.21875 21.78125 47.21875 15.09375 \r\nQ 47.21875 7.46875 41.1875 3.015625 \r\nQ 35.15625 -1.421875 24.609375 -1.421875 \r\nQ 20.21875 -1.421875 15.453125 -0.5625 \r\nQ 10.6875 0.296875 5.421875 2 \r\nL 5.421875 11.28125 \r\nQ 10.40625 8.6875 15.234375 7.390625 \r\nQ 20.0625 6.109375 24.8125 6.109375 \r\nQ 31.15625 6.109375 34.5625 8.28125 \r\nQ 37.984375 10.453125 37.984375 14.40625 \r\nQ 37.984375 18.0625 35.515625 20.015625 \r\nQ 33.0625 21.96875 24.703125 23.78125 \r\nL 21.578125 24.515625 \r\nQ 13.234375 26.265625 9.515625 29.90625 \r\nQ 5.8125 33.546875 5.8125 39.890625 \r\nQ 5.8125 47.609375 11.28125 51.796875 \r\nQ 16.75 56 26.8125 56 \r\nQ 31.78125 56 36.171875 55.265625 \r\nQ 40.578125 54.546875 44.28125 53.078125 \r\nz\r\n\" id=\"DejaVuSans-115\"/>\r\n       <path d=\"M 9.421875 54.6875 \r\nL 18.40625 54.6875 \r\nL 18.40625 0 \r\nL 9.421875 0 \r\nz\r\nM 9.421875 75.984375 \r\nL 18.40625 75.984375 \r\nL 18.40625 64.59375 \r\nL 9.421875 64.59375 \r\nz\r\n\" id=\"DejaVuSans-105\"/>\r\n       <path d=\"M 32.171875 -5.078125 \r\nQ 28.375 -14.84375 24.75 -17.8125 \r\nQ 21.140625 -20.796875 15.09375 -20.796875 \r\nL 7.90625 -20.796875 \r\nL 7.90625 -13.28125 \r\nL 13.1875 -13.28125 \r\nQ 16.890625 -13.28125 18.9375 -11.515625 \r\nQ 21 -9.765625 23.484375 -3.21875 \r\nL 25.09375 0.875 \r\nL 2.984375 54.6875 \r\nL 12.5 54.6875 \r\nL 29.59375 11.921875 \r\nL 46.6875 54.6875 \r\nL 56.203125 54.6875 \r\nz\r\n\" id=\"DejaVuSans-121\"/>\r\n      </defs>\r\n      <use xlink:href=\"#DejaVuSans-68\"/>\r\n      <use x=\"77.001953\" xlink:href=\"#DejaVuSans-101\"/>\r\n      <use x=\"138.525391\" xlink:href=\"#DejaVuSans-110\"/>\r\n      <use x=\"201.904297\" xlink:href=\"#DejaVuSans-115\"/>\r\n      <use x=\"254.003906\" xlink:href=\"#DejaVuSans-105\"/>\r\n      <use x=\"281.787109\" xlink:href=\"#DejaVuSans-116\"/>\r\n      <use x=\"320.996094\" xlink:href=\"#DejaVuSans-121\"/>\r\n     </g>\r\n    </g>\r\n   </g>\r\n   <g id=\"line2d_16\">\r\n    <path clip-path=\"url(#p6da257f825)\" d=\"M 64.072159 277.350734 \r\nL 66.111446 273.845444 \r\nL 68.150734 265.351227 \r\nL 70.190021 248.376213 \r\nL 72.229308 220.763958 \r\nL 76.307883 150.524825 \r\nL 78.347171 129.651818 \r\nL 80.386458 131.131136 \r\nL 82.425745 153.708799 \r\nL 86.50432 219.7265 \r\nL 88.543607 243.712003 \r\nL 90.582895 258.043627 \r\nL 92.622182 265.283322 \r\nL 94.661469 268.603796 \r\nL 96.700757 270.202138 \r\nL 98.740044 271.174328 \r\nL 102.818619 272.612036 \r\nL 106.897193 273.737419 \r\nL 110.975768 274.578219 \r\nL 115.054343 275.20412 \r\nL 123.211492 276.135514 \r\nL 131.368642 276.977155 \r\nL 137.486504 277.371739 \r\nL 153.800802 278.048248 \r\nL 166.036526 278.362814 \r\nL 178.27225 278.570913 \r\nL 190.507975 278.59566 \r\nL 255.76517 278.144819 \r\nL 282.275905 278.207186 \r\nL 357.729537 278.859952 \r\nL 402.593858 278.939355 \r\nL 469.890341 278.999958 \r\nL 469.890341 278.999958 \r\n\" style=\"fill:none;stroke:#1f77b4;stroke-linecap:square;stroke-width:1.5;\"/>\r\n   </g>\r\n   <g id=\"patch_53\">\r\n    <path d=\"M 43.78125 279 \r\nL 43.78125 7.2 \r\n\" style=\"fill:none;stroke:#000000;stroke-linecap:square;stroke-linejoin:miter;stroke-width:0.8;\"/>\r\n   </g>\r\n   <g id=\"patch_54\">\r\n    <path d=\"M 490.18125 279 \r\nL 490.18125 7.2 \r\n\" style=\"fill:none;stroke:#000000;stroke-linecap:square;stroke-linejoin:miter;stroke-width:0.8;\"/>\r\n   </g>\r\n   <g id=\"patch_55\">\r\n    <path d=\"M 43.78125 279 \r\nL 490.18125 279 \r\n\" style=\"fill:none;stroke:#000000;stroke-linecap:square;stroke-linejoin:miter;stroke-width:0.8;\"/>\r\n   </g>\r\n   <g id=\"patch_56\">\r\n    <path d=\"M 43.78125 7.2 \r\nL 490.18125 7.2 \r\n\" style=\"fill:none;stroke:#000000;stroke-linecap:square;stroke-linejoin:miter;stroke-width:0.8;\"/>\r\n   </g>\r\n  </g>\r\n </g>\r\n <defs>\r\n  <clipPath id=\"p6da257f825\">\r\n   <rect height=\"271.8\" width=\"446.4\" x=\"43.78125\" y=\"7.2\"/>\r\n  </clipPath>\r\n </defs>\r\n</svg>\r\n",
      "image/png": "[encoded data removed]"
     },
     "metadata": {
      "needs_background": "light"
     }
    }
   ],
   "source": [
    "plot_cont('Age_Bracket')"
   ]
  },
  {
   "cell_type": "code",
   "execution_count": 138,
   "metadata": {},
   "outputs": [
    {
     "output_type": "display_data",
     "data": {
      "text/plain": "<Figure size 576x360 with 1 Axes>",
      "image/svg+xml": "<?xml version=\"1.0\" encoding=\"utf-8\" standalone=\"no\"?>\r\n<!DOCTYPE svg PUBLIC \"-//W3C//DTD SVG 1.1//EN\"\r\n  \"http://www.w3.org/Graphics/SVG/1.1/DTD/svg11.dtd\">\r\n<!-- Created with matplotlib (https://matplotlib.org/) -->\r\n<svg height=\"316.55625pt\" version=\"1.1\" viewBox=\"0 0 513.290625 316.55625\" width=\"513.290625pt\" xmlns=\"http://www.w3.org/2000/svg\" xmlns:xlink=\"http://www.w3.org/1999/xlink\">\r\n <metadata>\r\n  <rdf:RDF xmlns:cc=\"http://creativecommons.org/ns#\" xmlns:dc=\"http://purl.org/dc/elements/1.1/\" xmlns:rdf=\"http://www.w3.org/1999/02/22-rdf-syntax-ns#\">\r\n   <cc:Work>\r\n    <dc:type rdf:resource=\"http://purl.org/dc/dcmitype/StillImage\"/>\r\n    <dc:date>2021-02-28T21:39:01.643839</dc:date>\r\n    <dc:format>image/svg+xml</dc:format>\r\n    <dc:creator>\r\n     <cc:Agent>\r\n      <dc:title>Matplotlib v3.3.4, https://matplotlib.org/</dc:title>\r\n     </cc:Agent>\r\n    </dc:creator>\r\n   </cc:Work>\r\n  </rdf:RDF>\r\n </metadata>\r\n <defs>\r\n  <style type=\"text/css\">*{stroke-linecap:butt;stroke-linejoin:round;}</style>\r\n </defs>\r\n <g id=\"figure_1\">\r\n  <g id=\"patch_1\">\r\n   <path d=\"M 0 316.55625 \r\nL 513.290625 316.55625 \r\nL 513.290625 0 \r\nL 0 0 \r\nz\r\n\" style=\"fill:none;\"/>\r\n  </g>\r\n  <g id=\"axes_1\">\r\n   <g id=\"patch_2\">\r\n    <path d=\"M 59.690625 279 \r\nL 506.090625 279 \r\nL 506.090625 7.2 \r\nL 59.690625 7.2 \r\nz\r\n\" style=\"fill:#ffffff;\"/>\r\n   </g>\r\n   <g id=\"patch_3\">\r\n    <path clip-path=\"url(#pae00c3ad0c)\" d=\"M 82.010625 279 \r\nL 260.570625 279 \r\nL 260.570625 20.142857 \r\nL 82.010625 20.142857 \r\nz\r\n\" style=\"fill:#3274a1;\"/>\r\n   </g>\r\n   <g id=\"patch_4\">\r\n    <path clip-path=\"url(#pae00c3ad0c)\" d=\"M 305.210625 279 \r\nL 483.770625 279 \r\nL 483.770625 197.279242 \r\nL 305.210625 197.279242 \r\nz\r\n\" style=\"fill:#e1812c;\"/>\r\n   </g>\r\n   <g id=\"matplotlib.axis_1\">\r\n    <g id=\"xtick_1\">\r\n     <g id=\"line2d_1\">\r\n      <defs>\r\n       <path d=\"M 0 0 \r\nL 0 3.5 \r\n\" id=\"mdcfacda471\" style=\"stroke:#000000;stroke-width:0.8;\"/>\r\n      </defs>\r\n      <g>\r\n       <use style=\"stroke:#000000;stroke-width:0.8;\" x=\"171.290625\" xlink:href=\"#mdcfacda471\" y=\"279\"/>\r\n      </g>\r\n     </g>\r\n     <g id=\"text_1\">\r\n      <!-- 0 -->\r\n      <g transform=\"translate(168.109375 293.598437)scale(0.1 -0.1)\">\r\n       <defs>\r\n        <path d=\"M 31.78125 66.40625 \r\nQ 24.171875 66.40625 20.328125 58.90625 \r\nQ 16.5 51.421875 16.5 36.375 \r\nQ 16.5 21.390625 20.328125 13.890625 \r\nQ 24.171875 6.390625 31.78125 6.390625 \r\nQ 39.453125 6.390625 43.28125 13.890625 \r\nQ 47.125 21.390625 47.125 36.375 \r\nQ 47.125 51.421875 43.28125 58.90625 \r\nQ 39.453125 66.40625 31.78125 66.40625 \r\nz\r\nM 31.78125 74.21875 \r\nQ 44.046875 74.21875 50.515625 64.515625 \r\nQ 56.984375 54.828125 56.984375 36.375 \r\nQ 56.984375 17.96875 50.515625 8.265625 \r\nQ 44.046875 -1.421875 31.78125 -1.421875 \r\nQ 19.53125 -1.421875 13.0625 8.265625 \r\nQ 6.59375 17.96875 6.59375 36.375 \r\nQ 6.59375 54.828125 13.0625 64.515625 \r\nQ 19.53125 74.21875 31.78125 74.21875 \r\nz\r\n\" id=\"DejaVuSans-48\"/>\r\n       </defs>\r\n       <use xlink:href=\"#DejaVuSans-48\"/>\r\n      </g>\r\n     </g>\r\n    </g>\r\n    <g id=\"xtick_2\">\r\n     <g id=\"line2d_2\">\r\n      <g>\r\n       <use style=\"stroke:#000000;stroke-width:0.8;\" x=\"394.490625\" xlink:href=\"#mdcfacda471\" y=\"279\"/>\r\n      </g>\r\n     </g>\r\n     <g id=\"text_2\">\r\n      <!-- 1 -->\r\n      <g transform=\"translate(391.309375 293.598437)scale(0.1 -0.1)\">\r\n       <defs>\r\n        <path d=\"M 12.40625 8.296875 \r\nL 28.515625 8.296875 \r\nL 28.515625 63.921875 \r\nL 10.984375 60.40625 \r\nL 10.984375 69.390625 \r\nL 28.421875 72.90625 \r\nL 38.28125 72.90625 \r\nL 38.28125 8.296875 \r\nL 54.390625 8.296875 \r\nL 54.390625 0 \r\nL 12.40625 0 \r\nz\r\n\" id=\"DejaVuSans-49\"/>\r\n       </defs>\r\n       <use xlink:href=\"#DejaVuSans-49\"/>\r\n      </g>\r\n     </g>\r\n    </g>\r\n    <g id=\"text_3\">\r\n     <!-- Response -->\r\n     <g transform=\"translate(258.876562 307.276562)scale(0.1 -0.1)\">\r\n      <defs>\r\n       <path d=\"M 44.390625 34.1875 \r\nQ 47.5625 33.109375 50.5625 29.59375 \r\nQ 53.5625 26.078125 56.59375 19.921875 \r\nL 66.609375 0 \r\nL 56 0 \r\nL 46.6875 18.703125 \r\nQ 43.0625 26.03125 39.671875 28.421875 \r\nQ 36.28125 30.8125 30.421875 30.8125 \r\nL 19.671875 30.8125 \r\nL 19.671875 0 \r\nL 9.8125 0 \r\nL 9.8125 72.90625 \r\nL 32.078125 72.90625 \r\nQ 44.578125 72.90625 50.734375 67.671875 \r\nQ 56.890625 62.453125 56.890625 51.90625 \r\nQ 56.890625 45.015625 53.6875 40.46875 \r\nQ 50.484375 35.9375 44.390625 34.1875 \r\nz\r\nM 19.671875 64.796875 \r\nL 19.671875 38.921875 \r\nL 32.078125 38.921875 \r\nQ 39.203125 38.921875 42.84375 42.21875 \r\nQ 46.484375 45.515625 46.484375 51.90625 \r\nQ 46.484375 58.296875 42.84375 61.546875 \r\nQ 39.203125 64.796875 32.078125 64.796875 \r\nz\r\n\" id=\"DejaVuSans-82\"/>\r\n       <path d=\"M 56.203125 29.59375 \r\nL 56.203125 25.203125 \r\nL 14.890625 25.203125 \r\nQ 15.484375 15.921875 20.484375 11.0625 \r\nQ 25.484375 6.203125 34.421875 6.203125 \r\nQ 39.59375 6.203125 44.453125 7.46875 \r\nQ 49.3125 8.734375 54.109375 11.28125 \r\nL 54.109375 2.78125 \r\nQ 49.265625 0.734375 44.1875 -0.34375 \r\nQ 39.109375 -1.421875 33.890625 -1.421875 \r\nQ 20.796875 -1.421875 13.15625 6.1875 \r\nQ 5.515625 13.8125 5.515625 26.8125 \r\nQ 5.515625 40.234375 12.765625 48.109375 \r\nQ 20.015625 56 32.328125 56 \r\nQ 43.359375 56 49.78125 48.890625 \r\nQ 56.203125 41.796875 56.203125 29.59375 \r\nz\r\nM 47.21875 32.234375 \r\nQ 47.125 39.59375 43.09375 43.984375 \r\nQ 39.0625 48.390625 32.421875 48.390625 \r\nQ 24.90625 48.390625 20.390625 44.140625 \r\nQ 15.875 39.890625 15.1875 32.171875 \r\nz\r\n\" id=\"DejaVuSans-101\"/>\r\n       <path d=\"M 44.28125 53.078125 \r\nL 44.28125 44.578125 \r\nQ 40.484375 46.53125 36.375 47.5 \r\nQ 32.28125 48.484375 27.875 48.484375 \r\nQ 21.1875 48.484375 17.84375 46.4375 \r\nQ 14.5 44.390625 14.5 40.28125 \r\nQ 14.5 37.15625 16.890625 35.375 \r\nQ 19.28125 33.59375 26.515625 31.984375 \r\nL 29.59375 31.296875 \r\nQ 39.15625 29.25 43.1875 25.515625 \r\nQ 47.21875 21.78125 47.21875 15.09375 \r\nQ 47.21875 7.46875 41.1875 3.015625 \r\nQ 35.15625 -1.421875 24.609375 -1.421875 \r\nQ 20.21875 -1.421875 15.453125 -0.5625 \r\nQ 10.6875 0.296875 5.421875 2 \r\nL 5.421875 11.28125 \r\nQ 10.40625 8.6875 15.234375 7.390625 \r\nQ 20.0625 6.109375 24.8125 6.109375 \r\nQ 31.15625 6.109375 34.5625 8.28125 \r\nQ 37.984375 10.453125 37.984375 14.40625 \r\nQ 37.984375 18.0625 35.515625 20.015625 \r\nQ 33.0625 21.96875 24.703125 23.78125 \r\nL 21.578125 24.515625 \r\nQ 13.234375 26.265625 9.515625 29.90625 \r\nQ 5.8125 33.546875 5.8125 39.890625 \r\nQ 5.8125 47.609375 11.28125 51.796875 \r\nQ 16.75 56 26.8125 56 \r\nQ 31.78125 56 36.171875 55.265625 \r\nQ 40.578125 54.546875 44.28125 53.078125 \r\nz\r\n\" id=\"DejaVuSans-115\"/>\r\n       <path d=\"M 18.109375 8.203125 \r\nL 18.109375 -20.796875 \r\nL 9.078125 -20.796875 \r\nL 9.078125 54.6875 \r\nL 18.109375 54.6875 \r\nL 18.109375 46.390625 \r\nQ 20.953125 51.265625 25.265625 53.625 \r\nQ 29.59375 56 35.59375 56 \r\nQ 45.5625 56 51.78125 48.09375 \r\nQ 58.015625 40.1875 58.015625 27.296875 \r\nQ 58.015625 14.40625 51.78125 6.484375 \r\nQ 45.5625 -1.421875 35.59375 -1.421875 \r\nQ 29.59375 -1.421875 25.265625 0.953125 \r\nQ 20.953125 3.328125 18.109375 8.203125 \r\nz\r\nM 48.6875 27.296875 \r\nQ 48.6875 37.203125 44.609375 42.84375 \r\nQ 40.53125 48.484375 33.40625 48.484375 \r\nQ 26.265625 48.484375 22.1875 42.84375 \r\nQ 18.109375 37.203125 18.109375 27.296875 \r\nQ 18.109375 17.390625 22.1875 11.75 \r\nQ 26.265625 6.109375 33.40625 6.109375 \r\nQ 40.53125 6.109375 44.609375 11.75 \r\nQ 48.6875 17.390625 48.6875 27.296875 \r\nz\r\n\" id=\"DejaVuSans-112\"/>\r\n       <path d=\"M 30.609375 48.390625 \r\nQ 23.390625 48.390625 19.1875 42.75 \r\nQ 14.984375 37.109375 14.984375 27.296875 \r\nQ 14.984375 17.484375 19.15625 11.84375 \r\nQ 23.34375 6.203125 30.609375 6.203125 \r\nQ 37.796875 6.203125 41.984375 11.859375 \r\nQ 46.1875 17.53125 46.1875 27.296875 \r\nQ 46.1875 37.015625 41.984375 42.703125 \r\nQ 37.796875 48.390625 30.609375 48.390625 \r\nz\r\nM 30.609375 56 \r\nQ 42.328125 56 49.015625 48.375 \r\nQ 55.71875 40.765625 55.71875 27.296875 \r\nQ 55.71875 13.875 49.015625 6.21875 \r\nQ 42.328125 -1.421875 30.609375 -1.421875 \r\nQ 18.84375 -1.421875 12.171875 6.21875 \r\nQ 5.515625 13.875 5.515625 27.296875 \r\nQ 5.515625 40.765625 12.171875 48.375 \r\nQ 18.84375 56 30.609375 56 \r\nz\r\n\" id=\"DejaVuSans-111\"/>\r\n       <path d=\"M 54.890625 33.015625 \r\nL 54.890625 0 \r\nL 45.90625 0 \r\nL 45.90625 32.71875 \r\nQ 45.90625 40.484375 42.875 44.328125 \r\nQ 39.84375 48.1875 33.796875 48.1875 \r\nQ 26.515625 48.1875 22.3125 43.546875 \r\nQ 18.109375 38.921875 18.109375 30.90625 \r\nL 18.109375 0 \r\nL 9.078125 0 \r\nL 9.078125 54.6875 \r\nL 18.109375 54.6875 \r\nL 18.109375 46.1875 \r\nQ 21.34375 51.125 25.703125 53.5625 \r\nQ 30.078125 56 35.796875 56 \r\nQ 45.21875 56 50.046875 50.171875 \r\nQ 54.890625 44.34375 54.890625 33.015625 \r\nz\r\n\" id=\"DejaVuSans-110\"/>\r\n      </defs>\r\n      <use xlink:href=\"#DejaVuSans-82\"/>\r\n      <use x=\"64.982422\" xlink:href=\"#DejaVuSans-101\"/>\r\n      <use x=\"126.505859\" xlink:href=\"#DejaVuSans-115\"/>\r\n      <use x=\"178.605469\" xlink:href=\"#DejaVuSans-112\"/>\r\n      <use x=\"242.082031\" xlink:href=\"#DejaVuSans-111\"/>\r\n      <use x=\"303.263672\" xlink:href=\"#DejaVuSans-110\"/>\r\n      <use x=\"366.642578\" xlink:href=\"#DejaVuSans-115\"/>\r\n      <use x=\"418.742188\" xlink:href=\"#DejaVuSans-101\"/>\r\n     </g>\r\n    </g>\r\n   </g>\r\n   <g id=\"matplotlib.axis_2\">\r\n    <g id=\"ytick_1\">\r\n     <g id=\"line2d_3\">\r\n      <defs>\r\n       <path d=\"M 0 0 \r\nL -3.5 0 \r\n\" id=\"mda711b2280\" style=\"stroke:#000000;stroke-width:0.8;\"/>\r\n      </defs>\r\n      <g>\r\n       <use style=\"stroke:#000000;stroke-width:0.8;\" x=\"59.690625\" xlink:href=\"#mda711b2280\" y=\"279\"/>\r\n      </g>\r\n     </g>\r\n     <g id=\"text_4\">\r\n      <!-- 0 -->\r\n      <g transform=\"translate(46.328125 282.799219)scale(0.1 -0.1)\">\r\n       <use xlink:href=\"#DejaVuSans-48\"/>\r\n      </g>\r\n     </g>\r\n    </g>\r\n    <g id=\"ytick_2\">\r\n     <g id=\"line2d_4\">\r\n      <g>\r\n       <use style=\"stroke:#000000;stroke-width:0.8;\" x=\"59.690625\" xlink:href=\"#mda711b2280\" y=\"245.532575\"/>\r\n      </g>\r\n     </g>\r\n     <g id=\"text_5\">\r\n      <!-- 5000 -->\r\n      <g transform=\"translate(27.240625 249.331794)scale(0.1 -0.1)\">\r\n       <defs>\r\n        <path d=\"M 10.796875 72.90625 \r\nL 49.515625 72.90625 \r\nL 49.515625 64.59375 \r\nL 19.828125 64.59375 \r\nL 19.828125 46.734375 \r\nQ 21.96875 47.46875 24.109375 47.828125 \r\nQ 26.265625 48.1875 28.421875 48.1875 \r\nQ 40.625 48.1875 47.75 41.5 \r\nQ 54.890625 34.8125 54.890625 23.390625 \r\nQ 54.890625 11.625 47.5625 5.09375 \r\nQ 40.234375 -1.421875 26.90625 -1.421875 \r\nQ 22.3125 -1.421875 17.546875 -0.640625 \r\nQ 12.796875 0.140625 7.71875 1.703125 \r\nL 7.71875 11.625 \r\nQ 12.109375 9.234375 16.796875 8.0625 \r\nQ 21.484375 6.890625 26.703125 6.890625 \r\nQ 35.15625 6.890625 40.078125 11.328125 \r\nQ 45.015625 15.765625 45.015625 23.390625 \r\nQ 45.015625 31 40.078125 35.4375 \r\nQ 35.15625 39.890625 26.703125 39.890625 \r\nQ 22.75 39.890625 18.8125 39.015625 \r\nQ 14.890625 38.140625 10.796875 36.28125 \r\nz\r\n\" id=\"DejaVuSans-53\"/>\r\n       </defs>\r\n       <use xlink:href=\"#DejaVuSans-53\"/>\r\n       <use x=\"63.623047\" xlink:href=\"#DejaVuSans-48\"/>\r\n       <use x=\"127.246094\" xlink:href=\"#DejaVuSans-48\"/>\r\n       <use x=\"190.869141\" xlink:href=\"#DejaVuSans-48\"/>\r\n      </g>\r\n     </g>\r\n    </g>\r\n    <g id=\"ytick_3\">\r\n     <g id=\"line2d_5\">\r\n      <g>\r\n       <use style=\"stroke:#000000;stroke-width:0.8;\" x=\"59.690625\" xlink:href=\"#mda711b2280\" y=\"212.065151\"/>\r\n      </g>\r\n     </g>\r\n     <g id=\"text_6\">\r\n      <!-- 10000 -->\r\n      <g transform=\"translate(20.878125 215.864369)scale(0.1 -0.1)\">\r\n       <use xlink:href=\"#DejaVuSans-49\"/>\r\n       <use x=\"63.623047\" xlink:href=\"#DejaVuSans-48\"/>\r\n       <use x=\"127.246094\" xlink:href=\"#DejaVuSans-48\"/>\r\n       <use x=\"190.869141\" xlink:href=\"#DejaVuSans-48\"/>\r\n       <use x=\"254.492188\" xlink:href=\"#DejaVuSans-48\"/>\r\n      </g>\r\n     </g>\r\n    </g>\r\n    <g id=\"ytick_4\">\r\n     <g id=\"line2d_6\">\r\n      <g>\r\n       <use style=\"stroke:#000000;stroke-width:0.8;\" x=\"59.690625\" xlink:href=\"#mda711b2280\" y=\"178.597726\"/>\r\n      </g>\r\n     </g>\r\n     <g id=\"text_7\">\r\n      <!-- 15000 -->\r\n      <g transform=\"translate(20.878125 182.396945)scale(0.1 -0.1)\">\r\n       <use xlink:href=\"#DejaVuSans-49\"/>\r\n       <use x=\"63.623047\" xlink:href=\"#DejaVuSans-53\"/>\r\n       <use x=\"127.246094\" xlink:href=\"#DejaVuSans-48\"/>\r\n       <use x=\"190.869141\" xlink:href=\"#DejaVuSans-48\"/>\r\n       <use x=\"254.492188\" xlink:href=\"#DejaVuSans-48\"/>\r\n      </g>\r\n     </g>\r\n    </g>\r\n    <g id=\"ytick_5\">\r\n     <g id=\"line2d_7\">\r\n      <g>\r\n       <use style=\"stroke:#000000;stroke-width:0.8;\" x=\"59.690625\" xlink:href=\"#mda711b2280\" y=\"145.130301\"/>\r\n      </g>\r\n     </g>\r\n     <g id=\"text_8\">\r\n      <!-- 20000 -->\r\n      <g transform=\"translate(20.878125 148.92952)scale(0.1 -0.1)\">\r\n       <defs>\r\n        <path d=\"M 19.1875 8.296875 \r\nL 53.609375 8.296875 \r\nL 53.609375 0 \r\nL 7.328125 0 \r\nL 7.328125 8.296875 \r\nQ 12.9375 14.109375 22.625 23.890625 \r\nQ 32.328125 33.6875 34.8125 36.53125 \r\nQ 39.546875 41.84375 41.421875 45.53125 \r\nQ 43.3125 49.21875 43.3125 52.78125 \r\nQ 43.3125 58.59375 39.234375 62.25 \r\nQ 35.15625 65.921875 28.609375 65.921875 \r\nQ 23.96875 65.921875 18.8125 64.3125 \r\nQ 13.671875 62.703125 7.8125 59.421875 \r\nL 7.8125 69.390625 \r\nQ 13.765625 71.78125 18.9375 73 \r\nQ 24.125 74.21875 28.421875 74.21875 \r\nQ 39.75 74.21875 46.484375 68.546875 \r\nQ 53.21875 62.890625 53.21875 53.421875 \r\nQ 53.21875 48.921875 51.53125 44.890625 \r\nQ 49.859375 40.875 45.40625 35.40625 \r\nQ 44.1875 33.984375 37.640625 27.21875 \r\nQ 31.109375 20.453125 19.1875 8.296875 \r\nz\r\n\" id=\"DejaVuSans-50\"/>\r\n       </defs>\r\n       <use xlink:href=\"#DejaVuSans-50\"/>\r\n       <use x=\"63.623047\" xlink:href=\"#DejaVuSans-48\"/>\r\n       <use x=\"127.246094\" xlink:href=\"#DejaVuSans-48\"/>\r\n       <use x=\"190.869141\" xlink:href=\"#DejaVuSans-48\"/>\r\n       <use x=\"254.492188\" xlink:href=\"#DejaVuSans-48\"/>\r\n      </g>\r\n     </g>\r\n    </g>\r\n    <g id=\"ytick_6\">\r\n     <g id=\"line2d_8\">\r\n      <g>\r\n       <use style=\"stroke:#000000;stroke-width:0.8;\" x=\"59.690625\" xlink:href=\"#mda711b2280\" y=\"111.662877\"/>\r\n      </g>\r\n     </g>\r\n     <g id=\"text_9\">\r\n      <!-- 25000 -->\r\n      <g transform=\"translate(20.878125 115.462095)scale(0.1 -0.1)\">\r\n       <use xlink:href=\"#DejaVuSans-50\"/>\r\n       <use x=\"63.623047\" xlink:href=\"#DejaVuSans-53\"/>\r\n       <use x=\"127.246094\" xlink:href=\"#DejaVuSans-48\"/>\r\n       <use x=\"190.869141\" xlink:href=\"#DejaVuSans-48\"/>\r\n       <use x=\"254.492188\" xlink:href=\"#DejaVuSans-48\"/>\r\n      </g>\r\n     </g>\r\n    </g>\r\n    <g id=\"ytick_7\">\r\n     <g id=\"line2d_9\">\r\n      <g>\r\n       <use style=\"stroke:#000000;stroke-width:0.8;\" x=\"59.690625\" xlink:href=\"#mda711b2280\" y=\"78.195452\"/>\r\n      </g>\r\n     </g>\r\n     <g id=\"text_10\">\r\n      <!-- 30000 -->\r\n      <g transform=\"translate(20.878125 81.994671)scale(0.1 -0.1)\">\r\n       <defs>\r\n        <path d=\"M 40.578125 39.3125 \r\nQ 47.65625 37.796875 51.625 33 \r\nQ 55.609375 28.21875 55.609375 21.1875 \r\nQ 55.609375 10.40625 48.1875 4.484375 \r\nQ 40.765625 -1.421875 27.09375 -1.421875 \r\nQ 22.515625 -1.421875 17.65625 -0.515625 \r\nQ 12.796875 0.390625 7.625 2.203125 \r\nL 7.625 11.71875 \r\nQ 11.71875 9.328125 16.59375 8.109375 \r\nQ 21.484375 6.890625 26.8125 6.890625 \r\nQ 36.078125 6.890625 40.9375 10.546875 \r\nQ 45.796875 14.203125 45.796875 21.1875 \r\nQ 45.796875 27.640625 41.28125 31.265625 \r\nQ 36.765625 34.90625 28.71875 34.90625 \r\nL 20.21875 34.90625 \r\nL 20.21875 43.015625 \r\nL 29.109375 43.015625 \r\nQ 36.375 43.015625 40.234375 45.921875 \r\nQ 44.09375 48.828125 44.09375 54.296875 \r\nQ 44.09375 59.90625 40.109375 62.90625 \r\nQ 36.140625 65.921875 28.71875 65.921875 \r\nQ 24.65625 65.921875 20.015625 65.03125 \r\nQ 15.375 64.15625 9.8125 62.3125 \r\nL 9.8125 71.09375 \r\nQ 15.4375 72.65625 20.34375 73.4375 \r\nQ 25.25 74.21875 29.59375 74.21875 \r\nQ 40.828125 74.21875 47.359375 69.109375 \r\nQ 53.90625 64.015625 53.90625 55.328125 \r\nQ 53.90625 49.265625 50.4375 45.09375 \r\nQ 46.96875 40.921875 40.578125 39.3125 \r\nz\r\n\" id=\"DejaVuSans-51\"/>\r\n       </defs>\r\n       <use xlink:href=\"#DejaVuSans-51\"/>\r\n       <use x=\"63.623047\" xlink:href=\"#DejaVuSans-48\"/>\r\n       <use x=\"127.246094\" xlink:href=\"#DejaVuSans-48\"/>\r\n       <use x=\"190.869141\" xlink:href=\"#DejaVuSans-48\"/>\r\n       <use x=\"254.492188\" xlink:href=\"#DejaVuSans-48\"/>\r\n      </g>\r\n     </g>\r\n    </g>\r\n    <g id=\"ytick_8\">\r\n     <g id=\"line2d_10\">\r\n      <g>\r\n       <use style=\"stroke:#000000;stroke-width:0.8;\" x=\"59.690625\" xlink:href=\"#mda711b2280\" y=\"44.728027\"/>\r\n      </g>\r\n     </g>\r\n     <g id=\"text_11\">\r\n      <!-- 35000 -->\r\n      <g transform=\"translate(20.878125 48.527246)scale(0.1 -0.1)\">\r\n       <use xlink:href=\"#DejaVuSans-51\"/>\r\n       <use x=\"63.623047\" xlink:href=\"#DejaVuSans-53\"/>\r\n       <use x=\"127.246094\" xlink:href=\"#DejaVuSans-48\"/>\r\n       <use x=\"190.869141\" xlink:href=\"#DejaVuSans-48\"/>\r\n       <use x=\"254.492188\" xlink:href=\"#DejaVuSans-48\"/>\r\n      </g>\r\n     </g>\r\n    </g>\r\n    <g id=\"ytick_9\">\r\n     <g id=\"line2d_11\">\r\n      <g>\r\n       <use style=\"stroke:#000000;stroke-width:0.8;\" x=\"59.690625\" xlink:href=\"#mda711b2280\" y=\"11.260603\"/>\r\n      </g>\r\n     </g>\r\n     <g id=\"text_12\">\r\n      <!-- 40000 -->\r\n      <g transform=\"translate(20.878125 15.059821)scale(0.1 -0.1)\">\r\n       <defs>\r\n        <path d=\"M 37.796875 64.3125 \r\nL 12.890625 25.390625 \r\nL 37.796875 25.390625 \r\nz\r\nM 35.203125 72.90625 \r\nL 47.609375 72.90625 \r\nL 47.609375 25.390625 \r\nL 58.015625 25.390625 \r\nL 58.015625 17.1875 \r\nL 47.609375 17.1875 \r\nL 47.609375 0 \r\nL 37.796875 0 \r\nL 37.796875 17.1875 \r\nL 4.890625 17.1875 \r\nL 4.890625 26.703125 \r\nz\r\n\" id=\"DejaVuSans-52\"/>\r\n       </defs>\r\n       <use xlink:href=\"#DejaVuSans-52\"/>\r\n       <use x=\"63.623047\" xlink:href=\"#DejaVuSans-48\"/>\r\n       <use x=\"127.246094\" xlink:href=\"#DejaVuSans-48\"/>\r\n       <use x=\"190.869141\" xlink:href=\"#DejaVuSans-48\"/>\r\n       <use x=\"254.492188\" xlink:href=\"#DejaVuSans-48\"/>\r\n      </g>\r\n     </g>\r\n    </g>\r\n    <g id=\"text_13\">\r\n     <!-- count -->\r\n     <g transform=\"translate(14.798438 157.20625)rotate(-90)scale(0.1 -0.1)\">\r\n      <defs>\r\n       <path d=\"M 48.78125 52.59375 \r\nL 48.78125 44.1875 \r\nQ 44.96875 46.296875 41.140625 47.34375 \r\nQ 37.3125 48.390625 33.40625 48.390625 \r\nQ 24.65625 48.390625 19.8125 42.84375 \r\nQ 14.984375 37.3125 14.984375 27.296875 \r\nQ 14.984375 17.28125 19.8125 11.734375 \r\nQ 24.65625 6.203125 33.40625 6.203125 \r\nQ 37.3125 6.203125 41.140625 7.25 \r\nQ 44.96875 8.296875 48.78125 10.40625 \r\nL 48.78125 2.09375 \r\nQ 45.015625 0.34375 40.984375 -0.53125 \r\nQ 36.96875 -1.421875 32.421875 -1.421875 \r\nQ 20.0625 -1.421875 12.78125 6.34375 \r\nQ 5.515625 14.109375 5.515625 27.296875 \r\nQ 5.515625 40.671875 12.859375 48.328125 \r\nQ 20.21875 56 33.015625 56 \r\nQ 37.15625 56 41.109375 55.140625 \r\nQ 45.0625 54.296875 48.78125 52.59375 \r\nz\r\n\" id=\"DejaVuSans-99\"/>\r\n       <path d=\"M 8.5 21.578125 \r\nL 8.5 54.6875 \r\nL 17.484375 54.6875 \r\nL 17.484375 21.921875 \r\nQ 17.484375 14.15625 20.5 10.265625 \r\nQ 23.53125 6.390625 29.59375 6.390625 \r\nQ 36.859375 6.390625 41.078125 11.03125 \r\nQ 45.3125 15.671875 45.3125 23.6875 \r\nL 45.3125 54.6875 \r\nL 54.296875 54.6875 \r\nL 54.296875 0 \r\nL 45.3125 0 \r\nL 45.3125 8.40625 \r\nQ 42.046875 3.421875 37.71875 1 \r\nQ 33.40625 -1.421875 27.6875 -1.421875 \r\nQ 18.265625 -1.421875 13.375 4.4375 \r\nQ 8.5 10.296875 8.5 21.578125 \r\nz\r\nM 31.109375 56 \r\nz\r\n\" id=\"DejaVuSans-117\"/>\r\n       <path d=\"M 18.3125 70.21875 \r\nL 18.3125 54.6875 \r\nL 36.8125 54.6875 \r\nL 36.8125 47.703125 \r\nL 18.3125 47.703125 \r\nL 18.3125 18.015625 \r\nQ 18.3125 11.328125 20.140625 9.421875 \r\nQ 21.96875 7.515625 27.59375 7.515625 \r\nL 36.8125 7.515625 \r\nL 36.8125 0 \r\nL 27.59375 0 \r\nQ 17.1875 0 13.234375 3.875 \r\nQ 9.28125 7.765625 9.28125 18.015625 \r\nL 9.28125 47.703125 \r\nL 2.6875 47.703125 \r\nL 2.6875 54.6875 \r\nL 9.28125 54.6875 \r\nL 9.28125 70.21875 \r\nz\r\n\" id=\"DejaVuSans-116\"/>\r\n      </defs>\r\n      <use xlink:href=\"#DejaVuSans-99\"/>\r\n      <use x=\"54.980469\" xlink:href=\"#DejaVuSans-111\"/>\r\n      <use x=\"116.162109\" xlink:href=\"#DejaVuSans-117\"/>\r\n      <use x=\"179.541016\" xlink:href=\"#DejaVuSans-110\"/>\r\n      <use x=\"242.919922\" xlink:href=\"#DejaVuSans-116\"/>\r\n     </g>\r\n    </g>\r\n   </g>\r\n   <g id=\"patch_5\">\r\n    <path d=\"M 59.690625 279 \r\nL 59.690625 7.2 \r\n\" style=\"fill:none;stroke:#000000;stroke-linecap:square;stroke-linejoin:miter;stroke-width:0.8;\"/>\r\n   </g>\r\n   <g id=\"patch_6\">\r\n    <path d=\"M 506.090625 279 \r\nL 506.090625 7.2 \r\n\" style=\"fill:none;stroke:#000000;stroke-linecap:square;stroke-linejoin:miter;stroke-width:0.8;\"/>\r\n   </g>\r\n   <g id=\"patch_7\">\r\n    <path d=\"M 59.690625 279 \r\nL 506.090625 279 \r\n\" style=\"fill:none;stroke:#000000;stroke-linecap:square;stroke-linejoin:miter;stroke-width:0.8;\"/>\r\n   </g>\r\n   <g id=\"patch_8\">\r\n    <path d=\"M 59.690625 7.2 \r\nL 506.090625 7.2 \r\n\" style=\"fill:none;stroke:#000000;stroke-linecap:square;stroke-linejoin:miter;stroke-width:0.8;\"/>\r\n   </g>\r\n  </g>\r\n </g>\r\n <defs>\r\n  <clipPath id=\"pae00c3ad0c\">\r\n   <rect height=\"271.8\" width=\"446.4\" x=\"59.690625\" y=\"7.2\"/>\r\n  </clipPath>\r\n </defs>\r\n</svg>\r\n",
      "image/png": "[encoded data removed]"
     },
     "metadata": {
      "needs_background": "light"
     }
    }
   ],
   "source": [
    "plot_cat('Response')"
   ]
  },
  {
   "cell_type": "code",
   "execution_count": 139,
   "metadata": {},
   "outputs": [
    {
     "output_type": "display_data",
     "data": {
      "text/plain": "<Figure size 1080x360 with 2 Axes>",
      "image/svg+xml": "<?xml version=\"1.0\" encoding=\"utf-8\" standalone=\"no\"?>\r\n<!DOCTYPE svg PUBLIC \"-//W3C//DTD SVG 1.1//EN\"\r\n  \"http://www.w3.org/Graphics/SVG/1.1/DTD/svg11.dtd\">\r\n<!-- Created with matplotlib (https://matplotlib.org/) -->\r\n<svg height=\"359.161pt\" version=\"1.1\" viewBox=\"0 0 854.9 359.161\" width=\"854.9pt\" xmlns=\"http://www.w3.org/2000/svg\" xmlns:xlink=\"http://www.w3.org/1999/xlink\">\r\n <metadata>\r\n  <rdf:RDF xmlns:cc=\"http://creativecommons.org/ns#\" xmlns:dc=\"http://purl.org/dc/elements/1.1/\" xmlns:rdf=\"http://www.w3.org/1999/02/22-rdf-syntax-ns#\">\r\n   <cc:Work>\r\n    <dc:type rdf:resource=\"http://purl.org/dc/dcmitype/StillImage\"/>\r\n    <dc:date>2021-02-28T21:39:08.245348</dc:date>\r\n    <dc:format>image/svg+xml</dc:format>\r\n    <dc:creator>\r\n     <cc:Agent>\r\n      <dc:title>Matplotlib v3.3.4, https://matplotlib.org/</dc:title>\r\n     </cc:Agent>\r\n    </dc:creator>\r\n   </cc:Work>\r\n  </rdf:RDF>\r\n </metadata>\r\n <defs>\r\n  <style type=\"text/css\">*{stroke-linecap:butt;stroke-linejoin:round;}</style>\r\n </defs>\r\n <g id=\"figure_1\">\r\n  <g id=\"patch_1\">\r\n   <path d=\"M 0 359.161 \r\nL 854.9 359.161 \r\nL 854.9 0 \r\nL 0 0 \r\nz\r\n\" style=\"fill:none;\"/>\r\n  </g>\r\n  <g id=\"axes_1\">\r\n   <g id=\"patch_2\">\r\n    <path d=\"M 10.7 321.326625 \r\nL 391.154545 321.326625 \r\nL 391.154545 49.526625 \r\nL 10.7 49.526625 \r\nz\r\n\" style=\"fill:#ffffff;\"/>\r\n   </g>\r\n   <g id=\"patch_3\">\r\n    <path clip-path=\"url(#pe97f0b13b5)\" d=\"M 86.67328 76.706625 \r\nL 86.67328 294.146625 \r\nL 161.185289 294.146625 \r\nL 161.185289 76.706625 \r\nL 86.67328 76.706625 \r\nz\r\n\" style=\"fill:#3274a1;stroke:#3f3f3f;stroke-linejoin:miter;stroke-width:1.5;\"/>\r\n   </g>\r\n   <g id=\"matplotlib.axis_1\">\r\n    <g id=\"xtick_1\">\r\n     <g id=\"line2d_1\">\r\n      <defs>\r\n       <path d=\"M 0 0 \r\nL 0 3.5 \r\n\" id=\"mdb819b6b4a\" style=\"stroke:#000000;stroke-width:0.8;\"/>\r\n      </defs>\r\n      <g>\r\n       <use style=\"stroke:#000000;stroke-width:0.8;\" x=\"93.006127\" xlink:href=\"#mdb819b6b4a\" y=\"321.326625\"/>\r\n      </g>\r\n     </g>\r\n     <g id=\"text_1\">\r\n      <!-- 10000 -->\r\n      <g transform=\"translate(77.099877 335.925062)scale(0.1 -0.1)\">\r\n       <defs>\r\n        <path d=\"M 12.40625 8.296875 \r\nL 28.515625 8.296875 \r\nL 28.515625 63.921875 \r\nL 10.984375 60.40625 \r\nL 10.984375 69.390625 \r\nL 28.421875 72.90625 \r\nL 38.28125 72.90625 \r\nL 38.28125 8.296875 \r\nL 54.390625 8.296875 \r\nL 54.390625 0 \r\nL 12.40625 0 \r\nz\r\n\" id=\"DejaVuSans-49\"/>\r\n        <path d=\"M 31.78125 66.40625 \r\nQ 24.171875 66.40625 20.328125 58.90625 \r\nQ 16.5 51.421875 16.5 36.375 \r\nQ 16.5 21.390625 20.328125 13.890625 \r\nQ 24.171875 6.390625 31.78125 6.390625 \r\nQ 39.453125 6.390625 43.28125 13.890625 \r\nQ 47.125 21.390625 47.125 36.375 \r\nQ 47.125 51.421875 43.28125 58.90625 \r\nQ 39.453125 66.40625 31.78125 66.40625 \r\nz\r\nM 31.78125 74.21875 \r\nQ 44.046875 74.21875 50.515625 64.515625 \r\nQ 56.984375 54.828125 56.984375 36.375 \r\nQ 56.984375 17.96875 50.515625 8.265625 \r\nQ 44.046875 -1.421875 31.78125 -1.421875 \r\nQ 19.53125 -1.421875 13.0625 8.265625 \r\nQ 6.59375 17.96875 6.59375 36.375 \r\nQ 6.59375 54.828125 13.0625 64.515625 \r\nQ 19.53125 74.21875 31.78125 74.21875 \r\nz\r\n\" id=\"DejaVuSans-48\"/>\r\n       </defs>\r\n       <use xlink:href=\"#DejaVuSans-49\"/>\r\n       <use x=\"63.623047\" xlink:href=\"#DejaVuSans-48\"/>\r\n       <use x=\"127.246094\" xlink:href=\"#DejaVuSans-48\"/>\r\n       <use x=\"190.869141\" xlink:href=\"#DejaVuSans-48\"/>\r\n       <use x=\"254.492188\" xlink:href=\"#DejaVuSans-48\"/>\r\n      </g>\r\n     </g>\r\n    </g>\r\n    <g id=\"xtick_2\">\r\n     <g id=\"line2d_2\">\r\n      <g>\r\n       <use style=\"stroke:#000000;stroke-width:0.8;\" x=\"177.219519\" xlink:href=\"#mdb819b6b4a\" y=\"321.326625\"/>\r\n      </g>\r\n     </g>\r\n     <g id=\"text_2\">\r\n      <!-- 20000 -->\r\n      <g transform=\"translate(161.313269 335.925062)scale(0.1 -0.1)\">\r\n       <defs>\r\n        <path d=\"M 19.1875 8.296875 \r\nL 53.609375 8.296875 \r\nL 53.609375 0 \r\nL 7.328125 0 \r\nL 7.328125 8.296875 \r\nQ 12.9375 14.109375 22.625 23.890625 \r\nQ 32.328125 33.6875 34.8125 36.53125 \r\nQ 39.546875 41.84375 41.421875 45.53125 \r\nQ 43.3125 49.21875 43.3125 52.78125 \r\nQ 43.3125 58.59375 39.234375 62.25 \r\nQ 35.15625 65.921875 28.609375 65.921875 \r\nQ 23.96875 65.921875 18.8125 64.3125 \r\nQ 13.671875 62.703125 7.8125 59.421875 \r\nL 7.8125 69.390625 \r\nQ 13.765625 71.78125 18.9375 73 \r\nQ 24.125 74.21875 28.421875 74.21875 \r\nQ 39.75 74.21875 46.484375 68.546875 \r\nQ 53.21875 62.890625 53.21875 53.421875 \r\nQ 53.21875 48.921875 51.53125 44.890625 \r\nQ 49.859375 40.875 45.40625 35.40625 \r\nQ 44.1875 33.984375 37.640625 27.21875 \r\nQ 31.109375 20.453125 19.1875 8.296875 \r\nz\r\n\" id=\"DejaVuSans-50\"/>\r\n       </defs>\r\n       <use xlink:href=\"#DejaVuSans-50\"/>\r\n       <use x=\"63.623047\" xlink:href=\"#DejaVuSans-48\"/>\r\n       <use x=\"127.246094\" xlink:href=\"#DejaVuSans-48\"/>\r\n       <use x=\"190.869141\" xlink:href=\"#DejaVuSans-48\"/>\r\n       <use x=\"254.492188\" xlink:href=\"#DejaVuSans-48\"/>\r\n      </g>\r\n     </g>\r\n    </g>\r\n    <g id=\"xtick_3\">\r\n     <g id=\"line2d_3\">\r\n      <g>\r\n       <use style=\"stroke:#000000;stroke-width:0.8;\" x=\"261.43291\" xlink:href=\"#mdb819b6b4a\" y=\"321.326625\"/>\r\n      </g>\r\n     </g>\r\n     <g id=\"text_3\">\r\n      <!-- 30000 -->\r\n      <g transform=\"translate(245.52666 335.925062)scale(0.1 -0.1)\">\r\n       <defs>\r\n        <path d=\"M 40.578125 39.3125 \r\nQ 47.65625 37.796875 51.625 33 \r\nQ 55.609375 28.21875 55.609375 21.1875 \r\nQ 55.609375 10.40625 48.1875 4.484375 \r\nQ 40.765625 -1.421875 27.09375 -1.421875 \r\nQ 22.515625 -1.421875 17.65625 -0.515625 \r\nQ 12.796875 0.390625 7.625 2.203125 \r\nL 7.625 11.71875 \r\nQ 11.71875 9.328125 16.59375 8.109375 \r\nQ 21.484375 6.890625 26.8125 6.890625 \r\nQ 36.078125 6.890625 40.9375 10.546875 \r\nQ 45.796875 14.203125 45.796875 21.1875 \r\nQ 45.796875 27.640625 41.28125 31.265625 \r\nQ 36.765625 34.90625 28.71875 34.90625 \r\nL 20.21875 34.90625 \r\nL 20.21875 43.015625 \r\nL 29.109375 43.015625 \r\nQ 36.375 43.015625 40.234375 45.921875 \r\nQ 44.09375 48.828125 44.09375 54.296875 \r\nQ 44.09375 59.90625 40.109375 62.90625 \r\nQ 36.140625 65.921875 28.71875 65.921875 \r\nQ 24.65625 65.921875 20.015625 65.03125 \r\nQ 15.375 64.15625 9.8125 62.3125 \r\nL 9.8125 71.09375 \r\nQ 15.4375 72.65625 20.34375 73.4375 \r\nQ 25.25 74.21875 29.59375 74.21875 \r\nQ 40.828125 74.21875 47.359375 69.109375 \r\nQ 53.90625 64.015625 53.90625 55.328125 \r\nQ 53.90625 49.265625 50.4375 45.09375 \r\nQ 46.96875 40.921875 40.578125 39.3125 \r\nz\r\n\" id=\"DejaVuSans-51\"/>\r\n       </defs>\r\n       <use xlink:href=\"#DejaVuSans-51\"/>\r\n       <use x=\"63.623047\" xlink:href=\"#DejaVuSans-48\"/>\r\n       <use x=\"127.246094\" xlink:href=\"#DejaVuSans-48\"/>\r\n       <use x=\"190.869141\" xlink:href=\"#DejaVuSans-48\"/>\r\n       <use x=\"254.492188\" xlink:href=\"#DejaVuSans-48\"/>\r\n      </g>\r\n     </g>\r\n    </g>\r\n    <g id=\"xtick_4\">\r\n     <g id=\"line2d_4\">\r\n      <g>\r\n       <use style=\"stroke:#000000;stroke-width:0.8;\" x=\"345.646302\" xlink:href=\"#mdb819b6b4a\" y=\"321.326625\"/>\r\n      </g>\r\n     </g>\r\n     <g id=\"text_4\">\r\n      <!-- 40000 -->\r\n      <g transform=\"translate(329.740052 335.925062)scale(0.1 -0.1)\">\r\n       <defs>\r\n        <path d=\"M 37.796875 64.3125 \r\nL 12.890625 25.390625 \r\nL 37.796875 25.390625 \r\nz\r\nM 35.203125 72.90625 \r\nL 47.609375 72.90625 \r\nL 47.609375 25.390625 \r\nL 58.015625 25.390625 \r\nL 58.015625 17.1875 \r\nL 47.609375 17.1875 \r\nL 47.609375 0 \r\nL 37.796875 0 \r\nL 37.796875 17.1875 \r\nL 4.890625 17.1875 \r\nL 4.890625 26.703125 \r\nz\r\n\" id=\"DejaVuSans-52\"/>\r\n       </defs>\r\n       <use xlink:href=\"#DejaVuSans-52\"/>\r\n       <use x=\"63.623047\" xlink:href=\"#DejaVuSans-48\"/>\r\n       <use x=\"127.246094\" xlink:href=\"#DejaVuSans-48\"/>\r\n       <use x=\"190.869141\" xlink:href=\"#DejaVuSans-48\"/>\r\n       <use x=\"254.492188\" xlink:href=\"#DejaVuSans-48\"/>\r\n      </g>\r\n     </g>\r\n    </g>\r\n    <g id=\"text_5\">\r\n     <!-- Reco_Policy_Premium -->\r\n     <g transform=\"translate(147.167898 349.603187)scale(0.1 -0.1)\">\r\n      <defs>\r\n       <path d=\"M 44.390625 34.1875 \r\nQ 47.5625 33.109375 50.5625 29.59375 \r\nQ 53.5625 26.078125 56.59375 19.921875 \r\nL 66.609375 0 \r\nL 56 0 \r\nL 46.6875 18.703125 \r\nQ 43.0625 26.03125 39.671875 28.421875 \r\nQ 36.28125 30.8125 30.421875 30.8125 \r\nL 19.671875 30.8125 \r\nL 19.671875 0 \r\nL 9.8125 0 \r\nL 9.8125 72.90625 \r\nL 32.078125 72.90625 \r\nQ 44.578125 72.90625 50.734375 67.671875 \r\nQ 56.890625 62.453125 56.890625 51.90625 \r\nQ 56.890625 45.015625 53.6875 40.46875 \r\nQ 50.484375 35.9375 44.390625 34.1875 \r\nz\r\nM 19.671875 64.796875 \r\nL 19.671875 38.921875 \r\nL 32.078125 38.921875 \r\nQ 39.203125 38.921875 42.84375 42.21875 \r\nQ 46.484375 45.515625 46.484375 51.90625 \r\nQ 46.484375 58.296875 42.84375 61.546875 \r\nQ 39.203125 64.796875 32.078125 64.796875 \r\nz\r\n\" id=\"DejaVuSans-82\"/>\r\n       <path d=\"M 56.203125 29.59375 \r\nL 56.203125 25.203125 \r\nL 14.890625 25.203125 \r\nQ 15.484375 15.921875 20.484375 11.0625 \r\nQ 25.484375 6.203125 34.421875 6.203125 \r\nQ 39.59375 6.203125 44.453125 7.46875 \r\nQ 49.3125 8.734375 54.109375 11.28125 \r\nL 54.109375 2.78125 \r\nQ 49.265625 0.734375 44.1875 -0.34375 \r\nQ 39.109375 -1.421875 33.890625 -1.421875 \r\nQ 20.796875 -1.421875 13.15625 6.1875 \r\nQ 5.515625 13.8125 5.515625 26.8125 \r\nQ 5.515625 40.234375 12.765625 48.109375 \r\nQ 20.015625 56 32.328125 56 \r\nQ 43.359375 56 49.78125 48.890625 \r\nQ 56.203125 41.796875 56.203125 29.59375 \r\nz\r\nM 47.21875 32.234375 \r\nQ 47.125 39.59375 43.09375 43.984375 \r\nQ 39.0625 48.390625 32.421875 48.390625 \r\nQ 24.90625 48.390625 20.390625 44.140625 \r\nQ 15.875 39.890625 15.1875 32.171875 \r\nz\r\n\" id=\"DejaVuSans-101\"/>\r\n       <path d=\"M 48.78125 52.59375 \r\nL 48.78125 44.1875 \r\nQ 44.96875 46.296875 41.140625 47.34375 \r\nQ 37.3125 48.390625 33.40625 48.390625 \r\nQ 24.65625 48.390625 19.8125 42.84375 \r\nQ 14.984375 37.3125 14.984375 27.296875 \r\nQ 14.984375 17.28125 19.8125 11.734375 \r\nQ 24.65625 6.203125 33.40625 6.203125 \r\nQ 37.3125 6.203125 41.140625 7.25 \r\nQ 44.96875 8.296875 48.78125 10.40625 \r\nL 48.78125 2.09375 \r\nQ 45.015625 0.34375 40.984375 -0.53125 \r\nQ 36.96875 -1.421875 32.421875 -1.421875 \r\nQ 20.0625 -1.421875 12.78125 6.34375 \r\nQ 5.515625 14.109375 5.515625 27.296875 \r\nQ 5.515625 40.671875 12.859375 48.328125 \r\nQ 20.21875 56 33.015625 56 \r\nQ 37.15625 56 41.109375 55.140625 \r\nQ 45.0625 54.296875 48.78125 52.59375 \r\nz\r\n\" id=\"DejaVuSans-99\"/>\r\n       <path d=\"M 30.609375 48.390625 \r\nQ 23.390625 48.390625 19.1875 42.75 \r\nQ 14.984375 37.109375 14.984375 27.296875 \r\nQ 14.984375 17.484375 19.15625 11.84375 \r\nQ 23.34375 6.203125 30.609375 6.203125 \r\nQ 37.796875 6.203125 41.984375 11.859375 \r\nQ 46.1875 17.53125 46.1875 27.296875 \r\nQ 46.1875 37.015625 41.984375 42.703125 \r\nQ 37.796875 48.390625 30.609375 48.390625 \r\nz\r\nM 30.609375 56 \r\nQ 42.328125 56 49.015625 48.375 \r\nQ 55.71875 40.765625 55.71875 27.296875 \r\nQ 55.71875 13.875 49.015625 6.21875 \r\nQ 42.328125 -1.421875 30.609375 -1.421875 \r\nQ 18.84375 -1.421875 12.171875 6.21875 \r\nQ 5.515625 13.875 5.515625 27.296875 \r\nQ 5.515625 40.765625 12.171875 48.375 \r\nQ 18.84375 56 30.609375 56 \r\nz\r\n\" id=\"DejaVuSans-111\"/>\r\n       <path d=\"M 50.984375 -16.609375 \r\nL 50.984375 -23.578125 \r\nL -0.984375 -23.578125 \r\nL -0.984375 -16.609375 \r\nz\r\n\" id=\"DejaVuSans-95\"/>\r\n       <path d=\"M 19.671875 64.796875 \r\nL 19.671875 37.40625 \r\nL 32.078125 37.40625 \r\nQ 38.96875 37.40625 42.71875 40.96875 \r\nQ 46.484375 44.53125 46.484375 51.125 \r\nQ 46.484375 57.671875 42.71875 61.234375 \r\nQ 38.96875 64.796875 32.078125 64.796875 \r\nz\r\nM 9.8125 72.90625 \r\nL 32.078125 72.90625 \r\nQ 44.34375 72.90625 50.609375 67.359375 \r\nQ 56.890625 61.8125 56.890625 51.125 \r\nQ 56.890625 40.328125 50.609375 34.8125 \r\nQ 44.34375 29.296875 32.078125 29.296875 \r\nL 19.671875 29.296875 \r\nL 19.671875 0 \r\nL 9.8125 0 \r\nz\r\n\" id=\"DejaVuSans-80\"/>\r\n       <path d=\"M 9.421875 75.984375 \r\nL 18.40625 75.984375 \r\nL 18.40625 0 \r\nL 9.421875 0 \r\nz\r\n\" id=\"DejaVuSans-108\"/>\r\n       <path d=\"M 9.421875 54.6875 \r\nL 18.40625 54.6875 \r\nL 18.40625 0 \r\nL 9.421875 0 \r\nz\r\nM 9.421875 75.984375 \r\nL 18.40625 75.984375 \r\nL 18.40625 64.59375 \r\nL 9.421875 64.59375 \r\nz\r\n\" id=\"DejaVuSans-105\"/>\r\n       <path d=\"M 32.171875 -5.078125 \r\nQ 28.375 -14.84375 24.75 -17.8125 \r\nQ 21.140625 -20.796875 15.09375 -20.796875 \r\nL 7.90625 -20.796875 \r\nL 7.90625 -13.28125 \r\nL 13.1875 -13.28125 \r\nQ 16.890625 -13.28125 18.9375 -11.515625 \r\nQ 21 -9.765625 23.484375 -3.21875 \r\nL 25.09375 0.875 \r\nL 2.984375 54.6875 \r\nL 12.5 54.6875 \r\nL 29.59375 11.921875 \r\nL 46.6875 54.6875 \r\nL 56.203125 54.6875 \r\nz\r\n\" id=\"DejaVuSans-121\"/>\r\n       <path d=\"M 41.109375 46.296875 \r\nQ 39.59375 47.171875 37.8125 47.578125 \r\nQ 36.03125 48 33.890625 48 \r\nQ 26.265625 48 22.1875 43.046875 \r\nQ 18.109375 38.09375 18.109375 28.8125 \r\nL 18.109375 0 \r\nL 9.078125 0 \r\nL 9.078125 54.6875 \r\nL 18.109375 54.6875 \r\nL 18.109375 46.1875 \r\nQ 20.953125 51.171875 25.484375 53.578125 \r\nQ 30.03125 56 36.53125 56 \r\nQ 37.453125 56 38.578125 55.875 \r\nQ 39.703125 55.765625 41.0625 55.515625 \r\nz\r\n\" id=\"DejaVuSans-114\"/>\r\n       <path d=\"M 52 44.1875 \r\nQ 55.375 50.25 60.0625 53.125 \r\nQ 64.75 56 71.09375 56 \r\nQ 79.640625 56 84.28125 50.015625 \r\nQ 88.921875 44.046875 88.921875 33.015625 \r\nL 88.921875 0 \r\nL 79.890625 0 \r\nL 79.890625 32.71875 \r\nQ 79.890625 40.578125 77.09375 44.375 \r\nQ 74.3125 48.1875 68.609375 48.1875 \r\nQ 61.625 48.1875 57.5625 43.546875 \r\nQ 53.515625 38.921875 53.515625 30.90625 \r\nL 53.515625 0 \r\nL 44.484375 0 \r\nL 44.484375 32.71875 \r\nQ 44.484375 40.625 41.703125 44.40625 \r\nQ 38.921875 48.1875 33.109375 48.1875 \r\nQ 26.21875 48.1875 22.15625 43.53125 \r\nQ 18.109375 38.875 18.109375 30.90625 \r\nL 18.109375 0 \r\nL 9.078125 0 \r\nL 9.078125 54.6875 \r\nL 18.109375 54.6875 \r\nL 18.109375 46.1875 \r\nQ 21.1875 51.21875 25.484375 53.609375 \r\nQ 29.78125 56 35.6875 56 \r\nQ 41.65625 56 45.828125 52.96875 \r\nQ 50 49.953125 52 44.1875 \r\nz\r\n\" id=\"DejaVuSans-109\"/>\r\n       <path d=\"M 8.5 21.578125 \r\nL 8.5 54.6875 \r\nL 17.484375 54.6875 \r\nL 17.484375 21.921875 \r\nQ 17.484375 14.15625 20.5 10.265625 \r\nQ 23.53125 6.390625 29.59375 6.390625 \r\nQ 36.859375 6.390625 41.078125 11.03125 \r\nQ 45.3125 15.671875 45.3125 23.6875 \r\nL 45.3125 54.6875 \r\nL 54.296875 54.6875 \r\nL 54.296875 0 \r\nL 45.3125 0 \r\nL 45.3125 8.40625 \r\nQ 42.046875 3.421875 37.71875 1 \r\nQ 33.40625 -1.421875 27.6875 -1.421875 \r\nQ 18.265625 -1.421875 13.375 4.4375 \r\nQ 8.5 10.296875 8.5 21.578125 \r\nz\r\nM 31.109375 56 \r\nz\r\n\" id=\"DejaVuSans-117\"/>\r\n      </defs>\r\n      <use xlink:href=\"#DejaVuSans-82\"/>\r\n      <use x=\"64.982422\" xlink:href=\"#DejaVuSans-101\"/>\r\n      <use x=\"126.505859\" xlink:href=\"#DejaVuSans-99\"/>\r\n      <use x=\"181.486328\" xlink:href=\"#DejaVuSans-111\"/>\r\n      <use x=\"242.667969\" xlink:href=\"#DejaVuSans-95\"/>\r\n      <use x=\"292.667969\" xlink:href=\"#DejaVuSans-80\"/>\r\n      <use x=\"349.345703\" xlink:href=\"#DejaVuSans-111\"/>\r\n      <use x=\"410.527344\" xlink:href=\"#DejaVuSans-108\"/>\r\n      <use x=\"438.310547\" xlink:href=\"#DejaVuSans-105\"/>\r\n      <use x=\"466.09375\" xlink:href=\"#DejaVuSans-99\"/>\r\n      <use x=\"521.074219\" xlink:href=\"#DejaVuSans-121\"/>\r\n      <use x=\"580.253906\" xlink:href=\"#DejaVuSans-95\"/>\r\n      <use x=\"630.253906\" xlink:href=\"#DejaVuSans-80\"/>\r\n      <use x=\"688.806641\" xlink:href=\"#DejaVuSans-114\"/>\r\n      <use x=\"727.669922\" xlink:href=\"#DejaVuSans-101\"/>\r\n      <use x=\"789.193359\" xlink:href=\"#DejaVuSans-109\"/>\r\n      <use x=\"886.605469\" xlink:href=\"#DejaVuSans-105\"/>\r\n      <use x=\"914.388672\" xlink:href=\"#DejaVuSans-117\"/>\r\n      <use x=\"977.767578\" xlink:href=\"#DejaVuSans-109\"/>\r\n     </g>\r\n    </g>\r\n   </g>\r\n   <g id=\"matplotlib.axis_2\">\r\n    <g id=\"ytick_1\">\r\n     <g id=\"line2d_5\">\r\n      <defs>\r\n       <path d=\"M 0 0 \r\nL -3.5 0 \r\n\" id=\"m9679f988ea\" style=\"stroke:#000000;stroke-width:0.8;\"/>\r\n      </defs>\r\n      <g>\r\n       <use style=\"stroke:#000000;stroke-width:0.8;\" x=\"10.7\" xlink:href=\"#m9679f988ea\" y=\"185.426625\"/>\r\n      </g>\r\n     </g>\r\n    </g>\r\n   </g>\r\n   <g id=\"line2d_6\">\r\n    <path clip-path=\"url(#pe97f0b13b5)\" d=\"M 86.67328 185.426625 \r\nL 27.993388 185.426625 \r\n\" style=\"fill:none;stroke:#3f3f3f;stroke-linecap:square;stroke-width:1.5;\"/>\r\n   </g>\r\n   <g id=\"line2d_7\">\r\n    <path clip-path=\"url(#pe97f0b13b5)\" d=\"M 161.185289 185.426625 \r\nL 272.928038 185.426625 \r\n\" style=\"fill:none;stroke:#3f3f3f;stroke-linecap:square;stroke-width:1.5;\"/>\r\n   </g>\r\n   <g id=\"line2d_8\">\r\n    <path clip-path=\"url(#pe97f0b13b5)\" d=\"M 27.993388 131.066625 \r\nL 27.993388 239.786625 \r\n\" style=\"fill:none;stroke:#3f3f3f;stroke-linecap:square;stroke-width:1.5;\"/>\r\n   </g>\r\n   <g id=\"line2d_9\">\r\n    <path clip-path=\"url(#pe97f0b13b5)\" d=\"M 272.928038 131.066625 \r\nL 272.928038 239.786625 \r\n\" style=\"fill:none;stroke:#3f3f3f;stroke-linecap:square;stroke-width:1.5;\"/>\r\n   </g>\r\n   <g id=\"line2d_10\">\r\n    <defs>\r\n     <path d=\"M 0 3.535534 \r\nL 2.12132 0 \r\nL 0 -3.535534 \r\nL -2.12132 0 \r\nz\r\n\" id=\"mf8aa08c94b\" style=\"stroke:#3f3f3f;stroke-linejoin:miter;\"/>\r\n    </defs>\r\n    <g clip-path=\"url(#pe97f0b13b5)\">\r\n     <use style=\"fill:#3f3f3f;stroke:#3f3f3f;stroke-linejoin:miter;\" x=\"275.688553\" xlink:href=\"#mf8aa08c94b\" y=\"185.426625\"/>\r\n     <use style=\"fill:#3f3f3f;stroke:#3f3f3f;stroke-linejoin:miter;\" x=\"285.282143\" xlink:href=\"#mf8aa08c94b\" y=\"185.426625\"/>\r\n     <use style=\"fill:#3f3f3f;stroke:#3f3f3f;stroke-linejoin:miter;\" x=\"293.770853\" xlink:href=\"#mf8aa08c94b\" y=\"185.426625\"/>\r\n     <use style=\"fill:#3f3f3f;stroke:#3f3f3f;stroke-linejoin:miter;\" x=\"327.779589\" xlink:href=\"#mf8aa08c94b\" y=\"185.426625\"/>\r\n     <use style=\"fill:#3f3f3f;stroke:#3f3f3f;stroke-linejoin:miter;\" x=\"282.856797\" xlink:href=\"#mf8aa08c94b\" y=\"185.426625\"/>\r\n     <use style=\"fill:#3f3f3f;stroke:#3f3f3f;stroke-linejoin:miter;\" x=\"288.920162\" xlink:href=\"#mf8aa08c94b\" y=\"185.426625\"/>\r\n     <use style=\"fill:#3f3f3f;stroke:#3f3f3f;stroke-linejoin:miter;\" x=\"283.826936\" xlink:href=\"#mf8aa08c94b\" y=\"185.426625\"/>\r\n     <use style=\"fill:#3f3f3f;stroke:#3f3f3f;stroke-linejoin:miter;\" x=\"289.162696\" xlink:href=\"#mf8aa08c94b\" y=\"185.426625\"/>\r\n     <use style=\"fill:#3f3f3f;stroke:#3f3f3f;stroke-linejoin:miter;\" x=\"289.620817\" xlink:href=\"#mf8aa08c94b\" y=\"185.426625\"/>\r\n     <use style=\"fill:#3f3f3f;stroke:#3f3f3f;stroke-linejoin:miter;\" x=\"281.644124\" xlink:href=\"#mf8aa08c94b\" y=\"185.426625\"/>\r\n     <use style=\"fill:#3f3f3f;stroke:#3f3f3f;stroke-linejoin:miter;\" x=\"293.528318\" xlink:href=\"#mf8aa08c94b\" y=\"185.426625\"/>\r\n     <use style=\"fill:#3f3f3f;stroke:#3f3f3f;stroke-linejoin:miter;\" x=\"290.99518\" xlink:href=\"#mf8aa08c94b\" y=\"185.426625\"/>\r\n     <use style=\"fill:#3f3f3f;stroke:#3f3f3f;stroke-linejoin:miter;\" x=\"276.793433\" xlink:href=\"#mf8aa08c94b\" y=\"185.426625\"/>\r\n     <use style=\"fill:#3f3f3f;stroke:#3f3f3f;stroke-linejoin:miter;\" x=\"314.817464\" xlink:href=\"#mf8aa08c94b\" y=\"185.426625\"/>\r\n     <use style=\"fill:#3f3f3f;stroke:#3f3f3f;stroke-linejoin:miter;\" x=\"284.06947\" xlink:href=\"#mf8aa08c94b\" y=\"185.426625\"/>\r\n     <use style=\"fill:#3f3f3f;stroke:#3f3f3f;stroke-linejoin:miter;\" x=\"306.625185\" xlink:href=\"#mf8aa08c94b\" y=\"185.426625\"/>\r\n     <use style=\"fill:#3f3f3f;stroke:#3f3f3f;stroke-linejoin:miter;\" x=\"299.241355\" xlink:href=\"#mf8aa08c94b\" y=\"185.426625\"/>\r\n     <use style=\"fill:#3f3f3f;stroke:#3f3f3f;stroke-linejoin:miter;\" x=\"287.707489\" xlink:href=\"#mf8aa08c94b\" y=\"185.426625\"/>\r\n     <use style=\"fill:#3f3f3f;stroke:#3f3f3f;stroke-linejoin:miter;\" x=\"275.526864\" xlink:href=\"#mf8aa08c94b\" y=\"185.426625\"/>\r\n     <use style=\"fill:#3f3f3f;stroke:#3f3f3f;stroke-linejoin:miter;\" x=\"298.325113\" xlink:href=\"#mf8aa08c94b\" y=\"185.426625\"/>\r\n     <use style=\"fill:#3f3f3f;stroke:#3f3f3f;stroke-linejoin:miter;\" x=\"314.87136\" xlink:href=\"#mf8aa08c94b\" y=\"185.426625\"/>\r\n     <use style=\"fill:#3f3f3f;stroke:#3f3f3f;stroke-linejoin:miter;\" x=\"280.22934\" xlink:href=\"#mf8aa08c94b\" y=\"185.426625\"/>\r\n     <use style=\"fill:#3f3f3f;stroke:#3f3f3f;stroke-linejoin:miter;\" x=\"283.665246\" xlink:href=\"#mf8aa08c94b\" y=\"185.426625\"/>\r\n     <use style=\"fill:#3f3f3f;stroke:#3f3f3f;stroke-linejoin:miter;\" x=\"278.006106\" xlink:href=\"#mf8aa08c94b\" y=\"185.426625\"/>\r\n     <use style=\"fill:#3f3f3f;stroke:#3f3f3f;stroke-linejoin:miter;\" x=\"361.22578\" xlink:href=\"#mf8aa08c94b\" y=\"185.426625\"/>\r\n     <use style=\"fill:#3f3f3f;stroke:#3f3f3f;stroke-linejoin:miter;\" x=\"296.49263\" xlink:href=\"#mf8aa08c94b\" y=\"185.426625\"/>\r\n     <use style=\"fill:#3f3f3f;stroke:#3f3f3f;stroke-linejoin:miter;\" x=\"296.950751\" xlink:href=\"#mf8aa08c94b\" y=\"185.426625\"/>\r\n     <use style=\"fill:#3f3f3f;stroke:#3f3f3f;stroke-linejoin:miter;\" x=\"279.218779\" xlink:href=\"#mf8aa08c94b\" y=\"185.426625\"/>\r\n     <use style=\"fill:#3f3f3f;stroke:#3f3f3f;stroke-linejoin:miter;\" x=\"320.099328\" xlink:href=\"#mf8aa08c94b\" y=\"185.426625\"/>\r\n     <use style=\"fill:#3f3f3f;stroke:#3f3f3f;stroke-linejoin:miter;\" x=\"277.413244\" xlink:href=\"#mf8aa08c94b\" y=\"185.426625\"/>\r\n     <use style=\"fill:#3f3f3f;stroke:#3f3f3f;stroke-linejoin:miter;\" x=\"292.598602\" xlink:href=\"#mf8aa08c94b\" y=\"185.426625\"/>\r\n     <use style=\"fill:#3f3f3f;stroke:#3f3f3f;stroke-linejoin:miter;\" x=\"278.814555\" xlink:href=\"#mf8aa08c94b\" y=\"185.426625\"/>\r\n     <use style=\"fill:#3f3f3f;stroke:#3f3f3f;stroke-linejoin:miter;\" x=\"325.354243\" xlink:href=\"#mf8aa08c94b\" y=\"185.426625\"/>\r\n     <use style=\"fill:#3f3f3f;stroke:#3f3f3f;stroke-linejoin:miter;\" x=\"285.666156\" xlink:href=\"#mf8aa08c94b\" y=\"185.426625\"/>\r\n     <use style=\"fill:#3f3f3f;stroke:#3f3f3f;stroke-linejoin:miter;\" x=\"305.43946\" xlink:href=\"#mf8aa08c94b\" y=\"185.426625\"/>\r\n     <use style=\"fill:#3f3f3f;stroke:#3f3f3f;stroke-linejoin:miter;\" x=\"365.156861\" xlink:href=\"#mf8aa08c94b\" y=\"185.426625\"/>\r\n     <use style=\"fill:#3f3f3f;stroke:#3f3f3f;stroke-linejoin:miter;\" x=\"293.770853\" xlink:href=\"#mf8aa08c94b\" y=\"185.426625\"/>\r\n     <use style=\"fill:#3f3f3f;stroke:#3f3f3f;stroke-linejoin:miter;\" x=\"287.101152\" xlink:href=\"#mf8aa08c94b\" y=\"185.426625\"/>\r\n     <use style=\"fill:#3f3f3f;stroke:#3f3f3f;stroke-linejoin:miter;\" x=\"289.391757\" xlink:href=\"#mf8aa08c94b\" y=\"185.426625\"/>\r\n     <use style=\"fill:#3f3f3f;stroke:#3f3f3f;stroke-linejoin:miter;\" x=\"292.315645\" xlink:href=\"#mf8aa08c94b\" y=\"185.426625\"/>\r\n     <use style=\"fill:#3f3f3f;stroke:#3f3f3f;stroke-linejoin:miter;\" x=\"281.644124\" xlink:href=\"#mf8aa08c94b\" y=\"185.426625\"/>\r\n     <use style=\"fill:#3f3f3f;stroke:#3f3f3f;stroke-linejoin:miter;\" x=\"312.446015\" xlink:href=\"#mf8aa08c94b\" y=\"185.426625\"/>\r\n     <use style=\"fill:#3f3f3f;stroke:#3f3f3f;stroke-linejoin:miter;\" x=\"296.034509\" xlink:href=\"#mf8aa08c94b\" y=\"185.426625\"/>\r\n     <use style=\"fill:#3f3f3f;stroke:#3f3f3f;stroke-linejoin:miter;\" x=\"274.489355\" xlink:href=\"#mf8aa08c94b\" y=\"185.426625\"/>\r\n     <use style=\"fill:#3f3f3f;stroke:#3f3f3f;stroke-linejoin:miter;\" x=\"291.588042\" xlink:href=\"#mf8aa08c94b\" y=\"185.426625\"/>\r\n     <use style=\"fill:#3f3f3f;stroke:#3f3f3f;stroke-linejoin:miter;\" x=\"317.566189\" xlink:href=\"#mf8aa08c94b\" y=\"185.426625\"/>\r\n     <use style=\"fill:#3f3f3f;stroke:#3f3f3f;stroke-linejoin:miter;\" x=\"320.69219\" xlink:href=\"#mf8aa08c94b\" y=\"185.426625\"/>\r\n     <use style=\"fill:#3f3f3f;stroke:#3f3f3f;stroke-linejoin:miter;\" x=\"301.127735\" xlink:href=\"#mf8aa08c94b\" y=\"185.426625\"/>\r\n     <use style=\"fill:#3f3f3f;stroke:#3f3f3f;stroke-linejoin:miter;\" x=\"305.291245\" xlink:href=\"#mf8aa08c94b\" y=\"185.426625\"/>\r\n     <use style=\"fill:#3f3f3f;stroke:#3f3f3f;stroke-linejoin:miter;\" x=\"301.794705\" xlink:href=\"#mf8aa08c94b\" y=\"185.426625\"/>\r\n     <use style=\"fill:#3f3f3f;stroke:#3f3f3f;stroke-linejoin:miter;\" x=\"305.378827\" xlink:href=\"#mf8aa08c94b\" y=\"185.426625\"/>\r\n     <use style=\"fill:#3f3f3f;stroke:#3f3f3f;stroke-linejoin:miter;\" x=\"280.007016\" xlink:href=\"#mf8aa08c94b\" y=\"185.426625\"/>\r\n     <use style=\"fill:#3f3f3f;stroke:#3f3f3f;stroke-linejoin:miter;\" x=\"282.082034\" xlink:href=\"#mf8aa08c94b\" y=\"185.426625\"/>\r\n     <use style=\"fill:#3f3f3f;stroke:#3f3f3f;stroke-linejoin:miter;\" x=\"288.192558\" xlink:href=\"#mf8aa08c94b\" y=\"185.426625\"/>\r\n     <use style=\"fill:#3f3f3f;stroke:#3f3f3f;stroke-linejoin:miter;\" x=\"290.537059\" xlink:href=\"#mf8aa08c94b\" y=\"185.426625\"/>\r\n     <use style=\"fill:#3f3f3f;stroke:#3f3f3f;stroke-linejoin:miter;\" x=\"291.4533\" xlink:href=\"#mf8aa08c94b\" y=\"185.426625\"/>\r\n     <use style=\"fill:#3f3f3f;stroke:#3f3f3f;stroke-linejoin:miter;\" x=\"309.434544\" xlink:href=\"#mf8aa08c94b\" y=\"185.426625\"/>\r\n     <use style=\"fill:#3f3f3f;stroke:#3f3f3f;stroke-linejoin:miter;\" x=\"283.018487\" xlink:href=\"#mf8aa08c94b\" y=\"185.426625\"/>\r\n     <use style=\"fill:#3f3f3f;stroke:#3f3f3f;stroke-linejoin:miter;\" x=\"284.32211\" xlink:href=\"#mf8aa08c94b\" y=\"185.426625\"/>\r\n     <use style=\"fill:#3f3f3f;stroke:#3f3f3f;stroke-linejoin:miter;\" x=\"318.482431\" xlink:href=\"#mf8aa08c94b\" y=\"185.426625\"/>\r\n     <use style=\"fill:#3f3f3f;stroke:#3f3f3f;stroke-linejoin:miter;\" x=\"278.275589\" xlink:href=\"#mf8aa08c94b\" y=\"185.426625\"/>\r\n     <use style=\"fill:#3f3f3f;stroke:#3f3f3f;stroke-linejoin:miter;\" x=\"282.856797\" xlink:href=\"#mf8aa08c94b\" y=\"185.426625\"/>\r\n     <use style=\"fill:#3f3f3f;stroke:#3f3f3f;stroke-linejoin:miter;\" x=\"295.576388\" xlink:href=\"#mf8aa08c94b\" y=\"185.426625\"/>\r\n     <use style=\"fill:#3f3f3f;stroke:#3f3f3f;stroke-linejoin:miter;\" x=\"301.558907\" xlink:href=\"#mf8aa08c94b\" y=\"185.426625\"/>\r\n     <use style=\"fill:#3f3f3f;stroke:#3f3f3f;stroke-linejoin:miter;\" x=\"275.526864\" xlink:href=\"#mf8aa08c94b\" y=\"185.426625\"/>\r\n     <use style=\"fill:#3f3f3f;stroke:#3f3f3f;stroke-linejoin:miter;\" x=\"315.235162\" xlink:href=\"#mf8aa08c94b\" y=\"185.426625\"/>\r\n     <use style=\"fill:#3f3f3f;stroke:#3f3f3f;stroke-linejoin:miter;\" x=\"343.012107\" xlink:href=\"#mf8aa08c94b\" y=\"185.426625\"/>\r\n     <use style=\"fill:#3f3f3f;stroke:#3f3f3f;stroke-linejoin:miter;\" x=\"280.835676\" xlink:href=\"#mf8aa08c94b\" y=\"185.426625\"/>\r\n     <use style=\"fill:#3f3f3f;stroke:#3f3f3f;stroke-linejoin:miter;\" x=\"284.312005\" xlink:href=\"#mf8aa08c94b\" y=\"185.426625\"/>\r\n     <use style=\"fill:#3f3f3f;stroke:#3f3f3f;stroke-linejoin:miter;\" x=\"274.064919\" xlink:href=\"#mf8aa08c94b\" y=\"185.426625\"/>\r\n     <use style=\"fill:#3f3f3f;stroke:#3f3f3f;stroke-linejoin:miter;\" x=\"288.731524\" xlink:href=\"#mf8aa08c94b\" y=\"185.426625\"/>\r\n     <use style=\"fill:#3f3f3f;stroke:#3f3f3f;stroke-linejoin:miter;\" x=\"314.87136\" xlink:href=\"#mf8aa08c94b\" y=\"185.426625\"/>\r\n     <use style=\"fill:#3f3f3f;stroke:#3f3f3f;stroke-linejoin:miter;\" x=\"295.38775\" xlink:href=\"#mf8aa08c94b\" y=\"185.426625\"/>\r\n     <use style=\"fill:#3f3f3f;stroke:#3f3f3f;stroke-linejoin:miter;\" x=\"345.430716\" xlink:href=\"#mf8aa08c94b\" y=\"185.426625\"/>\r\n     <use style=\"fill:#3f3f3f;stroke:#3f3f3f;stroke-linejoin:miter;\" x=\"305.196926\" xlink:href=\"#mf8aa08c94b\" y=\"185.426625\"/>\r\n     <use style=\"fill:#3f3f3f;stroke:#3f3f3f;stroke-linejoin:miter;\" x=\"298.540699\" xlink:href=\"#mf8aa08c94b\" y=\"185.426625\"/>\r\n     <use style=\"fill:#3f3f3f;stroke:#3f3f3f;stroke-linejoin:miter;\" x=\"275.176536\" xlink:href=\"#mf8aa08c94b\" y=\"185.426625\"/>\r\n     <use style=\"fill:#3f3f3f;stroke:#3f3f3f;stroke-linejoin:miter;\" x=\"281.374642\" xlink:href=\"#mf8aa08c94b\" y=\"185.426625\"/>\r\n     <use style=\"fill:#3f3f3f;stroke:#3f3f3f;stroke-linejoin:miter;\" x=\"284.675807\" xlink:href=\"#mf8aa08c94b\" y=\"185.426625\"/>\r\n     <use style=\"fill:#3f3f3f;stroke:#3f3f3f;stroke-linejoin:miter;\" x=\"285.686367\" xlink:href=\"#mf8aa08c94b\" y=\"185.426625\"/>\r\n     <use style=\"fill:#3f3f3f;stroke:#3f3f3f;stroke-linejoin:miter;\" x=\"281.832762\" xlink:href=\"#mf8aa08c94b\" y=\"185.426625\"/>\r\n     <use style=\"fill:#3f3f3f;stroke:#3f3f3f;stroke-linejoin:miter;\" x=\"274.826208\" xlink:href=\"#mf8aa08c94b\" y=\"185.426625\"/>\r\n     <use style=\"fill:#3f3f3f;stroke:#3f3f3f;stroke-linejoin:miter;\" x=\"280.22934\" xlink:href=\"#mf8aa08c94b\" y=\"185.426625\"/>\r\n     <use style=\"fill:#3f3f3f;stroke:#3f3f3f;stroke-linejoin:miter;\" x=\"293.543477\" xlink:href=\"#mf8aa08c94b\" y=\"185.426625\"/>\r\n     <use style=\"fill:#3f3f3f;stroke:#3f3f3f;stroke-linejoin:miter;\" x=\"314.925257\" xlink:href=\"#mf8aa08c94b\" y=\"185.426625\"/>\r\n     <use style=\"fill:#3f3f3f;stroke:#3f3f3f;stroke-linejoin:miter;\" x=\"313.443101\" xlink:href=\"#mf8aa08c94b\" y=\"185.426625\"/>\r\n     <use style=\"fill:#3f3f3f;stroke:#3f3f3f;stroke-linejoin:miter;\" x=\"283.37892\" xlink:href=\"#mf8aa08c94b\" y=\"185.426625\"/>\r\n     <use style=\"fill:#3f3f3f;stroke:#3f3f3f;stroke-linejoin:miter;\" x=\"274.443879\" xlink:href=\"#mf8aa08c94b\" y=\"185.426625\"/>\r\n     <use style=\"fill:#3f3f3f;stroke:#3f3f3f;stroke-linejoin:miter;\" x=\"285.605522\" xlink:href=\"#mf8aa08c94b\" y=\"185.426625\"/>\r\n     <use style=\"fill:#3f3f3f;stroke:#3f3f3f;stroke-linejoin:miter;\" x=\"295.286694\" xlink:href=\"#mf8aa08c94b\" y=\"185.426625\"/>\r\n     <use style=\"fill:#3f3f3f;stroke:#3f3f3f;stroke-linejoin:miter;\" x=\"310.236255\" xlink:href=\"#mf8aa08c94b\" y=\"185.426625\"/>\r\n     <use style=\"fill:#3f3f3f;stroke:#3f3f3f;stroke-linejoin:miter;\" x=\"281.2399\" xlink:href=\"#mf8aa08c94b\" y=\"185.426625\"/>\r\n     <use style=\"fill:#3f3f3f;stroke:#3f3f3f;stroke-linejoin:miter;\" x=\"306.140116\" xlink:href=\"#mf8aa08c94b\" y=\"185.426625\"/>\r\n     <use style=\"fill:#3f3f3f;stroke:#3f3f3f;stroke-linejoin:miter;\" x=\"285.95585\" xlink:href=\"#mf8aa08c94b\" y=\"185.426625\"/>\r\n     <use style=\"fill:#3f3f3f;stroke:#3f3f3f;stroke-linejoin:miter;\" x=\"291.938369\" xlink:href=\"#mf8aa08c94b\" y=\"185.426625\"/>\r\n     <use style=\"fill:#3f3f3f;stroke:#3f3f3f;stroke-linejoin:miter;\" x=\"273.685959\" xlink:href=\"#mf8aa08c94b\" y=\"185.426625\"/>\r\n     <use style=\"fill:#3f3f3f;stroke:#3f3f3f;stroke-linejoin:miter;\" x=\"315.733705\" xlink:href=\"#mf8aa08c94b\" y=\"185.426625\"/>\r\n     <use style=\"fill:#3f3f3f;stroke:#3f3f3f;stroke-linejoin:miter;\" x=\"341.67143\" xlink:href=\"#mf8aa08c94b\" y=\"185.426625\"/>\r\n     <use style=\"fill:#3f3f3f;stroke:#3f3f3f;stroke-linejoin:miter;\" x=\"275.58076\" xlink:href=\"#mf8aa08c94b\" y=\"185.426625\"/>\r\n     <use style=\"fill:#3f3f3f;stroke:#3f3f3f;stroke-linejoin:miter;\" x=\"328.483613\" xlink:href=\"#mf8aa08c94b\" y=\"185.426625\"/>\r\n     <use style=\"fill:#3f3f3f;stroke:#3f3f3f;stroke-linejoin:miter;\" x=\"364.510102\" xlink:href=\"#mf8aa08c94b\" y=\"185.426625\"/>\r\n     <use style=\"fill:#3f3f3f;stroke:#3f3f3f;stroke-linejoin:miter;\" x=\"288.192558\" xlink:href=\"#mf8aa08c94b\" y=\"185.426625\"/>\r\n     <use style=\"fill:#3f3f3f;stroke:#3f3f3f;stroke-linejoin:miter;\" x=\"303.822563\" xlink:href=\"#mf8aa08c94b\" y=\"185.426625\"/>\r\n     <use style=\"fill:#3f3f3f;stroke:#3f3f3f;stroke-linejoin:miter;\" x=\"286.252281\" xlink:href=\"#mf8aa08c94b\" y=\"185.426625\"/>\r\n     <use style=\"fill:#3f3f3f;stroke:#3f3f3f;stroke-linejoin:miter;\" x=\"275.277592\" xlink:href=\"#mf8aa08c94b\" y=\"185.426625\"/>\r\n     <use style=\"fill:#3f3f3f;stroke:#3f3f3f;stroke-linejoin:miter;\" x=\"308.322927\" xlink:href=\"#mf8aa08c94b\" y=\"185.426625\"/>\r\n     <use style=\"fill:#3f3f3f;stroke:#3f3f3f;stroke-linejoin:miter;\" x=\"338.019937\" xlink:href=\"#mf8aa08c94b\" y=\"185.426625\"/>\r\n     <use style=\"fill:#3f3f3f;stroke:#3f3f3f;stroke-linejoin:miter;\" x=\"286.467868\" xlink:href=\"#mf8aa08c94b\" y=\"185.426625\"/>\r\n     <use style=\"fill:#3f3f3f;stroke:#3f3f3f;stroke-linejoin:miter;\" x=\"295.286694\" xlink:href=\"#mf8aa08c94b\" y=\"185.426625\"/>\r\n     <use style=\"fill:#3f3f3f;stroke:#3f3f3f;stroke-linejoin:miter;\" x=\"302.107979\" xlink:href=\"#mf8aa08c94b\" y=\"185.426625\"/>\r\n     <use style=\"fill:#3f3f3f;stroke:#3f3f3f;stroke-linejoin:miter;\" x=\"344.324152\" xlink:href=\"#mf8aa08c94b\" y=\"185.426625\"/>\r\n     <use style=\"fill:#3f3f3f;stroke:#3f3f3f;stroke-linejoin:miter;\" x=\"273.787015\" xlink:href=\"#mf8aa08c94b\" y=\"185.426625\"/>\r\n     <use style=\"fill:#3f3f3f;stroke:#3f3f3f;stroke-linejoin:miter;\" x=\"287.761385\" xlink:href=\"#mf8aa08c94b\" y=\"185.426625\"/>\r\n     <use style=\"fill:#3f3f3f;stroke:#3f3f3f;stroke-linejoin:miter;\" x=\"277.413244\" xlink:href=\"#mf8aa08c94b\" y=\"185.426625\"/>\r\n     <use style=\"fill:#3f3f3f;stroke:#3f3f3f;stroke-linejoin:miter;\" x=\"292.073111\" xlink:href=\"#mf8aa08c94b\" y=\"185.426625\"/>\r\n     <use style=\"fill:#3f3f3f;stroke:#3f3f3f;stroke-linejoin:miter;\" x=\"312.068739\" xlink:href=\"#mf8aa08c94b\" y=\"185.426625\"/>\r\n     <use style=\"fill:#3f3f3f;stroke:#3f3f3f;stroke-linejoin:miter;\" x=\"274.064919\" xlink:href=\"#mf8aa08c94b\" y=\"185.426625\"/>\r\n     <use style=\"fill:#3f3f3f;stroke:#3f3f3f;stroke-linejoin:miter;\" x=\"274.826208\" xlink:href=\"#mf8aa08c94b\" y=\"185.426625\"/>\r\n     <use style=\"fill:#3f3f3f;stroke:#3f3f3f;stroke-linejoin:miter;\" x=\"281.374642\" xlink:href=\"#mf8aa08c94b\" y=\"185.426625\"/>\r\n     <use style=\"fill:#3f3f3f;stroke:#3f3f3f;stroke-linejoin:miter;\" x=\"313.901222\" xlink:href=\"#mf8aa08c94b\" y=\"185.426625\"/>\r\n     <use style=\"fill:#3f3f3f;stroke:#3f3f3f;stroke-linejoin:miter;\" x=\"280.4584\" xlink:href=\"#mf8aa08c94b\" y=\"185.426625\"/>\r\n     <use style=\"fill:#3f3f3f;stroke:#3f3f3f;stroke-linejoin:miter;\" x=\"373.861157\" xlink:href=\"#mf8aa08c94b\" y=\"185.426625\"/>\r\n     <use style=\"fill:#3f3f3f;stroke:#3f3f3f;stroke-linejoin:miter;\" x=\"288.246454\" xlink:href=\"#mf8aa08c94b\" y=\"185.426625\"/>\r\n     <use style=\"fill:#3f3f3f;stroke:#3f3f3f;stroke-linejoin:miter;\" x=\"289.324386\" xlink:href=\"#mf8aa08c94b\" y=\"185.426625\"/>\r\n     <use style=\"fill:#3f3f3f;stroke:#3f3f3f;stroke-linejoin:miter;\" x=\"320.85388\" xlink:href=\"#mf8aa08c94b\" y=\"185.426625\"/>\r\n     <use style=\"fill:#3f3f3f;stroke:#3f3f3f;stroke-linejoin:miter;\" x=\"280.027227\" xlink:href=\"#mf8aa08c94b\" y=\"185.426625\"/>\r\n     <use style=\"fill:#3f3f3f;stroke:#3f3f3f;stroke-linejoin:miter;\" x=\"282.856797\" xlink:href=\"#mf8aa08c94b\" y=\"185.426625\"/>\r\n     <use style=\"fill:#3f3f3f;stroke:#3f3f3f;stroke-linejoin:miter;\" x=\"290.779593\" xlink:href=\"#mf8aa08c94b\" y=\"185.426625\"/>\r\n     <use style=\"fill:#3f3f3f;stroke:#3f3f3f;stroke-linejoin:miter;\" x=\"280.128283\" xlink:href=\"#mf8aa08c94b\" y=\"185.426625\"/>\r\n     <use style=\"fill:#3f3f3f;stroke:#3f3f3f;stroke-linejoin:miter;\" x=\"274.560094\" xlink:href=\"#mf8aa08c94b\" y=\"185.426625\"/>\r\n     <use style=\"fill:#3f3f3f;stroke:#3f3f3f;stroke-linejoin:miter;\" x=\"276.793433\" xlink:href=\"#mf8aa08c94b\" y=\"185.426625\"/>\r\n     <use style=\"fill:#3f3f3f;stroke:#3f3f3f;stroke-linejoin:miter;\" x=\"364.644843\" xlink:href=\"#mf8aa08c94b\" y=\"185.426625\"/>\r\n     <use style=\"fill:#3f3f3f;stroke:#3f3f3f;stroke-linejoin:miter;\" x=\"287.101152\" xlink:href=\"#mf8aa08c94b\" y=\"185.426625\"/>\r\n     <use style=\"fill:#3f3f3f;stroke:#3f3f3f;stroke-linejoin:miter;\" x=\"286.184911\" xlink:href=\"#mf8aa08c94b\" y=\"185.426625\"/>\r\n     <use style=\"fill:#3f3f3f;stroke:#3f3f3f;stroke-linejoin:miter;\" x=\"280.507244\" xlink:href=\"#mf8aa08c94b\" y=\"185.426625\"/>\r\n     <use style=\"fill:#3f3f3f;stroke:#3f3f3f;stroke-linejoin:miter;\" x=\"321.63538\" xlink:href=\"#mf8aa08c94b\" y=\"185.426625\"/>\r\n     <use style=\"fill:#3f3f3f;stroke:#3f3f3f;stroke-linejoin:miter;\" x=\"300.157597\" xlink:href=\"#mf8aa08c94b\" y=\"185.426625\"/>\r\n     <use style=\"fill:#3f3f3f;stroke:#3f3f3f;stroke-linejoin:miter;\" x=\"274.064919\" xlink:href=\"#mf8aa08c94b\" y=\"185.426625\"/>\r\n     <use style=\"fill:#3f3f3f;stroke:#3f3f3f;stroke-linejoin:miter;\" x=\"286.89904\" xlink:href=\"#mf8aa08c94b\" y=\"185.426625\"/>\r\n     <use style=\"fill:#3f3f3f;stroke:#3f3f3f;stroke-linejoin:miter;\" x=\"305.922845\" xlink:href=\"#mf8aa08c94b\" y=\"185.426625\"/>\r\n     <use style=\"fill:#3f3f3f;stroke:#3f3f3f;stroke-linejoin:miter;\" x=\"275.419071\" xlink:href=\"#mf8aa08c94b\" y=\"185.426625\"/>\r\n     <use style=\"fill:#3f3f3f;stroke:#3f3f3f;stroke-linejoin:miter;\" x=\"327.968227\" xlink:href=\"#mf8aa08c94b\" y=\"185.426625\"/>\r\n     <use style=\"fill:#3f3f3f;stroke:#3f3f3f;stroke-linejoin:miter;\" x=\"277.844416\" xlink:href=\"#mf8aa08c94b\" y=\"185.426625\"/>\r\n     <use style=\"fill:#3f3f3f;stroke:#3f3f3f;stroke-linejoin:miter;\" x=\"273.155415\" xlink:href=\"#mf8aa08c94b\" y=\"185.426625\"/>\r\n     <use style=\"fill:#3f3f3f;stroke:#3f3f3f;stroke-linejoin:miter;\" x=\"341.065094\" xlink:href=\"#mf8aa08c94b\" y=\"185.426625\"/>\r\n     <use style=\"fill:#3f3f3f;stroke:#3f3f3f;stroke-linejoin:miter;\" x=\"309.5356\" xlink:href=\"#mf8aa08c94b\" y=\"185.426625\"/>\r\n     <use style=\"fill:#3f3f3f;stroke:#3f3f3f;stroke-linejoin:miter;\" x=\"276.281416\" xlink:href=\"#mf8aa08c94b\" y=\"185.426625\"/>\r\n     <use style=\"fill:#3f3f3f;stroke:#3f3f3f;stroke-linejoin:miter;\" x=\"285.95585\" xlink:href=\"#mf8aa08c94b\" y=\"185.426625\"/>\r\n     <use style=\"fill:#3f3f3f;stroke:#3f3f3f;stroke-linejoin:miter;\" x=\"340.094955\" xlink:href=\"#mf8aa08c94b\" y=\"185.426625\"/>\r\n     <use style=\"fill:#3f3f3f;stroke:#3f3f3f;stroke-linejoin:miter;\" x=\"287.303264\" xlink:href=\"#mf8aa08c94b\" y=\"185.426625\"/>\r\n     <use style=\"fill:#3f3f3f;stroke:#3f3f3f;stroke-linejoin:miter;\" x=\"281.280323\" xlink:href=\"#mf8aa08c94b\" y=\"185.426625\"/>\r\n     <use style=\"fill:#3f3f3f;stroke:#3f3f3f;stroke-linejoin:miter;\" x=\"323.52176\" xlink:href=\"#mf8aa08c94b\" y=\"185.426625\"/>\r\n     <use style=\"fill:#3f3f3f;stroke:#3f3f3f;stroke-linejoin:miter;\" x=\"279.137934\" xlink:href=\"#mf8aa08c94b\" y=\"185.426625\"/>\r\n     <use style=\"fill:#3f3f3f;stroke:#3f3f3f;stroke-linejoin:miter;\" x=\"333.283776\" xlink:href=\"#mf8aa08c94b\" y=\"185.426625\"/>\r\n     <use style=\"fill:#3f3f3f;stroke:#3f3f3f;stroke-linejoin:miter;\" x=\"275.984985\" xlink:href=\"#mf8aa08c94b\" y=\"185.426625\"/>\r\n     <use style=\"fill:#3f3f3f;stroke:#3f3f3f;stroke-linejoin:miter;\" x=\"280.862624\" xlink:href=\"#mf8aa08c94b\" y=\"185.426625\"/>\r\n     <use style=\"fill:#3f3f3f;stroke:#3f3f3f;stroke-linejoin:miter;\" x=\"288.819105\" xlink:href=\"#mf8aa08c94b\" y=\"185.426625\"/>\r\n     <use style=\"fill:#3f3f3f;stroke:#3f3f3f;stroke-linejoin:miter;\" x=\"318.479062\" xlink:href=\"#mf8aa08c94b\" y=\"185.426625\"/>\r\n     <use style=\"fill:#3f3f3f;stroke:#3f3f3f;stroke-linejoin:miter;\" x=\"345.430716\" xlink:href=\"#mf8aa08c94b\" y=\"185.426625\"/>\r\n     <use style=\"fill:#3f3f3f;stroke:#3f3f3f;stroke-linejoin:miter;\" x=\"335.971868\" xlink:href=\"#mf8aa08c94b\" y=\"185.426625\"/>\r\n     <use style=\"fill:#3f3f3f;stroke:#3f3f3f;stroke-linejoin:miter;\" x=\"303.068011\" xlink:href=\"#mf8aa08c94b\" y=\"185.426625\"/>\r\n     <use style=\"fill:#3f3f3f;stroke:#3f3f3f;stroke-linejoin:miter;\" x=\"296.923802\" xlink:href=\"#mf8aa08c94b\" y=\"185.426625\"/>\r\n     <use style=\"fill:#3f3f3f;stroke:#3f3f3f;stroke-linejoin:miter;\" x=\"334.274126\" xlink:href=\"#mf8aa08c94b\" y=\"185.426625\"/>\r\n     <use style=\"fill:#3f3f3f;stroke:#3f3f3f;stroke-linejoin:miter;\" x=\"312.068739\" xlink:href=\"#mf8aa08c94b\" y=\"185.426625\"/>\r\n     <use style=\"fill:#3f3f3f;stroke:#3f3f3f;stroke-linejoin:miter;\" x=\"326.563548\" xlink:href=\"#mf8aa08c94b\" y=\"185.426625\"/>\r\n     <use style=\"fill:#3f3f3f;stroke:#3f3f3f;stroke-linejoin:miter;\" x=\"356.506461\" xlink:href=\"#mf8aa08c94b\" y=\"185.426625\"/>\r\n     <use style=\"fill:#3f3f3f;stroke:#3f3f3f;stroke-linejoin:miter;\" x=\"284.473694\" xlink:href=\"#mf8aa08c94b\" y=\"185.426625\"/>\r\n     <use style=\"fill:#3f3f3f;stroke:#3f3f3f;stroke-linejoin:miter;\" x=\"277.413244\" xlink:href=\"#mf8aa08c94b\" y=\"185.426625\"/>\r\n     <use style=\"fill:#3f3f3f;stroke:#3f3f3f;stroke-linejoin:miter;\" x=\"274.772312\" xlink:href=\"#mf8aa08c94b\" y=\"185.426625\"/>\r\n     <use style=\"fill:#3f3f3f;stroke:#3f3f3f;stroke-linejoin:miter;\" x=\"291.641938\" xlink:href=\"#mf8aa08c94b\" y=\"185.426625\"/>\r\n     <use style=\"fill:#3f3f3f;stroke:#3f3f3f;stroke-linejoin:miter;\" x=\"282.156142\" xlink:href=\"#mf8aa08c94b\" y=\"185.426625\"/>\r\n     <use style=\"fill:#3f3f3f;stroke:#3f3f3f;stroke-linejoin:miter;\" x=\"278.460858\" xlink:href=\"#mf8aa08c94b\" y=\"185.426625\"/>\r\n     <use style=\"fill:#3f3f3f;stroke:#3f3f3f;stroke-linejoin:miter;\" x=\"278.568651\" xlink:href=\"#mf8aa08c94b\" y=\"185.426625\"/>\r\n     <use style=\"fill:#3f3f3f;stroke:#3f3f3f;stroke-linejoin:miter;\" x=\"287.303264\" xlink:href=\"#mf8aa08c94b\" y=\"185.426625\"/>\r\n     <use style=\"fill:#3f3f3f;stroke:#3f3f3f;stroke-linejoin:miter;\" x=\"325.542881\" xlink:href=\"#mf8aa08c94b\" y=\"185.426625\"/>\r\n     <use style=\"fill:#3f3f3f;stroke:#3f3f3f;stroke-linejoin:miter;\" x=\"286.494816\" xlink:href=\"#mf8aa08c94b\" y=\"185.426625\"/>\r\n     <use style=\"fill:#3f3f3f;stroke:#3f3f3f;stroke-linejoin:miter;\" x=\"307.298892\" xlink:href=\"#mf8aa08c94b\" y=\"185.426625\"/>\r\n     <use style=\"fill:#3f3f3f;stroke:#3f3f3f;stroke-linejoin:miter;\" x=\"281.940556\" xlink:href=\"#mf8aa08c94b\" y=\"185.426625\"/>\r\n     <use style=\"fill:#3f3f3f;stroke:#3f3f3f;stroke-linejoin:miter;\" x=\"274.645992\" xlink:href=\"#mf8aa08c94b\" y=\"185.426625\"/>\r\n     <use style=\"fill:#3f3f3f;stroke:#3f3f3f;stroke-linejoin:miter;\" x=\"276.793433\" xlink:href=\"#mf8aa08c94b\" y=\"185.426625\"/>\r\n     <use style=\"fill:#3f3f3f;stroke:#3f3f3f;stroke-linejoin:miter;\" x=\"307.595323\" xlink:href=\"#mf8aa08c94b\" y=\"185.426625\"/>\r\n     <use style=\"fill:#3f3f3f;stroke:#3f3f3f;stroke-linejoin:miter;\" x=\"288.819105\" xlink:href=\"#mf8aa08c94b\" y=\"185.426625\"/>\r\n     <use style=\"fill:#3f3f3f;stroke:#3f3f3f;stroke-linejoin:miter;\" x=\"290.99518\" xlink:href=\"#mf8aa08c94b\" y=\"185.426625\"/>\r\n     <use style=\"fill:#3f3f3f;stroke:#3f3f3f;stroke-linejoin:miter;\" x=\"323.979881\" xlink:href=\"#mf8aa08c94b\" y=\"185.426625\"/>\r\n     <use style=\"fill:#3f3f3f;stroke:#3f3f3f;stroke-linejoin:miter;\" x=\"283.665246\" xlink:href=\"#mf8aa08c94b\" y=\"185.426625\"/>\r\n     <use style=\"fill:#3f3f3f;stroke:#3f3f3f;stroke-linejoin:miter;\" x=\"288.515937\" xlink:href=\"#mf8aa08c94b\" y=\"185.426625\"/>\r\n     <use style=\"fill:#3f3f3f;stroke:#3f3f3f;stroke-linejoin:miter;\" x=\"330.393573\" xlink:href=\"#mf8aa08c94b\" y=\"185.426625\"/>\r\n     <use style=\"fill:#3f3f3f;stroke:#3f3f3f;stroke-linejoin:miter;\" x=\"293.743905\" xlink:href=\"#mf8aa08c94b\" y=\"185.426625\"/>\r\n     <use style=\"fill:#3f3f3f;stroke:#3f3f3f;stroke-linejoin:miter;\" x=\"294.498457\" xlink:href=\"#mf8aa08c94b\" y=\"185.426625\"/>\r\n     <use style=\"fill:#3f3f3f;stroke:#3f3f3f;stroke-linejoin:miter;\" x=\"307.945651\" xlink:href=\"#mf8aa08c94b\" y=\"185.426625\"/>\r\n     <use style=\"fill:#3f3f3f;stroke:#3f3f3f;stroke-linejoin:miter;\" x=\"305.569149\" xlink:href=\"#mf8aa08c94b\" y=\"185.426625\"/>\r\n     <use style=\"fill:#3f3f3f;stroke:#3f3f3f;stroke-linejoin:miter;\" x=\"290.739171\" xlink:href=\"#mf8aa08c94b\" y=\"185.426625\"/>\r\n     <use style=\"fill:#3f3f3f;stroke:#3f3f3f;stroke-linejoin:miter;\" x=\"313.443101\" xlink:href=\"#mf8aa08c94b\" y=\"185.426625\"/>\r\n     <use style=\"fill:#3f3f3f;stroke:#3f3f3f;stroke-linejoin:miter;\" x=\"317.943465\" xlink:href=\"#mf8aa08c94b\" y=\"185.426625\"/>\r\n     <use style=\"fill:#3f3f3f;stroke:#3f3f3f;stroke-linejoin:miter;\" x=\"275.90414\" xlink:href=\"#mf8aa08c94b\" y=\"185.426625\"/>\r\n     <use style=\"fill:#3f3f3f;stroke:#3f3f3f;stroke-linejoin:miter;\" x=\"328.453296\" xlink:href=\"#mf8aa08c94b\" y=\"185.426625\"/>\r\n     <use style=\"fill:#3f3f3f;stroke:#3f3f3f;stroke-linejoin:miter;\" x=\"287.906232\" xlink:href=\"#mf8aa08c94b\" y=\"185.426625\"/>\r\n     <use style=\"fill:#3f3f3f;stroke:#3f3f3f;stroke-linejoin:miter;\" x=\"361.923067\" xlink:href=\"#mf8aa08c94b\" y=\"185.426625\"/>\r\n     <use style=\"fill:#3f3f3f;stroke:#3f3f3f;stroke-linejoin:miter;\" x=\"308.565462\" xlink:href=\"#mf8aa08c94b\" y=\"185.426625\"/>\r\n     <use style=\"fill:#3f3f3f;stroke:#3f3f3f;stroke-linejoin:miter;\" x=\"302.421253\" xlink:href=\"#mf8aa08c94b\" y=\"185.426625\"/>\r\n     <use style=\"fill:#3f3f3f;stroke:#3f3f3f;stroke-linejoin:miter;\" x=\"276.335312\" xlink:href=\"#mf8aa08c94b\" y=\"185.426625\"/>\r\n     <use style=\"fill:#3f3f3f;stroke:#3f3f3f;stroke-linejoin:miter;\" x=\"308.565462\" xlink:href=\"#mf8aa08c94b\" y=\"185.426625\"/>\r\n     <use style=\"fill:#3f3f3f;stroke:#3f3f3f;stroke-linejoin:miter;\" x=\"317.566189\" xlink:href=\"#mf8aa08c94b\" y=\"185.426625\"/>\r\n     <use style=\"fill:#3f3f3f;stroke:#3f3f3f;stroke-linejoin:miter;\" x=\"298.971872\" xlink:href=\"#mf8aa08c94b\" y=\"185.426625\"/>\r\n     <use style=\"fill:#3f3f3f;stroke:#3f3f3f;stroke-linejoin:miter;\" x=\"291.825524\" xlink:href=\"#mf8aa08c94b\" y=\"185.426625\"/>\r\n     <use style=\"fill:#3f3f3f;stroke:#3f3f3f;stroke-linejoin:miter;\" x=\"294.660146\" xlink:href=\"#mf8aa08c94b\" y=\"185.426625\"/>\r\n     <use style=\"fill:#3f3f3f;stroke:#3f3f3f;stroke-linejoin:miter;\" x=\"291.648675\" xlink:href=\"#mf8aa08c94b\" y=\"185.426625\"/>\r\n     <use style=\"fill:#3f3f3f;stroke:#3f3f3f;stroke-linejoin:miter;\" x=\"292.962404\" xlink:href=\"#mf8aa08c94b\" y=\"185.426625\"/>\r\n     <use style=\"fill:#3f3f3f;stroke:#3f3f3f;stroke-linejoin:miter;\" x=\"287.788334\" xlink:href=\"#mf8aa08c94b\" y=\"185.426625\"/>\r\n     <use style=\"fill:#3f3f3f;stroke:#3f3f3f;stroke-linejoin:miter;\" x=\"294.013387\" xlink:href=\"#mf8aa08c94b\" y=\"185.426625\"/>\r\n     <use style=\"fill:#3f3f3f;stroke:#3f3f3f;stroke-linejoin:miter;\" x=\"305.250822\" xlink:href=\"#mf8aa08c94b\" y=\"185.426625\"/>\r\n     <use style=\"fill:#3f3f3f;stroke:#3f3f3f;stroke-linejoin:miter;\" x=\"327.968227\" xlink:href=\"#mf8aa08c94b\" y=\"185.426625\"/>\r\n     <use style=\"fill:#3f3f3f;stroke:#3f3f3f;stroke-linejoin:miter;\" x=\"324.195467\" xlink:href=\"#mf8aa08c94b\" y=\"185.426625\"/>\r\n     <use style=\"fill:#3f3f3f;stroke:#3f3f3f;stroke-linejoin:miter;\" x=\"311.203025\" xlink:href=\"#mf8aa08c94b\" y=\"185.426625\"/>\r\n     <use style=\"fill:#3f3f3f;stroke:#3f3f3f;stroke-linejoin:miter;\" x=\"279.084037\" xlink:href=\"#mf8aa08c94b\" y=\"185.426625\"/>\r\n     <use style=\"fill:#3f3f3f;stroke:#3f3f3f;stroke-linejoin:miter;\" x=\"278.969507\" xlink:href=\"#mf8aa08c94b\" y=\"185.426625\"/>\r\n     <use style=\"fill:#3f3f3f;stroke:#3f3f3f;stroke-linejoin:miter;\" x=\"283.44966\" xlink:href=\"#mf8aa08c94b\" y=\"185.426625\"/>\r\n     <use style=\"fill:#3f3f3f;stroke:#3f3f3f;stroke-linejoin:miter;\" x=\"315.295796\" xlink:href=\"#mf8aa08c94b\" y=\"185.426625\"/>\r\n     <use style=\"fill:#3f3f3f;stroke:#3f3f3f;stroke-linejoin:miter;\" x=\"303.017483\" xlink:href=\"#mf8aa08c94b\" y=\"185.426625\"/>\r\n     <use style=\"fill:#3f3f3f;stroke:#3f3f3f;stroke-linejoin:miter;\" x=\"358.527583\" xlink:href=\"#mf8aa08c94b\" y=\"185.426625\"/>\r\n     <use style=\"fill:#3f3f3f;stroke:#3f3f3f;stroke-linejoin:miter;\" x=\"297.247182\" xlink:href=\"#mf8aa08c94b\" y=\"185.426625\"/>\r\n     <use style=\"fill:#3f3f3f;stroke:#3f3f3f;stroke-linejoin:miter;\" x=\"316.326568\" xlink:href=\"#mf8aa08c94b\" y=\"185.426625\"/>\r\n     <use style=\"fill:#3f3f3f;stroke:#3f3f3f;stroke-linejoin:miter;\" x=\"275.984985\" xlink:href=\"#mf8aa08c94b\" y=\"185.426625\"/>\r\n     <use style=\"fill:#3f3f3f;stroke:#3f3f3f;stroke-linejoin:miter;\" x=\"274.91379\" xlink:href=\"#mf8aa08c94b\" y=\"185.426625\"/>\r\n     <use style=\"fill:#3f3f3f;stroke:#3f3f3f;stroke-linejoin:miter;\" x=\"320.099328\" xlink:href=\"#mf8aa08c94b\" y=\"185.426625\"/>\r\n     <use style=\"fill:#3f3f3f;stroke:#3f3f3f;stroke-linejoin:miter;\" x=\"295.522491\" xlink:href=\"#mf8aa08c94b\" y=\"185.426625\"/>\r\n     <use style=\"fill:#3f3f3f;stroke:#3f3f3f;stroke-linejoin:miter;\" x=\"280.862624\" xlink:href=\"#mf8aa08c94b\" y=\"185.426625\"/>\r\n     <use style=\"fill:#3f3f3f;stroke:#3f3f3f;stroke-linejoin:miter;\" x=\"275.58076\" xlink:href=\"#mf8aa08c94b\" y=\"185.426625\"/>\r\n     <use style=\"fill:#3f3f3f;stroke:#3f3f3f;stroke-linejoin:miter;\" x=\"273.559639\" xlink:href=\"#mf8aa08c94b\" y=\"185.426625\"/>\r\n     <use style=\"fill:#3f3f3f;stroke:#3f3f3f;stroke-linejoin:miter;\" x=\"277.413244\" xlink:href=\"#mf8aa08c94b\" y=\"185.426625\"/>\r\n     <use style=\"fill:#3f3f3f;stroke:#3f3f3f;stroke-linejoin:miter;\" x=\"291.522355\" xlink:href=\"#mf8aa08c94b\" y=\"185.426625\"/>\r\n     <use style=\"fill:#3f3f3f;stroke:#3f3f3f;stroke-linejoin:miter;\" x=\"346.212216\" xlink:href=\"#mf8aa08c94b\" y=\"185.426625\"/>\r\n     <use style=\"fill:#3f3f3f;stroke:#3f3f3f;stroke-linejoin:miter;\" x=\"286.191648\" xlink:href=\"#mf8aa08c94b\" y=\"185.426625\"/>\r\n     <use style=\"fill:#3f3f3f;stroke:#3f3f3f;stroke-linejoin:miter;\" x=\"291.911421\" xlink:href=\"#mf8aa08c94b\" y=\"185.426625\"/>\r\n     <use style=\"fill:#3f3f3f;stroke:#3f3f3f;stroke-linejoin:miter;\" x=\"298.697336\" xlink:href=\"#mf8aa08c94b\" y=\"185.426625\"/>\r\n     <use style=\"fill:#3f3f3f;stroke:#3f3f3f;stroke-linejoin:miter;\" x=\"317.114805\" xlink:href=\"#mf8aa08c94b\" y=\"185.426625\"/>\r\n     <use style=\"fill:#3f3f3f;stroke:#3f3f3f;stroke-linejoin:miter;\" x=\"288.071291\" xlink:href=\"#mf8aa08c94b\" y=\"185.426625\"/>\r\n     <use style=\"fill:#3f3f3f;stroke:#3f3f3f;stroke-linejoin:miter;\" x=\"320.60124\" xlink:href=\"#mf8aa08c94b\" y=\"185.426625\"/>\r\n     <use style=\"fill:#3f3f3f;stroke:#3f3f3f;stroke-linejoin:miter;\" x=\"317.566189\" xlink:href=\"#mf8aa08c94b\" y=\"185.426625\"/>\r\n     <use style=\"fill:#3f3f3f;stroke:#3f3f3f;stroke-linejoin:miter;\" x=\"283.362078\" xlink:href=\"#mf8aa08c94b\" y=\"185.426625\"/>\r\n     <use style=\"fill:#3f3f3f;stroke:#3f3f3f;stroke-linejoin:miter;\" x=\"285.282143\" xlink:href=\"#mf8aa08c94b\" y=\"185.426625\"/>\r\n     <use style=\"fill:#3f3f3f;stroke:#3f3f3f;stroke-linejoin:miter;\" x=\"346.212216\" xlink:href=\"#mf8aa08c94b\" y=\"185.426625\"/>\r\n     <use style=\"fill:#3f3f3f;stroke:#3f3f3f;stroke-linejoin:miter;\" x=\"291.641938\" xlink:href=\"#mf8aa08c94b\" y=\"185.426625\"/>\r\n     <use style=\"fill:#3f3f3f;stroke:#3f3f3f;stroke-linejoin:miter;\" x=\"290.739171\" xlink:href=\"#mf8aa08c94b\" y=\"185.426625\"/>\r\n     <use style=\"fill:#3f3f3f;stroke:#3f3f3f;stroke-linejoin:miter;\" x=\"292.153956\" xlink:href=\"#mf8aa08c94b\" y=\"185.426625\"/>\r\n     <use style=\"fill:#3f3f3f;stroke:#3f3f3f;stroke-linejoin:miter;\" x=\"294.528773\" xlink:href=\"#mf8aa08c94b\" y=\"185.426625\"/>\r\n     <use style=\"fill:#3f3f3f;stroke:#3f3f3f;stroke-linejoin:miter;\" x=\"287.22242\" xlink:href=\"#mf8aa08c94b\" y=\"185.426625\"/>\r\n     <use style=\"fill:#3f3f3f;stroke:#3f3f3f;stroke-linejoin:miter;\" x=\"286.494816\" xlink:href=\"#mf8aa08c94b\" y=\"185.426625\"/>\r\n     <use style=\"fill:#3f3f3f;stroke:#3f3f3f;stroke-linejoin:miter;\" x=\"363.044789\" xlink:href=\"#mf8aa08c94b\" y=\"185.426625\"/>\r\n     <use style=\"fill:#3f3f3f;stroke:#3f3f3f;stroke-linejoin:miter;\" x=\"277.494089\" xlink:href=\"#mf8aa08c94b\" y=\"185.426625\"/>\r\n     <use style=\"fill:#3f3f3f;stroke:#3f3f3f;stroke-linejoin:miter;\" x=\"284.581488\" xlink:href=\"#mf8aa08c94b\" y=\"185.426625\"/>\r\n     <use style=\"fill:#3f3f3f;stroke:#3f3f3f;stroke-linejoin:miter;\" x=\"313.891116\" xlink:href=\"#mf8aa08c94b\" y=\"185.426625\"/>\r\n     <use style=\"fill:#3f3f3f;stroke:#3f3f3f;stroke-linejoin:miter;\" x=\"348.38829\" xlink:href=\"#mf8aa08c94b\" y=\"185.426625\"/>\r\n     <use style=\"fill:#3f3f3f;stroke:#3f3f3f;stroke-linejoin:miter;\" x=\"278.73371\" xlink:href=\"#mf8aa08c94b\" y=\"185.426625\"/>\r\n     <use style=\"fill:#3f3f3f;stroke:#3f3f3f;stroke-linejoin:miter;\" x=\"283.665246\" xlink:href=\"#mf8aa08c94b\" y=\"185.426625\"/>\r\n     <use style=\"fill:#3f3f3f;stroke:#3f3f3f;stroke-linejoin:miter;\" x=\"285.524678\" xlink:href=\"#mf8aa08c94b\" y=\"185.426625\"/>\r\n     <use style=\"fill:#3f3f3f;stroke:#3f3f3f;stroke-linejoin:miter;\" x=\"274.395036\" xlink:href=\"#mf8aa08c94b\" y=\"185.426625\"/>\r\n     <use style=\"fill:#3f3f3f;stroke:#3f3f3f;stroke-linejoin:miter;\" x=\"304.577115\" xlink:href=\"#mf8aa08c94b\" y=\"185.426625\"/>\r\n     <use style=\"fill:#3f3f3f;stroke:#3f3f3f;stroke-linejoin:miter;\" x=\"297.314552\" xlink:href=\"#mf8aa08c94b\" y=\"185.426625\"/>\r\n     <use style=\"fill:#3f3f3f;stroke:#3f3f3f;stroke-linejoin:miter;\" x=\"284.675807\" xlink:href=\"#mf8aa08c94b\" y=\"185.426625\"/>\r\n     <use style=\"fill:#3f3f3f;stroke:#3f3f3f;stroke-linejoin:miter;\" x=\"298.783234\" xlink:href=\"#mf8aa08c94b\" y=\"185.426625\"/>\r\n     <use style=\"fill:#3f3f3f;stroke:#3f3f3f;stroke-linejoin:miter;\" x=\"295.010474\" xlink:href=\"#mf8aa08c94b\" y=\"185.426625\"/>\r\n     <use style=\"fill:#3f3f3f;stroke:#3f3f3f;stroke-linejoin:miter;\" x=\"344.137198\" xlink:href=\"#mf8aa08c94b\" y=\"185.426625\"/>\r\n     <use style=\"fill:#3f3f3f;stroke:#3f3f3f;stroke-linejoin:miter;\" x=\"312.98498\" xlink:href=\"#mf8aa08c94b\" y=\"185.426625\"/>\r\n     <use style=\"fill:#3f3f3f;stroke:#3f3f3f;stroke-linejoin:miter;\" x=\"280.808728\" xlink:href=\"#mf8aa08c94b\" y=\"185.426625\"/>\r\n     <use style=\"fill:#3f3f3f;stroke:#3f3f3f;stroke-linejoin:miter;\" x=\"284.581488\" xlink:href=\"#mf8aa08c94b\" y=\"185.426625\"/>\r\n     <use style=\"fill:#3f3f3f;stroke:#3f3f3f;stroke-linejoin:miter;\" x=\"303.364442\" xlink:href=\"#mf8aa08c94b\" y=\"185.426625\"/>\r\n     <use style=\"fill:#3f3f3f;stroke:#3f3f3f;stroke-linejoin:miter;\" x=\"281.947293\" xlink:href=\"#mf8aa08c94b\" y=\"185.426625\"/>\r\n     <use style=\"fill:#3f3f3f;stroke:#3f3f3f;stroke-linejoin:miter;\" x=\"322.450566\" xlink:href=\"#mf8aa08c94b\" y=\"185.426625\"/>\r\n     <use style=\"fill:#3f3f3f;stroke:#3f3f3f;stroke-linejoin:miter;\" x=\"291.396035\" xlink:href=\"#mf8aa08c94b\" y=\"185.426625\"/>\r\n     <use style=\"fill:#3f3f3f;stroke:#3f3f3f;stroke-linejoin:miter;\" x=\"318.80581\" xlink:href=\"#mf8aa08c94b\" y=\"185.426625\"/>\r\n     <use style=\"fill:#3f3f3f;stroke:#3f3f3f;stroke-linejoin:miter;\" x=\"278.006106\" xlink:href=\"#mf8aa08c94b\" y=\"185.426625\"/>\r\n     <use style=\"fill:#3f3f3f;stroke:#3f3f3f;stroke-linejoin:miter;\" x=\"292.103428\" xlink:href=\"#mf8aa08c94b\" y=\"185.426625\"/>\r\n     <use style=\"fill:#3f3f3f;stroke:#3f3f3f;stroke-linejoin:miter;\" x=\"305.43946\" xlink:href=\"#mf8aa08c94b\" y=\"185.426625\"/>\r\n     <use style=\"fill:#3f3f3f;stroke:#3f3f3f;stroke-linejoin:miter;\" x=\"279.370363\" xlink:href=\"#mf8aa08c94b\" y=\"185.426625\"/>\r\n     <use style=\"fill:#3f3f3f;stroke:#3f3f3f;stroke-linejoin:miter;\" x=\"278.706761\" xlink:href=\"#mf8aa08c94b\" y=\"185.426625\"/>\r\n     <use style=\"fill:#3f3f3f;stroke:#3f3f3f;stroke-linejoin:miter;\" x=\"275.8334\" xlink:href=\"#mf8aa08c94b\" y=\"185.426625\"/>\r\n     <use style=\"fill:#3f3f3f;stroke:#3f3f3f;stroke-linejoin:miter;\" x=\"292.962404\" xlink:href=\"#mf8aa08c94b\" y=\"185.426625\"/>\r\n     <use style=\"fill:#3f3f3f;stroke:#3f3f3f;stroke-linejoin:miter;\" x=\"354.404495\" xlink:href=\"#mf8aa08c94b\" y=\"185.426625\"/>\r\n     <use style=\"fill:#3f3f3f;stroke:#3f3f3f;stroke-linejoin:miter;\" x=\"292.002372\" xlink:href=\"#mf8aa08c94b\" y=\"185.426625\"/>\r\n     <use style=\"fill:#3f3f3f;stroke:#3f3f3f;stroke-linejoin:miter;\" x=\"294.013387\" xlink:href=\"#mf8aa08c94b\" y=\"185.426625\"/>\r\n     <use style=\"fill:#3f3f3f;stroke:#3f3f3f;stroke-linejoin:miter;\" x=\"275.07548\" xlink:href=\"#mf8aa08c94b\" y=\"185.426625\"/>\r\n     <use style=\"fill:#3f3f3f;stroke:#3f3f3f;stroke-linejoin:miter;\" x=\"275.176536\" xlink:href=\"#mf8aa08c94b\" y=\"185.426625\"/>\r\n     <use style=\"fill:#3f3f3f;stroke:#3f3f3f;stroke-linejoin:miter;\" x=\"275.419071\" xlink:href=\"#mf8aa08c94b\" y=\"185.426625\"/>\r\n     <use style=\"fill:#3f3f3f;stroke:#3f3f3f;stroke-linejoin:miter;\" x=\"289.344597\" xlink:href=\"#mf8aa08c94b\" y=\"185.426625\"/>\r\n     <use style=\"fill:#3f3f3f;stroke:#3f3f3f;stroke-linejoin:miter;\" x=\"305.655047\" xlink:href=\"#mf8aa08c94b\" y=\"185.426625\"/>\r\n     <use style=\"fill:#3f3f3f;stroke:#3f3f3f;stroke-linejoin:miter;\" x=\"291.396035\" xlink:href=\"#mf8aa08c94b\" y=\"185.426625\"/>\r\n     <use style=\"fill:#3f3f3f;stroke:#3f3f3f;stroke-linejoin:miter;\" x=\"288.920162\" xlink:href=\"#mf8aa08c94b\" y=\"185.426625\"/>\r\n     <use style=\"fill:#3f3f3f;stroke:#3f3f3f;stroke-linejoin:miter;\" x=\"281.088316\" xlink:href=\"#mf8aa08c94b\" y=\"185.426625\"/>\r\n     <use style=\"fill:#3f3f3f;stroke:#3f3f3f;stroke-linejoin:miter;\" x=\"276.187097\" xlink:href=\"#mf8aa08c94b\" y=\"185.426625\"/>\r\n     <use style=\"fill:#3f3f3f;stroke:#3f3f3f;stroke-linejoin:miter;\" x=\"296.950751\" xlink:href=\"#mf8aa08c94b\" y=\"185.426625\"/>\r\n     <use style=\"fill:#3f3f3f;stroke:#3f3f3f;stroke-linejoin:miter;\" x=\"321.177259\" xlink:href=\"#mf8aa08c94b\" y=\"185.426625\"/>\r\n     <use style=\"fill:#3f3f3f;stroke:#3f3f3f;stroke-linejoin:miter;\" x=\"283.44966\" xlink:href=\"#mf8aa08c94b\" y=\"185.426625\"/>\r\n     <use style=\"fill:#3f3f3f;stroke:#3f3f3f;stroke-linejoin:miter;\" x=\"285.812687\" xlink:href=\"#mf8aa08c94b\" y=\"185.426625\"/>\r\n     <use style=\"fill:#3f3f3f;stroke:#3f3f3f;stroke-linejoin:miter;\" x=\"297.408871\" xlink:href=\"#mf8aa08c94b\" y=\"185.426625\"/>\r\n     <use style=\"fill:#3f3f3f;stroke:#3f3f3f;stroke-linejoin:miter;\" x=\"278.460858\" xlink:href=\"#mf8aa08c94b\" y=\"185.426625\"/>\r\n     <use style=\"fill:#3f3f3f;stroke:#3f3f3f;stroke-linejoin:miter;\" x=\"286.090592\" xlink:href=\"#mf8aa08c94b\" y=\"185.426625\"/>\r\n     <use style=\"fill:#3f3f3f;stroke:#3f3f3f;stroke-linejoin:miter;\" x=\"306.301806\" xlink:href=\"#mf8aa08c94b\" y=\"185.426625\"/>\r\n     <use style=\"fill:#3f3f3f;stroke:#3f3f3f;stroke-linejoin:miter;\" x=\"279.137934\" xlink:href=\"#mf8aa08c94b\" y=\"185.426625\"/>\r\n     <use style=\"fill:#3f3f3f;stroke:#3f3f3f;stroke-linejoin:miter;\" x=\"280.000279\" xlink:href=\"#mf8aa08c94b\" y=\"185.426625\"/>\r\n     <use style=\"fill:#3f3f3f;stroke:#3f3f3f;stroke-linejoin:miter;\" x=\"288.010657\" xlink:href=\"#mf8aa08c94b\" y=\"185.426625\"/>\r\n     <use style=\"fill:#3f3f3f;stroke:#3f3f3f;stroke-linejoin:miter;\" x=\"317.781775\" xlink:href=\"#mf8aa08c94b\" y=\"185.426625\"/>\r\n     <use style=\"fill:#3f3f3f;stroke:#3f3f3f;stroke-linejoin:miter;\" x=\"288.071291\" xlink:href=\"#mf8aa08c94b\" y=\"185.426625\"/>\r\n     <use style=\"fill:#3f3f3f;stroke:#3f3f3f;stroke-linejoin:miter;\" x=\"273.216048\" xlink:href=\"#mf8aa08c94b\" y=\"185.426625\"/>\r\n     <use style=\"fill:#3f3f3f;stroke:#3f3f3f;stroke-linejoin:miter;\" x=\"280.000279\" xlink:href=\"#mf8aa08c94b\" y=\"185.426625\"/>\r\n     <use style=\"fill:#3f3f3f;stroke:#3f3f3f;stroke-linejoin:miter;\" x=\"293.442421\" xlink:href=\"#mf8aa08c94b\" y=\"185.426625\"/>\r\n     <use style=\"fill:#3f3f3f;stroke:#3f3f3f;stroke-linejoin:miter;\" x=\"312.87045\" xlink:href=\"#mf8aa08c94b\" y=\"185.426625\"/>\r\n     <use style=\"fill:#3f3f3f;stroke:#3f3f3f;stroke-linejoin:miter;\" x=\"291.641938\" xlink:href=\"#mf8aa08c94b\" y=\"185.426625\"/>\r\n     <use style=\"fill:#3f3f3f;stroke:#3f3f3f;stroke-linejoin:miter;\" x=\"361.08767\" xlink:href=\"#mf8aa08c94b\" y=\"185.426625\"/>\r\n     <use style=\"fill:#3f3f3f;stroke:#3f3f3f;stroke-linejoin:miter;\" x=\"292.962404\" xlink:href=\"#mf8aa08c94b\" y=\"185.426625\"/>\r\n     <use style=\"fill:#3f3f3f;stroke:#3f3f3f;stroke-linejoin:miter;\" x=\"275.176536\" xlink:href=\"#mf8aa08c94b\" y=\"185.426625\"/>\r\n     <use style=\"fill:#3f3f3f;stroke:#3f3f3f;stroke-linejoin:miter;\" x=\"306.70603\" xlink:href=\"#mf8aa08c94b\" y=\"185.426625\"/>\r\n     <use style=\"fill:#3f3f3f;stroke:#3f3f3f;stroke-linejoin:miter;\" x=\"314.87136\" xlink:href=\"#mf8aa08c94b\" y=\"185.426625\"/>\r\n     <use style=\"fill:#3f3f3f;stroke:#3f3f3f;stroke-linejoin:miter;\" x=\"291.042339\" xlink:href=\"#mf8aa08c94b\" y=\"185.426625\"/>\r\n     <use style=\"fill:#3f3f3f;stroke:#3f3f3f;stroke-linejoin:miter;\" x=\"281.186004\" xlink:href=\"#mf8aa08c94b\" y=\"185.426625\"/>\r\n     <use style=\"fill:#3f3f3f;stroke:#3f3f3f;stroke-linejoin:miter;\" x=\"292.073111\" xlink:href=\"#mf8aa08c94b\" y=\"185.426625\"/>\r\n     <use style=\"fill:#3f3f3f;stroke:#3f3f3f;stroke-linejoin:miter;\" x=\"292.103428\" xlink:href=\"#mf8aa08c94b\" y=\"185.426625\"/>\r\n     <use style=\"fill:#3f3f3f;stroke:#3f3f3f;stroke-linejoin:miter;\" x=\"273.155415\" xlink:href=\"#mf8aa08c94b\" y=\"185.426625\"/>\r\n     <use style=\"fill:#3f3f3f;stroke:#3f3f3f;stroke-linejoin:miter;\" x=\"275.2018\" xlink:href=\"#mf8aa08c94b\" y=\"185.426625\"/>\r\n     <use style=\"fill:#3f3f3f;stroke:#3f3f3f;stroke-linejoin:miter;\" x=\"301.774494\" xlink:href=\"#mf8aa08c94b\" y=\"185.426625\"/>\r\n     <use style=\"fill:#3f3f3f;stroke:#3f3f3f;stroke-linejoin:miter;\" x=\"295.26143\" xlink:href=\"#mf8aa08c94b\" y=\"185.426625\"/>\r\n     <use style=\"fill:#3f3f3f;stroke:#3f3f3f;stroke-linejoin:miter;\" x=\"285.736895\" xlink:href=\"#mf8aa08c94b\" y=\"185.426625\"/>\r\n     <use style=\"fill:#3f3f3f;stroke:#3f3f3f;stroke-linejoin:miter;\" x=\"322.605518\" xlink:href=\"#mf8aa08c94b\" y=\"185.426625\"/>\r\n     <use style=\"fill:#3f3f3f;stroke:#3f3f3f;stroke-linejoin:miter;\" x=\"293.467685\" xlink:href=\"#mf8aa08c94b\" y=\"185.426625\"/>\r\n     <use style=\"fill:#3f3f3f;stroke:#3f3f3f;stroke-linejoin:miter;\" x=\"274.772312\" xlink:href=\"#mf8aa08c94b\" y=\"185.426625\"/>\r\n     <use style=\"fill:#3f3f3f;stroke:#3f3f3f;stroke-linejoin:miter;\" x=\"296.816009\" xlink:href=\"#mf8aa08c94b\" y=\"185.426625\"/>\r\n     <use style=\"fill:#3f3f3f;stroke:#3f3f3f;stroke-linejoin:miter;\" x=\"326.243537\" xlink:href=\"#mf8aa08c94b\" y=\"185.426625\"/>\r\n     <use style=\"fill:#3f3f3f;stroke:#3f3f3f;stroke-linejoin:miter;\" x=\"291.588042\" xlink:href=\"#mf8aa08c94b\" y=\"185.426625\"/>\r\n     <use style=\"fill:#3f3f3f;stroke:#3f3f3f;stroke-linejoin:miter;\" x=\"285.039608\" xlink:href=\"#mf8aa08c94b\" y=\"185.426625\"/>\r\n     <use style=\"fill:#3f3f3f;stroke:#3f3f3f;stroke-linejoin:miter;\" x=\"313.200567\" xlink:href=\"#mf8aa08c94b\" y=\"185.426625\"/>\r\n     <use style=\"fill:#3f3f3f;stroke:#3f3f3f;stroke-linejoin:miter;\" x=\"322.147397\" xlink:href=\"#mf8aa08c94b\" y=\"185.426625\"/>\r\n     <use style=\"fill:#3f3f3f;stroke:#3f3f3f;stroke-linejoin:miter;\" x=\"275.526864\" xlink:href=\"#mf8aa08c94b\" y=\"185.426625\"/>\r\n     <use style=\"fill:#3f3f3f;stroke:#3f3f3f;stroke-linejoin:miter;\" x=\"277.366084\" xlink:href=\"#mf8aa08c94b\" y=\"185.426625\"/>\r\n     <use style=\"fill:#3f3f3f;stroke:#3f3f3f;stroke-linejoin:miter;\" x=\"300.804355\" xlink:href=\"#mf8aa08c94b\" y=\"185.426625\"/>\r\n     <use style=\"fill:#3f3f3f;stroke:#3f3f3f;stroke-linejoin:miter;\" x=\"296.549895\" xlink:href=\"#mf8aa08c94b\" y=\"185.426625\"/>\r\n     <use style=\"fill:#3f3f3f;stroke:#3f3f3f;stroke-linejoin:miter;\" x=\"288.246454\" xlink:href=\"#mf8aa08c94b\" y=\"185.426625\"/>\r\n     <use style=\"fill:#3f3f3f;stroke:#3f3f3f;stroke-linejoin:miter;\" x=\"288.495726\" xlink:href=\"#mf8aa08c94b\" y=\"185.426625\"/>\r\n     <use style=\"fill:#3f3f3f;stroke:#3f3f3f;stroke-linejoin:miter;\" x=\"287.330213\" xlink:href=\"#mf8aa08c94b\" y=\"185.426625\"/>\r\n     <use style=\"fill:#3f3f3f;stroke:#3f3f3f;stroke-linejoin:miter;\" x=\"279.749323\" xlink:href=\"#mf8aa08c94b\" y=\"185.426625\"/>\r\n     <use style=\"fill:#3f3f3f;stroke:#3f3f3f;stroke-linejoin:miter;\" x=\"291.641938\" xlink:href=\"#mf8aa08c94b\" y=\"185.426625\"/>\r\n     <use style=\"fill:#3f3f3f;stroke:#3f3f3f;stroke-linejoin:miter;\" x=\"298.540699\" xlink:href=\"#mf8aa08c94b\" y=\"185.426625\"/>\r\n     <use style=\"fill:#3f3f3f;stroke:#3f3f3f;stroke-linejoin:miter;\" x=\"291.89121\" xlink:href=\"#mf8aa08c94b\" y=\"185.426625\"/>\r\n     <use style=\"fill:#3f3f3f;stroke:#3f3f3f;stroke-linejoin:miter;\" x=\"307.170888\" xlink:href=\"#mf8aa08c94b\" y=\"185.426625\"/>\r\n     <use style=\"fill:#3f3f3f;stroke:#3f3f3f;stroke-linejoin:miter;\" x=\"286.191648\" xlink:href=\"#mf8aa08c94b\" y=\"185.426625\"/>\r\n     <use style=\"fill:#3f3f3f;stroke:#3f3f3f;stroke-linejoin:miter;\" x=\"293.285784\" xlink:href=\"#mf8aa08c94b\" y=\"185.426625\"/>\r\n     <use style=\"fill:#3f3f3f;stroke:#3f3f3f;stroke-linejoin:miter;\" x=\"286.494816\" xlink:href=\"#mf8aa08c94b\" y=\"185.426625\"/>\r\n     <use style=\"fill:#3f3f3f;stroke:#3f3f3f;stroke-linejoin:miter;\" x=\"307.029409\" xlink:href=\"#mf8aa08c94b\" y=\"185.426625\"/>\r\n     <use style=\"fill:#3f3f3f;stroke:#3f3f3f;stroke-linejoin:miter;\" x=\"279.370363\" xlink:href=\"#mf8aa08c94b\" y=\"185.426625\"/>\r\n     <use style=\"fill:#3f3f3f;stroke:#3f3f3f;stroke-linejoin:miter;\" x=\"301.602698\" xlink:href=\"#mf8aa08c94b\" y=\"185.426625\"/>\r\n     <use style=\"fill:#3f3f3f;stroke:#3f3f3f;stroke-linejoin:miter;\" x=\"316.003188\" xlink:href=\"#mf8aa08c94b\" y=\"185.426625\"/>\r\n     <use style=\"fill:#3f3f3f;stroke:#3f3f3f;stroke-linejoin:miter;\" x=\"328.803624\" xlink:href=\"#mf8aa08c94b\" y=\"185.426625\"/>\r\n     <use style=\"fill:#3f3f3f;stroke:#3f3f3f;stroke-linejoin:miter;\" x=\"318.751913\" xlink:href=\"#mf8aa08c94b\" y=\"185.426625\"/>\r\n     <use style=\"fill:#3f3f3f;stroke:#3f3f3f;stroke-linejoin:miter;\" x=\"321.460216\" xlink:href=\"#mf8aa08c94b\" y=\"185.426625\"/>\r\n     <use style=\"fill:#3f3f3f;stroke:#3f3f3f;stroke-linejoin:miter;\" x=\"288.071291\" xlink:href=\"#mf8aa08c94b\" y=\"185.426625\"/>\r\n     <use style=\"fill:#3f3f3f;stroke:#3f3f3f;stroke-linejoin:miter;\" x=\"276.793433\" xlink:href=\"#mf8aa08c94b\" y=\"185.426625\"/>\r\n     <use style=\"fill:#3f3f3f;stroke:#3f3f3f;stroke-linejoin:miter;\" x=\"273.559639\" xlink:href=\"#mf8aa08c94b\" y=\"185.426625\"/>\r\n     <use style=\"fill:#3f3f3f;stroke:#3f3f3f;stroke-linejoin:miter;\" x=\"329.315641\" xlink:href=\"#mf8aa08c94b\" y=\"185.426625\"/>\r\n     <use style=\"fill:#3f3f3f;stroke:#3f3f3f;stroke-linejoin:miter;\" x=\"287.530641\" xlink:href=\"#mf8aa08c94b\" y=\"185.426625\"/>\r\n     <use style=\"fill:#3f3f3f;stroke:#3f3f3f;stroke-linejoin:miter;\" x=\"288.192558\" xlink:href=\"#mf8aa08c94b\" y=\"185.426625\"/>\r\n     <use style=\"fill:#3f3f3f;stroke:#3f3f3f;stroke-linejoin:miter;\" x=\"280.4584\" xlink:href=\"#mf8aa08c94b\" y=\"185.426625\"/>\r\n     <use style=\"fill:#3f3f3f;stroke:#3f3f3f;stroke-linejoin:miter;\" x=\"340.094955\" xlink:href=\"#mf8aa08c94b\" y=\"185.426625\"/>\r\n     <use style=\"fill:#3f3f3f;stroke:#3f3f3f;stroke-linejoin:miter;\" x=\"315.356429\" xlink:href=\"#mf8aa08c94b\" y=\"185.426625\"/>\r\n     <use style=\"fill:#3f3f3f;stroke:#3f3f3f;stroke-linejoin:miter;\" x=\"305.518621\" xlink:href=\"#mf8aa08c94b\" y=\"185.426625\"/>\r\n     <use style=\"fill:#3f3f3f;stroke:#3f3f3f;stroke-linejoin:miter;\" x=\"292.002372\" xlink:href=\"#mf8aa08c94b\" y=\"185.426625\"/>\r\n     <use style=\"fill:#3f3f3f;stroke:#3f3f3f;stroke-linejoin:miter;\" x=\"277.413244\" xlink:href=\"#mf8aa08c94b\" y=\"185.426625\"/>\r\n     <use style=\"fill:#3f3f3f;stroke:#3f3f3f;stroke-linejoin:miter;\" x=\"282.129194\" xlink:href=\"#mf8aa08c94b\" y=\"185.426625\"/>\r\n     <use style=\"fill:#3f3f3f;stroke:#3f3f3f;stroke-linejoin:miter;\" x=\"281.517804\" xlink:href=\"#mf8aa08c94b\" y=\"185.426625\"/>\r\n     <use style=\"fill:#3f3f3f;stroke:#3f3f3f;stroke-linejoin:miter;\" x=\"313.200567\" xlink:href=\"#mf8aa08c94b\" y=\"185.426625\"/>\r\n     <use style=\"fill:#3f3f3f;stroke:#3f3f3f;stroke-linejoin:miter;\" x=\"289.486076\" xlink:href=\"#mf8aa08c94b\" y=\"185.426625\"/>\r\n     <use style=\"fill:#3f3f3f;stroke:#3f3f3f;stroke-linejoin:miter;\" x=\"311.415243\" xlink:href=\"#mf8aa08c94b\" y=\"185.426625\"/>\r\n     <use style=\"fill:#3f3f3f;stroke:#3f3f3f;stroke-linejoin:miter;\" x=\"276.793433\" xlink:href=\"#mf8aa08c94b\" y=\"185.426625\"/>\r\n     <use style=\"fill:#3f3f3f;stroke:#3f3f3f;stroke-linejoin:miter;\" x=\"295.118267\" xlink:href=\"#mf8aa08c94b\" y=\"185.426625\"/>\r\n     <use style=\"fill:#3f3f3f;stroke:#3f3f3f;stroke-linejoin:miter;\" x=\"283.207125\" xlink:href=\"#mf8aa08c94b\" y=\"185.426625\"/>\r\n     <use style=\"fill:#3f3f3f;stroke:#3f3f3f;stroke-linejoin:miter;\" x=\"281.724969\" xlink:href=\"#mf8aa08c94b\" y=\"185.426625\"/>\r\n     <use style=\"fill:#3f3f3f;stroke:#3f3f3f;stroke-linejoin:miter;\" x=\"276.793433\" xlink:href=\"#mf8aa08c94b\" y=\"185.426625\"/>\r\n     <use style=\"fill:#3f3f3f;stroke:#3f3f3f;stroke-linejoin:miter;\" x=\"280.57293\" xlink:href=\"#mf8aa08c94b\" y=\"185.426625\"/>\r\n     <use style=\"fill:#3f3f3f;stroke:#3f3f3f;stroke-linejoin:miter;\" x=\"286.467868\" xlink:href=\"#mf8aa08c94b\" y=\"185.426625\"/>\r\n     <use style=\"fill:#3f3f3f;stroke:#3f3f3f;stroke-linejoin:miter;\" x=\"287.101152\" xlink:href=\"#mf8aa08c94b\" y=\"185.426625\"/>\r\n     <use style=\"fill:#3f3f3f;stroke:#3f3f3f;stroke-linejoin:miter;\" x=\"280.027227\" xlink:href=\"#mf8aa08c94b\" y=\"185.426625\"/>\r\n     <use style=\"fill:#3f3f3f;stroke:#3f3f3f;stroke-linejoin:miter;\" x=\"280.973786\" xlink:href=\"#mf8aa08c94b\" y=\"185.426625\"/>\r\n     <use style=\"fill:#3f3f3f;stroke:#3f3f3f;stroke-linejoin:miter;\" x=\"298.21732\" xlink:href=\"#mf8aa08c94b\" y=\"185.426625\"/>\r\n     <use style=\"fill:#3f3f3f;stroke:#3f3f3f;stroke-linejoin:miter;\" x=\"278.814555\" xlink:href=\"#mf8aa08c94b\" y=\"185.426625\"/>\r\n     <use style=\"fill:#3f3f3f;stroke:#3f3f3f;stroke-linejoin:miter;\" x=\"295.576388\" xlink:href=\"#mf8aa08c94b\" y=\"185.426625\"/>\r\n     <use style=\"fill:#3f3f3f;stroke:#3f3f3f;stroke-linejoin:miter;\" x=\"294.983526\" xlink:href=\"#mf8aa08c94b\" y=\"185.426625\"/>\r\n     <use style=\"fill:#3f3f3f;stroke:#3f3f3f;stroke-linejoin:miter;\" x=\"288.010657\" xlink:href=\"#mf8aa08c94b\" y=\"185.426625\"/>\r\n     <use style=\"fill:#3f3f3f;stroke:#3f3f3f;stroke-linejoin:miter;\" x=\"316.963221\" xlink:href=\"#mf8aa08c94b\" y=\"185.426625\"/>\r\n     <use style=\"fill:#3f3f3f;stroke:#3f3f3f;stroke-linejoin:miter;\" x=\"283.207125\" xlink:href=\"#mf8aa08c94b\" y=\"185.426625\"/>\r\n     <use style=\"fill:#3f3f3f;stroke:#3f3f3f;stroke-linejoin:miter;\" x=\"294.228974\" xlink:href=\"#mf8aa08c94b\" y=\"185.426625\"/>\r\n     <use style=\"fill:#3f3f3f;stroke:#3f3f3f;stroke-linejoin:miter;\" x=\"275.984985\" xlink:href=\"#mf8aa08c94b\" y=\"185.426625\"/>\r\n     <use style=\"fill:#3f3f3f;stroke:#3f3f3f;stroke-linejoin:miter;\" x=\"283.235758\" xlink:href=\"#mf8aa08c94b\" y=\"185.426625\"/>\r\n     <use style=\"fill:#3f3f3f;stroke:#3f3f3f;stroke-linejoin:miter;\" x=\"321.662328\" xlink:href=\"#mf8aa08c94b\" y=\"185.426625\"/>\r\n     <use style=\"fill:#3f3f3f;stroke:#3f3f3f;stroke-linejoin:miter;\" x=\"290.10757\" xlink:href=\"#mf8aa08c94b\" y=\"185.426625\"/>\r\n     <use style=\"fill:#3f3f3f;stroke:#3f3f3f;stroke-linejoin:miter;\" x=\"296.923802\" xlink:href=\"#mf8aa08c94b\" y=\"185.426625\"/>\r\n     <use style=\"fill:#3f3f3f;stroke:#3f3f3f;stroke-linejoin:miter;\" x=\"289.917248\" xlink:href=\"#mf8aa08c94b\" y=\"185.426625\"/>\r\n     <use style=\"fill:#3f3f3f;stroke:#3f3f3f;stroke-linejoin:miter;\" x=\"279.521947\" xlink:href=\"#mf8aa08c94b\" y=\"185.426625\"/>\r\n     <use style=\"fill:#3f3f3f;stroke:#3f3f3f;stroke-linejoin:miter;\" x=\"332.818918\" xlink:href=\"#mf8aa08c94b\" y=\"185.426625\"/>\r\n     <use style=\"fill:#3f3f3f;stroke:#3f3f3f;stroke-linejoin:miter;\" x=\"281.2399\" xlink:href=\"#mf8aa08c94b\" y=\"185.426625\"/>\r\n     <use style=\"fill:#3f3f3f;stroke:#3f3f3f;stroke-linejoin:miter;\" x=\"300.37992\" xlink:href=\"#mf8aa08c94b\" y=\"185.426625\"/>\r\n     <use style=\"fill:#3f3f3f;stroke:#3f3f3f;stroke-linejoin:miter;\" x=\"278.73371\" xlink:href=\"#mf8aa08c94b\" y=\"185.426625\"/>\r\n     <use style=\"fill:#3f3f3f;stroke:#3f3f3f;stroke-linejoin:miter;\" x=\"294.831942\" xlink:href=\"#mf8aa08c94b\" y=\"185.426625\"/>\r\n     <use style=\"fill:#3f3f3f;stroke:#3f3f3f;stroke-linejoin:miter;\" x=\"290.537059\" xlink:href=\"#mf8aa08c94b\" y=\"185.426625\"/>\r\n     <use style=\"fill:#3f3f3f;stroke:#3f3f3f;stroke-linejoin:miter;\" x=\"285.713316\" xlink:href=\"#mf8aa08c94b\" y=\"185.426625\"/>\r\n     <use style=\"fill:#3f3f3f;stroke:#3f3f3f;stroke-linejoin:miter;\" x=\"289.917248\" xlink:href=\"#mf8aa08c94b\" y=\"185.426625\"/>\r\n     <use style=\"fill:#3f3f3f;stroke:#3f3f3f;stroke-linejoin:miter;\" x=\"277.844416\" xlink:href=\"#mf8aa08c94b\" y=\"185.426625\"/>\r\n     <use style=\"fill:#3f3f3f;stroke:#3f3f3f;stroke-linejoin:miter;\" x=\"310.505738\" xlink:href=\"#mf8aa08c94b\" y=\"185.426625\"/>\r\n     <use style=\"fill:#3f3f3f;stroke:#3f3f3f;stroke-linejoin:miter;\" x=\"278.167796\" xlink:href=\"#mf8aa08c94b\" y=\"185.426625\"/>\r\n     <use style=\"fill:#3f3f3f;stroke:#3f3f3f;stroke-linejoin:miter;\" x=\"280.4584\" xlink:href=\"#mf8aa08c94b\" y=\"185.426625\"/>\r\n     <use style=\"fill:#3f3f3f;stroke:#3f3f3f;stroke-linejoin:miter;\" x=\"302.926533\" xlink:href=\"#mf8aa08c94b\" y=\"185.426625\"/>\r\n     <use style=\"fill:#3f3f3f;stroke:#3f3f3f;stroke-linejoin:miter;\" x=\"273.559639\" xlink:href=\"#mf8aa08c94b\" y=\"185.426625\"/>\r\n     <use style=\"fill:#3f3f3f;stroke:#3f3f3f;stroke-linejoin:miter;\" x=\"314.386291\" xlink:href=\"#mf8aa08c94b\" y=\"185.426625\"/>\r\n     <use style=\"fill:#3f3f3f;stroke:#3f3f3f;stroke-linejoin:miter;\" x=\"275.149588\" xlink:href=\"#mf8aa08c94b\" y=\"185.426625\"/>\r\n     <use style=\"fill:#3f3f3f;stroke:#3f3f3f;stroke-linejoin:miter;\" x=\"293.366629\" xlink:href=\"#mf8aa08c94b\" y=\"185.426625\"/>\r\n     <use style=\"fill:#3f3f3f;stroke:#3f3f3f;stroke-linejoin:miter;\" x=\"291.042339\" xlink:href=\"#mf8aa08c94b\" y=\"185.426625\"/>\r\n     <use style=\"fill:#3f3f3f;stroke:#3f3f3f;stroke-linejoin:miter;\" x=\"296.49263\" xlink:href=\"#mf8aa08c94b\" y=\"185.426625\"/>\r\n     <use style=\"fill:#3f3f3f;stroke:#3f3f3f;stroke-linejoin:miter;\" x=\"303.138751\" xlink:href=\"#mf8aa08c94b\" y=\"185.426625\"/>\r\n     <use style=\"fill:#3f3f3f;stroke:#3f3f3f;stroke-linejoin:miter;\" x=\"274.395036\" xlink:href=\"#mf8aa08c94b\" y=\"185.426625\"/>\r\n     <use style=\"fill:#3f3f3f;stroke:#3f3f3f;stroke-linejoin:miter;\" x=\"311.203025\" xlink:href=\"#mf8aa08c94b\" y=\"185.426625\"/>\r\n     <use style=\"fill:#3f3f3f;stroke:#3f3f3f;stroke-linejoin:miter;\" x=\"299.241355\" xlink:href=\"#mf8aa08c94b\" y=\"185.426625\"/>\r\n     <use style=\"fill:#3f3f3f;stroke:#3f3f3f;stroke-linejoin:miter;\" x=\"275.984985\" xlink:href=\"#mf8aa08c94b\" y=\"185.426625\"/>\r\n     <use style=\"fill:#3f3f3f;stroke:#3f3f3f;stroke-linejoin:miter;\" x=\"282.156142\" xlink:href=\"#mf8aa08c94b\" y=\"185.426625\"/>\r\n     <use style=\"fill:#3f3f3f;stroke:#3f3f3f;stroke-linejoin:miter;\" x=\"294.228974\" xlink:href=\"#mf8aa08c94b\" y=\"185.426625\"/>\r\n     <use style=\"fill:#3f3f3f;stroke:#3f3f3f;stroke-linejoin:miter;\" x=\"273.787015\" xlink:href=\"#mf8aa08c94b\" y=\"185.426625\"/>\r\n     <use style=\"fill:#3f3f3f;stroke:#3f3f3f;stroke-linejoin:miter;\" x=\"293.113988\" xlink:href=\"#mf8aa08c94b\" y=\"185.426625\"/>\r\n     <use style=\"fill:#3f3f3f;stroke:#3f3f3f;stroke-linejoin:miter;\" x=\"301.531959\" xlink:href=\"#mf8aa08c94b\" y=\"185.426625\"/>\r\n     <use style=\"fill:#3f3f3f;stroke:#3f3f3f;stroke-linejoin:miter;\" x=\"306.113168\" xlink:href=\"#mf8aa08c94b\" y=\"185.426625\"/>\r\n     <use style=\"fill:#3f3f3f;stroke:#3f3f3f;stroke-linejoin:miter;\" x=\"320.60124\" xlink:href=\"#mf8aa08c94b\" y=\"185.426625\"/>\r\n     <use style=\"fill:#3f3f3f;stroke:#3f3f3f;stroke-linejoin:miter;\" x=\"314.359343\" xlink:href=\"#mf8aa08c94b\" y=\"185.426625\"/>\r\n     <use style=\"fill:#3f3f3f;stroke:#3f3f3f;stroke-linejoin:miter;\" x=\"291.102973\" xlink:href=\"#mf8aa08c94b\" y=\"185.426625\"/>\r\n     <use style=\"fill:#3f3f3f;stroke:#3f3f3f;stroke-linejoin:miter;\" x=\"284.581488\" xlink:href=\"#mf8aa08c94b\" y=\"185.426625\"/>\r\n     <use style=\"fill:#3f3f3f;stroke:#3f3f3f;stroke-linejoin:miter;\" x=\"300.450659\" xlink:href=\"#mf8aa08c94b\" y=\"185.426625\"/>\r\n     <use style=\"fill:#3f3f3f;stroke:#3f3f3f;stroke-linejoin:miter;\" x=\"331.363711\" xlink:href=\"#mf8aa08c94b\" y=\"185.426625\"/>\r\n     <use style=\"fill:#3f3f3f;stroke:#3f3f3f;stroke-linejoin:miter;\" x=\"273.685959\" xlink:href=\"#mf8aa08c94b\" y=\"185.426625\"/>\r\n     <use style=\"fill:#3f3f3f;stroke:#3f3f3f;stroke-linejoin:miter;\" x=\"322.748681\" xlink:href=\"#mf8aa08c94b\" y=\"185.426625\"/>\r\n     <use style=\"fill:#3f3f3f;stroke:#3f3f3f;stroke-linejoin:miter;\" x=\"275.07548\" xlink:href=\"#mf8aa08c94b\" y=\"185.426625\"/>\r\n     <use style=\"fill:#3f3f3f;stroke:#3f3f3f;stroke-linejoin:miter;\" x=\"282.806269\" xlink:href=\"#mf8aa08c94b\" y=\"185.426625\"/>\r\n     <use style=\"fill:#3f3f3f;stroke:#3f3f3f;stroke-linejoin:miter;\" x=\"273.569744\" xlink:href=\"#mf8aa08c94b\" y=\"185.426625\"/>\r\n     <use style=\"fill:#3f3f3f;stroke:#3f3f3f;stroke-linejoin:miter;\" x=\"308.231977\" xlink:href=\"#mf8aa08c94b\" y=\"185.426625\"/>\r\n     <use style=\"fill:#3f3f3f;stroke:#3f3f3f;stroke-linejoin:miter;\" x=\"276.119726\" xlink:href=\"#mf8aa08c94b\" y=\"185.426625\"/>\r\n     <use style=\"fill:#3f3f3f;stroke:#3f3f3f;stroke-linejoin:miter;\" x=\"316.306357\" xlink:href=\"#mf8aa08c94b\" y=\"185.426625\"/>\r\n     <use style=\"fill:#3f3f3f;stroke:#3f3f3f;stroke-linejoin:miter;\" x=\"283.44966\" xlink:href=\"#mf8aa08c94b\" y=\"185.426625\"/>\r\n     <use style=\"fill:#3f3f3f;stroke:#3f3f3f;stroke-linejoin:miter;\" x=\"279.582581\" xlink:href=\"#mf8aa08c94b\" y=\"185.426625\"/>\r\n     <use style=\"fill:#3f3f3f;stroke:#3f3f3f;stroke-linejoin:miter;\" x=\"322.147397\" xlink:href=\"#mf8aa08c94b\" y=\"185.426625\"/>\r\n     <use style=\"fill:#3f3f3f;stroke:#3f3f3f;stroke-linejoin:miter;\" x=\"287.330213\" xlink:href=\"#mf8aa08c94b\" y=\"185.426625\"/>\r\n     <use style=\"fill:#3f3f3f;stroke:#3f3f3f;stroke-linejoin:miter;\" x=\"317.443237\" xlink:href=\"#mf8aa08c94b\" y=\"185.426625\"/>\r\n     <use style=\"fill:#3f3f3f;stroke:#3f3f3f;stroke-linejoin:miter;\" x=\"321.283368\" xlink:href=\"#mf8aa08c94b\" y=\"185.426625\"/>\r\n     <use style=\"fill:#3f3f3f;stroke:#3f3f3f;stroke-linejoin:miter;\" x=\"280.279868\" xlink:href=\"#mf8aa08c94b\" y=\"185.426625\"/>\r\n     <use style=\"fill:#3f3f3f;stroke:#3f3f3f;stroke-linejoin:miter;\" x=\"280.835676\" xlink:href=\"#mf8aa08c94b\" y=\"185.426625\"/>\r\n     <use style=\"fill:#3f3f3f;stroke:#3f3f3f;stroke-linejoin:miter;\" x=\"279.542158\" xlink:href=\"#mf8aa08c94b\" y=\"185.426625\"/>\r\n     <use style=\"fill:#3f3f3f;stroke:#3f3f3f;stroke-linejoin:miter;\" x=\"288.246454\" xlink:href=\"#mf8aa08c94b\" y=\"185.426625\"/>\r\n     <use style=\"fill:#3f3f3f;stroke:#3f3f3f;stroke-linejoin:miter;\" x=\"294.228974\" xlink:href=\"#mf8aa08c94b\" y=\"185.426625\"/>\r\n     <use style=\"fill:#3f3f3f;stroke:#3f3f3f;stroke-linejoin:miter;\" x=\"301.99008\" xlink:href=\"#mf8aa08c94b\" y=\"185.426625\"/>\r\n     <use style=\"fill:#3f3f3f;stroke:#3f3f3f;stroke-linejoin:miter;\" x=\"291.749731\" xlink:href=\"#mf8aa08c94b\" y=\"185.426625\"/>\r\n     <use style=\"fill:#3f3f3f;stroke:#3f3f3f;stroke-linejoin:miter;\" x=\"283.826936\" xlink:href=\"#mf8aa08c94b\" y=\"185.426625\"/>\r\n     <use style=\"fill:#3f3f3f;stroke:#3f3f3f;stroke-linejoin:miter;\" x=\"292.935456\" xlink:href=\"#mf8aa08c94b\" y=\"185.426625\"/>\r\n     <use style=\"fill:#3f3f3f;stroke:#3f3f3f;stroke-linejoin:miter;\" x=\"283.37892\" xlink:href=\"#mf8aa08c94b\" y=\"185.426625\"/>\r\n     <use style=\"fill:#3f3f3f;stroke:#3f3f3f;stroke-linejoin:miter;\" x=\"340.004005\" xlink:href=\"#mf8aa08c94b\" y=\"185.426625\"/>\r\n     <use style=\"fill:#3f3f3f;stroke:#3f3f3f;stroke-linejoin:miter;\" x=\"337.66961\" xlink:href=\"#mf8aa08c94b\" y=\"185.426625\"/>\r\n     <use style=\"fill:#3f3f3f;stroke:#3f3f3f;stroke-linejoin:miter;\" x=\"283.880832\" xlink:href=\"#mf8aa08c94b\" y=\"185.426625\"/>\r\n     <use style=\"fill:#3f3f3f;stroke:#3f3f3f;stroke-linejoin:miter;\" x=\"325.219502\" xlink:href=\"#mf8aa08c94b\" y=\"185.426625\"/>\r\n     <use style=\"fill:#3f3f3f;stroke:#3f3f3f;stroke-linejoin:miter;\" x=\"277.413244\" xlink:href=\"#mf8aa08c94b\" y=\"185.426625\"/>\r\n     <use style=\"fill:#3f3f3f;stroke:#3f3f3f;stroke-linejoin:miter;\" x=\"287.707489\" xlink:href=\"#mf8aa08c94b\" y=\"185.426625\"/>\r\n     <use style=\"fill:#3f3f3f;stroke:#3f3f3f;stroke-linejoin:miter;\" x=\"316.306357\" xlink:href=\"#mf8aa08c94b\" y=\"185.426625\"/>\r\n     <use style=\"fill:#3f3f3f;stroke:#3f3f3f;stroke-linejoin:miter;\" x=\"297.560456\" xlink:href=\"#mf8aa08c94b\" y=\"185.426625\"/>\r\n     <use style=\"fill:#3f3f3f;stroke:#3f3f3f;stroke-linejoin:miter;\" x=\"304.482796\" xlink:href=\"#mf8aa08c94b\" y=\"185.426625\"/>\r\n     <use style=\"fill:#3f3f3f;stroke:#3f3f3f;stroke-linejoin:miter;\" x=\"316.649947\" xlink:href=\"#mf8aa08c94b\" y=\"185.426625\"/>\r\n     <use style=\"fill:#3f3f3f;stroke:#3f3f3f;stroke-linejoin:miter;\" x=\"288.071291\" xlink:href=\"#mf8aa08c94b\" y=\"185.426625\"/>\r\n     <use style=\"fill:#3f3f3f;stroke:#3f3f3f;stroke-linejoin:miter;\" x=\"298.015208\" xlink:href=\"#mf8aa08c94b\" y=\"185.426625\"/>\r\n     <use style=\"fill:#3f3f3f;stroke:#3f3f3f;stroke-linejoin:miter;\" x=\"277.251554\" xlink:href=\"#mf8aa08c94b\" y=\"185.426625\"/>\r\n     <use style=\"fill:#3f3f3f;stroke:#3f3f3f;stroke-linejoin:miter;\" x=\"288.389617\" xlink:href=\"#mf8aa08c94b\" y=\"185.426625\"/>\r\n     <use style=\"fill:#3f3f3f;stroke:#3f3f3f;stroke-linejoin:miter;\" x=\"297.83836\" xlink:href=\"#mf8aa08c94b\" y=\"185.426625\"/>\r\n     <use style=\"fill:#3f3f3f;stroke:#3f3f3f;stroke-linejoin:miter;\" x=\"288.515937\" xlink:href=\"#mf8aa08c94b\" y=\"185.426625\"/>\r\n     <use style=\"fill:#3f3f3f;stroke:#3f3f3f;stroke-linejoin:miter;\" x=\"297.408871\" xlink:href=\"#mf8aa08c94b\" y=\"185.426625\"/>\r\n     <use style=\"fill:#3f3f3f;stroke:#3f3f3f;stroke-linejoin:miter;\" x=\"295.711129\" xlink:href=\"#mf8aa08c94b\" y=\"185.426625\"/>\r\n     <use style=\"fill:#3f3f3f;stroke:#3f3f3f;stroke-linejoin:miter;\" x=\"275.2018\" xlink:href=\"#mf8aa08c94b\" y=\"185.426625\"/>\r\n     <use style=\"fill:#3f3f3f;stroke:#3f3f3f;stroke-linejoin:miter;\" x=\"280.054176\" xlink:href=\"#mf8aa08c94b\" y=\"185.426625\"/>\r\n     <use style=\"fill:#3f3f3f;stroke:#3f3f3f;stroke-linejoin:miter;\" x=\"295.468595\" xlink:href=\"#mf8aa08c94b\" y=\"185.426625\"/>\r\n     <use style=\"fill:#3f3f3f;stroke:#3f3f3f;stroke-linejoin:miter;\" x=\"293.797801\" xlink:href=\"#mf8aa08c94b\" y=\"185.426625\"/>\r\n     <use style=\"fill:#3f3f3f;stroke:#3f3f3f;stroke-linejoin:miter;\" x=\"312.567282\" xlink:href=\"#mf8aa08c94b\" y=\"185.426625\"/>\r\n     <use style=\"fill:#3f3f3f;stroke:#3f3f3f;stroke-linejoin:miter;\" x=\"295.286694\" xlink:href=\"#mf8aa08c94b\" y=\"185.426625\"/>\r\n     <use style=\"fill:#3f3f3f;stroke:#3f3f3f;stroke-linejoin:miter;\" x=\"358.244626\" xlink:href=\"#mf8aa08c94b\" y=\"185.426625\"/>\r\n     <use style=\"fill:#3f3f3f;stroke:#3f3f3f;stroke-linejoin:miter;\" x=\"276.163517\" xlink:href=\"#mf8aa08c94b\" y=\"185.426625\"/>\r\n     <use style=\"fill:#3f3f3f;stroke:#3f3f3f;stroke-linejoin:miter;\" x=\"322.605518\" xlink:href=\"#mf8aa08c94b\" y=\"185.426625\"/>\r\n     <use style=\"fill:#3f3f3f;stroke:#3f3f3f;stroke-linejoin:miter;\" x=\"286.494816\" xlink:href=\"#mf8aa08c94b\" y=\"185.426625\"/>\r\n     <use style=\"fill:#3f3f3f;stroke:#3f3f3f;stroke-linejoin:miter;\" x=\"282.452573\" xlink:href=\"#mf8aa08c94b\" y=\"185.426625\"/>\r\n     <use style=\"fill:#3f3f3f;stroke:#3f3f3f;stroke-linejoin:miter;\" x=\"279.158145\" xlink:href=\"#mf8aa08c94b\" y=\"185.426625\"/>\r\n     <use style=\"fill:#3f3f3f;stroke:#3f3f3f;stroke-linejoin:miter;\" x=\"298.325113\" xlink:href=\"#mf8aa08c94b\" y=\"185.426625\"/>\r\n     <use style=\"fill:#3f3f3f;stroke:#3f3f3f;stroke-linejoin:miter;\" x=\"295.074476\" xlink:href=\"#mf8aa08c94b\" y=\"185.426625\"/>\r\n     <use style=\"fill:#3f3f3f;stroke:#3f3f3f;stroke-linejoin:miter;\" x=\"310.236255\" xlink:href=\"#mf8aa08c94b\" y=\"185.426625\"/>\r\n     <use style=\"fill:#3f3f3f;stroke:#3f3f3f;stroke-linejoin:miter;\" x=\"276.641849\" xlink:href=\"#mf8aa08c94b\" y=\"185.426625\"/>\r\n     <use style=\"fill:#3f3f3f;stroke:#3f3f3f;stroke-linejoin:miter;\" x=\"293.922437\" xlink:href=\"#mf8aa08c94b\" y=\"185.426625\"/>\r\n     <use style=\"fill:#3f3f3f;stroke:#3f3f3f;stroke-linejoin:miter;\" x=\"288.071291\" xlink:href=\"#mf8aa08c94b\" y=\"185.426625\"/>\r\n     <use style=\"fill:#3f3f3f;stroke:#3f3f3f;stroke-linejoin:miter;\" x=\"279.218779\" xlink:href=\"#mf8aa08c94b\" y=\"185.426625\"/>\r\n     <use style=\"fill:#3f3f3f;stroke:#3f3f3f;stroke-linejoin:miter;\" x=\"307.595323\" xlink:href=\"#mf8aa08c94b\" y=\"185.426625\"/>\r\n     <use style=\"fill:#3f3f3f;stroke:#3f3f3f;stroke-linejoin:miter;\" x=\"318.482431\" xlink:href=\"#mf8aa08c94b\" y=\"185.426625\"/>\r\n     <use style=\"fill:#3f3f3f;stroke:#3f3f3f;stroke-linejoin:miter;\" x=\"316.515206\" xlink:href=\"#mf8aa08c94b\" y=\"185.426625\"/>\r\n     <use style=\"fill:#3f3f3f;stroke:#3f3f3f;stroke-linejoin:miter;\" x=\"299.202617\" xlink:href=\"#mf8aa08c94b\" y=\"185.426625\"/>\r\n     <use style=\"fill:#3f3f3f;stroke:#3f3f3f;stroke-linejoin:miter;\" x=\"306.571288\" xlink:href=\"#mf8aa08c94b\" y=\"185.426625\"/>\r\n     <use style=\"fill:#3f3f3f;stroke:#3f3f3f;stroke-linejoin:miter;\" x=\"273.640484\" xlink:href=\"#mf8aa08c94b\" y=\"185.426625\"/>\r\n     <use style=\"fill:#3f3f3f;stroke:#3f3f3f;stroke-linejoin:miter;\" x=\"312.547071\" xlink:href=\"#mf8aa08c94b\" y=\"185.426625\"/>\r\n     <use style=\"fill:#3f3f3f;stroke:#3f3f3f;stroke-linejoin:miter;\" x=\"313.12309\" xlink:href=\"#mf8aa08c94b\" y=\"185.426625\"/>\r\n     <use style=\"fill:#3f3f3f;stroke:#3f3f3f;stroke-linejoin:miter;\" x=\"276.389209\" xlink:href=\"#mf8aa08c94b\" y=\"185.426625\"/>\r\n     <use style=\"fill:#3f3f3f;stroke:#3f3f3f;stroke-linejoin:miter;\" x=\"308.146079\" xlink:href=\"#mf8aa08c94b\" y=\"185.426625\"/>\r\n     <use style=\"fill:#3f3f3f;stroke:#3f3f3f;stroke-linejoin:miter;\" x=\"290.537059\" xlink:href=\"#mf8aa08c94b\" y=\"185.426625\"/>\r\n     <use style=\"fill:#3f3f3f;stroke:#3f3f3f;stroke-linejoin:miter;\" x=\"276.363945\" xlink:href=\"#mf8aa08c94b\" y=\"185.426625\"/>\r\n     <use style=\"fill:#3f3f3f;stroke:#3f3f3f;stroke-linejoin:miter;\" x=\"274.395036\" xlink:href=\"#mf8aa08c94b\" y=\"185.426625\"/>\r\n     <use style=\"fill:#3f3f3f;stroke:#3f3f3f;stroke-linejoin:miter;\" x=\"290.348421\" xlink:href=\"#mf8aa08c94b\" y=\"185.426625\"/>\r\n     <use style=\"fill:#3f3f3f;stroke:#3f3f3f;stroke-linejoin:miter;\" x=\"324.466634\" xlink:href=\"#mf8aa08c94b\" y=\"185.426625\"/>\r\n     <use style=\"fill:#3f3f3f;stroke:#3f3f3f;stroke-linejoin:miter;\" x=\"289.324386\" xlink:href=\"#mf8aa08c94b\" y=\"185.426625\"/>\r\n     <use style=\"fill:#3f3f3f;stroke:#3f3f3f;stroke-linejoin:miter;\" x=\"289.486076\" xlink:href=\"#mf8aa08c94b\" y=\"185.426625\"/>\r\n     <use style=\"fill:#3f3f3f;stroke:#3f3f3f;stroke-linejoin:miter;\" x=\"288.192558\" xlink:href=\"#mf8aa08c94b\" y=\"185.426625\"/>\r\n     <use style=\"fill:#3f3f3f;stroke:#3f3f3f;stroke-linejoin:miter;\" x=\"301.774494\" xlink:href=\"#mf8aa08c94b\" y=\"185.426625\"/>\r\n     <use style=\"fill:#3f3f3f;stroke:#3f3f3f;stroke-linejoin:miter;\" x=\"282.587314\" xlink:href=\"#mf8aa08c94b\" y=\"185.426625\"/>\r\n     <use style=\"fill:#3f3f3f;stroke:#3f3f3f;stroke-linejoin:miter;\" x=\"305.870633\" xlink:href=\"#mf8aa08c94b\" y=\"185.426625\"/>\r\n     <use style=\"fill:#3f3f3f;stroke:#3f3f3f;stroke-linejoin:miter;\" x=\"290.284418\" xlink:href=\"#mf8aa08c94b\" y=\"185.426625\"/>\r\n     <use style=\"fill:#3f3f3f;stroke:#3f3f3f;stroke-linejoin:miter;\" x=\"305.169978\" xlink:href=\"#mf8aa08c94b\" y=\"185.426625\"/>\r\n     <use style=\"fill:#3f3f3f;stroke:#3f3f3f;stroke-linejoin:miter;\" x=\"276.658692\" xlink:href=\"#mf8aa08c94b\" y=\"185.426625\"/>\r\n     <use style=\"fill:#3f3f3f;stroke:#3f3f3f;stroke-linejoin:miter;\" x=\"279.799851\" xlink:href=\"#mf8aa08c94b\" y=\"185.426625\"/>\r\n     <use style=\"fill:#3f3f3f;stroke:#3f3f3f;stroke-linejoin:miter;\" x=\"281.189372\" xlink:href=\"#mf8aa08c94b\" y=\"185.426625\"/>\r\n     <use style=\"fill:#3f3f3f;stroke:#3f3f3f;stroke-linejoin:miter;\" x=\"323.171432\" xlink:href=\"#mf8aa08c94b\" y=\"185.426625\"/>\r\n     <use style=\"fill:#3f3f3f;stroke:#3f3f3f;stroke-linejoin:miter;\" x=\"277.709675\" xlink:href=\"#mf8aa08c94b\" y=\"185.426625\"/>\r\n     <use style=\"fill:#3f3f3f;stroke:#3f3f3f;stroke-linejoin:miter;\" x=\"304.836493\" xlink:href=\"#mf8aa08c94b\" y=\"185.426625\"/>\r\n     <use style=\"fill:#3f3f3f;stroke:#3f3f3f;stroke-linejoin:miter;\" x=\"314.386291\" xlink:href=\"#mf8aa08c94b\" y=\"185.426625\"/>\r\n     <use style=\"fill:#3f3f3f;stroke:#3f3f3f;stroke-linejoin:miter;\" x=\"283.917886\" xlink:href=\"#mf8aa08c94b\" y=\"185.426625\"/>\r\n     <use style=\"fill:#3f3f3f;stroke:#3f3f3f;stroke-linejoin:miter;\" x=\"356.587306\" xlink:href=\"#mf8aa08c94b\" y=\"185.426625\"/>\r\n     <use style=\"fill:#3f3f3f;stroke:#3f3f3f;stroke-linejoin:miter;\" x=\"300.26539\" xlink:href=\"#mf8aa08c94b\" y=\"185.426625\"/>\r\n     <use style=\"fill:#3f3f3f;stroke:#3f3f3f;stroke-linejoin:miter;\" x=\"335.244264\" xlink:href=\"#mf8aa08c94b\" y=\"185.426625\"/>\r\n     <use style=\"fill:#3f3f3f;stroke:#3f3f3f;stroke-linejoin:miter;\" x=\"282.856797\" xlink:href=\"#mf8aa08c94b\" y=\"185.426625\"/>\r\n     <use style=\"fill:#3f3f3f;stroke:#3f3f3f;stroke-linejoin:miter;\" x=\"281.40159\" xlink:href=\"#mf8aa08c94b\" y=\"185.426625\"/>\r\n     <use style=\"fill:#3f3f3f;stroke:#3f3f3f;stroke-linejoin:miter;\" x=\"284.581488\" xlink:href=\"#mf8aa08c94b\" y=\"185.426625\"/>\r\n     <use style=\"fill:#3f3f3f;stroke:#3f3f3f;stroke-linejoin:miter;\" x=\"274.826208\" xlink:href=\"#mf8aa08c94b\" y=\"185.426625\"/>\r\n     <use style=\"fill:#3f3f3f;stroke:#3f3f3f;stroke-linejoin:miter;\" x=\"277.709675\" xlink:href=\"#mf8aa08c94b\" y=\"185.426625\"/>\r\n     <use style=\"fill:#3f3f3f;stroke:#3f3f3f;stroke-linejoin:miter;\" x=\"276.161833\" xlink:href=\"#mf8aa08c94b\" y=\"185.426625\"/>\r\n     <use style=\"fill:#3f3f3f;stroke:#3f3f3f;stroke-linejoin:miter;\" x=\"284.827391\" xlink:href=\"#mf8aa08c94b\" y=\"185.426625\"/>\r\n     <use style=\"fill:#3f3f3f;stroke:#3f3f3f;stroke-linejoin:miter;\" x=\"286.89904\" xlink:href=\"#mf8aa08c94b\" y=\"185.426625\"/>\r\n     <use style=\"fill:#3f3f3f;stroke:#3f3f3f;stroke-linejoin:miter;\" x=\"294.660146\" xlink:href=\"#mf8aa08c94b\" y=\"185.426625\"/>\r\n     <use style=\"fill:#3f3f3f;stroke:#3f3f3f;stroke-linejoin:miter;\" x=\"284.372638\" xlink:href=\"#mf8aa08c94b\" y=\"185.426625\"/>\r\n     <use style=\"fill:#3f3f3f;stroke:#3f3f3f;stroke-linejoin:miter;\" x=\"273.101518\" xlink:href=\"#mf8aa08c94b\" y=\"185.426625\"/>\r\n     <use style=\"fill:#3f3f3f;stroke:#3f3f3f;stroke-linejoin:miter;\" x=\"292.55818\" xlink:href=\"#mf8aa08c94b\" y=\"185.426625\"/>\r\n     <use style=\"fill:#3f3f3f;stroke:#3f3f3f;stroke-linejoin:miter;\" x=\"304.199839\" xlink:href=\"#mf8aa08c94b\" y=\"185.426625\"/>\r\n     <use style=\"fill:#3f3f3f;stroke:#3f3f3f;stroke-linejoin:miter;\" x=\"284.827391\" xlink:href=\"#mf8aa08c94b\" y=\"185.426625\"/>\r\n     <use style=\"fill:#3f3f3f;stroke:#3f3f3f;stroke-linejoin:miter;\" x=\"282.156142\" xlink:href=\"#mf8aa08c94b\" y=\"185.426625\"/>\r\n     <use style=\"fill:#3f3f3f;stroke:#3f3f3f;stroke-linejoin:miter;\" x=\"280.862624\" xlink:href=\"#mf8aa08c94b\" y=\"185.426625\"/>\r\n     <use style=\"fill:#3f3f3f;stroke:#3f3f3f;stroke-linejoin:miter;\" x=\"289.374914\" xlink:href=\"#mf8aa08c94b\" y=\"185.426625\"/>\r\n     <use style=\"fill:#3f3f3f;stroke:#3f3f3f;stroke-linejoin:miter;\" x=\"282.048349\" xlink:href=\"#mf8aa08c94b\" y=\"185.426625\"/>\r\n     <use style=\"fill:#3f3f3f;stroke:#3f3f3f;stroke-linejoin:miter;\" x=\"292.002372\" xlink:href=\"#mf8aa08c94b\" y=\"185.426625\"/>\r\n     <use style=\"fill:#3f3f3f;stroke:#3f3f3f;stroke-linejoin:miter;\" x=\"274.645992\" xlink:href=\"#mf8aa08c94b\" y=\"185.426625\"/>\r\n     <use style=\"fill:#3f3f3f;stroke:#3f3f3f;stroke-linejoin:miter;\" x=\"295.074476\" xlink:href=\"#mf8aa08c94b\" y=\"185.426625\"/>\r\n     <use style=\"fill:#3f3f3f;stroke:#3f3f3f;stroke-linejoin:miter;\" x=\"280.172074\" xlink:href=\"#mf8aa08c94b\" y=\"185.426625\"/>\r\n     <use style=\"fill:#3f3f3f;stroke:#3f3f3f;stroke-linejoin:miter;\" x=\"301.04689\" xlink:href=\"#mf8aa08c94b\" y=\"185.426625\"/>\r\n     <use style=\"fill:#3f3f3f;stroke:#3f3f3f;stroke-linejoin:miter;\" x=\"282.695108\" xlink:href=\"#mf8aa08c94b\" y=\"185.426625\"/>\r\n     <use style=\"fill:#3f3f3f;stroke:#3f3f3f;stroke-linejoin:miter;\" x=\"320.752824\" xlink:href=\"#mf8aa08c94b\" y=\"185.426625\"/>\r\n     <use style=\"fill:#3f3f3f;stroke:#3f3f3f;stroke-linejoin:miter;\" x=\"282.587314\" xlink:href=\"#mf8aa08c94b\" y=\"185.426625\"/>\r\n     <use style=\"fill:#3f3f3f;stroke:#3f3f3f;stroke-linejoin:miter;\" x=\"301.653226\" xlink:href=\"#mf8aa08c94b\" y=\"185.426625\"/>\r\n     <use style=\"fill:#3f3f3f;stroke:#3f3f3f;stroke-linejoin:miter;\" x=\"276.982071\" xlink:href=\"#mf8aa08c94b\" y=\"185.426625\"/>\r\n     <use style=\"fill:#3f3f3f;stroke:#3f3f3f;stroke-linejoin:miter;\" x=\"303.017483\" xlink:href=\"#mf8aa08c94b\" y=\"185.426625\"/>\r\n     <use style=\"fill:#3f3f3f;stroke:#3f3f3f;stroke-linejoin:miter;\" x=\"353.924479\" xlink:href=\"#mf8aa08c94b\" y=\"185.426625\"/>\r\n     <use style=\"fill:#3f3f3f;stroke:#3f3f3f;stroke-linejoin:miter;\" x=\"315.733705\" xlink:href=\"#mf8aa08c94b\" y=\"185.426625\"/>\r\n     <use style=\"fill:#3f3f3f;stroke:#3f3f3f;stroke-linejoin:miter;\" x=\"305.569149\" xlink:href=\"#mf8aa08c94b\" y=\"185.426625\"/>\r\n     <use style=\"fill:#3f3f3f;stroke:#3f3f3f;stroke-linejoin:miter;\" x=\"280.4584\" xlink:href=\"#mf8aa08c94b\" y=\"185.426625\"/>\r\n     <use style=\"fill:#3f3f3f;stroke:#3f3f3f;stroke-linejoin:miter;\" x=\"297.247182\" xlink:href=\"#mf8aa08c94b\" y=\"185.426625\"/>\r\n     <use style=\"fill:#3f3f3f;stroke:#3f3f3f;stroke-linejoin:miter;\" x=\"314.925257\" xlink:href=\"#mf8aa08c94b\" y=\"185.426625\"/>\r\n     <use style=\"fill:#3f3f3f;stroke:#3f3f3f;stroke-linejoin:miter;\" x=\"305.655047\" xlink:href=\"#mf8aa08c94b\" y=\"185.426625\"/>\r\n     <use style=\"fill:#3f3f3f;stroke:#3f3f3f;stroke-linejoin:miter;\" x=\"294.377189\" xlink:href=\"#mf8aa08c94b\" y=\"185.426625\"/>\r\n     <use style=\"fill:#3f3f3f;stroke:#3f3f3f;stroke-linejoin:miter;\" x=\"287.22242\" xlink:href=\"#mf8aa08c94b\" y=\"185.426625\"/>\r\n     <use style=\"fill:#3f3f3f;stroke:#3f3f3f;stroke-linejoin:miter;\" x=\"277.035968\" xlink:href=\"#mf8aa08c94b\" y=\"185.426625\"/>\r\n     <use style=\"fill:#3f3f3f;stroke:#3f3f3f;stroke-linejoin:miter;\" x=\"275.149588\" xlink:href=\"#mf8aa08c94b\" y=\"185.426625\"/>\r\n     <use style=\"fill:#3f3f3f;stroke:#3f3f3f;stroke-linejoin:miter;\" x=\"285.605522\" xlink:href=\"#mf8aa08c94b\" y=\"185.426625\"/>\r\n     <use style=\"fill:#3f3f3f;stroke:#3f3f3f;stroke-linejoin:miter;\" x=\"309.050531\" xlink:href=\"#mf8aa08c94b\" y=\"185.426625\"/>\r\n     <use style=\"fill:#3f3f3f;stroke:#3f3f3f;stroke-linejoin:miter;\" x=\"289.917248\" xlink:href=\"#mf8aa08c94b\" y=\"185.426625\"/>\r\n     <use style=\"fill:#3f3f3f;stroke:#3f3f3f;stroke-linejoin:miter;\" x=\"291.193923\" xlink:href=\"#mf8aa08c94b\" y=\"185.426625\"/>\r\n     <use style=\"fill:#3f3f3f;stroke:#3f3f3f;stroke-linejoin:miter;\" x=\"277.035968\" xlink:href=\"#mf8aa08c94b\" y=\"185.426625\"/>\r\n     <use style=\"fill:#3f3f3f;stroke:#3f3f3f;stroke-linejoin:miter;\" x=\"295.576388\" xlink:href=\"#mf8aa08c94b\" y=\"185.426625\"/>\r\n     <use style=\"fill:#3f3f3f;stroke:#3f3f3f;stroke-linejoin:miter;\" x=\"279.393943\" xlink:href=\"#mf8aa08c94b\" y=\"185.426625\"/>\r\n     <use style=\"fill:#3f3f3f;stroke:#3f3f3f;stroke-linejoin:miter;\" x=\"296.650951\" xlink:href=\"#mf8aa08c94b\" y=\"185.426625\"/>\r\n     <use style=\"fill:#3f3f3f;stroke:#3f3f3f;stroke-linejoin:miter;\" x=\"282.587314\" xlink:href=\"#mf8aa08c94b\" y=\"185.426625\"/>\r\n     <use style=\"fill:#3f3f3f;stroke:#3f3f3f;stroke-linejoin:miter;\" x=\"288.465409\" xlink:href=\"#mf8aa08c94b\" y=\"185.426625\"/>\r\n     <use style=\"fill:#3f3f3f;stroke:#3f3f3f;stroke-linejoin:miter;\" x=\"275.07548\" xlink:href=\"#mf8aa08c94b\" y=\"185.426625\"/>\r\n     <use style=\"fill:#3f3f3f;stroke:#3f3f3f;stroke-linejoin:miter;\" x=\"280.862624\" xlink:href=\"#mf8aa08c94b\" y=\"185.426625\"/>\r\n     <use style=\"fill:#3f3f3f;stroke:#3f3f3f;stroke-linejoin:miter;\" x=\"290.360211\" xlink:href=\"#mf8aa08c94b\" y=\"185.426625\"/>\r\n     <use style=\"fill:#3f3f3f;stroke:#3f3f3f;stroke-linejoin:miter;\" x=\"283.207125\" xlink:href=\"#mf8aa08c94b\" y=\"185.426625\"/>\r\n     <use style=\"fill:#3f3f3f;stroke:#3f3f3f;stroke-linejoin:miter;\" x=\"288.704575\" xlink:href=\"#mf8aa08c94b\" y=\"185.426625\"/>\r\n     <use style=\"fill:#3f3f3f;stroke:#3f3f3f;stroke-linejoin:miter;\" x=\"285.383199\" xlink:href=\"#mf8aa08c94b\" y=\"185.426625\"/>\r\n     <use style=\"fill:#3f3f3f;stroke:#3f3f3f;stroke-linejoin:miter;\" x=\"319.722052\" xlink:href=\"#mf8aa08c94b\" y=\"185.426625\"/>\r\n     <use style=\"fill:#3f3f3f;stroke:#3f3f3f;stroke-linejoin:miter;\" x=\"333.763793\" xlink:href=\"#mf8aa08c94b\" y=\"185.426625\"/>\r\n     <use style=\"fill:#3f3f3f;stroke:#3f3f3f;stroke-linejoin:miter;\" x=\"274.82284\" xlink:href=\"#mf8aa08c94b\" y=\"185.426625\"/>\r\n     <use style=\"fill:#3f3f3f;stroke:#3f3f3f;stroke-linejoin:miter;\" x=\"346.885923\" xlink:href=\"#mf8aa08c94b\" y=\"185.426625\"/>\r\n     <use style=\"fill:#3f3f3f;stroke:#3f3f3f;stroke-linejoin:miter;\" x=\"329.477331\" xlink:href=\"#mf8aa08c94b\" y=\"185.426625\"/>\r\n     <use style=\"fill:#3f3f3f;stroke:#3f3f3f;stroke-linejoin:miter;\" x=\"289.647765\" xlink:href=\"#mf8aa08c94b\" y=\"185.426625\"/>\r\n     <use style=\"fill:#3f3f3f;stroke:#3f3f3f;stroke-linejoin:miter;\" x=\"297.004647\" xlink:href=\"#mf8aa08c94b\" y=\"185.426625\"/>\r\n     <use style=\"fill:#3f3f3f;stroke:#3f3f3f;stroke-linejoin:miter;\" x=\"277.222921\" xlink:href=\"#mf8aa08c94b\" y=\"185.426625\"/>\r\n     <use style=\"fill:#3f3f3f;stroke:#3f3f3f;stroke-linejoin:miter;\" x=\"279.542158\" xlink:href=\"#mf8aa08c94b\" y=\"185.426625\"/>\r\n     <use style=\"fill:#3f3f3f;stroke:#3f3f3f;stroke-linejoin:miter;\" x=\"274.368087\" xlink:href=\"#mf8aa08c94b\" y=\"185.426625\"/>\r\n     <use style=\"fill:#3f3f3f;stroke:#3f3f3f;stroke-linejoin:miter;\" x=\"279.137934\" xlink:href=\"#mf8aa08c94b\" y=\"185.426625\"/>\r\n     <use style=\"fill:#3f3f3f;stroke:#3f3f3f;stroke-linejoin:miter;\" x=\"276.611532\" xlink:href=\"#mf8aa08c94b\" y=\"185.426625\"/>\r\n     <use style=\"fill:#3f3f3f;stroke:#3f3f3f;stroke-linejoin:miter;\" x=\"275.419071\" xlink:href=\"#mf8aa08c94b\" y=\"185.426625\"/>\r\n     <use style=\"fill:#3f3f3f;stroke:#3f3f3f;stroke-linejoin:miter;\" x=\"282.129194\" xlink:href=\"#mf8aa08c94b\" y=\"185.426625\"/>\r\n     <use style=\"fill:#3f3f3f;stroke:#3f3f3f;stroke-linejoin:miter;\" x=\"295.953664\" xlink:href=\"#mf8aa08c94b\" y=\"185.426625\"/>\r\n     <use style=\"fill:#3f3f3f;stroke:#3f3f3f;stroke-linejoin:miter;\" x=\"282.749004\" xlink:href=\"#mf8aa08c94b\" y=\"185.426625\"/>\r\n     <use style=\"fill:#3f3f3f;stroke:#3f3f3f;stroke-linejoin:miter;\" x=\"274.368087\" xlink:href=\"#mf8aa08c94b\" y=\"185.426625\"/>\r\n     <use style=\"fill:#3f3f3f;stroke:#3f3f3f;stroke-linejoin:miter;\" x=\"316.649947\" xlink:href=\"#mf8aa08c94b\" y=\"185.426625\"/>\r\n     <use style=\"fill:#3f3f3f;stroke:#3f3f3f;stroke-linejoin:miter;\" x=\"286.89904\" xlink:href=\"#mf8aa08c94b\" y=\"185.426625\"/>\r\n     <use style=\"fill:#3f3f3f;stroke:#3f3f3f;stroke-linejoin:miter;\" x=\"275.58076\" xlink:href=\"#mf8aa08c94b\" y=\"185.426625\"/>\r\n     <use style=\"fill:#3f3f3f;stroke:#3f3f3f;stroke-linejoin:miter;\" x=\"276.982071\" xlink:href=\"#mf8aa08c94b\" y=\"185.426625\"/>\r\n     <use style=\"fill:#3f3f3f;stroke:#3f3f3f;stroke-linejoin:miter;\" x=\"309.320014\" xlink:href=\"#mf8aa08c94b\" y=\"185.426625\"/>\r\n     <use style=\"fill:#3f3f3f;stroke:#3f3f3f;stroke-linejoin:miter;\" x=\"329.423434\" xlink:href=\"#mf8aa08c94b\" y=\"185.426625\"/>\r\n     <use style=\"fill:#3f3f3f;stroke:#3f3f3f;stroke-linejoin:miter;\" x=\"292.369542\" xlink:href=\"#mf8aa08c94b\" y=\"185.426625\"/>\r\n     <use style=\"fill:#3f3f3f;stroke:#3f3f3f;stroke-linejoin:miter;\" x=\"297.408871\" xlink:href=\"#mf8aa08c94b\" y=\"185.426625\"/>\r\n     <use style=\"fill:#3f3f3f;stroke:#3f3f3f;stroke-linejoin:miter;\" x=\"306.140116\" xlink:href=\"#mf8aa08c94b\" y=\"185.426625\"/>\r\n     <use style=\"fill:#3f3f3f;stroke:#3f3f3f;stroke-linejoin:miter;\" x=\"318.482431\" xlink:href=\"#mf8aa08c94b\" y=\"185.426625\"/>\r\n     <use style=\"fill:#3f3f3f;stroke:#3f3f3f;stroke-linejoin:miter;\" x=\"275.338226\" xlink:href=\"#mf8aa08c94b\" y=\"185.426625\"/>\r\n     <use style=\"fill:#3f3f3f;stroke:#3f3f3f;stroke-linejoin:miter;\" x=\"286.191648\" xlink:href=\"#mf8aa08c94b\" y=\"185.426625\"/>\r\n     <use style=\"fill:#3f3f3f;stroke:#3f3f3f;stroke-linejoin:miter;\" x=\"275.58076\" xlink:href=\"#mf8aa08c94b\" y=\"185.426625\"/>\r\n     <use style=\"fill:#3f3f3f;stroke:#3f3f3f;stroke-linejoin:miter;\" x=\"316.483205\" xlink:href=\"#mf8aa08c94b\" y=\"185.426625\"/>\r\n     <use style=\"fill:#3f3f3f;stroke:#3f3f3f;stroke-linejoin:miter;\" x=\"295.26143\" xlink:href=\"#mf8aa08c94b\" y=\"185.426625\"/>\r\n     <use style=\"fill:#3f3f3f;stroke:#3f3f3f;stroke-linejoin:miter;\" x=\"330.393573\" xlink:href=\"#mf8aa08c94b\" y=\"185.426625\"/>\r\n     <use style=\"fill:#3f3f3f;stroke:#3f3f3f;stroke-linejoin:miter;\" x=\"278.194744\" xlink:href=\"#mf8aa08c94b\" y=\"185.426625\"/>\r\n     <use style=\"fill:#3f3f3f;stroke:#3f3f3f;stroke-linejoin:miter;\" x=\"280.4584\" xlink:href=\"#mf8aa08c94b\" y=\"185.426625\"/>\r\n     <use style=\"fill:#3f3f3f;stroke:#3f3f3f;stroke-linejoin:miter;\" x=\"313.901222\" xlink:href=\"#mf8aa08c94b\" y=\"185.426625\"/>\r\n     <use style=\"fill:#3f3f3f;stroke:#3f3f3f;stroke-linejoin:miter;\" x=\"284.372638\" xlink:href=\"#mf8aa08c94b\" y=\"185.426625\"/>\r\n     <use style=\"fill:#3f3f3f;stroke:#3f3f3f;stroke-linejoin:miter;\" x=\"301.653226\" xlink:href=\"#mf8aa08c94b\" y=\"185.426625\"/>\r\n     <use style=\"fill:#3f3f3f;stroke:#3f3f3f;stroke-linejoin:miter;\" x=\"295.953664\" xlink:href=\"#mf8aa08c94b\" y=\"185.426625\"/>\r\n     <use style=\"fill:#3f3f3f;stroke:#3f3f3f;stroke-linejoin:miter;\" x=\"273.263208\" xlink:href=\"#mf8aa08c94b\" y=\"185.426625\"/>\r\n     <use style=\"fill:#3f3f3f;stroke:#3f3f3f;stroke-linejoin:miter;\" x=\"280.4584\" xlink:href=\"#mf8aa08c94b\" y=\"185.426625\"/>\r\n     <use style=\"fill:#3f3f3f;stroke:#3f3f3f;stroke-linejoin:miter;\" x=\"310.236255\" xlink:href=\"#mf8aa08c94b\" y=\"185.426625\"/>\r\n     <use style=\"fill:#3f3f3f;stroke:#3f3f3f;stroke-linejoin:miter;\" x=\"275.732344\" xlink:href=\"#mf8aa08c94b\" y=\"185.426625\"/>\r\n     <use style=\"fill:#3f3f3f;stroke:#3f3f3f;stroke-linejoin:miter;\" x=\"296.322519\" xlink:href=\"#mf8aa08c94b\" y=\"185.426625\"/>\r\n     <use style=\"fill:#3f3f3f;stroke:#3f3f3f;stroke-linejoin:miter;\" x=\"291.796891\" xlink:href=\"#mf8aa08c94b\" y=\"185.426625\"/>\r\n     <use style=\"fill:#3f3f3f;stroke:#3f3f3f;stroke-linejoin:miter;\" x=\"296.034509\" xlink:href=\"#mf8aa08c94b\" y=\"185.426625\"/>\r\n     <use style=\"fill:#3f3f3f;stroke:#3f3f3f;stroke-linejoin:miter;\" x=\"297.408871\" xlink:href=\"#mf8aa08c94b\" y=\"185.426625\"/>\r\n     <use style=\"fill:#3f3f3f;stroke:#3f3f3f;stroke-linejoin:miter;\" x=\"328.483613\" xlink:href=\"#mf8aa08c94b\" y=\"185.426625\"/>\r\n     <use style=\"fill:#3f3f3f;stroke:#3f3f3f;stroke-linejoin:miter;\" x=\"274.502829\" xlink:href=\"#mf8aa08c94b\" y=\"185.426625\"/>\r\n     <use style=\"fill:#3f3f3f;stroke:#3f3f3f;stroke-linejoin:miter;\" x=\"281.724969\" xlink:href=\"#mf8aa08c94b\" y=\"185.426625\"/>\r\n     <use style=\"fill:#3f3f3f;stroke:#3f3f3f;stroke-linejoin:miter;\" x=\"277.197657\" xlink:href=\"#mf8aa08c94b\" y=\"185.426625\"/>\r\n     <use style=\"fill:#3f3f3f;stroke:#3f3f3f;stroke-linejoin:miter;\" x=\"286.89904\" xlink:href=\"#mf8aa08c94b\" y=\"185.426625\"/>\r\n     <use style=\"fill:#3f3f3f;stroke:#3f3f3f;stroke-linejoin:miter;\" x=\"293.366629\" xlink:href=\"#mf8aa08c94b\" y=\"185.426625\"/>\r\n     <use style=\"fill:#3f3f3f;stroke:#3f3f3f;stroke-linejoin:miter;\" x=\"290.240628\" xlink:href=\"#mf8aa08c94b\" y=\"185.426625\"/>\r\n     <use style=\"fill:#3f3f3f;stroke:#3f3f3f;stroke-linejoin:miter;\" x=\"279.218779\" xlink:href=\"#mf8aa08c94b\" y=\"185.426625\"/>\r\n     <use style=\"fill:#3f3f3f;stroke:#3f3f3f;stroke-linejoin:miter;\" x=\"299.834217\" xlink:href=\"#mf8aa08c94b\" y=\"185.426625\"/>\r\n     <use style=\"fill:#3f3f3f;stroke:#3f3f3f;stroke-linejoin:miter;\" x=\"315.491171\" xlink:href=\"#mf8aa08c94b\" y=\"185.426625\"/>\r\n     <use style=\"fill:#3f3f3f;stroke:#3f3f3f;stroke-linejoin:miter;\" x=\"282.176353\" xlink:href=\"#mf8aa08c94b\" y=\"185.426625\"/>\r\n     <use style=\"fill:#3f3f3f;stroke:#3f3f3f;stroke-linejoin:miter;\" x=\"289.248594\" xlink:href=\"#mf8aa08c94b\" y=\"185.426625\"/>\r\n     <use style=\"fill:#3f3f3f;stroke:#3f3f3f;stroke-linejoin:miter;\" x=\"330.878642\" xlink:href=\"#mf8aa08c94b\" y=\"185.426625\"/>\r\n     <use style=\"fill:#3f3f3f;stroke:#3f3f3f;stroke-linejoin:miter;\" x=\"313.12309\" xlink:href=\"#mf8aa08c94b\" y=\"185.426625\"/>\r\n     <use style=\"fill:#3f3f3f;stroke:#3f3f3f;stroke-linejoin:miter;\" x=\"287.330213\" xlink:href=\"#mf8aa08c94b\" y=\"185.426625\"/>\r\n     <use style=\"fill:#3f3f3f;stroke:#3f3f3f;stroke-linejoin:miter;\" x=\"286.184911\" xlink:href=\"#mf8aa08c94b\" y=\"185.426625\"/>\r\n     <use style=\"fill:#3f3f3f;stroke:#3f3f3f;stroke-linejoin:miter;\" x=\"287.330213\" xlink:href=\"#mf8aa08c94b\" y=\"185.426625\"/>\r\n     <use style=\"fill:#3f3f3f;stroke:#3f3f3f;stroke-linejoin:miter;\" x=\"289.344597\" xlink:href=\"#mf8aa08c94b\" y=\"185.426625\"/>\r\n     <use style=\"fill:#3f3f3f;stroke:#3f3f3f;stroke-linejoin:miter;\" x=\"282.371728\" xlink:href=\"#mf8aa08c94b\" y=\"185.426625\"/>\r\n     <use style=\"fill:#3f3f3f;stroke:#3f3f3f;stroke-linejoin:miter;\" x=\"276.335312\" xlink:href=\"#mf8aa08c94b\" y=\"185.426625\"/>\r\n     <use style=\"fill:#3f3f3f;stroke:#3f3f3f;stroke-linejoin:miter;\" x=\"297.893941\" xlink:href=\"#mf8aa08c94b\" y=\"185.426625\"/>\r\n     <use style=\"fill:#3f3f3f;stroke:#3f3f3f;stroke-linejoin:miter;\" x=\"278.309274\" xlink:href=\"#mf8aa08c94b\" y=\"185.426625\"/>\r\n     <use style=\"fill:#3f3f3f;stroke:#3f3f3f;stroke-linejoin:miter;\" x=\"296.56\" xlink:href=\"#mf8aa08c94b\" y=\"185.426625\"/>\r\n     <use style=\"fill:#3f3f3f;stroke:#3f3f3f;stroke-linejoin:miter;\" x=\"274.368087\" xlink:href=\"#mf8aa08c94b\" y=\"185.426625\"/>\r\n     <use style=\"fill:#3f3f3f;stroke:#3f3f3f;stroke-linejoin:miter;\" x=\"288.731524\" xlink:href=\"#mf8aa08c94b\" y=\"185.426625\"/>\r\n     <use style=\"fill:#3f3f3f;stroke:#3f3f3f;stroke-linejoin:miter;\" x=\"294.013387\" xlink:href=\"#mf8aa08c94b\" y=\"185.426625\"/>\r\n     <use style=\"fill:#3f3f3f;stroke:#3f3f3f;stroke-linejoin:miter;\" x=\"283.665246\" xlink:href=\"#mf8aa08c94b\" y=\"185.426625\"/>\r\n     <use style=\"fill:#3f3f3f;stroke:#3f3f3f;stroke-linejoin:miter;\" x=\"323.299437\" xlink:href=\"#mf8aa08c94b\" y=\"185.426625\"/>\r\n     <use style=\"fill:#3f3f3f;stroke:#3f3f3f;stroke-linejoin:miter;\" x=\"277.884839\" xlink:href=\"#mf8aa08c94b\" y=\"185.426625\"/>\r\n     <use style=\"fill:#3f3f3f;stroke:#3f3f3f;stroke-linejoin:miter;\" x=\"292.369542\" xlink:href=\"#mf8aa08c94b\" y=\"185.426625\"/>\r\n     <use style=\"fill:#3f3f3f;stroke:#3f3f3f;stroke-linejoin:miter;\" x=\"289.248594\" xlink:href=\"#mf8aa08c94b\" y=\"185.426625\"/>\r\n     <use style=\"fill:#3f3f3f;stroke:#3f3f3f;stroke-linejoin:miter;\" x=\"296.034509\" xlink:href=\"#mf8aa08c94b\" y=\"185.426625\"/>\r\n     <use style=\"fill:#3f3f3f;stroke:#3f3f3f;stroke-linejoin:miter;\" x=\"274.826208\" xlink:href=\"#mf8aa08c94b\" y=\"185.426625\"/>\r\n     <use style=\"fill:#3f3f3f;stroke:#3f3f3f;stroke-linejoin:miter;\" x=\"299.429993\" xlink:href=\"#mf8aa08c94b\" y=\"185.426625\"/>\r\n     <use style=\"fill:#3f3f3f;stroke:#3f3f3f;stroke-linejoin:miter;\" x=\"283.665246\" xlink:href=\"#mf8aa08c94b\" y=\"185.426625\"/>\r\n     <use style=\"fill:#3f3f3f;stroke:#3f3f3f;stroke-linejoin:miter;\" x=\"332.323744\" xlink:href=\"#mf8aa08c94b\" y=\"185.426625\"/>\r\n     <use style=\"fill:#3f3f3f;stroke:#3f3f3f;stroke-linejoin:miter;\" x=\"276.965228\" xlink:href=\"#mf8aa08c94b\" y=\"185.426625\"/>\r\n     <use style=\"fill:#3f3f3f;stroke:#3f3f3f;stroke-linejoin:miter;\" x=\"282.856797\" xlink:href=\"#mf8aa08c94b\" y=\"185.426625\"/>\r\n     <use style=\"fill:#3f3f3f;stroke:#3f3f3f;stroke-linejoin:miter;\" x=\"335.971868\" xlink:href=\"#mf8aa08c94b\" y=\"185.426625\"/>\r\n     <use style=\"fill:#3f3f3f;stroke:#3f3f3f;stroke-linejoin:miter;\" x=\"297.247182\" xlink:href=\"#mf8aa08c94b\" y=\"185.426625\"/>\r\n     <use style=\"fill:#3f3f3f;stroke:#3f3f3f;stroke-linejoin:miter;\" x=\"287.101152\" xlink:href=\"#mf8aa08c94b\" y=\"185.426625\"/>\r\n     <use style=\"fill:#3f3f3f;stroke:#3f3f3f;stroke-linejoin:miter;\" x=\"290.779593\" xlink:href=\"#mf8aa08c94b\" y=\"185.426625\"/>\r\n     <use style=\"fill:#3f3f3f;stroke:#3f3f3f;stroke-linejoin:miter;\" x=\"288.677627\" xlink:href=\"#mf8aa08c94b\" y=\"185.426625\"/>\r\n     <use style=\"fill:#3f3f3f;stroke:#3f3f3f;stroke-linejoin:miter;\" x=\"279.084037\" xlink:href=\"#mf8aa08c94b\" y=\"185.426625\"/>\r\n     <use style=\"fill:#3f3f3f;stroke:#3f3f3f;stroke-linejoin:miter;\" x=\"279.542158\" xlink:href=\"#mf8aa08c94b\" y=\"185.426625\"/>\r\n     <use style=\"fill:#3f3f3f;stroke:#3f3f3f;stroke-linejoin:miter;\" x=\"294.983526\" xlink:href=\"#mf8aa08c94b\" y=\"185.426625\"/>\r\n     <use style=\"fill:#3f3f3f;stroke:#3f3f3f;stroke-linejoin:miter;\" x=\"297.105703\" xlink:href=\"#mf8aa08c94b\" y=\"185.426625\"/>\r\n     <use style=\"fill:#3f3f3f;stroke:#3f3f3f;stroke-linejoin:miter;\" x=\"345.309449\" xlink:href=\"#mf8aa08c94b\" y=\"185.426625\"/>\r\n     <use style=\"fill:#3f3f3f;stroke:#3f3f3f;stroke-linejoin:miter;\" x=\"327.186727\" xlink:href=\"#mf8aa08c94b\" y=\"185.426625\"/>\r\n     <use style=\"fill:#3f3f3f;stroke:#3f3f3f;stroke-linejoin:miter;\" x=\"286.413971\" xlink:href=\"#mf8aa08c94b\" y=\"185.426625\"/>\r\n     <use style=\"fill:#3f3f3f;stroke:#3f3f3f;stroke-linejoin:miter;\" x=\"331.363711\" xlink:href=\"#mf8aa08c94b\" y=\"185.426625\"/>\r\n     <use style=\"fill:#3f3f3f;stroke:#3f3f3f;stroke-linejoin:miter;\" x=\"287.788334\" xlink:href=\"#mf8aa08c94b\" y=\"185.426625\"/>\r\n     <use style=\"fill:#3f3f3f;stroke:#3f3f3f;stroke-linejoin:miter;\" x=\"300.696562\" xlink:href=\"#mf8aa08c94b\" y=\"185.426625\"/>\r\n     <use style=\"fill:#3f3f3f;stroke:#3f3f3f;stroke-linejoin:miter;\" x=\"276.982071\" xlink:href=\"#mf8aa08c94b\" y=\"185.426625\"/>\r\n     <use style=\"fill:#3f3f3f;stroke:#3f3f3f;stroke-linejoin:miter;\" x=\"293.012932\" xlink:href=\"#mf8aa08c94b\" y=\"185.426625\"/>\r\n     <use style=\"fill:#3f3f3f;stroke:#3f3f3f;stroke-linejoin:miter;\" x=\"307.164151\" xlink:href=\"#mf8aa08c94b\" y=\"185.426625\"/>\r\n     <use style=\"fill:#3f3f3f;stroke:#3f3f3f;stroke-linejoin:miter;\" x=\"312.068739\" xlink:href=\"#mf8aa08c94b\" y=\"185.426625\"/>\r\n     <use style=\"fill:#3f3f3f;stroke:#3f3f3f;stroke-linejoin:miter;\" x=\"278.915611\" xlink:href=\"#mf8aa08c94b\" y=\"185.426625\"/>\r\n     <use style=\"fill:#3f3f3f;stroke:#3f3f3f;stroke-linejoin:miter;\" x=\"273.532691\" xlink:href=\"#mf8aa08c94b\" y=\"185.426625\"/>\r\n     <use style=\"fill:#3f3f3f;stroke:#3f3f3f;stroke-linejoin:miter;\" x=\"310.505738\" xlink:href=\"#mf8aa08c94b\" y=\"185.426625\"/>\r\n     <use style=\"fill:#3f3f3f;stroke:#3f3f3f;stroke-linejoin:miter;\" x=\"306.301806\" xlink:href=\"#mf8aa08c94b\" y=\"185.426625\"/>\r\n     <use style=\"fill:#3f3f3f;stroke:#3f3f3f;stroke-linejoin:miter;\" x=\"316.003188\" xlink:href=\"#mf8aa08c94b\" y=\"185.426625\"/>\r\n     <use style=\"fill:#3f3f3f;stroke:#3f3f3f;stroke-linejoin:miter;\" x=\"306.70603\" xlink:href=\"#mf8aa08c94b\" y=\"185.426625\"/>\r\n     <use style=\"fill:#3f3f3f;stroke:#3f3f3f;stroke-linejoin:miter;\" x=\"303.283598\" xlink:href=\"#mf8aa08c94b\" y=\"185.426625\"/>\r\n     <use style=\"fill:#3f3f3f;stroke:#3f3f3f;stroke-linejoin:miter;\" x=\"286.671664\" xlink:href=\"#mf8aa08c94b\" y=\"185.426625\"/>\r\n     <use style=\"fill:#3f3f3f;stroke:#3f3f3f;stroke-linejoin:miter;\" x=\"280.4584\" xlink:href=\"#mf8aa08c94b\" y=\"185.426625\"/>\r\n     <use style=\"fill:#3f3f3f;stroke:#3f3f3f;stroke-linejoin:miter;\" x=\"286.114171\" xlink:href=\"#mf8aa08c94b\" y=\"185.426625\"/>\r\n     <use style=\"fill:#3f3f3f;stroke:#3f3f3f;stroke-linejoin:miter;\" x=\"279.218779\" xlink:href=\"#mf8aa08c94b\" y=\"185.426625\"/>\r\n     <use style=\"fill:#3f3f3f;stroke:#3f3f3f;stroke-linejoin:miter;\" x=\"306.113168\" xlink:href=\"#mf8aa08c94b\" y=\"185.426625\"/>\r\n     <use style=\"fill:#3f3f3f;stroke:#3f3f3f;stroke-linejoin:miter;\" x=\"341.065094\" xlink:href=\"#mf8aa08c94b\" y=\"185.426625\"/>\r\n     <use style=\"fill:#3f3f3f;stroke:#3f3f3f;stroke-linejoin:miter;\" x=\"275.58076\" xlink:href=\"#mf8aa08c94b\" y=\"185.426625\"/>\r\n     <use style=\"fill:#3f3f3f;stroke:#3f3f3f;stroke-linejoin:miter;\" x=\"285.686367\" xlink:href=\"#mf8aa08c94b\" y=\"185.426625\"/>\r\n     <use style=\"fill:#3f3f3f;stroke:#3f3f3f;stroke-linejoin:miter;\" x=\"278.73371\" xlink:href=\"#mf8aa08c94b\" y=\"185.426625\"/>\r\n     <use style=\"fill:#3f3f3f;stroke:#3f3f3f;stroke-linejoin:miter;\" x=\"316.003188\" xlink:href=\"#mf8aa08c94b\" y=\"185.426625\"/>\r\n     <use style=\"fill:#3f3f3f;stroke:#3f3f3f;stroke-linejoin:miter;\" x=\"283.207125\" xlink:href=\"#mf8aa08c94b\" y=\"185.426625\"/>\r\n     <use style=\"fill:#3f3f3f;stroke:#3f3f3f;stroke-linejoin:miter;\" x=\"306.840771\" xlink:href=\"#mf8aa08c94b\" y=\"185.426625\"/>\r\n     <use style=\"fill:#3f3f3f;stroke:#3f3f3f;stroke-linejoin:miter;\" x=\"274.645992\" xlink:href=\"#mf8aa08c94b\" y=\"185.426625\"/>\r\n     <use style=\"fill:#3f3f3f;stroke:#3f3f3f;stroke-linejoin:miter;\" x=\"277.79052\" xlink:href=\"#mf8aa08c94b\" y=\"185.426625\"/>\r\n     <use style=\"fill:#3f3f3f;stroke:#3f3f3f;stroke-linejoin:miter;\" x=\"332.333849\" xlink:href=\"#mf8aa08c94b\" y=\"185.426625\"/>\r\n     <use style=\"fill:#3f3f3f;stroke:#3f3f3f;stroke-linejoin:miter;\" x=\"294.202025\" xlink:href=\"#mf8aa08c94b\" y=\"185.426625\"/>\r\n     <use style=\"fill:#3f3f3f;stroke:#3f3f3f;stroke-linejoin:miter;\" x=\"310.694376\" xlink:href=\"#mf8aa08c94b\" y=\"185.426625\"/>\r\n     <use style=\"fill:#3f3f3f;stroke:#3f3f3f;stroke-linejoin:miter;\" x=\"329.827659\" xlink:href=\"#mf8aa08c94b\" y=\"185.426625\"/>\r\n     <use style=\"fill:#3f3f3f;stroke:#3f3f3f;stroke-linejoin:miter;\" x=\"305.196926\" xlink:href=\"#mf8aa08c94b\" y=\"185.426625\"/>\r\n     <use style=\"fill:#3f3f3f;stroke:#3f3f3f;stroke-linejoin:miter;\" x=\"292.598602\" xlink:href=\"#mf8aa08c94b\" y=\"185.426625\"/>\r\n     <use style=\"fill:#3f3f3f;stroke:#3f3f3f;stroke-linejoin:miter;\" x=\"274.560094\" xlink:href=\"#mf8aa08c94b\" y=\"185.426625\"/>\r\n     <use style=\"fill:#3f3f3f;stroke:#3f3f3f;stroke-linejoin:miter;\" x=\"277.460403\" xlink:href=\"#mf8aa08c94b\" y=\"185.426625\"/>\r\n     <use style=\"fill:#3f3f3f;stroke:#3f3f3f;stroke-linejoin:miter;\" x=\"305.870633\" xlink:href=\"#mf8aa08c94b\" y=\"185.426625\"/>\r\n     <use style=\"fill:#3f3f3f;stroke:#3f3f3f;stroke-linejoin:miter;\" x=\"318.482431\" xlink:href=\"#mf8aa08c94b\" y=\"185.426625\"/>\r\n     <use style=\"fill:#3f3f3f;stroke:#3f3f3f;stroke-linejoin:miter;\" x=\"278.814555\" xlink:href=\"#mf8aa08c94b\" y=\"185.426625\"/>\r\n     <use style=\"fill:#3f3f3f;stroke:#3f3f3f;stroke-linejoin:miter;\" x=\"290.348421\" xlink:href=\"#mf8aa08c94b\" y=\"185.426625\"/>\r\n     <use style=\"fill:#3f3f3f;stroke:#3f3f3f;stroke-linejoin:miter;\" x=\"317.566189\" xlink:href=\"#mf8aa08c94b\" y=\"185.426625\"/>\r\n     <use style=\"fill:#3f3f3f;stroke:#3f3f3f;stroke-linejoin:miter;\" x=\"326.02795\" xlink:href=\"#mf8aa08c94b\" y=\"185.426625\"/>\r\n     <use style=\"fill:#3f3f3f;stroke:#3f3f3f;stroke-linejoin:miter;\" x=\"340.068007\" xlink:href=\"#mf8aa08c94b\" y=\"185.426625\"/>\r\n     <use style=\"fill:#3f3f3f;stroke:#3f3f3f;stroke-linejoin:miter;\" x=\"284.094734\" xlink:href=\"#mf8aa08c94b\" y=\"185.426625\"/>\r\n     <use style=\"fill:#3f3f3f;stroke:#3f3f3f;stroke-linejoin:miter;\" x=\"293.474422\" xlink:href=\"#mf8aa08c94b\" y=\"185.426625\"/>\r\n     <use style=\"fill:#3f3f3f;stroke:#3f3f3f;stroke-linejoin:miter;\" x=\"341.92407\" xlink:href=\"#mf8aa08c94b\" y=\"185.426625\"/>\r\n     <use style=\"fill:#3f3f3f;stroke:#3f3f3f;stroke-linejoin:miter;\" x=\"297.105703\" xlink:href=\"#mf8aa08c94b\" y=\"185.426625\"/>\r\n     <use style=\"fill:#3f3f3f;stroke:#3f3f3f;stroke-linejoin:miter;\" x=\"368.714035\" xlink:href=\"#mf8aa08c94b\" y=\"185.426625\"/>\r\n     <use style=\"fill:#3f3f3f;stroke:#3f3f3f;stroke-linejoin:miter;\" x=\"275.361805\" xlink:href=\"#mf8aa08c94b\" y=\"185.426625\"/>\r\n     <use style=\"fill:#3f3f3f;stroke:#3f3f3f;stroke-linejoin:miter;\" x=\"290.348421\" xlink:href=\"#mf8aa08c94b\" y=\"185.426625\"/>\r\n     <use style=\"fill:#3f3f3f;stroke:#3f3f3f;stroke-linejoin:miter;\" x=\"273.559639\" xlink:href=\"#mf8aa08c94b\" y=\"185.426625\"/>\r\n     <use style=\"fill:#3f3f3f;stroke:#3f3f3f;stroke-linejoin:miter;\" x=\"284.123367\" xlink:href=\"#mf8aa08c94b\" y=\"185.426625\"/>\r\n     <use style=\"fill:#3f3f3f;stroke:#3f3f3f;stroke-linejoin:miter;\" x=\"305.655047\" xlink:href=\"#mf8aa08c94b\" y=\"185.426625\"/>\r\n     <use style=\"fill:#3f3f3f;stroke:#3f3f3f;stroke-linejoin:miter;\" x=\"300.615717\" xlink:href=\"#mf8aa08c94b\" y=\"185.426625\"/>\r\n     <use style=\"fill:#3f3f3f;stroke:#3f3f3f;stroke-linejoin:miter;\" x=\"324.572743\" xlink:href=\"#mf8aa08c94b\" y=\"185.426625\"/>\r\n     <use style=\"fill:#3f3f3f;stroke:#3f3f3f;stroke-linejoin:miter;\" x=\"332.387746\" xlink:href=\"#mf8aa08c94b\" y=\"185.426625\"/>\r\n     <use style=\"fill:#3f3f3f;stroke:#3f3f3f;stroke-linejoin:miter;\" x=\"299.814006\" xlink:href=\"#mf8aa08c94b\" y=\"185.426625\"/>\r\n     <use style=\"fill:#3f3f3f;stroke:#3f3f3f;stroke-linejoin:miter;\" x=\"274.645992\" xlink:href=\"#mf8aa08c94b\" y=\"185.426625\"/>\r\n     <use style=\"fill:#3f3f3f;stroke:#3f3f3f;stroke-linejoin:miter;\" x=\"308.457668\" xlink:href=\"#mf8aa08c94b\" y=\"185.426625\"/>\r\n     <use style=\"fill:#3f3f3f;stroke:#3f3f3f;stroke-linejoin:miter;\" x=\"304.199839\" xlink:href=\"#mf8aa08c94b\" y=\"185.426625\"/>\r\n     <use style=\"fill:#3f3f3f;stroke:#3f3f3f;stroke-linejoin:miter;\" x=\"313.603107\" xlink:href=\"#mf8aa08c94b\" y=\"185.426625\"/>\r\n     <use style=\"fill:#3f3f3f;stroke:#3f3f3f;stroke-linejoin:miter;\" x=\"295.091319\" xlink:href=\"#mf8aa08c94b\" y=\"185.426625\"/>\r\n     <use style=\"fill:#3f3f3f;stroke:#3f3f3f;stroke-linejoin:miter;\" x=\"289.374914\" xlink:href=\"#mf8aa08c94b\" y=\"185.426625\"/>\r\n     <use style=\"fill:#3f3f3f;stroke:#3f3f3f;stroke-linejoin:miter;\" x=\"303.851196\" xlink:href=\"#mf8aa08c94b\" y=\"185.426625\"/>\r\n     <use style=\"fill:#3f3f3f;stroke:#3f3f3f;stroke-linejoin:miter;\" x=\"288.677627\" xlink:href=\"#mf8aa08c94b\" y=\"185.426625\"/>\r\n     <use style=\"fill:#3f3f3f;stroke:#3f3f3f;stroke-linejoin:miter;\" x=\"295.576388\" xlink:href=\"#mf8aa08c94b\" y=\"185.426625\"/>\r\n     <use style=\"fill:#3f3f3f;stroke:#3f3f3f;stroke-linejoin:miter;\" x=\"340.580025\" xlink:href=\"#mf8aa08c94b\" y=\"185.426625\"/>\r\n     <use style=\"fill:#3f3f3f;stroke:#3f3f3f;stroke-linejoin:miter;\" x=\"300.804355\" xlink:href=\"#mf8aa08c94b\" y=\"185.426625\"/>\r\n     <use style=\"fill:#3f3f3f;stroke:#3f3f3f;stroke-linejoin:miter;\" x=\"302.906322\" xlink:href=\"#mf8aa08c94b\" y=\"185.426625\"/>\r\n     <use style=\"fill:#3f3f3f;stroke:#3f3f3f;stroke-linejoin:miter;\" x=\"275.762661\" xlink:href=\"#mf8aa08c94b\" y=\"185.426625\"/>\r\n     <use style=\"fill:#3f3f3f;stroke:#3f3f3f;stroke-linejoin:miter;\" x=\"295.711129\" xlink:href=\"#mf8aa08c94b\" y=\"185.426625\"/>\r\n     <use style=\"fill:#3f3f3f;stroke:#3f3f3f;stroke-linejoin:miter;\" x=\"296.549895\" xlink:href=\"#mf8aa08c94b\" y=\"185.426625\"/>\r\n     <use style=\"fill:#3f3f3f;stroke:#3f3f3f;stroke-linejoin:miter;\" x=\"322.605518\" xlink:href=\"#mf8aa08c94b\" y=\"185.426625\"/>\r\n     <use style=\"fill:#3f3f3f;stroke:#3f3f3f;stroke-linejoin:miter;\" x=\"322.686363\" xlink:href=\"#mf8aa08c94b\" y=\"185.426625\"/>\r\n     <use style=\"fill:#3f3f3f;stroke:#3f3f3f;stroke-linejoin:miter;\" x=\"286.036695\" xlink:href=\"#mf8aa08c94b\" y=\"185.426625\"/>\r\n     <use style=\"fill:#3f3f3f;stroke:#3f3f3f;stroke-linejoin:miter;\" x=\"277.521037\" xlink:href=\"#mf8aa08c94b\" y=\"185.426625\"/>\r\n     <use style=\"fill:#3f3f3f;stroke:#3f3f3f;stroke-linejoin:miter;\" x=\"298.325113\" xlink:href=\"#mf8aa08c94b\" y=\"185.426625\"/>\r\n     <use style=\"fill:#3f3f3f;stroke:#3f3f3f;stroke-linejoin:miter;\" x=\"291.042339\" xlink:href=\"#mf8aa08c94b\" y=\"185.426625\"/>\r\n     <use style=\"fill:#3f3f3f;stroke:#3f3f3f;stroke-linejoin:miter;\" x=\"285.713316\" xlink:href=\"#mf8aa08c94b\" y=\"185.426625\"/>\r\n     <use style=\"fill:#3f3f3f;stroke:#3f3f3f;stroke-linejoin:miter;\" x=\"312.419066\" xlink:href=\"#mf8aa08c94b\" y=\"185.426625\"/>\r\n     <use style=\"fill:#3f3f3f;stroke:#3f3f3f;stroke-linejoin:miter;\" x=\"325.057812\" xlink:href=\"#mf8aa08c94b\" y=\"185.426625\"/>\r\n     <use style=\"fill:#3f3f3f;stroke:#3f3f3f;stroke-linejoin:miter;\" x=\"288.071291\" xlink:href=\"#mf8aa08c94b\" y=\"185.426625\"/>\r\n     <use style=\"fill:#3f3f3f;stroke:#3f3f3f;stroke-linejoin:miter;\" x=\"316.963221\" xlink:href=\"#mf8aa08c94b\" y=\"185.426625\"/>\r\n     <use style=\"fill:#3f3f3f;stroke:#3f3f3f;stroke-linejoin:miter;\" x=\"275.149588\" xlink:href=\"#mf8aa08c94b\" y=\"185.426625\"/>\r\n     <use style=\"fill:#3f3f3f;stroke:#3f3f3f;stroke-linejoin:miter;\" x=\"289.324386\" xlink:href=\"#mf8aa08c94b\" y=\"185.426625\"/>\r\n     <use style=\"fill:#3f3f3f;stroke:#3f3f3f;stroke-linejoin:miter;\" x=\"281.886659\" xlink:href=\"#mf8aa08c94b\" y=\"185.426625\"/>\r\n     <use style=\"fill:#3f3f3f;stroke:#3f3f3f;stroke-linejoin:miter;\" x=\"371.30107\" xlink:href=\"#mf8aa08c94b\" y=\"185.426625\"/>\r\n     <use style=\"fill:#3f3f3f;stroke:#3f3f3f;stroke-linejoin:miter;\" x=\"343.844136\" xlink:href=\"#mf8aa08c94b\" y=\"185.426625\"/>\r\n     <use style=\"fill:#3f3f3f;stroke:#3f3f3f;stroke-linejoin:miter;\" x=\"330.339676\" xlink:href=\"#mf8aa08c94b\" y=\"185.426625\"/>\r\n     <use style=\"fill:#3f3f3f;stroke:#3f3f3f;stroke-linejoin:miter;\" x=\"341.444054\" xlink:href=\"#mf8aa08c94b\" y=\"185.426625\"/>\r\n     <use style=\"fill:#3f3f3f;stroke:#3f3f3f;stroke-linejoin:miter;\" x=\"279.799851\" xlink:href=\"#mf8aa08c94b\" y=\"185.426625\"/>\r\n     <use style=\"fill:#3f3f3f;stroke:#3f3f3f;stroke-linejoin:miter;\" x=\"318.80581\" xlink:href=\"#mf8aa08c94b\" y=\"185.426625\"/>\r\n     <use style=\"fill:#3f3f3f;stroke:#3f3f3f;stroke-linejoin:miter;\" x=\"280.835676\" xlink:href=\"#mf8aa08c94b\" y=\"185.426625\"/>\r\n     <use style=\"fill:#3f3f3f;stroke:#3f3f3f;stroke-linejoin:miter;\" x=\"303.87646\" xlink:href=\"#mf8aa08c94b\" y=\"185.426625\"/>\r\n     <use style=\"fill:#3f3f3f;stroke:#3f3f3f;stroke-linejoin:miter;\" x=\"311.839678\" xlink:href=\"#mf8aa08c94b\" y=\"185.426625\"/>\r\n     <use style=\"fill:#3f3f3f;stroke:#3f3f3f;stroke-linejoin:miter;\" x=\"294.437823\" xlink:href=\"#mf8aa08c94b\" y=\"185.426625\"/>\r\n     <use style=\"fill:#3f3f3f;stroke:#3f3f3f;stroke-linejoin:miter;\" x=\"293.012932\" xlink:href=\"#mf8aa08c94b\" y=\"185.426625\"/>\r\n     <use style=\"fill:#3f3f3f;stroke:#3f3f3f;stroke-linejoin:miter;\" x=\"298.621544\" xlink:href=\"#mf8aa08c94b\" y=\"185.426625\"/>\r\n     <use style=\"fill:#3f3f3f;stroke:#3f3f3f;stroke-linejoin:miter;\" x=\"286.242176\" xlink:href=\"#mf8aa08c94b\" y=\"185.426625\"/>\r\n     <use style=\"fill:#3f3f3f;stroke:#3f3f3f;stroke-linejoin:miter;\" x=\"286.413971\" xlink:href=\"#mf8aa08c94b\" y=\"185.426625\"/>\r\n     <use style=\"fill:#3f3f3f;stroke:#3f3f3f;stroke-linejoin:miter;\" x=\"287.788334\" xlink:href=\"#mf8aa08c94b\" y=\"185.426625\"/>\r\n     <use style=\"fill:#3f3f3f;stroke:#3f3f3f;stroke-linejoin:miter;\" x=\"281.947293\" xlink:href=\"#mf8aa08c94b\" y=\"185.426625\"/>\r\n     <use style=\"fill:#3f3f3f;stroke:#3f3f3f;stroke-linejoin:miter;\" x=\"301.558907\" xlink:href=\"#mf8aa08c94b\" y=\"185.426625\"/>\r\n     <use style=\"fill:#3f3f3f;stroke:#3f3f3f;stroke-linejoin:miter;\" x=\"283.665246\" xlink:href=\"#mf8aa08c94b\" y=\"185.426625\"/>\r\n     <use style=\"fill:#3f3f3f;stroke:#3f3f3f;stroke-linejoin:miter;\" x=\"313.891116\" xlink:href=\"#mf8aa08c94b\" y=\"185.426625\"/>\r\n     <use style=\"fill:#3f3f3f;stroke:#3f3f3f;stroke-linejoin:miter;\" x=\"296.135565\" xlink:href=\"#mf8aa08c94b\" y=\"185.426625\"/>\r\n     <use style=\"fill:#3f3f3f;stroke:#3f3f3f;stroke-linejoin:miter;\" x=\"321.460216\" xlink:href=\"#mf8aa08c94b\" y=\"185.426625\"/>\r\n     <use style=\"fill:#3f3f3f;stroke:#3f3f3f;stroke-linejoin:miter;\" x=\"324.163466\" xlink:href=\"#mf8aa08c94b\" y=\"185.426625\"/>\r\n     <use style=\"fill:#3f3f3f;stroke:#3f3f3f;stroke-linejoin:miter;\" x=\"297.247182\" xlink:href=\"#mf8aa08c94b\" y=\"185.426625\"/>\r\n     <use style=\"fill:#3f3f3f;stroke:#3f3f3f;stroke-linejoin:miter;\" x=\"279.771219\" xlink:href=\"#mf8aa08c94b\" y=\"185.426625\"/>\r\n     <use style=\"fill:#3f3f3f;stroke:#3f3f3f;stroke-linejoin:miter;\" x=\"289.72861\" xlink:href=\"#mf8aa08c94b\" y=\"185.426625\"/>\r\n     <use style=\"fill:#3f3f3f;stroke:#3f3f3f;stroke-linejoin:miter;\" x=\"294.579301\" xlink:href=\"#mf8aa08c94b\" y=\"185.426625\"/>\r\n     <use style=\"fill:#3f3f3f;stroke:#3f3f3f;stroke-linejoin:miter;\" x=\"299.985801\" xlink:href=\"#mf8aa08c94b\" y=\"185.426625\"/>\r\n     <use style=\"fill:#3f3f3f;stroke:#3f3f3f;stroke-linejoin:miter;\" x=\"276.611532\" xlink:href=\"#mf8aa08c94b\" y=\"185.426625\"/>\r\n     <use style=\"fill:#3f3f3f;stroke:#3f3f3f;stroke-linejoin:miter;\" x=\"310.883014\" xlink:href=\"#mf8aa08c94b\" y=\"185.426625\"/>\r\n     <use style=\"fill:#3f3f3f;stroke:#3f3f3f;stroke-linejoin:miter;\" x=\"279.218779\" xlink:href=\"#mf8aa08c94b\" y=\"185.426625\"/>\r\n     <use style=\"fill:#3f3f3f;stroke:#3f3f3f;stroke-linejoin:miter;\" x=\"283.538926\" xlink:href=\"#mf8aa08c94b\" y=\"185.426625\"/>\r\n     <use style=\"fill:#3f3f3f;stroke:#3f3f3f;stroke-linejoin:miter;\" x=\"290.284418\" xlink:href=\"#mf8aa08c94b\" y=\"185.426625\"/>\r\n     <use style=\"fill:#3f3f3f;stroke:#3f3f3f;stroke-linejoin:miter;\" x=\"279.158145\" xlink:href=\"#mf8aa08c94b\" y=\"185.426625\"/>\r\n     <use style=\"fill:#3f3f3f;stroke:#3f3f3f;stroke-linejoin:miter;\" x=\"283.665246\" xlink:href=\"#mf8aa08c94b\" y=\"185.426625\"/>\r\n     <use style=\"fill:#3f3f3f;stroke:#3f3f3f;stroke-linejoin:miter;\" x=\"290.779593\" xlink:href=\"#mf8aa08c94b\" y=\"185.426625\"/>\r\n     <use style=\"fill:#3f3f3f;stroke:#3f3f3f;stroke-linejoin:miter;\" x=\"308.322927\" xlink:href=\"#mf8aa08c94b\" y=\"185.426625\"/>\r\n     <use style=\"fill:#3f3f3f;stroke:#3f3f3f;stroke-linejoin:miter;\" x=\"275.877191\" xlink:href=\"#mf8aa08c94b\" y=\"185.426625\"/>\r\n     <use style=\"fill:#3f3f3f;stroke:#3f3f3f;stroke-linejoin:miter;\" x=\"341.604059\" xlink:href=\"#mf8aa08c94b\" y=\"185.426625\"/>\r\n     <use style=\"fill:#3f3f3f;stroke:#3f3f3f;stroke-linejoin:miter;\" x=\"299.985801\" xlink:href=\"#mf8aa08c94b\" y=\"185.426625\"/>\r\n     <use style=\"fill:#3f3f3f;stroke:#3f3f3f;stroke-linejoin:miter;\" x=\"292.55818\" xlink:href=\"#mf8aa08c94b\" y=\"185.426625\"/>\r\n     <use style=\"fill:#3f3f3f;stroke:#3f3f3f;stroke-linejoin:miter;\" x=\"279.370363\" xlink:href=\"#mf8aa08c94b\" y=\"185.426625\"/>\r\n     <use style=\"fill:#3f3f3f;stroke:#3f3f3f;stroke-linejoin:miter;\" x=\"291.89121\" xlink:href=\"#mf8aa08c94b\" y=\"185.426625\"/>\r\n     <use style=\"fill:#3f3f3f;stroke:#3f3f3f;stroke-linejoin:miter;\" x=\"295.690918\" xlink:href=\"#mf8aa08c94b\" y=\"185.426625\"/>\r\n     <use style=\"fill:#3f3f3f;stroke:#3f3f3f;stroke-linejoin:miter;\" x=\"315.733705\" xlink:href=\"#mf8aa08c94b\" y=\"185.426625\"/>\r\n     <use style=\"fill:#3f3f3f;stroke:#3f3f3f;stroke-linejoin:miter;\" x=\"306.571288\" xlink:href=\"#mf8aa08c94b\" y=\"185.426625\"/>\r\n     <use style=\"fill:#3f3f3f;stroke:#3f3f3f;stroke-linejoin:miter;\" x=\"316.811637\" xlink:href=\"#mf8aa08c94b\" y=\"185.426625\"/>\r\n     <use style=\"fill:#3f3f3f;stroke:#3f3f3f;stroke-linejoin:miter;\" x=\"319.236983\" xlink:href=\"#mf8aa08c94b\" y=\"185.426625\"/>\r\n     <use style=\"fill:#3f3f3f;stroke:#3f3f3f;stroke-linejoin:miter;\" x=\"292.55818\" xlink:href=\"#mf8aa08c94b\" y=\"185.426625\"/>\r\n     <use style=\"fill:#3f3f3f;stroke:#3f3f3f;stroke-linejoin:miter;\" x=\"308.403772\" xlink:href=\"#mf8aa08c94b\" y=\"185.426625\"/>\r\n     <use style=\"fill:#3f3f3f;stroke:#3f3f3f;stroke-linejoin:miter;\" x=\"353.38046\" xlink:href=\"#mf8aa08c94b\" y=\"185.426625\"/>\r\n     <use style=\"fill:#3f3f3f;stroke:#3f3f3f;stroke-linejoin:miter;\" x=\"312.87045\" xlink:href=\"#mf8aa08c94b\" y=\"185.426625\"/>\r\n     <use style=\"fill:#3f3f3f;stroke:#3f3f3f;stroke-linejoin:miter;\" x=\"308.026496\" xlink:href=\"#mf8aa08c94b\" y=\"185.426625\"/>\r\n     <use style=\"fill:#3f3f3f;stroke:#3f3f3f;stroke-linejoin:miter;\" x=\"331.363711\" xlink:href=\"#mf8aa08c94b\" y=\"185.426625\"/>\r\n     <use style=\"fill:#3f3f3f;stroke:#3f3f3f;stroke-linejoin:miter;\" x=\"303.522764\" xlink:href=\"#mf8aa08c94b\" y=\"185.426625\"/>\r\n     <use style=\"fill:#3f3f3f;stroke:#3f3f3f;stroke-linejoin:miter;\" x=\"285.497729\" xlink:href=\"#mf8aa08c94b\" y=\"185.426625\"/>\r\n     <use style=\"fill:#3f3f3f;stroke:#3f3f3f;stroke-linejoin:miter;\" x=\"293.400314\" xlink:href=\"#mf8aa08c94b\" y=\"185.426625\"/>\r\n    </g>\r\n   </g>\r\n   <g id=\"line2d_11\">\r\n    <path clip-path=\"url(#pe97f0b13b5)\" d=\"M 119.769143 76.706625 \r\nL 119.769143 294.146625 \r\n\" style=\"fill:none;stroke:#3f3f3f;stroke-linecap:square;stroke-width:1.5;\"/>\r\n   </g>\r\n   <g id=\"patch_4\">\r\n    <path d=\"M 10.7 321.326625 \r\nL 10.7 49.526625 \r\n\" style=\"fill:none;stroke:#000000;stroke-linecap:square;stroke-linejoin:miter;stroke-width:0.8;\"/>\r\n   </g>\r\n   <g id=\"patch_5\">\r\n    <path d=\"M 391.154545 321.326625 \r\nL 391.154545 49.526625 \r\n\" style=\"fill:none;stroke:#000000;stroke-linecap:square;stroke-linejoin:miter;stroke-width:0.8;\"/>\r\n   </g>\r\n   <g id=\"patch_6\">\r\n    <path d=\"M 10.7 321.326625 \r\nL 391.154545 321.326625 \r\n\" style=\"fill:none;stroke:#000000;stroke-linecap:square;stroke-linejoin:miter;stroke-width:0.8;\"/>\r\n   </g>\r\n   <g id=\"patch_7\">\r\n    <path d=\"M 10.7 49.526625 \r\nL 391.154545 49.526625 \r\n\" style=\"fill:none;stroke:#000000;stroke-linecap:square;stroke-linejoin:miter;stroke-width:0.8;\"/>\r\n   </g>\r\n  </g>\r\n  <g id=\"axes_2\">\r\n   <g id=\"patch_8\">\r\n    <path d=\"M 467.245455 321.326625 \r\nL 847.7 321.326625 \r\nL 847.7 49.526625 \r\nL 467.245455 49.526625 \r\nz\r\n\" style=\"fill:#ffffff;\"/>\r\n   </g>\r\n   <g id=\"PathCollection_1\">\r\n    <defs>\r\n     <path d=\"M 0 3 \r\nC 0.795609 3 1.55874 2.683901 2.12132 2.12132 \r\nC 2.683901 1.55874 3 0.795609 3 0 \r\nC 3 -0.795609 2.683901 -1.55874 2.12132 -2.12132 \r\nC 1.55874 -2.683901 0.795609 -3 0 -3 \r\nC -0.795609 -3 -1.55874 -2.683901 -2.12132 -2.12132 \r\nC -2.683901 -1.55874 -3 -0.795609 -3 0 \r\nC -3 0.795609 -2.683901 1.55874 -2.12132 2.12132 \r\nC -1.55874 2.683901 -0.795609 3 0 3 \r\nz\r\n\" id=\"mc3d374f743\" style=\"stroke:#ffffff;stroke-width:0.48;\"/>\r\n    </defs>\r\n    <g clip-path=\"url(#pcc851bbb52)\">\r\n     <use style=\"fill:#ffa500;stroke:#ffffff;stroke-width:0.48;\" x=\"501.705151\" xlink:href=\"#mc3d374f743\" y=\"321.326625\"/>\r\n     <use style=\"fill:#ffa500;stroke:#ffffff;stroke-width:0.48;\" x=\"813.240304\" xlink:href=\"#mc3d374f743\" y=\"321.326625\"/>\r\n    </g>\r\n   </g>\r\n   <g id=\"PathCollection_2\">\r\n    <defs>\r\n     <path d=\"M 0 3 \r\nC 0.795609 3 1.55874 2.683901 2.12132 2.12132 \r\nC 2.683901 1.55874 3 0.795609 3 0 \r\nC 3 -0.795609 2.683901 -1.55874 2.12132 -2.12132 \r\nC 1.55874 -2.683901 0.795609 -3 0 -3 \r\nC -0.795609 -3 -1.55874 -2.683901 -2.12132 -2.12132 \r\nC -2.683901 -1.55874 -3 -0.795609 -3 0 \r\nC -3 0.795609 -2.683901 1.55874 -2.12132 2.12132 \r\nC -1.55874 2.683901 -0.795609 3 0 3 \r\nz\r\n\" id=\"m0d0a5b2f4b\" style=\"stroke:#ffffff;stroke-width:0.48;\"/>\r\n    </defs>\r\n    <g clip-path=\"url(#pcc851bbb52)\">\r\n     <use style=\"fill:#ff0000;stroke:#ffffff;stroke-width:0.48;\" x=\"592.001299\" xlink:href=\"#m0d0a5b2f4b\" y=\"321.326625\"/>\r\n    </g>\r\n   </g>\r\n   <g id=\"PathCollection_3\">\r\n    <defs>\r\n     <path d=\"M 0 3 \r\nC 0.795609 3 1.55874 2.683901 2.12132 2.12132 \r\nC 2.683901 1.55874 3 0.795609 3 0 \r\nC 3 -0.795609 2.683901 -1.55874 2.12132 -2.12132 \r\nC 1.55874 -2.683901 0.795609 -3 0 -3 \r\nC -0.795609 -3 -1.55874 -2.683901 -2.12132 -2.12132 \r\nC -2.683901 -1.55874 -3 -0.795609 -3 0 \r\nC -3 0.795609 -2.683901 1.55874 -2.12132 2.12132 \r\nC -1.55874 2.683901 -0.795609 3 0 3 \r\nz\r\n\" id=\"m486530e29a\" style=\"stroke:#ffffff;stroke-width:0.48;\"/>\r\n    </defs>\r\n    <g clip-path=\"url(#pcc851bbb52)\">\r\n     <use style=\"fill:#0000ff;stroke:#ffffff;stroke-width:0.48;\" x=\"584.370771\" xlink:href=\"#m486530e29a\" y=\"321.326625\"/>\r\n    </g>\r\n   </g>\r\n   <g id=\"patch_9\">\r\n    <path clip-path=\"url(#pcc851bbb52)\" d=\"M 501.705151 321.326625 \r\nL 507.935854 321.326625 \r\nL 507.935854 311.14055 \r\nL 501.705151 311.14055 \r\nz\r\n\" style=\"fill:#ff4125;opacity:0.4;\"/>\r\n   </g>\r\n   <g id=\"patch_10\">\r\n    <path clip-path=\"url(#pcc851bbb52)\" d=\"M 507.935854 321.326625 \r\nL 514.166557 321.326625 \r\nL 514.166557 266.751689 \r\nL 507.935854 266.751689 \r\nz\r\n\" style=\"fill:#ff4125;opacity:0.4;\"/>\r\n   </g>\r\n   <g id=\"patch_11\">\r\n    <path clip-path=\"url(#pcc851bbb52)\" d=\"M 514.166557 321.326625 \r\nL 520.39726 321.326625 \r\nL 520.39726 238.342819 \r\nL 514.166557 238.342819 \r\nz\r\n\" style=\"fill:#ff4125;opacity:0.4;\"/>\r\n   </g>\r\n   <g id=\"patch_12\">\r\n    <path clip-path=\"url(#pcc851bbb52)\" d=\"M 520.39726 321.326625 \r\nL 526.627963 321.326625 \r\nL 526.627963 163.395733 \r\nL 520.39726 163.395733 \r\nz\r\n\" style=\"fill:#ff4125;opacity:0.4;\"/>\r\n   </g>\r\n   <g id=\"patch_13\">\r\n    <path clip-path=\"url(#pcc851bbb52)\" d=\"M 526.627963 321.326625 \r\nL 532.858666 321.326625 \r\nL 532.858666 175.170462 \r\nL 526.627963 175.170462 \r\nz\r\n\" style=\"fill:#ff4125;opacity:0.4;\"/>\r\n   </g>\r\n   <g id=\"patch_14\">\r\n    <path clip-path=\"url(#pcc851bbb52)\" d=\"M 532.858666 321.326625 \r\nL 539.089369 321.326625 \r\nL 539.089369 126.856692 \r\nL 532.858666 126.856692 \r\nz\r\n\" style=\"fill:#ff4125;opacity:0.4;\"/>\r\n   </g>\r\n   <g id=\"patch_15\">\r\n    <path clip-path=\"url(#pcc851bbb52)\" d=\"M 539.089369 321.326625 \r\nL 545.320072 321.326625 \r\nL 545.320072 107.232143 \r\nL 539.089369 107.232143 \r\nz\r\n\" style=\"fill:#ff4125;opacity:0.4;\"/>\r\n   </g>\r\n   <g id=\"patch_16\">\r\n    <path clip-path=\"url(#pcc851bbb52)\" d=\"M 545.320072 321.326625 \r\nL 551.550775 321.326625 \r\nL 551.550775 110.03565 \r\nL 545.320072 110.03565 \r\nz\r\n\" style=\"fill:#ff4125;opacity:0.4;\"/>\r\n   </g>\r\n   <g id=\"patch_17\">\r\n    <path clip-path=\"url(#pcc851bbb52)\" d=\"M 551.550775 321.326625 \r\nL 557.781478 321.326625 \r\nL 557.781478 65.83369 \r\nL 551.550775 65.83369 \r\nz\r\n\" style=\"fill:#ff4125;opacity:0.4;\"/>\r\n   </g>\r\n   <g id=\"patch_18\">\r\n    <path clip-path=\"url(#pcc851bbb52)\" d=\"M 557.781478 321.326625 \r\nL 564.012181 321.326625 \r\nL 564.012181 62.469482 \r\nL 557.781478 62.469482 \r\nz\r\n\" style=\"fill:#ff4125;opacity:0.4;\"/>\r\n   </g>\r\n   <g id=\"patch_19\">\r\n    <path clip-path=\"url(#pcc851bbb52)\" d=\"M 564.012181 321.326625 \r\nL 570.242884 321.326625 \r\nL 570.242884 64.712288 \r\nL 564.012181 64.712288 \r\nz\r\n\" style=\"fill:#ff4125;opacity:0.4;\"/>\r\n   </g>\r\n   <g id=\"patch_20\">\r\n    <path clip-path=\"url(#pcc851bbb52)\" d=\"M 570.242884 321.326625 \r\nL 576.473587 321.326625 \r\nL 576.473587 71.814505 \r\nL 570.242884 71.814505 \r\nz\r\n\" style=\"fill:#ff4125;opacity:0.4;\"/>\r\n   </g>\r\n   <g id=\"patch_21\">\r\n    <path clip-path=\"url(#pcc851bbb52)\" d=\"M 576.473587 321.326625 \r\nL 582.704291 321.326625 \r\nL 582.704291 97.046068 \r\nL 576.473587 97.046068 \r\nz\r\n\" style=\"fill:#ff4125;opacity:0.4;\"/>\r\n   </g>\r\n   <g id=\"patch_22\">\r\n    <path clip-path=\"url(#pcc851bbb52)\" d=\"M 582.704291 321.326625 \r\nL 588.934994 321.326625 \r\nL 588.934994 94.990163 \r\nL 582.704291 94.990163 \r\nz\r\n\" style=\"fill:#ff4125;opacity:0.4;\"/>\r\n   </g>\r\n   <g id=\"patch_23\">\r\n    <path clip-path=\"url(#pcc851bbb52)\" d=\"M 588.934994 321.326625 \r\nL 595.165697 321.326625 \r\nL 595.165697 109.101148 \r\nL 588.934994 109.101148 \r\nz\r\n\" style=\"fill:#ff4125;opacity:0.4;\"/>\r\n   </g>\r\n   <g id=\"patch_24\">\r\n    <path clip-path=\"url(#pcc851bbb52)\" d=\"M 595.165697 321.326625 \r\nL 601.3964 321.326625 \r\nL 601.3964 117.698569 \r\nL 595.165697 117.698569 \r\nz\r\n\" style=\"fill:#ff4125;opacity:0.4;\"/>\r\n   </g>\r\n   <g id=\"patch_25\">\r\n    <path clip-path=\"url(#pcc851bbb52)\" d=\"M 601.3964 321.326625 \r\nL 607.627103 321.326625 \r\nL 607.627103 122.744882 \r\nL 601.3964 122.744882 \r\nz\r\n\" style=\"fill:#ff4125;opacity:0.4;\"/>\r\n   </g>\r\n   <g id=\"patch_26\">\r\n    <path clip-path=\"url(#pcc851bbb52)\" d=\"M 607.627103 321.326625 \r\nL 613.857806 321.326625 \r\nL 613.857806 130.594701 \r\nL 607.627103 130.594701 \r\nz\r\n\" style=\"fill:#ff4125;opacity:0.4;\"/>\r\n   </g>\r\n   <g id=\"patch_27\">\r\n    <path clip-path=\"url(#pcc851bbb52)\" d=\"M 613.857806 321.326625 \r\nL 620.088509 321.326625 \r\nL 620.088509 147.135392 \r\nL 613.857806 147.135392 \r\nz\r\n\" style=\"fill:#ff4125;opacity:0.4;\"/>\r\n   </g>\r\n   <g id=\"patch_28\">\r\n    <path clip-path=\"url(#pcc851bbb52)\" d=\"M 620.088509 321.326625 \r\nL 626.319212 321.326625 \r\nL 626.319212 164.330235 \r\nL 620.088509 164.330235 \r\nz\r\n\" style=\"fill:#ff4125;opacity:0.4;\"/>\r\n   </g>\r\n   <g id=\"patch_29\">\r\n    <path clip-path=\"url(#pcc851bbb52)\" d=\"M 626.319212 321.326625 \r\nL 632.549915 321.326625 \r\nL 632.549915 181.431628 \r\nL 626.319212 181.431628 \r\nz\r\n\" style=\"fill:#ff4125;opacity:0.4;\"/>\r\n   </g>\r\n   <g id=\"patch_30\">\r\n    <path clip-path=\"url(#pcc851bbb52)\" d=\"M 632.549915 321.326625 \r\nL 638.780618 321.326625 \r\nL 638.780618 189.374897 \r\nL 632.549915 189.374897 \r\nz\r\n\" style=\"fill:#ff4125;opacity:0.4;\"/>\r\n   </g>\r\n   <g id=\"patch_31\">\r\n    <path clip-path=\"url(#pcc851bbb52)\" d=\"M 638.780618 321.326625 \r\nL 645.011321 321.326625 \r\nL 645.011321 203.205532 \r\nL 638.780618 203.205532 \r\nz\r\n\" style=\"fill:#ff4125;opacity:0.4;\"/>\r\n   </g>\r\n   <g id=\"patch_32\">\r\n    <path clip-path=\"url(#pcc851bbb52)\" d=\"M 645.011321 321.326625 \r\nL 651.242024 321.326625 \r\nL 651.242024 227.782943 \r\nL 645.011321 227.782943 \r\nz\r\n\" style=\"fill:#ff4125;opacity:0.4;\"/>\r\n   </g>\r\n   <g id=\"patch_33\">\r\n    <path clip-path=\"url(#pcc851bbb52)\" d=\"M 651.242024 321.326625 \r\nL 657.472727 321.326625 \r\nL 657.472727 234.79171 \r\nL 651.242024 234.79171 \r\nz\r\n\" style=\"fill:#ff4125;opacity:0.4;\"/>\r\n   </g>\r\n   <g id=\"patch_34\">\r\n    <path clip-path=\"url(#pcc851bbb52)\" d=\"M 657.472727 321.326625 \r\nL 663.70343 321.326625 \r\nL 663.70343 251.05205 \r\nL 657.472727 251.05205 \r\nz\r\n\" style=\"fill:#ff4125;opacity:0.4;\"/>\r\n   </g>\r\n   <g id=\"patch_35\">\r\n    <path clip-path=\"url(#pcc851bbb52)\" d=\"M 663.70343 321.326625 \r\nL 669.934133 321.326625 \r\nL 669.934133 263.854732 \r\nL 663.70343 263.854732 \r\nz\r\n\" style=\"fill:#ff4125;opacity:0.4;\"/>\r\n   </g>\r\n   <g id=\"patch_36\">\r\n    <path clip-path=\"url(#pcc851bbb52)\" d=\"M 669.934133 321.326625 \r\nL 676.164836 321.326625 \r\nL 676.164836 266.564789 \r\nL 669.934133 266.564789 \r\nz\r\n\" style=\"fill:#ff4125;opacity:0.4;\"/>\r\n   </g>\r\n   <g id=\"patch_37\">\r\n    <path clip-path=\"url(#pcc851bbb52)\" d=\"M 676.164836 321.326625 \r\nL 682.39554 321.326625 \r\nL 682.39554 274.508059 \r\nL 676.164836 274.508059 \r\nz\r\n\" style=\"fill:#ff4125;opacity:0.4;\"/>\r\n   </g>\r\n   <g id=\"patch_38\">\r\n    <path clip-path=\"url(#pcc851bbb52)\" d=\"M 682.39554 321.326625 \r\nL 688.626243 321.326625 \r\nL 688.626243 279.554371 \r\nL 682.39554 279.554371 \r\nz\r\n\" style=\"fill:#ff4125;opacity:0.4;\"/>\r\n   </g>\r\n   <g id=\"patch_39\">\r\n    <path clip-path=\"url(#pcc851bbb52)\" d=\"M 688.626243 321.326625 \r\nL 694.856946 321.326625 \r\nL 694.856946 283.853082 \r\nL 688.626243 283.853082 \r\nz\r\n\" style=\"fill:#ff4125;opacity:0.4;\"/>\r\n   </g>\r\n   <g id=\"patch_40\">\r\n    <path clip-path=\"url(#pcc851bbb52)\" d=\"M 694.856946 321.326625 \r\nL 701.087649 321.326625 \r\nL 701.087649 288.899394 \r\nL 694.856946 288.899394 \r\nz\r\n\" style=\"fill:#ff4125;opacity:0.4;\"/>\r\n   </g>\r\n   <g id=\"patch_41\">\r\n    <path clip-path=\"url(#pcc851bbb52)\" d=\"M 701.087649 321.326625 \r\nL 707.318352 321.326625 \r\nL 707.318352 292.824304 \r\nL 701.087649 292.824304 \r\nz\r\n\" style=\"fill:#ff4125;opacity:0.4;\"/>\r\n   </g>\r\n   <g id=\"patch_42\">\r\n    <path clip-path=\"url(#pcc851bbb52)\" d=\"M 707.318352 321.326625 \r\nL 713.549055 321.326625 \r\nL 713.549055 293.758807 \r\nL 707.318352 293.758807 \r\nz\r\n\" style=\"fill:#ff4125;opacity:0.4;\"/>\r\n   </g>\r\n   <g id=\"patch_43\">\r\n    <path clip-path=\"url(#pcc851bbb52)\" d=\"M 713.549055 321.326625 \r\nL 719.779758 321.326625 \r\nL 719.779758 297.870617 \r\nL 713.549055 297.870617 \r\nz\r\n\" style=\"fill:#ff4125;opacity:0.4;\"/>\r\n   </g>\r\n   <g id=\"patch_44\">\r\n    <path clip-path=\"url(#pcc851bbb52)\" d=\"M 719.779758 321.326625 \r\nL 726.010461 321.326625 \r\nL 726.010461 303.477631 \r\nL 719.779758 303.477631 \r\nz\r\n\" style=\"fill:#ff4125;opacity:0.4;\"/>\r\n   </g>\r\n   <g id=\"patch_45\">\r\n    <path clip-path=\"url(#pcc851bbb52)\" d=\"M 726.010461 321.326625 \r\nL 732.241164 321.326625 \r\nL 732.241164 306.654939 \r\nL 726.010461 306.654939 \r\nz\r\n\" style=\"fill:#ff4125;opacity:0.4;\"/>\r\n   </g>\r\n   <g id=\"patch_46\">\r\n    <path clip-path=\"url(#pcc851bbb52)\" d=\"M 732.241164 321.326625 \r\nL 738.471867 321.326625 \r\nL 738.471867 308.243593 \r\nL 732.241164 308.243593 \r\nz\r\n\" style=\"fill:#ff4125;opacity:0.4;\"/>\r\n   </g>\r\n   <g id=\"patch_47\">\r\n    <path clip-path=\"url(#pcc851bbb52)\" d=\"M 738.471867 321.326625 \r\nL 744.70257 321.326625 \r\nL 744.70257 309.178095 \r\nL 738.471867 309.178095 \r\nz\r\n\" style=\"fill:#ff4125;opacity:0.4;\"/>\r\n   </g>\r\n   <g id=\"patch_48\">\r\n    <path clip-path=\"url(#pcc851bbb52)\" d=\"M 744.70257 321.326625 \r\nL 750.933273 321.326625 \r\nL 750.933273 315.813061 \r\nL 744.70257 315.813061 \r\nz\r\n\" style=\"fill:#ff4125;opacity:0.4;\"/>\r\n   </g>\r\n   <g id=\"patch_49\">\r\n    <path clip-path=\"url(#pcc851bbb52)\" d=\"M 750.933273 321.326625 \r\nL 757.163976 321.326625 \r\nL 757.163976 315.719611 \r\nL 750.933273 315.719611 \r\nz\r\n\" style=\"fill:#ff4125;opacity:0.4;\"/>\r\n   </g>\r\n   <g id=\"patch_50\">\r\n    <path clip-path=\"url(#pcc851bbb52)\" d=\"M 757.163976 321.326625 \r\nL 763.394679 321.326625 \r\nL 763.394679 315.34581 \r\nL 757.163976 315.34581 \r\nz\r\n\" style=\"fill:#ff4125;opacity:0.4;\"/>\r\n   </g>\r\n   <g id=\"patch_51\">\r\n    <path clip-path=\"url(#pcc851bbb52)\" d=\"M 763.394679 321.326625 \r\nL 769.625382 321.326625 \r\nL 769.625382 317.868966 \r\nL 763.394679 317.868966 \r\nz\r\n\" style=\"fill:#ff4125;opacity:0.4;\"/>\r\n   </g>\r\n   <g id=\"patch_52\">\r\n    <path clip-path=\"url(#pcc851bbb52)\" d=\"M 769.625382 321.326625 \r\nL 775.856085 321.326625 \r\nL 775.856085 318.990369 \r\nL 769.625382 318.990369 \r\nz\r\n\" style=\"fill:#ff4125;opacity:0.4;\"/>\r\n   </g>\r\n   <g id=\"patch_53\">\r\n    <path clip-path=\"url(#pcc851bbb52)\" d=\"M 775.856085 321.326625 \r\nL 782.086788 321.326625 \r\nL 782.086788 320.392123 \r\nL 775.856085 320.392123 \r\nz\r\n\" style=\"fill:#ff4125;opacity:0.4;\"/>\r\n   </g>\r\n   <g id=\"patch_54\">\r\n    <path clip-path=\"url(#pcc851bbb52)\" d=\"M 782.086788 321.326625 \r\nL 788.317492 321.326625 \r\nL 788.317492 319.644521 \r\nL 782.086788 319.644521 \r\nz\r\n\" style=\"fill:#ff4125;opacity:0.4;\"/>\r\n   </g>\r\n   <g id=\"patch_55\">\r\n    <path clip-path=\"url(#pcc851bbb52)\" d=\"M 788.317492 321.326625 \r\nL 794.548195 321.326625 \r\nL 794.548195 320.952824 \r\nL 788.317492 320.952824 \r\nz\r\n\" style=\"fill:#ff4125;opacity:0.4;\"/>\r\n   </g>\r\n   <g id=\"patch_56\">\r\n    <path clip-path=\"url(#pcc851bbb52)\" d=\"M 794.548195 321.326625 \r\nL 800.778898 321.326625 \r\nL 800.778898 320.672473 \r\nL 794.548195 320.672473 \r\nz\r\n\" style=\"fill:#ff4125;opacity:0.4;\"/>\r\n   </g>\r\n   <g id=\"patch_57\">\r\n    <path clip-path=\"url(#pcc851bbb52)\" d=\"M 800.778898 321.326625 \r\nL 807.009601 321.326625 \r\nL 807.009601 320.672473 \r\nL 800.778898 320.672473 \r\nz\r\n\" style=\"fill:#ff4125;opacity:0.4;\"/>\r\n   </g>\r\n   <g id=\"patch_58\">\r\n    <path clip-path=\"url(#pcc851bbb52)\" d=\"M 807.009601 321.326625 \r\nL 813.240304 321.326625 \r\nL 813.240304 321.046274 \r\nL 807.009601 321.046274 \r\nz\r\n\" style=\"fill:#ff4125;opacity:0.4;\"/>\r\n   </g>\r\n   <g id=\"matplotlib.axis_3\">\r\n    <g id=\"xtick_5\">\r\n     <g id=\"line2d_12\">\r\n      <g>\r\n       <use style=\"stroke:#000000;stroke-width:0.8;\" x=\"484.410453\" xlink:href=\"#mdb819b6b4a\" y=\"321.326625\"/>\r\n      </g>\r\n     </g>\r\n     <g id=\"text_6\">\r\n      <!-- 0 -->\r\n      <g transform=\"translate(481.229203 335.925062)scale(0.1 -0.1)\">\r\n       <use xlink:href=\"#DejaVuSans-48\"/>\r\n      </g>\r\n     </g>\r\n    </g>\r\n    <g id=\"xtick_6\">\r\n     <g id=\"line2d_13\">\r\n      <g>\r\n       <use style=\"stroke:#000000;stroke-width:0.8;\" x=\"560.26439\" xlink:href=\"#mdb819b6b4a\" y=\"321.326625\"/>\r\n      </g>\r\n     </g>\r\n     <g id=\"text_7\">\r\n      <!-- 10000 -->\r\n      <g transform=\"translate(544.35814 335.925062)scale(0.1 -0.1)\">\r\n       <use xlink:href=\"#DejaVuSans-49\"/>\r\n       <use x=\"63.623047\" xlink:href=\"#DejaVuSans-48\"/>\r\n       <use x=\"127.246094\" xlink:href=\"#DejaVuSans-48\"/>\r\n       <use x=\"190.869141\" xlink:href=\"#DejaVuSans-48\"/>\r\n       <use x=\"254.492188\" xlink:href=\"#DejaVuSans-48\"/>\r\n      </g>\r\n     </g>\r\n    </g>\r\n    <g id=\"xtick_7\">\r\n     <g id=\"line2d_14\">\r\n      <g>\r\n       <use style=\"stroke:#000000;stroke-width:0.8;\" x=\"636.118327\" xlink:href=\"#mdb819b6b4a\" y=\"321.326625\"/>\r\n      </g>\r\n     </g>\r\n     <g id=\"text_8\">\r\n      <!-- 20000 -->\r\n      <g transform=\"translate(620.212077 335.925062)scale(0.1 -0.1)\">\r\n       <use xlink:href=\"#DejaVuSans-50\"/>\r\n       <use x=\"63.623047\" xlink:href=\"#DejaVuSans-48\"/>\r\n       <use x=\"127.246094\" xlink:href=\"#DejaVuSans-48\"/>\r\n       <use x=\"190.869141\" xlink:href=\"#DejaVuSans-48\"/>\r\n       <use x=\"254.492188\" xlink:href=\"#DejaVuSans-48\"/>\r\n      </g>\r\n     </g>\r\n    </g>\r\n    <g id=\"xtick_8\">\r\n     <g id=\"line2d_15\">\r\n      <g>\r\n       <use style=\"stroke:#000000;stroke-width:0.8;\" x=\"711.972264\" xlink:href=\"#mdb819b6b4a\" y=\"321.326625\"/>\r\n      </g>\r\n     </g>\r\n     <g id=\"text_9\">\r\n      <!-- 30000 -->\r\n      <g transform=\"translate(696.066014 335.925062)scale(0.1 -0.1)\">\r\n       <use xlink:href=\"#DejaVuSans-51\"/>\r\n       <use x=\"63.623047\" xlink:href=\"#DejaVuSans-48\"/>\r\n       <use x=\"127.246094\" xlink:href=\"#DejaVuSans-48\"/>\r\n       <use x=\"190.869141\" xlink:href=\"#DejaVuSans-48\"/>\r\n       <use x=\"254.492188\" xlink:href=\"#DejaVuSans-48\"/>\r\n      </g>\r\n     </g>\r\n    </g>\r\n    <g id=\"xtick_9\">\r\n     <g id=\"line2d_16\">\r\n      <g>\r\n       <use style=\"stroke:#000000;stroke-width:0.8;\" x=\"787.826201\" xlink:href=\"#mdb819b6b4a\" y=\"321.326625\"/>\r\n      </g>\r\n     </g>\r\n     <g id=\"text_10\">\r\n      <!-- 40000 -->\r\n      <g transform=\"translate(771.919951 335.925062)scale(0.1 -0.1)\">\r\n       <use xlink:href=\"#DejaVuSans-52\"/>\r\n       <use x=\"63.623047\" xlink:href=\"#DejaVuSans-48\"/>\r\n       <use x=\"127.246094\" xlink:href=\"#DejaVuSans-48\"/>\r\n       <use x=\"190.869141\" xlink:href=\"#DejaVuSans-48\"/>\r\n       <use x=\"254.492188\" xlink:href=\"#DejaVuSans-48\"/>\r\n      </g>\r\n     </g>\r\n    </g>\r\n    <g id=\"text_11\">\r\n     <!-- Reco_Policy_Premium -->\r\n     <g transform=\"translate(603.713352 349.603187)scale(0.1 -0.1)\">\r\n      <use xlink:href=\"#DejaVuSans-82\"/>\r\n      <use x=\"64.982422\" xlink:href=\"#DejaVuSans-101\"/>\r\n      <use x=\"126.505859\" xlink:href=\"#DejaVuSans-99\"/>\r\n      <use x=\"181.486328\" xlink:href=\"#DejaVuSans-111\"/>\r\n      <use x=\"242.667969\" xlink:href=\"#DejaVuSans-95\"/>\r\n      <use x=\"292.667969\" xlink:href=\"#DejaVuSans-80\"/>\r\n      <use x=\"349.345703\" xlink:href=\"#DejaVuSans-111\"/>\r\n      <use x=\"410.527344\" xlink:href=\"#DejaVuSans-108\"/>\r\n      <use x=\"438.310547\" xlink:href=\"#DejaVuSans-105\"/>\r\n      <use x=\"466.09375\" xlink:href=\"#DejaVuSans-99\"/>\r\n      <use x=\"521.074219\" xlink:href=\"#DejaVuSans-121\"/>\r\n      <use x=\"580.253906\" xlink:href=\"#DejaVuSans-95\"/>\r\n      <use x=\"630.253906\" xlink:href=\"#DejaVuSans-80\"/>\r\n      <use x=\"688.806641\" xlink:href=\"#DejaVuSans-114\"/>\r\n      <use x=\"727.669922\" xlink:href=\"#DejaVuSans-101\"/>\r\n      <use x=\"789.193359\" xlink:href=\"#DejaVuSans-109\"/>\r\n      <use x=\"886.605469\" xlink:href=\"#DejaVuSans-105\"/>\r\n      <use x=\"914.388672\" xlink:href=\"#DejaVuSans-117\"/>\r\n      <use x=\"977.767578\" xlink:href=\"#DejaVuSans-109\"/>\r\n     </g>\r\n    </g>\r\n   </g>\r\n   <g id=\"matplotlib.axis_4\">\r\n    <g id=\"ytick_2\">\r\n     <g id=\"line2d_17\">\r\n      <g>\r\n       <use style=\"stroke:#000000;stroke-width:0.8;\" x=\"467.245455\" xlink:href=\"#m9679f988ea\" y=\"321.326625\"/>\r\n      </g>\r\n     </g>\r\n     <g id=\"text_12\">\r\n      <!-- 0 -->\r\n      <g transform=\"translate(453.882955 325.125844)scale(0.1 -0.1)\">\r\n       <use xlink:href=\"#DejaVuSans-48\"/>\r\n      </g>\r\n     </g>\r\n    </g>\r\n    <g id=\"ytick_3\">\r\n     <g id=\"line2d_18\">\r\n      <g>\r\n       <use style=\"stroke:#000000;stroke-width:0.8;\" x=\"467.245455\" xlink:href=\"#m9679f988ea\" y=\"282.269211\"/>\r\n      </g>\r\n     </g>\r\n     <g id=\"text_13\">\r\n      <!-- 1 -->\r\n      <g transform=\"translate(453.882955 286.06843)scale(0.1 -0.1)\">\r\n       <use xlink:href=\"#DejaVuSans-49\"/>\r\n      </g>\r\n     </g>\r\n    </g>\r\n    <g id=\"ytick_4\">\r\n     <g id=\"line2d_19\">\r\n      <g>\r\n       <use style=\"stroke:#000000;stroke-width:0.8;\" x=\"467.245455\" xlink:href=\"#m9679f988ea\" y=\"243.211797\"/>\r\n      </g>\r\n     </g>\r\n     <g id=\"text_14\">\r\n      <!-- 2 -->\r\n      <g transform=\"translate(453.882955 247.011016)scale(0.1 -0.1)\">\r\n       <use xlink:href=\"#DejaVuSans-50\"/>\r\n      </g>\r\n     </g>\r\n    </g>\r\n    <g id=\"ytick_5\">\r\n     <g id=\"line2d_20\">\r\n      <g>\r\n       <use style=\"stroke:#000000;stroke-width:0.8;\" x=\"467.245455\" xlink:href=\"#m9679f988ea\" y=\"204.154383\"/>\r\n      </g>\r\n     </g>\r\n     <g id=\"text_15\">\r\n      <!-- 3 -->\r\n      <g transform=\"translate(453.882955 207.953601)scale(0.1 -0.1)\">\r\n       <use xlink:href=\"#DejaVuSans-51\"/>\r\n      </g>\r\n     </g>\r\n    </g>\r\n    <g id=\"ytick_6\">\r\n     <g id=\"line2d_21\">\r\n      <g>\r\n       <use style=\"stroke:#000000;stroke-width:0.8;\" x=\"467.245455\" xlink:href=\"#m9679f988ea\" y=\"165.096969\"/>\r\n      </g>\r\n     </g>\r\n     <g id=\"text_16\">\r\n      <!-- 4 -->\r\n      <g transform=\"translate(453.882955 168.896187)scale(0.1 -0.1)\">\r\n       <use xlink:href=\"#DejaVuSans-52\"/>\r\n      </g>\r\n     </g>\r\n    </g>\r\n    <g id=\"ytick_7\">\r\n     <g id=\"line2d_22\">\r\n      <g>\r\n       <use style=\"stroke:#000000;stroke-width:0.8;\" x=\"467.245455\" xlink:href=\"#m9679f988ea\" y=\"126.039555\"/>\r\n      </g>\r\n     </g>\r\n     <g id=\"text_17\">\r\n      <!-- 5 -->\r\n      <g transform=\"translate(453.882955 129.838773)scale(0.1 -0.1)\">\r\n       <defs>\r\n        <path d=\"M 10.796875 72.90625 \r\nL 49.515625 72.90625 \r\nL 49.515625 64.59375 \r\nL 19.828125 64.59375 \r\nL 19.828125 46.734375 \r\nQ 21.96875 47.46875 24.109375 47.828125 \r\nQ 26.265625 48.1875 28.421875 48.1875 \r\nQ 40.625 48.1875 47.75 41.5 \r\nQ 54.890625 34.8125 54.890625 23.390625 \r\nQ 54.890625 11.625 47.5625 5.09375 \r\nQ 40.234375 -1.421875 26.90625 -1.421875 \r\nQ 22.3125 -1.421875 17.546875 -0.640625 \r\nQ 12.796875 0.140625 7.71875 1.703125 \r\nL 7.71875 11.625 \r\nQ 12.109375 9.234375 16.796875 8.0625 \r\nQ 21.484375 6.890625 26.703125 6.890625 \r\nQ 35.15625 6.890625 40.078125 11.328125 \r\nQ 45.015625 15.765625 45.015625 23.390625 \r\nQ 45.015625 31 40.078125 35.4375 \r\nQ 35.15625 39.890625 26.703125 39.890625 \r\nQ 22.75 39.890625 18.8125 39.015625 \r\nQ 14.890625 38.140625 10.796875 36.28125 \r\nz\r\n\" id=\"DejaVuSans-53\"/>\r\n       </defs>\r\n       <use xlink:href=\"#DejaVuSans-53\"/>\r\n      </g>\r\n     </g>\r\n    </g>\r\n    <g id=\"ytick_8\">\r\n     <g id=\"line2d_23\">\r\n      <g>\r\n       <use style=\"stroke:#000000;stroke-width:0.8;\" x=\"467.245455\" xlink:href=\"#m9679f988ea\" y=\"86.98214\"/>\r\n      </g>\r\n     </g>\r\n     <g id=\"text_18\">\r\n      <!-- 6 -->\r\n      <g transform=\"translate(453.882955 90.781359)scale(0.1 -0.1)\">\r\n       <defs>\r\n        <path d=\"M 33.015625 40.375 \r\nQ 26.375 40.375 22.484375 35.828125 \r\nQ 18.609375 31.296875 18.609375 23.390625 \r\nQ 18.609375 15.53125 22.484375 10.953125 \r\nQ 26.375 6.390625 33.015625 6.390625 \r\nQ 39.65625 6.390625 43.53125 10.953125 \r\nQ 47.40625 15.53125 47.40625 23.390625 \r\nQ 47.40625 31.296875 43.53125 35.828125 \r\nQ 39.65625 40.375 33.015625 40.375 \r\nz\r\nM 52.59375 71.296875 \r\nL 52.59375 62.3125 \r\nQ 48.875 64.0625 45.09375 64.984375 \r\nQ 41.3125 65.921875 37.59375 65.921875 \r\nQ 27.828125 65.921875 22.671875 59.328125 \r\nQ 17.53125 52.734375 16.796875 39.40625 \r\nQ 19.671875 43.65625 24.015625 45.921875 \r\nQ 28.375 48.1875 33.59375 48.1875 \r\nQ 44.578125 48.1875 50.953125 41.515625 \r\nQ 57.328125 34.859375 57.328125 23.390625 \r\nQ 57.328125 12.15625 50.6875 5.359375 \r\nQ 44.046875 -1.421875 33.015625 -1.421875 \r\nQ 20.359375 -1.421875 13.671875 8.265625 \r\nQ 6.984375 17.96875 6.984375 36.375 \r\nQ 6.984375 53.65625 15.1875 63.9375 \r\nQ 23.390625 74.21875 37.203125 74.21875 \r\nQ 40.921875 74.21875 44.703125 73.484375 \r\nQ 48.484375 72.75 52.59375 71.296875 \r\nz\r\n\" id=\"DejaVuSans-54\"/>\r\n       </defs>\r\n       <use xlink:href=\"#DejaVuSans-54\"/>\r\n      </g>\r\n     </g>\r\n    </g>\r\n    <g id=\"text_19\">\r\n     <!-- Density -->\r\n     <g transform=\"translate(447.803267 204.435219)rotate(-90)scale(0.1 -0.1)\">\r\n      <defs>\r\n       <path d=\"M 19.671875 64.796875 \r\nL 19.671875 8.109375 \r\nL 31.59375 8.109375 \r\nQ 46.6875 8.109375 53.6875 14.9375 \r\nQ 60.6875 21.78125 60.6875 36.53125 \r\nQ 60.6875 51.171875 53.6875 57.984375 \r\nQ 46.6875 64.796875 31.59375 64.796875 \r\nz\r\nM 9.8125 72.90625 \r\nL 30.078125 72.90625 \r\nQ 51.265625 72.90625 61.171875 64.09375 \r\nQ 71.09375 55.28125 71.09375 36.53125 \r\nQ 71.09375 17.671875 61.125 8.828125 \r\nQ 51.171875 0 30.078125 0 \r\nL 9.8125 0 \r\nz\r\n\" id=\"DejaVuSans-68\"/>\r\n       <path d=\"M 54.890625 33.015625 \r\nL 54.890625 0 \r\nL 45.90625 0 \r\nL 45.90625 32.71875 \r\nQ 45.90625 40.484375 42.875 44.328125 \r\nQ 39.84375 48.1875 33.796875 48.1875 \r\nQ 26.515625 48.1875 22.3125 43.546875 \r\nQ 18.109375 38.921875 18.109375 30.90625 \r\nL 18.109375 0 \r\nL 9.078125 0 \r\nL 9.078125 54.6875 \r\nL 18.109375 54.6875 \r\nL 18.109375 46.1875 \r\nQ 21.34375 51.125 25.703125 53.5625 \r\nQ 30.078125 56 35.796875 56 \r\nQ 45.21875 56 50.046875 50.171875 \r\nQ 54.890625 44.34375 54.890625 33.015625 \r\nz\r\n\" id=\"DejaVuSans-110\"/>\r\n       <path d=\"M 44.28125 53.078125 \r\nL 44.28125 44.578125 \r\nQ 40.484375 46.53125 36.375 47.5 \r\nQ 32.28125 48.484375 27.875 48.484375 \r\nQ 21.1875 48.484375 17.84375 46.4375 \r\nQ 14.5 44.390625 14.5 40.28125 \r\nQ 14.5 37.15625 16.890625 35.375 \r\nQ 19.28125 33.59375 26.515625 31.984375 \r\nL 29.59375 31.296875 \r\nQ 39.15625 29.25 43.1875 25.515625 \r\nQ 47.21875 21.78125 47.21875 15.09375 \r\nQ 47.21875 7.46875 41.1875 3.015625 \r\nQ 35.15625 -1.421875 24.609375 -1.421875 \r\nQ 20.21875 -1.421875 15.453125 -0.5625 \r\nQ 10.6875 0.296875 5.421875 2 \r\nL 5.421875 11.28125 \r\nQ 10.40625 8.6875 15.234375 7.390625 \r\nQ 20.0625 6.109375 24.8125 6.109375 \r\nQ 31.15625 6.109375 34.5625 8.28125 \r\nQ 37.984375 10.453125 37.984375 14.40625 \r\nQ 37.984375 18.0625 35.515625 20.015625 \r\nQ 33.0625 21.96875 24.703125 23.78125 \r\nL 21.578125 24.515625 \r\nQ 13.234375 26.265625 9.515625 29.90625 \r\nQ 5.8125 33.546875 5.8125 39.890625 \r\nQ 5.8125 47.609375 11.28125 51.796875 \r\nQ 16.75 56 26.8125 56 \r\nQ 31.78125 56 36.171875 55.265625 \r\nQ 40.578125 54.546875 44.28125 53.078125 \r\nz\r\n\" id=\"DejaVuSans-115\"/>\r\n       <path d=\"M 18.3125 70.21875 \r\nL 18.3125 54.6875 \r\nL 36.8125 54.6875 \r\nL 36.8125 47.703125 \r\nL 18.3125 47.703125 \r\nL 18.3125 18.015625 \r\nQ 18.3125 11.328125 20.140625 9.421875 \r\nQ 21.96875 7.515625 27.59375 7.515625 \r\nL 36.8125 7.515625 \r\nL 36.8125 0 \r\nL 27.59375 0 \r\nQ 17.1875 0 13.234375 3.875 \r\nQ 9.28125 7.765625 9.28125 18.015625 \r\nL 9.28125 47.703125 \r\nL 2.6875 47.703125 \r\nL 2.6875 54.6875 \r\nL 9.28125 54.6875 \r\nL 9.28125 70.21875 \r\nz\r\n\" id=\"DejaVuSans-116\"/>\r\n      </defs>\r\n      <use xlink:href=\"#DejaVuSans-68\"/>\r\n      <use x=\"77.001953\" xlink:href=\"#DejaVuSans-101\"/>\r\n      <use x=\"138.525391\" xlink:href=\"#DejaVuSans-110\"/>\r\n      <use x=\"201.904297\" xlink:href=\"#DejaVuSans-115\"/>\r\n      <use x=\"254.003906\" xlink:href=\"#DejaVuSans-105\"/>\r\n      <use x=\"281.787109\" xlink:href=\"#DejaVuSans-116\"/>\r\n      <use x=\"320.996094\" xlink:href=\"#DejaVuSans-121\"/>\r\n     </g>\r\n    </g>\r\n    <g id=\"text_20\">\r\n     <!-- 1e−5 -->\r\n     <g transform=\"translate(467.245455 46.526625)scale(0.1 -0.1)\">\r\n      <defs>\r\n       <path d=\"M 10.59375 35.5 \r\nL 73.1875 35.5 \r\nL 73.1875 27.203125 \r\nL 10.59375 27.203125 \r\nz\r\n\" id=\"DejaVuSans-8722\"/>\r\n      </defs>\r\n      <use xlink:href=\"#DejaVuSans-49\"/>\r\n      <use x=\"63.623047\" xlink:href=\"#DejaVuSans-101\"/>\r\n      <use x=\"125.146484\" xlink:href=\"#DejaVuSans-8722\"/>\r\n      <use x=\"208.935547\" xlink:href=\"#DejaVuSans-53\"/>\r\n     </g>\r\n    </g>\r\n   </g>\r\n   <g id=\"line2d_24\">\r\n    <path clip-path=\"url(#pcc851bbb52)\" d=\"M 484.538843 321.316514 \r\nL 489.75293 321.168578 \r\nL 491.490959 320.986633 \r\nL 493.228988 320.643215 \r\nL 494.967017 320.035359 \r\nL 496.705046 319.017951 \r\nL 498.443075 317.394807 \r\nL 500.181104 314.91308 \r\nL 501.919133 311.272383 \r\nL 503.657162 306.165925 \r\nL 505.395191 299.363573 \r\nL 507.13322 290.819305 \r\nL 508.871249 280.750003 \r\nL 512.347307 258.018634 \r\nL 515.823365 235.228148 \r\nL 519.299423 214.024471 \r\nL 522.775481 194.50796 \r\nL 526.251539 176.87472 \r\nL 531.465626 152.215867 \r\nL 533.203655 144.425611 \r\nL 534.941684 137.182276 \r\nL 536.679713 130.668568 \r\nL 538.417742 124.922346 \r\nL 540.155771 119.833821 \r\nL 547.107887 101.187558 \r\nL 548.845916 95.767109 \r\nL 554.060002 78.276396 \r\nL 555.798031 73.269024 \r\nL 557.53606 69.275139 \r\nL 559.274089 66.460104 \r\nL 561.012118 64.835375 \r\nL 562.750147 64.308173 \r\nL 564.488176 64.742864 \r\nL 566.226205 66.007795 \r\nL 567.964234 67.995671 \r\nL 569.702263 70.616912 \r\nL 571.440292 73.773284 \r\nL 574.91635 81.08441 \r\nL 578.392408 88.300227 \r\nL 580.130437 91.393074 \r\nL 581.868466 94.061017 \r\nL 583.606495 96.383189 \r\nL 590.558611 105.055364 \r\nL 594.034669 110.013394 \r\nL 599.248756 117.54879 \r\nL 607.938901 129.350074 \r\nL 609.67693 132.176636 \r\nL 611.414959 135.321882 \r\nL 613.152988 138.800706 \r\nL 614.891017 142.59862 \r\nL 618.367075 150.965823 \r\nL 625.319191 168.528966 \r\nL 628.795249 176.586827 \r\nL 639.223423 199.651872 \r\nL 642.699481 208.504353 \r\nL 647.913568 222.333107 \r\nL 651.389626 230.731698 \r\nL 654.865684 238.274662 \r\nL 660.079771 248.778311 \r\nL 663.555829 255.175486 \r\nL 665.293858 258.059405 \r\nL 667.031887 260.685841 \r\nL 668.769916 263.045277 \r\nL 670.507945 265.154796 \r\nL 673.984003 268.809717 \r\nL 680.936119 275.321258 \r\nL 684.412177 278.437087 \r\nL 687.888235 281.306831 \r\nL 691.364293 283.899673 \r\nL 696.57838 287.45755 \r\nL 700.054437 289.627493 \r\nL 703.530495 291.533954 \r\nL 713.958669 296.754952 \r\nL 717.434727 299.076738 \r\nL 722.648814 302.777917 \r\nL 724.386843 303.869871 \r\nL 726.124872 304.829461 \r\nL 727.862901 305.646549 \r\nL 731.338959 306.906963 \r\nL 736.553046 308.458052 \r\nL 740.029104 309.824601 \r\nL 743.505162 311.569066 \r\nL 746.98122 313.325891 \r\nL 748.719249 314.067717 \r\nL 750.457278 314.677592 \r\nL 753.933336 315.521128 \r\nL 759.147423 316.266544 \r\nL 762.623481 316.79395 \r\nL 767.837568 317.858306 \r\nL 773.051655 318.907365 \r\nL 776.527713 319.430112 \r\nL 781.7418 319.912623 \r\nL 795.646032 320.721308 \r\nL 811.288293 321.078791 \r\nL 819.978438 321.283269 \r\nL 830.406612 321.326013 \r\nL 830.406612 321.326013 \r\n\" style=\"fill:none;stroke:#ff4125;stroke-linecap:square;stroke-width:1.5;\"/>\r\n   </g>\r\n   <g id=\"line2d_25\">\r\n    <path clip-path=\"url(#pcc851bbb52)\" d=\"M 542.012986 321.326625 \r\nL 641.989611 321.326625 \r\n\" style=\"fill:none;stroke:#000000;stroke-linecap:square;stroke-width:1.5;\"/>\r\n   </g>\r\n   <g id=\"patch_59\">\r\n    <path d=\"M 467.245455 321.326625 \r\nL 467.245455 49.526625 \r\n\" style=\"fill:none;stroke:#000000;stroke-linecap:square;stroke-linejoin:miter;stroke-width:0.8;\"/>\r\n   </g>\r\n   <g id=\"patch_60\">\r\n    <path d=\"M 847.7 321.326625 \r\nL 847.7 49.526625 \r\n\" style=\"fill:none;stroke:#000000;stroke-linecap:square;stroke-linejoin:miter;stroke-width:0.8;\"/>\r\n   </g>\r\n   <g id=\"patch_61\">\r\n    <path d=\"M 467.245455 321.326625 \r\nL 847.7 321.326625 \r\n\" style=\"fill:none;stroke:#000000;stroke-linecap:square;stroke-linejoin:miter;stroke-width:0.8;\"/>\r\n   </g>\r\n   <g id=\"patch_62\">\r\n    <path d=\"M 467.245455 49.526625 \r\nL 847.7 49.526625 \r\n\" style=\"fill:none;stroke:#000000;stroke-linecap:square;stroke-linejoin:miter;stroke-width:0.8;\"/>\r\n   </g>\r\n   <g id=\"text_21\">\r\n    <!-- std_dev = (7593.88, 20774.02); kurtosis = 0.42; -->\r\n    <g transform=\"translate(511.707415 16.318125)scale(0.12 -0.12)\">\r\n     <defs>\r\n      <path d=\"M 45.40625 46.390625 \r\nL 45.40625 75.984375 \r\nL 54.390625 75.984375 \r\nL 54.390625 0 \r\nL 45.40625 0 \r\nL 45.40625 8.203125 \r\nQ 42.578125 3.328125 38.25 0.953125 \r\nQ 33.9375 -1.421875 27.875 -1.421875 \r\nQ 17.96875 -1.421875 11.734375 6.484375 \r\nQ 5.515625 14.40625 5.515625 27.296875 \r\nQ 5.515625 40.1875 11.734375 48.09375 \r\nQ 17.96875 56 27.875 56 \r\nQ 33.9375 56 38.25 53.625 \r\nQ 42.578125 51.265625 45.40625 46.390625 \r\nz\r\nM 14.796875 27.296875 \r\nQ 14.796875 17.390625 18.875 11.75 \r\nQ 22.953125 6.109375 30.078125 6.109375 \r\nQ 37.203125 6.109375 41.296875 11.75 \r\nQ 45.40625 17.390625 45.40625 27.296875 \r\nQ 45.40625 37.203125 41.296875 42.84375 \r\nQ 37.203125 48.484375 30.078125 48.484375 \r\nQ 22.953125 48.484375 18.875 42.84375 \r\nQ 14.796875 37.203125 14.796875 27.296875 \r\nz\r\n\" id=\"DejaVuSans-100\"/>\r\n      <path d=\"M 2.984375 54.6875 \r\nL 12.5 54.6875 \r\nL 29.59375 8.796875 \r\nL 46.6875 54.6875 \r\nL 56.203125 54.6875 \r\nL 35.6875 0 \r\nL 23.484375 0 \r\nz\r\n\" id=\"DejaVuSans-118\"/>\r\n      <path id=\"DejaVuSans-32\"/>\r\n      <path d=\"M 10.59375 45.40625 \r\nL 73.1875 45.40625 \r\nL 73.1875 37.203125 \r\nL 10.59375 37.203125 \r\nz\r\nM 10.59375 25.484375 \r\nL 73.1875 25.484375 \r\nL 73.1875 17.1875 \r\nL 10.59375 17.1875 \r\nz\r\n\" id=\"DejaVuSans-61\"/>\r\n      <path d=\"M 31 75.875 \r\nQ 24.46875 64.65625 21.28125 53.65625 \r\nQ 18.109375 42.671875 18.109375 31.390625 \r\nQ 18.109375 20.125 21.3125 9.0625 \r\nQ 24.515625 -2 31 -13.1875 \r\nL 23.1875 -13.1875 \r\nQ 15.875 -1.703125 12.234375 9.375 \r\nQ 8.59375 20.453125 8.59375 31.390625 \r\nQ 8.59375 42.28125 12.203125 53.3125 \r\nQ 15.828125 64.359375 23.1875 75.875 \r\nz\r\n\" id=\"DejaVuSans-40\"/>\r\n      <path d=\"M 8.203125 72.90625 \r\nL 55.078125 72.90625 \r\nL 55.078125 68.703125 \r\nL 28.609375 0 \r\nL 18.3125 0 \r\nL 43.21875 64.59375 \r\nL 8.203125 64.59375 \r\nz\r\n\" id=\"DejaVuSans-55\"/>\r\n      <path d=\"M 10.984375 1.515625 \r\nL 10.984375 10.5 \r\nQ 14.703125 8.734375 18.5 7.8125 \r\nQ 22.3125 6.890625 25.984375 6.890625 \r\nQ 35.75 6.890625 40.890625 13.453125 \r\nQ 46.046875 20.015625 46.78125 33.40625 \r\nQ 43.953125 29.203125 39.59375 26.953125 \r\nQ 35.25 24.703125 29.984375 24.703125 \r\nQ 19.046875 24.703125 12.671875 31.3125 \r\nQ 6.296875 37.9375 6.296875 49.421875 \r\nQ 6.296875 60.640625 12.9375 67.421875 \r\nQ 19.578125 74.21875 30.609375 74.21875 \r\nQ 43.265625 74.21875 49.921875 64.515625 \r\nQ 56.59375 54.828125 56.59375 36.375 \r\nQ 56.59375 19.140625 48.40625 8.859375 \r\nQ 40.234375 -1.421875 26.421875 -1.421875 \r\nQ 22.703125 -1.421875 18.890625 -0.6875 \r\nQ 15.09375 0.046875 10.984375 1.515625 \r\nz\r\nM 30.609375 32.421875 \r\nQ 37.25 32.421875 41.125 36.953125 \r\nQ 45.015625 41.5 45.015625 49.421875 \r\nQ 45.015625 57.28125 41.125 61.84375 \r\nQ 37.25 66.40625 30.609375 66.40625 \r\nQ 23.96875 66.40625 20.09375 61.84375 \r\nQ 16.21875 57.28125 16.21875 49.421875 \r\nQ 16.21875 41.5 20.09375 36.953125 \r\nQ 23.96875 32.421875 30.609375 32.421875 \r\nz\r\n\" id=\"DejaVuSans-57\"/>\r\n      <path d=\"M 10.6875 12.40625 \r\nL 21 12.40625 \r\nL 21 0 \r\nL 10.6875 0 \r\nz\r\n\" id=\"DejaVuSans-46\"/>\r\n      <path d=\"M 31.78125 34.625 \r\nQ 24.75 34.625 20.71875 30.859375 \r\nQ 16.703125 27.09375 16.703125 20.515625 \r\nQ 16.703125 13.921875 20.71875 10.15625 \r\nQ 24.75 6.390625 31.78125 6.390625 \r\nQ 38.8125 6.390625 42.859375 10.171875 \r\nQ 46.921875 13.96875 46.921875 20.515625 \r\nQ 46.921875 27.09375 42.890625 30.859375 \r\nQ 38.875 34.625 31.78125 34.625 \r\nz\r\nM 21.921875 38.8125 \r\nQ 15.578125 40.375 12.03125 44.71875 \r\nQ 8.5 49.078125 8.5 55.328125 \r\nQ 8.5 64.0625 14.71875 69.140625 \r\nQ 20.953125 74.21875 31.78125 74.21875 \r\nQ 42.671875 74.21875 48.875 69.140625 \r\nQ 55.078125 64.0625 55.078125 55.328125 \r\nQ 55.078125 49.078125 51.53125 44.71875 \r\nQ 48 40.375 41.703125 38.8125 \r\nQ 48.828125 37.15625 52.796875 32.3125 \r\nQ 56.78125 27.484375 56.78125 20.515625 \r\nQ 56.78125 9.90625 50.3125 4.234375 \r\nQ 43.84375 -1.421875 31.78125 -1.421875 \r\nQ 19.734375 -1.421875 13.25 4.234375 \r\nQ 6.78125 9.90625 6.78125 20.515625 \r\nQ 6.78125 27.484375 10.78125 32.3125 \r\nQ 14.796875 37.15625 21.921875 38.8125 \r\nz\r\nM 18.3125 54.390625 \r\nQ 18.3125 48.734375 21.84375 45.5625 \r\nQ 25.390625 42.390625 31.78125 42.390625 \r\nQ 38.140625 42.390625 41.71875 45.5625 \r\nQ 45.3125 48.734375 45.3125 54.390625 \r\nQ 45.3125 60.0625 41.71875 63.234375 \r\nQ 38.140625 66.40625 31.78125 66.40625 \r\nQ 25.390625 66.40625 21.84375 63.234375 \r\nQ 18.3125 60.0625 18.3125 54.390625 \r\nz\r\n\" id=\"DejaVuSans-56\"/>\r\n      <path d=\"M 11.71875 12.40625 \r\nL 22.015625 12.40625 \r\nL 22.015625 4 \r\nL 14.015625 -11.625 \r\nL 7.71875 -11.625 \r\nL 11.71875 4 \r\nz\r\n\" id=\"DejaVuSans-44\"/>\r\n      <path d=\"M 8.015625 75.875 \r\nL 15.828125 75.875 \r\nQ 23.140625 64.359375 26.78125 53.3125 \r\nQ 30.421875 42.28125 30.421875 31.390625 \r\nQ 30.421875 20.453125 26.78125 9.375 \r\nQ 23.140625 -1.703125 15.828125 -13.1875 \r\nL 8.015625 -13.1875 \r\nQ 14.5 -2 17.703125 9.0625 \r\nQ 20.90625 20.125 20.90625 31.390625 \r\nQ 20.90625 42.671875 17.703125 53.65625 \r\nQ 14.5 64.65625 8.015625 75.875 \r\nz\r\n\" id=\"DejaVuSans-41\"/>\r\n      <path d=\"M 11.71875 51.703125 \r\nL 22.015625 51.703125 \r\nL 22.015625 39.3125 \r\nL 11.71875 39.3125 \r\nz\r\nM 11.71875 12.40625 \r\nL 22.015625 12.40625 \r\nL 22.015625 4 \r\nL 14.015625 -11.625 \r\nL 7.71875 -11.625 \r\nL 11.71875 4 \r\nz\r\n\" id=\"DejaVuSans-59\"/>\r\n      <path d=\"M 9.078125 75.984375 \r\nL 18.109375 75.984375 \r\nL 18.109375 31.109375 \r\nL 44.921875 54.6875 \r\nL 56.390625 54.6875 \r\nL 27.390625 29.109375 \r\nL 57.625 0 \r\nL 45.90625 0 \r\nL 18.109375 26.703125 \r\nL 18.109375 0 \r\nL 9.078125 0 \r\nz\r\n\" id=\"DejaVuSans-107\"/>\r\n     </defs>\r\n     <use xlink:href=\"#DejaVuSans-115\"/>\r\n     <use x=\"52.099609\" xlink:href=\"#DejaVuSans-116\"/>\r\n     <use x=\"91.308594\" xlink:href=\"#DejaVuSans-100\"/>\r\n     <use x=\"154.785156\" xlink:href=\"#DejaVuSans-95\"/>\r\n     <use x=\"204.785156\" xlink:href=\"#DejaVuSans-100\"/>\r\n     <use x=\"268.261719\" xlink:href=\"#DejaVuSans-101\"/>\r\n     <use x=\"329.785156\" xlink:href=\"#DejaVuSans-118\"/>\r\n     <use x=\"388.964844\" xlink:href=\"#DejaVuSans-32\"/>\r\n     <use x=\"420.751953\" xlink:href=\"#DejaVuSans-61\"/>\r\n     <use x=\"504.541016\" xlink:href=\"#DejaVuSans-32\"/>\r\n     <use x=\"536.328125\" xlink:href=\"#DejaVuSans-40\"/>\r\n     <use x=\"575.341797\" xlink:href=\"#DejaVuSans-55\"/>\r\n     <use x=\"638.964844\" xlink:href=\"#DejaVuSans-53\"/>\r\n     <use x=\"702.587891\" xlink:href=\"#DejaVuSans-57\"/>\r\n     <use x=\"766.210938\" xlink:href=\"#DejaVuSans-51\"/>\r\n     <use x=\"829.833984\" xlink:href=\"#DejaVuSans-46\"/>\r\n     <use x=\"861.621094\" xlink:href=\"#DejaVuSans-56\"/>\r\n     <use x=\"925.244141\" xlink:href=\"#DejaVuSans-56\"/>\r\n     <use x=\"988.867188\" xlink:href=\"#DejaVuSans-44\"/>\r\n     <use x=\"1020.654297\" xlink:href=\"#DejaVuSans-32\"/>\r\n     <use x=\"1052.441406\" xlink:href=\"#DejaVuSans-50\"/>\r\n     <use x=\"1116.064453\" xlink:href=\"#DejaVuSans-48\"/>\r\n     <use x=\"1179.6875\" xlink:href=\"#DejaVuSans-55\"/>\r\n     <use x=\"1243.310547\" xlink:href=\"#DejaVuSans-55\"/>\r\n     <use x=\"1306.933594\" xlink:href=\"#DejaVuSans-52\"/>\r\n     <use x=\"1370.556641\" xlink:href=\"#DejaVuSans-46\"/>\r\n     <use x=\"1402.34375\" xlink:href=\"#DejaVuSans-48\"/>\r\n     <use x=\"1465.966797\" xlink:href=\"#DejaVuSans-50\"/>\r\n     <use x=\"1529.589844\" xlink:href=\"#DejaVuSans-41\"/>\r\n     <use x=\"1568.603516\" xlink:href=\"#DejaVuSans-59\"/>\r\n     <use x=\"1602.294922\" xlink:href=\"#DejaVuSans-32\"/>\r\n     <use x=\"1634.082031\" xlink:href=\"#DejaVuSans-107\"/>\r\n     <use x=\"1688.867188\" xlink:href=\"#DejaVuSans-117\"/>\r\n     <use x=\"1752.246094\" xlink:href=\"#DejaVuSans-114\"/>\r\n     <use x=\"1793.359375\" xlink:href=\"#DejaVuSans-116\"/>\r\n     <use x=\"1832.568359\" xlink:href=\"#DejaVuSans-111\"/>\r\n     <use x=\"1893.75\" xlink:href=\"#DejaVuSans-115\"/>\r\n     <use x=\"1945.849609\" xlink:href=\"#DejaVuSans-105\"/>\r\n     <use x=\"1973.632812\" xlink:href=\"#DejaVuSans-115\"/>\r\n     <use x=\"2025.732422\" xlink:href=\"#DejaVuSans-32\"/>\r\n     <use x=\"2057.519531\" xlink:href=\"#DejaVuSans-61\"/>\r\n     <use x=\"2141.308594\" xlink:href=\"#DejaVuSans-32\"/>\r\n     <use x=\"2173.095703\" xlink:href=\"#DejaVuSans-48\"/>\r\n     <use x=\"2236.71875\" xlink:href=\"#DejaVuSans-46\"/>\r\n     <use x=\"2268.505859\" xlink:href=\"#DejaVuSans-52\"/>\r\n     <use x=\"2332.128906\" xlink:href=\"#DejaVuSans-50\"/>\r\n     <use x=\"2395.751953\" xlink:href=\"#DejaVuSans-59\"/>\r\n    </g>\r\n    <!-- skew = 0.78; range = (2280.0, 43350.4, 41070.4) -->\r\n    <g transform=\"translate(507.146477 30.08925)scale(0.12 -0.12)\">\r\n     <defs>\r\n      <path d=\"M 4.203125 54.6875 \r\nL 13.1875 54.6875 \r\nL 24.421875 12.015625 \r\nL 35.59375 54.6875 \r\nL 46.1875 54.6875 \r\nL 57.421875 12.015625 \r\nL 68.609375 54.6875 \r\nL 77.59375 54.6875 \r\nL 63.28125 0 \r\nL 52.6875 0 \r\nL 40.921875 44.828125 \r\nL 29.109375 0 \r\nL 18.5 0 \r\nz\r\n\" id=\"DejaVuSans-119\"/>\r\n      <path d=\"M 34.28125 27.484375 \r\nQ 23.390625 27.484375 19.1875 25 \r\nQ 14.984375 22.515625 14.984375 16.5 \r\nQ 14.984375 11.71875 18.140625 8.90625 \r\nQ 21.296875 6.109375 26.703125 6.109375 \r\nQ 34.1875 6.109375 38.703125 11.40625 \r\nQ 43.21875 16.703125 43.21875 25.484375 \r\nL 43.21875 27.484375 \r\nz\r\nM 52.203125 31.203125 \r\nL 52.203125 0 \r\nL 43.21875 0 \r\nL 43.21875 8.296875 \r\nQ 40.140625 3.328125 35.546875 0.953125 \r\nQ 30.953125 -1.421875 24.3125 -1.421875 \r\nQ 15.921875 -1.421875 10.953125 3.296875 \r\nQ 6 8.015625 6 15.921875 \r\nQ 6 25.140625 12.171875 29.828125 \r\nQ 18.359375 34.515625 30.609375 34.515625 \r\nL 43.21875 34.515625 \r\nL 43.21875 35.40625 \r\nQ 43.21875 41.609375 39.140625 45 \r\nQ 35.0625 48.390625 27.6875 48.390625 \r\nQ 23 48.390625 18.546875 47.265625 \r\nQ 14.109375 46.140625 10.015625 43.890625 \r\nL 10.015625 52.203125 \r\nQ 14.9375 54.109375 19.578125 55.046875 \r\nQ 24.21875 56 28.609375 56 \r\nQ 40.484375 56 46.34375 49.84375 \r\nQ 52.203125 43.703125 52.203125 31.203125 \r\nz\r\n\" id=\"DejaVuSans-97\"/>\r\n      <path d=\"M 45.40625 27.984375 \r\nQ 45.40625 37.75 41.375 43.109375 \r\nQ 37.359375 48.484375 30.078125 48.484375 \r\nQ 22.859375 48.484375 18.828125 43.109375 \r\nQ 14.796875 37.75 14.796875 27.984375 \r\nQ 14.796875 18.265625 18.828125 12.890625 \r\nQ 22.859375 7.515625 30.078125 7.515625 \r\nQ 37.359375 7.515625 41.375 12.890625 \r\nQ 45.40625 18.265625 45.40625 27.984375 \r\nz\r\nM 54.390625 6.78125 \r\nQ 54.390625 -7.171875 48.1875 -13.984375 \r\nQ 42 -20.796875 29.203125 -20.796875 \r\nQ 24.46875 -20.796875 20.265625 -20.09375 \r\nQ 16.0625 -19.390625 12.109375 -17.921875 \r\nL 12.109375 -9.1875 \r\nQ 16.0625 -11.328125 19.921875 -12.34375 \r\nQ 23.78125 -13.375 27.78125 -13.375 \r\nQ 36.625 -13.375 41.015625 -8.765625 \r\nQ 45.40625 -4.15625 45.40625 5.171875 \r\nL 45.40625 9.625 \r\nQ 42.625 4.78125 38.28125 2.390625 \r\nQ 33.9375 0 27.875 0 \r\nQ 17.828125 0 11.671875 7.65625 \r\nQ 5.515625 15.328125 5.515625 27.984375 \r\nQ 5.515625 40.671875 11.671875 48.328125 \r\nQ 17.828125 56 27.875 56 \r\nQ 33.9375 56 38.28125 53.609375 \r\nQ 42.625 51.21875 45.40625 46.390625 \r\nL 45.40625 54.6875 \r\nL 54.390625 54.6875 \r\nz\r\n\" id=\"DejaVuSans-103\"/>\r\n     </defs>\r\n     <use xlink:href=\"#DejaVuSans-115\"/>\r\n     <use x=\"52.099609\" xlink:href=\"#DejaVuSans-107\"/>\r\n     <use x=\"106.384766\" xlink:href=\"#DejaVuSans-101\"/>\r\n     <use x=\"167.908203\" xlink:href=\"#DejaVuSans-119\"/>\r\n     <use x=\"249.695312\" xlink:href=\"#DejaVuSans-32\"/>\r\n     <use x=\"281.482422\" xlink:href=\"#DejaVuSans-61\"/>\r\n     <use x=\"365.271484\" xlink:href=\"#DejaVuSans-32\"/>\r\n     <use x=\"397.058594\" xlink:href=\"#DejaVuSans-48\"/>\r\n     <use x=\"460.681641\" xlink:href=\"#DejaVuSans-46\"/>\r\n     <use x=\"492.46875\" xlink:href=\"#DejaVuSans-55\"/>\r\n     <use x=\"556.091797\" xlink:href=\"#DejaVuSans-56\"/>\r\n     <use x=\"619.714844\" xlink:href=\"#DejaVuSans-59\"/>\r\n     <use x=\"653.40625\" xlink:href=\"#DejaVuSans-32\"/>\r\n     <use x=\"685.193359\" xlink:href=\"#DejaVuSans-114\"/>\r\n     <use x=\"726.306641\" xlink:href=\"#DejaVuSans-97\"/>\r\n     <use x=\"787.585938\" xlink:href=\"#DejaVuSans-110\"/>\r\n     <use x=\"850.964844\" xlink:href=\"#DejaVuSans-103\"/>\r\n     <use x=\"914.441406\" xlink:href=\"#DejaVuSans-101\"/>\r\n     <use x=\"975.964844\" xlink:href=\"#DejaVuSans-32\"/>\r\n     <use x=\"1007.751953\" xlink:href=\"#DejaVuSans-61\"/>\r\n     <use x=\"1091.541016\" xlink:href=\"#DejaVuSans-32\"/>\r\n     <use x=\"1123.328125\" xlink:href=\"#DejaVuSans-40\"/>\r\n     <use x=\"1162.341797\" xlink:href=\"#DejaVuSans-50\"/>\r\n     <use x=\"1225.964844\" xlink:href=\"#DejaVuSans-50\"/>\r\n     <use x=\"1289.587891\" xlink:href=\"#DejaVuSans-56\"/>\r\n     <use x=\"1353.210938\" xlink:href=\"#DejaVuSans-48\"/>\r\n     <use x=\"1416.833984\" xlink:href=\"#DejaVuSans-46\"/>\r\n     <use x=\"1448.621094\" xlink:href=\"#DejaVuSans-48\"/>\r\n     <use x=\"1512.244141\" xlink:href=\"#DejaVuSans-44\"/>\r\n     <use x=\"1544.03125\" xlink:href=\"#DejaVuSans-32\"/>\r\n     <use x=\"1575.818359\" xlink:href=\"#DejaVuSans-52\"/>\r\n     <use x=\"1639.441406\" xlink:href=\"#DejaVuSans-51\"/>\r\n     <use x=\"1703.064453\" xlink:href=\"#DejaVuSans-51\"/>\r\n     <use x=\"1766.6875\" xlink:href=\"#DejaVuSans-53\"/>\r\n     <use x=\"1830.310547\" xlink:href=\"#DejaVuSans-48\"/>\r\n     <use x=\"1893.933594\" xlink:href=\"#DejaVuSans-46\"/>\r\n     <use x=\"1925.720703\" xlink:href=\"#DejaVuSans-52\"/>\r\n     <use x=\"1989.34375\" xlink:href=\"#DejaVuSans-44\"/>\r\n     <use x=\"2021.130859\" xlink:href=\"#DejaVuSans-32\"/>\r\n     <use x=\"2052.917969\" xlink:href=\"#DejaVuSans-52\"/>\r\n     <use x=\"2116.541016\" xlink:href=\"#DejaVuSans-49\"/>\r\n     <use x=\"2180.164062\" xlink:href=\"#DejaVuSans-48\"/>\r\n     <use x=\"2243.787109\" xlink:href=\"#DejaVuSans-55\"/>\r\n     <use x=\"2307.410156\" xlink:href=\"#DejaVuSans-48\"/>\r\n     <use x=\"2371.033203\" xlink:href=\"#DejaVuSans-46\"/>\r\n     <use x=\"2402.820312\" xlink:href=\"#DejaVuSans-52\"/>\r\n     <use x=\"2466.443359\" xlink:href=\"#DejaVuSans-41\"/>\r\n    </g>\r\n    <!-- mean = 14183.95; median =  13178.0 -->\r\n    <g transform=\"translate(541.006165 43.526625)scale(0.12 -0.12)\">\r\n     <use xlink:href=\"#DejaVuSans-109\"/>\r\n     <use x=\"97.412109\" xlink:href=\"#DejaVuSans-101\"/>\r\n     <use x=\"158.935547\" xlink:href=\"#DejaVuSans-97\"/>\r\n     <use x=\"220.214844\" xlink:href=\"#DejaVuSans-110\"/>\r\n     <use x=\"283.59375\" xlink:href=\"#DejaVuSans-32\"/>\r\n     <use x=\"315.380859\" xlink:href=\"#DejaVuSans-61\"/>\r\n     <use x=\"399.169922\" xlink:href=\"#DejaVuSans-32\"/>\r\n     <use x=\"430.957031\" xlink:href=\"#DejaVuSans-49\"/>\r\n     <use x=\"494.580078\" xlink:href=\"#DejaVuSans-52\"/>\r\n     <use x=\"558.203125\" xlink:href=\"#DejaVuSans-49\"/>\r\n     <use x=\"621.826172\" xlink:href=\"#DejaVuSans-56\"/>\r\n     <use x=\"685.449219\" xlink:href=\"#DejaVuSans-51\"/>\r\n     <use x=\"749.072266\" xlink:href=\"#DejaVuSans-46\"/>\r\n     <use x=\"780.859375\" xlink:href=\"#DejaVuSans-57\"/>\r\n     <use x=\"844.482422\" xlink:href=\"#DejaVuSans-53\"/>\r\n     <use x=\"908.105469\" xlink:href=\"#DejaVuSans-59\"/>\r\n     <use x=\"941.796875\" xlink:href=\"#DejaVuSans-32\"/>\r\n     <use x=\"973.583984\" xlink:href=\"#DejaVuSans-109\"/>\r\n     <use x=\"1070.996094\" xlink:href=\"#DejaVuSans-101\"/>\r\n     <use x=\"1132.519531\" xlink:href=\"#DejaVuSans-100\"/>\r\n     <use x=\"1195.996094\" xlink:href=\"#DejaVuSans-105\"/>\r\n     <use x=\"1223.779297\" xlink:href=\"#DejaVuSans-97\"/>\r\n     <use x=\"1285.058594\" xlink:href=\"#DejaVuSans-110\"/>\r\n     <use x=\"1348.4375\" xlink:href=\"#DejaVuSans-32\"/>\r\n     <use x=\"1380.224609\" xlink:href=\"#DejaVuSans-61\"/>\r\n     <use x=\"1464.013672\" xlink:href=\"#DejaVuSans-32\"/>\r\n     <use x=\"1495.800781\" xlink:href=\"#DejaVuSans-32\"/>\r\n     <use x=\"1527.587891\" xlink:href=\"#DejaVuSans-49\"/>\r\n     <use x=\"1591.210938\" xlink:href=\"#DejaVuSans-51\"/>\r\n     <use x=\"1654.833984\" xlink:href=\"#DejaVuSans-49\"/>\r\n     <use x=\"1718.457031\" xlink:href=\"#DejaVuSans-55\"/>\r\n     <use x=\"1782.080078\" xlink:href=\"#DejaVuSans-56\"/>\r\n     <use x=\"1845.703125\" xlink:href=\"#DejaVuSans-46\"/>\r\n     <use x=\"1877.490234\" xlink:href=\"#DejaVuSans-48\"/>\r\n    </g>\r\n   </g>\r\n   <g id=\"legend_1\">\r\n    <g id=\"patch_63\">\r\n     <path d=\"M 764.6875 116.51725 \r\nL 840.7 116.51725 \r\nQ 842.7 116.51725 842.7 114.51725 \r\nL 842.7 56.526625 \r\nQ 842.7 54.526625 840.7 54.526625 \r\nL 764.6875 54.526625 \r\nQ 762.6875 54.526625 762.6875 56.526625 \r\nL 762.6875 114.51725 \r\nQ 762.6875 116.51725 764.6875 116.51725 \r\nz\r\n\" style=\"fill:#ffffff;opacity:0.8;stroke:#cccccc;stroke-linejoin:miter;\"/>\r\n    </g>\r\n    <g id=\"line2d_26\">\r\n     <path d=\"M 766.6875 62.625062 \r\nL 786.6875 62.625062 \r\n\" style=\"fill:none;stroke:#000000;stroke-linecap:square;stroke-width:1.5;\"/>\r\n    </g>\r\n    <g id=\"line2d_27\"/>\r\n    <g id=\"text_22\">\r\n     <!-- std_dev -->\r\n     <g transform=\"translate(794.6875 66.125062)scale(0.1 -0.1)\">\r\n      <use xlink:href=\"#DejaVuSans-115\"/>\r\n      <use x=\"52.099609\" xlink:href=\"#DejaVuSans-116\"/>\r\n      <use x=\"91.308594\" xlink:href=\"#DejaVuSans-100\"/>\r\n      <use x=\"154.785156\" xlink:href=\"#DejaVuSans-95\"/>\r\n      <use x=\"204.785156\" xlink:href=\"#DejaVuSans-100\"/>\r\n      <use x=\"268.261719\" xlink:href=\"#DejaVuSans-101\"/>\r\n      <use x=\"329.785156\" xlink:href=\"#DejaVuSans-118\"/>\r\n     </g>\r\n    </g>\r\n    <g id=\"PathCollection_4\">\r\n     <g>\r\n      <use style=\"fill:#ffa500;stroke:#ffffff;stroke-width:0.48;\" x=\"776.6875\" xlink:href=\"#mc3d374f743\" y=\"78.456312\"/>\r\n     </g>\r\n    </g>\r\n    <g id=\"text_23\">\r\n     <!-- min/max -->\r\n     <g transform=\"translate(794.6875 81.081312)scale(0.1 -0.1)\">\r\n      <defs>\r\n       <path d=\"M 25.390625 72.90625 \r\nL 33.6875 72.90625 \r\nL 8.296875 -9.28125 \r\nL 0 -9.28125 \r\nz\r\n\" id=\"DejaVuSans-47\"/>\r\n       <path d=\"M 54.890625 54.6875 \r\nL 35.109375 28.078125 \r\nL 55.90625 0 \r\nL 45.3125 0 \r\nL 29.390625 21.484375 \r\nL 13.484375 0 \r\nL 2.875 0 \r\nL 24.125 28.609375 \r\nL 4.6875 54.6875 \r\nL 15.28125 54.6875 \r\nL 29.78125 35.203125 \r\nL 44.28125 54.6875 \r\nz\r\n\" id=\"DejaVuSans-120\"/>\r\n      </defs>\r\n      <use xlink:href=\"#DejaVuSans-109\"/>\r\n      <use x=\"97.412109\" xlink:href=\"#DejaVuSans-105\"/>\r\n      <use x=\"125.195312\" xlink:href=\"#DejaVuSans-110\"/>\r\n      <use x=\"188.574219\" xlink:href=\"#DejaVuSans-47\"/>\r\n      <use x=\"222.265625\" xlink:href=\"#DejaVuSans-109\"/>\r\n      <use x=\"319.677734\" xlink:href=\"#DejaVuSans-97\"/>\r\n      <use x=\"380.957031\" xlink:href=\"#DejaVuSans-120\"/>\r\n     </g>\r\n    </g>\r\n    <g id=\"PathCollection_5\">\r\n     <g>\r\n      <use style=\"fill:#ff0000;stroke:#ffffff;stroke-width:0.48;\" x=\"776.6875\" xlink:href=\"#m0d0a5b2f4b\" y=\"93.134437\"/>\r\n     </g>\r\n    </g>\r\n    <g id=\"text_24\">\r\n     <!-- mean -->\r\n     <g transform=\"translate(794.6875 95.759437)scale(0.1 -0.1)\">\r\n      <use xlink:href=\"#DejaVuSans-109\"/>\r\n      <use x=\"97.412109\" xlink:href=\"#DejaVuSans-101\"/>\r\n      <use x=\"158.935547\" xlink:href=\"#DejaVuSans-97\"/>\r\n      <use x=\"220.214844\" xlink:href=\"#DejaVuSans-110\"/>\r\n     </g>\r\n    </g>\r\n    <g id=\"PathCollection_6\">\r\n     <g>\r\n      <use style=\"fill:#0000ff;stroke:#ffffff;stroke-width:0.48;\" x=\"776.6875\" xlink:href=\"#m486530e29a\" y=\"107.812562\"/>\r\n     </g>\r\n    </g>\r\n    <g id=\"text_25\">\r\n     <!-- median -->\r\n     <g transform=\"translate(794.6875 110.437562)scale(0.1 -0.1)\">\r\n      <use xlink:href=\"#DejaVuSans-109\"/>\r\n      <use x=\"97.412109\" xlink:href=\"#DejaVuSans-101\"/>\r\n      <use x=\"158.935547\" xlink:href=\"#DejaVuSans-100\"/>\r\n      <use x=\"222.412109\" xlink:href=\"#DejaVuSans-105\"/>\r\n      <use x=\"250.195312\" xlink:href=\"#DejaVuSans-97\"/>\r\n      <use x=\"311.474609\" xlink:href=\"#DejaVuSans-110\"/>\r\n     </g>\r\n    </g>\r\n   </g>\r\n  </g>\r\n </g>\r\n <defs>\r\n  <clipPath id=\"pe97f0b13b5\">\r\n   <rect height=\"271.8\" width=\"380.454545\" x=\"10.7\" y=\"49.526625\"/>\r\n  </clipPath>\r\n  <clipPath id=\"pcc851bbb52\">\r\n   <rect height=\"271.8\" width=\"380.454545\" x=\"467.245455\" y=\"49.526625\"/>\r\n  </clipPath>\r\n </defs>\r\n</svg>\r\n",
      "image/png": "[encoded data removed]"
     },
     "metadata": {
      "needs_background": "light"
     }
    }
   ],
   "source": [
    " plot_cont_kde('Reco_Policy_Premium',15,5)"
   ]
  },
  {
   "cell_type": "code",
   "execution_count": 140,
   "metadata": {},
   "outputs": [
    {
     "output_type": "display_data",
     "data": {
      "text/plain": "<Figure size 720x360 with 1 Axes>",
      "image/svg+xml": "<?xml version=\"1.0\" encoding=\"utf-8\" standalone=\"no\"?>\r\n<!DOCTYPE svg PUBLIC \"-//W3C//DTD SVG 1.1//EN\"\r\n  \"http://www.w3.org/Graphics/SVG/1.1/DTD/svg11.dtd\">\r\n<!-- Created with matplotlib (https://matplotlib.org/) -->\r\n<svg height=\"316.834375pt\" version=\"1.1\" viewBox=\"0 0 618.528125 316.834375\" width=\"618.528125pt\" xmlns=\"http://www.w3.org/2000/svg\" xmlns:xlink=\"http://www.w3.org/1999/xlink\">\r\n <metadata>\r\n  <rdf:RDF xmlns:cc=\"http://creativecommons.org/ns#\" xmlns:dc=\"http://purl.org/dc/elements/1.1/\" xmlns:rdf=\"http://www.w3.org/1999/02/22-rdf-syntax-ns#\">\r\n   <cc:Work>\r\n    <dc:type rdf:resource=\"http://purl.org/dc/dcmitype/StillImage\"/>\r\n    <dc:date>2021-02-28T21:39:15.731255</dc:date>\r\n    <dc:format>image/svg+xml</dc:format>\r\n    <dc:creator>\r\n     <cc:Agent>\r\n      <dc:title>Matplotlib v3.3.4, https://matplotlib.org/</dc:title>\r\n     </cc:Agent>\r\n    </dc:creator>\r\n   </cc:Work>\r\n  </rdf:RDF>\r\n </metadata>\r\n <defs>\r\n  <style type=\"text/css\">*{stroke-linecap:butt;stroke-linejoin:round;}</style>\r\n </defs>\r\n <g id=\"figure_1\">\r\n  <g id=\"patch_1\">\r\n   <path d=\"M 0 316.834375 \r\nL 618.528125 316.834375 \r\nL 618.528125 0 \r\nL 0 0 \r\nz\r\n\" style=\"fill:none;\"/>\r\n  </g>\r\n  <g id=\"axes_1\">\r\n   <g id=\"patch_2\">\r\n    <path d=\"M 53.328125 279 \r\nL 611.328125 279 \r\nL 611.328125 7.2 \r\nL 53.328125 7.2 \r\nz\r\n\" style=\"fill:#ffffff;\"/>\r\n   </g>\r\n   <g id=\"patch_3\">\r\n    <path clip-path=\"url(#p733911c32c)\" d=\"M 55.864489 279 \r\nL 76.155398 279 \r\nL 76.155398 20.142857 \r\nL 55.864489 20.142857 \r\nz\r\n\" style=\"fill:#ea96a3;\"/>\r\n   </g>\r\n   <g id=\"patch_4\">\r\n    <path clip-path=\"url(#p733911c32c)\" d=\"M 81.228125 279 \r\nL 101.519034 279 \r\nL 101.519034 61.272991 \r\nL 81.228125 61.272991 \r\nz\r\n\" style=\"fill:#e89687;\"/>\r\n   </g>\r\n   <g id=\"patch_5\">\r\n    <path clip-path=\"url(#p733911c32c)\" d=\"M 106.591761 279 \r\nL 126.88267 279 \r\nL 126.88267 81.896871 \r\nL 106.591761 81.896871 \r\nz\r\n\" style=\"fill:#dc924e;\"/>\r\n   </g>\r\n   <g id=\"patch_6\">\r\n    <path clip-path=\"url(#p733911c32c)\" d=\"M 131.955398 279 \r\nL 152.246307 279 \r\nL 152.246307 118.870862 \r\nL 131.955398 118.870862 \r\nz\r\n\" style=\"fill:#c5994b;\"/>\r\n   </g>\r\n   <g id=\"patch_7\">\r\n    <path clip-path=\"url(#p733911c32c)\" d=\"M 157.319034 279 \r\nL 177.609943 279 \r\nL 177.609943 131.73138 \r\nL 157.319034 131.73138 \r\nz\r\n\" style=\"fill:#b39d48;\"/>\r\n   </g>\r\n   <g id=\"patch_8\">\r\n    <path clip-path=\"url(#p733911c32c)\" d=\"M 182.68267 279 \r\nL 202.97358 279 \r\nL 202.97358 133.613407 \r\nL 182.68267 133.613407 \r\nz\r\n\" style=\"fill:#a09f45;\"/>\r\n   </g>\r\n   <g id=\"patch_9\">\r\n    <path clip-path=\"url(#p733911c32c)\" d=\"M 208.046307 279 \r\nL 228.337216 279 \r\nL 228.337216 154.433332 \r\nL 208.046307 154.433332 \r\nz\r\n\" style=\"fill:#8ea546;\"/>\r\n   </g>\r\n   <g id=\"patch_10\">\r\n    <path clip-path=\"url(#p733911c32c)\" d=\"M 233.409943 279 \r\nL 253.700852 279 \r\nL 253.700852 193.99511 \r\nL 233.409943 193.99511 \r\nz\r\n\" style=\"fill:#71ac47;\"/>\r\n   </g>\r\n   <g id=\"patch_11\">\r\n    <path clip-path=\"url(#p733911c32c)\" d=\"M 258.77358 279 \r\nL 279.064489 279 \r\nL 279.064489 201.876098 \r\nL 258.77358 201.876098 \r\nz\r\n\" style=\"fill:#48b067;\"/>\r\n   </g>\r\n   <g id=\"patch_12\">\r\n    <path clip-path=\"url(#p733911c32c)\" d=\"M 284.137216 279 \r\nL 304.428125 279 \r\nL 304.428125 203.836543 \r\nL 284.137216 203.836543 \r\nz\r\n\" style=\"fill:#49ae87;\"/>\r\n   </g>\r\n   <g id=\"patch_13\">\r\n    <path clip-path=\"url(#p733911c32c)\" d=\"M 309.500852 279 \r\nL 329.791761 279 \r\nL 329.791761 210.6981 \r\nL 309.500852 210.6981 \r\nz\r\n\" style=\"fill:#4aac98;\"/>\r\n   </g>\r\n   <g id=\"patch_14\">\r\n    <path clip-path=\"url(#p733911c32c)\" d=\"M 334.864489 279 \r\nL 355.155398 279 \r\nL 355.155398 212.972216 \r\nL 334.864489 212.972216 \r\nz\r\n\" style=\"fill:#4baba4;\"/>\r\n   </g>\r\n   <g id=\"patch_15\">\r\n    <path clip-path=\"url(#p733911c32c)\" d=\"M 360.228125 279 \r\nL 380.519034 279 \r\nL 380.519034 215.67763 \r\nL 360.228125 215.67763 \r\nz\r\n\" style=\"fill:#4dabb0;\"/>\r\n   </g>\r\n   <g id=\"patch_16\">\r\n    <path clip-path=\"url(#p733911c32c)\" d=\"M 385.591761 279 \r\nL 405.88267 279 \r\nL 405.88267 237.477777 \r\nL 385.591761 237.477777 \r\nz\r\n\" style=\"fill:#50acbf;\"/>\r\n   </g>\r\n   <g id=\"patch_17\">\r\n    <path clip-path=\"url(#p733911c32c)\" d=\"M 410.955398 279 \r\nL 431.246307 279 \r\nL 431.246307 239.202969 \r\nL 410.955398 239.202969 \r\nz\r\n\" style=\"fill:#54acd3;\"/>\r\n   </g>\r\n   <g id=\"patch_18\">\r\n    <path clip-path=\"url(#p733911c32c)\" d=\"M 436.319034 279 \r\nL 456.609943 279 \r\nL 456.609943 239.51664 \r\nL 436.319034 239.51664 \r\nz\r\n\" style=\"fill:#82aee5;\"/>\r\n   </g>\r\n   <g id=\"patch_19\">\r\n    <path clip-path=\"url(#p733911c32c)\" d=\"M 461.68267 279 \r\nL 481.97358 279 \r\nL 481.97358 245.633228 \r\nL 461.68267 245.633228 \r\nz\r\n\" style=\"fill:#a9aceb;\"/>\r\n   </g>\r\n   <g id=\"patch_20\">\r\n    <path clip-path=\"url(#p733911c32c)\" d=\"M 487.046307 279 \r\nL 507.337216 279 \r\nL 507.337216 246.299779 \r\nL 487.046307 246.299779 \r\nz\r\n\" style=\"fill:#c1a2ea;\"/>\r\n   </g>\r\n   <g id=\"patch_21\">\r\n    <path clip-path=\"url(#p733911c32c)\" d=\"M 512.409943 279 \r\nL 532.700852 279 \r\nL 532.700852 248.06418 \r\nL 512.409943 248.06418 \r\nz\r\n\" style=\"fill:#d795e8;\"/>\r\n   </g>\r\n   <g id=\"patch_22\">\r\n    <path clip-path=\"url(#p733911c32c)\" d=\"M 537.77358 279 \r\nL 558.064489 279 \r\nL 558.064489 248.377851 \r\nL 537.77358 248.377851 \r\nz\r\n\" style=\"fill:#e78bdd;\"/>\r\n   </g>\r\n   <g id=\"patch_23\">\r\n    <path clip-path=\"url(#p733911c32c)\" d=\"M 563.137216 279 \r\nL 583.428125 279 \r\nL 583.428125 248.573895 \r\nL 563.137216 248.573895 \r\nz\r\n\" style=\"fill:#e88fc9;\"/>\r\n   </g>\r\n   <g id=\"patch_24\">\r\n    <path clip-path=\"url(#p733911c32c)\" d=\"M 588.500852 279 \r\nL 608.791761 279 \r\nL 608.791761 248.809149 \r\nL 588.500852 248.809149 \r\nz\r\n\" style=\"fill:#e993b7;\"/>\r\n   </g>\r\n   <g id=\"matplotlib.axis_1\">\r\n    <g id=\"xtick_1\">\r\n     <g id=\"line2d_1\">\r\n      <defs>\r\n       <path d=\"M 0 0 \r\nL 0 3.5 \r\n\" id=\"m630a3b0511\" style=\"stroke:#000000;stroke-width:0.8;\"/>\r\n      </defs>\r\n      <g>\r\n       <use style=\"stroke:#000000;stroke-width:0.8;\" x=\"66.009943\" xlink:href=\"#m630a3b0511\" y=\"279\"/>\r\n      </g>\r\n     </g>\r\n     <g id=\"text_1\">\r\n      <!-- 22 -->\r\n      <g transform=\"translate(59.647443 293.598437)scale(0.1 -0.1)\">\r\n       <defs>\r\n        <path d=\"M 19.1875 8.296875 \r\nL 53.609375 8.296875 \r\nL 53.609375 0 \r\nL 7.328125 0 \r\nL 7.328125 8.296875 \r\nQ 12.9375 14.109375 22.625 23.890625 \r\nQ 32.328125 33.6875 34.8125 36.53125 \r\nQ 39.546875 41.84375 41.421875 45.53125 \r\nQ 43.3125 49.21875 43.3125 52.78125 \r\nQ 43.3125 58.59375 39.234375 62.25 \r\nQ 35.15625 65.921875 28.609375 65.921875 \r\nQ 23.96875 65.921875 18.8125 64.3125 \r\nQ 13.671875 62.703125 7.8125 59.421875 \r\nL 7.8125 69.390625 \r\nQ 13.765625 71.78125 18.9375 73 \r\nQ 24.125 74.21875 28.421875 74.21875 \r\nQ 39.75 74.21875 46.484375 68.546875 \r\nQ 53.21875 62.890625 53.21875 53.421875 \r\nQ 53.21875 48.921875 51.53125 44.890625 \r\nQ 49.859375 40.875 45.40625 35.40625 \r\nQ 44.1875 33.984375 37.640625 27.21875 \r\nQ 31.109375 20.453125 19.1875 8.296875 \r\nz\r\n\" id=\"DejaVuSans-50\"/>\r\n       </defs>\r\n       <use xlink:href=\"#DejaVuSans-50\"/>\r\n       <use x=\"63.623047\" xlink:href=\"#DejaVuSans-50\"/>\r\n      </g>\r\n     </g>\r\n    </g>\r\n    <g id=\"xtick_2\">\r\n     <g id=\"line2d_2\">\r\n      <g>\r\n       <use style=\"stroke:#000000;stroke-width:0.8;\" x=\"91.37358\" xlink:href=\"#m630a3b0511\" y=\"279\"/>\r\n      </g>\r\n     </g>\r\n     <g id=\"text_2\">\r\n      <!-- 18 -->\r\n      <g transform=\"translate(85.01108 293.598437)scale(0.1 -0.1)\">\r\n       <defs>\r\n        <path d=\"M 12.40625 8.296875 \r\nL 28.515625 8.296875 \r\nL 28.515625 63.921875 \r\nL 10.984375 60.40625 \r\nL 10.984375 69.390625 \r\nL 28.421875 72.90625 \r\nL 38.28125 72.90625 \r\nL 38.28125 8.296875 \r\nL 54.390625 8.296875 \r\nL 54.390625 0 \r\nL 12.40625 0 \r\nz\r\n\" id=\"DejaVuSans-49\"/>\r\n        <path d=\"M 31.78125 34.625 \r\nQ 24.75 34.625 20.71875 30.859375 \r\nQ 16.703125 27.09375 16.703125 20.515625 \r\nQ 16.703125 13.921875 20.71875 10.15625 \r\nQ 24.75 6.390625 31.78125 6.390625 \r\nQ 38.8125 6.390625 42.859375 10.171875 \r\nQ 46.921875 13.96875 46.921875 20.515625 \r\nQ 46.921875 27.09375 42.890625 30.859375 \r\nQ 38.875 34.625 31.78125 34.625 \r\nz\r\nM 21.921875 38.8125 \r\nQ 15.578125 40.375 12.03125 44.71875 \r\nQ 8.5 49.078125 8.5 55.328125 \r\nQ 8.5 64.0625 14.71875 69.140625 \r\nQ 20.953125 74.21875 31.78125 74.21875 \r\nQ 42.671875 74.21875 48.875 69.140625 \r\nQ 55.078125 64.0625 55.078125 55.328125 \r\nQ 55.078125 49.078125 51.53125 44.71875 \r\nQ 48 40.375 41.703125 38.8125 \r\nQ 48.828125 37.15625 52.796875 32.3125 \r\nQ 56.78125 27.484375 56.78125 20.515625 \r\nQ 56.78125 9.90625 50.3125 4.234375 \r\nQ 43.84375 -1.421875 31.78125 -1.421875 \r\nQ 19.734375 -1.421875 13.25 4.234375 \r\nQ 6.78125 9.90625 6.78125 20.515625 \r\nQ 6.78125 27.484375 10.78125 32.3125 \r\nQ 14.796875 37.15625 21.921875 38.8125 \r\nz\r\nM 18.3125 54.390625 \r\nQ 18.3125 48.734375 21.84375 45.5625 \r\nQ 25.390625 42.390625 31.78125 42.390625 \r\nQ 38.140625 42.390625 41.71875 45.5625 \r\nQ 45.3125 48.734375 45.3125 54.390625 \r\nQ 45.3125 60.0625 41.71875 63.234375 \r\nQ 38.140625 66.40625 31.78125 66.40625 \r\nQ 25.390625 66.40625 21.84375 63.234375 \r\nQ 18.3125 60.0625 18.3125 54.390625 \r\nz\r\n\" id=\"DejaVuSans-56\"/>\r\n       </defs>\r\n       <use xlink:href=\"#DejaVuSans-49\"/>\r\n       <use x=\"63.623047\" xlink:href=\"#DejaVuSans-56\"/>\r\n      </g>\r\n     </g>\r\n    </g>\r\n    <g id=\"xtick_3\">\r\n     <g id=\"line2d_3\">\r\n      <g>\r\n       <use style=\"stroke:#000000;stroke-width:0.8;\" x=\"116.737216\" xlink:href=\"#m630a3b0511\" y=\"279\"/>\r\n      </g>\r\n     </g>\r\n     <g id=\"text_3\">\r\n      <!-- 21 -->\r\n      <g transform=\"translate(110.374716 293.598437)scale(0.1 -0.1)\">\r\n       <use xlink:href=\"#DejaVuSans-50\"/>\r\n       <use x=\"63.623047\" xlink:href=\"#DejaVuSans-49\"/>\r\n      </g>\r\n     </g>\r\n    </g>\r\n    <g id=\"xtick_4\">\r\n     <g id=\"line2d_4\">\r\n      <g>\r\n       <use style=\"stroke:#000000;stroke-width:0.8;\" x=\"142.100852\" xlink:href=\"#m630a3b0511\" y=\"279\"/>\r\n      </g>\r\n     </g>\r\n     <g id=\"text_4\">\r\n      <!-- 16 -->\r\n      <g transform=\"translate(135.738352 293.598437)scale(0.1 -0.1)\">\r\n       <defs>\r\n        <path d=\"M 33.015625 40.375 \r\nQ 26.375 40.375 22.484375 35.828125 \r\nQ 18.609375 31.296875 18.609375 23.390625 \r\nQ 18.609375 15.53125 22.484375 10.953125 \r\nQ 26.375 6.390625 33.015625 6.390625 \r\nQ 39.65625 6.390625 43.53125 10.953125 \r\nQ 47.40625 15.53125 47.40625 23.390625 \r\nQ 47.40625 31.296875 43.53125 35.828125 \r\nQ 39.65625 40.375 33.015625 40.375 \r\nz\r\nM 52.59375 71.296875 \r\nL 52.59375 62.3125 \r\nQ 48.875 64.0625 45.09375 64.984375 \r\nQ 41.3125 65.921875 37.59375 65.921875 \r\nQ 27.828125 65.921875 22.671875 59.328125 \r\nQ 17.53125 52.734375 16.796875 39.40625 \r\nQ 19.671875 43.65625 24.015625 45.921875 \r\nQ 28.375 48.1875 33.59375 48.1875 \r\nQ 44.578125 48.1875 50.953125 41.515625 \r\nQ 57.328125 34.859375 57.328125 23.390625 \r\nQ 57.328125 12.15625 50.6875 5.359375 \r\nQ 44.046875 -1.421875 33.015625 -1.421875 \r\nQ 20.359375 -1.421875 13.671875 8.265625 \r\nQ 6.984375 17.96875 6.984375 36.375 \r\nQ 6.984375 53.65625 15.1875 63.9375 \r\nQ 23.390625 74.21875 37.203125 74.21875 \r\nQ 40.921875 74.21875 44.703125 73.484375 \r\nQ 48.484375 72.75 52.59375 71.296875 \r\nz\r\n\" id=\"DejaVuSans-54\"/>\r\n       </defs>\r\n       <use xlink:href=\"#DejaVuSans-49\"/>\r\n       <use x=\"63.623047\" xlink:href=\"#DejaVuSans-54\"/>\r\n      </g>\r\n     </g>\r\n    </g>\r\n    <g id=\"xtick_5\">\r\n     <g id=\"line2d_5\">\r\n      <g>\r\n       <use style=\"stroke:#000000;stroke-width:0.8;\" x=\"167.464489\" xlink:href=\"#m630a3b0511\" y=\"279\"/>\r\n      </g>\r\n     </g>\r\n     <g id=\"text_5\">\r\n      <!-- 17 -->\r\n      <g transform=\"translate(161.101989 293.598437)scale(0.1 -0.1)\">\r\n       <defs>\r\n        <path d=\"M 8.203125 72.90625 \r\nL 55.078125 72.90625 \r\nL 55.078125 68.703125 \r\nL 28.609375 0 \r\nL 18.3125 0 \r\nL 43.21875 64.59375 \r\nL 8.203125 64.59375 \r\nz\r\n\" id=\"DejaVuSans-55\"/>\r\n       </defs>\r\n       <use xlink:href=\"#DejaVuSans-49\"/>\r\n       <use x=\"63.623047\" xlink:href=\"#DejaVuSans-55\"/>\r\n      </g>\r\n     </g>\r\n    </g>\r\n    <g id=\"xtick_6\">\r\n     <g id=\"line2d_6\">\r\n      <g>\r\n       <use style=\"stroke:#000000;stroke-width:0.8;\" x=\"192.828125\" xlink:href=\"#m630a3b0511\" y=\"279\"/>\r\n      </g>\r\n     </g>\r\n     <g id=\"text_6\">\r\n      <!-- 19 -->\r\n      <g transform=\"translate(186.465625 293.598437)scale(0.1 -0.1)\">\r\n       <defs>\r\n        <path d=\"M 10.984375 1.515625 \r\nL 10.984375 10.5 \r\nQ 14.703125 8.734375 18.5 7.8125 \r\nQ 22.3125 6.890625 25.984375 6.890625 \r\nQ 35.75 6.890625 40.890625 13.453125 \r\nQ 46.046875 20.015625 46.78125 33.40625 \r\nQ 43.953125 29.203125 39.59375 26.953125 \r\nQ 35.25 24.703125 29.984375 24.703125 \r\nQ 19.046875 24.703125 12.671875 31.3125 \r\nQ 6.296875 37.9375 6.296875 49.421875 \r\nQ 6.296875 60.640625 12.9375 67.421875 \r\nQ 19.578125 74.21875 30.609375 74.21875 \r\nQ 43.265625 74.21875 49.921875 64.515625 \r\nQ 56.59375 54.828125 56.59375 36.375 \r\nQ 56.59375 19.140625 48.40625 8.859375 \r\nQ 40.234375 -1.421875 26.421875 -1.421875 \r\nQ 22.703125 -1.421875 18.890625 -0.6875 \r\nQ 15.09375 0.046875 10.984375 1.515625 \r\nz\r\nM 30.609375 32.421875 \r\nQ 37.25 32.421875 41.125 36.953125 \r\nQ 45.015625 41.5 45.015625 49.421875 \r\nQ 45.015625 57.28125 41.125 61.84375 \r\nQ 37.25 66.40625 30.609375 66.40625 \r\nQ 23.96875 66.40625 20.09375 61.84375 \r\nQ 16.21875 57.28125 16.21875 49.421875 \r\nQ 16.21875 41.5 20.09375 36.953125 \r\nQ 23.96875 32.421875 30.609375 32.421875 \r\nz\r\n\" id=\"DejaVuSans-57\"/>\r\n       </defs>\r\n       <use xlink:href=\"#DejaVuSans-49\"/>\r\n       <use x=\"63.623047\" xlink:href=\"#DejaVuSans-57\"/>\r\n      </g>\r\n     </g>\r\n    </g>\r\n    <g id=\"xtick_7\">\r\n     <g id=\"line2d_7\">\r\n      <g>\r\n       <use style=\"stroke:#000000;stroke-width:0.8;\" x=\"218.191761\" xlink:href=\"#m630a3b0511\" y=\"279\"/>\r\n      </g>\r\n     </g>\r\n     <g id=\"text_7\">\r\n      <!-- 20 -->\r\n      <g transform=\"translate(211.829261 293.598437)scale(0.1 -0.1)\">\r\n       <defs>\r\n        <path d=\"M 31.78125 66.40625 \r\nQ 24.171875 66.40625 20.328125 58.90625 \r\nQ 16.5 51.421875 16.5 36.375 \r\nQ 16.5 21.390625 20.328125 13.890625 \r\nQ 24.171875 6.390625 31.78125 6.390625 \r\nQ 39.453125 6.390625 43.28125 13.890625 \r\nQ 47.125 21.390625 47.125 36.375 \r\nQ 47.125 51.421875 43.28125 58.90625 \r\nQ 39.453125 66.40625 31.78125 66.40625 \r\nz\r\nM 31.78125 74.21875 \r\nQ 44.046875 74.21875 50.515625 64.515625 \r\nQ 56.984375 54.828125 56.984375 36.375 \r\nQ 56.984375 17.96875 50.515625 8.265625 \r\nQ 44.046875 -1.421875 31.78125 -1.421875 \r\nQ 19.53125 -1.421875 13.0625 8.265625 \r\nQ 6.59375 17.96875 6.59375 36.375 \r\nQ 6.59375 54.828125 13.0625 64.515625 \r\nQ 19.53125 74.21875 31.78125 74.21875 \r\nz\r\n\" id=\"DejaVuSans-48\"/>\r\n       </defs>\r\n       <use xlink:href=\"#DejaVuSans-50\"/>\r\n       <use x=\"63.623047\" xlink:href=\"#DejaVuSans-48\"/>\r\n      </g>\r\n     </g>\r\n    </g>\r\n    <g id=\"xtick_8\">\r\n     <g id=\"line2d_8\">\r\n      <g>\r\n       <use style=\"stroke:#000000;stroke-width:0.8;\" x=\"243.555398\" xlink:href=\"#m630a3b0511\" y=\"279\"/>\r\n      </g>\r\n     </g>\r\n     <g id=\"text_8\">\r\n      <!-- 12 -->\r\n      <g transform=\"translate(237.192898 293.598437)scale(0.1 -0.1)\">\r\n       <use xlink:href=\"#DejaVuSans-49\"/>\r\n       <use x=\"63.623047\" xlink:href=\"#DejaVuSans-50\"/>\r\n      </g>\r\n     </g>\r\n    </g>\r\n    <g id=\"xtick_9\">\r\n     <g id=\"line2d_9\">\r\n      <g>\r\n       <use style=\"stroke:#000000;stroke-width:0.8;\" x=\"268.919034\" xlink:href=\"#m630a3b0511\" y=\"279\"/>\r\n      </g>\r\n     </g>\r\n     <g id=\"text_9\">\r\n      <!-- 1 -->\r\n      <g transform=\"translate(265.737784 293.598437)scale(0.1 -0.1)\">\r\n       <use xlink:href=\"#DejaVuSans-49\"/>\r\n      </g>\r\n     </g>\r\n    </g>\r\n    <g id=\"xtick_10\">\r\n     <g id=\"line2d_10\">\r\n      <g>\r\n       <use style=\"stroke:#000000;stroke-width:0.8;\" x=\"294.28267\" xlink:href=\"#m630a3b0511\" y=\"279\"/>\r\n      </g>\r\n     </g>\r\n     <g id=\"text_10\">\r\n      <!-- 2 -->\r\n      <g transform=\"translate(291.10142 293.598437)scale(0.1 -0.1)\">\r\n       <use xlink:href=\"#DejaVuSans-50\"/>\r\n      </g>\r\n     </g>\r\n    </g>\r\n    <g id=\"xtick_11\">\r\n     <g id=\"line2d_11\">\r\n      <g>\r\n       <use style=\"stroke:#000000;stroke-width:0.8;\" x=\"319.646307\" xlink:href=\"#m630a3b0511\" y=\"279\"/>\r\n      </g>\r\n     </g>\r\n     <g id=\"text_11\">\r\n      <!-- 14 -->\r\n      <g transform=\"translate(313.283807 293.598437)scale(0.1 -0.1)\">\r\n       <defs>\r\n        <path d=\"M 37.796875 64.3125 \r\nL 12.890625 25.390625 \r\nL 37.796875 25.390625 \r\nz\r\nM 35.203125 72.90625 \r\nL 47.609375 72.90625 \r\nL 47.609375 25.390625 \r\nL 58.015625 25.390625 \r\nL 58.015625 17.1875 \r\nL 47.609375 17.1875 \r\nL 47.609375 0 \r\nL 37.796875 0 \r\nL 37.796875 17.1875 \r\nL 4.890625 17.1875 \r\nL 4.890625 26.703125 \r\nz\r\n\" id=\"DejaVuSans-52\"/>\r\n       </defs>\r\n       <use xlink:href=\"#DejaVuSans-49\"/>\r\n       <use x=\"63.623047\" xlink:href=\"#DejaVuSans-52\"/>\r\n      </g>\r\n     </g>\r\n    </g>\r\n    <g id=\"xtick_12\">\r\n     <g id=\"line2d_12\">\r\n      <g>\r\n       <use style=\"stroke:#000000;stroke-width:0.8;\" x=\"345.009943\" xlink:href=\"#m630a3b0511\" y=\"279\"/>\r\n      </g>\r\n     </g>\r\n     <g id=\"text_12\">\r\n      <!-- 13 -->\r\n      <g transform=\"translate(338.647443 293.598437)scale(0.1 -0.1)\">\r\n       <defs>\r\n        <path d=\"M 40.578125 39.3125 \r\nQ 47.65625 37.796875 51.625 33 \r\nQ 55.609375 28.21875 55.609375 21.1875 \r\nQ 55.609375 10.40625 48.1875 4.484375 \r\nQ 40.765625 -1.421875 27.09375 -1.421875 \r\nQ 22.515625 -1.421875 17.65625 -0.515625 \r\nQ 12.796875 0.390625 7.625 2.203125 \r\nL 7.625 11.71875 \r\nQ 11.71875 9.328125 16.59375 8.109375 \r\nQ 21.484375 6.890625 26.8125 6.890625 \r\nQ 36.078125 6.890625 40.9375 10.546875 \r\nQ 45.796875 14.203125 45.796875 21.1875 \r\nQ 45.796875 27.640625 41.28125 31.265625 \r\nQ 36.765625 34.90625 28.71875 34.90625 \r\nL 20.21875 34.90625 \r\nL 20.21875 43.015625 \r\nL 29.109375 43.015625 \r\nQ 36.375 43.015625 40.234375 45.921875 \r\nQ 44.09375 48.828125 44.09375 54.296875 \r\nQ 44.09375 59.90625 40.109375 62.90625 \r\nQ 36.140625 65.921875 28.71875 65.921875 \r\nQ 24.65625 65.921875 20.015625 65.03125 \r\nQ 15.375 64.15625 9.8125 62.3125 \r\nL 9.8125 71.09375 \r\nQ 15.4375 72.65625 20.34375 73.4375 \r\nQ 25.25 74.21875 29.59375 74.21875 \r\nQ 40.828125 74.21875 47.359375 69.109375 \r\nQ 53.90625 64.015625 53.90625 55.328125 \r\nQ 53.90625 49.265625 50.4375 45.09375 \r\nQ 46.96875 40.921875 40.578125 39.3125 \r\nz\r\n\" id=\"DejaVuSans-51\"/>\r\n       </defs>\r\n       <use xlink:href=\"#DejaVuSans-49\"/>\r\n       <use x=\"63.623047\" xlink:href=\"#DejaVuSans-51\"/>\r\n      </g>\r\n     </g>\r\n    </g>\r\n    <g id=\"xtick_13\">\r\n     <g id=\"line2d_13\">\r\n      <g>\r\n       <use style=\"stroke:#000000;stroke-width:0.8;\" x=\"370.37358\" xlink:href=\"#m630a3b0511\" y=\"279\"/>\r\n      </g>\r\n     </g>\r\n     <g id=\"text_13\">\r\n      <!-- 15 -->\r\n      <g transform=\"translate(364.01108 293.598437)scale(0.1 -0.1)\">\r\n       <defs>\r\n        <path d=\"M 10.796875 72.90625 \r\nL 49.515625 72.90625 \r\nL 49.515625 64.59375 \r\nL 19.828125 64.59375 \r\nL 19.828125 46.734375 \r\nQ 21.96875 47.46875 24.109375 47.828125 \r\nQ 26.265625 48.1875 28.421875 48.1875 \r\nQ 40.625 48.1875 47.75 41.5 \r\nQ 54.890625 34.8125 54.890625 23.390625 \r\nQ 54.890625 11.625 47.5625 5.09375 \r\nQ 40.234375 -1.421875 26.90625 -1.421875 \r\nQ 22.3125 -1.421875 17.546875 -0.640625 \r\nQ 12.796875 0.140625 7.71875 1.703125 \r\nL 7.71875 11.625 \r\nQ 12.109375 9.234375 16.796875 8.0625 \r\nQ 21.484375 6.890625 26.703125 6.890625 \r\nQ 35.15625 6.890625 40.078125 11.328125 \r\nQ 45.015625 15.765625 45.015625 23.390625 \r\nQ 45.015625 31 40.078125 35.4375 \r\nQ 35.15625 39.890625 26.703125 39.890625 \r\nQ 22.75 39.890625 18.8125 39.015625 \r\nQ 14.890625 38.140625 10.796875 36.28125 \r\nz\r\n\" id=\"DejaVuSans-53\"/>\r\n       </defs>\r\n       <use xlink:href=\"#DejaVuSans-49\"/>\r\n       <use x=\"63.623047\" xlink:href=\"#DejaVuSans-53\"/>\r\n      </g>\r\n     </g>\r\n    </g>\r\n    <g id=\"xtick_14\">\r\n     <g id=\"line2d_14\">\r\n      <g>\r\n       <use style=\"stroke:#000000;stroke-width:0.8;\" x=\"395.737216\" xlink:href=\"#m630a3b0511\" y=\"279\"/>\r\n      </g>\r\n     </g>\r\n     <g id=\"text_14\">\r\n      <!-- 3 -->\r\n      <g transform=\"translate(392.555966 293.598437)scale(0.1 -0.1)\">\r\n       <use xlink:href=\"#DejaVuSans-51\"/>\r\n      </g>\r\n     </g>\r\n    </g>\r\n    <g id=\"xtick_15\">\r\n     <g id=\"line2d_15\">\r\n      <g>\r\n       <use style=\"stroke:#000000;stroke-width:0.8;\" x=\"421.100852\" xlink:href=\"#m630a3b0511\" y=\"279\"/>\r\n      </g>\r\n     </g>\r\n     <g id=\"text_15\">\r\n      <!-- 4 -->\r\n      <g transform=\"translate(417.919602 293.598437)scale(0.1 -0.1)\">\r\n       <use xlink:href=\"#DejaVuSans-52\"/>\r\n      </g>\r\n     </g>\r\n    </g>\r\n    <g id=\"xtick_16\">\r\n     <g id=\"line2d_16\">\r\n      <g>\r\n       <use style=\"stroke:#000000;stroke-width:0.8;\" x=\"446.464489\" xlink:href=\"#m630a3b0511\" y=\"279\"/>\r\n      </g>\r\n     </g>\r\n     <g id=\"text_16\">\r\n      <!-- 5 -->\r\n      <g transform=\"translate(443.283239 293.598437)scale(0.1 -0.1)\">\r\n       <use xlink:href=\"#DejaVuSans-53\"/>\r\n      </g>\r\n     </g>\r\n    </g>\r\n    <g id=\"xtick_17\">\r\n     <g id=\"line2d_17\">\r\n      <g>\r\n       <use style=\"stroke:#000000;stroke-width:0.8;\" x=\"471.828125\" xlink:href=\"#m630a3b0511\" y=\"279\"/>\r\n      </g>\r\n     </g>\r\n     <g id=\"text_17\">\r\n      <!-- 6 -->\r\n      <g transform=\"translate(468.646875 293.598437)scale(0.1 -0.1)\">\r\n       <use xlink:href=\"#DejaVuSans-54\"/>\r\n      </g>\r\n     </g>\r\n    </g>\r\n    <g id=\"xtick_18\">\r\n     <g id=\"line2d_18\">\r\n      <g>\r\n       <use style=\"stroke:#000000;stroke-width:0.8;\" x=\"497.191761\" xlink:href=\"#m630a3b0511\" y=\"279\"/>\r\n      </g>\r\n     </g>\r\n     <g id=\"text_18\">\r\n      <!-- 7 -->\r\n      <g transform=\"translate(494.010511 293.598437)scale(0.1 -0.1)\">\r\n       <use xlink:href=\"#DejaVuSans-55\"/>\r\n      </g>\r\n     </g>\r\n    </g>\r\n    <g id=\"xtick_19\">\r\n     <g id=\"line2d_19\">\r\n      <g>\r\n       <use style=\"stroke:#000000;stroke-width:0.8;\" x=\"522.555398\" xlink:href=\"#m630a3b0511\" y=\"279\"/>\r\n      </g>\r\n     </g>\r\n     <g id=\"text_19\">\r\n      <!-- 9 -->\r\n      <g transform=\"translate(519.374148 293.598437)scale(0.1 -0.1)\">\r\n       <use xlink:href=\"#DejaVuSans-57\"/>\r\n      </g>\r\n     </g>\r\n    </g>\r\n    <g id=\"xtick_20\">\r\n     <g id=\"line2d_20\">\r\n      <g>\r\n       <use style=\"stroke:#000000;stroke-width:0.8;\" x=\"547.919034\" xlink:href=\"#m630a3b0511\" y=\"279\"/>\r\n      </g>\r\n     </g>\r\n     <g id=\"text_20\">\r\n      <!-- 11 -->\r\n      <g transform=\"translate(541.556534 293.598437)scale(0.1 -0.1)\">\r\n       <use xlink:href=\"#DejaVuSans-49\"/>\r\n       <use x=\"63.623047\" xlink:href=\"#DejaVuSans-49\"/>\r\n      </g>\r\n     </g>\r\n    </g>\r\n    <g id=\"xtick_21\">\r\n     <g id=\"line2d_21\">\r\n      <g>\r\n       <use style=\"stroke:#000000;stroke-width:0.8;\" x=\"573.28267\" xlink:href=\"#m630a3b0511\" y=\"279\"/>\r\n      </g>\r\n     </g>\r\n     <g id=\"text_21\">\r\n      <!-- 8 -->\r\n      <g transform=\"translate(570.10142 293.598437)scale(0.1 -0.1)\">\r\n       <use xlink:href=\"#DejaVuSans-56\"/>\r\n      </g>\r\n     </g>\r\n    </g>\r\n    <g id=\"xtick_22\">\r\n     <g id=\"line2d_22\">\r\n      <g>\r\n       <use style=\"stroke:#000000;stroke-width:0.8;\" x=\"598.646307\" xlink:href=\"#m630a3b0511\" y=\"279\"/>\r\n      </g>\r\n     </g>\r\n     <g id=\"text_22\">\r\n      <!-- 10 -->\r\n      <g transform=\"translate(592.283807 293.598437)scale(0.1 -0.1)\">\r\n       <use xlink:href=\"#DejaVuSans-49\"/>\r\n       <use x=\"63.623047\" xlink:href=\"#DejaVuSans-48\"/>\r\n      </g>\r\n     </g>\r\n    </g>\r\n    <g id=\"text_23\">\r\n     <!-- Reco_Policy_Cat -->\r\n     <g transform=\"translate(292.298437 307.276562)scale(0.1 -0.1)\">\r\n      <defs>\r\n       <path d=\"M 44.390625 34.1875 \r\nQ 47.5625 33.109375 50.5625 29.59375 \r\nQ 53.5625 26.078125 56.59375 19.921875 \r\nL 66.609375 0 \r\nL 56 0 \r\nL 46.6875 18.703125 \r\nQ 43.0625 26.03125 39.671875 28.421875 \r\nQ 36.28125 30.8125 30.421875 30.8125 \r\nL 19.671875 30.8125 \r\nL 19.671875 0 \r\nL 9.8125 0 \r\nL 9.8125 72.90625 \r\nL 32.078125 72.90625 \r\nQ 44.578125 72.90625 50.734375 67.671875 \r\nQ 56.890625 62.453125 56.890625 51.90625 \r\nQ 56.890625 45.015625 53.6875 40.46875 \r\nQ 50.484375 35.9375 44.390625 34.1875 \r\nz\r\nM 19.671875 64.796875 \r\nL 19.671875 38.921875 \r\nL 32.078125 38.921875 \r\nQ 39.203125 38.921875 42.84375 42.21875 \r\nQ 46.484375 45.515625 46.484375 51.90625 \r\nQ 46.484375 58.296875 42.84375 61.546875 \r\nQ 39.203125 64.796875 32.078125 64.796875 \r\nz\r\n\" id=\"DejaVuSans-82\"/>\r\n       <path d=\"M 56.203125 29.59375 \r\nL 56.203125 25.203125 \r\nL 14.890625 25.203125 \r\nQ 15.484375 15.921875 20.484375 11.0625 \r\nQ 25.484375 6.203125 34.421875 6.203125 \r\nQ 39.59375 6.203125 44.453125 7.46875 \r\nQ 49.3125 8.734375 54.109375 11.28125 \r\nL 54.109375 2.78125 \r\nQ 49.265625 0.734375 44.1875 -0.34375 \r\nQ 39.109375 -1.421875 33.890625 -1.421875 \r\nQ 20.796875 -1.421875 13.15625 6.1875 \r\nQ 5.515625 13.8125 5.515625 26.8125 \r\nQ 5.515625 40.234375 12.765625 48.109375 \r\nQ 20.015625 56 32.328125 56 \r\nQ 43.359375 56 49.78125 48.890625 \r\nQ 56.203125 41.796875 56.203125 29.59375 \r\nz\r\nM 47.21875 32.234375 \r\nQ 47.125 39.59375 43.09375 43.984375 \r\nQ 39.0625 48.390625 32.421875 48.390625 \r\nQ 24.90625 48.390625 20.390625 44.140625 \r\nQ 15.875 39.890625 15.1875 32.171875 \r\nz\r\n\" id=\"DejaVuSans-101\"/>\r\n       <path d=\"M 48.78125 52.59375 \r\nL 48.78125 44.1875 \r\nQ 44.96875 46.296875 41.140625 47.34375 \r\nQ 37.3125 48.390625 33.40625 48.390625 \r\nQ 24.65625 48.390625 19.8125 42.84375 \r\nQ 14.984375 37.3125 14.984375 27.296875 \r\nQ 14.984375 17.28125 19.8125 11.734375 \r\nQ 24.65625 6.203125 33.40625 6.203125 \r\nQ 37.3125 6.203125 41.140625 7.25 \r\nQ 44.96875 8.296875 48.78125 10.40625 \r\nL 48.78125 2.09375 \r\nQ 45.015625 0.34375 40.984375 -0.53125 \r\nQ 36.96875 -1.421875 32.421875 -1.421875 \r\nQ 20.0625 -1.421875 12.78125 6.34375 \r\nQ 5.515625 14.109375 5.515625 27.296875 \r\nQ 5.515625 40.671875 12.859375 48.328125 \r\nQ 20.21875 56 33.015625 56 \r\nQ 37.15625 56 41.109375 55.140625 \r\nQ 45.0625 54.296875 48.78125 52.59375 \r\nz\r\n\" id=\"DejaVuSans-99\"/>\r\n       <path d=\"M 30.609375 48.390625 \r\nQ 23.390625 48.390625 19.1875 42.75 \r\nQ 14.984375 37.109375 14.984375 27.296875 \r\nQ 14.984375 17.484375 19.15625 11.84375 \r\nQ 23.34375 6.203125 30.609375 6.203125 \r\nQ 37.796875 6.203125 41.984375 11.859375 \r\nQ 46.1875 17.53125 46.1875 27.296875 \r\nQ 46.1875 37.015625 41.984375 42.703125 \r\nQ 37.796875 48.390625 30.609375 48.390625 \r\nz\r\nM 30.609375 56 \r\nQ 42.328125 56 49.015625 48.375 \r\nQ 55.71875 40.765625 55.71875 27.296875 \r\nQ 55.71875 13.875 49.015625 6.21875 \r\nQ 42.328125 -1.421875 30.609375 -1.421875 \r\nQ 18.84375 -1.421875 12.171875 6.21875 \r\nQ 5.515625 13.875 5.515625 27.296875 \r\nQ 5.515625 40.765625 12.171875 48.375 \r\nQ 18.84375 56 30.609375 56 \r\nz\r\n\" id=\"DejaVuSans-111\"/>\r\n       <path d=\"M 50.984375 -16.609375 \r\nL 50.984375 -23.578125 \r\nL -0.984375 -23.578125 \r\nL -0.984375 -16.609375 \r\nz\r\n\" id=\"DejaVuSans-95\"/>\r\n       <path d=\"M 19.671875 64.796875 \r\nL 19.671875 37.40625 \r\nL 32.078125 37.40625 \r\nQ 38.96875 37.40625 42.71875 40.96875 \r\nQ 46.484375 44.53125 46.484375 51.125 \r\nQ 46.484375 57.671875 42.71875 61.234375 \r\nQ 38.96875 64.796875 32.078125 64.796875 \r\nz\r\nM 9.8125 72.90625 \r\nL 32.078125 72.90625 \r\nQ 44.34375 72.90625 50.609375 67.359375 \r\nQ 56.890625 61.8125 56.890625 51.125 \r\nQ 56.890625 40.328125 50.609375 34.8125 \r\nQ 44.34375 29.296875 32.078125 29.296875 \r\nL 19.671875 29.296875 \r\nL 19.671875 0 \r\nL 9.8125 0 \r\nz\r\n\" id=\"DejaVuSans-80\"/>\r\n       <path d=\"M 9.421875 75.984375 \r\nL 18.40625 75.984375 \r\nL 18.40625 0 \r\nL 9.421875 0 \r\nz\r\n\" id=\"DejaVuSans-108\"/>\r\n       <path d=\"M 9.421875 54.6875 \r\nL 18.40625 54.6875 \r\nL 18.40625 0 \r\nL 9.421875 0 \r\nz\r\nM 9.421875 75.984375 \r\nL 18.40625 75.984375 \r\nL 18.40625 64.59375 \r\nL 9.421875 64.59375 \r\nz\r\n\" id=\"DejaVuSans-105\"/>\r\n       <path d=\"M 32.171875 -5.078125 \r\nQ 28.375 -14.84375 24.75 -17.8125 \r\nQ 21.140625 -20.796875 15.09375 -20.796875 \r\nL 7.90625 -20.796875 \r\nL 7.90625 -13.28125 \r\nL 13.1875 -13.28125 \r\nQ 16.890625 -13.28125 18.9375 -11.515625 \r\nQ 21 -9.765625 23.484375 -3.21875 \r\nL 25.09375 0.875 \r\nL 2.984375 54.6875 \r\nL 12.5 54.6875 \r\nL 29.59375 11.921875 \r\nL 46.6875 54.6875 \r\nL 56.203125 54.6875 \r\nz\r\n\" id=\"DejaVuSans-121\"/>\r\n       <path d=\"M 64.40625 67.28125 \r\nL 64.40625 56.890625 \r\nQ 59.421875 61.53125 53.78125 63.8125 \r\nQ 48.140625 66.109375 41.796875 66.109375 \r\nQ 29.296875 66.109375 22.65625 58.46875 \r\nQ 16.015625 50.828125 16.015625 36.375 \r\nQ 16.015625 21.96875 22.65625 14.328125 \r\nQ 29.296875 6.6875 41.796875 6.6875 \r\nQ 48.140625 6.6875 53.78125 8.984375 \r\nQ 59.421875 11.28125 64.40625 15.921875 \r\nL 64.40625 5.609375 \r\nQ 59.234375 2.09375 53.4375 0.328125 \r\nQ 47.65625 -1.421875 41.21875 -1.421875 \r\nQ 24.65625 -1.421875 15.125 8.703125 \r\nQ 5.609375 18.84375 5.609375 36.375 \r\nQ 5.609375 53.953125 15.125 64.078125 \r\nQ 24.65625 74.21875 41.21875 74.21875 \r\nQ 47.75 74.21875 53.53125 72.484375 \r\nQ 59.328125 70.75 64.40625 67.28125 \r\nz\r\n\" id=\"DejaVuSans-67\"/>\r\n       <path d=\"M 34.28125 27.484375 \r\nQ 23.390625 27.484375 19.1875 25 \r\nQ 14.984375 22.515625 14.984375 16.5 \r\nQ 14.984375 11.71875 18.140625 8.90625 \r\nQ 21.296875 6.109375 26.703125 6.109375 \r\nQ 34.1875 6.109375 38.703125 11.40625 \r\nQ 43.21875 16.703125 43.21875 25.484375 \r\nL 43.21875 27.484375 \r\nz\r\nM 52.203125 31.203125 \r\nL 52.203125 0 \r\nL 43.21875 0 \r\nL 43.21875 8.296875 \r\nQ 40.140625 3.328125 35.546875 0.953125 \r\nQ 30.953125 -1.421875 24.3125 -1.421875 \r\nQ 15.921875 -1.421875 10.953125 3.296875 \r\nQ 6 8.015625 6 15.921875 \r\nQ 6 25.140625 12.171875 29.828125 \r\nQ 18.359375 34.515625 30.609375 34.515625 \r\nL 43.21875 34.515625 \r\nL 43.21875 35.40625 \r\nQ 43.21875 41.609375 39.140625 45 \r\nQ 35.0625 48.390625 27.6875 48.390625 \r\nQ 23 48.390625 18.546875 47.265625 \r\nQ 14.109375 46.140625 10.015625 43.890625 \r\nL 10.015625 52.203125 \r\nQ 14.9375 54.109375 19.578125 55.046875 \r\nQ 24.21875 56 28.609375 56 \r\nQ 40.484375 56 46.34375 49.84375 \r\nQ 52.203125 43.703125 52.203125 31.203125 \r\nz\r\n\" id=\"DejaVuSans-97\"/>\r\n       <path d=\"M 18.3125 70.21875 \r\nL 18.3125 54.6875 \r\nL 36.8125 54.6875 \r\nL 36.8125 47.703125 \r\nL 18.3125 47.703125 \r\nL 18.3125 18.015625 \r\nQ 18.3125 11.328125 20.140625 9.421875 \r\nQ 21.96875 7.515625 27.59375 7.515625 \r\nL 36.8125 7.515625 \r\nL 36.8125 0 \r\nL 27.59375 0 \r\nQ 17.1875 0 13.234375 3.875 \r\nQ 9.28125 7.765625 9.28125 18.015625 \r\nL 9.28125 47.703125 \r\nL 2.6875 47.703125 \r\nL 2.6875 54.6875 \r\nL 9.28125 54.6875 \r\nL 9.28125 70.21875 \r\nz\r\n\" id=\"DejaVuSans-116\"/>\r\n      </defs>\r\n      <use xlink:href=\"#DejaVuSans-82\"/>\r\n      <use x=\"64.982422\" xlink:href=\"#DejaVuSans-101\"/>\r\n      <use x=\"126.505859\" xlink:href=\"#DejaVuSans-99\"/>\r\n      <use x=\"181.486328\" xlink:href=\"#DejaVuSans-111\"/>\r\n      <use x=\"242.667969\" xlink:href=\"#DejaVuSans-95\"/>\r\n      <use x=\"292.667969\" xlink:href=\"#DejaVuSans-80\"/>\r\n      <use x=\"349.345703\" xlink:href=\"#DejaVuSans-111\"/>\r\n      <use x=\"410.527344\" xlink:href=\"#DejaVuSans-108\"/>\r\n      <use x=\"438.310547\" xlink:href=\"#DejaVuSans-105\"/>\r\n      <use x=\"466.09375\" xlink:href=\"#DejaVuSans-99\"/>\r\n      <use x=\"521.074219\" xlink:href=\"#DejaVuSans-121\"/>\r\n      <use x=\"580.253906\" xlink:href=\"#DejaVuSans-95\"/>\r\n      <use x=\"630.253906\" xlink:href=\"#DejaVuSans-67\"/>\r\n      <use x=\"700.078125\" xlink:href=\"#DejaVuSans-97\"/>\r\n      <use x=\"761.357422\" xlink:href=\"#DejaVuSans-116\"/>\r\n     </g>\r\n    </g>\r\n   </g>\r\n   <g id=\"matplotlib.axis_2\">\r\n    <g id=\"ytick_1\">\r\n     <g id=\"line2d_23\">\r\n      <defs>\r\n       <path d=\"M 0 0 \r\nL -3.5 0 \r\n\" id=\"m18a9872bd0\" style=\"stroke:#000000;stroke-width:0.8;\"/>\r\n      </defs>\r\n      <g>\r\n       <use style=\"stroke:#000000;stroke-width:0.8;\" x=\"53.328125\" xlink:href=\"#m18a9872bd0\" y=\"279\"/>\r\n      </g>\r\n     </g>\r\n     <g id=\"text_24\">\r\n      <!-- 0 -->\r\n      <g transform=\"translate(39.965625 282.799219)scale(0.1 -0.1)\">\r\n       <use xlink:href=\"#DejaVuSans-48\"/>\r\n      </g>\r\n     </g>\r\n    </g>\r\n    <g id=\"ytick_2\">\r\n     <g id=\"line2d_24\">\r\n      <g>\r\n       <use style=\"stroke:#000000;stroke-width:0.8;\" x=\"53.328125\" xlink:href=\"#m18a9872bd0\" y=\"239.791102\"/>\r\n      </g>\r\n     </g>\r\n     <g id=\"text_25\">\r\n      <!-- 1000 -->\r\n      <g transform=\"translate(20.878125 243.590321)scale(0.1 -0.1)\">\r\n       <use xlink:href=\"#DejaVuSans-49\"/>\r\n       <use x=\"63.623047\" xlink:href=\"#DejaVuSans-48\"/>\r\n       <use x=\"127.246094\" xlink:href=\"#DejaVuSans-48\"/>\r\n       <use x=\"190.869141\" xlink:href=\"#DejaVuSans-48\"/>\r\n      </g>\r\n     </g>\r\n    </g>\r\n    <g id=\"ytick_3\">\r\n     <g id=\"line2d_25\">\r\n      <g>\r\n       <use style=\"stroke:#000000;stroke-width:0.8;\" x=\"53.328125\" xlink:href=\"#m18a9872bd0\" y=\"200.582205\"/>\r\n      </g>\r\n     </g>\r\n     <g id=\"text_26\">\r\n      <!-- 2000 -->\r\n      <g transform=\"translate(20.878125 204.381423)scale(0.1 -0.1)\">\r\n       <use xlink:href=\"#DejaVuSans-50\"/>\r\n       <use x=\"63.623047\" xlink:href=\"#DejaVuSans-48\"/>\r\n       <use x=\"127.246094\" xlink:href=\"#DejaVuSans-48\"/>\r\n       <use x=\"190.869141\" xlink:href=\"#DejaVuSans-48\"/>\r\n      </g>\r\n     </g>\r\n    </g>\r\n    <g id=\"ytick_4\">\r\n     <g id=\"line2d_26\">\r\n      <g>\r\n       <use style=\"stroke:#000000;stroke-width:0.8;\" x=\"53.328125\" xlink:href=\"#m18a9872bd0\" y=\"161.373307\"/>\r\n      </g>\r\n     </g>\r\n     <g id=\"text_27\">\r\n      <!-- 3000 -->\r\n      <g transform=\"translate(20.878125 165.172526)scale(0.1 -0.1)\">\r\n       <use xlink:href=\"#DejaVuSans-51\"/>\r\n       <use x=\"63.623047\" xlink:href=\"#DejaVuSans-48\"/>\r\n       <use x=\"127.246094\" xlink:href=\"#DejaVuSans-48\"/>\r\n       <use x=\"190.869141\" xlink:href=\"#DejaVuSans-48\"/>\r\n      </g>\r\n     </g>\r\n    </g>\r\n    <g id=\"ytick_5\">\r\n     <g id=\"line2d_27\">\r\n      <g>\r\n       <use style=\"stroke:#000000;stroke-width:0.8;\" x=\"53.328125\" xlink:href=\"#m18a9872bd0\" y=\"122.164409\"/>\r\n      </g>\r\n     </g>\r\n     <g id=\"text_28\">\r\n      <!-- 4000 -->\r\n      <g transform=\"translate(20.878125 125.963628)scale(0.1 -0.1)\">\r\n       <use xlink:href=\"#DejaVuSans-52\"/>\r\n       <use x=\"63.623047\" xlink:href=\"#DejaVuSans-48\"/>\r\n       <use x=\"127.246094\" xlink:href=\"#DejaVuSans-48\"/>\r\n       <use x=\"190.869141\" xlink:href=\"#DejaVuSans-48\"/>\r\n      </g>\r\n     </g>\r\n    </g>\r\n    <g id=\"ytick_6\">\r\n     <g id=\"line2d_28\">\r\n      <g>\r\n       <use style=\"stroke:#000000;stroke-width:0.8;\" x=\"53.328125\" xlink:href=\"#m18a9872bd0\" y=\"82.955511\"/>\r\n      </g>\r\n     </g>\r\n     <g id=\"text_29\">\r\n      <!-- 5000 -->\r\n      <g transform=\"translate(20.878125 86.75473)scale(0.1 -0.1)\">\r\n       <use xlink:href=\"#DejaVuSans-53\"/>\r\n       <use x=\"63.623047\" xlink:href=\"#DejaVuSans-48\"/>\r\n       <use x=\"127.246094\" xlink:href=\"#DejaVuSans-48\"/>\r\n       <use x=\"190.869141\" xlink:href=\"#DejaVuSans-48\"/>\r\n      </g>\r\n     </g>\r\n    </g>\r\n    <g id=\"ytick_7\">\r\n     <g id=\"line2d_29\">\r\n      <g>\r\n       <use style=\"stroke:#000000;stroke-width:0.8;\" x=\"53.328125\" xlink:href=\"#m18a9872bd0\" y=\"43.746614\"/>\r\n      </g>\r\n     </g>\r\n     <g id=\"text_30\">\r\n      <!-- 6000 -->\r\n      <g transform=\"translate(20.878125 47.545832)scale(0.1 -0.1)\">\r\n       <use xlink:href=\"#DejaVuSans-54\"/>\r\n       <use x=\"63.623047\" xlink:href=\"#DejaVuSans-48\"/>\r\n       <use x=\"127.246094\" xlink:href=\"#DejaVuSans-48\"/>\r\n       <use x=\"190.869141\" xlink:href=\"#DejaVuSans-48\"/>\r\n      </g>\r\n     </g>\r\n    </g>\r\n    <g id=\"text_31\">\r\n     <!-- count -->\r\n     <g transform=\"translate(14.798438 157.20625)rotate(-90)scale(0.1 -0.1)\">\r\n      <defs>\r\n       <path d=\"M 8.5 21.578125 \r\nL 8.5 54.6875 \r\nL 17.484375 54.6875 \r\nL 17.484375 21.921875 \r\nQ 17.484375 14.15625 20.5 10.265625 \r\nQ 23.53125 6.390625 29.59375 6.390625 \r\nQ 36.859375 6.390625 41.078125 11.03125 \r\nQ 45.3125 15.671875 45.3125 23.6875 \r\nL 45.3125 54.6875 \r\nL 54.296875 54.6875 \r\nL 54.296875 0 \r\nL 45.3125 0 \r\nL 45.3125 8.40625 \r\nQ 42.046875 3.421875 37.71875 1 \r\nQ 33.40625 -1.421875 27.6875 -1.421875 \r\nQ 18.265625 -1.421875 13.375 4.4375 \r\nQ 8.5 10.296875 8.5 21.578125 \r\nz\r\nM 31.109375 56 \r\nz\r\n\" id=\"DejaVuSans-117\"/>\r\n       <path d=\"M 54.890625 33.015625 \r\nL 54.890625 0 \r\nL 45.90625 0 \r\nL 45.90625 32.71875 \r\nQ 45.90625 40.484375 42.875 44.328125 \r\nQ 39.84375 48.1875 33.796875 48.1875 \r\nQ 26.515625 48.1875 22.3125 43.546875 \r\nQ 18.109375 38.921875 18.109375 30.90625 \r\nL 18.109375 0 \r\nL 9.078125 0 \r\nL 9.078125 54.6875 \r\nL 18.109375 54.6875 \r\nL 18.109375 46.1875 \r\nQ 21.34375 51.125 25.703125 53.5625 \r\nQ 30.078125 56 35.796875 56 \r\nQ 45.21875 56 50.046875 50.171875 \r\nQ 54.890625 44.34375 54.890625 33.015625 \r\nz\r\n\" id=\"DejaVuSans-110\"/>\r\n      </defs>\r\n      <use xlink:href=\"#DejaVuSans-99\"/>\r\n      <use x=\"54.980469\" xlink:href=\"#DejaVuSans-111\"/>\r\n      <use x=\"116.162109\" xlink:href=\"#DejaVuSans-117\"/>\r\n      <use x=\"179.541016\" xlink:href=\"#DejaVuSans-110\"/>\r\n      <use x=\"242.919922\" xlink:href=\"#DejaVuSans-116\"/>\r\n     </g>\r\n    </g>\r\n   </g>\r\n   <g id=\"patch_25\">\r\n    <path d=\"M 53.328125 279 \r\nL 53.328125 7.2 \r\n\" style=\"fill:none;stroke:#000000;stroke-linecap:square;stroke-linejoin:miter;stroke-width:0.8;\"/>\r\n   </g>\r\n   <g id=\"patch_26\">\r\n    <path d=\"M 611.328125 279 \r\nL 611.328125 7.2 \r\n\" style=\"fill:none;stroke:#000000;stroke-linecap:square;stroke-linejoin:miter;stroke-width:0.8;\"/>\r\n   </g>\r\n   <g id=\"patch_27\">\r\n    <path d=\"M 53.328125 279 \r\nL 611.328125 279 \r\n\" style=\"fill:none;stroke:#000000;stroke-linecap:square;stroke-linejoin:miter;stroke-width:0.8;\"/>\r\n   </g>\r\n   <g id=\"patch_28\">\r\n    <path d=\"M 53.328125 7.2 \r\nL 611.328125 7.2 \r\n\" style=\"fill:none;stroke:#000000;stroke-linecap:square;stroke-linejoin:miter;stroke-width:0.8;\"/>\r\n   </g>\r\n  </g>\r\n </g>\r\n <defs>\r\n  <clipPath id=\"p733911c32c\">\r\n   <rect height=\"271.8\" width=\"558\" x=\"53.328125\" y=\"7.2\"/>\r\n  </clipPath>\r\n </defs>\r\n</svg>\r\n",
      "image/png": "[encoded data removed]"
     },
     "metadata": {
      "needs_background": "light"
     }
    }
   ],
   "source": [
    "plot_cat('Reco_Policy_Cat',10,5)"
   ]
  },
  {
   "cell_type": "code",
   "execution_count": 141,
   "metadata": {},
   "outputs": [
    {
     "output_type": "display_data",
     "data": {
      "text/plain": "<Figure size 576x360 with 1 Axes>",
      "image/svg+xml": "<?xml version=\"1.0\" encoding=\"utf-8\" standalone=\"no\"?>\r\n<!DOCTYPE svg PUBLIC \"-//W3C//DTD SVG 1.1//EN\"\r\n  \"http://www.w3.org/Graphics/SVG/1.1/DTD/svg11.dtd\">\r\n<!-- Created with matplotlib (https://matplotlib.org/) -->\r\n<svg height=\"316.834375pt\" version=\"1.1\" viewBox=\"0 0 513.290625 316.834375\" width=\"513.290625pt\" xmlns=\"http://www.w3.org/2000/svg\" xmlns:xlink=\"http://www.w3.org/1999/xlink\">\r\n <metadata>\r\n  <rdf:RDF xmlns:cc=\"http://creativecommons.org/ns#\" xmlns:dc=\"http://purl.org/dc/elements/1.1/\" xmlns:rdf=\"http://www.w3.org/1999/02/22-rdf-syntax-ns#\">\r\n   <cc:Work>\r\n    <dc:type rdf:resource=\"http://purl.org/dc/dcmitype/StillImage\"/>\r\n    <dc:date>2021-02-28T21:39:22.248923</dc:date>\r\n    <dc:format>image/svg+xml</dc:format>\r\n    <dc:creator>\r\n     <cc:Agent>\r\n      <dc:title>Matplotlib v3.3.4, https://matplotlib.org/</dc:title>\r\n     </cc:Agent>\r\n    </dc:creator>\r\n   </cc:Work>\r\n  </rdf:RDF>\r\n </metadata>\r\n <defs>\r\n  <style type=\"text/css\">*{stroke-linecap:butt;stroke-linejoin:round;}</style>\r\n </defs>\r\n <g id=\"figure_1\">\r\n  <g id=\"patch_1\">\r\n   <path d=\"M 0 316.834375 \r\nL 513.290625 316.834375 \r\nL 513.290625 0 \r\nL 0 0 \r\nz\r\n\" style=\"fill:none;\"/>\r\n  </g>\r\n  <g id=\"axes_1\">\r\n   <g id=\"patch_2\">\r\n    <path d=\"M 59.690625 279 \r\nL 506.090625 279 \r\nL 506.090625 7.2 \r\nL 59.690625 7.2 \r\nz\r\n\" style=\"fill:#ffffff;\"/>\r\n   </g>\r\n   <g id=\"patch_3\">\r\n    <path clip-path=\"url(#p71ffb1c787)\" d=\"M 82.010625 279 \r\nL 260.570625 279 \r\nL 260.570625 20.142857 \r\nL 82.010625 20.142857 \r\nz\r\n\" style=\"fill:#3274a1;\"/>\r\n   </g>\r\n   <g id=\"patch_4\">\r\n    <path clip-path=\"url(#p71ffb1c787)\" d=\"M 305.210625 279 \r\nL 483.770625 279 \r\nL 483.770625 66.633604 \r\nL 305.210625 66.633604 \r\nz\r\n\" style=\"fill:#e1812c;\"/>\r\n   </g>\r\n   <g id=\"matplotlib.axis_1\">\r\n    <g id=\"xtick_1\">\r\n     <g id=\"line2d_1\">\r\n      <defs>\r\n       <path d=\"M 0 0 \r\nL 0 3.5 \r\n\" id=\"m850edd7543\" style=\"stroke:#000000;stroke-width:0.8;\"/>\r\n      </defs>\r\n      <g>\r\n       <use style=\"stroke:#000000;stroke-width:0.8;\" x=\"171.290625\" xlink:href=\"#m850edd7543\" y=\"279\"/>\r\n      </g>\r\n     </g>\r\n     <g id=\"text_1\">\r\n      <!-- Owned -->\r\n      <g transform=\"translate(153.846094 293.598437)scale(0.1 -0.1)\">\r\n       <defs>\r\n        <path d=\"M 39.40625 66.21875 \r\nQ 28.65625 66.21875 22.328125 58.203125 \r\nQ 16.015625 50.203125 16.015625 36.375 \r\nQ 16.015625 22.609375 22.328125 14.59375 \r\nQ 28.65625 6.59375 39.40625 6.59375 \r\nQ 50.140625 6.59375 56.421875 14.59375 \r\nQ 62.703125 22.609375 62.703125 36.375 \r\nQ 62.703125 50.203125 56.421875 58.203125 \r\nQ 50.140625 66.21875 39.40625 66.21875 \r\nz\r\nM 39.40625 74.21875 \r\nQ 54.734375 74.21875 63.90625 63.9375 \r\nQ 73.09375 53.65625 73.09375 36.375 \r\nQ 73.09375 19.140625 63.90625 8.859375 \r\nQ 54.734375 -1.421875 39.40625 -1.421875 \r\nQ 24.03125 -1.421875 14.8125 8.828125 \r\nQ 5.609375 19.09375 5.609375 36.375 \r\nQ 5.609375 53.65625 14.8125 63.9375 \r\nQ 24.03125 74.21875 39.40625 74.21875 \r\nz\r\n\" id=\"DejaVuSans-79\"/>\r\n        <path d=\"M 4.203125 54.6875 \r\nL 13.1875 54.6875 \r\nL 24.421875 12.015625 \r\nL 35.59375 54.6875 \r\nL 46.1875 54.6875 \r\nL 57.421875 12.015625 \r\nL 68.609375 54.6875 \r\nL 77.59375 54.6875 \r\nL 63.28125 0 \r\nL 52.6875 0 \r\nL 40.921875 44.828125 \r\nL 29.109375 0 \r\nL 18.5 0 \r\nz\r\n\" id=\"DejaVuSans-119\"/>\r\n        <path d=\"M 54.890625 33.015625 \r\nL 54.890625 0 \r\nL 45.90625 0 \r\nL 45.90625 32.71875 \r\nQ 45.90625 40.484375 42.875 44.328125 \r\nQ 39.84375 48.1875 33.796875 48.1875 \r\nQ 26.515625 48.1875 22.3125 43.546875 \r\nQ 18.109375 38.921875 18.109375 30.90625 \r\nL 18.109375 0 \r\nL 9.078125 0 \r\nL 9.078125 54.6875 \r\nL 18.109375 54.6875 \r\nL 18.109375 46.1875 \r\nQ 21.34375 51.125 25.703125 53.5625 \r\nQ 30.078125 56 35.796875 56 \r\nQ 45.21875 56 50.046875 50.171875 \r\nQ 54.890625 44.34375 54.890625 33.015625 \r\nz\r\n\" id=\"DejaVuSans-110\"/>\r\n        <path d=\"M 56.203125 29.59375 \r\nL 56.203125 25.203125 \r\nL 14.890625 25.203125 \r\nQ 15.484375 15.921875 20.484375 11.0625 \r\nQ 25.484375 6.203125 34.421875 6.203125 \r\nQ 39.59375 6.203125 44.453125 7.46875 \r\nQ 49.3125 8.734375 54.109375 11.28125 \r\nL 54.109375 2.78125 \r\nQ 49.265625 0.734375 44.1875 -0.34375 \r\nQ 39.109375 -1.421875 33.890625 -1.421875 \r\nQ 20.796875 -1.421875 13.15625 6.1875 \r\nQ 5.515625 13.8125 5.515625 26.8125 \r\nQ 5.515625 40.234375 12.765625 48.109375 \r\nQ 20.015625 56 32.328125 56 \r\nQ 43.359375 56 49.78125 48.890625 \r\nQ 56.203125 41.796875 56.203125 29.59375 \r\nz\r\nM 47.21875 32.234375 \r\nQ 47.125 39.59375 43.09375 43.984375 \r\nQ 39.0625 48.390625 32.421875 48.390625 \r\nQ 24.90625 48.390625 20.390625 44.140625 \r\nQ 15.875 39.890625 15.1875 32.171875 \r\nz\r\n\" id=\"DejaVuSans-101\"/>\r\n        <path d=\"M 45.40625 46.390625 \r\nL 45.40625 75.984375 \r\nL 54.390625 75.984375 \r\nL 54.390625 0 \r\nL 45.40625 0 \r\nL 45.40625 8.203125 \r\nQ 42.578125 3.328125 38.25 0.953125 \r\nQ 33.9375 -1.421875 27.875 -1.421875 \r\nQ 17.96875 -1.421875 11.734375 6.484375 \r\nQ 5.515625 14.40625 5.515625 27.296875 \r\nQ 5.515625 40.1875 11.734375 48.09375 \r\nQ 17.96875 56 27.875 56 \r\nQ 33.9375 56 38.25 53.625 \r\nQ 42.578125 51.265625 45.40625 46.390625 \r\nz\r\nM 14.796875 27.296875 \r\nQ 14.796875 17.390625 18.875 11.75 \r\nQ 22.953125 6.109375 30.078125 6.109375 \r\nQ 37.203125 6.109375 41.296875 11.75 \r\nQ 45.40625 17.390625 45.40625 27.296875 \r\nQ 45.40625 37.203125 41.296875 42.84375 \r\nQ 37.203125 48.484375 30.078125 48.484375 \r\nQ 22.953125 48.484375 18.875 42.84375 \r\nQ 14.796875 37.203125 14.796875 27.296875 \r\nz\r\n\" id=\"DejaVuSans-100\"/>\r\n       </defs>\r\n       <use xlink:href=\"#DejaVuSans-79\"/>\r\n       <use x=\"78.710938\" xlink:href=\"#DejaVuSans-119\"/>\r\n       <use x=\"160.498047\" xlink:href=\"#DejaVuSans-110\"/>\r\n       <use x=\"223.876953\" xlink:href=\"#DejaVuSans-101\"/>\r\n       <use x=\"285.400391\" xlink:href=\"#DejaVuSans-100\"/>\r\n      </g>\r\n     </g>\r\n    </g>\r\n    <g id=\"xtick_2\">\r\n     <g id=\"line2d_2\">\r\n      <g>\r\n       <use style=\"stroke:#000000;stroke-width:0.8;\" x=\"394.490625\" xlink:href=\"#m850edd7543\" y=\"279\"/>\r\n      </g>\r\n     </g>\r\n     <g id=\"text_2\">\r\n      <!-- Rented -->\r\n      <g transform=\"translate(376.785156 293.598437)scale(0.1 -0.1)\">\r\n       <defs>\r\n        <path d=\"M 44.390625 34.1875 \r\nQ 47.5625 33.109375 50.5625 29.59375 \r\nQ 53.5625 26.078125 56.59375 19.921875 \r\nL 66.609375 0 \r\nL 56 0 \r\nL 46.6875 18.703125 \r\nQ 43.0625 26.03125 39.671875 28.421875 \r\nQ 36.28125 30.8125 30.421875 30.8125 \r\nL 19.671875 30.8125 \r\nL 19.671875 0 \r\nL 9.8125 0 \r\nL 9.8125 72.90625 \r\nL 32.078125 72.90625 \r\nQ 44.578125 72.90625 50.734375 67.671875 \r\nQ 56.890625 62.453125 56.890625 51.90625 \r\nQ 56.890625 45.015625 53.6875 40.46875 \r\nQ 50.484375 35.9375 44.390625 34.1875 \r\nz\r\nM 19.671875 64.796875 \r\nL 19.671875 38.921875 \r\nL 32.078125 38.921875 \r\nQ 39.203125 38.921875 42.84375 42.21875 \r\nQ 46.484375 45.515625 46.484375 51.90625 \r\nQ 46.484375 58.296875 42.84375 61.546875 \r\nQ 39.203125 64.796875 32.078125 64.796875 \r\nz\r\n\" id=\"DejaVuSans-82\"/>\r\n        <path d=\"M 18.3125 70.21875 \r\nL 18.3125 54.6875 \r\nL 36.8125 54.6875 \r\nL 36.8125 47.703125 \r\nL 18.3125 47.703125 \r\nL 18.3125 18.015625 \r\nQ 18.3125 11.328125 20.140625 9.421875 \r\nQ 21.96875 7.515625 27.59375 7.515625 \r\nL 36.8125 7.515625 \r\nL 36.8125 0 \r\nL 27.59375 0 \r\nQ 17.1875 0 13.234375 3.875 \r\nQ 9.28125 7.765625 9.28125 18.015625 \r\nL 9.28125 47.703125 \r\nL 2.6875 47.703125 \r\nL 2.6875 54.6875 \r\nL 9.28125 54.6875 \r\nL 9.28125 70.21875 \r\nz\r\n\" id=\"DejaVuSans-116\"/>\r\n       </defs>\r\n       <use xlink:href=\"#DejaVuSans-82\"/>\r\n       <use x=\"64.982422\" xlink:href=\"#DejaVuSans-101\"/>\r\n       <use x=\"126.505859\" xlink:href=\"#DejaVuSans-110\"/>\r\n       <use x=\"189.884766\" xlink:href=\"#DejaVuSans-116\"/>\r\n       <use x=\"229.09375\" xlink:href=\"#DejaVuSans-101\"/>\r\n       <use x=\"290.617188\" xlink:href=\"#DejaVuSans-100\"/>\r\n      </g>\r\n     </g>\r\n    </g>\r\n    <g id=\"text_3\">\r\n     <!-- Accomodation_Type -->\r\n     <g transform=\"translate(233.271875 307.276562)scale(0.1 -0.1)\">\r\n      <defs>\r\n       <path d=\"M 34.1875 63.1875 \r\nL 20.796875 26.90625 \r\nL 47.609375 26.90625 \r\nz\r\nM 28.609375 72.90625 \r\nL 39.796875 72.90625 \r\nL 67.578125 0 \r\nL 57.328125 0 \r\nL 50.6875 18.703125 \r\nL 17.828125 18.703125 \r\nL 11.1875 0 \r\nL 0.78125 0 \r\nz\r\n\" id=\"DejaVuSans-65\"/>\r\n       <path d=\"M 48.78125 52.59375 \r\nL 48.78125 44.1875 \r\nQ 44.96875 46.296875 41.140625 47.34375 \r\nQ 37.3125 48.390625 33.40625 48.390625 \r\nQ 24.65625 48.390625 19.8125 42.84375 \r\nQ 14.984375 37.3125 14.984375 27.296875 \r\nQ 14.984375 17.28125 19.8125 11.734375 \r\nQ 24.65625 6.203125 33.40625 6.203125 \r\nQ 37.3125 6.203125 41.140625 7.25 \r\nQ 44.96875 8.296875 48.78125 10.40625 \r\nL 48.78125 2.09375 \r\nQ 45.015625 0.34375 40.984375 -0.53125 \r\nQ 36.96875 -1.421875 32.421875 -1.421875 \r\nQ 20.0625 -1.421875 12.78125 6.34375 \r\nQ 5.515625 14.109375 5.515625 27.296875 \r\nQ 5.515625 40.671875 12.859375 48.328125 \r\nQ 20.21875 56 33.015625 56 \r\nQ 37.15625 56 41.109375 55.140625 \r\nQ 45.0625 54.296875 48.78125 52.59375 \r\nz\r\n\" id=\"DejaVuSans-99\"/>\r\n       <path d=\"M 30.609375 48.390625 \r\nQ 23.390625 48.390625 19.1875 42.75 \r\nQ 14.984375 37.109375 14.984375 27.296875 \r\nQ 14.984375 17.484375 19.15625 11.84375 \r\nQ 23.34375 6.203125 30.609375 6.203125 \r\nQ 37.796875 6.203125 41.984375 11.859375 \r\nQ 46.1875 17.53125 46.1875 27.296875 \r\nQ 46.1875 37.015625 41.984375 42.703125 \r\nQ 37.796875 48.390625 30.609375 48.390625 \r\nz\r\nM 30.609375 56 \r\nQ 42.328125 56 49.015625 48.375 \r\nQ 55.71875 40.765625 55.71875 27.296875 \r\nQ 55.71875 13.875 49.015625 6.21875 \r\nQ 42.328125 -1.421875 30.609375 -1.421875 \r\nQ 18.84375 -1.421875 12.171875 6.21875 \r\nQ 5.515625 13.875 5.515625 27.296875 \r\nQ 5.515625 40.765625 12.171875 48.375 \r\nQ 18.84375 56 30.609375 56 \r\nz\r\n\" id=\"DejaVuSans-111\"/>\r\n       <path d=\"M 52 44.1875 \r\nQ 55.375 50.25 60.0625 53.125 \r\nQ 64.75 56 71.09375 56 \r\nQ 79.640625 56 84.28125 50.015625 \r\nQ 88.921875 44.046875 88.921875 33.015625 \r\nL 88.921875 0 \r\nL 79.890625 0 \r\nL 79.890625 32.71875 \r\nQ 79.890625 40.578125 77.09375 44.375 \r\nQ 74.3125 48.1875 68.609375 48.1875 \r\nQ 61.625 48.1875 57.5625 43.546875 \r\nQ 53.515625 38.921875 53.515625 30.90625 \r\nL 53.515625 0 \r\nL 44.484375 0 \r\nL 44.484375 32.71875 \r\nQ 44.484375 40.625 41.703125 44.40625 \r\nQ 38.921875 48.1875 33.109375 48.1875 \r\nQ 26.21875 48.1875 22.15625 43.53125 \r\nQ 18.109375 38.875 18.109375 30.90625 \r\nL 18.109375 0 \r\nL 9.078125 0 \r\nL 9.078125 54.6875 \r\nL 18.109375 54.6875 \r\nL 18.109375 46.1875 \r\nQ 21.1875 51.21875 25.484375 53.609375 \r\nQ 29.78125 56 35.6875 56 \r\nQ 41.65625 56 45.828125 52.96875 \r\nQ 50 49.953125 52 44.1875 \r\nz\r\n\" id=\"DejaVuSans-109\"/>\r\n       <path d=\"M 34.28125 27.484375 \r\nQ 23.390625 27.484375 19.1875 25 \r\nQ 14.984375 22.515625 14.984375 16.5 \r\nQ 14.984375 11.71875 18.140625 8.90625 \r\nQ 21.296875 6.109375 26.703125 6.109375 \r\nQ 34.1875 6.109375 38.703125 11.40625 \r\nQ 43.21875 16.703125 43.21875 25.484375 \r\nL 43.21875 27.484375 \r\nz\r\nM 52.203125 31.203125 \r\nL 52.203125 0 \r\nL 43.21875 0 \r\nL 43.21875 8.296875 \r\nQ 40.140625 3.328125 35.546875 0.953125 \r\nQ 30.953125 -1.421875 24.3125 -1.421875 \r\nQ 15.921875 -1.421875 10.953125 3.296875 \r\nQ 6 8.015625 6 15.921875 \r\nQ 6 25.140625 12.171875 29.828125 \r\nQ 18.359375 34.515625 30.609375 34.515625 \r\nL 43.21875 34.515625 \r\nL 43.21875 35.40625 \r\nQ 43.21875 41.609375 39.140625 45 \r\nQ 35.0625 48.390625 27.6875 48.390625 \r\nQ 23 48.390625 18.546875 47.265625 \r\nQ 14.109375 46.140625 10.015625 43.890625 \r\nL 10.015625 52.203125 \r\nQ 14.9375 54.109375 19.578125 55.046875 \r\nQ 24.21875 56 28.609375 56 \r\nQ 40.484375 56 46.34375 49.84375 \r\nQ 52.203125 43.703125 52.203125 31.203125 \r\nz\r\n\" id=\"DejaVuSans-97\"/>\r\n       <path d=\"M 9.421875 54.6875 \r\nL 18.40625 54.6875 \r\nL 18.40625 0 \r\nL 9.421875 0 \r\nz\r\nM 9.421875 75.984375 \r\nL 18.40625 75.984375 \r\nL 18.40625 64.59375 \r\nL 9.421875 64.59375 \r\nz\r\n\" id=\"DejaVuSans-105\"/>\r\n       <path d=\"M 50.984375 -16.609375 \r\nL 50.984375 -23.578125 \r\nL -0.984375 -23.578125 \r\nL -0.984375 -16.609375 \r\nz\r\n\" id=\"DejaVuSans-95\"/>\r\n       <path d=\"M -0.296875 72.90625 \r\nL 61.375 72.90625 \r\nL 61.375 64.59375 \r\nL 35.5 64.59375 \r\nL 35.5 0 \r\nL 25.59375 0 \r\nL 25.59375 64.59375 \r\nL -0.296875 64.59375 \r\nz\r\n\" id=\"DejaVuSans-84\"/>\r\n       <path d=\"M 32.171875 -5.078125 \r\nQ 28.375 -14.84375 24.75 -17.8125 \r\nQ 21.140625 -20.796875 15.09375 -20.796875 \r\nL 7.90625 -20.796875 \r\nL 7.90625 -13.28125 \r\nL 13.1875 -13.28125 \r\nQ 16.890625 -13.28125 18.9375 -11.515625 \r\nQ 21 -9.765625 23.484375 -3.21875 \r\nL 25.09375 0.875 \r\nL 2.984375 54.6875 \r\nL 12.5 54.6875 \r\nL 29.59375 11.921875 \r\nL 46.6875 54.6875 \r\nL 56.203125 54.6875 \r\nz\r\n\" id=\"DejaVuSans-121\"/>\r\n       <path d=\"M 18.109375 8.203125 \r\nL 18.109375 -20.796875 \r\nL 9.078125 -20.796875 \r\nL 9.078125 54.6875 \r\nL 18.109375 54.6875 \r\nL 18.109375 46.390625 \r\nQ 20.953125 51.265625 25.265625 53.625 \r\nQ 29.59375 56 35.59375 56 \r\nQ 45.5625 56 51.78125 48.09375 \r\nQ 58.015625 40.1875 58.015625 27.296875 \r\nQ 58.015625 14.40625 51.78125 6.484375 \r\nQ 45.5625 -1.421875 35.59375 -1.421875 \r\nQ 29.59375 -1.421875 25.265625 0.953125 \r\nQ 20.953125 3.328125 18.109375 8.203125 \r\nz\r\nM 48.6875 27.296875 \r\nQ 48.6875 37.203125 44.609375 42.84375 \r\nQ 40.53125 48.484375 33.40625 48.484375 \r\nQ 26.265625 48.484375 22.1875 42.84375 \r\nQ 18.109375 37.203125 18.109375 27.296875 \r\nQ 18.109375 17.390625 22.1875 11.75 \r\nQ 26.265625 6.109375 33.40625 6.109375 \r\nQ 40.53125 6.109375 44.609375 11.75 \r\nQ 48.6875 17.390625 48.6875 27.296875 \r\nz\r\n\" id=\"DejaVuSans-112\"/>\r\n      </defs>\r\n      <use xlink:href=\"#DejaVuSans-65\"/>\r\n      <use x=\"66.658203\" xlink:href=\"#DejaVuSans-99\"/>\r\n      <use x=\"121.638672\" xlink:href=\"#DejaVuSans-99\"/>\r\n      <use x=\"176.619141\" xlink:href=\"#DejaVuSans-111\"/>\r\n      <use x=\"237.800781\" xlink:href=\"#DejaVuSans-109\"/>\r\n      <use x=\"335.212891\" xlink:href=\"#DejaVuSans-111\"/>\r\n      <use x=\"396.394531\" xlink:href=\"#DejaVuSans-100\"/>\r\n      <use x=\"459.871094\" xlink:href=\"#DejaVuSans-97\"/>\r\n      <use x=\"521.150391\" xlink:href=\"#DejaVuSans-116\"/>\r\n      <use x=\"560.359375\" xlink:href=\"#DejaVuSans-105\"/>\r\n      <use x=\"588.142578\" xlink:href=\"#DejaVuSans-111\"/>\r\n      <use x=\"649.324219\" xlink:href=\"#DejaVuSans-110\"/>\r\n      <use x=\"712.703125\" xlink:href=\"#DejaVuSans-95\"/>\r\n      <use x=\"762.703125\" xlink:href=\"#DejaVuSans-84\"/>\r\n      <use x=\"808.162109\" xlink:href=\"#DejaVuSans-121\"/>\r\n      <use x=\"867.341797\" xlink:href=\"#DejaVuSans-112\"/>\r\n      <use x=\"930.818359\" xlink:href=\"#DejaVuSans-101\"/>\r\n     </g>\r\n    </g>\r\n   </g>\r\n   <g id=\"matplotlib.axis_2\">\r\n    <g id=\"ytick_1\">\r\n     <g id=\"line2d_3\">\r\n      <defs>\r\n       <path d=\"M 0 0 \r\nL -3.5 0 \r\n\" id=\"m468b0eb4c8\" style=\"stroke:#000000;stroke-width:0.8;\"/>\r\n      </defs>\r\n      <g>\r\n       <use style=\"stroke:#000000;stroke-width:0.8;\" x=\"59.690625\" xlink:href=\"#m468b0eb4c8\" y=\"279\"/>\r\n      </g>\r\n     </g>\r\n     <g id=\"text_4\">\r\n      <!-- 0 -->\r\n      <g transform=\"translate(46.328125 282.799219)scale(0.1 -0.1)\">\r\n       <defs>\r\n        <path d=\"M 31.78125 66.40625 \r\nQ 24.171875 66.40625 20.328125 58.90625 \r\nQ 16.5 51.421875 16.5 36.375 \r\nQ 16.5 21.390625 20.328125 13.890625 \r\nQ 24.171875 6.390625 31.78125 6.390625 \r\nQ 39.453125 6.390625 43.28125 13.890625 \r\nQ 47.125 21.390625 47.125 36.375 \r\nQ 47.125 51.421875 43.28125 58.90625 \r\nQ 39.453125 66.40625 31.78125 66.40625 \r\nz\r\nM 31.78125 74.21875 \r\nQ 44.046875 74.21875 50.515625 64.515625 \r\nQ 56.984375 54.828125 56.984375 36.375 \r\nQ 56.984375 17.96875 50.515625 8.265625 \r\nQ 44.046875 -1.421875 31.78125 -1.421875 \r\nQ 19.53125 -1.421875 13.0625 8.265625 \r\nQ 6.59375 17.96875 6.59375 36.375 \r\nQ 6.59375 54.828125 13.0625 64.515625 \r\nQ 19.53125 74.21875 31.78125 74.21875 \r\nz\r\n\" id=\"DejaVuSans-48\"/>\r\n       </defs>\r\n       <use xlink:href=\"#DejaVuSans-48\"/>\r\n      </g>\r\n     </g>\r\n    </g>\r\n    <g id=\"ytick_2\">\r\n     <g id=\"line2d_4\">\r\n      <g>\r\n       <use style=\"stroke:#000000;stroke-width:0.8;\" x=\"59.690625\" xlink:href=\"#m468b0eb4c8\" y=\"232.694476\"/>\r\n      </g>\r\n     </g>\r\n     <g id=\"text_5\">\r\n      <!-- 5000 -->\r\n      <g transform=\"translate(27.240625 236.493694)scale(0.1 -0.1)\">\r\n       <defs>\r\n        <path d=\"M 10.796875 72.90625 \r\nL 49.515625 72.90625 \r\nL 49.515625 64.59375 \r\nL 19.828125 64.59375 \r\nL 19.828125 46.734375 \r\nQ 21.96875 47.46875 24.109375 47.828125 \r\nQ 26.265625 48.1875 28.421875 48.1875 \r\nQ 40.625 48.1875 47.75 41.5 \r\nQ 54.890625 34.8125 54.890625 23.390625 \r\nQ 54.890625 11.625 47.5625 5.09375 \r\nQ 40.234375 -1.421875 26.90625 -1.421875 \r\nQ 22.3125 -1.421875 17.546875 -0.640625 \r\nQ 12.796875 0.140625 7.71875 1.703125 \r\nL 7.71875 11.625 \r\nQ 12.109375 9.234375 16.796875 8.0625 \r\nQ 21.484375 6.890625 26.703125 6.890625 \r\nQ 35.15625 6.890625 40.078125 11.328125 \r\nQ 45.015625 15.765625 45.015625 23.390625 \r\nQ 45.015625 31 40.078125 35.4375 \r\nQ 35.15625 39.890625 26.703125 39.890625 \r\nQ 22.75 39.890625 18.8125 39.015625 \r\nQ 14.890625 38.140625 10.796875 36.28125 \r\nz\r\n\" id=\"DejaVuSans-53\"/>\r\n       </defs>\r\n       <use xlink:href=\"#DejaVuSans-53\"/>\r\n       <use x=\"63.623047\" xlink:href=\"#DejaVuSans-48\"/>\r\n       <use x=\"127.246094\" xlink:href=\"#DejaVuSans-48\"/>\r\n       <use x=\"190.869141\" xlink:href=\"#DejaVuSans-48\"/>\r\n      </g>\r\n     </g>\r\n    </g>\r\n    <g id=\"ytick_3\">\r\n     <g id=\"line2d_5\">\r\n      <g>\r\n       <use style=\"stroke:#000000;stroke-width:0.8;\" x=\"59.690625\" xlink:href=\"#m468b0eb4c8\" y=\"186.388951\"/>\r\n      </g>\r\n     </g>\r\n     <g id=\"text_6\">\r\n      <!-- 10000 -->\r\n      <g transform=\"translate(20.878125 190.18817)scale(0.1 -0.1)\">\r\n       <defs>\r\n        <path d=\"M 12.40625 8.296875 \r\nL 28.515625 8.296875 \r\nL 28.515625 63.921875 \r\nL 10.984375 60.40625 \r\nL 10.984375 69.390625 \r\nL 28.421875 72.90625 \r\nL 38.28125 72.90625 \r\nL 38.28125 8.296875 \r\nL 54.390625 8.296875 \r\nL 54.390625 0 \r\nL 12.40625 0 \r\nz\r\n\" id=\"DejaVuSans-49\"/>\r\n       </defs>\r\n       <use xlink:href=\"#DejaVuSans-49\"/>\r\n       <use x=\"63.623047\" xlink:href=\"#DejaVuSans-48\"/>\r\n       <use x=\"127.246094\" xlink:href=\"#DejaVuSans-48\"/>\r\n       <use x=\"190.869141\" xlink:href=\"#DejaVuSans-48\"/>\r\n       <use x=\"254.492188\" xlink:href=\"#DejaVuSans-48\"/>\r\n      </g>\r\n     </g>\r\n    </g>\r\n    <g id=\"ytick_4\">\r\n     <g id=\"line2d_6\">\r\n      <g>\r\n       <use style=\"stroke:#000000;stroke-width:0.8;\" x=\"59.690625\" xlink:href=\"#m468b0eb4c8\" y=\"140.083427\"/>\r\n      </g>\r\n     </g>\r\n     <g id=\"text_7\">\r\n      <!-- 15000 -->\r\n      <g transform=\"translate(20.878125 143.882645)scale(0.1 -0.1)\">\r\n       <use xlink:href=\"#DejaVuSans-49\"/>\r\n       <use x=\"63.623047\" xlink:href=\"#DejaVuSans-53\"/>\r\n       <use x=\"127.246094\" xlink:href=\"#DejaVuSans-48\"/>\r\n       <use x=\"190.869141\" xlink:href=\"#DejaVuSans-48\"/>\r\n       <use x=\"254.492188\" xlink:href=\"#DejaVuSans-48\"/>\r\n      </g>\r\n     </g>\r\n    </g>\r\n    <g id=\"ytick_5\">\r\n     <g id=\"line2d_7\">\r\n      <g>\r\n       <use style=\"stroke:#000000;stroke-width:0.8;\" x=\"59.690625\" xlink:href=\"#m468b0eb4c8\" y=\"93.777902\"/>\r\n      </g>\r\n     </g>\r\n     <g id=\"text_8\">\r\n      <!-- 20000 -->\r\n      <g transform=\"translate(20.878125 97.577121)scale(0.1 -0.1)\">\r\n       <defs>\r\n        <path d=\"M 19.1875 8.296875 \r\nL 53.609375 8.296875 \r\nL 53.609375 0 \r\nL 7.328125 0 \r\nL 7.328125 8.296875 \r\nQ 12.9375 14.109375 22.625 23.890625 \r\nQ 32.328125 33.6875 34.8125 36.53125 \r\nQ 39.546875 41.84375 41.421875 45.53125 \r\nQ 43.3125 49.21875 43.3125 52.78125 \r\nQ 43.3125 58.59375 39.234375 62.25 \r\nQ 35.15625 65.921875 28.609375 65.921875 \r\nQ 23.96875 65.921875 18.8125 64.3125 \r\nQ 13.671875 62.703125 7.8125 59.421875 \r\nL 7.8125 69.390625 \r\nQ 13.765625 71.78125 18.9375 73 \r\nQ 24.125 74.21875 28.421875 74.21875 \r\nQ 39.75 74.21875 46.484375 68.546875 \r\nQ 53.21875 62.890625 53.21875 53.421875 \r\nQ 53.21875 48.921875 51.53125 44.890625 \r\nQ 49.859375 40.875 45.40625 35.40625 \r\nQ 44.1875 33.984375 37.640625 27.21875 \r\nQ 31.109375 20.453125 19.1875 8.296875 \r\nz\r\n\" id=\"DejaVuSans-50\"/>\r\n       </defs>\r\n       <use xlink:href=\"#DejaVuSans-50\"/>\r\n       <use x=\"63.623047\" xlink:href=\"#DejaVuSans-48\"/>\r\n       <use x=\"127.246094\" xlink:href=\"#DejaVuSans-48\"/>\r\n       <use x=\"190.869141\" xlink:href=\"#DejaVuSans-48\"/>\r\n       <use x=\"254.492188\" xlink:href=\"#DejaVuSans-48\"/>\r\n      </g>\r\n     </g>\r\n    </g>\r\n    <g id=\"ytick_6\">\r\n     <g id=\"line2d_8\">\r\n      <g>\r\n       <use style=\"stroke:#000000;stroke-width:0.8;\" x=\"59.690625\" xlink:href=\"#m468b0eb4c8\" y=\"47.472378\"/>\r\n      </g>\r\n     </g>\r\n     <g id=\"text_9\">\r\n      <!-- 25000 -->\r\n      <g transform=\"translate(20.878125 51.271596)scale(0.1 -0.1)\">\r\n       <use xlink:href=\"#DejaVuSans-50\"/>\r\n       <use x=\"63.623047\" xlink:href=\"#DejaVuSans-53\"/>\r\n       <use x=\"127.246094\" xlink:href=\"#DejaVuSans-48\"/>\r\n       <use x=\"190.869141\" xlink:href=\"#DejaVuSans-48\"/>\r\n       <use x=\"254.492188\" xlink:href=\"#DejaVuSans-48\"/>\r\n      </g>\r\n     </g>\r\n    </g>\r\n    <g id=\"text_10\">\r\n     <!-- count -->\r\n     <g transform=\"translate(14.798438 157.20625)rotate(-90)scale(0.1 -0.1)\">\r\n      <defs>\r\n       <path d=\"M 8.5 21.578125 \r\nL 8.5 54.6875 \r\nL 17.484375 54.6875 \r\nL 17.484375 21.921875 \r\nQ 17.484375 14.15625 20.5 10.265625 \r\nQ 23.53125 6.390625 29.59375 6.390625 \r\nQ 36.859375 6.390625 41.078125 11.03125 \r\nQ 45.3125 15.671875 45.3125 23.6875 \r\nL 45.3125 54.6875 \r\nL 54.296875 54.6875 \r\nL 54.296875 0 \r\nL 45.3125 0 \r\nL 45.3125 8.40625 \r\nQ 42.046875 3.421875 37.71875 1 \r\nQ 33.40625 -1.421875 27.6875 -1.421875 \r\nQ 18.265625 -1.421875 13.375 4.4375 \r\nQ 8.5 10.296875 8.5 21.578125 \r\nz\r\nM 31.109375 56 \r\nz\r\n\" id=\"DejaVuSans-117\"/>\r\n      </defs>\r\n      <use xlink:href=\"#DejaVuSans-99\"/>\r\n      <use x=\"54.980469\" xlink:href=\"#DejaVuSans-111\"/>\r\n      <use x=\"116.162109\" xlink:href=\"#DejaVuSans-117\"/>\r\n      <use x=\"179.541016\" xlink:href=\"#DejaVuSans-110\"/>\r\n      <use x=\"242.919922\" xlink:href=\"#DejaVuSans-116\"/>\r\n     </g>\r\n    </g>\r\n   </g>\r\n   <g id=\"patch_5\">\r\n    <path d=\"M 59.690625 279 \r\nL 59.690625 7.2 \r\n\" style=\"fill:none;stroke:#000000;stroke-linecap:square;stroke-linejoin:miter;stroke-width:0.8;\"/>\r\n   </g>\r\n   <g id=\"patch_6\">\r\n    <path d=\"M 506.090625 279 \r\nL 506.090625 7.2 \r\n\" style=\"fill:none;stroke:#000000;stroke-linecap:square;stroke-linejoin:miter;stroke-width:0.8;\"/>\r\n   </g>\r\n   <g id=\"patch_7\">\r\n    <path d=\"M 59.690625 279 \r\nL 506.090625 279 \r\n\" style=\"fill:none;stroke:#000000;stroke-linecap:square;stroke-linejoin:miter;stroke-width:0.8;\"/>\r\n   </g>\r\n   <g id=\"patch_8\">\r\n    <path d=\"M 59.690625 7.2 \r\nL 506.090625 7.2 \r\n\" style=\"fill:none;stroke:#000000;stroke-linecap:square;stroke-linejoin:miter;stroke-width:0.8;\"/>\r\n   </g>\r\n  </g>\r\n </g>\r\n <defs>\r\n  <clipPath id=\"p71ffb1c787\">\r\n   <rect height=\"271.8\" width=\"446.4\" x=\"59.690625\" y=\"7.2\"/>\r\n  </clipPath>\r\n </defs>\r\n</svg>\r\n",
      "image/png": "[encoded data removed]"
     },
     "metadata": {
      "needs_background": "light"
     }
    }
   ],
   "source": [
    "plot_cat('Accomodation_Type')"
   ]
  },
  {
   "cell_type": "code",
   "execution_count": 142,
   "metadata": {},
   "outputs": [
    {
     "output_type": "execute_result",
     "data": {
      "text/plain": [
       "0    76.005267\n",
       "1    23.994733\n",
       "Name: Response, dtype: float64"
      ]
     },
     "metadata": {},
     "execution_count": 142
    }
   ],
   "source": [
    "df['Response'].value_counts(normalize=True)*100"
   ]
  },
  {
   "cell_type": "code",
   "execution_count": 143,
   "metadata": {},
   "outputs": [
    {
     "output_type": "execute_result",
     "data": {
      "text/plain": [
       "Owned     0.54933\n",
       "Rented    0.45067\n",
       "Name: Accomodation_Type, dtype: float64"
      ]
     },
     "metadata": {},
     "execution_count": 143
    }
   ],
   "source": [
    "df['Accomodation_Type'].value_counts(normalize=True)"
   ]
  },
  {
   "source": [
    "##  BVA"
   ],
   "cell_type": "markdown",
   "metadata": {}
  },
  {
   "cell_type": "code",
   "execution_count": 146,
   "metadata": {},
   "outputs": [
    {
     "output_type": "execute_result",
     "data": {
      "text/plain": [
       "Response                  0         1\n",
       "Accomodation_Type                    \n",
       "Owned              0.416414  0.132915\n",
       "Rented             0.343638  0.107032"
      ],
      "text/html": "<div>\n<style scoped>\n    .dataframe tbody tr th:only-of-type {\n        vertical-align: middle;\n    }\n\n    .dataframe tbody tr th {\n        vertical-align: top;\n    }\n\n    .dataframe thead th {\n        text-align: right;\n    }\n</style>\n<table border=\"1\" class=\"dataframe\">\n  <thead>\n    <tr style=\"text-align: right;\">\n      <th>Response</th>\n      <th>0</th>\n      <th>1</th>\n    </tr>\n    <tr>\n      <th>Accomodation_Type</th>\n      <th></th>\n      <th></th>\n    </tr>\n  </thead>\n  <tbody>\n    <tr>\n      <th>Owned</th>\n      <td>0.416414</td>\n      <td>0.132915</td>\n    </tr>\n    <tr>\n      <th>Rented</th>\n      <td>0.343638</td>\n      <td>0.107032</td>\n    </tr>\n  </tbody>\n</table>\n</div>"
     },
     "metadata": {},
     "execution_count": 146
    }
   ],
   "source": [
    "pd.crosstab(df['Accomodation_Type'], df['Response']).apply(lambda r: r/len(df), axis=1)"
   ]
  },
  {
   "cell_type": "code",
   "execution_count": 147,
   "metadata": {},
   "outputs": [
    {
     "output_type": "execute_result",
     "data": {
      "text/plain": [
       "Response          0         1\n",
       "Is_Spouse                    \n",
       "No         0.634861  0.199619\n",
       "Yes        0.125192  0.040329"
      ],
      "text/html": "<div>\n<style scoped>\n    .dataframe tbody tr th:only-of-type {\n        vertical-align: middle;\n    }\n\n    .dataframe tbody tr th {\n        vertical-align: top;\n    }\n\n    .dataframe thead th {\n        text-align: right;\n    }\n</style>\n<table border=\"1\" class=\"dataframe\">\n  <thead>\n    <tr style=\"text-align: right;\">\n      <th>Response</th>\n      <th>0</th>\n      <th>1</th>\n    </tr>\n    <tr>\n      <th>Is_Spouse</th>\n      <th></th>\n      <th></th>\n    </tr>\n  </thead>\n  <tbody>\n    <tr>\n      <th>No</th>\n      <td>0.634861</td>\n      <td>0.199619</td>\n    </tr>\n    <tr>\n      <th>Yes</th>\n      <td>0.125192</td>\n      <td>0.040329</td>\n    </tr>\n  </tbody>\n</table>\n</div>"
     },
     "metadata": {},
     "execution_count": 147
    }
   ],
   "source": [
    "pd.crosstab(df['Is_Spouse'], df['Response']).apply(lambda r: r/len(df), axis=1)"
   ]
  },
  {
   "cell_type": "code",
   "execution_count": 149,
   "metadata": {},
   "outputs": [
    {
     "output_type": "execute_result",
     "data": {
      "text/plain": [
       "Response          0         1\n",
       "City_Code                    \n",
       "C1         0.132955  0.043395\n",
       "C10        0.024508  0.007154\n",
       "C11        0.017059  0.005483\n",
       "C12        0.013168  0.003891\n",
       "C13        0.014740  0.005012\n",
       "C14        0.011202  0.003459\n",
       "C15        0.018337  0.004972\n",
       "C16        0.017020  0.005287\n",
       "C17        0.017570  0.005208\n",
       "C18        0.011930  0.003734\n",
       "C19        0.013580  0.004088\n",
       "C2         0.115051  0.037204\n",
       "C20        0.014032  0.004167\n",
       "C21        0.010298  0.003046\n",
       "C22        0.007802  0.002339\n",
       "C23        0.008471  0.003066\n",
       "C24        0.008313  0.002555\n",
       "C25        0.005464  0.001729\n",
       "C26        0.007684  0.002123\n",
       "C27        0.004304  0.001494\n",
       "C28        0.004284  0.001317\n",
       "C29        0.005817  0.001788\n",
       "C3         0.073268  0.022817\n",
       "C30        0.000786  0.000354\n",
       "C31        0.000255  0.000039\n",
       "C32        0.002240  0.000904\n",
       "C33        0.004225  0.001395\n",
       "C34        0.001847  0.000708\n",
       "C35        0.000786  0.000314\n",
       "C36        0.000609  0.000098\n",
       "C4         0.054676  0.017472\n",
       "C5         0.020636  0.006171\n",
       "C6         0.029283  0.009041\n",
       "C7         0.028026  0.009512\n",
       "C8         0.026905  0.008588\n",
       "C9         0.032919  0.010023"
      ],
      "text/html": "<div>\n<style scoped>\n    .dataframe tbody tr th:only-of-type {\n        vertical-align: middle;\n    }\n\n    .dataframe tbody tr th {\n        vertical-align: top;\n    }\n\n    .dataframe thead th {\n        text-align: right;\n    }\n</style>\n<table border=\"1\" class=\"dataframe\">\n  <thead>\n    <tr style=\"text-align: right;\">\n      <th>Response</th>\n      <th>0</th>\n      <th>1</th>\n    </tr>\n    <tr>\n      <th>City_Code</th>\n      <th></th>\n      <th></th>\n    </tr>\n  </thead>\n  <tbody>\n    <tr>\n      <th>C1</th>\n      <td>0.132955</td>\n      <td>0.043395</td>\n    </tr>\n    <tr>\n      <th>C10</th>\n      <td>0.024508</td>\n      <td>0.007154</td>\n    </tr>\n    <tr>\n      <th>C11</th>\n      <td>0.017059</td>\n      <td>0.005483</td>\n    </tr>\n    <tr>\n      <th>C12</th>\n      <td>0.013168</td>\n      <td>0.003891</td>\n    </tr>\n    <tr>\n      <th>C13</th>\n      <td>0.014740</td>\n      <td>0.005012</td>\n    </tr>\n    <tr>\n      <th>C14</th>\n      <td>0.011202</td>\n      <td>0.003459</td>\n    </tr>\n    <tr>\n      <th>C15</th>\n      <td>0.018337</td>\n      <td>0.004972</td>\n    </tr>\n    <tr>\n      <th>C16</th>\n      <td>0.017020</td>\n      <td>0.005287</td>\n    </tr>\n    <tr>\n      <th>C17</th>\n      <td>0.017570</td>\n      <td>0.005208</td>\n    </tr>\n    <tr>\n      <th>C18</th>\n      <td>0.011930</td>\n      <td>0.003734</td>\n    </tr>\n    <tr>\n      <th>C19</th>\n      <td>0.013580</td>\n      <td>0.004088</td>\n    </tr>\n    <tr>\n      <th>C2</th>\n      <td>0.115051</td>\n      <td>0.037204</td>\n    </tr>\n    <tr>\n      <th>C20</th>\n      <td>0.014032</td>\n      <td>0.004167</td>\n    </tr>\n    <tr>\n      <th>C21</th>\n      <td>0.010298</td>\n      <td>0.003046</td>\n    </tr>\n    <tr>\n      <th>C22</th>\n      <td>0.007802</td>\n      <td>0.002339</td>\n    </tr>\n    <tr>\n      <th>C23</th>\n      <td>0.008471</td>\n      <td>0.003066</td>\n    </tr>\n    <tr>\n      <th>C24</th>\n      <td>0.008313</td>\n      <td>0.002555</td>\n    </tr>\n    <tr>\n      <th>C25</th>\n      <td>0.005464</td>\n      <td>0.001729</td>\n    </tr>\n    <tr>\n      <th>C26</th>\n      <td>0.007684</td>\n      <td>0.002123</td>\n    </tr>\n    <tr>\n      <th>C27</th>\n      <td>0.004304</td>\n      <td>0.001494</td>\n    </tr>\n    <tr>\n      <th>C28</th>\n      <td>0.004284</td>\n      <td>0.001317</td>\n    </tr>\n    <tr>\n      <th>C29</th>\n      <td>0.005817</td>\n      <td>0.001788</td>\n    </tr>\n    <tr>\n      <th>C3</th>\n      <td>0.073268</td>\n      <td>0.022817</td>\n    </tr>\n    <tr>\n      <th>C30</th>\n      <td>0.000786</td>\n      <td>0.000354</td>\n    </tr>\n    <tr>\n      <th>C31</th>\n      <td>0.000255</td>\n      <td>0.000039</td>\n    </tr>\n    <tr>\n      <th>C32</th>\n      <td>0.002240</td>\n      <td>0.000904</td>\n    </tr>\n    <tr>\n      <th>C33</th>\n      <td>0.004225</td>\n      <td>0.001395</td>\n    </tr>\n    <tr>\n      <th>C34</th>\n      <td>0.001847</td>\n      <td>0.000708</td>\n    </tr>\n    <tr>\n      <th>C35</th>\n      <td>0.000786</td>\n      <td>0.000314</td>\n    </tr>\n    <tr>\n      <th>C36</th>\n      <td>0.000609</td>\n      <td>0.000098</td>\n    </tr>\n    <tr>\n      <th>C4</th>\n      <td>0.054676</td>\n      <td>0.017472</td>\n    </tr>\n    <tr>\n      <th>C5</th>\n      <td>0.020636</td>\n      <td>0.006171</td>\n    </tr>\n    <tr>\n      <th>C6</th>\n      <td>0.029283</td>\n      <td>0.009041</td>\n    </tr>\n    <tr>\n      <th>C7</th>\n      <td>0.028026</td>\n      <td>0.009512</td>\n    </tr>\n    <tr>\n      <th>C8</th>\n      <td>0.026905</td>\n      <td>0.008588</td>\n    </tr>\n    <tr>\n      <th>C9</th>\n      <td>0.032919</td>\n      <td>0.010023</td>\n    </tr>\n  </tbody>\n</table>\n</div>"
     },
     "metadata": {},
     "execution_count": 149
    }
   ],
   "source": [
    "pd.crosstab(df['City_Code'], df['Response']).apply(lambda r: r/len(df), axis=1)"
   ]
  },
  {
   "cell_type": "code",
   "execution_count": 150,
   "metadata": {},
   "outputs": [
    {
     "output_type": "execute_result",
     "data": {
      "text/plain": [
       "Holding_Policy_Type     0.0       1.0       2.0       3.0       4.0    \\\n",
       "City_Code                                                               \n",
       "C1                   0.014819  0.031288  0.014327  0.047463  0.019791   \n",
       "C10                  0.002064  0.007232  0.002437  0.007272  0.002575   \n",
       "C11                  0.002496  0.002909  0.003302  0.005071  0.001415   \n",
       "C12                  0.001612  0.003832  0.002555  0.003105  0.000688   \n",
       "C13                  0.002024  0.002457  0.002791  0.004481  0.001376   \n",
       "C14                  0.001651  0.001906  0.001671  0.003793  0.001395   \n",
       "C15                  0.001749  0.006328  0.002083  0.005071  0.001435   \n",
       "C16                  0.001965  0.003302  0.002948  0.004501  0.001042   \n",
       "C17                  0.002103  0.006545  0.003282  0.002712  0.000924   \n",
       "C18                  0.001317  0.004284  0.002575  0.001749  0.000472   \n",
       "C19                  0.001769  0.006604  0.001612  0.001710  0.000590   \n",
       "C2                   0.013207  0.012028  0.009807  0.055206  0.019811   \n",
       "C20                  0.001474  0.001002  0.001906  0.005523  0.002437   \n",
       "C21                  0.001061  0.002555  0.002417  0.002928  0.000766   \n",
       "C22                  0.001120  0.001297  0.000413  0.003007  0.001022   \n",
       "C23                  0.001277  0.001081  0.001749  0.003027  0.000629   \n",
       "C24                  0.000825  0.002968  0.001513  0.001946  0.000806   \n",
       "C25                  0.000747  0.000845  0.000924  0.001946  0.000354   \n",
       "C26                  0.001022  0.001651  0.000924  0.002791  0.000570   \n",
       "C27                  0.000727  0.000472  0.000629  0.001749  0.000354   \n",
       "C28                  0.000491  0.001061  0.000590  0.001277  0.000314   \n",
       "C29                  0.000983  0.000708  0.000629  0.002103  0.000649   \n",
       "C3                   0.009001  0.017413  0.008824  0.025569  0.005719   \n",
       "C30                  0.000118  0.000118  0.000059  0.000413  0.000138   \n",
       "C31                  0.000039  0.000020  0.000000  0.000118  0.000039   \n",
       "C32                  0.000255  0.000216  0.000236  0.000943  0.000295   \n",
       "C33                  0.000550  0.000884  0.000550  0.001022  0.000354   \n",
       "C34                  0.000295  0.000334  0.000295  0.000491  0.000157   \n",
       "C35                  0.000157  0.000079  0.000197  0.000236  0.000118   \n",
       "C36                  0.000059  0.000039  0.000079  0.000255  0.000020   \n",
       "C4                   0.006839  0.011301  0.005621  0.020125  0.003479   \n",
       "C5                   0.002417  0.005130  0.003538  0.005916  0.001297   \n",
       "C6                   0.004049  0.005405  0.004953  0.009060  0.001612   \n",
       "C7                   0.003066  0.006525  0.005935  0.008392  0.001808   \n",
       "C8                   0.003145  0.004579  0.003872  0.009512  0.003302   \n",
       "C9                   0.004068  0.006230  0.003125  0.010495  0.004284   \n",
       "\n",
       "Holding_Policy_Type     999.0  \n",
       "City_Code                      \n",
       "C1                   0.048662  \n",
       "C10                  0.010082  \n",
       "C11                  0.007350  \n",
       "C12                  0.005267  \n",
       "C13                  0.006623  \n",
       "C14                  0.004245  \n",
       "C15                  0.006643  \n",
       "C16                  0.008549  \n",
       "C17                  0.007213  \n",
       "C18                  0.005267  \n",
       "C19                  0.005385  \n",
       "C2                   0.042196  \n",
       "C20                  0.005857  \n",
       "C21                  0.003616  \n",
       "C22                  0.003282  \n",
       "C23                  0.003773  \n",
       "C24                  0.002810  \n",
       "C25                  0.002378  \n",
       "C26                  0.002850  \n",
       "C27                  0.001867  \n",
       "C28                  0.001867  \n",
       "C29                  0.002535  \n",
       "C3                   0.029559  \n",
       "C30                  0.000295  \n",
       "C31                  0.000079  \n",
       "C32                  0.001199  \n",
       "C33                  0.002260  \n",
       "C34                  0.000983  \n",
       "C35                  0.000314  \n",
       "C36                  0.000255  \n",
       "C4                   0.024783  \n",
       "C5                   0.008510  \n",
       "C6                   0.013246  \n",
       "C7                   0.011812  \n",
       "C8                   0.011084  \n",
       "C9                   0.014740  "
      ],
      "text/html": "<div>\n<style scoped>\n    .dataframe tbody tr th:only-of-type {\n        vertical-align: middle;\n    }\n\n    .dataframe tbody tr th {\n        vertical-align: top;\n    }\n\n    .dataframe thead th {\n        text-align: right;\n    }\n</style>\n<table border=\"1\" class=\"dataframe\">\n  <thead>\n    <tr style=\"text-align: right;\">\n      <th>Holding_Policy_Type</th>\n      <th>0.0</th>\n      <th>1.0</th>\n      <th>2.0</th>\n      <th>3.0</th>\n      <th>4.0</th>\n      <th>999.0</th>\n    </tr>\n    <tr>\n      <th>City_Code</th>\n      <th></th>\n      <th></th>\n      <th></th>\n      <th></th>\n      <th></th>\n      <th></th>\n    </tr>\n  </thead>\n  <tbody>\n    <tr>\n      <th>C1</th>\n      <td>0.014819</td>\n      <td>0.031288</td>\n      <td>0.014327</td>\n      <td>0.047463</td>\n      <td>0.019791</td>\n      <td>0.048662</td>\n    </tr>\n    <tr>\n      <th>C10</th>\n      <td>0.002064</td>\n      <td>0.007232</td>\n      <td>0.002437</td>\n      <td>0.007272</td>\n      <td>0.002575</td>\n      <td>0.010082</td>\n    </tr>\n    <tr>\n      <th>C11</th>\n      <td>0.002496</td>\n      <td>0.002909</td>\n      <td>0.003302</td>\n      <td>0.005071</td>\n      <td>0.001415</td>\n      <td>0.007350</td>\n    </tr>\n    <tr>\n      <th>C12</th>\n      <td>0.001612</td>\n      <td>0.003832</td>\n      <td>0.002555</td>\n      <td>0.003105</td>\n      <td>0.000688</td>\n      <td>0.005267</td>\n    </tr>\n    <tr>\n      <th>C13</th>\n      <td>0.002024</td>\n      <td>0.002457</td>\n      <td>0.002791</td>\n      <td>0.004481</td>\n      <td>0.001376</td>\n      <td>0.006623</td>\n    </tr>\n    <tr>\n      <th>C14</th>\n      <td>0.001651</td>\n      <td>0.001906</td>\n      <td>0.001671</td>\n      <td>0.003793</td>\n      <td>0.001395</td>\n      <td>0.004245</td>\n    </tr>\n    <tr>\n      <th>C15</th>\n      <td>0.001749</td>\n      <td>0.006328</td>\n      <td>0.002083</td>\n      <td>0.005071</td>\n      <td>0.001435</td>\n      <td>0.006643</td>\n    </tr>\n    <tr>\n      <th>C16</th>\n      <td>0.001965</td>\n      <td>0.003302</td>\n      <td>0.002948</td>\n      <td>0.004501</td>\n      <td>0.001042</td>\n      <td>0.008549</td>\n    </tr>\n    <tr>\n      <th>C17</th>\n      <td>0.002103</td>\n      <td>0.006545</td>\n      <td>0.003282</td>\n      <td>0.002712</td>\n      <td>0.000924</td>\n      <td>0.007213</td>\n    </tr>\n    <tr>\n      <th>C18</th>\n      <td>0.001317</td>\n      <td>0.004284</td>\n      <td>0.002575</td>\n      <td>0.001749</td>\n      <td>0.000472</td>\n      <td>0.005267</td>\n    </tr>\n    <tr>\n      <th>C19</th>\n      <td>0.001769</td>\n      <td>0.006604</td>\n      <td>0.001612</td>\n      <td>0.001710</td>\n      <td>0.000590</td>\n      <td>0.005385</td>\n    </tr>\n    <tr>\n      <th>C2</th>\n      <td>0.013207</td>\n      <td>0.012028</td>\n      <td>0.009807</td>\n      <td>0.055206</td>\n      <td>0.019811</td>\n      <td>0.042196</td>\n    </tr>\n    <tr>\n      <th>C20</th>\n      <td>0.001474</td>\n      <td>0.001002</td>\n      <td>0.001906</td>\n      <td>0.005523</td>\n      <td>0.002437</td>\n      <td>0.005857</td>\n    </tr>\n    <tr>\n      <th>C21</th>\n      <td>0.001061</td>\n      <td>0.002555</td>\n      <td>0.002417</td>\n      <td>0.002928</td>\n      <td>0.000766</td>\n      <td>0.003616</td>\n    </tr>\n    <tr>\n      <th>C22</th>\n      <td>0.001120</td>\n      <td>0.001297</td>\n      <td>0.000413</td>\n      <td>0.003007</td>\n      <td>0.001022</td>\n      <td>0.003282</td>\n    </tr>\n    <tr>\n      <th>C23</th>\n      <td>0.001277</td>\n      <td>0.001081</td>\n      <td>0.001749</td>\n      <td>0.003027</td>\n      <td>0.000629</td>\n      <td>0.003773</td>\n    </tr>\n    <tr>\n      <th>C24</th>\n      <td>0.000825</td>\n      <td>0.002968</td>\n      <td>0.001513</td>\n      <td>0.001946</td>\n      <td>0.000806</td>\n      <td>0.002810</td>\n    </tr>\n    <tr>\n      <th>C25</th>\n      <td>0.000747</td>\n      <td>0.000845</td>\n      <td>0.000924</td>\n      <td>0.001946</td>\n      <td>0.000354</td>\n      <td>0.002378</td>\n    </tr>\n    <tr>\n      <th>C26</th>\n      <td>0.001022</td>\n      <td>0.001651</td>\n      <td>0.000924</td>\n      <td>0.002791</td>\n      <td>0.000570</td>\n      <td>0.002850</td>\n    </tr>\n    <tr>\n      <th>C27</th>\n      <td>0.000727</td>\n      <td>0.000472</td>\n      <td>0.000629</td>\n      <td>0.001749</td>\n      <td>0.000354</td>\n      <td>0.001867</td>\n    </tr>\n    <tr>\n      <th>C28</th>\n      <td>0.000491</td>\n      <td>0.001061</td>\n      <td>0.000590</td>\n      <td>0.001277</td>\n      <td>0.000314</td>\n      <td>0.001867</td>\n    </tr>\n    <tr>\n      <th>C29</th>\n      <td>0.000983</td>\n      <td>0.000708</td>\n      <td>0.000629</td>\n      <td>0.002103</td>\n      <td>0.000649</td>\n      <td>0.002535</td>\n    </tr>\n    <tr>\n      <th>C3</th>\n      <td>0.009001</td>\n      <td>0.017413</td>\n      <td>0.008824</td>\n      <td>0.025569</td>\n      <td>0.005719</td>\n      <td>0.029559</td>\n    </tr>\n    <tr>\n      <th>C30</th>\n      <td>0.000118</td>\n      <td>0.000118</td>\n      <td>0.000059</td>\n      <td>0.000413</td>\n      <td>0.000138</td>\n      <td>0.000295</td>\n    </tr>\n    <tr>\n      <th>C31</th>\n      <td>0.000039</td>\n      <td>0.000020</td>\n      <td>0.000000</td>\n      <td>0.000118</td>\n      <td>0.000039</td>\n      <td>0.000079</td>\n    </tr>\n    <tr>\n      <th>C32</th>\n      <td>0.000255</td>\n      <td>0.000216</td>\n      <td>0.000236</td>\n      <td>0.000943</td>\n      <td>0.000295</td>\n      <td>0.001199</td>\n    </tr>\n    <tr>\n      <th>C33</th>\n      <td>0.000550</td>\n      <td>0.000884</td>\n      <td>0.000550</td>\n      <td>0.001022</td>\n      <td>0.000354</td>\n      <td>0.002260</td>\n    </tr>\n    <tr>\n      <th>C34</th>\n      <td>0.000295</td>\n      <td>0.000334</td>\n      <td>0.000295</td>\n      <td>0.000491</td>\n      <td>0.000157</td>\n      <td>0.000983</td>\n    </tr>\n    <tr>\n      <th>C35</th>\n      <td>0.000157</td>\n      <td>0.000079</td>\n      <td>0.000197</td>\n      <td>0.000236</td>\n      <td>0.000118</td>\n      <td>0.000314</td>\n    </tr>\n    <tr>\n      <th>C36</th>\n      <td>0.000059</td>\n      <td>0.000039</td>\n      <td>0.000079</td>\n      <td>0.000255</td>\n      <td>0.000020</td>\n      <td>0.000255</td>\n    </tr>\n    <tr>\n      <th>C4</th>\n      <td>0.006839</td>\n      <td>0.011301</td>\n      <td>0.005621</td>\n      <td>0.020125</td>\n      <td>0.003479</td>\n      <td>0.024783</td>\n    </tr>\n    <tr>\n      <th>C5</th>\n      <td>0.002417</td>\n      <td>0.005130</td>\n      <td>0.003538</td>\n      <td>0.005916</td>\n      <td>0.001297</td>\n      <td>0.008510</td>\n    </tr>\n    <tr>\n      <th>C6</th>\n      <td>0.004049</td>\n      <td>0.005405</td>\n      <td>0.004953</td>\n      <td>0.009060</td>\n      <td>0.001612</td>\n      <td>0.013246</td>\n    </tr>\n    <tr>\n      <th>C7</th>\n      <td>0.003066</td>\n      <td>0.006525</td>\n      <td>0.005935</td>\n      <td>0.008392</td>\n      <td>0.001808</td>\n      <td>0.011812</td>\n    </tr>\n    <tr>\n      <th>C8</th>\n      <td>0.003145</td>\n      <td>0.004579</td>\n      <td>0.003872</td>\n      <td>0.009512</td>\n      <td>0.003302</td>\n      <td>0.011084</td>\n    </tr>\n    <tr>\n      <th>C9</th>\n      <td>0.004068</td>\n      <td>0.006230</td>\n      <td>0.003125</td>\n      <td>0.010495</td>\n      <td>0.004284</td>\n      <td>0.014740</td>\n    </tr>\n  </tbody>\n</table>\n</div>"
     },
     "metadata": {},
     "execution_count": 150
    }
   ],
   "source": [
    "pd.crosstab(df['City_Code'], df['Holding_Policy_Type']).apply(lambda r: r/len(df), axis=1)"
   ]
  },
  {
   "cell_type": "code",
   "execution_count": 151,
   "metadata": {},
   "outputs": [
    {
     "output_type": "execute_result",
     "data": {
      "text/plain": [
       "Response                   1.000000\n",
       "Reco_Policy_Cat            0.114321\n",
       "Age_Bracket                0.012284\n",
       "Reco_Policy_Premium        0.007943\n",
       "Top_tier_cities            0.005305\n",
       "Holding_Policy_Duration    0.001897\n",
       "Holding_Policy_Type        0.001767\n",
       "Region_Code                0.001121\n",
       "new_user                  -0.006042\n",
       "single_user               -0.009891\n",
       "Name: Response, dtype: float64"
      ]
     },
     "metadata": {},
     "execution_count": 151
    }
   ],
   "source": [
    "#correlation\n",
    "cor_mat=df[:].corr()\n",
    "cor_with_tar=cor_mat.sort_values(['Response'],ascending=False)\n",
    "cor_with_tar[\"Response\"]"
   ]
  },
  {
   "cell_type": "code",
   "execution_count": 36,
   "metadata": {},
   "outputs": [],
   "source": [
    "df.drop(columns = 'ID', inplace=True, axis=1)\n",
    "df_test.drop(columns = 'ID', inplace=True, axis=1)"
   ]
  },
  {
   "cell_type": "code",
   "execution_count": 37,
   "metadata": {},
   "outputs": [],
   "source": [
    "## checpoint 1\n",
    "\n",
    "df_check1 = df.copy()\n",
    "df_test_check1 = df_test.copy()\n",
    "\n",
    "# df = df_check1.copy()\n",
    "# df_test = df_test_check1.copy()"
   ]
  },
  {
   "source": [
    "## Feature engineering"
   ],
   "cell_type": "markdown",
   "metadata": {}
  },
  {
   "source": [
    "### Based on our EDA,\n",
    "\n",
    "Created features to help our model as:\n",
    "\n",
    "    - Top_tier_cities\n",
    "\n",
    "    - new_user\n",
    "\n",
    "    - AgeBin\n",
    "\n",
    "    - Age_Bracket\n",
    "    \n",
    "    - av_Age\n",
    "    \n",
    "    - single_user"
   ],
   "cell_type": "markdown",
   "metadata": {}
  },
  {
   "cell_type": "code",
   "execution_count": 38,
   "metadata": {},
   "outputs": [
    {
     "output_type": "execute_result",
     "data": {
      "text/plain": [
       "      City_Code  Region_Code Accomodation_Type Reco_Insurance_Type  Upper_Age  \\\n",
       "21032       C32         3989             Owned          Individual         44   \n",
       "35081       C18         1449            Rented               Joint         22   \n",
       "14648        C2          568            Rented          Individual         57   \n",
       "410          C1         1101             Owned               Joint         74   \n",
       "6812        C24         2185             Owned          Individual         61   \n",
       "\n",
       "       Lower_Age Is_Spouse Health Indicator  Holding_Policy_Duration  \\\n",
       "21032         44        No               X3                    999.0   \n",
       "35081         21       Yes               X3                    999.0   \n",
       "14648         57        No              999                      2.0   \n",
       "410           69       Yes               X3                    999.0   \n",
       "6812          61        No               X1                    999.0   \n",
       "\n",
       "       Holding_Policy_Type  Reco_Policy_Cat  Reco_Policy_Premium  Response  \\\n",
       "21032                999.0               13               7924.0         1   \n",
       "35081                999.0               21               8844.8         0   \n",
       "14648                  2.0                3              14472.0         0   \n",
       "410                  999.0               19              22458.8         0   \n",
       "6812                 999.0               19              20544.0         1   \n",
       "\n",
       "       new_user  Age_Bracket  av_Age  \n",
       "21032         0            0      44  \n",
       "35081         0            1      21  \n",
       "14648         0            0      57  \n",
       "410           0            5      71  \n",
       "6812          0            0      61  "
      ],
      "text/html": "<div>\n<style scoped>\n    .dataframe tbody tr th:only-of-type {\n        vertical-align: middle;\n    }\n\n    .dataframe tbody tr th {\n        vertical-align: top;\n    }\n\n    .dataframe thead th {\n        text-align: right;\n    }\n</style>\n<table border=\"1\" class=\"dataframe\">\n  <thead>\n    <tr style=\"text-align: right;\">\n      <th></th>\n      <th>City_Code</th>\n      <th>Region_Code</th>\n      <th>Accomodation_Type</th>\n      <th>Reco_Insurance_Type</th>\n      <th>Upper_Age</th>\n      <th>Lower_Age</th>\n      <th>Is_Spouse</th>\n      <th>Health Indicator</th>\n      <th>Holding_Policy_Duration</th>\n      <th>Holding_Policy_Type</th>\n      <th>Reco_Policy_Cat</th>\n      <th>Reco_Policy_Premium</th>\n      <th>Response</th>\n      <th>new_user</th>\n      <th>Age_Bracket</th>\n      <th>av_Age</th>\n    </tr>\n  </thead>\n  <tbody>\n    <tr>\n      <th>21032</th>\n      <td>C32</td>\n      <td>3989</td>\n      <td>Owned</td>\n      <td>Individual</td>\n      <td>44</td>\n      <td>44</td>\n      <td>No</td>\n      <td>X3</td>\n      <td>999.0</td>\n      <td>999.0</td>\n      <td>13</td>\n      <td>7924.0</td>\n      <td>1</td>\n      <td>0</td>\n      <td>0</td>\n      <td>44</td>\n    </tr>\n    <tr>\n      <th>35081</th>\n      <td>C18</td>\n      <td>1449</td>\n      <td>Rented</td>\n      <td>Joint</td>\n      <td>22</td>\n      <td>21</td>\n      <td>Yes</td>\n      <td>X3</td>\n      <td>999.0</td>\n      <td>999.0</td>\n      <td>21</td>\n      <td>8844.8</td>\n      <td>0</td>\n      <td>0</td>\n      <td>1</td>\n      <td>21</td>\n    </tr>\n    <tr>\n      <th>14648</th>\n      <td>C2</td>\n      <td>568</td>\n      <td>Rented</td>\n      <td>Individual</td>\n      <td>57</td>\n      <td>57</td>\n      <td>No</td>\n      <td>999</td>\n      <td>2.0</td>\n      <td>2.0</td>\n      <td>3</td>\n      <td>14472.0</td>\n      <td>0</td>\n      <td>0</td>\n      <td>0</td>\n      <td>57</td>\n    </tr>\n    <tr>\n      <th>410</th>\n      <td>C1</td>\n      <td>1101</td>\n      <td>Owned</td>\n      <td>Joint</td>\n      <td>74</td>\n      <td>69</td>\n      <td>Yes</td>\n      <td>X3</td>\n      <td>999.0</td>\n      <td>999.0</td>\n      <td>19</td>\n      <td>22458.8</td>\n      <td>0</td>\n      <td>0</td>\n      <td>5</td>\n      <td>71</td>\n    </tr>\n    <tr>\n      <th>6812</th>\n      <td>C24</td>\n      <td>2185</td>\n      <td>Owned</td>\n      <td>Individual</td>\n      <td>61</td>\n      <td>61</td>\n      <td>No</td>\n      <td>X1</td>\n      <td>999.0</td>\n      <td>999.0</td>\n      <td>19</td>\n      <td>20544.0</td>\n      <td>1</td>\n      <td>0</td>\n      <td>0</td>\n      <td>61</td>\n    </tr>\n  </tbody>\n</table>\n</div>"
     },
     "metadata": {},
     "execution_count": 38
    }
   ],
   "source": [
    "#in train \n",
    "#creating a column with the age bracket - \n",
    "df['Age_Bracket'] = df[\"Upper_Age\"] - df[\"Lower_Age\"]\n",
    "\n",
    "# as both age columns are highly correlated, aggregating both\n",
    "col = df.loc[: , \"Upper_Age\":\"Lower_Age\"]\n",
    "df['av_Age'] = np.int64(col.mean(axis=1))\n",
    "df.sample(5)"
   ]
  },
  {
   "cell_type": "code",
   "execution_count": 39,
   "metadata": {},
   "outputs": [],
   "source": [
    "#in test\n",
    "df_test['Age_Bracket'] = df_test[\"Upper_Age\"] - df_test[\"Lower_Age\"]\n",
    "col = df_test.loc[: , \"Upper_Age\":\"Lower_Age\"]\n",
    "df_test['av_Age'] = np.int64(col.mean(axis=1))"
   ]
  },
  {
   "cell_type": "code",
   "execution_count": 40,
   "metadata": {},
   "outputs": [],
   "source": [
    "df = df.drop(columns=['Upper_Age',\"Lower_Age\"], axis=1)\n",
    "df_test = df_test.drop(columns=['Upper_Age',\"Lower_Age\"], axis=1)"
   ]
  },
  {
   "cell_type": "code",
   "execution_count": 41,
   "metadata": {},
   "outputs": [
    {
     "output_type": "execute_result",
     "data": {
      "text/plain": [
       "(17, 75, 18, 75)"
      ]
     },
     "metadata": {},
     "execution_count": 41
    }
   ],
   "source": [
    "df['av_Age'].min(),df['av_Age'].max(), df_test['av_Age'].min(),df_test['av_Age'].max()"
   ]
  },
  {
   "cell_type": "code",
   "execution_count": 42,
   "metadata": {},
   "outputs": [],
   "source": [
    "##creating Agebin based on average age\n",
    "# creating categorical feature from age\n",
    "bins1 = [16, 29, 39, 49, 55,76]\n",
    "bins_names = [1, 2, 3, 4, 5]\n",
    "\n",
    "df['AgeBin'] = pd.cut(df['av_Age'], bins1, labels=bins_names)\n",
    "df = df.drop(columns=['av_Age'], axis=1)\n",
    "\n",
    "df_test['AgeBin'] = pd.cut(df_test['av_Age'], bins1, labels=bins_names)\n",
    "df_test = df_test.drop(columns=['av_Age'], axis=1)"
   ]
  },
  {
   "cell_type": "code",
   "execution_count": 43,
   "metadata": {},
   "outputs": [],
   "source": [
    "## creating a conditional column for single users using below function - \n",
    "\n",
    "def conditions(df):\n",
    "    if (df['Is_Spouse'] == 'No') and (df['Age_Bracket'] == 0) and  (df['Reco_Insurance_Type'] == 'Individual'):\n",
    "        return 1\n",
    "    else:\n",
    "        return 0"
   ]
  },
  {
   "cell_type": "code",
   "execution_count": 44,
   "metadata": {},
   "outputs": [],
   "source": [
    "df['single_user'] = df.apply(conditions, axis=1)\n",
    "df_test['single_user'] = df_test.apply(conditions, axis=1)"
   ]
  },
  {
   "cell_type": "code",
   "execution_count": 45,
   "metadata": {},
   "outputs": [],
   "source": [
    "##creating a column for top tier cities\n",
    "\n",
    "top_tier = ['C1','C2','C3','C4','C5','C6','C7','C8','C9','C10','C11','C12']\n",
    "df['Top_tier_cities'] = df['City_Code'].apply(lambda x: 1 if x in top_tier else 0)\n",
    "\n",
    "\n",
    "top_tier = ['C1','C2','C3','C4','C5','C6','C7','C8','C9','C10','C11','C12']\n",
    "df_test['Top_tier_cities'] = df_test['City_Code'].apply(lambda x: 1 if x in top_tier else 0)"
   ]
  },
  {
   "cell_type": "code",
   "execution_count": 46,
   "metadata": {},
   "outputs": [
    {
     "output_type": "execute_result",
     "data": {
      "text/plain": [
       "  City_Code  Region_Code Accomodation_Type Reco_Insurance_Type Is_Spouse  \\\n",
       "0        C3         3213            Rented          Individual        No   \n",
       "1        C5         1117             Owned               Joint        No   \n",
       "2        C5         3732             Owned          Individual        No   \n",
       "3       C24         4378             Owned               Joint        No   \n",
       "4        C8         2190            Rented          Individual        No   \n",
       "\n",
       "  Health Indicator  Holding_Policy_Duration  Holding_Policy_Type  \\\n",
       "0               X1                     14.0                  3.0   \n",
       "1               X2                    999.0                999.0   \n",
       "2              999                      1.0                  1.0   \n",
       "3               X1                     14.0                  3.0   \n",
       "4               X2                      3.0                  1.0   \n",
       "\n",
       "   Reco_Policy_Cat  Reco_Policy_Premium  Response  new_user  Age_Bracket  \\\n",
       "0               22              11628.0         0         0            0   \n",
       "1               22              30510.0         0         0           53   \n",
       "2               19               7450.0         1         0            0   \n",
       "3               19              17780.0         0         0            4   \n",
       "4               16              10404.0         0         0            0   \n",
       "\n",
       "  AgeBin  single_user  Top_tier_cities  \n",
       "0      2            1                1  \n",
       "1      3            0                1  \n",
       "2      2            1                1  \n",
       "3      4            0                0  \n",
       "4      3            1                1  "
      ],
      "text/html": "<div>\n<style scoped>\n    .dataframe tbody tr th:only-of-type {\n        vertical-align: middle;\n    }\n\n    .dataframe tbody tr th {\n        vertical-align: top;\n    }\n\n    .dataframe thead th {\n        text-align: right;\n    }\n</style>\n<table border=\"1\" class=\"dataframe\">\n  <thead>\n    <tr style=\"text-align: right;\">\n      <th></th>\n      <th>City_Code</th>\n      <th>Region_Code</th>\n      <th>Accomodation_Type</th>\n      <th>Reco_Insurance_Type</th>\n      <th>Is_Spouse</th>\n      <th>Health Indicator</th>\n      <th>Holding_Policy_Duration</th>\n      <th>Holding_Policy_Type</th>\n      <th>Reco_Policy_Cat</th>\n      <th>Reco_Policy_Premium</th>\n      <th>Response</th>\n      <th>new_user</th>\n      <th>Age_Bracket</th>\n      <th>AgeBin</th>\n      <th>single_user</th>\n      <th>Top_tier_cities</th>\n    </tr>\n  </thead>\n  <tbody>\n    <tr>\n      <th>0</th>\n      <td>C3</td>\n      <td>3213</td>\n      <td>Rented</td>\n      <td>Individual</td>\n      <td>No</td>\n      <td>X1</td>\n      <td>14.0</td>\n      <td>3.0</td>\n      <td>22</td>\n      <td>11628.0</td>\n      <td>0</td>\n      <td>0</td>\n      <td>0</td>\n      <td>2</td>\n      <td>1</td>\n      <td>1</td>\n    </tr>\n    <tr>\n      <th>1</th>\n      <td>C5</td>\n      <td>1117</td>\n      <td>Owned</td>\n      <td>Joint</td>\n      <td>No</td>\n      <td>X2</td>\n      <td>999.0</td>\n      <td>999.0</td>\n      <td>22</td>\n      <td>30510.0</td>\n      <td>0</td>\n      <td>0</td>\n      <td>53</td>\n      <td>3</td>\n      <td>0</td>\n      <td>1</td>\n    </tr>\n    <tr>\n      <th>2</th>\n      <td>C5</td>\n      <td>3732</td>\n      <td>Owned</td>\n      <td>Individual</td>\n      <td>No</td>\n      <td>999</td>\n      <td>1.0</td>\n      <td>1.0</td>\n      <td>19</td>\n      <td>7450.0</td>\n      <td>1</td>\n      <td>0</td>\n      <td>0</td>\n      <td>2</td>\n      <td>1</td>\n      <td>1</td>\n    </tr>\n    <tr>\n      <th>3</th>\n      <td>C24</td>\n      <td>4378</td>\n      <td>Owned</td>\n      <td>Joint</td>\n      <td>No</td>\n      <td>X1</td>\n      <td>14.0</td>\n      <td>3.0</td>\n      <td>19</td>\n      <td>17780.0</td>\n      <td>0</td>\n      <td>0</td>\n      <td>4</td>\n      <td>4</td>\n      <td>0</td>\n      <td>0</td>\n    </tr>\n    <tr>\n      <th>4</th>\n      <td>C8</td>\n      <td>2190</td>\n      <td>Rented</td>\n      <td>Individual</td>\n      <td>No</td>\n      <td>X2</td>\n      <td>3.0</td>\n      <td>1.0</td>\n      <td>16</td>\n      <td>10404.0</td>\n      <td>0</td>\n      <td>0</td>\n      <td>0</td>\n      <td>3</td>\n      <td>1</td>\n      <td>1</td>\n    </tr>\n  </tbody>\n</table>\n</div>"
     },
     "metadata": {},
     "execution_count": 46
    }
   ],
   "source": [
    "df.head()"
   ]
  },
  {
   "cell_type": "code",
   "execution_count": 144,
   "metadata": {},
   "outputs": [
    {
     "output_type": "execute_result",
     "data": {
      "text/plain": [
       "Response                   1.000000\n",
       "Reco_Policy_Cat            0.114321\n",
       "Age_Bracket                0.012284\n",
       "Reco_Policy_Premium        0.007943\n",
       "Top_tier_cities            0.005305\n",
       "Holding_Policy_Duration    0.001897\n",
       "Holding_Policy_Type        0.001767\n",
       "Region_Code                0.001121\n",
       "new_user                  -0.006042\n",
       "single_user               -0.009891\n",
       "Name: Response, dtype: float64"
      ]
     },
     "metadata": {},
     "execution_count": 144
    }
   ],
   "source": []
  },
  {
   "source": [
    "## splitting data into train and test"
   ],
   "cell_type": "markdown",
   "metadata": {}
  },
  {
   "cell_type": "code",
   "execution_count": 48,
   "metadata": {},
   "outputs": [
    {
     "output_type": "execute_result",
     "data": {
      "text/plain": [
       "((38161, 15), (12721, 15), (38161,), (12721,))"
      ]
     },
     "metadata": {},
     "execution_count": 48
    }
   ],
   "source": [
    "X= df.drop(columns= 'Response',axis=1)\n",
    "y= df['Response']\n",
    "X_train ,X_val, y_train ,y_val  = train_test_split(X, y, test_size=0.25, random_state = 7)\n",
    "col=X_train.columns\n",
    "X_train.shape ,X_val.shape, y_train.shape ,y_val.shape"
   ]
  },
  {
   "cell_type": "code",
   "execution_count": 49,
   "metadata": {},
   "outputs": [
    {
     "output_type": "execute_result",
     "data": {
      "text/plain": [
       "      City_Code  Region_Code Accomodation_Type Reco_Insurance_Type Is_Spouse  \\\n",
       "3032        C26         2081            Rented               Joint       Yes   \n",
       "39927        C4         1106            Rented          Individual        No   \n",
       "31898        C1            8             Owned          Individual        No   \n",
       "7278        C23         5881             Owned          Individual        No   \n",
       "41174       C28          762             Owned          Individual        No   \n",
       "\n",
       "      Health Indicator  Holding_Policy_Duration  Holding_Policy_Type  \\\n",
       "3032                X1                     14.0                  2.0   \n",
       "39927               X3                      2.0                  1.0   \n",
       "31898               X3                      8.0                  1.0   \n",
       "7278                X3                    999.0                999.0   \n",
       "41174               X3                      1.0                  1.0   \n",
       "\n",
       "       Reco_Policy_Cat  Reco_Policy_Premium  new_user  Age_Bracket AgeBin  \\\n",
       "3032                 1              14756.0         0            9      3   \n",
       "39927                8               9324.0         0            0      1   \n",
       "31898                5              12546.0         0            0      4   \n",
       "7278                17              15158.0         0            0      5   \n",
       "41174               19              13700.0         0            0      4   \n",
       "\n",
       "       single_user  Top_tier_cities  \n",
       "3032             0                0  \n",
       "39927            1                1  \n",
       "31898            1                1  \n",
       "7278             1                0  \n",
       "41174            1                0  "
      ],
      "text/html": "<div>\n<style scoped>\n    .dataframe tbody tr th:only-of-type {\n        vertical-align: middle;\n    }\n\n    .dataframe tbody tr th {\n        vertical-align: top;\n    }\n\n    .dataframe thead th {\n        text-align: right;\n    }\n</style>\n<table border=\"1\" class=\"dataframe\">\n  <thead>\n    <tr style=\"text-align: right;\">\n      <th></th>\n      <th>City_Code</th>\n      <th>Region_Code</th>\n      <th>Accomodation_Type</th>\n      <th>Reco_Insurance_Type</th>\n      <th>Is_Spouse</th>\n      <th>Health Indicator</th>\n      <th>Holding_Policy_Duration</th>\n      <th>Holding_Policy_Type</th>\n      <th>Reco_Policy_Cat</th>\n      <th>Reco_Policy_Premium</th>\n      <th>new_user</th>\n      <th>Age_Bracket</th>\n      <th>AgeBin</th>\n      <th>single_user</th>\n      <th>Top_tier_cities</th>\n    </tr>\n  </thead>\n  <tbody>\n    <tr>\n      <th>3032</th>\n      <td>C26</td>\n      <td>2081</td>\n      <td>Rented</td>\n      <td>Joint</td>\n      <td>Yes</td>\n      <td>X1</td>\n      <td>14.0</td>\n      <td>2.0</td>\n      <td>1</td>\n      <td>14756.0</td>\n      <td>0</td>\n      <td>9</td>\n      <td>3</td>\n      <td>0</td>\n      <td>0</td>\n    </tr>\n    <tr>\n      <th>39927</th>\n      <td>C4</td>\n      <td>1106</td>\n      <td>Rented</td>\n      <td>Individual</td>\n      <td>No</td>\n      <td>X3</td>\n      <td>2.0</td>\n      <td>1.0</td>\n      <td>8</td>\n      <td>9324.0</td>\n      <td>0</td>\n      <td>0</td>\n      <td>1</td>\n      <td>1</td>\n      <td>1</td>\n    </tr>\n    <tr>\n      <th>31898</th>\n      <td>C1</td>\n      <td>8</td>\n      <td>Owned</td>\n      <td>Individual</td>\n      <td>No</td>\n      <td>X3</td>\n      <td>8.0</td>\n      <td>1.0</td>\n      <td>5</td>\n      <td>12546.0</td>\n      <td>0</td>\n      <td>0</td>\n      <td>4</td>\n      <td>1</td>\n      <td>1</td>\n    </tr>\n    <tr>\n      <th>7278</th>\n      <td>C23</td>\n      <td>5881</td>\n      <td>Owned</td>\n      <td>Individual</td>\n      <td>No</td>\n      <td>X3</td>\n      <td>999.0</td>\n      <td>999.0</td>\n      <td>17</td>\n      <td>15158.0</td>\n      <td>0</td>\n      <td>0</td>\n      <td>5</td>\n      <td>1</td>\n      <td>0</td>\n    </tr>\n    <tr>\n      <th>41174</th>\n      <td>C28</td>\n      <td>762</td>\n      <td>Owned</td>\n      <td>Individual</td>\n      <td>No</td>\n      <td>X3</td>\n      <td>1.0</td>\n      <td>1.0</td>\n      <td>19</td>\n      <td>13700.0</td>\n      <td>0</td>\n      <td>0</td>\n      <td>4</td>\n      <td>1</td>\n      <td>0</td>\n    </tr>\n  </tbody>\n</table>\n</div>"
     },
     "metadata": {},
     "execution_count": 49
    }
   ],
   "source": [
    "X_train.head()"
   ]
  },
  {
   "cell_type": "code",
   "execution_count": null,
   "metadata": {},
   "outputs": [],
   "source": []
  },
  {
   "source": [
    "## outlier mapping"
   ],
   "cell_type": "markdown",
   "metadata": {}
  },
  {
   "cell_type": "code",
   "execution_count": 50,
   "metadata": {},
   "outputs": [
    {
     "output_type": "stream",
     "name": "stdout",
     "text": [
      "<class 'pandas.core.frame.DataFrame'>\nInt64Index: 38161 entries, 3032 to 49689\nData columns (total 15 columns):\n #   Column                   Non-Null Count  Dtype   \n---  ------                   --------------  -----   \n 0   City_Code                38161 non-null  object  \n 1   Region_Code              38161 non-null  int64   \n 2   Accomodation_Type        38161 non-null  object  \n 3   Reco_Insurance_Type      38161 non-null  object  \n 4   Is_Spouse                38161 non-null  object  \n 5   Health Indicator         38161 non-null  object  \n 6   Holding_Policy_Duration  38161 non-null  float64 \n 7   Holding_Policy_Type      38161 non-null  float64 \n 8   Reco_Policy_Cat          38161 non-null  int64   \n 9   Reco_Policy_Premium      38161 non-null  float64 \n 10  new_user                 38161 non-null  int64   \n 11  Age_Bracket              38161 non-null  int64   \n 12  AgeBin                   38161 non-null  category\n 13  single_user              38161 non-null  int64   \n 14  Top_tier_cities          38161 non-null  int64   \ndtypes: category(1), float64(3), int64(6), object(5)\nmemory usage: 4.4+ MB\n"
     ]
    }
   ],
   "source": [
    "X_train.info()"
   ]
  },
  {
   "cell_type": "code",
   "execution_count": 51,
   "metadata": {},
   "outputs": [],
   "source": [
    "###  removing outlier values\n",
    "numeric_col= X_train[[\"Reco_Policy_Premium\"]]\n",
    "for i in numeric_col:\n",
    "    X_train.loc[X_train[i]>X_train[i].quantile(0.99),i]=X_train[i].quantile(0.99)"
   ]
  },
  {
   "cell_type": "code",
   "execution_count": 52,
   "metadata": {},
   "outputs": [],
   "source": [
    "X_train.to_csv('catboost\\X_train1.csv',index = False)\n",
    "X_val.to_csv('catboost\\X_val1.csv',index = False)\n",
    "\n",
    "df_test.to_csv('catboost\\df_test1.csv',index = False)\n",
    "\n",
    "y_train.to_csv('catboost\\y_train1.csv',index = False)\n",
    "y_val.to_csv('catboost\\y_val.csv1',index = False)"
   ]
  },
  {
   "cell_type": "code",
   "execution_count": 86,
   "metadata": {},
   "outputs": [],
   "source": []
  },
  {
   "cell_type": "code",
   "execution_count": 53,
   "metadata": {},
   "outputs": [
    {
     "output_type": "execute_result",
     "data": {
      "text/plain": [
       "      City_Code  Region_Code Accomodation_Type Reco_Insurance_Type Is_Spouse  \\\n",
       "37893        C4         4271            Rented          Individual        No   \n",
       "40371       C18          653            Rented          Individual        No   \n",
       "31953       C11          319            Rented          Individual        No   \n",
       "41294        C1         1555             Owned          Individual        No   \n",
       "22158       C14         3258             Owned               Joint       Yes   \n",
       "2271        C23         5845             Owned          Individual        No   \n",
       "7189        C16         3754             Owned               Joint        No   \n",
       "23562        C2         1744             Owned          Individual        No   \n",
       "26875        C2          746            Rented          Individual        No   \n",
       "17427       C12          138             Owned               Joint       Yes   \n",
       "\n",
       "      Health Indicator  Holding_Policy_Duration  Holding_Policy_Type  \\\n",
       "37893               X1                    999.0                999.0   \n",
       "40371               X1                    999.0                999.0   \n",
       "31953               X3                      3.0                  4.0   \n",
       "41294               X1                     12.0                  4.0   \n",
       "22158              999                      3.0                  2.0   \n",
       "2271                X2                    999.0                999.0   \n",
       "7189                X1                      5.0                  3.0   \n",
       "23562               X4                    999.0                999.0   \n",
       "26875               X6                      6.0                  3.0   \n",
       "17427               X4                      3.0                  1.0   \n",
       "\n",
       "       Reco_Policy_Cat  Reco_Policy_Premium  new_user  Age_Bracket AgeBin  \\\n",
       "37893               22               5176.0         0            0      1   \n",
       "40371                2               3648.0         0            0      1   \n",
       "31953               15               5580.0         0            0      2   \n",
       "41294               17              15964.0         0            0      5   \n",
       "22158               18              19866.0         0            1      5   \n",
       "2271                14               8800.0         0            0      2   \n",
       "7189                20              21186.0         0           31      2   \n",
       "23562               15               6220.0         0            0      1   \n",
       "26875               11              18360.0         0            0      5   \n",
       "17427                6              21436.8         0            2      2   \n",
       "\n",
       "       single_user  Top_tier_cities  \n",
       "37893            1                1  \n",
       "40371            1                0  \n",
       "31953            1                1  \n",
       "41294            1                1  \n",
       "22158            0                0  \n",
       "2271             1                0  \n",
       "7189             0                0  \n",
       "23562            1                1  \n",
       "26875            1                1  \n",
       "17427            0                1  "
      ],
      "text/html": "<div>\n<style scoped>\n    .dataframe tbody tr th:only-of-type {\n        vertical-align: middle;\n    }\n\n    .dataframe tbody tr th {\n        vertical-align: top;\n    }\n\n    .dataframe thead th {\n        text-align: right;\n    }\n</style>\n<table border=\"1\" class=\"dataframe\">\n  <thead>\n    <tr style=\"text-align: right;\">\n      <th></th>\n      <th>City_Code</th>\n      <th>Region_Code</th>\n      <th>Accomodation_Type</th>\n      <th>Reco_Insurance_Type</th>\n      <th>Is_Spouse</th>\n      <th>Health Indicator</th>\n      <th>Holding_Policy_Duration</th>\n      <th>Holding_Policy_Type</th>\n      <th>Reco_Policy_Cat</th>\n      <th>Reco_Policy_Premium</th>\n      <th>new_user</th>\n      <th>Age_Bracket</th>\n      <th>AgeBin</th>\n      <th>single_user</th>\n      <th>Top_tier_cities</th>\n    </tr>\n  </thead>\n  <tbody>\n    <tr>\n      <th>37893</th>\n      <td>C4</td>\n      <td>4271</td>\n      <td>Rented</td>\n      <td>Individual</td>\n      <td>No</td>\n      <td>X1</td>\n      <td>999.0</td>\n      <td>999.0</td>\n      <td>22</td>\n      <td>5176.0</td>\n      <td>0</td>\n      <td>0</td>\n      <td>1</td>\n      <td>1</td>\n      <td>1</td>\n    </tr>\n    <tr>\n      <th>40371</th>\n      <td>C18</td>\n      <td>653</td>\n      <td>Rented</td>\n      <td>Individual</td>\n      <td>No</td>\n      <td>X1</td>\n      <td>999.0</td>\n      <td>999.0</td>\n      <td>2</td>\n      <td>3648.0</td>\n      <td>0</td>\n      <td>0</td>\n      <td>1</td>\n      <td>1</td>\n      <td>0</td>\n    </tr>\n    <tr>\n      <th>31953</th>\n      <td>C11</td>\n      <td>319</td>\n      <td>Rented</td>\n      <td>Individual</td>\n      <td>No</td>\n      <td>X3</td>\n      <td>3.0</td>\n      <td>4.0</td>\n      <td>15</td>\n      <td>5580.0</td>\n      <td>0</td>\n      <td>0</td>\n      <td>2</td>\n      <td>1</td>\n      <td>1</td>\n    </tr>\n    <tr>\n      <th>41294</th>\n      <td>C1</td>\n      <td>1555</td>\n      <td>Owned</td>\n      <td>Individual</td>\n      <td>No</td>\n      <td>X1</td>\n      <td>12.0</td>\n      <td>4.0</td>\n      <td>17</td>\n      <td>15964.0</td>\n      <td>0</td>\n      <td>0</td>\n      <td>5</td>\n      <td>1</td>\n      <td>1</td>\n    </tr>\n    <tr>\n      <th>22158</th>\n      <td>C14</td>\n      <td>3258</td>\n      <td>Owned</td>\n      <td>Joint</td>\n      <td>Yes</td>\n      <td>999</td>\n      <td>3.0</td>\n      <td>2.0</td>\n      <td>18</td>\n      <td>19866.0</td>\n      <td>0</td>\n      <td>1</td>\n      <td>5</td>\n      <td>0</td>\n      <td>0</td>\n    </tr>\n    <tr>\n      <th>2271</th>\n      <td>C23</td>\n      <td>5845</td>\n      <td>Owned</td>\n      <td>Individual</td>\n      <td>No</td>\n      <td>X2</td>\n      <td>999.0</td>\n      <td>999.0</td>\n      <td>14</td>\n      <td>8800.0</td>\n      <td>0</td>\n      <td>0</td>\n      <td>2</td>\n      <td>1</td>\n      <td>0</td>\n    </tr>\n    <tr>\n      <th>7189</th>\n      <td>C16</td>\n      <td>3754</td>\n      <td>Owned</td>\n      <td>Joint</td>\n      <td>No</td>\n      <td>X1</td>\n      <td>5.0</td>\n      <td>3.0</td>\n      <td>20</td>\n      <td>21186.0</td>\n      <td>0</td>\n      <td>31</td>\n      <td>2</td>\n      <td>0</td>\n      <td>0</td>\n    </tr>\n    <tr>\n      <th>23562</th>\n      <td>C2</td>\n      <td>1744</td>\n      <td>Owned</td>\n      <td>Individual</td>\n      <td>No</td>\n      <td>X4</td>\n      <td>999.0</td>\n      <td>999.0</td>\n      <td>15</td>\n      <td>6220.0</td>\n      <td>0</td>\n      <td>0</td>\n      <td>1</td>\n      <td>1</td>\n      <td>1</td>\n    </tr>\n    <tr>\n      <th>26875</th>\n      <td>C2</td>\n      <td>746</td>\n      <td>Rented</td>\n      <td>Individual</td>\n      <td>No</td>\n      <td>X6</td>\n      <td>6.0</td>\n      <td>3.0</td>\n      <td>11</td>\n      <td>18360.0</td>\n      <td>0</td>\n      <td>0</td>\n      <td>5</td>\n      <td>1</td>\n      <td>1</td>\n    </tr>\n    <tr>\n      <th>17427</th>\n      <td>C12</td>\n      <td>138</td>\n      <td>Owned</td>\n      <td>Joint</td>\n      <td>Yes</td>\n      <td>X4</td>\n      <td>3.0</td>\n      <td>1.0</td>\n      <td>6</td>\n      <td>21436.8</td>\n      <td>0</td>\n      <td>2</td>\n      <td>2</td>\n      <td>0</td>\n      <td>1</td>\n    </tr>\n  </tbody>\n</table>\n</div>"
     },
     "metadata": {},
     "execution_count": 53
    }
   ],
   "source": [
    "X_train.sample(10)"
   ]
  },
  {
   "cell_type": "code",
   "execution_count": 54,
   "metadata": {},
   "outputs": [],
   "source": [
    "## converting datatype to int\n",
    "X_train['Holding_Policy_Duration'] = np.int64(X_train['Holding_Policy_Duration'])\n",
    "X_train['Holding_Policy_Type'] = np.int64(X_train['Holding_Policy_Type'])\n",
    "\n",
    "X_val['Holding_Policy_Duration'] = np.int64(X_val['Holding_Policy_Duration'])\n",
    "X_val['Holding_Policy_Type'] = np.int64(X_val['Holding_Policy_Type'])\n",
    "\n",
    "df_test['Holding_Policy_Duration'] = np.int64(df_test['Holding_Policy_Duration'])\n",
    "df_test['Holding_Policy_Type'] = np.int64(df_test['Holding_Policy_Type'])"
   ]
  },
  {
   "cell_type": "code",
   "execution_count": 55,
   "metadata": {},
   "outputs": [
    {
     "output_type": "execute_result",
     "data": {
      "text/plain": [
       "((38161, 15), '----', (12721, 15), '-----', (21805, 15))"
      ]
     },
     "metadata": {},
     "execution_count": 55
    }
   ],
   "source": [
    "X_train.shape, \"----\" ,X_val.shape, \"-----\", df_test.shape"
   ]
  },
  {
   "cell_type": "code",
   "execution_count": 56,
   "metadata": {},
   "outputs": [
    {
     "output_type": "execute_result",
     "data": {
      "text/plain": [
       "Index(['City_Code', 'Region_Code', 'Accomodation_Type', 'Reco_Insurance_Type',\n",
       "       'Is_Spouse', 'Health Indicator', 'Holding_Policy_Duration',\n",
       "       'Holding_Policy_Type', 'Reco_Policy_Cat', 'Reco_Policy_Premium',\n",
       "       'new_user', 'Age_Bracket', 'AgeBin', 'single_user', 'Top_tier_cities'],\n",
       "      dtype='object')"
      ]
     },
     "metadata": {},
     "execution_count": 56
    }
   ],
   "source": [
    "X_train.columns"
   ]
  },
  {
   "cell_type": "code",
   "execution_count": 57,
   "metadata": {},
   "outputs": [],
   "source": [
    "#defining catagorical columns and numerical columns\n",
    "cat_cols = ['City_Code','Region_Code', 'Accomodation_Type', 'Reco_Insurance_Type', 'Is_Spouse', 'Health Indicator','Holding_Policy_Duration', 'Holding_Policy_Type', 'Reco_Policy_Cat','new_user', 'Top_tier_cities','single_user','AgeBin']\n",
    "num_cols = ['Age_Bracket','Reco_Policy_Premium']\n",
    "\n",
    "X_train[cat_cols] = X_train[cat_cols].apply(lambda x: x.astype('category'))\n",
    "X_train[num_cols] = X_train[num_cols].apply(lambda x: x.astype('int'))\n",
    "\n",
    "X_val[cat_cols] = X_val[cat_cols].apply(lambda x: x.astype('category'))\n",
    "X_val[num_cols] = X_val[num_cols].apply(lambda x: x.astype('int'))\n",
    "\n",
    "df_test[cat_cols] = df_test[cat_cols].apply(lambda x: x.astype('category'))\n",
    "df_test[num_cols] = df_test[num_cols].apply(lambda x: x.astype('int'))"
   ]
  },
  {
   "source": [
    "## Implementing Catboost"
   ],
   "cell_type": "markdown",
   "metadata": {}
  },
  {
   "cell_type": "code",
   "execution_count": 123,
   "metadata": {},
   "outputs": [
    {
     "output_type": "stream",
     "name": "stdout",
     "text": [
      "<class 'pandas.core.frame.DataFrame'>\nRangeIndex: 21805 entries, 0 to 21804\nData columns (total 15 columns):\n #   Column                   Non-Null Count  Dtype   \n---  ------                   --------------  -----   \n 0   City_Code                21805 non-null  category\n 1   Region_Code              21805 non-null  category\n 2   Accomodation_Type        21805 non-null  category\n 3   Reco_Insurance_Type      21805 non-null  category\n 4   Is_Spouse                21805 non-null  category\n 5   Health Indicator         21805 non-null  category\n 6   Holding_Policy_Duration  21805 non-null  category\n 7   Holding_Policy_Type      21805 non-null  category\n 8   Reco_Policy_Cat          21805 non-null  category\n 9   Reco_Policy_Premium      21805 non-null  int32   \n 10  new_user                 21805 non-null  category\n 11  Age_Bracket              21805 non-null  int32   \n 12  AgeBin                   21805 non-null  category\n 13  single_user              21805 non-null  category\n 14  Top_tier_cities          21805 non-null  category\ndtypes: category(13), int32(2)\nmemory usage: 638.5 KB\n"
     ]
    }
   ],
   "source": [
    "df_test.info()"
   ]
  },
  {
   "cell_type": "code",
   "execution_count": 59,
   "metadata": {},
   "outputs": [],
   "source": [
    "catcols = ['City_Code','Region_Code', 'Accomodation_Type', 'Reco_Insurance_Type', 'Is_Spouse', 'Health Indicator','Holding_Policy_Duration', 'Holding_Policy_Type', 'Reco_Policy_Cat','new_user', 'Top_tier_cities','single_user','AgeBin']"
   ]
  },
  {
   "cell_type": "code",
   "execution_count": 60,
   "metadata": {},
   "outputs": [],
   "source": [
    "##importing catboost classifier\n",
    "from catboost import CatBoostClassifier\n",
    "from sklearn.metrics import roc_auc_score\n",
    "model=CatBoostClassifier()"
   ]
  },
  {
   "cell_type": "code",
   "execution_count": 61,
   "metadata": {},
   "outputs": [],
   "source": [
    "from sklearn.model_selection import RandomizedSearchCV"
   ]
  },
  {
   "cell_type": "code",
   "execution_count": 62,
   "metadata": {},
   "outputs": [],
   "source": [
    "# defining parameters to feed into random search\n",
    "parameter_grid = {\n",
    "          'max_depth':[3,1,2,5,7,9,10],\n",
    "          'iterations':[500,750,1000,1500],\n",
    "          'learning_rate':[0.001,0.05,0.03,0.01,0.1,0.3], \n",
    "          'l2_leaf_reg':[0,3,1,5,10,100],\n",
    "          'bagging_temperature':[0,1],\n",
    "          'random_strength':[0,1,3,5]\n",
    "          }"
   ]
  },
  {
   "cell_type": "code",
   "execution_count": 63,
   "metadata": {},
   "outputs": [],
   "source": [
    "model1=CatBoostClassifier(cat_features=catcols)"
   ]
  },
  {
   "cell_type": "code",
   "execution_count": 64,
   "metadata": {},
   "outputs": [],
   "source": [
    "randomsearch=RandomizedSearchCV(model1,param_distributions=parameter_grid,verbose=2,n_iter=3,cv=3)"
   ]
  },
  {
   "cell_type": "code",
   "execution_count": 65,
   "metadata": {
    "tags": [
     "outputPrepend"
    ]
   },
   "outputs": [
    {
     "output_type": "stream",
     "name": "stdout",
     "text": [
      "ning: 1m 21s\n",
      "118:\tlearn: 0.4439606\ttotal: 25.4s\tremaining: 1m 21s\n",
      "119:\tlearn: 0.4439591\ttotal: 25.6s\tremaining: 1m 20s\n",
      "120:\tlearn: 0.4439591\ttotal: 25.6s\tremaining: 1m 20s\n",
      "121:\tlearn: 0.4437938\ttotal: 25.8s\tremaining: 1m 20s\n",
      "122:\tlearn: 0.4437937\ttotal: 25.9s\tremaining: 1m 19s\n",
      "123:\tlearn: 0.4437448\ttotal: 26.1s\tremaining: 1m 19s\n",
      "124:\tlearn: 0.4437448\ttotal: 26.1s\tremaining: 1m 18s\n",
      "125:\tlearn: 0.4435592\ttotal: 26.5s\tremaining: 1m 18s\n",
      "126:\tlearn: 0.4434675\ttotal: 26.7s\tremaining: 1m 18s\n",
      "127:\tlearn: 0.4431893\ttotal: 27s\tremaining: 1m 18s\n",
      "128:\tlearn: 0.4429801\ttotal: 27.3s\tremaining: 1m 18s\n",
      "129:\tlearn: 0.4427824\ttotal: 27.8s\tremaining: 1m 18s\n",
      "130:\tlearn: 0.4425561\ttotal: 28s\tremaining: 1m 18s\n",
      "131:\tlearn: 0.4425387\ttotal: 28.1s\tremaining: 1m 18s\n",
      "132:\tlearn: 0.4425315\ttotal: 28.1s\tremaining: 1m 17s\n",
      "133:\tlearn: 0.4424692\ttotal: 28.4s\tremaining: 1m 17s\n",
      "134:\tlearn: 0.4424129\ttotal: 28.7s\tremaining: 1m 17s\n",
      "135:\tlearn: 0.4424129\ttotal: 28.7s\tremaining: 1m 16s\n",
      "136:\tlearn: 0.4424104\ttotal: 28.8s\tremaining: 1m 16s\n",
      "137:\tlearn: 0.4423187\ttotal: 29.1s\tremaining: 1m 16s\n",
      "138:\tlearn: 0.4421937\ttotal: 29.3s\tremaining: 1m 16s\n",
      "139:\tlearn: 0.4421912\ttotal: 29.5s\tremaining: 1m 15s\n",
      "140:\tlearn: 0.4421755\ttotal: 29.7s\tremaining: 1m 15s\n",
      "141:\tlearn: 0.4420629\ttotal: 30s\tremaining: 1m 15s\n",
      "142:\tlearn: 0.4418438\ttotal: 30.2s\tremaining: 1m 15s\n",
      "143:\tlearn: 0.4418429\ttotal: 30.3s\tremaining: 1m 14s\n",
      "144:\tlearn: 0.4417965\ttotal: 30.6s\tremaining: 1m 14s\n",
      "145:\tlearn: 0.4416936\ttotal: 30.9s\tremaining: 1m 14s\n",
      "146:\tlearn: 0.4416936\ttotal: 30.9s\tremaining: 1m 14s\n",
      "147:\tlearn: 0.4415886\ttotal: 31.2s\tremaining: 1m 14s\n",
      "148:\tlearn: 0.4414142\ttotal: 31.5s\tremaining: 1m 14s\n",
      "149:\tlearn: 0.4413298\ttotal: 31.8s\tremaining: 1m 14s\n",
      "150:\tlearn: 0.4412813\ttotal: 32.1s\tremaining: 1m 14s\n",
      "151:\tlearn: 0.4410616\ttotal: 32.4s\tremaining: 1m 14s\n",
      "152:\tlearn: 0.4409134\ttotal: 32.6s\tremaining: 1m 14s\n",
      "153:\tlearn: 0.4408740\ttotal: 32.9s\tremaining: 1m 13s\n",
      "154:\tlearn: 0.4407909\ttotal: 33.2s\tremaining: 1m 13s\n",
      "155:\tlearn: 0.4407884\ttotal: 33.3s\tremaining: 1m 13s\n",
      "156:\tlearn: 0.4407879\ttotal: 33.3s\tremaining: 1m 12s\n",
      "157:\tlearn: 0.4407278\ttotal: 33.6s\tremaining: 1m 12s\n",
      "158:\tlearn: 0.4407278\ttotal: 33.7s\tremaining: 1m 12s\n",
      "159:\tlearn: 0.4406317\ttotal: 34.2s\tremaining: 1m 12s\n",
      "160:\tlearn: 0.4405533\ttotal: 34.5s\tremaining: 1m 12s\n",
      "161:\tlearn: 0.4405474\ttotal: 34.5s\tremaining: 1m 12s\n",
      "162:\tlearn: 0.4403711\ttotal: 34.8s\tremaining: 1m 11s\n",
      "163:\tlearn: 0.4403056\ttotal: 35.1s\tremaining: 1m 11s\n",
      "164:\tlearn: 0.4402196\ttotal: 35.3s\tremaining: 1m 11s\n",
      "165:\tlearn: 0.4401697\ttotal: 35.5s\tremaining: 1m 11s\n",
      "166:\tlearn: 0.4400885\ttotal: 35.7s\tremaining: 1m 11s\n",
      "167:\tlearn: 0.4400885\ttotal: 35.8s\tremaining: 1m 10s\n",
      "168:\tlearn: 0.4398853\ttotal: 36s\tremaining: 1m 10s\n",
      "169:\tlearn: 0.4398853\ttotal: 36.1s\tremaining: 1m 10s\n",
      "170:\tlearn: 0.4397743\ttotal: 36.4s\tremaining: 1m 9s\n",
      "171:\tlearn: 0.4396140\ttotal: 36.6s\tremaining: 1m 9s\n",
      "172:\tlearn: 0.4394573\ttotal: 36.8s\tremaining: 1m 9s\n",
      "173:\tlearn: 0.4394495\ttotal: 37s\tremaining: 1m 9s\n",
      "174:\tlearn: 0.4394159\ttotal: 37.1s\tremaining: 1m 8s\n",
      "175:\tlearn: 0.4393230\ttotal: 37.4s\tremaining: 1m 8s\n",
      "176:\tlearn: 0.4392966\ttotal: 37.6s\tremaining: 1m 8s\n",
      "177:\tlearn: 0.4392492\ttotal: 37.9s\tremaining: 1m 8s\n",
      "178:\tlearn: 0.4392135\ttotal: 38.2s\tremaining: 1m 8s\n",
      "179:\tlearn: 0.4391914\ttotal: 38.4s\tremaining: 1m 8s\n",
      "180:\tlearn: 0.4391537\ttotal: 38.5s\tremaining: 1m 7s\n",
      "181:\tlearn: 0.4390915\ttotal: 38.7s\tremaining: 1m 7s\n",
      "182:\tlearn: 0.4389288\ttotal: 38.9s\tremaining: 1m 7s\n",
      "183:\tlearn: 0.4389253\ttotal: 39s\tremaining: 1m 6s\n",
      "184:\tlearn: 0.4389217\ttotal: 39.1s\tremaining: 1m 6s\n",
      "185:\tlearn: 0.4386324\ttotal: 39.4s\tremaining: 1m 6s\n",
      "186:\tlearn: 0.4386324\ttotal: 39.5s\tremaining: 1m 6s\n",
      "187:\tlearn: 0.4385585\ttotal: 39.6s\tremaining: 1m 5s\n",
      "188:\tlearn: 0.4385380\ttotal: 39.8s\tremaining: 1m 5s\n",
      "189:\tlearn: 0.4385292\ttotal: 40s\tremaining: 1m 5s\n",
      "190:\tlearn: 0.4384220\ttotal: 40.4s\tremaining: 1m 5s\n",
      "191:\tlearn: 0.4384103\ttotal: 40.5s\tremaining: 1m 4s\n",
      "192:\tlearn: 0.4383260\ttotal: 40.7s\tremaining: 1m 4s\n",
      "193:\tlearn: 0.4382008\ttotal: 40.9s\tremaining: 1m 4s\n",
      "194:\tlearn: 0.4381327\ttotal: 41.2s\tremaining: 1m 4s\n",
      "195:\tlearn: 0.4380090\ttotal: 41.5s\tremaining: 1m 4s\n",
      "196:\tlearn: 0.4379170\ttotal: 41.8s\tremaining: 1m 4s\n",
      "197:\tlearn: 0.4379169\ttotal: 41.9s\tremaining: 1m 3s\n",
      "198:\tlearn: 0.4376528\ttotal: 42.1s\tremaining: 1m 3s\n",
      "199:\tlearn: 0.4375512\ttotal: 42.5s\tremaining: 1m 3s\n",
      "200:\tlearn: 0.4374601\ttotal: 42.8s\tremaining: 1m 3s\n",
      "201:\tlearn: 0.4373011\ttotal: 43.1s\tremaining: 1m 3s\n",
      "202:\tlearn: 0.4369647\ttotal: 43.4s\tremaining: 1m 3s\n",
      "203:\tlearn: 0.4368114\ttotal: 43.6s\tremaining: 1m 3s\n",
      "204:\tlearn: 0.4366533\ttotal: 43.9s\tremaining: 1m 3s\n",
      "205:\tlearn: 0.4366009\ttotal: 44.1s\tremaining: 1m 2s\n",
      "206:\tlearn: 0.4364151\ttotal: 44.4s\tremaining: 1m 2s\n",
      "207:\tlearn: 0.4362995\ttotal: 44.6s\tremaining: 1m 2s\n",
      "208:\tlearn: 0.4362803\ttotal: 44.7s\tremaining: 1m 2s\n",
      "209:\tlearn: 0.4362307\ttotal: 44.9s\tremaining: 1m 1s\n",
      "210:\tlearn: 0.4360935\ttotal: 45.4s\tremaining: 1m 2s\n",
      "211:\tlearn: 0.4360935\ttotal: 45.5s\tremaining: 1m 1s\n",
      "212:\tlearn: 0.4359217\ttotal: 45.7s\tremaining: 1m 1s\n",
      "213:\tlearn: 0.4358015\ttotal: 46.1s\tremaining: 1m 1s\n",
      "214:\tlearn: 0.4357115\ttotal: 46.3s\tremaining: 1m 1s\n",
      "215:\tlearn: 0.4355122\ttotal: 46.6s\tremaining: 1m 1s\n",
      "216:\tlearn: 0.4354310\ttotal: 47s\tremaining: 1m 1s\n",
      "217:\tlearn: 0.4354208\ttotal: 47.1s\tremaining: 1m\n",
      "218:\tlearn: 0.4351348\ttotal: 47.4s\tremaining: 1m\n",
      "219:\tlearn: 0.4349354\ttotal: 47.7s\tremaining: 1m\n",
      "220:\tlearn: 0.4343958\ttotal: 48.1s\tremaining: 1m\n",
      "221:\tlearn: 0.4342456\ttotal: 48.4s\tremaining: 1m\n",
      "222:\tlearn: 0.4340584\ttotal: 48.6s\tremaining: 1m\n",
      "223:\tlearn: 0.4336601\ttotal: 49.1s\tremaining: 1m\n",
      "224:\tlearn: 0.4336372\ttotal: 49.3s\tremaining: 1m\n",
      "225:\tlearn: 0.4333889\ttotal: 49.6s\tremaining: 1m\n",
      "226:\tlearn: 0.4332356\ttotal: 49.9s\tremaining: 60s\n",
      "227:\tlearn: 0.4330027\ttotal: 50.1s\tremaining: 59.8s\n",
      "228:\tlearn: 0.4328868\ttotal: 50.4s\tremaining: 59.6s\n",
      "229:\tlearn: 0.4325807\ttotal: 50.7s\tremaining: 59.5s\n",
      "230:\tlearn: 0.4321685\ttotal: 50.9s\tremaining: 59.3s\n",
      "231:\tlearn: 0.4319214\ttotal: 51.2s\tremaining: 59.1s\n",
      "232:\tlearn: 0.4317087\ttotal: 51.5s\tremaining: 59s\n",
      "233:\tlearn: 0.4313371\ttotal: 51.7s\tremaining: 58.8s\n",
      "234:\tlearn: 0.4312754\ttotal: 52s\tremaining: 58.7s\n",
      "235:\tlearn: 0.4309962\ttotal: 52.3s\tremaining: 58.5s\n",
      "236:\tlearn: 0.4307476\ttotal: 52.5s\tremaining: 58.3s\n",
      "237:\tlearn: 0.4303711\ttotal: 52.8s\tremaining: 58.2s\n",
      "238:\tlearn: 0.4300141\ttotal: 53.1s\tremaining: 57.9s\n",
      "239:\tlearn: 0.4297953\ttotal: 53.4s\tremaining: 57.8s\n",
      "240:\tlearn: 0.4296050\ttotal: 53.7s\tremaining: 57.7s\n",
      "241:\tlearn: 0.4293886\ttotal: 54s\tremaining: 57.5s\n",
      "242:\tlearn: 0.4291817\ttotal: 54.3s\tremaining: 57.4s\n",
      "243:\tlearn: 0.4290146\ttotal: 54.6s\tremaining: 57.2s\n",
      "244:\tlearn: 0.4286988\ttotal: 54.9s\tremaining: 57.2s\n",
      "245:\tlearn: 0.4283106\ttotal: 55.2s\tremaining: 57s\n",
      "246:\tlearn: 0.4280441\ttotal: 55.5s\tremaining: 56.9s\n",
      "247:\tlearn: 0.4279600\ttotal: 56s\tremaining: 56.9s\n",
      "248:\tlearn: 0.4276411\ttotal: 56.3s\tremaining: 56.8s\n",
      "249:\tlearn: 0.4275410\ttotal: 56.6s\tremaining: 56.6s\n",
      "250:\tlearn: 0.4273749\ttotal: 56.8s\tremaining: 56.4s\n",
      "251:\tlearn: 0.4269293\ttotal: 57.2s\tremaining: 56.3s\n",
      "252:\tlearn: 0.4266173\ttotal: 57.5s\tremaining: 56.1s\n",
      "253:\tlearn: 0.4263652\ttotal: 57.7s\tremaining: 55.9s\n",
      "254:\tlearn: 0.4261777\ttotal: 58s\tremaining: 55.8s\n",
      "255:\tlearn: 0.4257684\ttotal: 58.4s\tremaining: 55.6s\n",
      "256:\tlearn: 0.4255626\ttotal: 58.6s\tremaining: 55.4s\n",
      "257:\tlearn: 0.4251845\ttotal: 58.9s\tremaining: 55.2s\n",
      "258:\tlearn: 0.4250769\ttotal: 59.2s\tremaining: 55.1s\n",
      "259:\tlearn: 0.4248250\ttotal: 59.6s\tremaining: 55s\n",
      "260:\tlearn: 0.4245976\ttotal: 59.8s\tremaining: 54.8s\n",
      "261:\tlearn: 0.4242026\ttotal: 1m\tremaining: 54.6s\n",
      "262:\tlearn: 0.4241072\ttotal: 1m\tremaining: 54.5s\n",
      "263:\tlearn: 0.4238175\ttotal: 1m\tremaining: 54.3s\n",
      "264:\tlearn: 0.4235816\ttotal: 1m 1s\tremaining: 54.1s\n",
      "265:\tlearn: 0.4232380\ttotal: 1m 1s\tremaining: 54.1s\n",
      "266:\tlearn: 0.4229526\ttotal: 1m 1s\tremaining: 53.9s\n",
      "267:\tlearn: 0.4227326\ttotal: 1m 2s\tremaining: 53.7s\n",
      "268:\tlearn: 0.4225835\ttotal: 1m 2s\tremaining: 53.6s\n",
      "269:\tlearn: 0.4221970\ttotal: 1m 2s\tremaining: 53.4s\n",
      "270:\tlearn: 0.4220482\ttotal: 1m 2s\tremaining: 53.2s\n",
      "271:\tlearn: 0.4216265\ttotal: 1m 3s\tremaining: 53s\n",
      "272:\tlearn: 0.4215026\ttotal: 1m 3s\tremaining: 52.8s\n",
      "273:\tlearn: 0.4211776\ttotal: 1m 3s\tremaining: 52.7s\n",
      "274:\tlearn: 0.4210536\ttotal: 1m 4s\tremaining: 52.5s\n",
      "275:\tlearn: 0.4208026\ttotal: 1m 4s\tremaining: 52.3s\n",
      "276:\tlearn: 0.4205197\ttotal: 1m 4s\tremaining: 52.1s\n",
      "277:\tlearn: 0.4202310\ttotal: 1m 5s\tremaining: 52s\n",
      "278:\tlearn: 0.4198009\ttotal: 1m 5s\tremaining: 51.8s\n",
      "279:\tlearn: 0.4196320\ttotal: 1m 5s\tremaining: 51.6s\n",
      "280:\tlearn: 0.4191794\ttotal: 1m 5s\tremaining: 51.4s\n",
      "281:\tlearn: 0.4189929\ttotal: 1m 6s\tremaining: 51.2s\n",
      "282:\tlearn: 0.4188888\ttotal: 1m 6s\tremaining: 51.1s\n",
      "283:\tlearn: 0.4185612\ttotal: 1m 7s\tremaining: 51.1s\n",
      "284:\tlearn: 0.4183316\ttotal: 1m 7s\tremaining: 50.9s\n",
      "285:\tlearn: 0.4182407\ttotal: 1m 7s\tremaining: 50.7s\n",
      "286:\tlearn: 0.4180547\ttotal: 1m 8s\tremaining: 50.5s\n",
      "287:\tlearn: 0.4177698\ttotal: 1m 8s\tremaining: 50.3s\n",
      "288:\tlearn: 0.4176303\ttotal: 1m 8s\tremaining: 50.1s\n",
      "289:\tlearn: 0.4171835\ttotal: 1m 8s\tremaining: 49.9s\n",
      "290:\tlearn: 0.4170788\ttotal: 1m 9s\tremaining: 49.8s\n",
      "291:\tlearn: 0.4169028\ttotal: 1m 9s\tremaining: 49.5s\n",
      "292:\tlearn: 0.4166957\ttotal: 1m 9s\tremaining: 49.4s\n",
      "293:\tlearn: 0.4165469\ttotal: 1m 10s\tremaining: 49.2s\n",
      "294:\tlearn: 0.4163188\ttotal: 1m 10s\tremaining: 49s\n",
      "295:\tlearn: 0.4161009\ttotal: 1m 10s\tremaining: 48.8s\n",
      "296:\tlearn: 0.4159563\ttotal: 1m 11s\tremaining: 48.6s\n",
      "297:\tlearn: 0.4158163\ttotal: 1m 11s\tremaining: 48.4s\n",
      "298:\tlearn: 0.4156639\ttotal: 1m 11s\tremaining: 48.1s\n",
      "299:\tlearn: 0.4154385\ttotal: 1m 11s\tremaining: 47.9s\n",
      "300:\tlearn: 0.4152059\ttotal: 1m 12s\tremaining: 47.7s\n",
      "301:\tlearn: 0.4150535\ttotal: 1m 12s\tremaining: 47.5s\n",
      "302:\tlearn: 0.4148847\ttotal: 1m 12s\tremaining: 47.3s\n",
      "303:\tlearn: 0.4147203\ttotal: 1m 12s\tremaining: 47s\n",
      "304:\tlearn: 0.4145238\ttotal: 1m 13s\tremaining: 46.8s\n",
      "305:\tlearn: 0.4142824\ttotal: 1m 13s\tremaining: 46.7s\n",
      "306:\tlearn: 0.4141267\ttotal: 1m 14s\tremaining: 46.6s\n",
      "307:\tlearn: 0.4139363\ttotal: 1m 14s\tremaining: 46.5s\n",
      "308:\tlearn: 0.4138299\ttotal: 1m 14s\tremaining: 46.3s\n",
      "309:\tlearn: 0.4137309\ttotal: 1m 15s\tremaining: 46.1s\n",
      "310:\tlearn: 0.4136232\ttotal: 1m 15s\tremaining: 45.9s\n",
      "311:\tlearn: 0.4135246\ttotal: 1m 15s\tremaining: 45.7s\n",
      "312:\tlearn: 0.4135117\ttotal: 1m 16s\tremaining: 45.5s\n",
      "313:\tlearn: 0.4134060\ttotal: 1m 16s\tremaining: 45.3s\n",
      "314:\tlearn: 0.4132529\ttotal: 1m 16s\tremaining: 45s\n",
      "315:\tlearn: 0.4132453\ttotal: 1m 17s\tremaining: 44.8s\n",
      "316:\tlearn: 0.4130979\ttotal: 1m 17s\tremaining: 44.6s\n",
      "317:\tlearn: 0.4128611\ttotal: 1m 17s\tremaining: 44.4s\n",
      "318:\tlearn: 0.4126217\ttotal: 1m 18s\tremaining: 44.3s\n",
      "319:\tlearn: 0.4124734\ttotal: 1m 18s\tremaining: 44.1s\n",
      "320:\tlearn: 0.4122816\ttotal: 1m 18s\tremaining: 43.9s\n",
      "321:\tlearn: 0.4121345\ttotal: 1m 19s\tremaining: 43.7s\n",
      "322:\tlearn: 0.4120189\ttotal: 1m 19s\tremaining: 43.5s\n",
      "323:\tlearn: 0.4117494\ttotal: 1m 19s\tremaining: 43.3s\n",
      "324:\tlearn: 0.4115646\ttotal: 1m 19s\tremaining: 43.1s\n",
      "325:\tlearn: 0.4114470\ttotal: 1m 20s\tremaining: 43s\n",
      "326:\tlearn: 0.4113244\ttotal: 1m 20s\tremaining: 42.8s\n",
      "327:\tlearn: 0.4110501\ttotal: 1m 21s\tremaining: 42.6s\n",
      "328:\tlearn: 0.4108141\ttotal: 1m 21s\tremaining: 42.5s\n",
      "329:\tlearn: 0.4106994\ttotal: 1m 22s\tremaining: 42.3s\n",
      "330:\tlearn: 0.4105335\ttotal: 1m 22s\tremaining: 42.1s\n",
      "331:\tlearn: 0.4104447\ttotal: 1m 22s\tremaining: 41.9s\n",
      "332:\tlearn: 0.4102556\ttotal: 1m 23s\tremaining: 41.7s\n",
      "333:\tlearn: 0.4100489\ttotal: 1m 23s\tremaining: 41.4s\n",
      "334:\tlearn: 0.4099583\ttotal: 1m 23s\tremaining: 41.3s\n",
      "335:\tlearn: 0.4097752\ttotal: 1m 24s\tremaining: 41.1s\n",
      "336:\tlearn: 0.4095805\ttotal: 1m 24s\tremaining: 40.9s\n",
      "337:\tlearn: 0.4094200\ttotal: 1m 24s\tremaining: 40.7s\n",
      "338:\tlearn: 0.4093506\ttotal: 1m 25s\tremaining: 40.4s\n",
      "339:\tlearn: 0.4091797\ttotal: 1m 25s\tremaining: 40.2s\n",
      "340:\tlearn: 0.4089661\ttotal: 1m 25s\tremaining: 39.9s\n",
      "341:\tlearn: 0.4088767\ttotal: 1m 25s\tremaining: 39.7s\n",
      "342:\tlearn: 0.4088098\ttotal: 1m 26s\tremaining: 39.5s\n",
      "343:\tlearn: 0.4087015\ttotal: 1m 26s\tremaining: 39.3s\n",
      "344:\tlearn: 0.4086788\ttotal: 1m 26s\tremaining: 39s\n",
      "345:\tlearn: 0.4085551\ttotal: 1m 27s\tremaining: 38.8s\n",
      "346:\tlearn: 0.4085025\ttotal: 1m 27s\tremaining: 38.6s\n",
      "347:\tlearn: 0.4084398\ttotal: 1m 27s\tremaining: 38.3s\n",
      "348:\tlearn: 0.4082968\ttotal: 1m 27s\tremaining: 38.1s\n",
      "349:\tlearn: 0.4081625\ttotal: 1m 28s\tremaining: 37.9s\n",
      "350:\tlearn: 0.4080910\ttotal: 1m 28s\tremaining: 37.6s\n",
      "351:\tlearn: 0.4080223\ttotal: 1m 28s\tremaining: 37.3s\n",
      "352:\tlearn: 0.4077555\ttotal: 1m 29s\tremaining: 37.1s\n",
      "353:\tlearn: 0.4076733\ttotal: 1m 29s\tremaining: 36.9s\n",
      "354:\tlearn: 0.4074826\ttotal: 1m 29s\tremaining: 36.7s\n",
      "355:\tlearn: 0.4073479\ttotal: 1m 30s\tremaining: 36.5s\n",
      "356:\tlearn: 0.4072064\ttotal: 1m 30s\tremaining: 36.3s\n",
      "357:\tlearn: 0.4070297\ttotal: 1m 30s\tremaining: 36.1s\n",
      "358:\tlearn: 0.4068661\ttotal: 1m 31s\tremaining: 35.8s\n",
      "359:\tlearn: 0.4067105\ttotal: 1m 31s\tremaining: 35.6s\n",
      "360:\tlearn: 0.4066424\ttotal: 1m 31s\tremaining: 35.3s\n",
      "361:\tlearn: 0.4064896\ttotal: 1m 32s\tremaining: 35.1s\n",
      "362:\tlearn: 0.4063010\ttotal: 1m 32s\tremaining: 34.9s\n",
      "363:\tlearn: 0.4061848\ttotal: 1m 32s\tremaining: 34.7s\n",
      "364:\tlearn: 0.4060950\ttotal: 1m 33s\tremaining: 34.4s\n",
      "365:\tlearn: 0.4059073\ttotal: 1m 33s\tremaining: 34.2s\n",
      "366:\tlearn: 0.4056882\ttotal: 1m 33s\tremaining: 33.9s\n",
      "367:\tlearn: 0.4055858\ttotal: 1m 33s\tremaining: 33.7s\n",
      "368:\tlearn: 0.4054509\ttotal: 1m 34s\tremaining: 33.4s\n",
      "369:\tlearn: 0.4053165\ttotal: 1m 34s\tremaining: 33.2s\n",
      "370:\tlearn: 0.4052524\ttotal: 1m 34s\tremaining: 32.9s\n",
      "371:\tlearn: 0.4050337\ttotal: 1m 35s\tremaining: 32.7s\n",
      "372:\tlearn: 0.4048976\ttotal: 1m 35s\tremaining: 32.5s\n",
      "373:\tlearn: 0.4046810\ttotal: 1m 35s\tremaining: 32.2s\n",
      "374:\tlearn: 0.4045514\ttotal: 1m 35s\tremaining: 32s\n",
      "375:\tlearn: 0.4044629\ttotal: 1m 36s\tremaining: 31.7s\n",
      "376:\tlearn: 0.4043630\ttotal: 1m 36s\tremaining: 31.5s\n",
      "377:\tlearn: 0.4041700\ttotal: 1m 36s\tremaining: 31.2s\n",
      "378:\tlearn: 0.4040204\ttotal: 1m 36s\tremaining: 31s\n",
      "379:\tlearn: 0.4038447\ttotal: 1m 37s\tremaining: 30.8s\n",
      "380:\tlearn: 0.4036781\ttotal: 1m 37s\tremaining: 30.5s\n",
      "381:\tlearn: 0.4035213\ttotal: 1m 38s\tremaining: 30.3s\n",
      "382:\tlearn: 0.4033631\ttotal: 1m 38s\tremaining: 30s\n",
      "383:\tlearn: 0.4031528\ttotal: 1m 38s\tremaining: 29.8s\n",
      "384:\tlearn: 0.4031085\ttotal: 1m 38s\tremaining: 29.6s\n",
      "385:\tlearn: 0.4030354\ttotal: 1m 39s\tremaining: 29.3s\n",
      "386:\tlearn: 0.4030216\ttotal: 1m 39s\tremaining: 29.1s\n",
      "387:\tlearn: 0.4026829\ttotal: 1m 39s\tremaining: 28.8s\n",
      "388:\tlearn: 0.4024199\ttotal: 1m 40s\tremaining: 28.6s\n",
      "389:\tlearn: 0.4022993\ttotal: 1m 40s\tremaining: 28.3s\n",
      "390:\tlearn: 0.4022143\ttotal: 1m 40s\tremaining: 28.1s\n",
      "391:\tlearn: 0.4020621\ttotal: 1m 41s\tremaining: 27.8s\n",
      "392:\tlearn: 0.4019904\ttotal: 1m 41s\tremaining: 27.6s\n",
      "393:\tlearn: 0.4017907\ttotal: 1m 41s\tremaining: 27.3s\n",
      "394:\tlearn: 0.4016886\ttotal: 1m 42s\tremaining: 27.2s\n",
      "395:\tlearn: 0.4015741\ttotal: 1m 42s\tremaining: 26.9s\n",
      "396:\tlearn: 0.4014789\ttotal: 1m 42s\tremaining: 26.7s\n",
      "397:\tlearn: 0.4012186\ttotal: 1m 43s\tremaining: 26.4s\n",
      "398:\tlearn: 0.4011954\ttotal: 1m 43s\tremaining: 26.2s\n",
      "399:\tlearn: 0.4009777\ttotal: 1m 43s\tremaining: 25.9s\n",
      "400:\tlearn: 0.4008415\ttotal: 1m 43s\tremaining: 25.7s\n",
      "401:\tlearn: 0.4008074\ttotal: 1m 44s\tremaining: 25.4s\n",
      "402:\tlearn: 0.4006905\ttotal: 1m 44s\tremaining: 25.2s\n",
      "403:\tlearn: 0.4005819\ttotal: 1m 44s\tremaining: 24.9s\n",
      "404:\tlearn: 0.4003535\ttotal: 1m 45s\tremaining: 24.7s\n",
      "405:\tlearn: 0.4002935\ttotal: 1m 45s\tremaining: 24.4s\n",
      "406:\tlearn: 0.4000349\ttotal: 1m 45s\tremaining: 24.2s\n",
      "407:\tlearn: 0.3999899\ttotal: 1m 46s\tremaining: 23.9s\n",
      "408:\tlearn: 0.3996779\ttotal: 1m 46s\tremaining: 23.7s\n",
      "409:\tlearn: 0.3996403\ttotal: 1m 46s\tremaining: 23.4s\n",
      "410:\tlearn: 0.3995498\ttotal: 1m 47s\tremaining: 23.2s\n",
      "411:\tlearn: 0.3994756\ttotal: 1m 47s\tremaining: 22.9s\n",
      "412:\tlearn: 0.3994606\ttotal: 1m 47s\tremaining: 22.7s\n",
      "413:\tlearn: 0.3992537\ttotal: 1m 47s\tremaining: 22.4s\n",
      "414:\tlearn: 0.3991359\ttotal: 1m 48s\tremaining: 22.2s\n",
      "415:\tlearn: 0.3990141\ttotal: 1m 48s\tremaining: 21.9s\n",
      "416:\tlearn: 0.3989240\ttotal: 1m 49s\tremaining: 21.7s\n",
      "417:\tlearn: 0.3986555\ttotal: 1m 49s\tremaining: 21.4s\n",
      "418:\tlearn: 0.3985022\ttotal: 1m 49s\tremaining: 21.2s\n",
      "419:\tlearn: 0.3983218\ttotal: 1m 49s\tremaining: 20.9s\n",
      "420:\tlearn: 0.3981843\ttotal: 1m 50s\tremaining: 20.7s\n",
      "421:\tlearn: 0.3979640\ttotal: 1m 50s\tremaining: 20.4s\n",
      "422:\tlearn: 0.3978150\ttotal: 1m 50s\tremaining: 20.2s\n",
      "423:\tlearn: 0.3975834\ttotal: 1m 51s\tremaining: 19.9s\n",
      "424:\tlearn: 0.3974831\ttotal: 1m 51s\tremaining: 19.7s\n",
      "425:\tlearn: 0.3973733\ttotal: 1m 51s\tremaining: 19.4s\n",
      "426:\tlearn: 0.3972571\ttotal: 1m 51s\tremaining: 19.1s\n",
      "427:\tlearn: 0.3971284\ttotal: 1m 52s\tremaining: 18.9s\n",
      "428:\tlearn: 0.3970485\ttotal: 1m 52s\tremaining: 18.6s\n",
      "429:\tlearn: 0.3969053\ttotal: 1m 52s\tremaining: 18.4s\n",
      "430:\tlearn: 0.3967200\ttotal: 1m 53s\tremaining: 18.1s\n",
      "431:\tlearn: 0.3965373\ttotal: 1m 53s\tremaining: 17.9s\n",
      "432:\tlearn: 0.3963748\ttotal: 1m 53s\tremaining: 17.6s\n",
      "433:\tlearn: 0.3962816\ttotal: 1m 54s\tremaining: 17.4s\n",
      "434:\tlearn: 0.3962569\ttotal: 1m 54s\tremaining: 17.1s\n",
      "435:\tlearn: 0.3960218\ttotal: 1m 54s\tremaining: 16.9s\n",
      "436:\tlearn: 0.3959142\ttotal: 1m 55s\tremaining: 16.6s\n",
      "437:\tlearn: 0.3957852\ttotal: 1m 55s\tremaining: 16.4s\n",
      "438:\tlearn: 0.3957105\ttotal: 1m 55s\tremaining: 16.1s\n",
      "439:\tlearn: 0.3955625\ttotal: 1m 56s\tremaining: 15.8s\n",
      "440:\tlearn: 0.3954476\ttotal: 1m 56s\tremaining: 15.6s\n",
      "441:\tlearn: 0.3953012\ttotal: 1m 56s\tremaining: 15.3s\n",
      "442:\tlearn: 0.3951553\ttotal: 1m 57s\tremaining: 15.1s\n",
      "443:\tlearn: 0.3949964\ttotal: 1m 57s\tremaining: 14.8s\n",
      "444:\tlearn: 0.3947885\ttotal: 1m 57s\tremaining: 14.5s\n",
      "445:\tlearn: 0.3945695\ttotal: 1m 57s\tremaining: 14.3s\n",
      "446:\tlearn: 0.3944159\ttotal: 1m 58s\tremaining: 14s\n",
      "447:\tlearn: 0.3941897\ttotal: 1m 58s\tremaining: 13.8s\n",
      "448:\tlearn: 0.3940878\ttotal: 1m 58s\tremaining: 13.5s\n",
      "449:\tlearn: 0.3939552\ttotal: 1m 59s\tremaining: 13.2s\n",
      "450:\tlearn: 0.3937601\ttotal: 1m 59s\tremaining: 13s\n",
      "451:\tlearn: 0.3935602\ttotal: 1m 59s\tremaining: 12.7s\n",
      "452:\tlearn: 0.3934917\ttotal: 1m 59s\tremaining: 12.4s\n",
      "453:\tlearn: 0.3933272\ttotal: 2m\tremaining: 12.2s\n",
      "454:\tlearn: 0.3931557\ttotal: 2m\tremaining: 11.9s\n",
      "455:\tlearn: 0.3930794\ttotal: 2m\tremaining: 11.7s\n",
      "456:\tlearn: 0.3928914\ttotal: 2m 1s\tremaining: 11.4s\n",
      "457:\tlearn: 0.3927357\ttotal: 2m 1s\tremaining: 11.2s\n",
      "458:\tlearn: 0.3926171\ttotal: 2m 1s\tremaining: 10.9s\n",
      "459:\tlearn: 0.3925112\ttotal: 2m 2s\tremaining: 10.6s\n",
      "460:\tlearn: 0.3923149\ttotal: 2m 2s\tremaining: 10.4s\n",
      "461:\tlearn: 0.3920662\ttotal: 2m 2s\tremaining: 10.1s\n",
      "462:\tlearn: 0.3920311\ttotal: 2m 3s\tremaining: 9.84s\n",
      "463:\tlearn: 0.3919562\ttotal: 2m 3s\tremaining: 9.57s\n",
      "464:\tlearn: 0.3918430\ttotal: 2m 3s\tremaining: 9.31s\n",
      "465:\tlearn: 0.3917158\ttotal: 2m 3s\tremaining: 9.04s\n",
      "466:\tlearn: 0.3916105\ttotal: 2m 4s\tremaining: 8.78s\n",
      "467:\tlearn: 0.3915456\ttotal: 2m 4s\tremaining: 8.51s\n",
      "468:\tlearn: 0.3914713\ttotal: 2m 4s\tremaining: 8.26s\n",
      "469:\tlearn: 0.3914614\ttotal: 2m 5s\tremaining: 7.99s\n",
      "470:\tlearn: 0.3913443\ttotal: 2m 5s\tremaining: 7.73s\n",
      "471:\tlearn: 0.3912410\ttotal: 2m 5s\tremaining: 7.47s\n",
      "472:\tlearn: 0.3910513\ttotal: 2m 6s\tremaining: 7.21s\n",
      "473:\tlearn: 0.3908853\ttotal: 2m 6s\tremaining: 6.94s\n",
      "474:\tlearn: 0.3908080\ttotal: 2m 6s\tremaining: 6.67s\n",
      "475:\tlearn: 0.3906276\ttotal: 2m 7s\tremaining: 6.41s\n",
      "476:\tlearn: 0.3905511\ttotal: 2m 7s\tremaining: 6.14s\n",
      "477:\tlearn: 0.3904660\ttotal: 2m 7s\tremaining: 5.88s\n",
      "478:\tlearn: 0.3903447\ttotal: 2m 7s\tremaining: 5.61s\n",
      "479:\tlearn: 0.3902872\ttotal: 2m 8s\tremaining: 5.35s\n",
      "480:\tlearn: 0.3901395\ttotal: 2m 8s\tremaining: 5.08s\n",
      "481:\tlearn: 0.3899405\ttotal: 2m 8s\tremaining: 4.81s\n",
      "482:\tlearn: 0.3898393\ttotal: 2m 9s\tremaining: 4.54s\n",
      "483:\tlearn: 0.3897149\ttotal: 2m 9s\tremaining: 4.28s\n",
      "484:\tlearn: 0.3896427\ttotal: 2m 9s\tremaining: 4.01s\n",
      "485:\tlearn: 0.3894301\ttotal: 2m 9s\tremaining: 3.74s\n",
      "486:\tlearn: 0.3892317\ttotal: 2m 10s\tremaining: 3.48s\n",
      "487:\tlearn: 0.3891092\ttotal: 2m 10s\tremaining: 3.21s\n",
      "488:\tlearn: 0.3890596\ttotal: 2m 10s\tremaining: 2.94s\n",
      "489:\tlearn: 0.3889005\ttotal: 2m 11s\tremaining: 2.67s\n",
      "490:\tlearn: 0.3888131\ttotal: 2m 11s\tremaining: 2.41s\n",
      "491:\tlearn: 0.3886671\ttotal: 2m 11s\tremaining: 2.14s\n",
      "492:\tlearn: 0.3885325\ttotal: 2m 12s\tremaining: 1.87s\n",
      "493:\tlearn: 0.3884537\ttotal: 2m 12s\tremaining: 1.61s\n",
      "494:\tlearn: 0.3884447\ttotal: 2m 12s\tremaining: 1.34s\n",
      "495:\tlearn: 0.3881746\ttotal: 2m 12s\tremaining: 1.07s\n",
      "496:\tlearn: 0.3880239\ttotal: 2m 13s\tremaining: 804ms\n",
      "497:\tlearn: 0.3876534\ttotal: 2m 13s\tremaining: 536ms\n",
      "498:\tlearn: 0.3875151\ttotal: 2m 13s\tremaining: 268ms\n",
      "499:\tlearn: 0.3873624\ttotal: 2m 14s\tremaining: 0us\n"
     ]
    },
    {
     "output_type": "execute_result",
     "data": {
      "text/plain": [
       "RandomizedSearchCV(cv=3,\n",
       "                   estimator=<catboost.core.CatBoostClassifier object at 0x0000020872E54F70>,\n",
       "                   n_iter=3,\n",
       "                   param_distributions={'bagging_temperature': [0, 1],\n",
       "                                        'iterations': [500, 750, 1000, 1500],\n",
       "                                        'l2_leaf_reg': [0, 3, 1, 5, 10, 100],\n",
       "                                        'learning_rate': [0.001, 0.05, 0.03,\n",
       "                                                          0.01, 0.1, 0.3],\n",
       "                                        'max_depth': [3, 1, 2, 5, 7, 9, 10],\n",
       "                                        'random_strength': [0, 1, 3, 5]},\n",
       "                   verbose=2)"
      ]
     },
     "metadata": {},
     "execution_count": 65
    }
   ],
   "source": [
    "randomsearch.fit(X_train, y_train)"
   ]
  },
  {
   "cell_type": "code",
   "execution_count": 66,
   "metadata": {},
   "outputs": [
    {
     "output_type": "execute_result",
     "data": {
      "text/plain": [
       "{'random_strength': 3,\n",
       " 'max_depth': 9,\n",
       " 'learning_rate': 0.05,\n",
       " 'l2_leaf_reg': 10,\n",
       " 'iterations': 500,\n",
       " 'bagging_temperature': 0}"
      ]
     },
     "metadata": {},
     "execution_count": 66
    }
   ],
   "source": [
    "randomsearch.best_params_   ## best parameters from random search "
   ]
  },
  {
   "cell_type": "code",
   "execution_count": 67,
   "metadata": {},
   "outputs": [],
   "source": [
    "model3=CatBoostClassifier(random_strength=3,\n",
    "  max_depth=9,\n",
    "  learning_rate= 0.05,\n",
    "  l2_leaf_reg= 10,\n",
    "  iterations= 500,\n",
    "  bagging_temperature=0)"
   ]
  },
  {
   "cell_type": "code",
   "execution_count": 68,
   "metadata": {
    "tags": [
     "outputPrepend"
    ]
   },
   "outputs": [
    {
     "output_type": "stream",
     "name": "stdout",
     "text": [
      "learn: 0.4439606\ttotal: 26.6s\tremaining: 1m 25s\n",
      "119:\tlearn: 0.4439591\ttotal: 26.7s\tremaining: 1m 24s\n",
      "120:\tlearn: 0.4439591\ttotal: 26.7s\tremaining: 1m 23s\n",
      "121:\tlearn: 0.4437938\ttotal: 27s\tremaining: 1m 23s\n",
      "122:\tlearn: 0.4437937\ttotal: 27.1s\tremaining: 1m 22s\n",
      "123:\tlearn: 0.4437448\ttotal: 27.3s\tremaining: 1m 22s\n",
      "124:\tlearn: 0.4437448\ttotal: 27.4s\tremaining: 1m 22s\n",
      "125:\tlearn: 0.4435592\ttotal: 27.6s\tremaining: 1m 21s\n",
      "126:\tlearn: 0.4434675\ttotal: 27.9s\tremaining: 1m 21s\n",
      "127:\tlearn: 0.4431893\ttotal: 28.3s\tremaining: 1m 22s\n",
      "128:\tlearn: 0.4429801\ttotal: 28.6s\tremaining: 1m 22s\n",
      "129:\tlearn: 0.4427824\ttotal: 28.8s\tremaining: 1m 22s\n",
      "130:\tlearn: 0.4425561\ttotal: 29.2s\tremaining: 1m 22s\n",
      "131:\tlearn: 0.4425387\ttotal: 29.3s\tremaining: 1m 21s\n",
      "132:\tlearn: 0.4425315\ttotal: 29.3s\tremaining: 1m 20s\n",
      "133:\tlearn: 0.4424692\ttotal: 29.6s\tremaining: 1m 20s\n",
      "134:\tlearn: 0.4424129\ttotal: 29.9s\tremaining: 1m 20s\n",
      "135:\tlearn: 0.4424129\ttotal: 29.9s\tremaining: 1m 20s\n",
      "136:\tlearn: 0.4424104\ttotal: 30s\tremaining: 1m 19s\n",
      "137:\tlearn: 0.4423187\ttotal: 30.4s\tremaining: 1m 19s\n",
      "138:\tlearn: 0.4421937\ttotal: 30.6s\tremaining: 1m 19s\n",
      "139:\tlearn: 0.4421912\ttotal: 30.8s\tremaining: 1m 19s\n",
      "140:\tlearn: 0.4421755\ttotal: 31s\tremaining: 1m 18s\n",
      "141:\tlearn: 0.4420629\ttotal: 31.3s\tremaining: 1m 18s\n",
      "142:\tlearn: 0.4418438\ttotal: 31.6s\tremaining: 1m 18s\n",
      "143:\tlearn: 0.4418429\ttotal: 31.7s\tremaining: 1m 18s\n",
      "144:\tlearn: 0.4417965\ttotal: 32s\tremaining: 1m 18s\n",
      "145:\tlearn: 0.4416936\ttotal: 32.3s\tremaining: 1m 18s\n",
      "146:\tlearn: 0.4416936\ttotal: 32.3s\tremaining: 1m 17s\n",
      "147:\tlearn: 0.4415886\ttotal: 32.7s\tremaining: 1m 17s\n",
      "148:\tlearn: 0.4414142\ttotal: 32.9s\tremaining: 1m 17s\n",
      "149:\tlearn: 0.4413298\ttotal: 33.3s\tremaining: 1m 17s\n",
      "150:\tlearn: 0.4412813\ttotal: 33.6s\tremaining: 1m 17s\n",
      "151:\tlearn: 0.4410616\ttotal: 33.9s\tremaining: 1m 17s\n",
      "152:\tlearn: 0.4409134\ttotal: 34.2s\tremaining: 1m 17s\n",
      "153:\tlearn: 0.4408740\ttotal: 34.4s\tremaining: 1m 17s\n",
      "154:\tlearn: 0.4407909\ttotal: 34.8s\tremaining: 1m 17s\n",
      "155:\tlearn: 0.4407884\ttotal: 34.9s\tremaining: 1m 16s\n",
      "156:\tlearn: 0.4407879\ttotal: 34.9s\tremaining: 1m 16s\n",
      "157:\tlearn: 0.4407278\ttotal: 35.2s\tremaining: 1m 16s\n",
      "158:\tlearn: 0.4407278\ttotal: 35.2s\tremaining: 1m 15s\n",
      "159:\tlearn: 0.4406317\ttotal: 35.6s\tremaining: 1m 15s\n",
      "160:\tlearn: 0.4405533\ttotal: 35.9s\tremaining: 1m 15s\n",
      "161:\tlearn: 0.4405474\ttotal: 35.9s\tremaining: 1m 14s\n",
      "162:\tlearn: 0.4403711\ttotal: 36.2s\tremaining: 1m 14s\n",
      "163:\tlearn: 0.4403056\ttotal: 36.5s\tremaining: 1m 14s\n",
      "164:\tlearn: 0.4402196\ttotal: 36.8s\tremaining: 1m 14s\n",
      "165:\tlearn: 0.4401697\ttotal: 37s\tremaining: 1m 14s\n",
      "166:\tlearn: 0.4400885\ttotal: 37.2s\tremaining: 1m 14s\n",
      "167:\tlearn: 0.4400885\ttotal: 37.2s\tremaining: 1m 13s\n",
      "168:\tlearn: 0.4398853\ttotal: 37.5s\tremaining: 1m 13s\n",
      "169:\tlearn: 0.4398853\ttotal: 37.5s\tremaining: 1m 12s\n",
      "170:\tlearn: 0.4397743\ttotal: 38s\tremaining: 1m 13s\n",
      "171:\tlearn: 0.4396140\ttotal: 38.4s\tremaining: 1m 13s\n",
      "172:\tlearn: 0.4394573\ttotal: 38.7s\tremaining: 1m 13s\n",
      "173:\tlearn: 0.4394495\ttotal: 39s\tremaining: 1m 13s\n",
      "174:\tlearn: 0.4394159\ttotal: 39.1s\tremaining: 1m 12s\n",
      "175:\tlearn: 0.4393230\ttotal: 39.4s\tremaining: 1m 12s\n",
      "176:\tlearn: 0.4392966\ttotal: 39.7s\tremaining: 1m 12s\n",
      "177:\tlearn: 0.4392492\ttotal: 40.1s\tremaining: 1m 12s\n",
      "178:\tlearn: 0.4392135\ttotal: 40.5s\tremaining: 1m 12s\n",
      "179:\tlearn: 0.4391914\ttotal: 40.6s\tremaining: 1m 12s\n",
      "180:\tlearn: 0.4391537\ttotal: 40.8s\tremaining: 1m 11s\n",
      "181:\tlearn: 0.4390915\ttotal: 41.1s\tremaining: 1m 11s\n",
      "182:\tlearn: 0.4389288\ttotal: 41.7s\tremaining: 1m 12s\n",
      "183:\tlearn: 0.4389253\ttotal: 41.8s\tremaining: 1m 11s\n",
      "184:\tlearn: 0.4389217\ttotal: 41.9s\tremaining: 1m 11s\n",
      "185:\tlearn: 0.4386324\ttotal: 42.3s\tremaining: 1m 11s\n",
      "186:\tlearn: 0.4386324\ttotal: 42.3s\tremaining: 1m 10s\n",
      "187:\tlearn: 0.4385585\ttotal: 42.6s\tremaining: 1m 10s\n",
      "188:\tlearn: 0.4385380\ttotal: 42.8s\tremaining: 1m 10s\n",
      "189:\tlearn: 0.4385292\ttotal: 43s\tremaining: 1m 10s\n",
      "190:\tlearn: 0.4384220\ttotal: 43.4s\tremaining: 1m 10s\n",
      "191:\tlearn: 0.4384103\ttotal: 43.5s\tremaining: 1m 9s\n",
      "192:\tlearn: 0.4383260\ttotal: 43.7s\tremaining: 1m 9s\n",
      "193:\tlearn: 0.4382008\ttotal: 43.9s\tremaining: 1m 9s\n",
      "194:\tlearn: 0.4381327\ttotal: 44.2s\tremaining: 1m 9s\n",
      "195:\tlearn: 0.4380090\ttotal: 44.6s\tremaining: 1m 9s\n",
      "196:\tlearn: 0.4379170\ttotal: 44.9s\tremaining: 1m 9s\n",
      "197:\tlearn: 0.4379169\ttotal: 44.9s\tremaining: 1m 8s\n",
      "198:\tlearn: 0.4376528\ttotal: 45.2s\tremaining: 1m 8s\n",
      "199:\tlearn: 0.4375512\ttotal: 45.6s\tremaining: 1m 8s\n",
      "200:\tlearn: 0.4374601\ttotal: 45.8s\tremaining: 1m 8s\n",
      "201:\tlearn: 0.4373011\ttotal: 46.1s\tremaining: 1m 8s\n",
      "202:\tlearn: 0.4369647\ttotal: 46.4s\tremaining: 1m 7s\n",
      "203:\tlearn: 0.4368114\ttotal: 46.6s\tremaining: 1m 7s\n",
      "204:\tlearn: 0.4366533\ttotal: 47s\tremaining: 1m 7s\n",
      "205:\tlearn: 0.4366009\ttotal: 47.2s\tremaining: 1m 7s\n",
      "206:\tlearn: 0.4364151\ttotal: 47.5s\tremaining: 1m 7s\n",
      "207:\tlearn: 0.4362995\ttotal: 47.9s\tremaining: 1m 7s\n",
      "208:\tlearn: 0.4362803\ttotal: 48s\tremaining: 1m 6s\n",
      "209:\tlearn: 0.4362307\ttotal: 48.1s\tremaining: 1m 6s\n",
      "210:\tlearn: 0.4360935\ttotal: 48.4s\tremaining: 1m 6s\n",
      "211:\tlearn: 0.4360935\ttotal: 48.4s\tremaining: 1m 5s\n",
      "212:\tlearn: 0.4359217\ttotal: 48.8s\tremaining: 1m 5s\n",
      "213:\tlearn: 0.4358015\ttotal: 49.1s\tremaining: 1m 5s\n",
      "214:\tlearn: 0.4357115\ttotal: 49.4s\tremaining: 1m 5s\n",
      "215:\tlearn: 0.4355122\ttotal: 49.7s\tremaining: 1m 5s\n",
      "216:\tlearn: 0.4354310\ttotal: 50.1s\tremaining: 1m 5s\n",
      "217:\tlearn: 0.4354208\ttotal: 50.3s\tremaining: 1m 5s\n",
      "218:\tlearn: 0.4351348\ttotal: 50.7s\tremaining: 1m 5s\n",
      "219:\tlearn: 0.4349354\ttotal: 51s\tremaining: 1m 4s\n",
      "220:\tlearn: 0.4343958\ttotal: 51.3s\tremaining: 1m 4s\n",
      "221:\tlearn: 0.4342456\ttotal: 51.6s\tremaining: 1m 4s\n",
      "222:\tlearn: 0.4340584\ttotal: 51.9s\tremaining: 1m 4s\n",
      "223:\tlearn: 0.4336601\ttotal: 52.3s\tremaining: 1m 4s\n",
      "224:\tlearn: 0.4336372\ttotal: 52.4s\tremaining: 1m 4s\n",
      "225:\tlearn: 0.4333889\ttotal: 52.6s\tremaining: 1m 3s\n",
      "226:\tlearn: 0.4332356\ttotal: 52.9s\tremaining: 1m 3s\n",
      "227:\tlearn: 0.4330027\ttotal: 53.2s\tremaining: 1m 3s\n",
      "228:\tlearn: 0.4328868\ttotal: 53.4s\tremaining: 1m 3s\n",
      "229:\tlearn: 0.4325807\ttotal: 53.7s\tremaining: 1m 3s\n",
      "230:\tlearn: 0.4321685\ttotal: 54s\tremaining: 1m 2s\n",
      "231:\tlearn: 0.4319214\ttotal: 54.3s\tremaining: 1m 2s\n",
      "232:\tlearn: 0.4317087\ttotal: 54.8s\tremaining: 1m 2s\n",
      "233:\tlearn: 0.4313371\ttotal: 55.1s\tremaining: 1m 2s\n",
      "234:\tlearn: 0.4312754\ttotal: 55.5s\tremaining: 1m 2s\n",
      "235:\tlearn: 0.4309962\ttotal: 55.8s\tremaining: 1m 2s\n",
      "236:\tlearn: 0.4307476\ttotal: 56s\tremaining: 1m 2s\n",
      "237:\tlearn: 0.4303711\ttotal: 56.3s\tremaining: 1m 1s\n",
      "238:\tlearn: 0.4300141\ttotal: 56.6s\tremaining: 1m 1s\n",
      "239:\tlearn: 0.4297953\ttotal: 56.9s\tremaining: 1m 1s\n",
      "240:\tlearn: 0.4296050\ttotal: 57.2s\tremaining: 1m 1s\n",
      "241:\tlearn: 0.4293886\ttotal: 57.5s\tremaining: 1m 1s\n",
      "242:\tlearn: 0.4291817\ttotal: 57.9s\tremaining: 1m 1s\n",
      "243:\tlearn: 0.4290146\ttotal: 58.2s\tremaining: 1m 1s\n",
      "244:\tlearn: 0.4286988\ttotal: 58.5s\tremaining: 1m\n",
      "245:\tlearn: 0.4283106\ttotal: 58.9s\tremaining: 1m\n",
      "246:\tlearn: 0.4280441\ttotal: 59.2s\tremaining: 1m\n",
      "247:\tlearn: 0.4279600\ttotal: 59.5s\tremaining: 1m\n",
      "248:\tlearn: 0.4276411\ttotal: 59.7s\tremaining: 1m\n",
      "249:\tlearn: 0.4275410\ttotal: 60s\tremaining: 60s\n",
      "250:\tlearn: 0.4273749\ttotal: 1m\tremaining: 59.8s\n",
      "251:\tlearn: 0.4269293\ttotal: 1m\tremaining: 59.6s\n",
      "252:\tlearn: 0.4266173\ttotal: 1m\tremaining: 59.5s\n",
      "253:\tlearn: 0.4263652\ttotal: 1m 1s\tremaining: 59.3s\n",
      "254:\tlearn: 0.4261777\ttotal: 1m 1s\tremaining: 59.1s\n",
      "255:\tlearn: 0.4257684\ttotal: 1m 1s\tremaining: 59s\n",
      "256:\tlearn: 0.4255626\ttotal: 1m 2s\tremaining: 58.8s\n",
      "257:\tlearn: 0.4251845\ttotal: 1m 2s\tremaining: 58.7s\n",
      "258:\tlearn: 0.4250769\ttotal: 1m 2s\tremaining: 58.4s\n",
      "259:\tlearn: 0.4248250\ttotal: 1m 3s\tremaining: 58.3s\n",
      "260:\tlearn: 0.4245976\ttotal: 1m 3s\tremaining: 58.2s\n",
      "261:\tlearn: 0.4242026\ttotal: 1m 3s\tremaining: 58s\n",
      "262:\tlearn: 0.4241072\ttotal: 1m 4s\tremaining: 57.7s\n",
      "263:\tlearn: 0.4238175\ttotal: 1m 4s\tremaining: 57.6s\n",
      "264:\tlearn: 0.4235816\ttotal: 1m 4s\tremaining: 57.5s\n",
      "265:\tlearn: 0.4232380\ttotal: 1m 5s\tremaining: 57.2s\n",
      "266:\tlearn: 0.4229526\ttotal: 1m 5s\tremaining: 57s\n",
      "267:\tlearn: 0.4227326\ttotal: 1m 5s\tremaining: 56.9s\n",
      "268:\tlearn: 0.4225835\ttotal: 1m 5s\tremaining: 56.7s\n",
      "269:\tlearn: 0.4221970\ttotal: 1m 6s\tremaining: 56.5s\n",
      "270:\tlearn: 0.4220482\ttotal: 1m 6s\tremaining: 56.3s\n",
      "271:\tlearn: 0.4216265\ttotal: 1m 7s\tremaining: 56.2s\n",
      "272:\tlearn: 0.4215026\ttotal: 1m 7s\tremaining: 56.2s\n",
      "273:\tlearn: 0.4211776\ttotal: 1m 7s\tremaining: 56.1s\n",
      "274:\tlearn: 0.4210536\ttotal: 1m 8s\tremaining: 55.9s\n",
      "275:\tlearn: 0.4208026\ttotal: 1m 8s\tremaining: 55.6s\n",
      "276:\tlearn: 0.4205197\ttotal: 1m 9s\tremaining: 55.7s\n",
      "277:\tlearn: 0.4202310\ttotal: 1m 9s\tremaining: 55.5s\n",
      "278:\tlearn: 0.4198009\ttotal: 1m 9s\tremaining: 55.3s\n",
      "279:\tlearn: 0.4196320\ttotal: 1m 10s\tremaining: 55.2s\n",
      "280:\tlearn: 0.4191794\ttotal: 1m 10s\tremaining: 54.9s\n",
      "281:\tlearn: 0.4189929\ttotal: 1m 10s\tremaining: 54.7s\n",
      "282:\tlearn: 0.4188888\ttotal: 1m 11s\tremaining: 54.5s\n",
      "283:\tlearn: 0.4185612\ttotal: 1m 11s\tremaining: 54.4s\n",
      "284:\tlearn: 0.4183316\ttotal: 1m 11s\tremaining: 54.2s\n",
      "285:\tlearn: 0.4182407\ttotal: 1m 12s\tremaining: 54s\n",
      "286:\tlearn: 0.4180547\ttotal: 1m 12s\tremaining: 53.8s\n",
      "287:\tlearn: 0.4177698\ttotal: 1m 12s\tremaining: 53.6s\n",
      "288:\tlearn: 0.4176303\ttotal: 1m 13s\tremaining: 53.4s\n",
      "289:\tlearn: 0.4171835\ttotal: 1m 13s\tremaining: 53.2s\n",
      "290:\tlearn: 0.4170788\ttotal: 1m 13s\tremaining: 53s\n",
      "291:\tlearn: 0.4169028\ttotal: 1m 14s\tremaining: 52.8s\n",
      "292:\tlearn: 0.4166957\ttotal: 1m 14s\tremaining: 52.6s\n",
      "293:\tlearn: 0.4165469\ttotal: 1m 14s\tremaining: 52.4s\n",
      "294:\tlearn: 0.4163188\ttotal: 1m 15s\tremaining: 52.2s\n",
      "295:\tlearn: 0.4161009\ttotal: 1m 15s\tremaining: 52.2s\n",
      "296:\tlearn: 0.4159563\ttotal: 1m 15s\tremaining: 51.9s\n",
      "297:\tlearn: 0.4158163\ttotal: 1m 16s\tremaining: 51.7s\n",
      "298:\tlearn: 0.4156639\ttotal: 1m 16s\tremaining: 51.5s\n",
      "299:\tlearn: 0.4154385\ttotal: 1m 16s\tremaining: 51.2s\n",
      "300:\tlearn: 0.4152059\ttotal: 1m 17s\tremaining: 51s\n",
      "301:\tlearn: 0.4150535\ttotal: 1m 17s\tremaining: 50.7s\n",
      "302:\tlearn: 0.4148847\ttotal: 1m 17s\tremaining: 50.5s\n",
      "303:\tlearn: 0.4147203\ttotal: 1m 17s\tremaining: 50.3s\n",
      "304:\tlearn: 0.4145238\ttotal: 1m 18s\tremaining: 50s\n",
      "305:\tlearn: 0.4142824\ttotal: 1m 18s\tremaining: 49.8s\n",
      "306:\tlearn: 0.4141267\ttotal: 1m 18s\tremaining: 49.7s\n",
      "307:\tlearn: 0.4139363\ttotal: 1m 19s\tremaining: 49.4s\n",
      "308:\tlearn: 0.4138299\ttotal: 1m 19s\tremaining: 49.2s\n",
      "309:\tlearn: 0.4137309\ttotal: 1m 20s\tremaining: 49.2s\n",
      "310:\tlearn: 0.4136232\ttotal: 1m 20s\tremaining: 48.9s\n",
      "311:\tlearn: 0.4135246\ttotal: 1m 20s\tremaining: 48.7s\n",
      "312:\tlearn: 0.4135117\ttotal: 1m 21s\tremaining: 48.5s\n",
      "313:\tlearn: 0.4134060\ttotal: 1m 21s\tremaining: 48.3s\n",
      "314:\tlearn: 0.4132529\ttotal: 1m 21s\tremaining: 48s\n",
      "315:\tlearn: 0.4132453\ttotal: 1m 22s\tremaining: 47.8s\n",
      "316:\tlearn: 0.4130979\ttotal: 1m 22s\tremaining: 47.6s\n",
      "317:\tlearn: 0.4128611\ttotal: 1m 22s\tremaining: 47.4s\n",
      "318:\tlearn: 0.4126217\ttotal: 1m 23s\tremaining: 47.2s\n",
      "319:\tlearn: 0.4124734\ttotal: 1m 23s\tremaining: 47s\n",
      "320:\tlearn: 0.4122816\ttotal: 1m 23s\tremaining: 46.7s\n",
      "321:\tlearn: 0.4121345\ttotal: 1m 24s\tremaining: 46.5s\n",
      "322:\tlearn: 0.4120189\ttotal: 1m 24s\tremaining: 46.3s\n",
      "323:\tlearn: 0.4117494\ttotal: 1m 24s\tremaining: 46.1s\n",
      "324:\tlearn: 0.4115646\ttotal: 1m 25s\tremaining: 45.8s\n",
      "325:\tlearn: 0.4114470\ttotal: 1m 25s\tremaining: 45.7s\n",
      "326:\tlearn: 0.4113244\ttotal: 1m 25s\tremaining: 45.4s\n",
      "327:\tlearn: 0.4110501\ttotal: 1m 26s\tremaining: 45.2s\n",
      "328:\tlearn: 0.4108141\ttotal: 1m 26s\tremaining: 45s\n",
      "329:\tlearn: 0.4106994\ttotal: 1m 26s\tremaining: 44.7s\n",
      "330:\tlearn: 0.4105335\ttotal: 1m 27s\tremaining: 44.4s\n",
      "331:\tlearn: 0.4104447\ttotal: 1m 27s\tremaining: 44.2s\n",
      "332:\tlearn: 0.4102556\ttotal: 1m 27s\tremaining: 44s\n",
      "333:\tlearn: 0.4100489\ttotal: 1m 27s\tremaining: 43.7s\n",
      "334:\tlearn: 0.4099583\ttotal: 1m 28s\tremaining: 43.5s\n",
      "335:\tlearn: 0.4097752\ttotal: 1m 28s\tremaining: 43.2s\n",
      "336:\tlearn: 0.4095805\ttotal: 1m 28s\tremaining: 43s\n",
      "337:\tlearn: 0.4094200\ttotal: 1m 29s\tremaining: 42.8s\n",
      "338:\tlearn: 0.4093506\ttotal: 1m 29s\tremaining: 42.5s\n",
      "339:\tlearn: 0.4091797\ttotal: 1m 29s\tremaining: 42.2s\n",
      "340:\tlearn: 0.4089661\ttotal: 1m 30s\tremaining: 42s\n",
      "341:\tlearn: 0.4088767\ttotal: 1m 30s\tremaining: 41.8s\n",
      "342:\tlearn: 0.4088098\ttotal: 1m 30s\tremaining: 41.5s\n",
      "343:\tlearn: 0.4087015\ttotal: 1m 31s\tremaining: 41.3s\n",
      "344:\tlearn: 0.4086788\ttotal: 1m 31s\tremaining: 41.1s\n",
      "345:\tlearn: 0.4085551\ttotal: 1m 31s\tremaining: 40.8s\n",
      "346:\tlearn: 0.4085025\ttotal: 1m 32s\tremaining: 40.6s\n",
      "347:\tlearn: 0.4084398\ttotal: 1m 32s\tremaining: 40.5s\n",
      "348:\tlearn: 0.4082968\ttotal: 1m 32s\tremaining: 40.2s\n",
      "349:\tlearn: 0.4081625\ttotal: 1m 33s\tremaining: 40s\n",
      "350:\tlearn: 0.4080910\ttotal: 1m 33s\tremaining: 39.7s\n",
      "351:\tlearn: 0.4080223\ttotal: 1m 33s\tremaining: 39.5s\n",
      "352:\tlearn: 0.4077555\ttotal: 1m 34s\tremaining: 39.2s\n",
      "353:\tlearn: 0.4076733\ttotal: 1m 34s\tremaining: 39s\n",
      "354:\tlearn: 0.4074826\ttotal: 1m 34s\tremaining: 38.8s\n",
      "355:\tlearn: 0.4073479\ttotal: 1m 35s\tremaining: 38.5s\n",
      "356:\tlearn: 0.4072064\ttotal: 1m 35s\tremaining: 38.3s\n",
      "357:\tlearn: 0.4070297\ttotal: 1m 35s\tremaining: 38s\n",
      "358:\tlearn: 0.4068661\ttotal: 1m 36s\tremaining: 37.8s\n",
      "359:\tlearn: 0.4067105\ttotal: 1m 36s\tremaining: 37.5s\n",
      "360:\tlearn: 0.4066424\ttotal: 1m 36s\tremaining: 37.3s\n",
      "361:\tlearn: 0.4064896\ttotal: 1m 37s\tremaining: 37s\n",
      "362:\tlearn: 0.4063010\ttotal: 1m 37s\tremaining: 36.8s\n",
      "363:\tlearn: 0.4061848\ttotal: 1m 37s\tremaining: 36.5s\n",
      "364:\tlearn: 0.4060950\ttotal: 1m 38s\tremaining: 36.3s\n",
      "365:\tlearn: 0.4059073\ttotal: 1m 38s\tremaining: 36.1s\n",
      "366:\tlearn: 0.4056882\ttotal: 1m 38s\tremaining: 35.8s\n",
      "367:\tlearn: 0.4055858\ttotal: 1m 39s\tremaining: 35.6s\n",
      "368:\tlearn: 0.4054509\ttotal: 1m 39s\tremaining: 35.3s\n",
      "369:\tlearn: 0.4053165\ttotal: 1m 39s\tremaining: 35.1s\n",
      "370:\tlearn: 0.4052524\ttotal: 1m 40s\tremaining: 34.8s\n",
      "371:\tlearn: 0.4050337\ttotal: 1m 40s\tremaining: 34.6s\n",
      "372:\tlearn: 0.4048976\ttotal: 1m 40s\tremaining: 34.3s\n",
      "373:\tlearn: 0.4046810\ttotal: 1m 41s\tremaining: 34.1s\n",
      "374:\tlearn: 0.4045514\ttotal: 1m 41s\tremaining: 33.8s\n",
      "375:\tlearn: 0.4044629\ttotal: 1m 41s\tremaining: 33.5s\n",
      "376:\tlearn: 0.4043630\ttotal: 1m 41s\tremaining: 33.3s\n",
      "377:\tlearn: 0.4041700\ttotal: 1m 42s\tremaining: 33s\n",
      "378:\tlearn: 0.4040204\ttotal: 1m 42s\tremaining: 32.8s\n",
      "379:\tlearn: 0.4038447\ttotal: 1m 42s\tremaining: 32.5s\n",
      "380:\tlearn: 0.4036781\ttotal: 1m 43s\tremaining: 32.3s\n",
      "381:\tlearn: 0.4035213\ttotal: 1m 44s\tremaining: 32.2s\n",
      "382:\tlearn: 0.4033631\ttotal: 1m 44s\tremaining: 31.9s\n",
      "383:\tlearn: 0.4031528\ttotal: 1m 45s\tremaining: 31.7s\n",
      "384:\tlearn: 0.4031085\ttotal: 1m 45s\tremaining: 31.5s\n",
      "385:\tlearn: 0.4030354\ttotal: 1m 45s\tremaining: 31.3s\n",
      "386:\tlearn: 0.4030216\ttotal: 1m 46s\tremaining: 31.1s\n",
      "387:\tlearn: 0.4026829\ttotal: 1m 46s\tremaining: 30.8s\n",
      "388:\tlearn: 0.4024199\ttotal: 1m 47s\tremaining: 30.6s\n",
      "389:\tlearn: 0.4022993\ttotal: 1m 47s\tremaining: 30.4s\n",
      "390:\tlearn: 0.4022143\ttotal: 1m 48s\tremaining: 30.1s\n",
      "391:\tlearn: 0.4020621\ttotal: 1m 48s\tremaining: 29.9s\n",
      "392:\tlearn: 0.4019904\ttotal: 1m 48s\tremaining: 29.6s\n",
      "393:\tlearn: 0.4017907\ttotal: 1m 49s\tremaining: 29.3s\n",
      "394:\tlearn: 0.4016886\ttotal: 1m 49s\tremaining: 29.1s\n",
      "395:\tlearn: 0.4015741\ttotal: 1m 49s\tremaining: 28.8s\n",
      "396:\tlearn: 0.4014789\ttotal: 1m 50s\tremaining: 28.6s\n",
      "397:\tlearn: 0.4012186\ttotal: 1m 50s\tremaining: 28.3s\n",
      "398:\tlearn: 0.4011954\ttotal: 1m 50s\tremaining: 28s\n",
      "399:\tlearn: 0.4009777\ttotal: 1m 51s\tremaining: 27.8s\n",
      "400:\tlearn: 0.4008415\ttotal: 1m 51s\tremaining: 27.5s\n",
      "401:\tlearn: 0.4008074\ttotal: 1m 51s\tremaining: 27.2s\n",
      "402:\tlearn: 0.4006905\ttotal: 1m 51s\tremaining: 27s\n",
      "403:\tlearn: 0.4005819\ttotal: 1m 52s\tremaining: 26.7s\n",
      "404:\tlearn: 0.4003535\ttotal: 1m 52s\tremaining: 26.4s\n",
      "405:\tlearn: 0.4002935\ttotal: 1m 52s\tremaining: 26.2s\n",
      "406:\tlearn: 0.4000349\ttotal: 1m 53s\tremaining: 25.9s\n",
      "407:\tlearn: 0.3999899\ttotal: 1m 53s\tremaining: 25.6s\n",
      "408:\tlearn: 0.3996779\ttotal: 1m 53s\tremaining: 25.4s\n",
      "409:\tlearn: 0.3996403\ttotal: 1m 54s\tremaining: 25.1s\n",
      "410:\tlearn: 0.3995498\ttotal: 1m 54s\tremaining: 24.8s\n",
      "411:\tlearn: 0.3994756\ttotal: 1m 55s\tremaining: 24.6s\n",
      "412:\tlearn: 0.3994606\ttotal: 1m 55s\tremaining: 24.3s\n",
      "413:\tlearn: 0.3992537\ttotal: 1m 55s\tremaining: 24s\n",
      "414:\tlearn: 0.3991359\ttotal: 1m 56s\tremaining: 23.8s\n",
      "415:\tlearn: 0.3990141\ttotal: 1m 56s\tremaining: 23.5s\n",
      "416:\tlearn: 0.3989240\ttotal: 1m 56s\tremaining: 23.2s\n",
      "417:\tlearn: 0.3986555\ttotal: 1m 57s\tremaining: 23s\n",
      "418:\tlearn: 0.3985022\ttotal: 1m 57s\tremaining: 22.7s\n",
      "419:\tlearn: 0.3983218\ttotal: 1m 57s\tremaining: 22.4s\n",
      "420:\tlearn: 0.3981843\ttotal: 1m 58s\tremaining: 22.2s\n",
      "421:\tlearn: 0.3979640\ttotal: 1m 58s\tremaining: 21.9s\n",
      "422:\tlearn: 0.3978150\ttotal: 1m 58s\tremaining: 21.6s\n",
      "423:\tlearn: 0.3975834\ttotal: 1m 59s\tremaining: 21.3s\n",
      "424:\tlearn: 0.3974831\ttotal: 1m 59s\tremaining: 21.1s\n",
      "425:\tlearn: 0.3973733\ttotal: 1m 59s\tremaining: 20.8s\n",
      "426:\tlearn: 0.3972571\ttotal: 2m\tremaining: 20.6s\n",
      "427:\tlearn: 0.3971284\ttotal: 2m\tremaining: 20.3s\n",
      "428:\tlearn: 0.3970485\ttotal: 2m\tremaining: 20s\n",
      "429:\tlearn: 0.3969053\ttotal: 2m 1s\tremaining: 19.7s\n",
      "430:\tlearn: 0.3967200\ttotal: 2m 1s\tremaining: 19.5s\n",
      "431:\tlearn: 0.3965373\ttotal: 2m 1s\tremaining: 19.2s\n",
      "432:\tlearn: 0.3963748\ttotal: 2m 2s\tremaining: 18.9s\n",
      "433:\tlearn: 0.3962816\ttotal: 2m 2s\tremaining: 18.6s\n",
      "434:\tlearn: 0.3962569\ttotal: 2m 2s\tremaining: 18.4s\n",
      "435:\tlearn: 0.3960218\ttotal: 2m 3s\tremaining: 18.1s\n",
      "436:\tlearn: 0.3959142\ttotal: 2m 3s\tremaining: 17.8s\n",
      "437:\tlearn: 0.3957852\ttotal: 2m 3s\tremaining: 17.5s\n",
      "438:\tlearn: 0.3957105\ttotal: 2m 4s\tremaining: 17.3s\n",
      "439:\tlearn: 0.3955625\ttotal: 2m 4s\tremaining: 17s\n",
      "440:\tlearn: 0.3954476\ttotal: 2m 4s\tremaining: 16.7s\n",
      "441:\tlearn: 0.3953012\ttotal: 2m 5s\tremaining: 16.4s\n",
      "442:\tlearn: 0.3951553\ttotal: 2m 5s\tremaining: 16.1s\n",
      "443:\tlearn: 0.3949964\ttotal: 2m 5s\tremaining: 15.8s\n",
      "444:\tlearn: 0.3947885\ttotal: 2m 6s\tremaining: 15.6s\n",
      "445:\tlearn: 0.3945695\ttotal: 2m 6s\tremaining: 15.3s\n",
      "446:\tlearn: 0.3944159\ttotal: 2m 6s\tremaining: 15s\n",
      "447:\tlearn: 0.3941897\ttotal: 2m 6s\tremaining: 14.7s\n",
      "448:\tlearn: 0.3940878\ttotal: 2m 7s\tremaining: 14.5s\n",
      "449:\tlearn: 0.3939552\ttotal: 2m 7s\tremaining: 14.2s\n",
      "450:\tlearn: 0.3937601\ttotal: 2m 8s\tremaining: 13.9s\n",
      "451:\tlearn: 0.3935602\ttotal: 2m 8s\tremaining: 13.7s\n",
      "452:\tlearn: 0.3934917\ttotal: 2m 8s\tremaining: 13.4s\n",
      "453:\tlearn: 0.3933272\ttotal: 2m 9s\tremaining: 13.1s\n",
      "454:\tlearn: 0.3931557\ttotal: 2m 9s\tremaining: 12.8s\n",
      "455:\tlearn: 0.3930794\ttotal: 2m 9s\tremaining: 12.5s\n",
      "456:\tlearn: 0.3928914\ttotal: 2m 10s\tremaining: 12.2s\n",
      "457:\tlearn: 0.3927357\ttotal: 2m 10s\tremaining: 12s\n",
      "458:\tlearn: 0.3926171\ttotal: 2m 10s\tremaining: 11.7s\n",
      "459:\tlearn: 0.3925112\ttotal: 2m 11s\tremaining: 11.4s\n",
      "460:\tlearn: 0.3923149\ttotal: 2m 11s\tremaining: 11.1s\n",
      "461:\tlearn: 0.3920662\ttotal: 2m 11s\tremaining: 10.8s\n",
      "462:\tlearn: 0.3920311\ttotal: 2m 12s\tremaining: 10.6s\n",
      "463:\tlearn: 0.3919562\ttotal: 2m 12s\tremaining: 10.3s\n",
      "464:\tlearn: 0.3918430\ttotal: 2m 12s\tremaining: 9.98s\n",
      "465:\tlearn: 0.3917158\ttotal: 2m 12s\tremaining: 9.7s\n",
      "466:\tlearn: 0.3916105\ttotal: 2m 13s\tremaining: 9.42s\n",
      "467:\tlearn: 0.3915456\ttotal: 2m 13s\tremaining: 9.14s\n",
      "468:\tlearn: 0.3914713\ttotal: 2m 13s\tremaining: 8.85s\n",
      "469:\tlearn: 0.3914614\ttotal: 2m 14s\tremaining: 8.57s\n",
      "470:\tlearn: 0.3913443\ttotal: 2m 14s\tremaining: 8.29s\n",
      "471:\tlearn: 0.3912410\ttotal: 2m 14s\tremaining: 8s\n",
      "472:\tlearn: 0.3910513\ttotal: 2m 15s\tremaining: 7.72s\n",
      "473:\tlearn: 0.3908853\ttotal: 2m 15s\tremaining: 7.44s\n",
      "474:\tlearn: 0.3908080\ttotal: 2m 15s\tremaining: 7.15s\n",
      "475:\tlearn: 0.3906276\ttotal: 2m 16s\tremaining: 6.87s\n",
      "476:\tlearn: 0.3905511\ttotal: 2m 16s\tremaining: 6.58s\n",
      "477:\tlearn: 0.3904660\ttotal: 2m 16s\tremaining: 6.3s\n",
      "478:\tlearn: 0.3903447\ttotal: 2m 17s\tremaining: 6.01s\n",
      "479:\tlearn: 0.3902872\ttotal: 2m 17s\tremaining: 5.73s\n",
      "480:\tlearn: 0.3901395\ttotal: 2m 17s\tremaining: 5.44s\n",
      "481:\tlearn: 0.3899405\ttotal: 2m 18s\tremaining: 5.17s\n",
      "482:\tlearn: 0.3898393\ttotal: 2m 18s\tremaining: 4.88s\n",
      "483:\tlearn: 0.3897149\ttotal: 2m 18s\tremaining: 4.59s\n",
      "484:\tlearn: 0.3896427\ttotal: 2m 19s\tremaining: 4.31s\n",
      "485:\tlearn: 0.3894301\ttotal: 2m 19s\tremaining: 4.02s\n",
      "486:\tlearn: 0.3892317\ttotal: 2m 19s\tremaining: 3.73s\n",
      "487:\tlearn: 0.3891092\ttotal: 2m 20s\tremaining: 3.45s\n",
      "488:\tlearn: 0.3890596\ttotal: 2m 20s\tremaining: 3.16s\n",
      "489:\tlearn: 0.3889005\ttotal: 2m 20s\tremaining: 2.87s\n",
      "490:\tlearn: 0.3888131\ttotal: 2m 21s\tremaining: 2.59s\n",
      "491:\tlearn: 0.3886671\ttotal: 2m 21s\tremaining: 2.3s\n",
      "492:\tlearn: 0.3885325\ttotal: 2m 21s\tremaining: 2.01s\n",
      "493:\tlearn: 0.3884537\ttotal: 2m 22s\tremaining: 1.73s\n",
      "494:\tlearn: 0.3884447\ttotal: 2m 22s\tremaining: 1.44s\n",
      "495:\tlearn: 0.3881746\ttotal: 2m 22s\tremaining: 1.15s\n",
      "496:\tlearn: 0.3880239\ttotal: 2m 23s\tremaining: 865ms\n",
      "497:\tlearn: 0.3876534\ttotal: 2m 23s\tremaining: 576ms\n",
      "498:\tlearn: 0.3875151\ttotal: 2m 23s\tremaining: 288ms\n",
      "499:\tlearn: 0.3873624\ttotal: 2m 24s\tremaining: 0us\n"
     ]
    },
    {
     "output_type": "execute_result",
     "data": {
      "text/plain": [
       "<catboost.core.CatBoostClassifier at 0x20872db9790>"
      ]
     },
     "metadata": {},
     "execution_count": 68
    }
   ],
   "source": [
    "model3.fit(X_train,y_train,cat_features=catcols)"
   ]
  },
  {
   "cell_type": "code",
   "execution_count": 69,
   "metadata": {},
   "outputs": [],
   "source": [
    "prediction1=model3.predict_proba(X_val)"
   ]
  },
  {
   "cell_type": "code",
   "execution_count": 71,
   "metadata": {},
   "outputs": [],
   "source": [
    "prediction12 = prediction1[:,1]"
   ]
  },
  {
   "cell_type": "code",
   "execution_count": 72,
   "metadata": {},
   "outputs": [
    {
     "output_type": "execute_result",
     "data": {
      "text/plain": [
       "0.7960603452549764"
      ]
     },
     "metadata": {},
     "execution_count": 72
    }
   ],
   "source": [
    "auc_lr1h =  roc_auc_score(y_val,prediction12)\n",
    "auc_lr1h"
   ]
  },
  {
   "cell_type": "code",
   "execution_count": 80,
   "metadata": {},
   "outputs": [],
   "source": [
    "prediction12 = np.array(prediction12)"
   ]
  },
  {
   "cell_type": "code",
   "execution_count": 82,
   "metadata": {},
   "outputs": [
    {
     "output_type": "execute_result",
     "data": {
      "text/plain": [
       "<AxesSubplot:ylabel='Density'>"
      ]
     },
     "metadata": {},
     "execution_count": 82
    },
    {
     "output_type": "display_data",
     "data": {
      "text/plain": "<Figure size 432x288 with 1 Axes>",
      "image/svg+xml": "<?xml version=\"1.0\" encoding=\"utf-8\" standalone=\"no\"?>\r\n<!DOCTYPE svg PUBLIC \"-//W3C//DTD SVG 1.1//EN\"\r\n  \"http://www.w3.org/Graphics/SVG/1.1/DTD/svg11.dtd\">\r\n<!-- Created with matplotlib (https://matplotlib.org/) -->\r\n<svg height=\"248.518125pt\" version=\"1.1\" viewBox=\"0 0 385.78125 248.518125\" width=\"385.78125pt\" xmlns=\"http://www.w3.org/2000/svg\" xmlns:xlink=\"http://www.w3.org/1999/xlink\">\r\n <metadata>\r\n  <rdf:RDF xmlns:cc=\"http://creativecommons.org/ns#\" xmlns:dc=\"http://purl.org/dc/elements/1.1/\" xmlns:rdf=\"http://www.w3.org/1999/02/22-rdf-syntax-ns#\">\r\n   <cc:Work>\r\n    <dc:type rdf:resource=\"http://purl.org/dc/dcmitype/StillImage\"/>\r\n    <dc:date>2021-02-28T19:36:40.994174</dc:date>\r\n    <dc:format>image/svg+xml</dc:format>\r\n    <dc:creator>\r\n     <cc:Agent>\r\n      <dc:title>Matplotlib v3.3.4, https://matplotlib.org/</dc:title>\r\n     </cc:Agent>\r\n    </dc:creator>\r\n   </cc:Work>\r\n  </rdf:RDF>\r\n </metadata>\r\n <defs>\r\n  <style type=\"text/css\">*{stroke-linecap:butt;stroke-linejoin:round;}</style>\r\n </defs>\r\n <g id=\"figure_1\">\r\n  <g id=\"patch_1\">\r\n   <path d=\"M 0 248.518125 \r\nL 385.78125 248.518125 \r\nL 385.78125 0 \r\nL 0 0 \r\nz\r\n\" style=\"fill:none;\"/>\r\n  </g>\r\n  <g id=\"axes_1\">\r\n   <g id=\"patch_2\">\r\n    <path d=\"M 43.78125 224.64 \r\nL 378.58125 224.64 \r\nL 378.58125 7.2 \r\nL 43.78125 7.2 \r\nz\r\n\" style=\"fill:#ffffff;\"/>\r\n   </g>\r\n   <g id=\"patch_3\">\r\n    <path clip-path=\"url(#pc25d1b58c6)\" d=\"M 85.201978 224.64 \r\nL 93.600596 224.64 \r\nL 93.600596 87.122143 \r\nL 85.201978 87.122143 \r\nz\r\n\" style=\"fill:#1f77b4;opacity:0.4;\"/>\r\n   </g>\r\n   <g id=\"patch_4\">\r\n    <path clip-path=\"url(#pc25d1b58c6)\" d=\"M 93.600596 224.64 \r\nL 101.999214 224.64 \r\nL 101.999214 17.554286 \r\nL 93.600596 17.554286 \r\nz\r\n\" style=\"fill:#1f77b4;opacity:0.4;\"/>\r\n   </g>\r\n   <g id=\"patch_5\">\r\n    <path clip-path=\"url(#pc25d1b58c6)\" d=\"M 101.999214 224.64 \r\nL 110.397832 224.64 \r\nL 110.397832 39.260536 \r\nL 101.999214 39.260536 \r\nz\r\n\" style=\"fill:#1f77b4;opacity:0.4;\"/>\r\n   </g>\r\n   <g id=\"patch_6\">\r\n    <path clip-path=\"url(#pc25d1b58c6)\" d=\"M 110.397832 224.64 \r\nL 118.796451 224.64 \r\nL 118.796451 89.548929 \r\nL 110.397832 89.548929 \r\nz\r\n\" style=\"fill:#1f77b4;opacity:0.4;\"/>\r\n   </g>\r\n   <g id=\"patch_7\">\r\n    <path clip-path=\"url(#pc25d1b58c6)\" d=\"M 118.796451 224.64 \r\nL 127.195069 224.64 \r\nL 127.195069 124.063214 \r\nL 118.796451 124.063214 \r\nz\r\n\" style=\"fill:#1f77b4;opacity:0.4;\"/>\r\n   </g>\r\n   <g id=\"patch_8\">\r\n    <path clip-path=\"url(#pc25d1b58c6)\" d=\"M 127.195069 224.64 \r\nL 135.593687 224.64 \r\nL 135.593687 153.723929 \r\nL 127.195069 153.723929 \r\nz\r\n\" style=\"fill:#1f77b4;opacity:0.4;\"/>\r\n   </g>\r\n   <g id=\"patch_9\">\r\n    <path clip-path=\"url(#pc25d1b58c6)\" d=\"M 135.593687 224.64 \r\nL 143.992305 224.64 \r\nL 143.992305 163.700714 \r\nL 135.593687 163.700714 \r\nz\r\n\" style=\"fill:#1f77b4;opacity:0.4;\"/>\r\n   </g>\r\n   <g id=\"patch_10\">\r\n    <path clip-path=\"url(#pc25d1b58c6)\" d=\"M 143.992305 224.64 \r\nL 152.390923 224.64 \r\nL 152.390923 174.216786 \r\nL 143.992305 174.216786 \r\nz\r\n\" style=\"fill:#1f77b4;opacity:0.4;\"/>\r\n   </g>\r\n   <g id=\"patch_11\">\r\n    <path clip-path=\"url(#pc25d1b58c6)\" d=\"M 152.390923 224.64 \r\nL 160.789541 224.64 \r\nL 160.789541 181.497143 \r\nL 152.390923 181.497143 \r\nz\r\n\" style=\"fill:#1f77b4;opacity:0.4;\"/>\r\n   </g>\r\n   <g id=\"patch_12\">\r\n    <path clip-path=\"url(#pc25d1b58c6)\" d=\"M 160.789541 224.64 \r\nL 169.188159 224.64 \r\nL 169.188159 177.048036 \r\nL 160.789541 177.048036 \r\nz\r\n\" style=\"fill:#1f77b4;opacity:0.4;\"/>\r\n   </g>\r\n   <g id=\"patch_13\">\r\n    <path clip-path=\"url(#pc25d1b58c6)\" d=\"M 169.188159 224.64 \r\nL 177.586777 224.64 \r\nL 177.586777 179.34 \r\nL 169.188159 179.34 \r\nz\r\n\" style=\"fill:#1f77b4;opacity:0.4;\"/>\r\n   </g>\r\n   <g id=\"patch_14\">\r\n    <path clip-path=\"url(#pc25d1b58c6)\" d=\"M 177.586777 224.64 \r\nL 185.985396 224.64 \r\nL 185.985396 174.486429 \r\nL 177.586777 174.486429 \r\nz\r\n\" style=\"fill:#1f77b4;opacity:0.4;\"/>\r\n   </g>\r\n   <g id=\"patch_15\">\r\n    <path clip-path=\"url(#pc25d1b58c6)\" d=\"M 185.985396 224.64 \r\nL 194.384014 224.64 \r\nL 194.384014 165.048929 \r\nL 185.985396 165.048929 \r\nz\r\n\" style=\"fill:#1f77b4;opacity:0.4;\"/>\r\n   </g>\r\n   <g id=\"patch_16\">\r\n    <path clip-path=\"url(#pc25d1b58c6)\" d=\"M 194.384014 224.64 \r\nL 202.782632 224.64 \r\nL 202.782632 163.026607 \r\nL 194.384014 163.026607 \r\nz\r\n\" style=\"fill:#1f77b4;opacity:0.4;\"/>\r\n   </g>\r\n   <g id=\"patch_17\">\r\n    <path clip-path=\"url(#pc25d1b58c6)\" d=\"M 202.782632 224.64 \r\nL 211.18125 224.64 \r\nL 211.18125 156.959643 \r\nL 202.782632 156.959643 \r\nz\r\n\" style=\"fill:#1f77b4;opacity:0.4;\"/>\r\n   </g>\r\n   <g id=\"patch_18\">\r\n    <path clip-path=\"url(#pc25d1b58c6)\" d=\"M 211.18125 224.64 \r\nL 219.579868 224.64 \r\nL 219.579868 161.139107 \r\nL 211.18125 161.139107 \r\nz\r\n\" style=\"fill:#1f77b4;opacity:0.4;\"/>\r\n   </g>\r\n   <g id=\"patch_19\">\r\n    <path clip-path=\"url(#pc25d1b58c6)\" d=\"M 219.579868 224.64 \r\nL 227.978486 224.64 \r\nL 227.978486 160.599821 \r\nL 219.579868 160.599821 \r\nz\r\n\" style=\"fill:#1f77b4;opacity:0.4;\"/>\r\n   </g>\r\n   <g id=\"patch_20\">\r\n    <path clip-path=\"url(#pc25d1b58c6)\" d=\"M 227.978486 224.64 \r\nL 236.377104 224.64 \r\nL 236.377104 168.419464 \r\nL 227.978486 168.419464 \r\nz\r\n\" style=\"fill:#1f77b4;opacity:0.4;\"/>\r\n   </g>\r\n   <g id=\"patch_21\">\r\n    <path clip-path=\"url(#pc25d1b58c6)\" d=\"M 236.377104 224.64 \r\nL 244.775723 224.64 \r\nL 244.775723 170.981071 \r\nL 236.377104 170.981071 \r\nz\r\n\" style=\"fill:#1f77b4;opacity:0.4;\"/>\r\n   </g>\r\n   <g id=\"patch_22\">\r\n    <path clip-path=\"url(#pc25d1b58c6)\" d=\"M 244.775723 224.64 \r\nL 253.174341 224.64 \r\nL 253.174341 182.710536 \r\nL 244.775723 182.710536 \r\nz\r\n\" style=\"fill:#1f77b4;opacity:0.4;\"/>\r\n   </g>\r\n   <g id=\"patch_23\">\r\n    <path clip-path=\"url(#pc25d1b58c6)\" d=\"M 253.174341 224.64 \r\nL 261.572959 224.64 \r\nL 261.572959 187.564107 \r\nL 253.174341 187.564107 \r\nz\r\n\" style=\"fill:#1f77b4;opacity:0.4;\"/>\r\n   </g>\r\n   <g id=\"patch_24\">\r\n    <path clip-path=\"url(#pc25d1b58c6)\" d=\"M 261.572959 224.64 \r\nL 269.971577 224.64 \r\nL 269.971577 200.372143 \r\nL 261.572959 200.372143 \r\nz\r\n\" style=\"fill:#1f77b4;opacity:0.4;\"/>\r\n   </g>\r\n   <g id=\"patch_25\">\r\n    <path clip-path=\"url(#pc25d1b58c6)\" d=\"M 269.971577 224.64 \r\nL 278.370195 224.64 \r\nL 278.370195 206.439107 \r\nL 269.971577 206.439107 \r\nz\r\n\" style=\"fill:#1f77b4;opacity:0.4;\"/>\r\n   </g>\r\n   <g id=\"patch_26\">\r\n    <path clip-path=\"url(#pc25d1b58c6)\" d=\"M 278.370195 224.64 \r\nL 286.768813 224.64 \r\nL 286.768813 211.966786 \r\nL 278.370195 211.966786 \r\nz\r\n\" style=\"fill:#1f77b4;opacity:0.4;\"/>\r\n   </g>\r\n   <g id=\"patch_27\">\r\n    <path clip-path=\"url(#pc25d1b58c6)\" d=\"M 286.768813 224.64 \r\nL 295.167431 224.64 \r\nL 295.167431 214.393571 \r\nL 286.768813 214.393571 \r\nz\r\n\" style=\"fill:#1f77b4;opacity:0.4;\"/>\r\n   </g>\r\n   <g id=\"patch_28\">\r\n    <path clip-path=\"url(#pc25d1b58c6)\" d=\"M 295.167431 224.64 \r\nL 303.566049 224.64 \r\nL 303.566049 220.460536 \r\nL 295.167431 220.460536 \r\nz\r\n\" style=\"fill:#1f77b4;opacity:0.4;\"/>\r\n   </g>\r\n   <g id=\"patch_29\">\r\n    <path clip-path=\"url(#pc25d1b58c6)\" d=\"M 303.566049 224.64 \r\nL 311.964668 224.64 \r\nL 311.964668 220.999821 \r\nL 303.566049 220.999821 \r\nz\r\n\" style=\"fill:#1f77b4;opacity:0.4;\"/>\r\n   </g>\r\n   <g id=\"patch_30\">\r\n    <path clip-path=\"url(#pc25d1b58c6)\" d=\"M 311.964668 224.64 \r\nL 320.363286 224.64 \r\nL 320.363286 223.426607 \r\nL 311.964668 223.426607 \r\nz\r\n\" style=\"fill:#1f77b4;opacity:0.4;\"/>\r\n   </g>\r\n   <g id=\"patch_31\">\r\n    <path clip-path=\"url(#pc25d1b58c6)\" d=\"M 320.363286 224.64 \r\nL 328.761904 224.64 \r\nL 328.761904 223.561429 \r\nL 320.363286 223.561429 \r\nz\r\n\" style=\"fill:#1f77b4;opacity:0.4;\"/>\r\n   </g>\r\n   <g id=\"patch_32\">\r\n    <path clip-path=\"url(#pc25d1b58c6)\" d=\"M 328.761904 224.64 \r\nL 337.160522 224.64 \r\nL 337.160522 224.505179 \r\nL 328.761904 224.505179 \r\nz\r\n\" style=\"fill:#1f77b4;opacity:0.4;\"/>\r\n   </g>\r\n   <g id=\"matplotlib.axis_1\">\r\n    <g id=\"xtick_1\">\r\n     <g id=\"line2d_1\">\r\n      <defs>\r\n       <path d=\"M 0 0 \r\nL 0 3.5 \r\n\" id=\"m229c238836\" style=\"stroke:#000000;stroke-width:0.8;\"/>\r\n      </defs>\r\n      <g>\r\n       <use style=\"stroke:#000000;stroke-width:0.8;\" x=\"84.645048\" xlink:href=\"#m229c238836\" y=\"224.64\"/>\r\n      </g>\r\n     </g>\r\n     <g id=\"text_1\">\r\n      <!-- 0.0 -->\r\n      <g transform=\"translate(76.693486 239.238437)scale(0.1 -0.1)\">\r\n       <defs>\r\n        <path d=\"M 31.78125 66.40625 \r\nQ 24.171875 66.40625 20.328125 58.90625 \r\nQ 16.5 51.421875 16.5 36.375 \r\nQ 16.5 21.390625 20.328125 13.890625 \r\nQ 24.171875 6.390625 31.78125 6.390625 \r\nQ 39.453125 6.390625 43.28125 13.890625 \r\nQ 47.125 21.390625 47.125 36.375 \r\nQ 47.125 51.421875 43.28125 58.90625 \r\nQ 39.453125 66.40625 31.78125 66.40625 \r\nz\r\nM 31.78125 74.21875 \r\nQ 44.046875 74.21875 50.515625 64.515625 \r\nQ 56.984375 54.828125 56.984375 36.375 \r\nQ 56.984375 17.96875 50.515625 8.265625 \r\nQ 44.046875 -1.421875 31.78125 -1.421875 \r\nQ 19.53125 -1.421875 13.0625 8.265625 \r\nQ 6.59375 17.96875 6.59375 36.375 \r\nQ 6.59375 54.828125 13.0625 64.515625 \r\nQ 19.53125 74.21875 31.78125 74.21875 \r\nz\r\n\" id=\"DejaVuSans-48\"/>\r\n        <path d=\"M 10.6875 12.40625 \r\nL 21 12.40625 \r\nL 21 0 \r\nL 10.6875 0 \r\nz\r\n\" id=\"DejaVuSans-46\"/>\r\n       </defs>\r\n       <use xlink:href=\"#DejaVuSans-48\"/>\r\n       <use x=\"63.623047\" xlink:href=\"#DejaVuSans-46\"/>\r\n       <use x=\"95.410156\" xlink:href=\"#DejaVuSans-48\"/>\r\n      </g>\r\n     </g>\r\n    </g>\r\n    <g id=\"xtick_2\">\r\n     <g id=\"line2d_2\">\r\n      <g>\r\n       <use style=\"stroke:#000000;stroke-width:0.8;\" x=\"143.827784\" xlink:href=\"#m229c238836\" y=\"224.64\"/>\r\n      </g>\r\n     </g>\r\n     <g id=\"text_2\">\r\n      <!-- 0.2 -->\r\n      <g transform=\"translate(135.876221 239.238437)scale(0.1 -0.1)\">\r\n       <defs>\r\n        <path d=\"M 19.1875 8.296875 \r\nL 53.609375 8.296875 \r\nL 53.609375 0 \r\nL 7.328125 0 \r\nL 7.328125 8.296875 \r\nQ 12.9375 14.109375 22.625 23.890625 \r\nQ 32.328125 33.6875 34.8125 36.53125 \r\nQ 39.546875 41.84375 41.421875 45.53125 \r\nQ 43.3125 49.21875 43.3125 52.78125 \r\nQ 43.3125 58.59375 39.234375 62.25 \r\nQ 35.15625 65.921875 28.609375 65.921875 \r\nQ 23.96875 65.921875 18.8125 64.3125 \r\nQ 13.671875 62.703125 7.8125 59.421875 \r\nL 7.8125 69.390625 \r\nQ 13.765625 71.78125 18.9375 73 \r\nQ 24.125 74.21875 28.421875 74.21875 \r\nQ 39.75 74.21875 46.484375 68.546875 \r\nQ 53.21875 62.890625 53.21875 53.421875 \r\nQ 53.21875 48.921875 51.53125 44.890625 \r\nQ 49.859375 40.875 45.40625 35.40625 \r\nQ 44.1875 33.984375 37.640625 27.21875 \r\nQ 31.109375 20.453125 19.1875 8.296875 \r\nz\r\n\" id=\"DejaVuSans-50\"/>\r\n       </defs>\r\n       <use xlink:href=\"#DejaVuSans-48\"/>\r\n       <use x=\"63.623047\" xlink:href=\"#DejaVuSans-46\"/>\r\n       <use x=\"95.410156\" xlink:href=\"#DejaVuSans-50\"/>\r\n      </g>\r\n     </g>\r\n    </g>\r\n    <g id=\"xtick_3\">\r\n     <g id=\"line2d_3\">\r\n      <g>\r\n       <use style=\"stroke:#000000;stroke-width:0.8;\" x=\"203.01052\" xlink:href=\"#m229c238836\" y=\"224.64\"/>\r\n      </g>\r\n     </g>\r\n     <g id=\"text_3\">\r\n      <!-- 0.4 -->\r\n      <g transform=\"translate(195.058957 239.238437)scale(0.1 -0.1)\">\r\n       <defs>\r\n        <path d=\"M 37.796875 64.3125 \r\nL 12.890625 25.390625 \r\nL 37.796875 25.390625 \r\nz\r\nM 35.203125 72.90625 \r\nL 47.609375 72.90625 \r\nL 47.609375 25.390625 \r\nL 58.015625 25.390625 \r\nL 58.015625 17.1875 \r\nL 47.609375 17.1875 \r\nL 47.609375 0 \r\nL 37.796875 0 \r\nL 37.796875 17.1875 \r\nL 4.890625 17.1875 \r\nL 4.890625 26.703125 \r\nz\r\n\" id=\"DejaVuSans-52\"/>\r\n       </defs>\r\n       <use xlink:href=\"#DejaVuSans-48\"/>\r\n       <use x=\"63.623047\" xlink:href=\"#DejaVuSans-46\"/>\r\n       <use x=\"95.410156\" xlink:href=\"#DejaVuSans-52\"/>\r\n      </g>\r\n     </g>\r\n    </g>\r\n    <g id=\"xtick_4\">\r\n     <g id=\"line2d_4\">\r\n      <g>\r\n       <use style=\"stroke:#000000;stroke-width:0.8;\" x=\"262.193256\" xlink:href=\"#m229c238836\" y=\"224.64\"/>\r\n      </g>\r\n     </g>\r\n     <g id=\"text_4\">\r\n      <!-- 0.6 -->\r\n      <g transform=\"translate(254.241693 239.238437)scale(0.1 -0.1)\">\r\n       <defs>\r\n        <path d=\"M 33.015625 40.375 \r\nQ 26.375 40.375 22.484375 35.828125 \r\nQ 18.609375 31.296875 18.609375 23.390625 \r\nQ 18.609375 15.53125 22.484375 10.953125 \r\nQ 26.375 6.390625 33.015625 6.390625 \r\nQ 39.65625 6.390625 43.53125 10.953125 \r\nQ 47.40625 15.53125 47.40625 23.390625 \r\nQ 47.40625 31.296875 43.53125 35.828125 \r\nQ 39.65625 40.375 33.015625 40.375 \r\nz\r\nM 52.59375 71.296875 \r\nL 52.59375 62.3125 \r\nQ 48.875 64.0625 45.09375 64.984375 \r\nQ 41.3125 65.921875 37.59375 65.921875 \r\nQ 27.828125 65.921875 22.671875 59.328125 \r\nQ 17.53125 52.734375 16.796875 39.40625 \r\nQ 19.671875 43.65625 24.015625 45.921875 \r\nQ 28.375 48.1875 33.59375 48.1875 \r\nQ 44.578125 48.1875 50.953125 41.515625 \r\nQ 57.328125 34.859375 57.328125 23.390625 \r\nQ 57.328125 12.15625 50.6875 5.359375 \r\nQ 44.046875 -1.421875 33.015625 -1.421875 \r\nQ 20.359375 -1.421875 13.671875 8.265625 \r\nQ 6.984375 17.96875 6.984375 36.375 \r\nQ 6.984375 53.65625 15.1875 63.9375 \r\nQ 23.390625 74.21875 37.203125 74.21875 \r\nQ 40.921875 74.21875 44.703125 73.484375 \r\nQ 48.484375 72.75 52.59375 71.296875 \r\nz\r\n\" id=\"DejaVuSans-54\"/>\r\n       </defs>\r\n       <use xlink:href=\"#DejaVuSans-48\"/>\r\n       <use x=\"63.623047\" xlink:href=\"#DejaVuSans-46\"/>\r\n       <use x=\"95.410156\" xlink:href=\"#DejaVuSans-54\"/>\r\n      </g>\r\n     </g>\r\n    </g>\r\n    <g id=\"xtick_5\">\r\n     <g id=\"line2d_5\">\r\n      <g>\r\n       <use style=\"stroke:#000000;stroke-width:0.8;\" x=\"321.375991\" xlink:href=\"#m229c238836\" y=\"224.64\"/>\r\n      </g>\r\n     </g>\r\n     <g id=\"text_5\">\r\n      <!-- 0.8 -->\r\n      <g transform=\"translate(313.424429 239.238437)scale(0.1 -0.1)\">\r\n       <defs>\r\n        <path d=\"M 31.78125 34.625 \r\nQ 24.75 34.625 20.71875 30.859375 \r\nQ 16.703125 27.09375 16.703125 20.515625 \r\nQ 16.703125 13.921875 20.71875 10.15625 \r\nQ 24.75 6.390625 31.78125 6.390625 \r\nQ 38.8125 6.390625 42.859375 10.171875 \r\nQ 46.921875 13.96875 46.921875 20.515625 \r\nQ 46.921875 27.09375 42.890625 30.859375 \r\nQ 38.875 34.625 31.78125 34.625 \r\nz\r\nM 21.921875 38.8125 \r\nQ 15.578125 40.375 12.03125 44.71875 \r\nQ 8.5 49.078125 8.5 55.328125 \r\nQ 8.5 64.0625 14.71875 69.140625 \r\nQ 20.953125 74.21875 31.78125 74.21875 \r\nQ 42.671875 74.21875 48.875 69.140625 \r\nQ 55.078125 64.0625 55.078125 55.328125 \r\nQ 55.078125 49.078125 51.53125 44.71875 \r\nQ 48 40.375 41.703125 38.8125 \r\nQ 48.828125 37.15625 52.796875 32.3125 \r\nQ 56.78125 27.484375 56.78125 20.515625 \r\nQ 56.78125 9.90625 50.3125 4.234375 \r\nQ 43.84375 -1.421875 31.78125 -1.421875 \r\nQ 19.734375 -1.421875 13.25 4.234375 \r\nQ 6.78125 9.90625 6.78125 20.515625 \r\nQ 6.78125 27.484375 10.78125 32.3125 \r\nQ 14.796875 37.15625 21.921875 38.8125 \r\nz\r\nM 18.3125 54.390625 \r\nQ 18.3125 48.734375 21.84375 45.5625 \r\nQ 25.390625 42.390625 31.78125 42.390625 \r\nQ 38.140625 42.390625 41.71875 45.5625 \r\nQ 45.3125 48.734375 45.3125 54.390625 \r\nQ 45.3125 60.0625 41.71875 63.234375 \r\nQ 38.140625 66.40625 31.78125 66.40625 \r\nQ 25.390625 66.40625 21.84375 63.234375 \r\nQ 18.3125 60.0625 18.3125 54.390625 \r\nz\r\n\" id=\"DejaVuSans-56\"/>\r\n       </defs>\r\n       <use xlink:href=\"#DejaVuSans-48\"/>\r\n       <use x=\"63.623047\" xlink:href=\"#DejaVuSans-46\"/>\r\n       <use x=\"95.410156\" xlink:href=\"#DejaVuSans-56\"/>\r\n      </g>\r\n     </g>\r\n    </g>\r\n   </g>\r\n   <g id=\"matplotlib.axis_2\">\r\n    <g id=\"ytick_1\">\r\n     <g id=\"line2d_6\">\r\n      <defs>\r\n       <path d=\"M 0 0 \r\nL -3.5 0 \r\n\" id=\"m07ace9debd\" style=\"stroke:#000000;stroke-width:0.8;\"/>\r\n      </defs>\r\n      <g>\r\n       <use style=\"stroke:#000000;stroke-width:0.8;\" x=\"43.78125\" xlink:href=\"#m07ace9debd\" y=\"224.64\"/>\r\n      </g>\r\n     </g>\r\n     <g id=\"text_6\">\r\n      <!-- 0.0 -->\r\n      <g transform=\"translate(20.878125 228.439219)scale(0.1 -0.1)\">\r\n       <use xlink:href=\"#DejaVuSans-48\"/>\r\n       <use x=\"63.623047\" xlink:href=\"#DejaVuSans-46\"/>\r\n       <use x=\"95.410156\" xlink:href=\"#DejaVuSans-48\"/>\r\n      </g>\r\n     </g>\r\n    </g>\r\n    <g id=\"ytick_2\">\r\n     <g id=\"line2d_7\">\r\n      <g>\r\n       <use style=\"stroke:#000000;stroke-width:0.8;\" x=\"43.78125\" xlink:href=\"#m07ace9debd\" y=\"200.301547\"/>\r\n      </g>\r\n     </g>\r\n     <g id=\"text_7\">\r\n      <!-- 0.5 -->\r\n      <g transform=\"translate(20.878125 204.100765)scale(0.1 -0.1)\">\r\n       <defs>\r\n        <path d=\"M 10.796875 72.90625 \r\nL 49.515625 72.90625 \r\nL 49.515625 64.59375 \r\nL 19.828125 64.59375 \r\nL 19.828125 46.734375 \r\nQ 21.96875 47.46875 24.109375 47.828125 \r\nQ 26.265625 48.1875 28.421875 48.1875 \r\nQ 40.625 48.1875 47.75 41.5 \r\nQ 54.890625 34.8125 54.890625 23.390625 \r\nQ 54.890625 11.625 47.5625 5.09375 \r\nQ 40.234375 -1.421875 26.90625 -1.421875 \r\nQ 22.3125 -1.421875 17.546875 -0.640625 \r\nQ 12.796875 0.140625 7.71875 1.703125 \r\nL 7.71875 11.625 \r\nQ 12.109375 9.234375 16.796875 8.0625 \r\nQ 21.484375 6.890625 26.703125 6.890625 \r\nQ 35.15625 6.890625 40.078125 11.328125 \r\nQ 45.015625 15.765625 45.015625 23.390625 \r\nQ 45.015625 31 40.078125 35.4375 \r\nQ 35.15625 39.890625 26.703125 39.890625 \r\nQ 22.75 39.890625 18.8125 39.015625 \r\nQ 14.890625 38.140625 10.796875 36.28125 \r\nz\r\n\" id=\"DejaVuSans-53\"/>\r\n       </defs>\r\n       <use xlink:href=\"#DejaVuSans-48\"/>\r\n       <use x=\"63.623047\" xlink:href=\"#DejaVuSans-46\"/>\r\n       <use x=\"95.410156\" xlink:href=\"#DejaVuSans-53\"/>\r\n      </g>\r\n     </g>\r\n    </g>\r\n    <g id=\"ytick_3\">\r\n     <g id=\"line2d_8\">\r\n      <g>\r\n       <use style=\"stroke:#000000;stroke-width:0.8;\" x=\"43.78125\" xlink:href=\"#m07ace9debd\" y=\"175.963093\"/>\r\n      </g>\r\n     </g>\r\n     <g id=\"text_8\">\r\n      <!-- 1.0 -->\r\n      <g transform=\"translate(20.878125 179.762312)scale(0.1 -0.1)\">\r\n       <defs>\r\n        <path d=\"M 12.40625 8.296875 \r\nL 28.515625 8.296875 \r\nL 28.515625 63.921875 \r\nL 10.984375 60.40625 \r\nL 10.984375 69.390625 \r\nL 28.421875 72.90625 \r\nL 38.28125 72.90625 \r\nL 38.28125 8.296875 \r\nL 54.390625 8.296875 \r\nL 54.390625 0 \r\nL 12.40625 0 \r\nz\r\n\" id=\"DejaVuSans-49\"/>\r\n       </defs>\r\n       <use xlink:href=\"#DejaVuSans-49\"/>\r\n       <use x=\"63.623047\" xlink:href=\"#DejaVuSans-46\"/>\r\n       <use x=\"95.410156\" xlink:href=\"#DejaVuSans-48\"/>\r\n      </g>\r\n     </g>\r\n    </g>\r\n    <g id=\"ytick_4\">\r\n     <g id=\"line2d_9\">\r\n      <g>\r\n       <use style=\"stroke:#000000;stroke-width:0.8;\" x=\"43.78125\" xlink:href=\"#m07ace9debd\" y=\"151.62464\"/>\r\n      </g>\r\n     </g>\r\n     <g id=\"text_9\">\r\n      <!-- 1.5 -->\r\n      <g transform=\"translate(20.878125 155.423859)scale(0.1 -0.1)\">\r\n       <use xlink:href=\"#DejaVuSans-49\"/>\r\n       <use x=\"63.623047\" xlink:href=\"#DejaVuSans-46\"/>\r\n       <use x=\"95.410156\" xlink:href=\"#DejaVuSans-53\"/>\r\n      </g>\r\n     </g>\r\n    </g>\r\n    <g id=\"ytick_5\">\r\n     <g id=\"line2d_10\">\r\n      <g>\r\n       <use style=\"stroke:#000000;stroke-width:0.8;\" x=\"43.78125\" xlink:href=\"#m07ace9debd\" y=\"127.286187\"/>\r\n      </g>\r\n     </g>\r\n     <g id=\"text_10\">\r\n      <!-- 2.0 -->\r\n      <g transform=\"translate(20.878125 131.085406)scale(0.1 -0.1)\">\r\n       <use xlink:href=\"#DejaVuSans-50\"/>\r\n       <use x=\"63.623047\" xlink:href=\"#DejaVuSans-46\"/>\r\n       <use x=\"95.410156\" xlink:href=\"#DejaVuSans-48\"/>\r\n      </g>\r\n     </g>\r\n    </g>\r\n    <g id=\"ytick_6\">\r\n     <g id=\"line2d_11\">\r\n      <g>\r\n       <use style=\"stroke:#000000;stroke-width:0.8;\" x=\"43.78125\" xlink:href=\"#m07ace9debd\" y=\"102.947734\"/>\r\n      </g>\r\n     </g>\r\n     <g id=\"text_11\">\r\n      <!-- 2.5 -->\r\n      <g transform=\"translate(20.878125 106.746952)scale(0.1 -0.1)\">\r\n       <use xlink:href=\"#DejaVuSans-50\"/>\r\n       <use x=\"63.623047\" xlink:href=\"#DejaVuSans-46\"/>\r\n       <use x=\"95.410156\" xlink:href=\"#DejaVuSans-53\"/>\r\n      </g>\r\n     </g>\r\n    </g>\r\n    <g id=\"ytick_7\">\r\n     <g id=\"line2d_12\">\r\n      <g>\r\n       <use style=\"stroke:#000000;stroke-width:0.8;\" x=\"43.78125\" xlink:href=\"#m07ace9debd\" y=\"78.60928\"/>\r\n      </g>\r\n     </g>\r\n     <g id=\"text_12\">\r\n      <!-- 3.0 -->\r\n      <g transform=\"translate(20.878125 82.408499)scale(0.1 -0.1)\">\r\n       <defs>\r\n        <path d=\"M 40.578125 39.3125 \r\nQ 47.65625 37.796875 51.625 33 \r\nQ 55.609375 28.21875 55.609375 21.1875 \r\nQ 55.609375 10.40625 48.1875 4.484375 \r\nQ 40.765625 -1.421875 27.09375 -1.421875 \r\nQ 22.515625 -1.421875 17.65625 -0.515625 \r\nQ 12.796875 0.390625 7.625 2.203125 \r\nL 7.625 11.71875 \r\nQ 11.71875 9.328125 16.59375 8.109375 \r\nQ 21.484375 6.890625 26.8125 6.890625 \r\nQ 36.078125 6.890625 40.9375 10.546875 \r\nQ 45.796875 14.203125 45.796875 21.1875 \r\nQ 45.796875 27.640625 41.28125 31.265625 \r\nQ 36.765625 34.90625 28.71875 34.90625 \r\nL 20.21875 34.90625 \r\nL 20.21875 43.015625 \r\nL 29.109375 43.015625 \r\nQ 36.375 43.015625 40.234375 45.921875 \r\nQ 44.09375 48.828125 44.09375 54.296875 \r\nQ 44.09375 59.90625 40.109375 62.90625 \r\nQ 36.140625 65.921875 28.71875 65.921875 \r\nQ 24.65625 65.921875 20.015625 65.03125 \r\nQ 15.375 64.15625 9.8125 62.3125 \r\nL 9.8125 71.09375 \r\nQ 15.4375 72.65625 20.34375 73.4375 \r\nQ 25.25 74.21875 29.59375 74.21875 \r\nQ 40.828125 74.21875 47.359375 69.109375 \r\nQ 53.90625 64.015625 53.90625 55.328125 \r\nQ 53.90625 49.265625 50.4375 45.09375 \r\nQ 46.96875 40.921875 40.578125 39.3125 \r\nz\r\n\" id=\"DejaVuSans-51\"/>\r\n       </defs>\r\n       <use xlink:href=\"#DejaVuSans-51\"/>\r\n       <use x=\"63.623047\" xlink:href=\"#DejaVuSans-46\"/>\r\n       <use x=\"95.410156\" xlink:href=\"#DejaVuSans-48\"/>\r\n      </g>\r\n     </g>\r\n    </g>\r\n    <g id=\"ytick_8\">\r\n     <g id=\"line2d_13\">\r\n      <g>\r\n       <use style=\"stroke:#000000;stroke-width:0.8;\" x=\"43.78125\" xlink:href=\"#m07ace9debd\" y=\"54.270827\"/>\r\n      </g>\r\n     </g>\r\n     <g id=\"text_13\">\r\n      <!-- 3.5 -->\r\n      <g transform=\"translate(20.878125 58.070046)scale(0.1 -0.1)\">\r\n       <use xlink:href=\"#DejaVuSans-51\"/>\r\n       <use x=\"63.623047\" xlink:href=\"#DejaVuSans-46\"/>\r\n       <use x=\"95.410156\" xlink:href=\"#DejaVuSans-53\"/>\r\n      </g>\r\n     </g>\r\n    </g>\r\n    <g id=\"ytick_9\">\r\n     <g id=\"line2d_14\">\r\n      <g>\r\n       <use style=\"stroke:#000000;stroke-width:0.8;\" x=\"43.78125\" xlink:href=\"#m07ace9debd\" y=\"29.932374\"/>\r\n      </g>\r\n     </g>\r\n     <g id=\"text_14\">\r\n      <!-- 4.0 -->\r\n      <g transform=\"translate(20.878125 33.731593)scale(0.1 -0.1)\">\r\n       <use xlink:href=\"#DejaVuSans-52\"/>\r\n       <use x=\"63.623047\" xlink:href=\"#DejaVuSans-46\"/>\r\n       <use x=\"95.410156\" xlink:href=\"#DejaVuSans-48\"/>\r\n      </g>\r\n     </g>\r\n    </g>\r\n    <g id=\"text_15\">\r\n     <!-- Density -->\r\n     <g transform=\"translate(14.798438 134.928594)rotate(-90)scale(0.1 -0.1)\">\r\n      <defs>\r\n       <path d=\"M 19.671875 64.796875 \r\nL 19.671875 8.109375 \r\nL 31.59375 8.109375 \r\nQ 46.6875 8.109375 53.6875 14.9375 \r\nQ 60.6875 21.78125 60.6875 36.53125 \r\nQ 60.6875 51.171875 53.6875 57.984375 \r\nQ 46.6875 64.796875 31.59375 64.796875 \r\nz\r\nM 9.8125 72.90625 \r\nL 30.078125 72.90625 \r\nQ 51.265625 72.90625 61.171875 64.09375 \r\nQ 71.09375 55.28125 71.09375 36.53125 \r\nQ 71.09375 17.671875 61.125 8.828125 \r\nQ 51.171875 0 30.078125 0 \r\nL 9.8125 0 \r\nz\r\n\" id=\"DejaVuSans-68\"/>\r\n       <path d=\"M 56.203125 29.59375 \r\nL 56.203125 25.203125 \r\nL 14.890625 25.203125 \r\nQ 15.484375 15.921875 20.484375 11.0625 \r\nQ 25.484375 6.203125 34.421875 6.203125 \r\nQ 39.59375 6.203125 44.453125 7.46875 \r\nQ 49.3125 8.734375 54.109375 11.28125 \r\nL 54.109375 2.78125 \r\nQ 49.265625 0.734375 44.1875 -0.34375 \r\nQ 39.109375 -1.421875 33.890625 -1.421875 \r\nQ 20.796875 -1.421875 13.15625 6.1875 \r\nQ 5.515625 13.8125 5.515625 26.8125 \r\nQ 5.515625 40.234375 12.765625 48.109375 \r\nQ 20.015625 56 32.328125 56 \r\nQ 43.359375 56 49.78125 48.890625 \r\nQ 56.203125 41.796875 56.203125 29.59375 \r\nz\r\nM 47.21875 32.234375 \r\nQ 47.125 39.59375 43.09375 43.984375 \r\nQ 39.0625 48.390625 32.421875 48.390625 \r\nQ 24.90625 48.390625 20.390625 44.140625 \r\nQ 15.875 39.890625 15.1875 32.171875 \r\nz\r\n\" id=\"DejaVuSans-101\"/>\r\n       <path d=\"M 54.890625 33.015625 \r\nL 54.890625 0 \r\nL 45.90625 0 \r\nL 45.90625 32.71875 \r\nQ 45.90625 40.484375 42.875 44.328125 \r\nQ 39.84375 48.1875 33.796875 48.1875 \r\nQ 26.515625 48.1875 22.3125 43.546875 \r\nQ 18.109375 38.921875 18.109375 30.90625 \r\nL 18.109375 0 \r\nL 9.078125 0 \r\nL 9.078125 54.6875 \r\nL 18.109375 54.6875 \r\nL 18.109375 46.1875 \r\nQ 21.34375 51.125 25.703125 53.5625 \r\nQ 30.078125 56 35.796875 56 \r\nQ 45.21875 56 50.046875 50.171875 \r\nQ 54.890625 44.34375 54.890625 33.015625 \r\nz\r\n\" id=\"DejaVuSans-110\"/>\r\n       <path d=\"M 44.28125 53.078125 \r\nL 44.28125 44.578125 \r\nQ 40.484375 46.53125 36.375 47.5 \r\nQ 32.28125 48.484375 27.875 48.484375 \r\nQ 21.1875 48.484375 17.84375 46.4375 \r\nQ 14.5 44.390625 14.5 40.28125 \r\nQ 14.5 37.15625 16.890625 35.375 \r\nQ 19.28125 33.59375 26.515625 31.984375 \r\nL 29.59375 31.296875 \r\nQ 39.15625 29.25 43.1875 25.515625 \r\nQ 47.21875 21.78125 47.21875 15.09375 \r\nQ 47.21875 7.46875 41.1875 3.015625 \r\nQ 35.15625 -1.421875 24.609375 -1.421875 \r\nQ 20.21875 -1.421875 15.453125 -0.5625 \r\nQ 10.6875 0.296875 5.421875 2 \r\nL 5.421875 11.28125 \r\nQ 10.40625 8.6875 15.234375 7.390625 \r\nQ 20.0625 6.109375 24.8125 6.109375 \r\nQ 31.15625 6.109375 34.5625 8.28125 \r\nQ 37.984375 10.453125 37.984375 14.40625 \r\nQ 37.984375 18.0625 35.515625 20.015625 \r\nQ 33.0625 21.96875 24.703125 23.78125 \r\nL 21.578125 24.515625 \r\nQ 13.234375 26.265625 9.515625 29.90625 \r\nQ 5.8125 33.546875 5.8125 39.890625 \r\nQ 5.8125 47.609375 11.28125 51.796875 \r\nQ 16.75 56 26.8125 56 \r\nQ 31.78125 56 36.171875 55.265625 \r\nQ 40.578125 54.546875 44.28125 53.078125 \r\nz\r\n\" id=\"DejaVuSans-115\"/>\r\n       <path d=\"M 9.421875 54.6875 \r\nL 18.40625 54.6875 \r\nL 18.40625 0 \r\nL 9.421875 0 \r\nz\r\nM 9.421875 75.984375 \r\nL 18.40625 75.984375 \r\nL 18.40625 64.59375 \r\nL 9.421875 64.59375 \r\nz\r\n\" id=\"DejaVuSans-105\"/>\r\n       <path d=\"M 18.3125 70.21875 \r\nL 18.3125 54.6875 \r\nL 36.8125 54.6875 \r\nL 36.8125 47.703125 \r\nL 18.3125 47.703125 \r\nL 18.3125 18.015625 \r\nQ 18.3125 11.328125 20.140625 9.421875 \r\nQ 21.96875 7.515625 27.59375 7.515625 \r\nL 36.8125 7.515625 \r\nL 36.8125 0 \r\nL 27.59375 0 \r\nQ 17.1875 0 13.234375 3.875 \r\nQ 9.28125 7.765625 9.28125 18.015625 \r\nL 9.28125 47.703125 \r\nL 2.6875 47.703125 \r\nL 2.6875 54.6875 \r\nL 9.28125 54.6875 \r\nL 9.28125 70.21875 \r\nz\r\n\" id=\"DejaVuSans-116\"/>\r\n       <path d=\"M 32.171875 -5.078125 \r\nQ 28.375 -14.84375 24.75 -17.8125 \r\nQ 21.140625 -20.796875 15.09375 -20.796875 \r\nL 7.90625 -20.796875 \r\nL 7.90625 -13.28125 \r\nL 13.1875 -13.28125 \r\nQ 16.890625 -13.28125 18.9375 -11.515625 \r\nQ 21 -9.765625 23.484375 -3.21875 \r\nL 25.09375 0.875 \r\nL 2.984375 54.6875 \r\nL 12.5 54.6875 \r\nL 29.59375 11.921875 \r\nL 46.6875 54.6875 \r\nL 56.203125 54.6875 \r\nz\r\n\" id=\"DejaVuSans-121\"/>\r\n      </defs>\r\n      <use xlink:href=\"#DejaVuSans-68\"/>\r\n      <use x=\"77.001953\" xlink:href=\"#DejaVuSans-101\"/>\r\n      <use x=\"138.525391\" xlink:href=\"#DejaVuSans-110\"/>\r\n      <use x=\"201.904297\" xlink:href=\"#DejaVuSans-115\"/>\r\n      <use x=\"254.003906\" xlink:href=\"#DejaVuSans-105\"/>\r\n      <use x=\"281.787109\" xlink:href=\"#DejaVuSans-116\"/>\r\n      <use x=\"320.996094\" xlink:href=\"#DejaVuSans-121\"/>\r\n     </g>\r\n    </g>\r\n   </g>\r\n   <g id=\"line2d_15\">\r\n    <path clip-path=\"url(#pc25d1b58c6)\" d=\"M 58.999432 224.418216 \r\nL 62.058363 223.990994 \r\nL 63.587828 223.575324 \r\nL 65.117294 222.940777 \r\nL 66.646759 222.000548 \r\nL 68.176225 220.64797 \r\nL 69.70569 218.758355 \r\nL 71.235156 216.193828 \r\nL 72.764621 212.811419 \r\nL 74.294087 208.474203 \r\nL 75.823552 203.064637 \r\nL 77.353018 196.498713 \r\nL 78.882483 188.739168 \r\nL 80.411949 179.805953 \r\nL 81.941414 169.782447 \r\nL 85.000345 147.116212 \r\nL 91.118208 98.635115 \r\nL 92.647673 87.679292 \r\nL 94.177139 77.799618 \r\nL 95.706604 69.246361 \r\nL 97.23607 62.217816 \r\nL 98.765535 56.851546 \r\nL 100.295001 53.219299 \r\nL 101.824466 51.326015 \r\nL 103.353932 51.113016 \r\nL 104.883397 52.465082 \r\nL 106.412863 55.220712 \r\nL 107.942328 59.184559 \r\nL 109.471794 64.140872 \r\nL 111.001259 69.866772 \r\nL 114.06019 82.770571 \r\nL 120.178052 109.564731 \r\nL 123.236983 121.664033 \r\nL 126.295914 132.335821 \r\nL 127.82538 137.095165 \r\nL 129.354845 141.46785 \r\nL 130.884311 145.461665 \r\nL 132.413776 149.0912 \r\nL 133.943242 152.3774 \r\nL 135.472707 155.346848 \r\nL 137.002173 158.030489 \r\nL 138.531638 160.46174 \r\nL 141.590569 164.698752 \r\nL 144.6495 168.283916 \r\nL 147.708431 171.347798 \r\nL 150.767362 173.915817 \r\nL 152.296828 175.002733 \r\nL 153.826293 175.949996 \r\nL 155.355759 176.753297 \r\nL 156.885224 177.411302 \r\nL 158.41469 177.926055 \r\nL 159.944155 178.302666 \r\nL 161.473621 178.548487 \r\nL 163.003086 178.67198 \r\nL 166.062017 178.584814 \r\nL 169.120948 178.094825 \r\nL 172.17988 177.234399 \r\nL 175.238811 176.027896 \r\nL 178.297742 174.513888 \r\nL 181.356673 172.760992 \r\nL 192.062931 166.26385 \r\nL 195.121862 164.690018 \r\nL 198.180793 163.324957 \r\nL 201.239724 162.182707 \r\nL 204.298655 161.287324 \r\nL 207.357586 160.675053 \r\nL 210.416517 160.378369 \r\nL 213.475448 160.409865 \r\nL 216.534379 160.762416 \r\nL 219.59331 161.422999 \r\nL 222.652241 162.383268 \r\nL 225.711172 163.636733 \r\nL 228.770103 165.17042 \r\nL 231.829034 166.965217 \r\nL 234.887965 169.006153 \r\nL 237.946896 171.288787 \r\nL 241.005827 173.810295 \r\nL 245.594224 177.991444 \r\nL 251.712086 184.043196 \r\nL 265.477276 197.93519 \r\nL 270.065672 202.144903 \r\nL 273.124603 204.67338 \r\nL 276.183534 206.948727 \r\nL 279.242465 208.979269 \r\nL 282.301396 210.800072 \r\nL 286.889793 213.247337 \r\nL 291.478189 215.470706 \r\nL 296.066586 217.481875 \r\nL 300.654982 219.202638 \r\nL 305.243379 220.593872 \r\nL 309.831775 221.693008 \r\nL 314.420172 222.548433 \r\nL 319.008568 223.190081 \r\nL 325.12643 223.782837 \r\nL 332.773758 224.251384 \r\nL 340.421086 224.502665 \r\nL 351.127344 224.620836 \r\nL 363.363068 224.639394 \r\nL 363.363068 224.639394 \r\n\" style=\"fill:none;stroke:#1f77b4;stroke-linecap:square;stroke-width:1.5;\"/>\r\n   </g>\r\n   <g id=\"patch_33\">\r\n    <path d=\"M 43.78125 224.64 \r\nL 43.78125 7.2 \r\n\" style=\"fill:none;stroke:#000000;stroke-linecap:square;stroke-linejoin:miter;stroke-width:0.8;\"/>\r\n   </g>\r\n   <g id=\"patch_34\">\r\n    <path d=\"M 378.58125 224.64 \r\nL 378.58125 7.2 \r\n\" style=\"fill:none;stroke:#000000;stroke-linecap:square;stroke-linejoin:miter;stroke-width:0.8;\"/>\r\n   </g>\r\n   <g id=\"patch_35\">\r\n    <path d=\"M 43.78125 224.64 \r\nL 378.58125 224.64 \r\n\" style=\"fill:none;stroke:#000000;stroke-linecap:square;stroke-linejoin:miter;stroke-width:0.8;\"/>\r\n   </g>\r\n   <g id=\"patch_36\">\r\n    <path d=\"M 43.78125 7.2 \r\nL 378.58125 7.2 \r\n\" style=\"fill:none;stroke:#000000;stroke-linecap:square;stroke-linejoin:miter;stroke-width:0.8;\"/>\r\n   </g>\r\n  </g>\r\n </g>\r\n <defs>\r\n  <clipPath id=\"pc25d1b58c6\">\r\n   <rect height=\"217.44\" width=\"334.8\" x=\"43.78125\" y=\"7.2\"/>\r\n  </clipPath>\r\n </defs>\r\n</svg>\r\n",
      "image/png": "[encoded data removed]"
     },
     "metadata": {
      "needs_background": "light"
     }
    }
   ],
   "source": [
    "sns.distplot(prediction12)"
   ]
  },
  {
   "source": [
    "### Building confusion matrix"
   ],
   "cell_type": "markdown",
   "metadata": {}
  },
  {
   "cell_type": "code",
   "execution_count": 75,
   "metadata": {},
   "outputs": [],
   "source": [
    "# function to plot confusion matrix\n",
    "\n",
    "from sklearn.metrics import confusion_matrix\n",
    "import itertools\n",
    "\n",
    "def plot_confusion_matrix(cm, classes,\n",
    "                          normalize=False,\n",
    "                          title='Confusion matrix',\n",
    "                          cmap=plt.cm.Blues):\n",
    "    #Add Normalization Option\n",
    "    if normalize:\n",
    "        cm = cm.astype('float') / cm.sum(axis=1)[:, np.newaxis]\n",
    "        print(\"Normalized confusion matrix\")\n",
    "    else:\n",
    "        print('Confusion matrix, without normalization')\n",
    "\n",
    "    print(cm)\n",
    "    plt.figure(figsize=(6,6))\n",
    "    plt.imshow(cm, interpolation='nearest', cmap=cmap)\n",
    "    plt.title(title)\n",
    "    plt.colorbar()\n",
    "    tick_marks = np.arange(len(classes))\n",
    "    plt.xticks(tick_marks, classes, rotation=45)\n",
    "    plt.yticks(tick_marks, classes)\n",
    "\n",
    "    fmt = '.2f' if normalize else 'd'\n",
    "    thresh = cm.max() / 2.\n",
    "    for i, j in itertools.product(range(cm.shape[0]), range(cm.shape[1])):\n",
    "        plt.text(j, i, format(cm[i, j], fmt),\n",
    "                 horizontalalignment=\"center\",\n",
    "                 color=\"white\" if cm[i, j] > thresh else \"black\")\n",
    "\n",
    "    plt.tight_layout()\n",
    "    plt.ylabel('True label')\n",
    "    plt.xlabel('Predicted label')"
   ]
  },
  {
   "cell_type": "code",
   "execution_count": 96,
   "metadata": {},
   "outputs": [],
   "source": [
    "# creating threshold\n",
    "val_check=[]\n",
    "for i in prediction12:\n",
    "    if i<0.25:\n",
    "        val_check.append(0)\n",
    "    else:\n",
    "        val_check.append(1)"
   ]
  },
  {
   "source": [
    "### Score checked for various threshold values of the predicted probability"
   ],
   "cell_type": "markdown",
   "metadata": {}
  },
  {
   "cell_type": "code",
   "execution_count": 97,
   "metadata": {},
   "outputs": [
    {
     "output_type": "execute_result",
     "data": {
      "text/plain": [
       "0.739528816095664"
      ]
     },
     "metadata": {},
     "execution_count": 97
    }
   ],
   "source": [
    "# calculating ROC score on validation data\n",
    "\n",
    "auc_lr1h =  roc_auc_score(y_val,val_check)\n",
    "auc_lr1h"
   ]
  },
  {
   "cell_type": "code",
   "execution_count": 98,
   "metadata": {},
   "outputs": [
    {
     "output_type": "stream",
     "name": "stdout",
     "text": [
      "Confusion matrix, without normalization\n[[6629  650]\n [2994 2448]]\n"
     ]
    },
    {
     "output_type": "display_data",
     "data": {
      "text/plain": "<Figure size 432x432 with 2 Axes>",
      "image/svg+xml": "<?xml version=\"1.0\" encoding=\"utf-8\" standalone=\"no\"?>\r\n<!DOCTYPE svg PUBLIC \"-//W3C//DTD SVG 1.1//EN\"\r\n  \"http://www.w3.org/Graphics/SVG/1.1/DTD/svg11.dtd\">\r\n<!-- Created with matplotlib (https://matplotlib.org/) -->\r\n<svg height=\"424.8pt\" version=\"1.1\" viewBox=\"0 0 431.881875 424.8\" width=\"431.881875pt\" xmlns=\"http://www.w3.org/2000/svg\" xmlns:xlink=\"http://www.w3.org/1999/xlink\">\r\n <metadata>\r\n  <rdf:RDF xmlns:cc=\"http://creativecommons.org/ns#\" xmlns:dc=\"http://purl.org/dc/elements/1.1/\" xmlns:rdf=\"http://www.w3.org/1999/02/22-rdf-syntax-ns#\">\r\n   <cc:Work>\r\n    <dc:type rdf:resource=\"http://purl.org/dc/dcmitype/StillImage\"/>\r\n    <dc:date>2021-02-28T19:39:33.886093</dc:date>\r\n    <dc:format>image/svg+xml</dc:format>\r\n    <dc:creator>\r\n     <cc:Agent>\r\n      <dc:title>Matplotlib v3.3.4, https://matplotlib.org/</dc:title>\r\n     </cc:Agent>\r\n    </dc:creator>\r\n   </cc:Work>\r\n  </rdf:RDF>\r\n </metadata>\r\n <defs>\r\n  <style type=\"text/css\">*{stroke-linecap:butt;stroke-linejoin:round;}</style>\r\n </defs>\r\n <g id=\"figure_1\">\r\n  <g id=\"patch_1\">\r\n   <path d=\"M 0 424.8 \r\nL 431.881875 424.8 \r\nL 431.881875 0 \r\nL 0 0 \r\nz\r\n\" style=\"fill:none;\"/>\r\n  </g>\r\n  <g id=\"axes_1\">\r\n   <g id=\"patch_2\">\r\n    <path d=\"M 34.240625 371.21 \r\nL 351.860625 371.21 \r\nL 351.860625 53.59 \r\nL 34.240625 53.59 \r\nz\r\n\" style=\"fill:#ffffff;\"/>\r\n   </g>\r\n   <g clip-path=\"url(#pe47c907201)\">\r\n    <image height=\"318\" id=\"imagef062a6e2e2\" transform=\"scale(1 -1)translate(0 -318)\" width=\"318\" x=\"34.240625\" xlink:href=\"data:image/png;base64,\r\niVBORw0KGgoAAAANSUhEUgAAAT4AAAE+CAYAAAAUOHwwAAAESUlEQVR4nO3WMRHCABREQULFUGABC/EVO8zgKA0ikICExAW/eLsKrnpzy3v/HhcY8HzcpycQdZ0eAPBvwgfkCB+QI3xAjvABOcIH5AgfkCN8QI7wATnCB+QIH5AjfECO8AE5wgfkCB+QI3xAjvABOcIH5AgfkCN8QI7wATnCB+QIH5AjfECO8AE5wgfkCB+QI3xAjvABOcIH5AgfkCN8QI7wATnCB+QIH5AjfECO8AE5wgfkCB+QI3xAjvABOcIH5AgfkCN8QI7wATnCB+QIH5AjfECO8AE5wgfkCB+QI3xAjvABOcIH5AgfkCN8QI7wATnCB+QIH5AjfECO8AE5wgfkCB+QI3xAjvABOcIH5AgfkCN8QI7wATnCB+QIH5AjfECO8AE5wgfkCB+QI3xAjvABOcIH5AgfkCN8QI7wATnCB+QIH5AjfECO8AE5wgfkCB+QI3xAjvABOcIH5AgfkCN8QI7wATnCB+QIH5AjfECO8AE5wgfkCB+QI3xAjvABOcIH5AgfkCN8QI7wATnCB+QIH5AjfECO8AE5wgfkCB+QI3xAjvABOcIH5AgfkCN8QI7wATnCB+QIH5AjfECO8AE5wgfkCB+QI3xAjvABOcIH5AgfkCN8QI7wATnCB+QIH5AjfECO8AE5wgfkCB+QI3xAjvABOcIH5AgfkCN8QI7wATnCB+QIH5AjfECO8AE5wgfkCB+QI3xAjvABOcIH5AgfkCN8QI7wATnCB+QIH5AjfECO8AE5wgfkLLd1O6ZH0PT7vKYnEOXxATnCB+QIH5AjfECO8AE5wgfkCB+QI3xAjvABOcIH5AgfkCN8QI7wATnCB+QIH5AjfECO8AE5wgfkCB+QI3xAjvABOcIH5AgfkCN8QI7wATnCB+QIH5AjfECO8AE5wgfkCB+QI3xAjvABOcIH5AgfkCN8QI7wATnCB+QIH5AjfECO8AE5wgfkCB+QI3xAjvABOcIH5AgfkCN8QI7wATnCB+QIH5AjfECO8AE5wgfkCB+QI3xAjvABOcIH5AgfkCN8QI7wATnCB+QIH5AjfECO8AE5wgfkCB+QI3xAjvABOcIH5AgfkCN8QI7wATnCB+QIH5AjfECO8AE5wgfkCB+QI3xAjvABOcIH5AgfkCN8QI7wATnCB+QIH5AjfECO8AE5wgfkCB+QI3xAjvABOcIH5AgfkCN8QI7wATnCB+QIH5AjfECO8AE5wgfkCB+QI3xAjvABOcIH5AgfkCN8QI7wATnCB+QIH5AjfECO8AE5wgfkCB+QI3xAjvABOcIH5AgfkCN8QI7wATnCB+QIH5AjfECO8AE5wgfkCB+QI3xAjvABOcIH5AgfkCN8QI7wATnCB+QIH5AjfECO8AE5wgfkCB+QI3xAjvABOcIH5AgfkCN8QI7wATnCB+QIH5AjfECO8AE5wgfkCB+QI3xAjvABOcIH5AgfkCN8QI7wATnCB+ScuRQJ3Wx7mQwAAAAASUVORK5CYII=\" y=\"-53.21\"/>\r\n   </g>\r\n   <g id=\"matplotlib.axis_1\">\r\n    <g id=\"xtick_1\">\r\n     <g id=\"line2d_1\">\r\n      <defs>\r\n       <path d=\"M 0 0 \r\nL 0 3.5 \r\n\" id=\"mccc256c7f1\" style=\"stroke:#000000;stroke-width:0.8;\"/>\r\n      </defs>\r\n      <g>\r\n       <use style=\"stroke:#000000;stroke-width:0.8;\" x=\"113.645625\" xlink:href=\"#mccc256c7f1\" y=\"371.21\"/>\r\n      </g>\r\n     </g>\r\n     <g id=\"text_1\">\r\n      <!-- 0 -->\r\n      <g transform=\"translate(113.347314 388.081874)rotate(-45)scale(0.1 -0.1)\">\r\n       <defs>\r\n        <path d=\"M 31.78125 66.40625 \r\nQ 24.171875 66.40625 20.328125 58.90625 \r\nQ 16.5 51.421875 16.5 36.375 \r\nQ 16.5 21.390625 20.328125 13.890625 \r\nQ 24.171875 6.390625 31.78125 6.390625 \r\nQ 39.453125 6.390625 43.28125 13.890625 \r\nQ 47.125 21.390625 47.125 36.375 \r\nQ 47.125 51.421875 43.28125 58.90625 \r\nQ 39.453125 66.40625 31.78125 66.40625 \r\nz\r\nM 31.78125 74.21875 \r\nQ 44.046875 74.21875 50.515625 64.515625 \r\nQ 56.984375 54.828125 56.984375 36.375 \r\nQ 56.984375 17.96875 50.515625 8.265625 \r\nQ 44.046875 -1.421875 31.78125 -1.421875 \r\nQ 19.53125 -1.421875 13.0625 8.265625 \r\nQ 6.59375 17.96875 6.59375 36.375 \r\nQ 6.59375 54.828125 13.0625 64.515625 \r\nQ 19.53125 74.21875 31.78125 74.21875 \r\nz\r\n\" id=\"DejaVuSans-48\"/>\r\n       </defs>\r\n       <use xlink:href=\"#DejaVuSans-48\"/>\r\n      </g>\r\n     </g>\r\n    </g>\r\n    <g id=\"xtick_2\">\r\n     <g id=\"line2d_2\">\r\n      <g>\r\n       <use style=\"stroke:#000000;stroke-width:0.8;\" x=\"272.455625\" xlink:href=\"#mccc256c7f1\" y=\"371.21\"/>\r\n      </g>\r\n     </g>\r\n     <g id=\"text_2\">\r\n      <!-- 1 -->\r\n      <g transform=\"translate(272.157314 388.081874)rotate(-45)scale(0.1 -0.1)\">\r\n       <defs>\r\n        <path d=\"M 12.40625 8.296875 \r\nL 28.515625 8.296875 \r\nL 28.515625 63.921875 \r\nL 10.984375 60.40625 \r\nL 10.984375 69.390625 \r\nL 28.421875 72.90625 \r\nL 38.28125 72.90625 \r\nL 38.28125 8.296875 \r\nL 54.390625 8.296875 \r\nL 54.390625 0 \r\nL 12.40625 0 \r\nz\r\n\" id=\"DejaVuSans-49\"/>\r\n       </defs>\r\n       <use xlink:href=\"#DejaVuSans-49\"/>\r\n      </g>\r\n     </g>\r\n    </g>\r\n    <g id=\"text_3\">\r\n     <!-- Predicted label -->\r\n     <g transform=\"translate(155.898281 401.150872)scale(0.1 -0.1)\">\r\n      <defs>\r\n       <path d=\"M 19.671875 64.796875 \r\nL 19.671875 37.40625 \r\nL 32.078125 37.40625 \r\nQ 38.96875 37.40625 42.71875 40.96875 \r\nQ 46.484375 44.53125 46.484375 51.125 \r\nQ 46.484375 57.671875 42.71875 61.234375 \r\nQ 38.96875 64.796875 32.078125 64.796875 \r\nz\r\nM 9.8125 72.90625 \r\nL 32.078125 72.90625 \r\nQ 44.34375 72.90625 50.609375 67.359375 \r\nQ 56.890625 61.8125 56.890625 51.125 \r\nQ 56.890625 40.328125 50.609375 34.8125 \r\nQ 44.34375 29.296875 32.078125 29.296875 \r\nL 19.671875 29.296875 \r\nL 19.671875 0 \r\nL 9.8125 0 \r\nz\r\n\" id=\"DejaVuSans-80\"/>\r\n       <path d=\"M 41.109375 46.296875 \r\nQ 39.59375 47.171875 37.8125 47.578125 \r\nQ 36.03125 48 33.890625 48 \r\nQ 26.265625 48 22.1875 43.046875 \r\nQ 18.109375 38.09375 18.109375 28.8125 \r\nL 18.109375 0 \r\nL 9.078125 0 \r\nL 9.078125 54.6875 \r\nL 18.109375 54.6875 \r\nL 18.109375 46.1875 \r\nQ 20.953125 51.171875 25.484375 53.578125 \r\nQ 30.03125 56 36.53125 56 \r\nQ 37.453125 56 38.578125 55.875 \r\nQ 39.703125 55.765625 41.0625 55.515625 \r\nz\r\n\" id=\"DejaVuSans-114\"/>\r\n       <path d=\"M 56.203125 29.59375 \r\nL 56.203125 25.203125 \r\nL 14.890625 25.203125 \r\nQ 15.484375 15.921875 20.484375 11.0625 \r\nQ 25.484375 6.203125 34.421875 6.203125 \r\nQ 39.59375 6.203125 44.453125 7.46875 \r\nQ 49.3125 8.734375 54.109375 11.28125 \r\nL 54.109375 2.78125 \r\nQ 49.265625 0.734375 44.1875 -0.34375 \r\nQ 39.109375 -1.421875 33.890625 -1.421875 \r\nQ 20.796875 -1.421875 13.15625 6.1875 \r\nQ 5.515625 13.8125 5.515625 26.8125 \r\nQ 5.515625 40.234375 12.765625 48.109375 \r\nQ 20.015625 56 32.328125 56 \r\nQ 43.359375 56 49.78125 48.890625 \r\nQ 56.203125 41.796875 56.203125 29.59375 \r\nz\r\nM 47.21875 32.234375 \r\nQ 47.125 39.59375 43.09375 43.984375 \r\nQ 39.0625 48.390625 32.421875 48.390625 \r\nQ 24.90625 48.390625 20.390625 44.140625 \r\nQ 15.875 39.890625 15.1875 32.171875 \r\nz\r\n\" id=\"DejaVuSans-101\"/>\r\n       <path d=\"M 45.40625 46.390625 \r\nL 45.40625 75.984375 \r\nL 54.390625 75.984375 \r\nL 54.390625 0 \r\nL 45.40625 0 \r\nL 45.40625 8.203125 \r\nQ 42.578125 3.328125 38.25 0.953125 \r\nQ 33.9375 -1.421875 27.875 -1.421875 \r\nQ 17.96875 -1.421875 11.734375 6.484375 \r\nQ 5.515625 14.40625 5.515625 27.296875 \r\nQ 5.515625 40.1875 11.734375 48.09375 \r\nQ 17.96875 56 27.875 56 \r\nQ 33.9375 56 38.25 53.625 \r\nQ 42.578125 51.265625 45.40625 46.390625 \r\nz\r\nM 14.796875 27.296875 \r\nQ 14.796875 17.390625 18.875 11.75 \r\nQ 22.953125 6.109375 30.078125 6.109375 \r\nQ 37.203125 6.109375 41.296875 11.75 \r\nQ 45.40625 17.390625 45.40625 27.296875 \r\nQ 45.40625 37.203125 41.296875 42.84375 \r\nQ 37.203125 48.484375 30.078125 48.484375 \r\nQ 22.953125 48.484375 18.875 42.84375 \r\nQ 14.796875 37.203125 14.796875 27.296875 \r\nz\r\n\" id=\"DejaVuSans-100\"/>\r\n       <path d=\"M 9.421875 54.6875 \r\nL 18.40625 54.6875 \r\nL 18.40625 0 \r\nL 9.421875 0 \r\nz\r\nM 9.421875 75.984375 \r\nL 18.40625 75.984375 \r\nL 18.40625 64.59375 \r\nL 9.421875 64.59375 \r\nz\r\n\" id=\"DejaVuSans-105\"/>\r\n       <path d=\"M 48.78125 52.59375 \r\nL 48.78125 44.1875 \r\nQ 44.96875 46.296875 41.140625 47.34375 \r\nQ 37.3125 48.390625 33.40625 48.390625 \r\nQ 24.65625 48.390625 19.8125 42.84375 \r\nQ 14.984375 37.3125 14.984375 27.296875 \r\nQ 14.984375 17.28125 19.8125 11.734375 \r\nQ 24.65625 6.203125 33.40625 6.203125 \r\nQ 37.3125 6.203125 41.140625 7.25 \r\nQ 44.96875 8.296875 48.78125 10.40625 \r\nL 48.78125 2.09375 \r\nQ 45.015625 0.34375 40.984375 -0.53125 \r\nQ 36.96875 -1.421875 32.421875 -1.421875 \r\nQ 20.0625 -1.421875 12.78125 6.34375 \r\nQ 5.515625 14.109375 5.515625 27.296875 \r\nQ 5.515625 40.671875 12.859375 48.328125 \r\nQ 20.21875 56 33.015625 56 \r\nQ 37.15625 56 41.109375 55.140625 \r\nQ 45.0625 54.296875 48.78125 52.59375 \r\nz\r\n\" id=\"DejaVuSans-99\"/>\r\n       <path d=\"M 18.3125 70.21875 \r\nL 18.3125 54.6875 \r\nL 36.8125 54.6875 \r\nL 36.8125 47.703125 \r\nL 18.3125 47.703125 \r\nL 18.3125 18.015625 \r\nQ 18.3125 11.328125 20.140625 9.421875 \r\nQ 21.96875 7.515625 27.59375 7.515625 \r\nL 36.8125 7.515625 \r\nL 36.8125 0 \r\nL 27.59375 0 \r\nQ 17.1875 0 13.234375 3.875 \r\nQ 9.28125 7.765625 9.28125 18.015625 \r\nL 9.28125 47.703125 \r\nL 2.6875 47.703125 \r\nL 2.6875 54.6875 \r\nL 9.28125 54.6875 \r\nL 9.28125 70.21875 \r\nz\r\n\" id=\"DejaVuSans-116\"/>\r\n       <path id=\"DejaVuSans-32\"/>\r\n       <path d=\"M 9.421875 75.984375 \r\nL 18.40625 75.984375 \r\nL 18.40625 0 \r\nL 9.421875 0 \r\nz\r\n\" id=\"DejaVuSans-108\"/>\r\n       <path d=\"M 34.28125 27.484375 \r\nQ 23.390625 27.484375 19.1875 25 \r\nQ 14.984375 22.515625 14.984375 16.5 \r\nQ 14.984375 11.71875 18.140625 8.90625 \r\nQ 21.296875 6.109375 26.703125 6.109375 \r\nQ 34.1875 6.109375 38.703125 11.40625 \r\nQ 43.21875 16.703125 43.21875 25.484375 \r\nL 43.21875 27.484375 \r\nz\r\nM 52.203125 31.203125 \r\nL 52.203125 0 \r\nL 43.21875 0 \r\nL 43.21875 8.296875 \r\nQ 40.140625 3.328125 35.546875 0.953125 \r\nQ 30.953125 -1.421875 24.3125 -1.421875 \r\nQ 15.921875 -1.421875 10.953125 3.296875 \r\nQ 6 8.015625 6 15.921875 \r\nQ 6 25.140625 12.171875 29.828125 \r\nQ 18.359375 34.515625 30.609375 34.515625 \r\nL 43.21875 34.515625 \r\nL 43.21875 35.40625 \r\nQ 43.21875 41.609375 39.140625 45 \r\nQ 35.0625 48.390625 27.6875 48.390625 \r\nQ 23 48.390625 18.546875 47.265625 \r\nQ 14.109375 46.140625 10.015625 43.890625 \r\nL 10.015625 52.203125 \r\nQ 14.9375 54.109375 19.578125 55.046875 \r\nQ 24.21875 56 28.609375 56 \r\nQ 40.484375 56 46.34375 49.84375 \r\nQ 52.203125 43.703125 52.203125 31.203125 \r\nz\r\n\" id=\"DejaVuSans-97\"/>\r\n       <path d=\"M 48.6875 27.296875 \r\nQ 48.6875 37.203125 44.609375 42.84375 \r\nQ 40.53125 48.484375 33.40625 48.484375 \r\nQ 26.265625 48.484375 22.1875 42.84375 \r\nQ 18.109375 37.203125 18.109375 27.296875 \r\nQ 18.109375 17.390625 22.1875 11.75 \r\nQ 26.265625 6.109375 33.40625 6.109375 \r\nQ 40.53125 6.109375 44.609375 11.75 \r\nQ 48.6875 17.390625 48.6875 27.296875 \r\nz\r\nM 18.109375 46.390625 \r\nQ 20.953125 51.265625 25.265625 53.625 \r\nQ 29.59375 56 35.59375 56 \r\nQ 45.5625 56 51.78125 48.09375 \r\nQ 58.015625 40.1875 58.015625 27.296875 \r\nQ 58.015625 14.40625 51.78125 6.484375 \r\nQ 45.5625 -1.421875 35.59375 -1.421875 \r\nQ 29.59375 -1.421875 25.265625 0.953125 \r\nQ 20.953125 3.328125 18.109375 8.203125 \r\nL 18.109375 0 \r\nL 9.078125 0 \r\nL 9.078125 75.984375 \r\nL 18.109375 75.984375 \r\nz\r\n\" id=\"DejaVuSans-98\"/>\r\n      </defs>\r\n      <use xlink:href=\"#DejaVuSans-80\"/>\r\n      <use x=\"58.552734\" xlink:href=\"#DejaVuSans-114\"/>\r\n      <use x=\"97.416016\" xlink:href=\"#DejaVuSans-101\"/>\r\n      <use x=\"158.939453\" xlink:href=\"#DejaVuSans-100\"/>\r\n      <use x=\"222.416016\" xlink:href=\"#DejaVuSans-105\"/>\r\n      <use x=\"250.199219\" xlink:href=\"#DejaVuSans-99\"/>\r\n      <use x=\"305.179688\" xlink:href=\"#DejaVuSans-116\"/>\r\n      <use x=\"344.388672\" xlink:href=\"#DejaVuSans-101\"/>\r\n      <use x=\"405.912109\" xlink:href=\"#DejaVuSans-100\"/>\r\n      <use x=\"469.388672\" xlink:href=\"#DejaVuSans-32\"/>\r\n      <use x=\"501.175781\" xlink:href=\"#DejaVuSans-108\"/>\r\n      <use x=\"528.958984\" xlink:href=\"#DejaVuSans-97\"/>\r\n      <use x=\"590.238281\" xlink:href=\"#DejaVuSans-98\"/>\r\n      <use x=\"653.714844\" xlink:href=\"#DejaVuSans-101\"/>\r\n      <use x=\"715.238281\" xlink:href=\"#DejaVuSans-108\"/>\r\n     </g>\r\n    </g>\r\n   </g>\r\n   <g id=\"matplotlib.axis_2\">\r\n    <g id=\"ytick_1\">\r\n     <g id=\"line2d_3\">\r\n      <defs>\r\n       <path d=\"M 0 0 \r\nL -3.5 0 \r\n\" id=\"ma391c87f08\" style=\"stroke:#000000;stroke-width:0.8;\"/>\r\n      </defs>\r\n      <g>\r\n       <use style=\"stroke:#000000;stroke-width:0.8;\" x=\"34.240625\" xlink:href=\"#ma391c87f08\" y=\"132.995\"/>\r\n      </g>\r\n     </g>\r\n     <g id=\"text_4\">\r\n      <!-- 0 -->\r\n      <g transform=\"translate(20.878125 136.794219)scale(0.1 -0.1)\">\r\n       <use xlink:href=\"#DejaVuSans-48\"/>\r\n      </g>\r\n     </g>\r\n    </g>\r\n    <g id=\"ytick_2\">\r\n     <g id=\"line2d_4\">\r\n      <g>\r\n       <use style=\"stroke:#000000;stroke-width:0.8;\" x=\"34.240625\" xlink:href=\"#ma391c87f08\" y=\"291.805\"/>\r\n      </g>\r\n     </g>\r\n     <g id=\"text_5\">\r\n      <!-- 1 -->\r\n      <g transform=\"translate(20.878125 295.604219)scale(0.1 -0.1)\">\r\n       <use xlink:href=\"#DejaVuSans-49\"/>\r\n      </g>\r\n     </g>\r\n    </g>\r\n    <g id=\"text_6\">\r\n     <!-- True label -->\r\n     <g transform=\"translate(14.798438 236.699219)rotate(-90)scale(0.1 -0.1)\">\r\n      <defs>\r\n       <path d=\"M -0.296875 72.90625 \r\nL 61.375 72.90625 \r\nL 61.375 64.59375 \r\nL 35.5 64.59375 \r\nL 35.5 0 \r\nL 25.59375 0 \r\nL 25.59375 64.59375 \r\nL -0.296875 64.59375 \r\nz\r\n\" id=\"DejaVuSans-84\"/>\r\n       <path d=\"M 8.5 21.578125 \r\nL 8.5 54.6875 \r\nL 17.484375 54.6875 \r\nL 17.484375 21.921875 \r\nQ 17.484375 14.15625 20.5 10.265625 \r\nQ 23.53125 6.390625 29.59375 6.390625 \r\nQ 36.859375 6.390625 41.078125 11.03125 \r\nQ 45.3125 15.671875 45.3125 23.6875 \r\nL 45.3125 54.6875 \r\nL 54.296875 54.6875 \r\nL 54.296875 0 \r\nL 45.3125 0 \r\nL 45.3125 8.40625 \r\nQ 42.046875 3.421875 37.71875 1 \r\nQ 33.40625 -1.421875 27.6875 -1.421875 \r\nQ 18.265625 -1.421875 13.375 4.4375 \r\nQ 8.5 10.296875 8.5 21.578125 \r\nz\r\nM 31.109375 56 \r\nz\r\n\" id=\"DejaVuSans-117\"/>\r\n      </defs>\r\n      <use xlink:href=\"#DejaVuSans-84\"/>\r\n      <use x=\"46.333984\" xlink:href=\"#DejaVuSans-114\"/>\r\n      <use x=\"87.447266\" xlink:href=\"#DejaVuSans-117\"/>\r\n      <use x=\"150.826172\" xlink:href=\"#DejaVuSans-101\"/>\r\n      <use x=\"212.349609\" xlink:href=\"#DejaVuSans-32\"/>\r\n      <use x=\"244.136719\" xlink:href=\"#DejaVuSans-108\"/>\r\n      <use x=\"271.919922\" xlink:href=\"#DejaVuSans-97\"/>\r\n      <use x=\"333.199219\" xlink:href=\"#DejaVuSans-98\"/>\r\n      <use x=\"396.675781\" xlink:href=\"#DejaVuSans-101\"/>\r\n      <use x=\"458.199219\" xlink:href=\"#DejaVuSans-108\"/>\r\n     </g>\r\n    </g>\r\n   </g>\r\n   <g id=\"patch_3\">\r\n    <path d=\"M 34.240625 371.21 \r\nL 34.240625 53.59 \r\n\" style=\"fill:none;stroke:#000000;stroke-linecap:square;stroke-linejoin:miter;stroke-width:0.8;\"/>\r\n   </g>\r\n   <g id=\"patch_4\">\r\n    <path d=\"M 351.860625 371.21 \r\nL 351.860625 53.59 \r\n\" style=\"fill:none;stroke:#000000;stroke-linecap:square;stroke-linejoin:miter;stroke-width:0.8;\"/>\r\n   </g>\r\n   <g id=\"patch_5\">\r\n    <path d=\"M 34.240625 371.21 \r\nL 351.860625 371.21 \r\n\" style=\"fill:none;stroke:#000000;stroke-linecap:square;stroke-linejoin:miter;stroke-width:0.8;\"/>\r\n   </g>\r\n   <g id=\"patch_6\">\r\n    <path d=\"M 34.240625 53.59 \r\nL 351.860625 53.59 \r\n\" style=\"fill:none;stroke:#000000;stroke-linecap:square;stroke-linejoin:miter;stroke-width:0.8;\"/>\r\n   </g>\r\n   <g id=\"text_7\">\r\n    <!-- 6629 -->\r\n    <g style=\"fill:#ffffff;\" transform=\"translate(100.920625 132.995)scale(0.1 -0.1)\">\r\n     <defs>\r\n      <path d=\"M 33.015625 40.375 \r\nQ 26.375 40.375 22.484375 35.828125 \r\nQ 18.609375 31.296875 18.609375 23.390625 \r\nQ 18.609375 15.53125 22.484375 10.953125 \r\nQ 26.375 6.390625 33.015625 6.390625 \r\nQ 39.65625 6.390625 43.53125 10.953125 \r\nQ 47.40625 15.53125 47.40625 23.390625 \r\nQ 47.40625 31.296875 43.53125 35.828125 \r\nQ 39.65625 40.375 33.015625 40.375 \r\nz\r\nM 52.59375 71.296875 \r\nL 52.59375 62.3125 \r\nQ 48.875 64.0625 45.09375 64.984375 \r\nQ 41.3125 65.921875 37.59375 65.921875 \r\nQ 27.828125 65.921875 22.671875 59.328125 \r\nQ 17.53125 52.734375 16.796875 39.40625 \r\nQ 19.671875 43.65625 24.015625 45.921875 \r\nQ 28.375 48.1875 33.59375 48.1875 \r\nQ 44.578125 48.1875 50.953125 41.515625 \r\nQ 57.328125 34.859375 57.328125 23.390625 \r\nQ 57.328125 12.15625 50.6875 5.359375 \r\nQ 44.046875 -1.421875 33.015625 -1.421875 \r\nQ 20.359375 -1.421875 13.671875 8.265625 \r\nQ 6.984375 17.96875 6.984375 36.375 \r\nQ 6.984375 53.65625 15.1875 63.9375 \r\nQ 23.390625 74.21875 37.203125 74.21875 \r\nQ 40.921875 74.21875 44.703125 73.484375 \r\nQ 48.484375 72.75 52.59375 71.296875 \r\nz\r\n\" id=\"DejaVuSans-54\"/>\r\n      <path d=\"M 19.1875 8.296875 \r\nL 53.609375 8.296875 \r\nL 53.609375 0 \r\nL 7.328125 0 \r\nL 7.328125 8.296875 \r\nQ 12.9375 14.109375 22.625 23.890625 \r\nQ 32.328125 33.6875 34.8125 36.53125 \r\nQ 39.546875 41.84375 41.421875 45.53125 \r\nQ 43.3125 49.21875 43.3125 52.78125 \r\nQ 43.3125 58.59375 39.234375 62.25 \r\nQ 35.15625 65.921875 28.609375 65.921875 \r\nQ 23.96875 65.921875 18.8125 64.3125 \r\nQ 13.671875 62.703125 7.8125 59.421875 \r\nL 7.8125 69.390625 \r\nQ 13.765625 71.78125 18.9375 73 \r\nQ 24.125 74.21875 28.421875 74.21875 \r\nQ 39.75 74.21875 46.484375 68.546875 \r\nQ 53.21875 62.890625 53.21875 53.421875 \r\nQ 53.21875 48.921875 51.53125 44.890625 \r\nQ 49.859375 40.875 45.40625 35.40625 \r\nQ 44.1875 33.984375 37.640625 27.21875 \r\nQ 31.109375 20.453125 19.1875 8.296875 \r\nz\r\n\" id=\"DejaVuSans-50\"/>\r\n      <path d=\"M 10.984375 1.515625 \r\nL 10.984375 10.5 \r\nQ 14.703125 8.734375 18.5 7.8125 \r\nQ 22.3125 6.890625 25.984375 6.890625 \r\nQ 35.75 6.890625 40.890625 13.453125 \r\nQ 46.046875 20.015625 46.78125 33.40625 \r\nQ 43.953125 29.203125 39.59375 26.953125 \r\nQ 35.25 24.703125 29.984375 24.703125 \r\nQ 19.046875 24.703125 12.671875 31.3125 \r\nQ 6.296875 37.9375 6.296875 49.421875 \r\nQ 6.296875 60.640625 12.9375 67.421875 \r\nQ 19.578125 74.21875 30.609375 74.21875 \r\nQ 43.265625 74.21875 49.921875 64.515625 \r\nQ 56.59375 54.828125 56.59375 36.375 \r\nQ 56.59375 19.140625 48.40625 8.859375 \r\nQ 40.234375 -1.421875 26.421875 -1.421875 \r\nQ 22.703125 -1.421875 18.890625 -0.6875 \r\nQ 15.09375 0.046875 10.984375 1.515625 \r\nz\r\nM 30.609375 32.421875 \r\nQ 37.25 32.421875 41.125 36.953125 \r\nQ 45.015625 41.5 45.015625 49.421875 \r\nQ 45.015625 57.28125 41.125 61.84375 \r\nQ 37.25 66.40625 30.609375 66.40625 \r\nQ 23.96875 66.40625 20.09375 61.84375 \r\nQ 16.21875 57.28125 16.21875 49.421875 \r\nQ 16.21875 41.5 20.09375 36.953125 \r\nQ 23.96875 32.421875 30.609375 32.421875 \r\nz\r\n\" id=\"DejaVuSans-57\"/>\r\n     </defs>\r\n     <use xlink:href=\"#DejaVuSans-54\"/>\r\n     <use x=\"63.623047\" xlink:href=\"#DejaVuSans-54\"/>\r\n     <use x=\"127.246094\" xlink:href=\"#DejaVuSans-50\"/>\r\n     <use x=\"190.869141\" xlink:href=\"#DejaVuSans-57\"/>\r\n    </g>\r\n   </g>\r\n   <g id=\"text_8\">\r\n    <!-- 650 -->\r\n    <g transform=\"translate(262.911875 132.995)scale(0.1 -0.1)\">\r\n     <defs>\r\n      <path d=\"M 10.796875 72.90625 \r\nL 49.515625 72.90625 \r\nL 49.515625 64.59375 \r\nL 19.828125 64.59375 \r\nL 19.828125 46.734375 \r\nQ 21.96875 47.46875 24.109375 47.828125 \r\nQ 26.265625 48.1875 28.421875 48.1875 \r\nQ 40.625 48.1875 47.75 41.5 \r\nQ 54.890625 34.8125 54.890625 23.390625 \r\nQ 54.890625 11.625 47.5625 5.09375 \r\nQ 40.234375 -1.421875 26.90625 -1.421875 \r\nQ 22.3125 -1.421875 17.546875 -0.640625 \r\nQ 12.796875 0.140625 7.71875 1.703125 \r\nL 7.71875 11.625 \r\nQ 12.109375 9.234375 16.796875 8.0625 \r\nQ 21.484375 6.890625 26.703125 6.890625 \r\nQ 35.15625 6.890625 40.078125 11.328125 \r\nQ 45.015625 15.765625 45.015625 23.390625 \r\nQ 45.015625 31 40.078125 35.4375 \r\nQ 35.15625 39.890625 26.703125 39.890625 \r\nQ 22.75 39.890625 18.8125 39.015625 \r\nQ 14.890625 38.140625 10.796875 36.28125 \r\nz\r\n\" id=\"DejaVuSans-53\"/>\r\n     </defs>\r\n     <use xlink:href=\"#DejaVuSans-54\"/>\r\n     <use x=\"63.623047\" xlink:href=\"#DejaVuSans-53\"/>\r\n     <use x=\"127.246094\" xlink:href=\"#DejaVuSans-48\"/>\r\n    </g>\r\n   </g>\r\n   <g id=\"text_9\">\r\n    <!-- 2994 -->\r\n    <g transform=\"translate(100.920625 291.805)scale(0.1 -0.1)\">\r\n     <defs>\r\n      <path d=\"M 37.796875 64.3125 \r\nL 12.890625 25.390625 \r\nL 37.796875 25.390625 \r\nz\r\nM 35.203125 72.90625 \r\nL 47.609375 72.90625 \r\nL 47.609375 25.390625 \r\nL 58.015625 25.390625 \r\nL 58.015625 17.1875 \r\nL 47.609375 17.1875 \r\nL 47.609375 0 \r\nL 37.796875 0 \r\nL 37.796875 17.1875 \r\nL 4.890625 17.1875 \r\nL 4.890625 26.703125 \r\nz\r\n\" id=\"DejaVuSans-52\"/>\r\n     </defs>\r\n     <use xlink:href=\"#DejaVuSans-50\"/>\r\n     <use x=\"63.623047\" xlink:href=\"#DejaVuSans-57\"/>\r\n     <use x=\"127.246094\" xlink:href=\"#DejaVuSans-57\"/>\r\n     <use x=\"190.869141\" xlink:href=\"#DejaVuSans-52\"/>\r\n    </g>\r\n   </g>\r\n   <g id=\"text_10\">\r\n    <!-- 2448 -->\r\n    <g transform=\"translate(259.730625 291.805)scale(0.1 -0.1)\">\r\n     <defs>\r\n      <path d=\"M 31.78125 34.625 \r\nQ 24.75 34.625 20.71875 30.859375 \r\nQ 16.703125 27.09375 16.703125 20.515625 \r\nQ 16.703125 13.921875 20.71875 10.15625 \r\nQ 24.75 6.390625 31.78125 6.390625 \r\nQ 38.8125 6.390625 42.859375 10.171875 \r\nQ 46.921875 13.96875 46.921875 20.515625 \r\nQ 46.921875 27.09375 42.890625 30.859375 \r\nQ 38.875 34.625 31.78125 34.625 \r\nz\r\nM 21.921875 38.8125 \r\nQ 15.578125 40.375 12.03125 44.71875 \r\nQ 8.5 49.078125 8.5 55.328125 \r\nQ 8.5 64.0625 14.71875 69.140625 \r\nQ 20.953125 74.21875 31.78125 74.21875 \r\nQ 42.671875 74.21875 48.875 69.140625 \r\nQ 55.078125 64.0625 55.078125 55.328125 \r\nQ 55.078125 49.078125 51.53125 44.71875 \r\nQ 48 40.375 41.703125 38.8125 \r\nQ 48.828125 37.15625 52.796875 32.3125 \r\nQ 56.78125 27.484375 56.78125 20.515625 \r\nQ 56.78125 9.90625 50.3125 4.234375 \r\nQ 43.84375 -1.421875 31.78125 -1.421875 \r\nQ 19.734375 -1.421875 13.25 4.234375 \r\nQ 6.78125 9.90625 6.78125 20.515625 \r\nQ 6.78125 27.484375 10.78125 32.3125 \r\nQ 14.796875 37.15625 21.921875 38.8125 \r\nz\r\nM 18.3125 54.390625 \r\nQ 18.3125 48.734375 21.84375 45.5625 \r\nQ 25.390625 42.390625 31.78125 42.390625 \r\nQ 38.140625 42.390625 41.71875 45.5625 \r\nQ 45.3125 48.734375 45.3125 54.390625 \r\nQ 45.3125 60.0625 41.71875 63.234375 \r\nQ 38.140625 66.40625 31.78125 66.40625 \r\nQ 25.390625 66.40625 21.84375 63.234375 \r\nQ 18.3125 60.0625 18.3125 54.390625 \r\nz\r\n\" id=\"DejaVuSans-56\"/>\r\n     </defs>\r\n     <use xlink:href=\"#DejaVuSans-50\"/>\r\n     <use x=\"63.623047\" xlink:href=\"#DejaVuSans-52\"/>\r\n     <use x=\"127.246094\" xlink:href=\"#DejaVuSans-52\"/>\r\n     <use x=\"190.869141\" xlink:href=\"#DejaVuSans-56\"/>\r\n    </g>\r\n   </g>\r\n   <g id=\"text_11\">\r\n    <!-- Confusion matrix -->\r\n    <g transform=\"translate(141.74125 47.59)scale(0.12 -0.12)\">\r\n     <defs>\r\n      <path d=\"M 64.40625 67.28125 \r\nL 64.40625 56.890625 \r\nQ 59.421875 61.53125 53.78125 63.8125 \r\nQ 48.140625 66.109375 41.796875 66.109375 \r\nQ 29.296875 66.109375 22.65625 58.46875 \r\nQ 16.015625 50.828125 16.015625 36.375 \r\nQ 16.015625 21.96875 22.65625 14.328125 \r\nQ 29.296875 6.6875 41.796875 6.6875 \r\nQ 48.140625 6.6875 53.78125 8.984375 \r\nQ 59.421875 11.28125 64.40625 15.921875 \r\nL 64.40625 5.609375 \r\nQ 59.234375 2.09375 53.4375 0.328125 \r\nQ 47.65625 -1.421875 41.21875 -1.421875 \r\nQ 24.65625 -1.421875 15.125 8.703125 \r\nQ 5.609375 18.84375 5.609375 36.375 \r\nQ 5.609375 53.953125 15.125 64.078125 \r\nQ 24.65625 74.21875 41.21875 74.21875 \r\nQ 47.75 74.21875 53.53125 72.484375 \r\nQ 59.328125 70.75 64.40625 67.28125 \r\nz\r\n\" id=\"DejaVuSans-67\"/>\r\n      <path d=\"M 30.609375 48.390625 \r\nQ 23.390625 48.390625 19.1875 42.75 \r\nQ 14.984375 37.109375 14.984375 27.296875 \r\nQ 14.984375 17.484375 19.15625 11.84375 \r\nQ 23.34375 6.203125 30.609375 6.203125 \r\nQ 37.796875 6.203125 41.984375 11.859375 \r\nQ 46.1875 17.53125 46.1875 27.296875 \r\nQ 46.1875 37.015625 41.984375 42.703125 \r\nQ 37.796875 48.390625 30.609375 48.390625 \r\nz\r\nM 30.609375 56 \r\nQ 42.328125 56 49.015625 48.375 \r\nQ 55.71875 40.765625 55.71875 27.296875 \r\nQ 55.71875 13.875 49.015625 6.21875 \r\nQ 42.328125 -1.421875 30.609375 -1.421875 \r\nQ 18.84375 -1.421875 12.171875 6.21875 \r\nQ 5.515625 13.875 5.515625 27.296875 \r\nQ 5.515625 40.765625 12.171875 48.375 \r\nQ 18.84375 56 30.609375 56 \r\nz\r\n\" id=\"DejaVuSans-111\"/>\r\n      <path d=\"M 54.890625 33.015625 \r\nL 54.890625 0 \r\nL 45.90625 0 \r\nL 45.90625 32.71875 \r\nQ 45.90625 40.484375 42.875 44.328125 \r\nQ 39.84375 48.1875 33.796875 48.1875 \r\nQ 26.515625 48.1875 22.3125 43.546875 \r\nQ 18.109375 38.921875 18.109375 30.90625 \r\nL 18.109375 0 \r\nL 9.078125 0 \r\nL 9.078125 54.6875 \r\nL 18.109375 54.6875 \r\nL 18.109375 46.1875 \r\nQ 21.34375 51.125 25.703125 53.5625 \r\nQ 30.078125 56 35.796875 56 \r\nQ 45.21875 56 50.046875 50.171875 \r\nQ 54.890625 44.34375 54.890625 33.015625 \r\nz\r\n\" id=\"DejaVuSans-110\"/>\r\n      <path d=\"M 37.109375 75.984375 \r\nL 37.109375 68.5 \r\nL 28.515625 68.5 \r\nQ 23.6875 68.5 21.796875 66.546875 \r\nQ 19.921875 64.59375 19.921875 59.515625 \r\nL 19.921875 54.6875 \r\nL 34.71875 54.6875 \r\nL 34.71875 47.703125 \r\nL 19.921875 47.703125 \r\nL 19.921875 0 \r\nL 10.890625 0 \r\nL 10.890625 47.703125 \r\nL 2.296875 47.703125 \r\nL 2.296875 54.6875 \r\nL 10.890625 54.6875 \r\nL 10.890625 58.5 \r\nQ 10.890625 67.625 15.140625 71.796875 \r\nQ 19.390625 75.984375 28.609375 75.984375 \r\nz\r\n\" id=\"DejaVuSans-102\"/>\r\n      <path d=\"M 44.28125 53.078125 \r\nL 44.28125 44.578125 \r\nQ 40.484375 46.53125 36.375 47.5 \r\nQ 32.28125 48.484375 27.875 48.484375 \r\nQ 21.1875 48.484375 17.84375 46.4375 \r\nQ 14.5 44.390625 14.5 40.28125 \r\nQ 14.5 37.15625 16.890625 35.375 \r\nQ 19.28125 33.59375 26.515625 31.984375 \r\nL 29.59375 31.296875 \r\nQ 39.15625 29.25 43.1875 25.515625 \r\nQ 47.21875 21.78125 47.21875 15.09375 \r\nQ 47.21875 7.46875 41.1875 3.015625 \r\nQ 35.15625 -1.421875 24.609375 -1.421875 \r\nQ 20.21875 -1.421875 15.453125 -0.5625 \r\nQ 10.6875 0.296875 5.421875 2 \r\nL 5.421875 11.28125 \r\nQ 10.40625 8.6875 15.234375 7.390625 \r\nQ 20.0625 6.109375 24.8125 6.109375 \r\nQ 31.15625 6.109375 34.5625 8.28125 \r\nQ 37.984375 10.453125 37.984375 14.40625 \r\nQ 37.984375 18.0625 35.515625 20.015625 \r\nQ 33.0625 21.96875 24.703125 23.78125 \r\nL 21.578125 24.515625 \r\nQ 13.234375 26.265625 9.515625 29.90625 \r\nQ 5.8125 33.546875 5.8125 39.890625 \r\nQ 5.8125 47.609375 11.28125 51.796875 \r\nQ 16.75 56 26.8125 56 \r\nQ 31.78125 56 36.171875 55.265625 \r\nQ 40.578125 54.546875 44.28125 53.078125 \r\nz\r\n\" id=\"DejaVuSans-115\"/>\r\n      <path d=\"M 52 44.1875 \r\nQ 55.375 50.25 60.0625 53.125 \r\nQ 64.75 56 71.09375 56 \r\nQ 79.640625 56 84.28125 50.015625 \r\nQ 88.921875 44.046875 88.921875 33.015625 \r\nL 88.921875 0 \r\nL 79.890625 0 \r\nL 79.890625 32.71875 \r\nQ 79.890625 40.578125 77.09375 44.375 \r\nQ 74.3125 48.1875 68.609375 48.1875 \r\nQ 61.625 48.1875 57.5625 43.546875 \r\nQ 53.515625 38.921875 53.515625 30.90625 \r\nL 53.515625 0 \r\nL 44.484375 0 \r\nL 44.484375 32.71875 \r\nQ 44.484375 40.625 41.703125 44.40625 \r\nQ 38.921875 48.1875 33.109375 48.1875 \r\nQ 26.21875 48.1875 22.15625 43.53125 \r\nQ 18.109375 38.875 18.109375 30.90625 \r\nL 18.109375 0 \r\nL 9.078125 0 \r\nL 9.078125 54.6875 \r\nL 18.109375 54.6875 \r\nL 18.109375 46.1875 \r\nQ 21.1875 51.21875 25.484375 53.609375 \r\nQ 29.78125 56 35.6875 56 \r\nQ 41.65625 56 45.828125 52.96875 \r\nQ 50 49.953125 52 44.1875 \r\nz\r\n\" id=\"DejaVuSans-109\"/>\r\n      <path d=\"M 54.890625 54.6875 \r\nL 35.109375 28.078125 \r\nL 55.90625 0 \r\nL 45.3125 0 \r\nL 29.390625 21.484375 \r\nL 13.484375 0 \r\nL 2.875 0 \r\nL 24.125 28.609375 \r\nL 4.6875 54.6875 \r\nL 15.28125 54.6875 \r\nL 29.78125 35.203125 \r\nL 44.28125 54.6875 \r\nz\r\n\" id=\"DejaVuSans-120\"/>\r\n     </defs>\r\n     <use xlink:href=\"#DejaVuSans-67\"/>\r\n     <use x=\"69.824219\" xlink:href=\"#DejaVuSans-111\"/>\r\n     <use x=\"131.005859\" xlink:href=\"#DejaVuSans-110\"/>\r\n     <use x=\"194.384766\" xlink:href=\"#DejaVuSans-102\"/>\r\n     <use x=\"229.589844\" xlink:href=\"#DejaVuSans-117\"/>\r\n     <use x=\"292.96875\" xlink:href=\"#DejaVuSans-115\"/>\r\n     <use x=\"345.068359\" xlink:href=\"#DejaVuSans-105\"/>\r\n     <use x=\"372.851562\" xlink:href=\"#DejaVuSans-111\"/>\r\n     <use x=\"434.033203\" xlink:href=\"#DejaVuSans-110\"/>\r\n     <use x=\"497.412109\" xlink:href=\"#DejaVuSans-32\"/>\r\n     <use x=\"529.199219\" xlink:href=\"#DejaVuSans-109\"/>\r\n     <use x=\"626.611328\" xlink:href=\"#DejaVuSans-97\"/>\r\n     <use x=\"687.890625\" xlink:href=\"#DejaVuSans-116\"/>\r\n     <use x=\"727.099609\" xlink:href=\"#DejaVuSans-114\"/>\r\n     <use x=\"768.212891\" xlink:href=\"#DejaVuSans-105\"/>\r\n     <use x=\"795.996094\" xlink:href=\"#DejaVuSans-120\"/>\r\n    </g>\r\n   </g>\r\n  </g>\r\n  <g id=\"axes_2\">\r\n   <g id=\"patch_7\">\r\n    <path clip-path=\"url(#pc658861559)\" d=\"M 371.711875 417.6 \r\nL 371.711875 415.996875 \r\nL 371.711875 8.803125 \r\nL 371.711875 7.2 \r\nL 392.231875 7.2 \r\nL 392.231875 8.803125 \r\nL 392.231875 415.996875 \r\nL 392.231875 417.6 \r\nz\r\n\" style=\"fill:#ffffff;stroke:#ffffff;stroke-linejoin:miter;stroke-width:0.01;\"/>\r\n   </g>\r\n   <image height=\"411\" id=\"image6b7b1cb938\" transform=\"scale(1 -1)translate(0 -411)\" width=\"20\" x=\"372\" xlink:href=\"data:image/png;base64,\r\niVBORw0KGgoAAAANSUhEUgAAABQAAAGbCAYAAADEGLC0AAAB60lEQVR4nO2c0W3EMAxD3SL7r9uPArkbgs8ACZIDCH4VRcUJej9//5/PAfWw5c75Zcud83wOe0T+hPABzwPXu9EUHrmtyzcmhS4YgMwe0R/Zv2BjOFxAZtWZh23hwK+Avi4vHHTxyKeuywHhkIAMr4CEPGTlPykBK2CvCGQtHHRtBehaOOjaCtC1cNC1FaBr4aBrK0DXwkHXVoCuhYOu54V9s0nRxefhW4fsv0YDkGnbBCAHhAPdlLeuKfOhLtw2AcgXHkXcffjCBW9MCu1DtFwEcl+X/RM7wIf05TEA2d+H9CwH7GXeh3XICZdH/6b0PRL7v1mqDAe4YMDWK2yK/UuMxhVQNymFTUlAhguuKbq2l3X5nzChKXBB/9csEeFQh+w/KfzHVn9kvKA9sv+SKsxD/iNXHXJAOATkYd/zoX847GFJLxiQh/ZvOAvDofC+7B8Oy0OiIFovANl/UiKQ50NR86GuIevyn5Qh6/JH9p+UCOT5UFSAD1/4OhqA3Ndl/0kpRPY/YcLPgPA+bOuy/wnnQ13+yAk/R2OPPB/Kmg91NfpwS0rWkHXNh7qGrGs+1HWjKfjVjP1nCH/kGydk/4adyPOhqPkQKdiG7D8pQ9Z1Adn+y+OWFFGwDTnCh0MW5Y/sPylD1oUj4wW/2vYb8l1lYEkAAAAASUVORK5CYII=\" y=\"-6\"/>\r\n   <g id=\"matplotlib.axis_3\"/>\r\n   <g id=\"matplotlib.axis_4\">\r\n    <g id=\"ytick_3\">\r\n     <g id=\"line2d_5\">\r\n      <defs>\r\n       <path d=\"M 0 0 \r\nL 3.5 0 \r\n\" id=\"m801795b1af\" style=\"stroke:#000000;stroke-width:0.8;\"/>\r\n      </defs>\r\n      <g>\r\n       <use style=\"stroke:#000000;stroke-width:0.8;\" x=\"392.231875\" xlink:href=\"#m801795b1af\" y=\"393.575916\"/>\r\n      </g>\r\n     </g>\r\n     <g id=\"text_12\">\r\n      <!-- 1000 -->\r\n      <g transform=\"translate(399.231875 397.375134)scale(0.1 -0.1)\">\r\n       <use xlink:href=\"#DejaVuSans-49\"/>\r\n       <use x=\"63.623047\" xlink:href=\"#DejaVuSans-48\"/>\r\n       <use x=\"127.246094\" xlink:href=\"#DejaVuSans-48\"/>\r\n       <use x=\"190.869141\" xlink:href=\"#DejaVuSans-48\"/>\r\n      </g>\r\n     </g>\r\n    </g>\r\n    <g id=\"ytick_4\">\r\n     <g id=\"line2d_6\">\r\n      <g>\r\n       <use style=\"stroke:#000000;stroke-width:0.8;\" x=\"392.231875\" xlink:href=\"#m801795b1af\" y=\"324.935675\"/>\r\n      </g>\r\n     </g>\r\n     <g id=\"text_13\">\r\n      <!-- 2000 -->\r\n      <g transform=\"translate(399.231875 328.734894)scale(0.1 -0.1)\">\r\n       <use xlink:href=\"#DejaVuSans-50\"/>\r\n       <use x=\"63.623047\" xlink:href=\"#DejaVuSans-48\"/>\r\n       <use x=\"127.246094\" xlink:href=\"#DejaVuSans-48\"/>\r\n       <use x=\"190.869141\" xlink:href=\"#DejaVuSans-48\"/>\r\n      </g>\r\n     </g>\r\n    </g>\r\n    <g id=\"ytick_5\">\r\n     <g id=\"line2d_7\">\r\n      <g>\r\n       <use style=\"stroke:#000000;stroke-width:0.8;\" x=\"392.231875\" xlink:href=\"#m801795b1af\" y=\"256.295434\"/>\r\n      </g>\r\n     </g>\r\n     <g id=\"text_14\">\r\n      <!-- 3000 -->\r\n      <g transform=\"translate(399.231875 260.094653)scale(0.1 -0.1)\">\r\n       <defs>\r\n        <path d=\"M 40.578125 39.3125 \r\nQ 47.65625 37.796875 51.625 33 \r\nQ 55.609375 28.21875 55.609375 21.1875 \r\nQ 55.609375 10.40625 48.1875 4.484375 \r\nQ 40.765625 -1.421875 27.09375 -1.421875 \r\nQ 22.515625 -1.421875 17.65625 -0.515625 \r\nQ 12.796875 0.390625 7.625 2.203125 \r\nL 7.625 11.71875 \r\nQ 11.71875 9.328125 16.59375 8.109375 \r\nQ 21.484375 6.890625 26.8125 6.890625 \r\nQ 36.078125 6.890625 40.9375 10.546875 \r\nQ 45.796875 14.203125 45.796875 21.1875 \r\nQ 45.796875 27.640625 41.28125 31.265625 \r\nQ 36.765625 34.90625 28.71875 34.90625 \r\nL 20.21875 34.90625 \r\nL 20.21875 43.015625 \r\nL 29.109375 43.015625 \r\nQ 36.375 43.015625 40.234375 45.921875 \r\nQ 44.09375 48.828125 44.09375 54.296875 \r\nQ 44.09375 59.90625 40.109375 62.90625 \r\nQ 36.140625 65.921875 28.71875 65.921875 \r\nQ 24.65625 65.921875 20.015625 65.03125 \r\nQ 15.375 64.15625 9.8125 62.3125 \r\nL 9.8125 71.09375 \r\nQ 15.4375 72.65625 20.34375 73.4375 \r\nQ 25.25 74.21875 29.59375 74.21875 \r\nQ 40.828125 74.21875 47.359375 69.109375 \r\nQ 53.90625 64.015625 53.90625 55.328125 \r\nQ 53.90625 49.265625 50.4375 45.09375 \r\nQ 46.96875 40.921875 40.578125 39.3125 \r\nz\r\n\" id=\"DejaVuSans-51\"/>\r\n       </defs>\r\n       <use xlink:href=\"#DejaVuSans-51\"/>\r\n       <use x=\"63.623047\" xlink:href=\"#DejaVuSans-48\"/>\r\n       <use x=\"127.246094\" xlink:href=\"#DejaVuSans-48\"/>\r\n       <use x=\"190.869141\" xlink:href=\"#DejaVuSans-48\"/>\r\n      </g>\r\n     </g>\r\n    </g>\r\n    <g id=\"ytick_6\">\r\n     <g id=\"line2d_8\">\r\n      <g>\r\n       <use style=\"stroke:#000000;stroke-width:0.8;\" x=\"392.231875\" xlink:href=\"#m801795b1af\" y=\"187.655193\"/>\r\n      </g>\r\n     </g>\r\n     <g id=\"text_15\">\r\n      <!-- 4000 -->\r\n      <g transform=\"translate(399.231875 191.454412)scale(0.1 -0.1)\">\r\n       <use xlink:href=\"#DejaVuSans-52\"/>\r\n       <use x=\"63.623047\" xlink:href=\"#DejaVuSans-48\"/>\r\n       <use x=\"127.246094\" xlink:href=\"#DejaVuSans-48\"/>\r\n       <use x=\"190.869141\" xlink:href=\"#DejaVuSans-48\"/>\r\n      </g>\r\n     </g>\r\n    </g>\r\n    <g id=\"ytick_7\">\r\n     <g id=\"line2d_9\">\r\n      <g>\r\n       <use style=\"stroke:#000000;stroke-width:0.8;\" x=\"392.231875\" xlink:href=\"#m801795b1af\" y=\"119.014952\"/>\r\n      </g>\r\n     </g>\r\n     <g id=\"text_16\">\r\n      <!-- 5000 -->\r\n      <g transform=\"translate(399.231875 122.814171)scale(0.1 -0.1)\">\r\n       <use xlink:href=\"#DejaVuSans-53\"/>\r\n       <use x=\"63.623047\" xlink:href=\"#DejaVuSans-48\"/>\r\n       <use x=\"127.246094\" xlink:href=\"#DejaVuSans-48\"/>\r\n       <use x=\"190.869141\" xlink:href=\"#DejaVuSans-48\"/>\r\n      </g>\r\n     </g>\r\n    </g>\r\n    <g id=\"ytick_8\">\r\n     <g id=\"line2d_10\">\r\n      <g>\r\n       <use style=\"stroke:#000000;stroke-width:0.8;\" x=\"392.231875\" xlink:href=\"#m801795b1af\" y=\"50.374711\"/>\r\n      </g>\r\n     </g>\r\n     <g id=\"text_17\">\r\n      <!-- 6000 -->\r\n      <g transform=\"translate(399.231875 54.17393)scale(0.1 -0.1)\">\r\n       <use xlink:href=\"#DejaVuSans-54\"/>\r\n       <use x=\"63.623047\" xlink:href=\"#DejaVuSans-48\"/>\r\n       <use x=\"127.246094\" xlink:href=\"#DejaVuSans-48\"/>\r\n       <use x=\"190.869141\" xlink:href=\"#DejaVuSans-48\"/>\r\n      </g>\r\n     </g>\r\n    </g>\r\n   </g>\r\n   <g id=\"patch_8\">\r\n    <path d=\"M 371.711875 417.6 \r\nL 371.711875 415.996875 \r\nL 371.711875 8.803125 \r\nL 371.711875 7.2 \r\nL 392.231875 7.2 \r\nL 392.231875 8.803125 \r\nL 392.231875 415.996875 \r\nL 392.231875 417.6 \r\nz\r\n\" style=\"fill:none;stroke:#000000;stroke-linejoin:miter;stroke-width:0.8;\"/>\r\n   </g>\r\n  </g>\r\n </g>\r\n <defs>\r\n  <clipPath id=\"pe47c907201\">\r\n   <rect height=\"317.62\" width=\"317.62\" x=\"34.240625\" y=\"53.59\"/>\r\n  </clipPath>\r\n  <clipPath id=\"pc658861559\">\r\n   <rect height=\"410.4\" width=\"20.52\" x=\"371.711875\" y=\"7.2\"/>\r\n  </clipPath>\r\n </defs>\r\n</svg>\r\n",
      "image/png": "[encoded data removed]"
     },
     "metadata": {
      "needs_background": "light"
     }
    }
   ],
   "source": [
    "# y_hat_test = lr.predict(X_val_encoded)\n",
    "cnf_matrix = confusion_matrix(val_check, y_val)\n",
    "plot_confusion_matrix(cnf_matrix, classes=[0,1])"
   ]
  },
  {
   "cell_type": "code",
   "execution_count": 125,
   "metadata": {},
   "outputs": [],
   "source": [
    "tsprediction1=model3.predict_proba(df_test)  # predicted outcome on test data\n",
    "tsprediction12 = tsprediction1[:,1]"
   ]
  },
  {
   "cell_type": "code",
   "execution_count": 126,
   "metadata": {},
   "outputs": [],
   "source": [
    "tsprediction12 = np.array(tsprediction12)"
   ]
  },
  {
   "source": [
    "### predicted outcome on test data"
   ],
   "cell_type": "markdown",
   "metadata": {}
  },
  {
   "cell_type": "code",
   "execution_count": 145,
   "metadata": {},
   "outputs": [
    {
     "output_type": "execute_result",
     "data": {
      "text/plain": [
       "array([0.0499322 , 0.10325491, 0.36351855, ..., 0.03107598, 0.54217572,\n",
       "       0.10776228])"
      ]
     },
     "metadata": {},
     "execution_count": 145
    }
   ],
   "source": [
    "tsprediction12"
   ]
  },
  {
   "cell_type": "code",
   "execution_count": 127,
   "metadata": {},
   "outputs": [
    {
     "output_type": "execute_result",
     "data": {
      "text/plain": [
       "(21805, 2)"
      ]
     },
     "metadata": {},
     "execution_count": 127
    }
   ],
   "source": [
    "df_submit.shape"
   ]
  },
  {
   "cell_type": "code",
   "execution_count": 128,
   "metadata": {},
   "outputs": [],
   "source": [
    "dict={'ID':df_submit[\"ID\"],'Response':tsprediction12}\n",
    "df_submit=pd.DataFrame(dict)\n",
    "df_submit.to_csv('catboost_f1.csv',index=False)"
   ]
  },
  {
   "source": [
    "## Feature selection"
   ],
   "cell_type": "markdown",
   "metadata": {}
  },
  {
   "cell_type": "code",
   "execution_count": null,
   "metadata": {},
   "outputs": [],
   "source": []
  },
  {
   "cell_type": "code",
   "execution_count": null,
   "metadata": {},
   "outputs": [],
   "source": []
  },
  {
   "cell_type": "code",
   "execution_count": null,
   "metadata": {},
   "outputs": [],
   "source": []
  },
  {
   "source": [
    "### More machine learning models"
   ],
   "cell_type": "markdown",
   "metadata": {}
  },
  {
   "source": [
    "## encoding"
   ],
   "cell_type": "markdown",
   "metadata": {}
  },
  {
   "cell_type": "code",
   "execution_count": 105,
   "metadata": {},
   "outputs": [
    {
     "output_type": "execute_result",
     "data": {
      "text/plain": [
       "Index(['City_Code', 'Region_Code', 'Accomodation_Type', 'Reco_Insurance_Type',\n",
       "       'Is_Spouse', 'Health Indicator', 'Holding_Policy_Duration',\n",
       "       'Holding_Policy_Type', 'Reco_Policy_Cat', 'Reco_Policy_Premium',\n",
       "       'new_user', 'Age_Bracket', 'AgeBin', 'single_user', 'Top_tier_cities'],\n",
       "      dtype='object')"
      ]
     },
     "metadata": {},
     "execution_count": 105
    }
   ],
   "source": [
    "X_train.columns"
   ]
  },
  {
   "cell_type": "code",
   "execution_count": 106,
   "metadata": {},
   "outputs": [
    {
     "output_type": "stream",
     "name": "stdout",
     "text": [
      "<class 'pandas.core.frame.DataFrame'>\nInt64Index: 38161 entries, 3032 to 49689\nData columns (total 15 columns):\n #   Column                   Non-Null Count  Dtype   \n---  ------                   --------------  -----   \n 0   City_Code                38161 non-null  category\n 1   Region_Code              38161 non-null  category\n 2   Accomodation_Type        38161 non-null  category\n 3   Reco_Insurance_Type      38161 non-null  category\n 4   Is_Spouse                38161 non-null  category\n 5   Health Indicator         38161 non-null  category\n 6   Holding_Policy_Duration  38161 non-null  category\n 7   Holding_Policy_Type      38161 non-null  category\n 8   Reco_Policy_Cat          38161 non-null  category\n 9   Reco_Policy_Premium      38161 non-null  int32   \n 10  new_user                 38161 non-null  category\n 11  Age_Bracket              38161 non-null  int32   \n 12  AgeBin                   38161 non-null  category\n 13  single_user              38161 non-null  category\n 14  Top_tier_cities          38161 non-null  category\ndtypes: category(13), int32(2)\nmemory usage: 1.3 MB\n"
     ]
    }
   ],
   "source": [
    "X_train.info()"
   ]
  },
  {
   "cell_type": "code",
   "execution_count": 107,
   "metadata": {},
   "outputs": [],
   "source": [
    "train_X = X_train.copy()\n",
    "train_y = y_train.copy()\n",
    "val_X = X_val.copy()\n",
    "val_y = y_val.copy()\n",
    "\n",
    "test_df =df_test.copy()"
   ]
  },
  {
   "cell_type": "code",
   "execution_count": 108,
   "metadata": {},
   "outputs": [],
   "source": [
    "#label encode \n",
    "from sklearn import preprocessing \n",
    "  # label_encoder object knows how to understand word labels. \n",
    "label_encoder = preprocessing.LabelEncoder() \n",
    "\n",
    "train_X['City_Code'] = label_encoder.fit_transform(train_X['City_Code'])\n",
    "val_X['City_Code'] = label_encoder.transform(val_X['City_Code'])\n",
    "test_df['City_Code'] = label_encoder.transform(test_df['City_Code'])\n",
    "\n",
    "train_X['AgeBin'] = label_encoder.fit_transform(train_X['AgeBin'])\n",
    "val_X['AgeBin'] = label_encoder.transform(val_X['AgeBin'])\n",
    "test_df['AgeBin'] = label_encoder.transform(test_df['AgeBin'])\n",
    "\n",
    "train_X['Reco_Insurance_Type'] = label_encoder.fit_transform(train_X['Reco_Insurance_Type'])\n",
    "val_X['Reco_Insurance_Type'] = label_encoder.transform(val_X['Reco_Insurance_Type'])\n",
    "test_df['Reco_Insurance_Type'] = label_encoder.transform(test_df['Reco_Insurance_Type'])"
   ]
  },
  {
   "cell_type": "code",
   "execution_count": 92,
   "metadata": {},
   "outputs": [],
   "source": []
  },
  {
   "cell_type": "code",
   "execution_count": 111,
   "metadata": {},
   "outputs": [
    {
     "output_type": "stream",
     "name": "stdout",
     "text": [
      "<class 'pandas.core.frame.DataFrame'>\nInt64Index: 38161 entries, 3032 to 49689\nData columns (total 15 columns):\n #   Column                   Non-Null Count  Dtype   \n---  ------                   --------------  -----   \n 0   City_Code                38161 non-null  int32   \n 1   Region_Code              38161 non-null  int64   \n 2   Accomodation_Type        38161 non-null  category\n 3   Reco_Insurance_Type      38161 non-null  int32   \n 4   Is_Spouse                38161 non-null  category\n 5   Health Indicator         38161 non-null  category\n 6   Holding_Policy_Duration  38161 non-null  category\n 7   Holding_Policy_Type      38161 non-null  category\n 8   Reco_Policy_Cat          38161 non-null  category\n 9   Reco_Policy_Premium      38161 non-null  int32   \n 10  new_user                 38161 non-null  category\n 11  Age_Bracket              38161 non-null  int32   \n 12  AgeBin                   38161 non-null  int64   \n 13  single_user              38161 non-null  category\n 14  Top_tier_cities          38161 non-null  category\ndtypes: category(9), int32(4), int64(2)\nmemory usage: 1.8 MB\n"
     ]
    }
   ],
   "source": [
    "train_X.info()"
   ]
  },
  {
   "cell_type": "code",
   "execution_count": 112,
   "metadata": {},
   "outputs": [],
   "source": [
    "train_X[''] = train_X['Region_Code'].astype('int')\n",
    "val_X['Region_Code'] = val_X['Region_Code'].astype('int')\n",
    "test_df['Region_Code'] = test_df['Region_Code'].astype('int')"
   ]
  },
  {
   "cell_type": "code",
   "execution_count": 113,
   "metadata": {},
   "outputs": [],
   "source": [
    "# one-hot encode\n",
    "\n",
    "cat = ['Accomodation_Type', 'Is_Spouse', 'Health Indicator', 'Holding_Policy_Duration',\n",
    "       'Holding_Policy_Type', 'Reco_Policy_Cat', 'Top_tier_cities', 'AgeBin','single_user', 'new_user']\n",
    "X_train_encoded = pd.get_dummies(data=train_X, columns= cat, prefix_sep = '_', drop_first=True)\n",
    "\n",
    "X_val_encoded = pd.get_dummies(data=val_X, columns= cat, prefix_sep = '_', drop_first=True)\n",
    "df_test_encoded = pd.get_dummies(data=test_df, columns= cat, prefix_sep = '_', drop_first=True)"
   ]
  },
  {
   "cell_type": "code",
   "execution_count": 114,
   "metadata": {},
   "outputs": [
    {
     "output_type": "execute_result",
     "data": {
      "text/plain": [
       "       City_Code  Region_Code  Reco_Insurance_Type  Reco_Policy_Premium  \\\n",
       "3032          18         1770                    1                14756   \n",
       "39927         30          923                    0                 9324   \n",
       "31898          0            6                    0                12546   \n",
       "7278          15         4969                    0                15158   \n",
       "41174         20          616                    0                13700   \n",
       "15003         33          562                    0                17394   \n",
       "17197         11         1565                    0                12870   \n",
       "12252         30          802                    1                24486   \n",
       "40891          1         1415                    0                14856   \n",
       "7772          11          740                    0                16008   \n",
       "\n",
       "       Age_Bracket        Accomodation_Type_Rented  Is_Spouse_Yes  \\\n",
       "3032             9  1770                         1              1   \n",
       "39927            0   923                         1              0   \n",
       "31898            0     6                         0              0   \n",
       "7278             0  4969                         0              0   \n",
       "41174            0   616                         0              0   \n",
       "15003            0   562                         0              0   \n",
       "17197            0  1565                         1              0   \n",
       "12252            4   802                         0              1   \n",
       "40891            0  1415                         1              0   \n",
       "7772             0   740                         1              0   \n",
       "\n",
       "       Health Indicator_X0  Health Indicator_X1  ...  Reco_Policy_Cat_20  \\\n",
       "3032                     0                    1  ...                   0   \n",
       "39927                    0                    0  ...                   0   \n",
       "31898                    0                    0  ...                   0   \n",
       "7278                     0                    0  ...                   0   \n",
       "41174                    0                    0  ...                   0   \n",
       "15003                    0                    1  ...                   0   \n",
       "17197                    0                    0  ...                   1   \n",
       "12252                    0                    0  ...                   0   \n",
       "40891                    0                    0  ...                   0   \n",
       "7772                     0                    1  ...                   0   \n",
       "\n",
       "       Reco_Policy_Cat_21  Reco_Policy_Cat_22  Top_tier_cities_1  AgeBin_1  \\\n",
       "3032                    0                   0                  0         0   \n",
       "39927                   0                   0                  1         0   \n",
       "31898                   0                   0                  1         0   \n",
       "7278                    0                   0                  0         0   \n",
       "41174                   0                   0                  0         0   \n",
       "15003                   0                   0                  1         0   \n",
       "17197                   0                   0                  1         1   \n",
       "12252                   0                   0                  1         0   \n",
       "40891                   0                   0                  1         0   \n",
       "7772                    0                   0                  1         0   \n",
       "\n",
       "       AgeBin_2  AgeBin_3  AgeBin_4  single_user_1  new_user_1  \n",
       "3032          1         0         0              0           0  \n",
       "39927         0         0         0              1           0  \n",
       "31898         0         1         0              1           0  \n",
       "7278          0         0         1              1           0  \n",
       "41174         0         1         0              1           0  \n",
       "15003         0         0         1              1           0  \n",
       "17197         0         0         0              1           0  \n",
       "12252         0         0         1              0           0  \n",
       "40891         1         0         0              1           0  \n",
       "7772          1         0         0              1           0  \n",
       "\n",
       "[10 rows x 66 columns]"
      ],
      "text/html": "<div>\n<style scoped>\n    .dataframe tbody tr th:only-of-type {\n        vertical-align: middle;\n    }\n\n    .dataframe tbody tr th {\n        vertical-align: top;\n    }\n\n    .dataframe thead th {\n        text-align: right;\n    }\n</style>\n<table border=\"1\" class=\"dataframe\">\n  <thead>\n    <tr style=\"text-align: right;\">\n      <th></th>\n      <th>City_Code</th>\n      <th>Region_Code</th>\n      <th>Reco_Insurance_Type</th>\n      <th>Reco_Policy_Premium</th>\n      <th>Age_Bracket</th>\n      <th></th>\n      <th>Accomodation_Type_Rented</th>\n      <th>Is_Spouse_Yes</th>\n      <th>Health Indicator_X0</th>\n      <th>Health Indicator_X1</th>\n      <th>...</th>\n      <th>Reco_Policy_Cat_20</th>\n      <th>Reco_Policy_Cat_21</th>\n      <th>Reco_Policy_Cat_22</th>\n      <th>Top_tier_cities_1</th>\n      <th>AgeBin_1</th>\n      <th>AgeBin_2</th>\n      <th>AgeBin_3</th>\n      <th>AgeBin_4</th>\n      <th>single_user_1</th>\n      <th>new_user_1</th>\n    </tr>\n  </thead>\n  <tbody>\n    <tr>\n      <th>3032</th>\n      <td>18</td>\n      <td>1770</td>\n      <td>1</td>\n      <td>14756</td>\n      <td>9</td>\n      <td>1770</td>\n      <td>1</td>\n      <td>1</td>\n      <td>0</td>\n      <td>1</td>\n      <td>...</td>\n      <td>0</td>\n      <td>0</td>\n      <td>0</td>\n      <td>0</td>\n      <td>0</td>\n      <td>1</td>\n      <td>0</td>\n      <td>0</td>\n      <td>0</td>\n      <td>0</td>\n    </tr>\n    <tr>\n      <th>39927</th>\n      <td>30</td>\n      <td>923</td>\n      <td>0</td>\n      <td>9324</td>\n      <td>0</td>\n      <td>923</td>\n      <td>1</td>\n      <td>0</td>\n      <td>0</td>\n      <td>0</td>\n      <td>...</td>\n      <td>0</td>\n      <td>0</td>\n      <td>0</td>\n      <td>1</td>\n      <td>0</td>\n      <td>0</td>\n      <td>0</td>\n      <td>0</td>\n      <td>1</td>\n      <td>0</td>\n    </tr>\n    <tr>\n      <th>31898</th>\n      <td>0</td>\n      <td>6</td>\n      <td>0</td>\n      <td>12546</td>\n      <td>0</td>\n      <td>6</td>\n      <td>0</td>\n      <td>0</td>\n      <td>0</td>\n      <td>0</td>\n      <td>...</td>\n      <td>0</td>\n      <td>0</td>\n      <td>0</td>\n      <td>1</td>\n      <td>0</td>\n      <td>0</td>\n      <td>1</td>\n      <td>0</td>\n      <td>1</td>\n      <td>0</td>\n    </tr>\n    <tr>\n      <th>7278</th>\n      <td>15</td>\n      <td>4969</td>\n      <td>0</td>\n      <td>15158</td>\n      <td>0</td>\n      <td>4969</td>\n      <td>0</td>\n      <td>0</td>\n      <td>0</td>\n      <td>0</td>\n      <td>...</td>\n      <td>0</td>\n      <td>0</td>\n      <td>0</td>\n      <td>0</td>\n      <td>0</td>\n      <td>0</td>\n      <td>0</td>\n      <td>1</td>\n      <td>1</td>\n      <td>0</td>\n    </tr>\n    <tr>\n      <th>41174</th>\n      <td>20</td>\n      <td>616</td>\n      <td>0</td>\n      <td>13700</td>\n      <td>0</td>\n      <td>616</td>\n      <td>0</td>\n      <td>0</td>\n      <td>0</td>\n      <td>0</td>\n      <td>...</td>\n      <td>0</td>\n      <td>0</td>\n      <td>0</td>\n      <td>0</td>\n      <td>0</td>\n      <td>0</td>\n      <td>1</td>\n      <td>0</td>\n      <td>1</td>\n      <td>0</td>\n    </tr>\n    <tr>\n      <th>15003</th>\n      <td>33</td>\n      <td>562</td>\n      <td>0</td>\n      <td>17394</td>\n      <td>0</td>\n      <td>562</td>\n      <td>0</td>\n      <td>0</td>\n      <td>0</td>\n      <td>1</td>\n      <td>...</td>\n      <td>0</td>\n      <td>0</td>\n      <td>0</td>\n      <td>1</td>\n      <td>0</td>\n      <td>0</td>\n      <td>0</td>\n      <td>1</td>\n      <td>1</td>\n      <td>0</td>\n    </tr>\n    <tr>\n      <th>17197</th>\n      <td>11</td>\n      <td>1565</td>\n      <td>0</td>\n      <td>12870</td>\n      <td>0</td>\n      <td>1565</td>\n      <td>1</td>\n      <td>0</td>\n      <td>0</td>\n      <td>0</td>\n      <td>...</td>\n      <td>1</td>\n      <td>0</td>\n      <td>0</td>\n      <td>1</td>\n      <td>1</td>\n      <td>0</td>\n      <td>0</td>\n      <td>0</td>\n      <td>1</td>\n      <td>0</td>\n    </tr>\n    <tr>\n      <th>12252</th>\n      <td>30</td>\n      <td>802</td>\n      <td>1</td>\n      <td>24486</td>\n      <td>4</td>\n      <td>802</td>\n      <td>0</td>\n      <td>1</td>\n      <td>0</td>\n      <td>0</td>\n      <td>...</td>\n      <td>0</td>\n      <td>0</td>\n      <td>0</td>\n      <td>1</td>\n      <td>0</td>\n      <td>0</td>\n      <td>0</td>\n      <td>1</td>\n      <td>0</td>\n      <td>0</td>\n    </tr>\n    <tr>\n      <th>40891</th>\n      <td>1</td>\n      <td>1415</td>\n      <td>0</td>\n      <td>14856</td>\n      <td>0</td>\n      <td>1415</td>\n      <td>1</td>\n      <td>0</td>\n      <td>0</td>\n      <td>0</td>\n      <td>...</td>\n      <td>0</td>\n      <td>0</td>\n      <td>0</td>\n      <td>1</td>\n      <td>0</td>\n      <td>1</td>\n      <td>0</td>\n      <td>0</td>\n      <td>1</td>\n      <td>0</td>\n    </tr>\n    <tr>\n      <th>7772</th>\n      <td>11</td>\n      <td>740</td>\n      <td>0</td>\n      <td>16008</td>\n      <td>0</td>\n      <td>740</td>\n      <td>1</td>\n      <td>0</td>\n      <td>0</td>\n      <td>1</td>\n      <td>...</td>\n      <td>0</td>\n      <td>0</td>\n      <td>0</td>\n      <td>1</td>\n      <td>0</td>\n      <td>1</td>\n      <td>0</td>\n      <td>0</td>\n      <td>1</td>\n      <td>0</td>\n    </tr>\n  </tbody>\n</table>\n<p>10 rows × 66 columns</p>\n</div>"
     },
     "metadata": {},
     "execution_count": 114
    }
   ],
   "source": [
    "X_train_encoded.head(10)"
   ]
  },
  {
   "cell_type": "code",
   "execution_count": 115,
   "metadata": {},
   "outputs": [
    {
     "output_type": "execute_result",
     "data": {
      "text/plain": [
       "((12721, 65), (38161, 66))"
      ]
     },
     "metadata": {},
     "execution_count": 115
    }
   ],
   "source": [
    "X_val_encoded.shape, X_train_encoded.shape"
   ]
  },
  {
   "source": [
    "## RF"
   ],
   "cell_type": "markdown",
   "metadata": {}
  },
  {
   "cell_type": "code",
   "execution_count": 116,
   "metadata": {},
   "outputs": [],
   "source": [
    "from sklearn.ensemble import RandomForestClassifier as RF"
   ]
  },
  {
   "cell_type": "code",
   "execution_count": 129,
   "metadata": {},
   "outputs": [],
   "source": [
    "clf=RF(max_depth=3,n_estimators=1000)\n",
    "clf.fit(X_train_encoded,train_y)\n",
    "# rf_res=clf.predict(X_val_encoded)"
   ]
  },
  {
   "cell_type": "code",
   "execution_count": 115,
   "metadata": {},
   "outputs": [
    {
     "output_type": "execute_result",
     "data": {
      "text/plain": [
       "array(['X1', 'X3', 'X2', 'X4', 'X0', 'X6', 'X8', 'X7', 'X5', 'X9'],\n",
       "      dtype=object)"
      ]
     },
     "metadata": {},
     "execution_count": 115
    }
   ],
   "source": [
    "X_train['Health Indicator'].unique()"
   ]
  },
  {
   "cell_type": "code",
   "execution_count": 221,
   "metadata": {},
   "outputs": [],
   "source": [
    "# df['Health Indicator'] = df['Health Indicator'].fillna('X0')\n",
    "# df['Holding_Policy_Duration']= df['Holding_Policy_Duration'].fillna(14)\n",
    "# df['Holding_Policy_Type'] = df['Holding_Policy_Type'].fillna(0)"
   ]
  },
  {
   "cell_type": "code",
   "execution_count": 226,
   "metadata": {},
   "outputs": [],
   "source": [
    "# #test data\n",
    "\n",
    "# df_test['Health Indicator'] = df_test['Health Indicator'].fillna('X0')\n",
    "# df_test['Holding_Policy_Duration']= df_test['Holding_Policy_Duration'].fillna(14)\n",
    "# df_test['Holding_Policy_Type'] = df_test['Holding_Policy_Type'].fillna(0)"
   ]
  },
  {
   "cell_type": "code",
   "execution_count": 227,
   "metadata": {},
   "outputs": [
    {
     "output_type": "stream",
     "name": "stdout",
     "text": [
      "<class 'pandas.core.frame.DataFrame'>\nRangeIndex: 50882 entries, 0 to 50881\nData columns (total 13 columns):\n #   Column                   Non-Null Count  Dtype   \n---  ------                   --------------  -----   \n 0   ID                       50882 non-null  int64   \n 1   City_Code                50882 non-null  object  \n 2   Region_Code              50882 non-null  int64   \n 3   Accomodation_Type        50882 non-null  object  \n 4   Reco_Insurance_Type      50882 non-null  object  \n 5   Is_Spouse                50882 non-null  object  \n 6   Health Indicator         50882 non-null  object  \n 7   Holding_Policy_Duration  50882 non-null  float64 \n 8   Holding_Policy_Type      50882 non-null  float64 \n 9   Reco_Policy_Cat          50882 non-null  int64   \n 10  Reco_Policy_Premium      50882 non-null  float64 \n 11  Response                 50882 non-null  int64   \n 12  AgeBin                   50882 non-null  category\ndtypes: category(1), float64(3), int64(4), object(5)\nmemory usage: 4.7+ MB\n"
     ]
    }
   ],
   "source": [
    "df.info()"
   ]
  },
  {
   "cell_type": "code",
   "execution_count": 228,
   "metadata": {},
   "outputs": [
    {
     "output_type": "stream",
     "name": "stdout",
     "text": [
      "<class 'pandas.core.frame.DataFrame'>\nRangeIndex: 21805 entries, 0 to 21804\nData columns (total 12 columns):\n #   Column                   Non-Null Count  Dtype   \n---  ------                   --------------  -----   \n 0   ID                       21805 non-null  int64   \n 1   City_Code                21805 non-null  object  \n 2   Region_Code              21805 non-null  int64   \n 3   Accomodation_Type        21805 non-null  object  \n 4   Reco_Insurance_Type      21805 non-null  object  \n 5   Is_Spouse                21805 non-null  object  \n 6   Health Indicator         21805 non-null  object  \n 7   Holding_Policy_Duration  21805 non-null  float64 \n 8   Holding_Policy_Type      21805 non-null  float64 \n 9   Reco_Policy_Cat          21805 non-null  int64   \n 10  Reco_Policy_Premium      21805 non-null  float64 \n 11  AgeBin                   21805 non-null  category\ndtypes: category(1), float64(3), int64(3), object(5)\nmemory usage: 1.9+ MB\n"
     ]
    }
   ],
   "source": [
    "df_test.info()"
   ]
  },
  {
   "cell_type": "code",
   "execution_count": 229,
   "metadata": {},
   "outputs": [],
   "source": []
  },
  {
   "cell_type": "code",
   "execution_count": 241,
   "metadata": {},
   "outputs": [],
   "source": []
  },
  {
   "source": [
    "## Using Logistic regression"
   ],
   "cell_type": "markdown",
   "metadata": {}
  },
  {
   "cell_type": "code",
   "execution_count": 116,
   "metadata": {},
   "outputs": [],
   "source": [
    "#Applying logreg\n",
    "from sklearn.linear_model import LogisticRegression as logreg\n",
    "from sklearn.metrics import roc_auc_score"
   ]
  },
  {
   "cell_type": "code",
   "execution_count": 130,
   "metadata": {},
   "outputs": [],
   "source": [
    "lr = logreg(class_weight='balanced')\n",
    "\n",
    "lr.fit(X_train_encoded, y_train)\n",
    "\n",
    "lr_train_predict = lr.predict_proba(X_train_encoded)\n",
    "\n",
    "lr_test_predict = lr.predict_proba(X_val_encoded)"
   ]
  },
  {
   "cell_type": "code",
   "execution_count": null,
   "metadata": {},
   "outputs": [],
   "source": []
  },
  {
   "cell_type": "code",
   "execution_count": 158,
   "metadata": {},
   "outputs": [],
   "source": [
    "xpred =lr_train_predict[:,-1]\n",
    "ypred =lr_test_predict[:,-1]"
   ]
  },
  {
   "cell_type": "code",
   "execution_count": 159,
   "metadata": {},
   "outputs": [
    {
     "output_type": "execute_result",
     "data": {
      "text/plain": [
       "0.6261606017654511"
      ]
     },
     "metadata": {},
     "execution_count": 159
    }
   ],
   "source": [
    "auc_lr1 =  roc_auc_score(y_train,xpred)\n",
    "auc_lr1"
   ]
  },
  {
   "cell_type": "code",
   "execution_count": null,
   "metadata": {},
   "outputs": [],
   "source": []
  },
  {
   "cell_type": "code",
   "execution_count": null,
   "metadata": {},
   "outputs": [],
   "source": []
  },
  {
   "source": [
    "### decision tree"
   ],
   "cell_type": "markdown",
   "metadata": {}
  },
  {
   "cell_type": "code",
   "execution_count": 160,
   "metadata": {},
   "outputs": [
    {
     "output_type": "stream",
     "name": "stdout",
     "text": [
      "Fitting 3 folds for each of 10 candidates, totalling 30 fits\n",
      "[Parallel(n_jobs=-1)]: Using backend LokyBackend with 4 concurrent workers.\n",
      "[Parallel(n_jobs=-1)]: Done  30 out of  30 | elapsed:    9.9s finished\n"
     ]
    },
    {
     "output_type": "execute_result",
     "data": {
      "text/plain": [
       "RandomizedSearchCV(cv=3, estimator=DecisionTreeClassifier(random_state=42),\n",
       "                   n_jobs=-1,\n",
       "                   param_distributions={'max_depth': [2, 3, 4, 5, 6, 7, 8, 9],\n",
       "                                        'max_leaf_nodes': [1, 2, 3, 4, 5, 6, 7,\n",
       "                                                           8, 9, 10, 11, 12, 13,\n",
       "                                                           14, 15, 16, 17, 18,\n",
       "                                                           19, 20, 21, 22, 23,\n",
       "                                                           24, 25, 26, 27, 28,\n",
       "                                                           29, 30, ...],\n",
       "                                        'min_samples_split': [2, 3, 4, 5]},\n",
       "                   verbose=1)"
      ]
     },
     "metadata": {},
     "execution_count": 160
    }
   ],
   "source": [
    "from sklearn.tree import DecisionTreeClassifier\n",
    "from sklearn.model_selection import RandomizedSearchCV\n",
    "params = {'max_depth': list(range(2, 10)),'max_leaf_nodes': list(range(1, 100)), 'min_samples_split': [2,3,4,5]}\n",
    "\n",
    "random_search_cv = RandomizedSearchCV(DecisionTreeClassifier(random_state=42), params, verbose=1, cv=3, n_jobs=-1)\n",
    "\n",
    "random_search_cv.fit(X_train_encoded, y_train)"
   ]
  },
  {
   "cell_type": "code",
   "execution_count": 161,
   "metadata": {},
   "outputs": [
    {
     "output_type": "execute_result",
     "data": {
      "text/plain": [
       "DecisionTreeClassifier(max_depth=5, max_leaf_nodes=61, random_state=42)"
      ]
     },
     "metadata": {},
     "execution_count": 161
    }
   ],
   "source": [
    "random_search_cv.best_estimator_"
   ]
  },
  {
   "cell_type": "code",
   "execution_count": 162,
   "metadata": {},
   "outputs": [],
   "source": [
    "dt1 = DecisionTreeClassifier( max_depth=5, max_leaf_nodes=61, random_state=42)"
   ]
  },
  {
   "cell_type": "code",
   "execution_count": 163,
   "metadata": {},
   "outputs": [],
   "source": [
    "#fitting the model\n",
    "dt1.fit(X_train_encoded, y_train)\n",
    "pred_train = dt1.predict_proba(X_train_encoded)\n",
    "pred_val = dt1.predict_proba(X_val_encoded)\n",
    "# pred_test = dt1.predict_proba(test)\n"
   ]
  },
  {
   "cell_type": "code",
   "execution_count": 164,
   "metadata": {},
   "outputs": [
    {
     "output_type": "execute_result",
     "data": {
      "text/plain": [
       "(0.0, 0.8888888888888888)"
      ]
     },
     "metadata": {},
     "execution_count": 164
    }
   ],
   "source": [
    "pred_val[:,-1].min(),pred_val[:,-1].max()"
   ]
  },
  {
   "cell_type": "code",
   "execution_count": 165,
   "metadata": {},
   "outputs": [],
   "source": [
    "xpred1=pred_train[:,-1]\n",
    "ypred1 = pred_val[:,-1]"
   ]
  },
  {
   "cell_type": "code",
   "execution_count": 166,
   "metadata": {},
   "outputs": [
    {
     "output_type": "execute_result",
     "data": {
      "text/plain": [
       "0.5929850603316413"
      ]
     },
     "metadata": {},
     "execution_count": 166
    }
   ],
   "source": [
    "auc_dtt =  roc_auc_score(y_train,xpred1)\n",
    "auc_dtt"
   ]
  },
  {
   "cell_type": "code",
   "execution_count": 167,
   "metadata": {},
   "outputs": [
    {
     "output_type": "execute_result",
     "data": {
      "text/plain": [
       "0.5891649062489958"
      ]
     },
     "metadata": {},
     "execution_count": 167
    }
   ],
   "source": [
    "#calculating roc_auc_score for xgboost\n",
    "auc_dt =  roc_auc_score(y_val,ypred1)\n",
    "auc_dt"
   ]
  },
  {
   "cell_type": "code",
   "execution_count": 177,
   "metadata": {},
   "outputs": [],
   "source": [
    "pred_test = dt1.predict_proba(df_test_encoded)[:,1]"
   ]
  },
  {
   "cell_type": "code",
   "execution_count": 178,
   "metadata": {},
   "outputs": [
    {
     "output_type": "execute_result",
     "data": {
      "text/plain": [
       "(0.0, 0.8888888888888888)"
      ]
     },
     "metadata": {},
     "execution_count": 178
    }
   ],
   "source": [
    "pred_test.min(),pred_test.max()"
   ]
  },
  {
   "cell_type": "code",
   "execution_count": 179,
   "metadata": {},
   "outputs": [
    {
     "output_type": "execute_result",
     "data": {
      "text/plain": [
       "array([0.19457999, 0.19457999, 0.28814554, ..., 0.19457999, 0.28221979,\n",
       "       0.19457999])"
      ]
     },
     "metadata": {},
     "execution_count": 179
    }
   ],
   "source": [
    "pred_test"
   ]
  },
  {
   "cell_type": "code",
   "execution_count": 180,
   "metadata": {},
   "outputs": [],
   "source": [
    "pred_test = np.array(pred_test)"
   ]
  },
  {
   "cell_type": "code",
   "execution_count": 181,
   "metadata": {},
   "outputs": [
    {
     "output_type": "execute_result",
     "data": {
      "text/plain": [
       "<AxesSubplot:ylabel='Density'>"
      ]
     },
     "metadata": {},
     "execution_count": 181
    },
    {
     "output_type": "display_data",
     "data": {
      "text/plain": "<Figure size 432x288 with 1 Axes>",
      "image/svg+xml": "<?xml version=\"1.0\" encoding=\"utf-8\" standalone=\"no\"?>\r\n<!DOCTYPE svg PUBLIC \"-//W3C//DTD SVG 1.1//EN\"\r\n  \"http://www.w3.org/Graphics/SVG/1.1/DTD/svg11.dtd\">\r\n<!-- Created with matplotlib (https://matplotlib.org/) -->\r\n<svg height=\"248.518125pt\" version=\"1.1\" viewBox=\"0 0 382.603125 248.518125\" width=\"382.603125pt\" xmlns=\"http://www.w3.org/2000/svg\" xmlns:xlink=\"http://www.w3.org/1999/xlink\">\r\n <metadata>\r\n  <rdf:RDF xmlns:cc=\"http://creativecommons.org/ns#\" xmlns:dc=\"http://purl.org/dc/elements/1.1/\" xmlns:rdf=\"http://www.w3.org/1999/02/22-rdf-syntax-ns#\">\r\n   <cc:Work>\r\n    <dc:type rdf:resource=\"http://purl.org/dc/dcmitype/StillImage\"/>\r\n    <dc:date>2021-02-27T23:09:18.482192</dc:date>\r\n    <dc:format>image/svg+xml</dc:format>\r\n    <dc:creator>\r\n     <cc:Agent>\r\n      <dc:title>Matplotlib v3.3.2, https://matplotlib.org/</dc:title>\r\n     </cc:Agent>\r\n    </dc:creator>\r\n   </cc:Work>\r\n  </rdf:RDF>\r\n </metadata>\r\n <defs>\r\n  <style type=\"text/css\">*{stroke-linecap:butt;stroke-linejoin:round;}</style>\r\n </defs>\r\n <g id=\"figure_1\">\r\n  <g id=\"patch_1\">\r\n   <path d=\"M 0 248.518125 \r\nL 382.603125 248.518125 \r\nL 382.603125 0 \r\nL 0 0 \r\nz\r\n\" style=\"fill:none;\"/>\r\n  </g>\r\n  <g id=\"axes_1\">\r\n   <g id=\"patch_2\">\r\n    <path d=\"M 40.603125 224.64 \r\nL 375.403125 224.64 \r\nL 375.403125 7.2 \r\nL 40.603125 7.2 \r\nz\r\n\" style=\"fill:#ffffff;\"/>\r\n   </g>\r\n   <g id=\"patch_3\">\r\n    <path clip-path=\"url(#p71ec880601)\" d=\"M 66.128571 224.64 \r\nL 71.803553 224.64 \r\nL 71.803553 224.551552 \r\nL 66.128571 224.551552 \r\nz\r\n\" style=\"fill:#1f77b4;opacity:0.4;\"/>\r\n   </g>\r\n   <g id=\"patch_4\">\r\n    <path clip-path=\"url(#p71ec880601)\" d=\"M 71.803553 224.64 \r\nL 77.478535 224.64 \r\nL 77.478535 224.64 \r\nL 71.803553 224.64 \r\nz\r\n\" style=\"fill:#1f77b4;opacity:0.4;\"/>\r\n   </g>\r\n   <g id=\"patch_5\">\r\n    <path clip-path=\"url(#p71ec880601)\" d=\"M 77.478535 224.64 \r\nL 83.153517 224.64 \r\nL 83.153517 224.64 \r\nL 77.478535 224.64 \r\nz\r\n\" style=\"fill:#1f77b4;opacity:0.4;\"/>\r\n   </g>\r\n   <g id=\"patch_6\">\r\n    <path clip-path=\"url(#p71ec880601)\" d=\"M 83.153517 224.64 \r\nL 88.8285 224.64 \r\nL 88.8285 224.64 \r\nL 83.153517 224.64 \r\nz\r\n\" style=\"fill:#1f77b4;opacity:0.4;\"/>\r\n   </g>\r\n   <g id=\"patch_7\">\r\n    <path clip-path=\"url(#p71ec880601)\" d=\"M 88.8285 224.64 \r\nL 94.503482 224.64 \r\nL 94.503482 224.52207 \r\nL 88.8285 224.52207 \r\nz\r\n\" style=\"fill:#1f77b4;opacity:0.4;\"/>\r\n   </g>\r\n   <g id=\"patch_8\">\r\n    <path clip-path=\"url(#p71ec880601)\" d=\"M 94.503482 224.64 \r\nL 100.178464 224.64 \r\nL 100.178464 224.64 \r\nL 94.503482 224.64 \r\nz\r\n\" style=\"fill:#1f77b4;opacity:0.4;\"/>\r\n   </g>\r\n   <g id=\"patch_9\">\r\n    <path clip-path=\"url(#p71ec880601)\" d=\"M 100.178464 224.64 \r\nL 105.853446 224.64 \r\nL 105.853446 224.64 \r\nL 100.178464 224.64 \r\nz\r\n\" style=\"fill:#1f77b4;opacity:0.4;\"/>\r\n   </g>\r\n   <g id=\"patch_10\">\r\n    <path clip-path=\"url(#p71ec880601)\" d=\"M 105.853446 224.64 \r\nL 111.528428 224.64 \r\nL 111.528428 223.239577 \r\nL 105.853446 223.239577 \r\nz\r\n\" style=\"fill:#1f77b4;opacity:0.4;\"/>\r\n   </g>\r\n   <g id=\"patch_11\">\r\n    <path clip-path=\"url(#p71ec880601)\" d=\"M 111.528428 224.64 \r\nL 117.20341 224.64 \r\nL 117.20341 224.64 \r\nL 111.528428 224.64 \r\nz\r\n\" style=\"fill:#1f77b4;opacity:0.4;\"/>\r\n   </g>\r\n   <g id=\"patch_12\">\r\n    <path clip-path=\"url(#p71ec880601)\" d=\"M 117.20341 224.64 \r\nL 122.878393 224.64 \r\nL 122.878393 224.64 \r\nL 117.20341 224.64 \r\nz\r\n\" style=\"fill:#1f77b4;opacity:0.4;\"/>\r\n   </g>\r\n   <g id=\"patch_13\">\r\n    <path clip-path=\"url(#p71ec880601)\" d=\"M 122.878393 224.64 \r\nL 128.553375 224.64 \r\nL 128.553375 17.554286 \r\nL 122.878393 17.554286 \r\nz\r\n\" style=\"fill:#1f77b4;opacity:0.4;\"/>\r\n   </g>\r\n   <g id=\"patch_14\">\r\n    <path clip-path=\"url(#p71ec880601)\" d=\"M 128.553375 224.64 \r\nL 134.228357 224.64 \r\nL 134.228357 223.991383 \r\nL 128.553375 223.991383 \r\nz\r\n\" style=\"fill:#1f77b4;opacity:0.4;\"/>\r\n   </g>\r\n   <g id=\"patch_15\">\r\n    <path clip-path=\"url(#p71ec880601)\" d=\"M 134.228357 224.64 \r\nL 139.903339 224.64 \r\nL 139.903339 224.64 \r\nL 134.228357 224.64 \r\nz\r\n\" style=\"fill:#1f77b4;opacity:0.4;\"/>\r\n   </g>\r\n   <g id=\"patch_16\">\r\n    <path clip-path=\"url(#p71ec880601)\" d=\"M 139.903339 224.64 \r\nL 145.578321 224.64 \r\nL 145.578321 224.64 \r\nL 139.903339 224.64 \r\nz\r\n\" style=\"fill:#1f77b4;opacity:0.4;\"/>\r\n   </g>\r\n   <g id=\"patch_17\">\r\n    <path clip-path=\"url(#p71ec880601)\" d=\"M 145.578321 224.64 \r\nL 151.253303 224.64 \r\nL 151.253303 218.139089 \r\nL 145.578321 218.139089 \r\nz\r\n\" style=\"fill:#1f77b4;opacity:0.4;\"/>\r\n   </g>\r\n   <g id=\"patch_18\">\r\n    <path clip-path=\"url(#p71ec880601)\" d=\"M 151.253303 224.64 \r\nL 156.928286 224.64 \r\nL 156.928286 177.40889 \r\nL 151.253303 177.40889 \r\nz\r\n\" style=\"fill:#1f77b4;opacity:0.4;\"/>\r\n   </g>\r\n   <g id=\"patch_19\">\r\n    <path clip-path=\"url(#p71ec880601)\" d=\"M 156.928286 224.64 \r\nL 162.603268 224.64 \r\nL 162.603268 208.955262 \r\nL 156.928286 208.955262 \r\nz\r\n\" style=\"fill:#1f77b4;opacity:0.4;\"/>\r\n   </g>\r\n   <g id=\"patch_20\">\r\n    <path clip-path=\"url(#p71ec880601)\" d=\"M 162.603268 224.64 \r\nL 168.27825 224.64 \r\nL 168.27825 224.64 \r\nL 162.603268 224.64 \r\nz\r\n\" style=\"fill:#1f77b4;opacity:0.4;\"/>\r\n   </g>\r\n   <g id=\"patch_21\">\r\n    <path clip-path=\"url(#p71ec880601)\" d=\"M 168.27825 224.64 \r\nL 173.953232 224.64 \r\nL 173.953232 215.441432 \r\nL 168.27825 215.441432 \r\nz\r\n\" style=\"fill:#1f77b4;opacity:0.4;\"/>\r\n   </g>\r\n   <g id=\"patch_22\">\r\n    <path clip-path=\"url(#p71ec880601)\" d=\"M 173.953232 224.64 \r\nL 179.628214 224.64 \r\nL 179.628214 224.64 \r\nL 173.953232 224.64 \r\nz\r\n\" style=\"fill:#1f77b4;opacity:0.4;\"/>\r\n   </g>\r\n   <g id=\"patch_23\">\r\n    <path clip-path=\"url(#p71ec880601)\" d=\"M 179.628214 224.64 \r\nL 185.303196 224.64 \r\nL 185.303196 217.166163 \r\nL 179.628214 217.166163 \r\nz\r\n\" style=\"fill:#1f77b4;opacity:0.4;\"/>\r\n   </g>\r\n   <g id=\"patch_24\">\r\n    <path clip-path=\"url(#p71ec880601)\" d=\"M 185.303196 224.64 \r\nL 190.978179 224.64 \r\nL 190.978179 217.004009 \r\nL 185.303196 217.004009 \r\nz\r\n\" style=\"fill:#1f77b4;opacity:0.4;\"/>\r\n   </g>\r\n   <g id=\"patch_25\">\r\n    <path clip-path=\"url(#p71ec880601)\" d=\"M 190.978179 224.64 \r\nL 196.653161 224.64 \r\nL 196.653161 218.994084 \r\nL 190.978179 218.994084 \r\nz\r\n\" style=\"fill:#1f77b4;opacity:0.4;\"/>\r\n   </g>\r\n   <g id=\"patch_26\">\r\n    <path clip-path=\"url(#p71ec880601)\" d=\"M 196.653161 224.64 \r\nL 202.328143 224.64 \r\nL 202.328143 224.256726 \r\nL 196.653161 224.256726 \r\nz\r\n\" style=\"fill:#1f77b4;opacity:0.4;\"/>\r\n   </g>\r\n   <g id=\"patch_27\">\r\n    <path clip-path=\"url(#p71ec880601)\" d=\"M 202.328143 224.64 \r\nL 208.003125 224.64 \r\nL 208.003125 217.180905 \r\nL 202.328143 217.180905 \r\nz\r\n\" style=\"fill:#1f77b4;opacity:0.4;\"/>\r\n   </g>\r\n   <g id=\"patch_28\">\r\n    <path clip-path=\"url(#p71ec880601)\" d=\"M 208.003125 224.64 \r\nL 213.678107 224.64 \r\nL 213.678107 224.64 \r\nL 208.003125 224.64 \r\nz\r\n\" style=\"fill:#1f77b4;opacity:0.4;\"/>\r\n   </g>\r\n   <g id=\"patch_29\">\r\n    <path clip-path=\"url(#p71ec880601)\" d=\"M 213.678107 224.64 \r\nL 219.353089 224.64 \r\nL 219.353089 223.563885 \r\nL 213.678107 223.563885 \r\nz\r\n\" style=\"fill:#1f77b4;opacity:0.4;\"/>\r\n   </g>\r\n   <g id=\"patch_30\">\r\n    <path clip-path=\"url(#p71ec880601)\" d=\"M 219.353089 224.64 \r\nL 225.028071 224.64 \r\nL 225.028071 224.64 \r\nL 219.353089 224.64 \r\nz\r\n\" style=\"fill:#1f77b4;opacity:0.4;\"/>\r\n   </g>\r\n   <g id=\"patch_31\">\r\n    <path clip-path=\"url(#p71ec880601)\" d=\"M 225.028071 224.64 \r\nL 230.703054 224.64 \r\nL 230.703054 223.092164 \r\nL 225.028071 223.092164 \r\nz\r\n\" style=\"fill:#1f77b4;opacity:0.4;\"/>\r\n   </g>\r\n   <g id=\"patch_32\">\r\n    <path clip-path=\"url(#p71ec880601)\" d=\"M 230.703054 224.64 \r\nL 236.378036 224.64 \r\nL 236.378036 224.64 \r\nL 230.703054 224.64 \r\nz\r\n\" style=\"fill:#1f77b4;opacity:0.4;\"/>\r\n   </g>\r\n   <g id=\"patch_33\">\r\n    <path clip-path=\"url(#p71ec880601)\" d=\"M 236.378036 224.64 \r\nL 242.053018 224.64 \r\nL 242.053018 224.64 \r\nL 236.378036 224.64 \r\nz\r\n\" style=\"fill:#1f77b4;opacity:0.4;\"/>\r\n   </g>\r\n   <g id=\"patch_34\">\r\n    <path clip-path=\"url(#p71ec880601)\" d=\"M 242.053018 224.64 \r\nL 247.728 224.64 \r\nL 247.728 224.241985 \r\nL 242.053018 224.241985 \r\nz\r\n\" style=\"fill:#1f77b4;opacity:0.4;\"/>\r\n   </g>\r\n   <g id=\"patch_35\">\r\n    <path clip-path=\"url(#p71ec880601)\" d=\"M 247.728 224.64 \r\nL 253.402982 224.64 \r\nL 253.402982 224.581035 \r\nL 247.728 224.581035 \r\nz\r\n\" style=\"fill:#1f77b4;opacity:0.4;\"/>\r\n   </g>\r\n   <g id=\"patch_36\">\r\n    <path clip-path=\"url(#p71ec880601)\" d=\"M 253.402982 224.64 \r\nL 259.077964 224.64 \r\nL 259.077964 224.64 \r\nL 253.402982 224.64 \r\nz\r\n\" style=\"fill:#1f77b4;opacity:0.4;\"/>\r\n   </g>\r\n   <g id=\"patch_37\">\r\n    <path clip-path=\"url(#p71ec880601)\" d=\"M 259.077964 224.64 \r\nL 264.752947 224.64 \r\nL 264.752947 224.64 \r\nL 259.077964 224.64 \r\nz\r\n\" style=\"fill:#1f77b4;opacity:0.4;\"/>\r\n   </g>\r\n   <g id=\"patch_38\">\r\n    <path clip-path=\"url(#p71ec880601)\" d=\"M 264.752947 224.64 \r\nL 270.427929 224.64 \r\nL 270.427929 224.64 \r\nL 264.752947 224.64 \r\nz\r\n\" style=\"fill:#1f77b4;opacity:0.4;\"/>\r\n   </g>\r\n   <g id=\"patch_39\">\r\n    <path clip-path=\"url(#p71ec880601)\" d=\"M 270.427929 224.64 \r\nL 276.102911 224.64 \r\nL 276.102911 224.64 \r\nL 270.427929 224.64 \r\nz\r\n\" style=\"fill:#1f77b4;opacity:0.4;\"/>\r\n   </g>\r\n   <g id=\"patch_40\">\r\n    <path clip-path=\"url(#p71ec880601)\" d=\"M 276.102911 224.64 \r\nL 281.777893 224.64 \r\nL 281.777893 224.256726 \r\nL 276.102911 224.256726 \r\nz\r\n\" style=\"fill:#1f77b4;opacity:0.4;\"/>\r\n   </g>\r\n   <g id=\"patch_41\">\r\n    <path clip-path=\"url(#p71ec880601)\" d=\"M 281.777893 224.64 \r\nL 287.452875 224.64 \r\nL 287.452875 224.64 \r\nL 281.777893 224.64 \r\nz\r\n\" style=\"fill:#1f77b4;opacity:0.4;\"/>\r\n   </g>\r\n   <g id=\"patch_42\">\r\n    <path clip-path=\"url(#p71ec880601)\" d=\"M 287.452875 224.64 \r\nL 293.127857 224.64 \r\nL 293.127857 224.64 \r\nL 287.452875 224.64 \r\nz\r\n\" style=\"fill:#1f77b4;opacity:0.4;\"/>\r\n   </g>\r\n   <g id=\"patch_43\">\r\n    <path clip-path=\"url(#p71ec880601)\" d=\"M 293.127857 224.64 \r\nL 298.80284 224.64 \r\nL 298.80284 224.64 \r\nL 293.127857 224.64 \r\nz\r\n\" style=\"fill:#1f77b4;opacity:0.4;\"/>\r\n   </g>\r\n   <g id=\"patch_44\">\r\n    <path clip-path=\"url(#p71ec880601)\" d=\"M 298.80284 224.64 \r\nL 304.477822 224.64 \r\nL 304.477822 224.64 \r\nL 298.80284 224.64 \r\nz\r\n\" style=\"fill:#1f77b4;opacity:0.4;\"/>\r\n   </g>\r\n   <g id=\"patch_45\">\r\n    <path clip-path=\"url(#p71ec880601)\" d=\"M 304.477822 224.64 \r\nL 310.152804 224.64 \r\nL 310.152804 223.932418 \r\nL 304.477822 223.932418 \r\nz\r\n\" style=\"fill:#1f77b4;opacity:0.4;\"/>\r\n   </g>\r\n   <g id=\"patch_46\">\r\n    <path clip-path=\"url(#p71ec880601)\" d=\"M 310.152804 224.64 \r\nL 315.827786 224.64 \r\nL 315.827786 224.492587 \r\nL 310.152804 224.492587 \r\nz\r\n\" style=\"fill:#1f77b4;opacity:0.4;\"/>\r\n   </g>\r\n   <g id=\"patch_47\">\r\n    <path clip-path=\"url(#p71ec880601)\" d=\"M 315.827786 224.64 \r\nL 321.502768 224.64 \r\nL 321.502768 224.30095 \r\nL 315.827786 224.30095 \r\nz\r\n\" style=\"fill:#1f77b4;opacity:0.4;\"/>\r\n   </g>\r\n   <g id=\"patch_48\">\r\n    <path clip-path=\"url(#p71ec880601)\" d=\"M 321.502768 224.64 \r\nL 327.17775 224.64 \r\nL 327.17775 224.64 \r\nL 321.502768 224.64 \r\nz\r\n\" style=\"fill:#1f77b4;opacity:0.4;\"/>\r\n   </g>\r\n   <g id=\"patch_49\">\r\n    <path clip-path=\"url(#p71ec880601)\" d=\"M 327.17775 224.64 \r\nL 332.852733 224.64 \r\nL 332.852733 224.64 \r\nL 327.17775 224.64 \r\nz\r\n\" style=\"fill:#1f77b4;opacity:0.4;\"/>\r\n   </g>\r\n   <g id=\"patch_50\">\r\n    <path clip-path=\"url(#p71ec880601)\" d=\"M 332.852733 224.64 \r\nL 338.527715 224.64 \r\nL 338.527715 224.507328 \r\nL 332.852733 224.507328 \r\nz\r\n\" style=\"fill:#1f77b4;opacity:0.4;\"/>\r\n   </g>\r\n   <g id=\"patch_51\">\r\n    <path clip-path=\"url(#p71ec880601)\" d=\"M 338.527715 224.64 \r\nL 344.202697 224.64 \r\nL 344.202697 224.64 \r\nL 338.527715 224.64 \r\nz\r\n\" style=\"fill:#1f77b4;opacity:0.4;\"/>\r\n   </g>\r\n   <g id=\"patch_52\">\r\n    <path clip-path=\"url(#p71ec880601)\" d=\"M 344.202697 224.64 \r\nL 349.877679 224.64 \r\nL 349.877679 224.551552 \r\nL 344.202697 224.551552 \r\nz\r\n\" style=\"fill:#1f77b4;opacity:0.4;\"/>\r\n   </g>\r\n   <g id=\"matplotlib.axis_1\">\r\n    <g id=\"xtick_1\">\r\n     <g id=\"line2d_1\">\r\n      <defs>\r\n       <path d=\"M 0 0 \r\nL 0 3.5 \r\n\" id=\"m0f1516125f\" style=\"stroke:#000000;stroke-width:0.8;\"/>\r\n      </defs>\r\n      <g>\r\n       <use style=\"stroke:#000000;stroke-width:0.8;\" x=\"66.128571\" xlink:href=\"#m0f1516125f\" y=\"224.64\"/>\r\n      </g>\r\n     </g>\r\n     <g id=\"text_1\">\r\n      <!-- 0.0 -->\r\n      <g transform=\"translate(58.177008 239.238437)scale(0.1 -0.1)\">\r\n       <defs>\r\n        <path d=\"M 31.78125 66.40625 \r\nQ 24.171875 66.40625 20.328125 58.90625 \r\nQ 16.5 51.421875 16.5 36.375 \r\nQ 16.5 21.390625 20.328125 13.890625 \r\nQ 24.171875 6.390625 31.78125 6.390625 \r\nQ 39.453125 6.390625 43.28125 13.890625 \r\nQ 47.125 21.390625 47.125 36.375 \r\nQ 47.125 51.421875 43.28125 58.90625 \r\nQ 39.453125 66.40625 31.78125 66.40625 \r\nz\r\nM 31.78125 74.21875 \r\nQ 44.046875 74.21875 50.515625 64.515625 \r\nQ 56.984375 54.828125 56.984375 36.375 \r\nQ 56.984375 17.96875 50.515625 8.265625 \r\nQ 44.046875 -1.421875 31.78125 -1.421875 \r\nQ 19.53125 -1.421875 13.0625 8.265625 \r\nQ 6.59375 17.96875 6.59375 36.375 \r\nQ 6.59375 54.828125 13.0625 64.515625 \r\nQ 19.53125 74.21875 31.78125 74.21875 \r\nz\r\n\" id=\"DejaVuSans-48\"/>\r\n        <path d=\"M 10.6875 12.40625 \r\nL 21 12.40625 \r\nL 21 0 \r\nL 10.6875 0 \r\nz\r\n\" id=\"DejaVuSans-46\"/>\r\n       </defs>\r\n       <use xlink:href=\"#DejaVuSans-48\"/>\r\n       <use x=\"63.623047\" xlink:href=\"#DejaVuSans-46\"/>\r\n       <use x=\"95.410156\" xlink:href=\"#DejaVuSans-48\"/>\r\n      </g>\r\n     </g>\r\n    </g>\r\n    <g id=\"xtick_2\">\r\n     <g id=\"line2d_2\">\r\n      <g>\r\n       <use style=\"stroke:#000000;stroke-width:0.8;\" x=\"129.97212\" xlink:href=\"#m0f1516125f\" y=\"224.64\"/>\r\n      </g>\r\n     </g>\r\n     <g id=\"text_2\">\r\n      <!-- 0.2 -->\r\n      <g transform=\"translate(122.020558 239.238437)scale(0.1 -0.1)\">\r\n       <defs>\r\n        <path d=\"M 19.1875 8.296875 \r\nL 53.609375 8.296875 \r\nL 53.609375 0 \r\nL 7.328125 0 \r\nL 7.328125 8.296875 \r\nQ 12.9375 14.109375 22.625 23.890625 \r\nQ 32.328125 33.6875 34.8125 36.53125 \r\nQ 39.546875 41.84375 41.421875 45.53125 \r\nQ 43.3125 49.21875 43.3125 52.78125 \r\nQ 43.3125 58.59375 39.234375 62.25 \r\nQ 35.15625 65.921875 28.609375 65.921875 \r\nQ 23.96875 65.921875 18.8125 64.3125 \r\nQ 13.671875 62.703125 7.8125 59.421875 \r\nL 7.8125 69.390625 \r\nQ 13.765625 71.78125 18.9375 73 \r\nQ 24.125 74.21875 28.421875 74.21875 \r\nQ 39.75 74.21875 46.484375 68.546875 \r\nQ 53.21875 62.890625 53.21875 53.421875 \r\nQ 53.21875 48.921875 51.53125 44.890625 \r\nQ 49.859375 40.875 45.40625 35.40625 \r\nQ 44.1875 33.984375 37.640625 27.21875 \r\nQ 31.109375 20.453125 19.1875 8.296875 \r\nz\r\n\" id=\"DejaVuSans-50\"/>\r\n       </defs>\r\n       <use xlink:href=\"#DejaVuSans-48\"/>\r\n       <use x=\"63.623047\" xlink:href=\"#DejaVuSans-46\"/>\r\n       <use x=\"95.410156\" xlink:href=\"#DejaVuSans-50\"/>\r\n      </g>\r\n     </g>\r\n    </g>\r\n    <g id=\"xtick_3\">\r\n     <g id=\"line2d_3\">\r\n      <g>\r\n       <use style=\"stroke:#000000;stroke-width:0.8;\" x=\"193.81567\" xlink:href=\"#m0f1516125f\" y=\"224.64\"/>\r\n      </g>\r\n     </g>\r\n     <g id=\"text_3\">\r\n      <!-- 0.4 -->\r\n      <g transform=\"translate(185.864107 239.238437)scale(0.1 -0.1)\">\r\n       <defs>\r\n        <path d=\"M 37.796875 64.3125 \r\nL 12.890625 25.390625 \r\nL 37.796875 25.390625 \r\nz\r\nM 35.203125 72.90625 \r\nL 47.609375 72.90625 \r\nL 47.609375 25.390625 \r\nL 58.015625 25.390625 \r\nL 58.015625 17.1875 \r\nL 47.609375 17.1875 \r\nL 47.609375 0 \r\nL 37.796875 0 \r\nL 37.796875 17.1875 \r\nL 4.890625 17.1875 \r\nL 4.890625 26.703125 \r\nz\r\n\" id=\"DejaVuSans-52\"/>\r\n       </defs>\r\n       <use xlink:href=\"#DejaVuSans-48\"/>\r\n       <use x=\"63.623047\" xlink:href=\"#DejaVuSans-46\"/>\r\n       <use x=\"95.410156\" xlink:href=\"#DejaVuSans-52\"/>\r\n      </g>\r\n     </g>\r\n    </g>\r\n    <g id=\"xtick_4\">\r\n     <g id=\"line2d_4\">\r\n      <g>\r\n       <use style=\"stroke:#000000;stroke-width:0.8;\" x=\"257.659219\" xlink:href=\"#m0f1516125f\" y=\"224.64\"/>\r\n      </g>\r\n     </g>\r\n     <g id=\"text_4\">\r\n      <!-- 0.6 -->\r\n      <g transform=\"translate(249.707656 239.238437)scale(0.1 -0.1)\">\r\n       <defs>\r\n        <path d=\"M 33.015625 40.375 \r\nQ 26.375 40.375 22.484375 35.828125 \r\nQ 18.609375 31.296875 18.609375 23.390625 \r\nQ 18.609375 15.53125 22.484375 10.953125 \r\nQ 26.375 6.390625 33.015625 6.390625 \r\nQ 39.65625 6.390625 43.53125 10.953125 \r\nQ 47.40625 15.53125 47.40625 23.390625 \r\nQ 47.40625 31.296875 43.53125 35.828125 \r\nQ 39.65625 40.375 33.015625 40.375 \r\nz\r\nM 52.59375 71.296875 \r\nL 52.59375 62.3125 \r\nQ 48.875 64.0625 45.09375 64.984375 \r\nQ 41.3125 65.921875 37.59375 65.921875 \r\nQ 27.828125 65.921875 22.671875 59.328125 \r\nQ 17.53125 52.734375 16.796875 39.40625 \r\nQ 19.671875 43.65625 24.015625 45.921875 \r\nQ 28.375 48.1875 33.59375 48.1875 \r\nQ 44.578125 48.1875 50.953125 41.515625 \r\nQ 57.328125 34.859375 57.328125 23.390625 \r\nQ 57.328125 12.15625 50.6875 5.359375 \r\nQ 44.046875 -1.421875 33.015625 -1.421875 \r\nQ 20.359375 -1.421875 13.671875 8.265625 \r\nQ 6.984375 17.96875 6.984375 36.375 \r\nQ 6.984375 53.65625 15.1875 63.9375 \r\nQ 23.390625 74.21875 37.203125 74.21875 \r\nQ 40.921875 74.21875 44.703125 73.484375 \r\nQ 48.484375 72.75 52.59375 71.296875 \r\nz\r\n\" id=\"DejaVuSans-54\"/>\r\n       </defs>\r\n       <use xlink:href=\"#DejaVuSans-48\"/>\r\n       <use x=\"63.623047\" xlink:href=\"#DejaVuSans-46\"/>\r\n       <use x=\"95.410156\" xlink:href=\"#DejaVuSans-54\"/>\r\n      </g>\r\n     </g>\r\n    </g>\r\n    <g id=\"xtick_5\">\r\n     <g id=\"line2d_5\">\r\n      <g>\r\n       <use style=\"stroke:#000000;stroke-width:0.8;\" x=\"321.502768\" xlink:href=\"#m0f1516125f\" y=\"224.64\"/>\r\n      </g>\r\n     </g>\r\n     <g id=\"text_5\">\r\n      <!-- 0.8 -->\r\n      <g transform=\"translate(313.551206 239.238437)scale(0.1 -0.1)\">\r\n       <defs>\r\n        <path d=\"M 31.78125 34.625 \r\nQ 24.75 34.625 20.71875 30.859375 \r\nQ 16.703125 27.09375 16.703125 20.515625 \r\nQ 16.703125 13.921875 20.71875 10.15625 \r\nQ 24.75 6.390625 31.78125 6.390625 \r\nQ 38.8125 6.390625 42.859375 10.171875 \r\nQ 46.921875 13.96875 46.921875 20.515625 \r\nQ 46.921875 27.09375 42.890625 30.859375 \r\nQ 38.875 34.625 31.78125 34.625 \r\nz\r\nM 21.921875 38.8125 \r\nQ 15.578125 40.375 12.03125 44.71875 \r\nQ 8.5 49.078125 8.5 55.328125 \r\nQ 8.5 64.0625 14.71875 69.140625 \r\nQ 20.953125 74.21875 31.78125 74.21875 \r\nQ 42.671875 74.21875 48.875 69.140625 \r\nQ 55.078125 64.0625 55.078125 55.328125 \r\nQ 55.078125 49.078125 51.53125 44.71875 \r\nQ 48 40.375 41.703125 38.8125 \r\nQ 48.828125 37.15625 52.796875 32.3125 \r\nQ 56.78125 27.484375 56.78125 20.515625 \r\nQ 56.78125 9.90625 50.3125 4.234375 \r\nQ 43.84375 -1.421875 31.78125 -1.421875 \r\nQ 19.734375 -1.421875 13.25 4.234375 \r\nQ 6.78125 9.90625 6.78125 20.515625 \r\nQ 6.78125 27.484375 10.78125 32.3125 \r\nQ 14.796875 37.15625 21.921875 38.8125 \r\nz\r\nM 18.3125 54.390625 \r\nQ 18.3125 48.734375 21.84375 45.5625 \r\nQ 25.390625 42.390625 31.78125 42.390625 \r\nQ 38.140625 42.390625 41.71875 45.5625 \r\nQ 45.3125 48.734375 45.3125 54.390625 \r\nQ 45.3125 60.0625 41.71875 63.234375 \r\nQ 38.140625 66.40625 31.78125 66.40625 \r\nQ 25.390625 66.40625 21.84375 63.234375 \r\nQ 18.3125 60.0625 18.3125 54.390625 \r\nz\r\n\" id=\"DejaVuSans-56\"/>\r\n       </defs>\r\n       <use xlink:href=\"#DejaVuSans-48\"/>\r\n       <use x=\"63.623047\" xlink:href=\"#DejaVuSans-46\"/>\r\n       <use x=\"95.410156\" xlink:href=\"#DejaVuSans-56\"/>\r\n      </g>\r\n     </g>\r\n    </g>\r\n   </g>\r\n   <g id=\"matplotlib.axis_2\">\r\n    <g id=\"ytick_1\">\r\n     <g id=\"line2d_6\">\r\n      <defs>\r\n       <path d=\"M 0 0 \r\nL -3.5 0 \r\n\" id=\"m2dbd7f558f\" style=\"stroke:#000000;stroke-width:0.8;\"/>\r\n      </defs>\r\n      <g>\r\n       <use style=\"stroke:#000000;stroke-width:0.8;\" x=\"40.603125\" xlink:href=\"#m2dbd7f558f\" y=\"224.64\"/>\r\n      </g>\r\n     </g>\r\n     <g id=\"text_6\">\r\n      <!-- 0 -->\r\n      <g transform=\"translate(27.240625 228.439219)scale(0.1 -0.1)\">\r\n       <use xlink:href=\"#DejaVuSans-48\"/>\r\n      </g>\r\n     </g>\r\n    </g>\r\n    <g id=\"ytick_2\">\r\n     <g id=\"line2d_7\">\r\n      <g>\r\n       <use style=\"stroke:#000000;stroke-width:0.8;\" x=\"40.603125\" xlink:href=\"#m2dbd7f558f\" y=\"196.068094\"/>\r\n      </g>\r\n     </g>\r\n     <g id=\"text_7\">\r\n      <!-- 5 -->\r\n      <g transform=\"translate(27.240625 199.867313)scale(0.1 -0.1)\">\r\n       <defs>\r\n        <path d=\"M 10.796875 72.90625 \r\nL 49.515625 72.90625 \r\nL 49.515625 64.59375 \r\nL 19.828125 64.59375 \r\nL 19.828125 46.734375 \r\nQ 21.96875 47.46875 24.109375 47.828125 \r\nQ 26.265625 48.1875 28.421875 48.1875 \r\nQ 40.625 48.1875 47.75 41.5 \r\nQ 54.890625 34.8125 54.890625 23.390625 \r\nQ 54.890625 11.625 47.5625 5.09375 \r\nQ 40.234375 -1.421875 26.90625 -1.421875 \r\nQ 22.3125 -1.421875 17.546875 -0.640625 \r\nQ 12.796875 0.140625 7.71875 1.703125 \r\nL 7.71875 11.625 \r\nQ 12.109375 9.234375 16.796875 8.0625 \r\nQ 21.484375 6.890625 26.703125 6.890625 \r\nQ 35.15625 6.890625 40.078125 11.328125 \r\nQ 45.015625 15.765625 45.015625 23.390625 \r\nQ 45.015625 31 40.078125 35.4375 \r\nQ 35.15625 39.890625 26.703125 39.890625 \r\nQ 22.75 39.890625 18.8125 39.015625 \r\nQ 14.890625 38.140625 10.796875 36.28125 \r\nz\r\n\" id=\"DejaVuSans-53\"/>\r\n       </defs>\r\n       <use xlink:href=\"#DejaVuSans-53\"/>\r\n      </g>\r\n     </g>\r\n    </g>\r\n    <g id=\"ytick_3\">\r\n     <g id=\"line2d_8\">\r\n      <g>\r\n       <use style=\"stroke:#000000;stroke-width:0.8;\" x=\"40.603125\" xlink:href=\"#m2dbd7f558f\" y=\"167.496188\"/>\r\n      </g>\r\n     </g>\r\n     <g id=\"text_8\">\r\n      <!-- 10 -->\r\n      <g transform=\"translate(20.878125 171.295407)scale(0.1 -0.1)\">\r\n       <defs>\r\n        <path d=\"M 12.40625 8.296875 \r\nL 28.515625 8.296875 \r\nL 28.515625 63.921875 \r\nL 10.984375 60.40625 \r\nL 10.984375 69.390625 \r\nL 28.421875 72.90625 \r\nL 38.28125 72.90625 \r\nL 38.28125 8.296875 \r\nL 54.390625 8.296875 \r\nL 54.390625 0 \r\nL 12.40625 0 \r\nz\r\n\" id=\"DejaVuSans-49\"/>\r\n       </defs>\r\n       <use xlink:href=\"#DejaVuSans-49\"/>\r\n       <use x=\"63.623047\" xlink:href=\"#DejaVuSans-48\"/>\r\n      </g>\r\n     </g>\r\n    </g>\r\n    <g id=\"ytick_4\">\r\n     <g id=\"line2d_9\">\r\n      <g>\r\n       <use style=\"stroke:#000000;stroke-width:0.8;\" x=\"40.603125\" xlink:href=\"#m2dbd7f558f\" y=\"138.924282\"/>\r\n      </g>\r\n     </g>\r\n     <g id=\"text_9\">\r\n      <!-- 15 -->\r\n      <g transform=\"translate(20.878125 142.723501)scale(0.1 -0.1)\">\r\n       <use xlink:href=\"#DejaVuSans-49\"/>\r\n       <use x=\"63.623047\" xlink:href=\"#DejaVuSans-53\"/>\r\n      </g>\r\n     </g>\r\n    </g>\r\n    <g id=\"ytick_5\">\r\n     <g id=\"line2d_10\">\r\n      <g>\r\n       <use style=\"stroke:#000000;stroke-width:0.8;\" x=\"40.603125\" xlink:href=\"#m2dbd7f558f\" y=\"110.352377\"/>\r\n      </g>\r\n     </g>\r\n     <g id=\"text_10\">\r\n      <!-- 20 -->\r\n      <g transform=\"translate(20.878125 114.151595)scale(0.1 -0.1)\">\r\n       <use xlink:href=\"#DejaVuSans-50\"/>\r\n       <use x=\"63.623047\" xlink:href=\"#DejaVuSans-48\"/>\r\n      </g>\r\n     </g>\r\n    </g>\r\n    <g id=\"ytick_6\">\r\n     <g id=\"line2d_11\">\r\n      <g>\r\n       <use style=\"stroke:#000000;stroke-width:0.8;\" x=\"40.603125\" xlink:href=\"#m2dbd7f558f\" y=\"81.780471\"/>\r\n      </g>\r\n     </g>\r\n     <g id=\"text_11\">\r\n      <!-- 25 -->\r\n      <g transform=\"translate(20.878125 85.57969)scale(0.1 -0.1)\">\r\n       <use xlink:href=\"#DejaVuSans-50\"/>\r\n       <use x=\"63.623047\" xlink:href=\"#DejaVuSans-53\"/>\r\n      </g>\r\n     </g>\r\n    </g>\r\n    <g id=\"ytick_7\">\r\n     <g id=\"line2d_12\">\r\n      <g>\r\n       <use style=\"stroke:#000000;stroke-width:0.8;\" x=\"40.603125\" xlink:href=\"#m2dbd7f558f\" y=\"53.208565\"/>\r\n      </g>\r\n     </g>\r\n     <g id=\"text_12\">\r\n      <!-- 30 -->\r\n      <g transform=\"translate(20.878125 57.007784)scale(0.1 -0.1)\">\r\n       <defs>\r\n        <path d=\"M 40.578125 39.3125 \r\nQ 47.65625 37.796875 51.625 33 \r\nQ 55.609375 28.21875 55.609375 21.1875 \r\nQ 55.609375 10.40625 48.1875 4.484375 \r\nQ 40.765625 -1.421875 27.09375 -1.421875 \r\nQ 22.515625 -1.421875 17.65625 -0.515625 \r\nQ 12.796875 0.390625 7.625 2.203125 \r\nL 7.625 11.71875 \r\nQ 11.71875 9.328125 16.59375 8.109375 \r\nQ 21.484375 6.890625 26.8125 6.890625 \r\nQ 36.078125 6.890625 40.9375 10.546875 \r\nQ 45.796875 14.203125 45.796875 21.1875 \r\nQ 45.796875 27.640625 41.28125 31.265625 \r\nQ 36.765625 34.90625 28.71875 34.90625 \r\nL 20.21875 34.90625 \r\nL 20.21875 43.015625 \r\nL 29.109375 43.015625 \r\nQ 36.375 43.015625 40.234375 45.921875 \r\nQ 44.09375 48.828125 44.09375 54.296875 \r\nQ 44.09375 59.90625 40.109375 62.90625 \r\nQ 36.140625 65.921875 28.71875 65.921875 \r\nQ 24.65625 65.921875 20.015625 65.03125 \r\nQ 15.375 64.15625 9.8125 62.3125 \r\nL 9.8125 71.09375 \r\nQ 15.4375 72.65625 20.34375 73.4375 \r\nQ 25.25 74.21875 29.59375 74.21875 \r\nQ 40.828125 74.21875 47.359375 69.109375 \r\nQ 53.90625 64.015625 53.90625 55.328125 \r\nQ 53.90625 49.265625 50.4375 45.09375 \r\nQ 46.96875 40.921875 40.578125 39.3125 \r\nz\r\n\" id=\"DejaVuSans-51\"/>\r\n       </defs>\r\n       <use xlink:href=\"#DejaVuSans-51\"/>\r\n       <use x=\"63.623047\" xlink:href=\"#DejaVuSans-48\"/>\r\n      </g>\r\n     </g>\r\n    </g>\r\n    <g id=\"ytick_8\">\r\n     <g id=\"line2d_13\">\r\n      <g>\r\n       <use style=\"stroke:#000000;stroke-width:0.8;\" x=\"40.603125\" xlink:href=\"#m2dbd7f558f\" y=\"24.636659\"/>\r\n      </g>\r\n     </g>\r\n     <g id=\"text_13\">\r\n      <!-- 35 -->\r\n      <g transform=\"translate(20.878125 28.435878)scale(0.1 -0.1)\">\r\n       <use xlink:href=\"#DejaVuSans-51\"/>\r\n       <use x=\"63.623047\" xlink:href=\"#DejaVuSans-53\"/>\r\n      </g>\r\n     </g>\r\n    </g>\r\n    <g id=\"text_14\">\r\n     <!-- Density -->\r\n     <g transform=\"translate(14.798438 134.928594)rotate(-90)scale(0.1 -0.1)\">\r\n      <defs>\r\n       <path d=\"M 19.671875 64.796875 \r\nL 19.671875 8.109375 \r\nL 31.59375 8.109375 \r\nQ 46.6875 8.109375 53.6875 14.9375 \r\nQ 60.6875 21.78125 60.6875 36.53125 \r\nQ 60.6875 51.171875 53.6875 57.984375 \r\nQ 46.6875 64.796875 31.59375 64.796875 \r\nz\r\nM 9.8125 72.90625 \r\nL 30.078125 72.90625 \r\nQ 51.265625 72.90625 61.171875 64.09375 \r\nQ 71.09375 55.28125 71.09375 36.53125 \r\nQ 71.09375 17.671875 61.125 8.828125 \r\nQ 51.171875 0 30.078125 0 \r\nL 9.8125 0 \r\nz\r\n\" id=\"DejaVuSans-68\"/>\r\n       <path d=\"M 56.203125 29.59375 \r\nL 56.203125 25.203125 \r\nL 14.890625 25.203125 \r\nQ 15.484375 15.921875 20.484375 11.0625 \r\nQ 25.484375 6.203125 34.421875 6.203125 \r\nQ 39.59375 6.203125 44.453125 7.46875 \r\nQ 49.3125 8.734375 54.109375 11.28125 \r\nL 54.109375 2.78125 \r\nQ 49.265625 0.734375 44.1875 -0.34375 \r\nQ 39.109375 -1.421875 33.890625 -1.421875 \r\nQ 20.796875 -1.421875 13.15625 6.1875 \r\nQ 5.515625 13.8125 5.515625 26.8125 \r\nQ 5.515625 40.234375 12.765625 48.109375 \r\nQ 20.015625 56 32.328125 56 \r\nQ 43.359375 56 49.78125 48.890625 \r\nQ 56.203125 41.796875 56.203125 29.59375 \r\nz\r\nM 47.21875 32.234375 \r\nQ 47.125 39.59375 43.09375 43.984375 \r\nQ 39.0625 48.390625 32.421875 48.390625 \r\nQ 24.90625 48.390625 20.390625 44.140625 \r\nQ 15.875 39.890625 15.1875 32.171875 \r\nz\r\n\" id=\"DejaVuSans-101\"/>\r\n       <path d=\"M 54.890625 33.015625 \r\nL 54.890625 0 \r\nL 45.90625 0 \r\nL 45.90625 32.71875 \r\nQ 45.90625 40.484375 42.875 44.328125 \r\nQ 39.84375 48.1875 33.796875 48.1875 \r\nQ 26.515625 48.1875 22.3125 43.546875 \r\nQ 18.109375 38.921875 18.109375 30.90625 \r\nL 18.109375 0 \r\nL 9.078125 0 \r\nL 9.078125 54.6875 \r\nL 18.109375 54.6875 \r\nL 18.109375 46.1875 \r\nQ 21.34375 51.125 25.703125 53.5625 \r\nQ 30.078125 56 35.796875 56 \r\nQ 45.21875 56 50.046875 50.171875 \r\nQ 54.890625 44.34375 54.890625 33.015625 \r\nz\r\n\" id=\"DejaVuSans-110\"/>\r\n       <path d=\"M 44.28125 53.078125 \r\nL 44.28125 44.578125 \r\nQ 40.484375 46.53125 36.375 47.5 \r\nQ 32.28125 48.484375 27.875 48.484375 \r\nQ 21.1875 48.484375 17.84375 46.4375 \r\nQ 14.5 44.390625 14.5 40.28125 \r\nQ 14.5 37.15625 16.890625 35.375 \r\nQ 19.28125 33.59375 26.515625 31.984375 \r\nL 29.59375 31.296875 \r\nQ 39.15625 29.25 43.1875 25.515625 \r\nQ 47.21875 21.78125 47.21875 15.09375 \r\nQ 47.21875 7.46875 41.1875 3.015625 \r\nQ 35.15625 -1.421875 24.609375 -1.421875 \r\nQ 20.21875 -1.421875 15.453125 -0.5625 \r\nQ 10.6875 0.296875 5.421875 2 \r\nL 5.421875 11.28125 \r\nQ 10.40625 8.6875 15.234375 7.390625 \r\nQ 20.0625 6.109375 24.8125 6.109375 \r\nQ 31.15625 6.109375 34.5625 8.28125 \r\nQ 37.984375 10.453125 37.984375 14.40625 \r\nQ 37.984375 18.0625 35.515625 20.015625 \r\nQ 33.0625 21.96875 24.703125 23.78125 \r\nL 21.578125 24.515625 \r\nQ 13.234375 26.265625 9.515625 29.90625 \r\nQ 5.8125 33.546875 5.8125 39.890625 \r\nQ 5.8125 47.609375 11.28125 51.796875 \r\nQ 16.75 56 26.8125 56 \r\nQ 31.78125 56 36.171875 55.265625 \r\nQ 40.578125 54.546875 44.28125 53.078125 \r\nz\r\n\" id=\"DejaVuSans-115\"/>\r\n       <path d=\"M 9.421875 54.6875 \r\nL 18.40625 54.6875 \r\nL 18.40625 0 \r\nL 9.421875 0 \r\nz\r\nM 9.421875 75.984375 \r\nL 18.40625 75.984375 \r\nL 18.40625 64.59375 \r\nL 9.421875 64.59375 \r\nz\r\n\" id=\"DejaVuSans-105\"/>\r\n       <path d=\"M 18.3125 70.21875 \r\nL 18.3125 54.6875 \r\nL 36.8125 54.6875 \r\nL 36.8125 47.703125 \r\nL 18.3125 47.703125 \r\nL 18.3125 18.015625 \r\nQ 18.3125 11.328125 20.140625 9.421875 \r\nQ 21.96875 7.515625 27.59375 7.515625 \r\nL 36.8125 7.515625 \r\nL 36.8125 0 \r\nL 27.59375 0 \r\nQ 17.1875 0 13.234375 3.875 \r\nQ 9.28125 7.765625 9.28125 18.015625 \r\nL 9.28125 47.703125 \r\nL 2.6875 47.703125 \r\nL 2.6875 54.6875 \r\nL 9.28125 54.6875 \r\nL 9.28125 70.21875 \r\nz\r\n\" id=\"DejaVuSans-116\"/>\r\n       <path d=\"M 32.171875 -5.078125 \r\nQ 28.375 -14.84375 24.75 -17.8125 \r\nQ 21.140625 -20.796875 15.09375 -20.796875 \r\nL 7.90625 -20.796875 \r\nL 7.90625 -13.28125 \r\nL 13.1875 -13.28125 \r\nQ 16.890625 -13.28125 18.9375 -11.515625 \r\nQ 21 -9.765625 23.484375 -3.21875 \r\nL 25.09375 0.875 \r\nL 2.984375 54.6875 \r\nL 12.5 54.6875 \r\nL 29.59375 11.921875 \r\nL 46.6875 54.6875 \r\nL 56.203125 54.6875 \r\nz\r\n\" id=\"DejaVuSans-121\"/>\r\n      </defs>\r\n      <use xlink:href=\"#DejaVuSans-68\"/>\r\n      <use x=\"77.001953\" xlink:href=\"#DejaVuSans-101\"/>\r\n      <use x=\"138.525391\" xlink:href=\"#DejaVuSans-110\"/>\r\n      <use x=\"201.904297\" xlink:href=\"#DejaVuSans-115\"/>\r\n      <use x=\"254.003906\" xlink:href=\"#DejaVuSans-105\"/>\r\n      <use x=\"281.787109\" xlink:href=\"#DejaVuSans-116\"/>\r\n      <use x=\"320.996094\" xlink:href=\"#DejaVuSans-121\"/>\r\n     </g>\r\n    </g>\r\n   </g>\r\n   <g id=\"line2d_14\">\r\n    <path clip-path=\"url(#p71ec880601)\" d=\"M 55.821307 224.639353 \r\nL 103.234738 224.490917 \r\nL 106.293669 224.090994 \r\nL 109.3526 223.724778 \r\nL 110.882065 223.761842 \r\nL 115.470462 224.26786 \r\nL 116.999927 223.891755 \r\nL 118.529393 222.093336 \r\nL 120.058858 216.626925 \r\nL 121.588324 203.711708 \r\nL 123.117789 179.755184 \r\nL 126.17672 110.654812 \r\nL 127.706186 89.665851 \r\nL 129.235651 93.495318 \r\nL 130.765117 120.055927 \r\nL 132.294582 156.154835 \r\nL 133.824048 187.785196 \r\nL 135.353513 208.315793 \r\nL 136.882979 218.659356 \r\nL 138.412444 222.7593 \r\nL 139.94191 223.935356 \r\nL 141.471375 223.885466 \r\nL 143.000841 223.196246 \r\nL 144.530306 222.059249 \r\nL 146.059772 220.63854 \r\nL 147.589237 218.948803 \r\nL 149.118703 216.430663 \r\nL 150.648168 211.879213 \r\nL 152.177634 204.389657 \r\nL 153.707099 194.933578 \r\nL 155.236565 186.883932 \r\nL 156.76603 184.208542 \r\nL 158.295496 188.505408 \r\nL 159.824961 197.739367 \r\nL 161.354427 207.900623 \r\nL 162.883892 215.738098 \r\nL 164.413358 220.096642 \r\nL 165.942823 221.447006 \r\nL 167.472289 220.888897 \r\nL 169.001755 219.604836 \r\nL 170.53122 218.652239 \r\nL 172.060686 218.671153 \r\nL 173.590151 219.587381 \r\nL 175.119617 220.700396 \r\nL 176.649082 221.19204 \r\nL 178.178548 220.654212 \r\nL 179.708013 219.276254 \r\nL 181.237479 217.659578 \r\nL 182.766944 216.453914 \r\nL 184.29641 216.049752 \r\nL 185.825875 216.452998 \r\nL 190.414272 219.058496 \r\nL 191.943737 219.747273 \r\nL 193.473203 220.570508 \r\nL 196.532134 222.413942 \r\nL 198.061599 222.825414 \r\nL 199.591065 222.563053 \r\nL 201.12053 221.679563 \r\nL 202.649996 220.554285 \r\nL 204.179461 219.781661 \r\nL 205.708927 219.832004 \r\nL 207.238392 220.716855 \r\nL 210.297323 223.155938 \r\nL 211.826789 223.882674 \r\nL 213.356254 224.169197 \r\nL 214.88572 224.15579 \r\nL 219.474116 223.762969 \r\nL 225.591978 223.53524 \r\nL 227.121444 223.668443 \r\nL 231.70984 224.414388 \r\nL 234.768771 224.60672 \r\nL 239.357168 224.602424 \r\nL 248.533961 224.392909 \r\nL 254.651823 224.619292 \r\nL 266.887547 224.635638 \r\nL 273.005409 224.49729 \r\nL 277.593806 224.396286 \r\nL 288.300064 224.639172 \r\nL 299.006323 224.563631 \r\nL 306.65365 224.189664 \r\nL 312.771512 224.465632 \r\nL 321.948305 224.465137 \r\nL 328.066167 224.619545 \r\nL 352.537616 224.596809 \r\nL 360.184943 224.639353 \r\nL 360.184943 224.639353 \r\n\" style=\"fill:none;stroke:#1f77b4;stroke-linecap:square;stroke-width:1.5;\"/>\r\n   </g>\r\n   <g id=\"patch_53\">\r\n    <path d=\"M 40.603125 224.64 \r\nL 40.603125 7.2 \r\n\" style=\"fill:none;stroke:#000000;stroke-linecap:square;stroke-linejoin:miter;stroke-width:0.8;\"/>\r\n   </g>\r\n   <g id=\"patch_54\">\r\n    <path d=\"M 375.403125 224.64 \r\nL 375.403125 7.2 \r\n\" style=\"fill:none;stroke:#000000;stroke-linecap:square;stroke-linejoin:miter;stroke-width:0.8;\"/>\r\n   </g>\r\n   <g id=\"patch_55\">\r\n    <path d=\"M 40.603125 224.64 \r\nL 375.403125 224.64 \r\n\" style=\"fill:none;stroke:#000000;stroke-linecap:square;stroke-linejoin:miter;stroke-width:0.8;\"/>\r\n   </g>\r\n   <g id=\"patch_56\">\r\n    <path d=\"M 40.603125 7.2 \r\nL 375.403125 7.2 \r\n\" style=\"fill:none;stroke:#000000;stroke-linecap:square;stroke-linejoin:miter;stroke-width:0.8;\"/>\r\n   </g>\r\n  </g>\r\n </g>\r\n <defs>\r\n  <clipPath id=\"p71ec880601\">\r\n   <rect height=\"217.44\" width=\"334.8\" x=\"40.603125\" y=\"7.2\"/>\r\n  </clipPath>\r\n </defs>\r\n</svg>\r\n",
      "image/png": "[encoded data removed]"
     },
     "metadata": {
      "needs_background": "light"
     }
    }
   ],
   "source": [
    "sns.distplot(pred_test)"
   ]
  },
  {
   "cell_type": "code",
   "execution_count": 182,
   "metadata": {},
   "outputs": [],
   "source": [
    "test_submit1=[]\n",
    "for i in pred_test:\n",
    "    if i<0.5:\n",
    "        test_submit1.append(0)\n",
    "    else:\n",
    "        test_submit1.append(1)"
   ]
  },
  {
   "cell_type": "code",
   "execution_count": 184,
   "metadata": {},
   "outputs": [
    {
     "output_type": "execute_result",
     "data": {
      "text/plain": [
       "(21805,)"
      ]
     },
     "metadata": {},
     "execution_count": 184
    }
   ],
   "source": [
    "test_submit1=np.array(test_submit1)\n",
    "test_submit1.shape"
   ]
  },
  {
   "cell_type": "code",
   "execution_count": 186,
   "metadata": {},
   "outputs": [],
   "source": [
    "df_submit = pd.read_csv('sample_submission_QrCyCoT.csv',index_col = None)"
   ]
  },
  {
   "cell_type": "code",
   "execution_count": 188,
   "metadata": {},
   "outputs": [],
   "source": [
    "dict={'ID':df_submit[\"ID\"],'Response':test_submit1}\n",
    "df_submit=pd.DataFrame(dict)\n",
    "df_submit.to_csv('dt1.csv',index=False)"
   ]
  },
  {
   "cell_type": "code",
   "execution_count": 191,
   "metadata": {},
   "outputs": [
    {
     "output_type": "execute_result",
     "data": {
      "text/plain": [
       "0    21547\n",
       "1      258\n",
       "Name: Response, dtype: int64"
      ]
     },
     "metadata": {},
     "execution_count": 191
    }
   ],
   "source": [
    "df_submit['Response'].value_counts()"
   ]
  },
  {
   "source": [
    "# Applying lgbm"
   ],
   "cell_type": "markdown",
   "metadata": {}
  },
  {
   "cell_type": "code",
   "execution_count": 197,
   "metadata": {},
   "outputs": [],
   "source": [
    "from pandas import Series, DataFrame \n",
    "from datetime import datetime\n",
    "#import lightgbm\n",
    "import lightgbm as lgb \n",
    "import xgboost as xgb\n",
    "import datetime"
   ]
  },
  {
   "cell_type": "code",
   "execution_count": 198,
   "metadata": {},
   "outputs": [],
   "source": [
    "train_data=lgb.Dataset(X_train_encoded,label=y_train)"
   ]
  },
  {
   "cell_type": "code",
   "execution_count": 199,
   "metadata": {},
   "outputs": [],
   "source": [
    "#setting parameters for lightgbm\n",
    "param = {'num_leaves':150, 'objective':'binary','max_depth':7,'learning_rate':.05,'max_bin':200}\n",
    "param['metric'] = ['auc', 'binary_logloss']\n",
    "\n",
    "#Here we have set max_depth in xgb and LightGBM to 7 to have a fair comparison between the two."
   ]
  },
  {
   "cell_type": "code",
   "execution_count": 200,
   "metadata": {},
   "outputs": [
    {
     "output_type": "error",
     "ename": "ValueError",
     "evalue": "Series.dtypes must be int, float or bool",
     "traceback": [
      "\u001b[1;31m---------------------------------------------------------------------------\u001b[0m",
      "\u001b[1;31mValueError\u001b[0m                                Traceback (most recent call last)",
      "\u001b[1;32m<ipython-input-200-bf729423ea6c>\u001b[0m in \u001b[0;36m<module>\u001b[1;34m\u001b[0m\n\u001b[0;32m      2\u001b[0m \u001b[1;33m\u001b[0m\u001b[0m\n\u001b[0;32m      3\u001b[0m \u001b[0mnum_round\u001b[0m\u001b[1;33m=\u001b[0m\u001b[1;36m50\u001b[0m\u001b[1;33m\u001b[0m\u001b[1;33m\u001b[0m\u001b[0m\n\u001b[1;32m----> 4\u001b[1;33m \u001b[0mlgbm\u001b[0m\u001b[1;33m=\u001b[0m\u001b[0mlgb\u001b[0m\u001b[1;33m.\u001b[0m\u001b[0mtrain\u001b[0m\u001b[1;33m(\u001b[0m\u001b[0mparam\u001b[0m\u001b[1;33m,\u001b[0m\u001b[0mtrain_data\u001b[0m\u001b[1;33m,\u001b[0m\u001b[0mnum_round\u001b[0m\u001b[1;33m)\u001b[0m\u001b[1;33m\u001b[0m\u001b[1;33m\u001b[0m\u001b[0m\n\u001b[0m",
      "\u001b[1;32m~\\anaconda3\\lib\\site-packages\\lightgbm\\engine.py\u001b[0m in \u001b[0;36mtrain\u001b[1;34m(params, train_set, num_boost_round, valid_sets, valid_names, fobj, feval, init_model, feature_name, categorical_feature, early_stopping_rounds, evals_result, verbose_eval, learning_rates, keep_training_booster, callbacks)\u001b[0m\n\u001b[0;32m    229\u001b[0m     \u001b[1;31m# construct booster\u001b[0m\u001b[1;33m\u001b[0m\u001b[1;33m\u001b[0m\u001b[1;33m\u001b[0m\u001b[0m\n\u001b[0;32m    230\u001b[0m     \u001b[1;32mtry\u001b[0m\u001b[1;33m:\u001b[0m\u001b[1;33m\u001b[0m\u001b[1;33m\u001b[0m\u001b[0m\n\u001b[1;32m--> 231\u001b[1;33m         \u001b[0mbooster\u001b[0m \u001b[1;33m=\u001b[0m \u001b[0mBooster\u001b[0m\u001b[1;33m(\u001b[0m\u001b[0mparams\u001b[0m\u001b[1;33m=\u001b[0m\u001b[0mparams\u001b[0m\u001b[1;33m,\u001b[0m \u001b[0mtrain_set\u001b[0m\u001b[1;33m=\u001b[0m\u001b[0mtrain_set\u001b[0m\u001b[1;33m)\u001b[0m\u001b[1;33m\u001b[0m\u001b[1;33m\u001b[0m\u001b[0m\n\u001b[0m\u001b[0;32m    232\u001b[0m         \u001b[1;32mif\u001b[0m \u001b[0mis_valid_contain_train\u001b[0m\u001b[1;33m:\u001b[0m\u001b[1;33m\u001b[0m\u001b[1;33m\u001b[0m\u001b[0m\n\u001b[0;32m    233\u001b[0m             \u001b[0mbooster\u001b[0m\u001b[1;33m.\u001b[0m\u001b[0mset_train_data_name\u001b[0m\u001b[1;33m(\u001b[0m\u001b[0mtrain_data_name\u001b[0m\u001b[1;33m)\u001b[0m\u001b[1;33m\u001b[0m\u001b[1;33m\u001b[0m\u001b[0m\n",
      "\u001b[1;32m~\\anaconda3\\lib\\site-packages\\lightgbm\\basic.py\u001b[0m in \u001b[0;36m__init__\u001b[1;34m(self, params, train_set, model_file, model_str, silent)\u001b[0m\n\u001b[0;32m   2051\u001b[0m                     \u001b[1;32mbreak\u001b[0m\u001b[1;33m\u001b[0m\u001b[1;33m\u001b[0m\u001b[0m\n\u001b[0;32m   2052\u001b[0m             \u001b[1;31m# construct booster object\u001b[0m\u001b[1;33m\u001b[0m\u001b[1;33m\u001b[0m\u001b[1;33m\u001b[0m\u001b[0m\n\u001b[1;32m-> 2053\u001b[1;33m             \u001b[0mtrain_set\u001b[0m\u001b[1;33m.\u001b[0m\u001b[0mconstruct\u001b[0m\u001b[1;33m(\u001b[0m\u001b[1;33m)\u001b[0m\u001b[1;33m\u001b[0m\u001b[1;33m\u001b[0m\u001b[0m\n\u001b[0m\u001b[0;32m   2054\u001b[0m             \u001b[1;31m# copy the parameters from train_set\u001b[0m\u001b[1;33m\u001b[0m\u001b[1;33m\u001b[0m\u001b[1;33m\u001b[0m\u001b[0m\n\u001b[0;32m   2055\u001b[0m             \u001b[0mparams\u001b[0m\u001b[1;33m.\u001b[0m\u001b[0mupdate\u001b[0m\u001b[1;33m(\u001b[0m\u001b[0mtrain_set\u001b[0m\u001b[1;33m.\u001b[0m\u001b[0mget_params\u001b[0m\u001b[1;33m(\u001b[0m\u001b[1;33m)\u001b[0m\u001b[1;33m)\u001b[0m\u001b[1;33m\u001b[0m\u001b[1;33m\u001b[0m\u001b[0m\n",
      "\u001b[1;32m~\\anaconda3\\lib\\site-packages\\lightgbm\\basic.py\u001b[0m in \u001b[0;36mconstruct\u001b[1;34m(self)\u001b[0m\n\u001b[0;32m   1319\u001b[0m             \u001b[1;32melse\u001b[0m\u001b[1;33m:\u001b[0m\u001b[1;33m\u001b[0m\u001b[1;33m\u001b[0m\u001b[0m\n\u001b[0;32m   1320\u001b[0m                 \u001b[1;31m# create train\u001b[0m\u001b[1;33m\u001b[0m\u001b[1;33m\u001b[0m\u001b[1;33m\u001b[0m\u001b[0m\n\u001b[1;32m-> 1321\u001b[1;33m                 self._lazy_init(self.data, label=self.label,\n\u001b[0m\u001b[0;32m   1322\u001b[0m                                 \u001b[0mweight\u001b[0m\u001b[1;33m=\u001b[0m\u001b[0mself\u001b[0m\u001b[1;33m.\u001b[0m\u001b[0mweight\u001b[0m\u001b[1;33m,\u001b[0m \u001b[0mgroup\u001b[0m\u001b[1;33m=\u001b[0m\u001b[0mself\u001b[0m\u001b[1;33m.\u001b[0m\u001b[0mgroup\u001b[0m\u001b[1;33m,\u001b[0m\u001b[1;33m\u001b[0m\u001b[1;33m\u001b[0m\u001b[0m\n\u001b[0;32m   1323\u001b[0m                                 \u001b[0minit_score\u001b[0m\u001b[1;33m=\u001b[0m\u001b[0mself\u001b[0m\u001b[1;33m.\u001b[0m\u001b[0minit_score\u001b[0m\u001b[1;33m,\u001b[0m \u001b[0mpredictor\u001b[0m\u001b[1;33m=\u001b[0m\u001b[0mself\u001b[0m\u001b[1;33m.\u001b[0m\u001b[0m_predictor\u001b[0m\u001b[1;33m,\u001b[0m\u001b[1;33m\u001b[0m\u001b[1;33m\u001b[0m\u001b[0m\n",
      "\u001b[1;32m~\\anaconda3\\lib\\site-packages\\lightgbm\\basic.py\u001b[0m in \u001b[0;36m_lazy_init\u001b[1;34m(self, data, label, reference, weight, group, init_score, predictor, silent, feature_name, categorical_feature, params)\u001b[0m\n\u001b[0;32m   1133\u001b[0m                 \u001b[1;32mraise\u001b[0m \u001b[0mTypeError\u001b[0m\u001b[1;33m(\u001b[0m\u001b[1;34m'Cannot initialize Dataset from {}'\u001b[0m\u001b[1;33m.\u001b[0m\u001b[0mformat\u001b[0m\u001b[1;33m(\u001b[0m\u001b[0mtype\u001b[0m\u001b[1;33m(\u001b[0m\u001b[0mdata\u001b[0m\u001b[1;33m)\u001b[0m\u001b[1;33m.\u001b[0m\u001b[0m__name__\u001b[0m\u001b[1;33m)\u001b[0m\u001b[1;33m)\u001b[0m\u001b[1;33m\u001b[0m\u001b[1;33m\u001b[0m\u001b[0m\n\u001b[0;32m   1134\u001b[0m         \u001b[1;32mif\u001b[0m \u001b[0mlabel\u001b[0m \u001b[1;32mis\u001b[0m \u001b[1;32mnot\u001b[0m \u001b[1;32mNone\u001b[0m\u001b[1;33m:\u001b[0m\u001b[1;33m\u001b[0m\u001b[1;33m\u001b[0m\u001b[0m\n\u001b[1;32m-> 1135\u001b[1;33m             \u001b[0mself\u001b[0m\u001b[1;33m.\u001b[0m\u001b[0mset_label\u001b[0m\u001b[1;33m(\u001b[0m\u001b[0mlabel\u001b[0m\u001b[1;33m)\u001b[0m\u001b[1;33m\u001b[0m\u001b[1;33m\u001b[0m\u001b[0m\n\u001b[0m\u001b[0;32m   1136\u001b[0m         \u001b[1;32mif\u001b[0m \u001b[0mself\u001b[0m\u001b[1;33m.\u001b[0m\u001b[0mget_label\u001b[0m\u001b[1;33m(\u001b[0m\u001b[1;33m)\u001b[0m \u001b[1;32mis\u001b[0m \u001b[1;32mNone\u001b[0m\u001b[1;33m:\u001b[0m\u001b[1;33m\u001b[0m\u001b[1;33m\u001b[0m\u001b[0m\n\u001b[0;32m   1137\u001b[0m             \u001b[1;32mraise\u001b[0m \u001b[0mValueError\u001b[0m\u001b[1;33m(\u001b[0m\u001b[1;34m\"Label should not be None\"\u001b[0m\u001b[1;33m)\u001b[0m\u001b[1;33m\u001b[0m\u001b[1;33m\u001b[0m\u001b[0m\n",
      "\u001b[1;32m~\\anaconda3\\lib\\site-packages\\lightgbm\\basic.py\u001b[0m in \u001b[0;36mset_label\u001b[1;34m(self, label)\u001b[0m\n\u001b[0;32m   1648\u001b[0m         \u001b[0mself\u001b[0m\u001b[1;33m.\u001b[0m\u001b[0mlabel\u001b[0m \u001b[1;33m=\u001b[0m \u001b[0mlabel\u001b[0m\u001b[1;33m\u001b[0m\u001b[1;33m\u001b[0m\u001b[0m\n\u001b[0;32m   1649\u001b[0m         \u001b[1;32mif\u001b[0m \u001b[0mself\u001b[0m\u001b[1;33m.\u001b[0m\u001b[0mhandle\u001b[0m \u001b[1;32mis\u001b[0m \u001b[1;32mnot\u001b[0m \u001b[1;32mNone\u001b[0m\u001b[1;33m:\u001b[0m\u001b[1;33m\u001b[0m\u001b[1;33m\u001b[0m\u001b[0m\n\u001b[1;32m-> 1650\u001b[1;33m             \u001b[0mlabel\u001b[0m \u001b[1;33m=\u001b[0m \u001b[0mlist_to_1d_numpy\u001b[0m\u001b[1;33m(\u001b[0m\u001b[0m_label_from_pandas\u001b[0m\u001b[1;33m(\u001b[0m\u001b[0mlabel\u001b[0m\u001b[1;33m)\u001b[0m\u001b[1;33m,\u001b[0m \u001b[0mname\u001b[0m\u001b[1;33m=\u001b[0m\u001b[1;34m'label'\u001b[0m\u001b[1;33m)\u001b[0m\u001b[1;33m\u001b[0m\u001b[1;33m\u001b[0m\u001b[0m\n\u001b[0m\u001b[0;32m   1651\u001b[0m             \u001b[0mself\u001b[0m\u001b[1;33m.\u001b[0m\u001b[0mset_field\u001b[0m\u001b[1;33m(\u001b[0m\u001b[1;34m'label'\u001b[0m\u001b[1;33m,\u001b[0m \u001b[0mlabel\u001b[0m\u001b[1;33m)\u001b[0m\u001b[1;33m\u001b[0m\u001b[1;33m\u001b[0m\u001b[0m\n\u001b[0;32m   1652\u001b[0m             \u001b[0mself\u001b[0m\u001b[1;33m.\u001b[0m\u001b[0mlabel\u001b[0m \u001b[1;33m=\u001b[0m \u001b[0mself\u001b[0m\u001b[1;33m.\u001b[0m\u001b[0mget_field\u001b[0m\u001b[1;33m(\u001b[0m\u001b[1;34m'label'\u001b[0m\u001b[1;33m)\u001b[0m  \u001b[1;31m# original values can be modified at cpp side\u001b[0m\u001b[1;33m\u001b[0m\u001b[1;33m\u001b[0m\u001b[0m\n",
      "\u001b[1;32m~\\anaconda3\\lib\\site-packages\\lightgbm\\basic.py\u001b[0m in \u001b[0;36mlist_to_1d_numpy\u001b[1;34m(data, dtype, name)\u001b[0m\n\u001b[0;32m     88\u001b[0m     \u001b[1;32melif\u001b[0m \u001b[0misinstance\u001b[0m\u001b[1;33m(\u001b[0m\u001b[0mdata\u001b[0m\u001b[1;33m,\u001b[0m \u001b[0mSeries\u001b[0m\u001b[1;33m)\u001b[0m\u001b[1;33m:\u001b[0m\u001b[1;33m\u001b[0m\u001b[1;33m\u001b[0m\u001b[0m\n\u001b[0;32m     89\u001b[0m         \u001b[1;32mif\u001b[0m \u001b[0m_get_bad_pandas_dtypes\u001b[0m\u001b[1;33m(\u001b[0m\u001b[1;33m[\u001b[0m\u001b[0mdata\u001b[0m\u001b[1;33m.\u001b[0m\u001b[0mdtypes\u001b[0m\u001b[1;33m]\u001b[0m\u001b[1;33m)\u001b[0m\u001b[1;33m:\u001b[0m\u001b[1;33m\u001b[0m\u001b[1;33m\u001b[0m\u001b[0m\n\u001b[1;32m---> 90\u001b[1;33m             \u001b[1;32mraise\u001b[0m \u001b[0mValueError\u001b[0m\u001b[1;33m(\u001b[0m\u001b[1;34m'Series.dtypes must be int, float or bool'\u001b[0m\u001b[1;33m)\u001b[0m\u001b[1;33m\u001b[0m\u001b[1;33m\u001b[0m\u001b[0m\n\u001b[0m\u001b[0;32m     91\u001b[0m         \u001b[1;32mreturn\u001b[0m \u001b[0mnp\u001b[0m\u001b[1;33m.\u001b[0m\u001b[0marray\u001b[0m\u001b[1;33m(\u001b[0m\u001b[0mdata\u001b[0m\u001b[1;33m,\u001b[0m \u001b[0mdtype\u001b[0m\u001b[1;33m=\u001b[0m\u001b[0mdtype\u001b[0m\u001b[1;33m,\u001b[0m \u001b[0mcopy\u001b[0m\u001b[1;33m=\u001b[0m\u001b[1;32mFalse\u001b[0m\u001b[1;33m)\u001b[0m  \u001b[1;31m# SparseArray should be supported as well\u001b[0m\u001b[1;33m\u001b[0m\u001b[1;33m\u001b[0m\u001b[0m\n\u001b[0;32m     92\u001b[0m     \u001b[1;32melse\u001b[0m\u001b[1;33m:\u001b[0m\u001b[1;33m\u001b[0m\u001b[1;33m\u001b[0m\u001b[0m\n",
      "\u001b[1;31mValueError\u001b[0m: Series.dtypes must be int, float or bool"
     ]
    }
   ],
   "source": [
    "#training our model using light gbm\n",
    "\n",
    "num_round=50\n",
    "lgbm=lgb.train(param,train_data,num_round)\n"
   ]
  },
  {
   "cell_type": "code",
   "execution_count": 259,
   "metadata": {},
   "outputs": [
    {
     "output_type": "execute_result",
     "data": {
      "text/plain": [
       "(array([0.34066567, 0.13633306, 0.29855903, 0.12955475, 0.40474291]),\n",
       " array([0.01947293, 0.11574253, 0.11109438, 0.34199241, 0.28429385]))"
      ]
     },
     "metadata": {},
     "execution_count": 259
    }
   ],
   "source": [
    "xpred2=lgbm.predict(X_train_encoded)\n",
    "#predicting on test set\n",
    "ypred2=lgbm.predict(X_val_encoded)\n",
    "ypred2[0:5],xpred2[0:5]"
   ]
  },
  {
   "cell_type": "code",
   "execution_count": 260,
   "metadata": {},
   "outputs": [
    {
     "output_type": "execute_result",
     "data": {
      "text/plain": [
       "0.7065847547488038"
      ]
     },
     "metadata": {},
     "execution_count": 260
    }
   ],
   "source": [
    "auc_lgb1 =  roc_auc_score(y_train,xpred2)\n",
    "auc_lgb1"
   ]
  },
  {
   "cell_type": "code",
   "execution_count": 269,
   "metadata": {},
   "outputs": [],
   "source": [
    "ypred3=lgbm.predict(df_test_encoded)"
   ]
  },
  {
   "cell_type": "code",
   "execution_count": 271,
   "metadata": {},
   "outputs": [
    {
     "output_type": "execute_result",
     "data": {
      "text/plain": [
       "array([0.30082134, 0.26435779, 0.26145602, ..., 0.06093641, 0.2715163 ,\n",
       "       0.22385874])"
      ]
     },
     "metadata": {},
     "execution_count": 271
    }
   ],
   "source": [
    "ypred3"
   ]
  },
  {
   "cell_type": "code",
   "execution_count": 272,
   "metadata": {},
   "outputs": [
    {
     "output_type": "execute_result",
     "data": {
      "text/plain": [
       "(0.019124163166877865, 0.5508152274963309)"
      ]
     },
     "metadata": {},
     "execution_count": 272
    }
   ],
   "source": [
    "ypred3.min(),ypred3.max()"
   ]
  },
  {
   "cell_type": "code",
   "execution_count": 270,
   "metadata": {},
   "outputs": [
    {
     "output_type": "execute_result",
     "data": {
      "text/plain": [
       "          ID  Response\n",
       "0      50883         0\n",
       "1      50884         0\n",
       "2      50885         0\n",
       "3      50886         0\n",
       "4      50887         0\n",
       "...      ...       ...\n",
       "21800  72683         0\n",
       "21801  72684         0\n",
       "21802  72685         0\n",
       "21803  72686         0\n",
       "21804  72687         0\n",
       "\n",
       "[21805 rows x 2 columns]"
      ],
      "text/html": "<div>\n<style scoped>\n    .dataframe tbody tr th:only-of-type {\n        vertical-align: middle;\n    }\n\n    .dataframe tbody tr th {\n        vertical-align: top;\n    }\n\n    .dataframe thead th {\n        text-align: right;\n    }\n</style>\n<table border=\"1\" class=\"dataframe\">\n  <thead>\n    <tr style=\"text-align: right;\">\n      <th></th>\n      <th>ID</th>\n      <th>Response</th>\n    </tr>\n  </thead>\n  <tbody>\n    <tr>\n      <th>0</th>\n      <td>50883</td>\n      <td>0</td>\n    </tr>\n    <tr>\n      <th>1</th>\n      <td>50884</td>\n      <td>0</td>\n    </tr>\n    <tr>\n      <th>2</th>\n      <td>50885</td>\n      <td>0</td>\n    </tr>\n    <tr>\n      <th>3</th>\n      <td>50886</td>\n      <td>0</td>\n    </tr>\n    <tr>\n      <th>4</th>\n      <td>50887</td>\n      <td>0</td>\n    </tr>\n    <tr>\n      <th>...</th>\n      <td>...</td>\n      <td>...</td>\n    </tr>\n    <tr>\n      <th>21800</th>\n      <td>72683</td>\n      <td>0</td>\n    </tr>\n    <tr>\n      <th>21801</th>\n      <td>72684</td>\n      <td>0</td>\n    </tr>\n    <tr>\n      <th>21802</th>\n      <td>72685</td>\n      <td>0</td>\n    </tr>\n    <tr>\n      <th>21803</th>\n      <td>72686</td>\n      <td>0</td>\n    </tr>\n    <tr>\n      <th>21804</th>\n      <td>72687</td>\n      <td>0</td>\n    </tr>\n  </tbody>\n</table>\n<p>21805 rows × 2 columns</p>\n</div>"
     },
     "metadata": {},
     "execution_count": 270
    }
   ],
   "source": [
    "df_submit"
   ]
  },
  {
   "cell_type": "code",
   "execution_count": null,
   "metadata": {},
   "outputs": [],
   "source": []
  },
  {
   "source": [
    "## Applying xgboost"
   ],
   "cell_type": "markdown",
   "metadata": {}
  },
  {
   "cell_type": "code",
   "execution_count": 261,
   "metadata": {},
   "outputs": [],
   "source": [
    "#The data is stored in a DMatrix object \n",
    "#label is used to define our outcome variable\n",
    "dtrain=xgb.DMatrix(X_train_encoded,label=y_train)\n",
    "dtest=xgb.DMatrix(X_val_encoded)"
   ]
  },
  {
   "cell_type": "code",
   "execution_count": 262,
   "metadata": {},
   "outputs": [],
   "source": [
    "# dtest1=xgb.DMatrix(test)"
   ]
  },
  {
   "cell_type": "code",
   "execution_count": 263,
   "metadata": {},
   "outputs": [],
   "source": [
    "#setting parameters for xgboost\n",
    "parameters={'max_depth':7, 'eta':1, 'silent':1,'objective':'binary:logistic','eval_metric':'auc','learning_rate':.05}"
   ]
  },
  {
   "cell_type": "code",
   "execution_count": 264,
   "metadata": {},
   "outputs": [
    {
     "output_type": "stream",
     "name": "stdout",
     "text": [
      "[08:25:29] WARNING: C:/Users/Administrator/workspace/xgboost-win64_release_1.3.0/src/learner.cc:541: \nParameters: { silent } might not be used.\n\n  This may not be accurate due to some parameters are only used in language bindings but\n  passed down to XGBoost core.  Or some parameters are not used but slip through this\n  verification. Please open an issue if you find above cases.\n\n\n"
     ]
    }
   ],
   "source": [
    "#training our model \n",
    "num_round=50\n",
    " \n",
    "xg1=xgb.train(parameters,dtrain,num_round) \n"
   ]
  },
  {
   "cell_type": "code",
   "execution_count": 265,
   "metadata": {},
   "outputs": [
    {
     "output_type": "execute_result",
     "data": {
      "text/plain": [
       "(array([0.361531  , 0.14934531, 0.32559824, ..., 0.28739503, 0.27146405,\n",
       "        0.29766655], dtype=float32),\n",
       " array([0.04333771, 0.13101424, 0.12404616, ..., 0.21275556, 0.29013   ,\n",
       "        0.2629443 ], dtype=float32))"
      ]
     },
     "metadata": {},
     "execution_count": 265
    }
   ],
   "source": [
    "xpred3=xg1.predict(dtrain) \n",
    "ypred3=xg1.predict(dtest) \n",
    "ypred3, xpred3"
   ]
  },
  {
   "cell_type": "code",
   "execution_count": 266,
   "metadata": {},
   "outputs": [
    {
     "output_type": "execute_result",
     "data": {
      "text/plain": [
       "0.6607246350754631"
      ]
     },
     "metadata": {},
     "execution_count": 266
    }
   ],
   "source": [
    "\n",
    "auc_xgb =  roc_auc_score(y_val,ypred3)\n",
    "auc_xgb"
   ]
  },
  {
   "cell_type": "code",
   "execution_count": null,
   "metadata": {},
   "outputs": [],
   "source": []
  },
  {
   "cell_type": "code",
   "execution_count": null,
   "metadata": {},
   "outputs": [],
   "source": []
  },
  {
   "cell_type": "code",
   "execution_count": null,
   "metadata": {},
   "outputs": [],
   "source": []
  },
  {
   "cell_type": "code",
   "execution_count": null,
   "metadata": {},
   "outputs": [],
   "source": []
  },
  {
   "cell_type": "code",
   "execution_count": null,
   "metadata": {},
   "outputs": [],
   "source": []
  },
  {
   "cell_type": "code",
   "execution_count": null,
   "metadata": {},
   "outputs": [],
   "source": []
  },
  {
   "cell_type": "code",
   "execution_count": null,
   "metadata": {},
   "outputs": [],
   "source": []
  }
 ]
}