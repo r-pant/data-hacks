{
 "cells": [
  {
   "cell_type": "markdown",
   "metadata": {},
   "source": [
    "# LearnX Sales Forecasting"
   ]
  },
  {
   "cell_type": "markdown",
   "metadata": {},
   "source": [
    "---\n",
    "### Problem Statement:\n",
    "    \n",
    "LearnX is an online learning platform aimed at professionals and students. LearnX serves as a market place that allows instructors to build online courses on topics of their expertise which is later published after due diligence by the LearnX team. The platform covers a wide variety of topics including Development, Business, Finance & Accounting & Software Marketing and so on\n",
    "\n",
    "Effective forecasting for course sales gives essential insight into upcoming cash flow meaning business can more accurately plan the budget to pay instructors and other operational costs and invest in the expansion of the business.\n",
    "\n",
    "Sales data for more than 2 years from 600 courses of LearnX's top domains is available along with information on\n",
    "\n",
    "    Competition in the market for each course\n",
    "    Course Type (Course/Program/Degree)\n",
    "    Holiday Information for each day\n",
    "    User Traffic on Course Page for each day\n",
    "    Your task is to predict the course sales for each course in the test set for the next 60 days\n",
    "\n",
    "---\n"
   ]
  },
  {
   "cell_type": "markdown",
   "metadata": {},
   "source": [
    "### Data Dictionary\n",
    "\n",
    "\n",
    "---\n",
    "\n",
    "Data Dictionary\n",
    "\n",
    "Train (Historical Sales Data)\n",
    "\n",
    "    Variable\t           Definition\n",
    "    ID\t                Unique Identifier for a row\n",
    "    Day_No\t            Day Number\n",
    "    Course_ID\t        Unique ID for a course\n",
    "    Course_Domain\t    Course Domain (Development, Finance etc.)\n",
    "    Course_Type\t        Course/Program/Degree\n",
    "    Short_Promotion\t    Whether Short Term Promotion is Live\n",
    "    Public_Holiday\t    Regional/Public Holiday\n",
    "    Long_Promotion\t    Whether Long Term Promotion is Live for the course\n",
    "    User_Traffic\t    Number of customers landing on the course page\n",
    "    Competition_Metric\tA metric defining the strength of competition \n",
    "    Sales\t            (Target) Total Course Sales\n",
    "\n",
    "---\n",
    "Test (next 60 days)\n",
    "\n",
    "\n",
    "    Variable\t         Definition\n",
    "    ID\t              Unique Identifier for a row\n",
    "    Day_No\t          Day Number\n",
    "    Course_ID\t      Unique ID for a course\n",
    "    Course_Domain\t  Course Domain (Development, Finance etc.)\n",
    "    Course_Type\t      Course/Program/Degree\n",
    "    Short_Promotion\t  Whether Short Term Promotion is Live\n",
    "    Public_Holiday\t  Regional/Public Holiday\n",
    "    Long_Promotion\t  Whether Long Term Promotion is Live for the course\n",
    "    Competition_Metric\tA metric defining the strength of competition\n",
    "    \n",
    "   ---\n"
   ]
  },
  {
   "cell_type": "markdown",
   "metadata": {},
   "source": [
    "## Index:\n",
    "\n",
    "       1. Data import\n",
    "       2. Data validation\n",
    "       3. Null value imputation\n",
    "       4. UVA\n",
    "       5. BVA\n",
    "       6. Model building\n",
    "       7. Tuning\n",
    "       8. Result submission"
   ]
  },
  {
   "cell_type": "code",
   "execution_count": 1,
   "metadata": {},
   "outputs": [],
   "source": [
    "import numpy as np\n",
    "import pandas as pd\n",
    "import matplotlib.pyplot as plt\n",
    "%matplotlib inline\n",
    "\n",
    "\n",
    "import seaborn as sns\n",
    "import math\n",
    "from sklearn.model_selection import train_test_split\n",
    "\n",
    "from scipy.stats import norm\n",
    "from sklearn.preprocessing import StandardScaler\n",
    "from scipy import stats\n",
    "import warnings\n",
    "warnings.filterwarnings(\"ignore\")\n",
    "from sklearn import model_selection\n",
    "from sklearn.metrics import accuracy_score\n",
    "from sklearn.linear_model import LogisticRegression, LinearRegression, Ridge, Lasso, ElasticNet\n",
    "from sklearn.ensemble import RandomForestRegressor\n",
    "import catboost\n",
    "import lightgbm\n",
    "from sklearn import preprocessing\n",
    "from sklearn.model_selection import KFold\n",
    "import tqdm"
   ]
  },
  {
   "cell_type": "code",
   "execution_count": 2,
   "metadata": {},
   "outputs": [],
   "source": [
    "from catboost import CatBoostRegressor\n",
    "\n",
    "from sklearn.metrics import mean_squared_error\n",
    "from math import sqrt"
   ]
  },
  {
   "cell_type": "code",
   "execution_count": 3,
   "metadata": {},
   "outputs": [],
   "source": [
    "# defining evaluation metric:\n",
    "def rmsle_t(actual, predicted):\n",
    "    return 1000*(np.sqrt(np.mean((np.power(np.log(np.array(actual)+1) -\n",
    "                                           np.log(np.array(predicted)+1), 2)))\n",
    "                        ))\n"
   ]
  },
  {
   "cell_type": "markdown",
   "metadata": {},
   "source": [
    "### Importing the data"
   ]
  },
  {
   "cell_type": "code",
   "execution_count": 4,
   "metadata": {},
   "outputs": [
    {
     "name": "stdout",
     "output_type": "stream",
     "text": [
      "Data imported\n"
     ]
    }
   ],
   "source": [
    "data = pd.read_csv('train.csv')\n",
    "test = pd.read_csv('test.csv')\n",
    "print('Data imported')"
   ]
  },
  {
   "cell_type": "code",
   "execution_count": 5,
   "metadata": {},
   "outputs": [],
   "source": [
    "test_orig = pd.read_csv('test.csv')"
   ]
  },
  {
   "cell_type": "code",
   "execution_count": null,
   "metadata": {},
   "outputs": [],
   "source": []
  },
  {
   "cell_type": "code",
   "execution_count": 6,
   "metadata": {},
   "outputs": [
    {
     "data": {
      "text/plain": [
       "((512087, 11), (36000, 9))"
      ]
     },
     "execution_count": 6,
     "metadata": {},
     "output_type": "execute_result"
    }
   ],
   "source": [
    "data.shape, test.shape"
   ]
  },
  {
   "cell_type": "code",
   "execution_count": 7,
   "metadata": {},
   "outputs": [
    {
     "data": {
      "text/html": [
       "<div>\n",
       "<style scoped>\n",
       "    .dataframe tbody tr th:only-of-type {\n",
       "        vertical-align: middle;\n",
       "    }\n",
       "\n",
       "    .dataframe tbody tr th {\n",
       "        vertical-align: top;\n",
       "    }\n",
       "\n",
       "    .dataframe thead th {\n",
       "        text-align: right;\n",
       "    }\n",
       "</style>\n",
       "<table border=\"1\" class=\"dataframe\">\n",
       "  <thead>\n",
       "    <tr style=\"text-align: right;\">\n",
       "      <th></th>\n",
       "      <th>ID</th>\n",
       "      <th>Day_No</th>\n",
       "      <th>Course_ID</th>\n",
       "      <th>Course_Domain</th>\n",
       "      <th>Course_Type</th>\n",
       "      <th>Short_Promotion</th>\n",
       "      <th>Public_Holiday</th>\n",
       "      <th>Long_Promotion</th>\n",
       "      <th>User_Traffic</th>\n",
       "      <th>Competition_Metric</th>\n",
       "      <th>Sales</th>\n",
       "    </tr>\n",
       "  </thead>\n",
       "  <tbody>\n",
       "    <tr>\n",
       "      <th>0</th>\n",
       "      <td>1</td>\n",
       "      <td>1</td>\n",
       "      <td>1</td>\n",
       "      <td>Development</td>\n",
       "      <td>Course</td>\n",
       "      <td>0</td>\n",
       "      <td>1</td>\n",
       "      <td>1</td>\n",
       "      <td>11004</td>\n",
       "      <td>0.007</td>\n",
       "      <td>81</td>\n",
       "    </tr>\n",
       "    <tr>\n",
       "      <th>1</th>\n",
       "      <td>2</td>\n",
       "      <td>2</td>\n",
       "      <td>1</td>\n",
       "      <td>Development</td>\n",
       "      <td>Course</td>\n",
       "      <td>0</td>\n",
       "      <td>0</td>\n",
       "      <td>1</td>\n",
       "      <td>13650</td>\n",
       "      <td>0.007</td>\n",
       "      <td>79</td>\n",
       "    </tr>\n",
       "    <tr>\n",
       "      <th>2</th>\n",
       "      <td>3</td>\n",
       "      <td>3</td>\n",
       "      <td>1</td>\n",
       "      <td>Development</td>\n",
       "      <td>Course</td>\n",
       "      <td>0</td>\n",
       "      <td>0</td>\n",
       "      <td>1</td>\n",
       "      <td>11655</td>\n",
       "      <td>0.007</td>\n",
       "      <td>75</td>\n",
       "    </tr>\n",
       "    <tr>\n",
       "      <th>3</th>\n",
       "      <td>4</td>\n",
       "      <td>4</td>\n",
       "      <td>1</td>\n",
       "      <td>Development</td>\n",
       "      <td>Course</td>\n",
       "      <td>0</td>\n",
       "      <td>0</td>\n",
       "      <td>1</td>\n",
       "      <td>12054</td>\n",
       "      <td>0.007</td>\n",
       "      <td>80</td>\n",
       "    </tr>\n",
       "    <tr>\n",
       "      <th>4</th>\n",
       "      <td>5</td>\n",
       "      <td>5</td>\n",
       "      <td>1</td>\n",
       "      <td>Development</td>\n",
       "      <td>Course</td>\n",
       "      <td>0</td>\n",
       "      <td>0</td>\n",
       "      <td>1</td>\n",
       "      <td>6804</td>\n",
       "      <td>0.007</td>\n",
       "      <td>41</td>\n",
       "    </tr>\n",
       "  </tbody>\n",
       "</table>\n",
       "</div>"
      ],
      "text/plain": [
       "   ID  Day_No  Course_ID Course_Domain Course_Type  Short_Promotion  \\\n",
       "0   1       1          1   Development      Course                0   \n",
       "1   2       2          1   Development      Course                0   \n",
       "2   3       3          1   Development      Course                0   \n",
       "3   4       4          1   Development      Course                0   \n",
       "4   5       5          1   Development      Course                0   \n",
       "\n",
       "   Public_Holiday  Long_Promotion  User_Traffic  Competition_Metric  Sales  \n",
       "0               1               1         11004               0.007     81  \n",
       "1               0               1         13650               0.007     79  \n",
       "2               0               1         11655               0.007     75  \n",
       "3               0               1         12054               0.007     80  \n",
       "4               0               1          6804               0.007     41  "
      ]
     },
     "execution_count": 7,
     "metadata": {},
     "output_type": "execute_result"
    }
   ],
   "source": [
    "# check a sample of train data\n",
    "data.head()"
   ]
  },
  {
   "cell_type": "code",
   "execution_count": 8,
   "metadata": {},
   "outputs": [
    {
     "data": {
      "text/html": [
       "<div>\n",
       "<style scoped>\n",
       "    .dataframe tbody tr th:only-of-type {\n",
       "        vertical-align: middle;\n",
       "    }\n",
       "\n",
       "    .dataframe tbody tr th {\n",
       "        vertical-align: top;\n",
       "    }\n",
       "\n",
       "    .dataframe thead th {\n",
       "        text-align: right;\n",
       "    }\n",
       "</style>\n",
       "<table border=\"1\" class=\"dataframe\">\n",
       "  <thead>\n",
       "    <tr style=\"text-align: right;\">\n",
       "      <th></th>\n",
       "      <th>ID</th>\n",
       "      <th>Day_No</th>\n",
       "      <th>Course_ID</th>\n",
       "      <th>Course_Domain</th>\n",
       "      <th>Course_Type</th>\n",
       "      <th>Short_Promotion</th>\n",
       "      <th>Public_Holiday</th>\n",
       "      <th>Long_Promotion</th>\n",
       "      <th>Competition_Metric</th>\n",
       "    </tr>\n",
       "  </thead>\n",
       "  <tbody>\n",
       "    <tr>\n",
       "      <th>0</th>\n",
       "      <td>883</td>\n",
       "      <td>883</td>\n",
       "      <td>1</td>\n",
       "      <td>Development</td>\n",
       "      <td>Course</td>\n",
       "      <td>1</td>\n",
       "      <td>0</td>\n",
       "      <td>1</td>\n",
       "      <td>0.007</td>\n",
       "    </tr>\n",
       "    <tr>\n",
       "      <th>1</th>\n",
       "      <td>884</td>\n",
       "      <td>884</td>\n",
       "      <td>1</td>\n",
       "      <td>Development</td>\n",
       "      <td>Course</td>\n",
       "      <td>1</td>\n",
       "      <td>0</td>\n",
       "      <td>1</td>\n",
       "      <td>0.007</td>\n",
       "    </tr>\n",
       "    <tr>\n",
       "      <th>2</th>\n",
       "      <td>885</td>\n",
       "      <td>885</td>\n",
       "      <td>1</td>\n",
       "      <td>Development</td>\n",
       "      <td>Course</td>\n",
       "      <td>1</td>\n",
       "      <td>0</td>\n",
       "      <td>1</td>\n",
       "      <td>0.007</td>\n",
       "    </tr>\n",
       "    <tr>\n",
       "      <th>3</th>\n",
       "      <td>886</td>\n",
       "      <td>886</td>\n",
       "      <td>1</td>\n",
       "      <td>Development</td>\n",
       "      <td>Course</td>\n",
       "      <td>1</td>\n",
       "      <td>0</td>\n",
       "      <td>1</td>\n",
       "      <td>0.007</td>\n",
       "    </tr>\n",
       "    <tr>\n",
       "      <th>4</th>\n",
       "      <td>887</td>\n",
       "      <td>887</td>\n",
       "      <td>1</td>\n",
       "      <td>Development</td>\n",
       "      <td>Course</td>\n",
       "      <td>0</td>\n",
       "      <td>0</td>\n",
       "      <td>1</td>\n",
       "      <td>0.007</td>\n",
       "    </tr>\n",
       "  </tbody>\n",
       "</table>\n",
       "</div>"
      ],
      "text/plain": [
       "    ID  Day_No  Course_ID Course_Domain Course_Type  Short_Promotion  \\\n",
       "0  883     883          1   Development      Course                1   \n",
       "1  884     884          1   Development      Course                1   \n",
       "2  885     885          1   Development      Course                1   \n",
       "3  886     886          1   Development      Course                1   \n",
       "4  887     887          1   Development      Course                0   \n",
       "\n",
       "   Public_Holiday  Long_Promotion  Competition_Metric  \n",
       "0               0               1               0.007  \n",
       "1               0               1               0.007  \n",
       "2               0               1               0.007  \n",
       "3               0               1               0.007  \n",
       "4               0               1               0.007  "
      ]
     },
     "execution_count": 8,
     "metadata": {},
     "output_type": "execute_result"
    }
   ],
   "source": [
    "test.head()"
   ]
  },
  {
   "cell_type": "markdown",
   "metadata": {},
   "source": [
    "## Data validation"
   ]
  },
  {
   "cell_type": "markdown",
   "metadata": {},
   "source": [
    "Check for data types"
   ]
  },
  {
   "cell_type": "code",
   "execution_count": 9,
   "metadata": {},
   "outputs": [
    {
     "data": {
      "text/plain": [
       "ID                      int64\n",
       "Day_No                  int64\n",
       "Course_ID               int64\n",
       "Course_Domain          object\n",
       "Course_Type            object\n",
       "Short_Promotion         int64\n",
       "Public_Holiday          int64\n",
       "Long_Promotion          int64\n",
       "User_Traffic            int64\n",
       "Competition_Metric    float64\n",
       "Sales                   int64\n",
       "dtype: object"
      ]
     },
     "execution_count": 9,
     "metadata": {},
     "output_type": "execute_result"
    }
   ],
   "source": [
    "data.dtypes"
   ]
  },
  {
   "cell_type": "code",
   "execution_count": 10,
   "metadata": {},
   "outputs": [
    {
     "data": {
      "text/plain": [
       "ID                    512087\n",
       "Day_No                   882\n",
       "Course_ID                600\n",
       "Course_Domain              4\n",
       "Course_Type                3\n",
       "Short_Promotion            2\n",
       "Public_Holiday             2\n",
       "Long_Promotion             2\n",
       "User_Traffic            3475\n",
       "Competition_Metric       196\n",
       "Sales                    544\n",
       "dtype: int64"
      ]
     },
     "execution_count": 10,
     "metadata": {},
     "output_type": "execute_result"
    }
   ],
   "source": [
    "data.nunique()"
   ]
  },
  {
   "cell_type": "code",
   "execution_count": 11,
   "metadata": {},
   "outputs": [
    {
     "data": {
      "text/plain": [
       "ID                    36000\n",
       "Day_No                   60\n",
       "Course_ID               600\n",
       "Course_Domain             4\n",
       "Course_Type               3\n",
       "Short_Promotion           2\n",
       "Public_Holiday            2\n",
       "Long_Promotion            2\n",
       "Competition_Metric      196\n",
       "dtype: int64"
      ]
     },
     "execution_count": 11,
     "metadata": {},
     "output_type": "execute_result"
    }
   ],
   "source": [
    "test.nunique()"
   ]
  },
  {
   "cell_type": "code",
   "execution_count": 12,
   "metadata": {},
   "outputs": [
    {
     "data": {
      "text/html": [
       "<div>\n",
       "<style scoped>\n",
       "    .dataframe tbody tr th:only-of-type {\n",
       "        vertical-align: middle;\n",
       "    }\n",
       "\n",
       "    .dataframe tbody tr th {\n",
       "        vertical-align: top;\n",
       "    }\n",
       "\n",
       "    .dataframe thead th {\n",
       "        text-align: right;\n",
       "    }\n",
       "</style>\n",
       "<table border=\"1\" class=\"dataframe\">\n",
       "  <thead>\n",
       "    <tr style=\"text-align: right;\">\n",
       "      <th></th>\n",
       "      <th>count</th>\n",
       "      <th>mean</th>\n",
       "      <th>std</th>\n",
       "      <th>min</th>\n",
       "      <th>25%</th>\n",
       "      <th>50%</th>\n",
       "      <th>75%</th>\n",
       "      <th>max</th>\n",
       "    </tr>\n",
       "  </thead>\n",
       "  <tbody>\n",
       "    <tr>\n",
       "      <th>ID</th>\n",
       "      <td>512087.0</td>\n",
       "      <td>274007.300650</td>\n",
       "      <td>158228.834029</td>\n",
       "      <td>1.0</td>\n",
       "      <td>136962.50</td>\n",
       "      <td>273984.000</td>\n",
       "      <td>411065.500</td>\n",
       "      <td>548027.000</td>\n",
       "    </tr>\n",
       "    <tr>\n",
       "      <th>Day_No</th>\n",
       "      <td>512087.0</td>\n",
       "      <td>434.917869</td>\n",
       "      <td>256.044161</td>\n",
       "      <td>1.0</td>\n",
       "      <td>214.00</td>\n",
       "      <td>427.000</td>\n",
       "      <td>658.000</td>\n",
       "      <td>882.000</td>\n",
       "    </tr>\n",
       "    <tr>\n",
       "      <th>Course_ID</th>\n",
       "      <td>512087.0</td>\n",
       "      <td>300.388344</td>\n",
       "      <td>173.365787</td>\n",
       "      <td>1.0</td>\n",
       "      <td>150.00</td>\n",
       "      <td>300.000</td>\n",
       "      <td>451.000</td>\n",
       "      <td>600.000</td>\n",
       "    </tr>\n",
       "    <tr>\n",
       "      <th>Short_Promotion</th>\n",
       "      <td>512087.0</td>\n",
       "      <td>0.380244</td>\n",
       "      <td>0.485447</td>\n",
       "      <td>0.0</td>\n",
       "      <td>0.00</td>\n",
       "      <td>0.000</td>\n",
       "      <td>1.000</td>\n",
       "      <td>1.000</td>\n",
       "    </tr>\n",
       "    <tr>\n",
       "      <th>Public_Holiday</th>\n",
       "      <td>512087.0</td>\n",
       "      <td>0.031639</td>\n",
       "      <td>0.175038</td>\n",
       "      <td>0.0</td>\n",
       "      <td>0.00</td>\n",
       "      <td>0.000</td>\n",
       "      <td>0.000</td>\n",
       "      <td>1.000</td>\n",
       "    </tr>\n",
       "    <tr>\n",
       "      <th>Long_Promotion</th>\n",
       "      <td>512087.0</td>\n",
       "      <td>0.488968</td>\n",
       "      <td>0.499879</td>\n",
       "      <td>0.0</td>\n",
       "      <td>0.00</td>\n",
       "      <td>0.000</td>\n",
       "      <td>1.000</td>\n",
       "      <td>1.000</td>\n",
       "    </tr>\n",
       "    <tr>\n",
       "      <th>User_Traffic</th>\n",
       "      <td>512087.0</td>\n",
       "      <td>15375.101198</td>\n",
       "      <td>7727.231205</td>\n",
       "      <td>168.0</td>\n",
       "      <td>10584.00</td>\n",
       "      <td>13776.000</td>\n",
       "      <td>18123.000</td>\n",
       "      <td>100002.000</td>\n",
       "    </tr>\n",
       "    <tr>\n",
       "      <th>Competition_Metric</th>\n",
       "      <td>510323.0</td>\n",
       "      <td>0.073345</td>\n",
       "      <td>0.100115</td>\n",
       "      <td>0.0</td>\n",
       "      <td>0.01</td>\n",
       "      <td>0.035</td>\n",
       "      <td>0.094</td>\n",
       "      <td>0.768</td>\n",
       "    </tr>\n",
       "    <tr>\n",
       "      <th>Sales</th>\n",
       "      <td>512087.0</td>\n",
       "      <td>120.826924</td>\n",
       "      <td>54.355258</td>\n",
       "      <td>0.0</td>\n",
       "      <td>84.00</td>\n",
       "      <td>111.000</td>\n",
       "      <td>146.000</td>\n",
       "      <td>682.000</td>\n",
       "    </tr>\n",
       "  </tbody>\n",
       "</table>\n",
       "</div>"
      ],
      "text/plain": [
       "                       count           mean            std    min        25%  \\\n",
       "ID                  512087.0  274007.300650  158228.834029    1.0  136962.50   \n",
       "Day_No              512087.0     434.917869     256.044161    1.0     214.00   \n",
       "Course_ID           512087.0     300.388344     173.365787    1.0     150.00   \n",
       "Short_Promotion     512087.0       0.380244       0.485447    0.0       0.00   \n",
       "Public_Holiday      512087.0       0.031639       0.175038    0.0       0.00   \n",
       "Long_Promotion      512087.0       0.488968       0.499879    0.0       0.00   \n",
       "User_Traffic        512087.0   15375.101198    7727.231205  168.0   10584.00   \n",
       "Competition_Metric  510323.0       0.073345       0.100115    0.0       0.01   \n",
       "Sales               512087.0     120.826924      54.355258    0.0      84.00   \n",
       "\n",
       "                           50%         75%         max  \n",
       "ID                  273984.000  411065.500  548027.000  \n",
       "Day_No                 427.000     658.000     882.000  \n",
       "Course_ID              300.000     451.000     600.000  \n",
       "Short_Promotion          0.000       1.000       1.000  \n",
       "Public_Holiday           0.000       0.000       1.000  \n",
       "Long_Promotion           0.000       1.000       1.000  \n",
       "User_Traffic         13776.000   18123.000  100002.000  \n",
       "Competition_Metric       0.035       0.094       0.768  \n",
       "Sales                  111.000     146.000     682.000  "
      ]
     },
     "execution_count": 12,
     "metadata": {},
     "output_type": "execute_result"
    }
   ],
   "source": [
    "data.describe().T"
   ]
  },
  {
   "cell_type": "markdown",
   "metadata": {},
   "source": [
    "---\n",
    "\n",
    "    Day no        -    no of days - cont data\n",
    "    Course_ID     -    unique id of course\n",
    "    Course domain -    (Development, Software marketing, Finance & Accounting, Business)  -categorical data\n",
    "    Course_Type   -    (Course, Program, Degree) - Categorical data\n",
    "    Short_Promotion -  (0,1) - categorical data\n",
    "    Public_Holiday  -  (0,1) - categorical data\n",
    "    Long_Promotion  -  (0,1) - categorical data\n",
    "\n",
    "---"
   ]
  },
  {
   "cell_type": "markdown",
   "metadata": {},
   "source": [
    "    ID and Course ID being unique identifier\n",
    "\n",
    "    Day_No - min- 1 to max - 882 representing each day\n",
    "    User_Traffic - \n",
    "    Competition_Metric - Score given to the course based on the competition in market\n",
    "    Sales - target variable, showing number of times course purchased.\n",
    "\n",
    "\n",
    "\n"
   ]
  },
  {
   "cell_type": "markdown",
   "metadata": {},
   "source": [
    "--- \n",
    "\n",
    "User traffic and sales show most variance interms of data distribution, we might have to cap the outliers\n",
    "\n"
   ]
  },
  {
   "cell_type": "code",
   "execution_count": 13,
   "metadata": {},
   "outputs": [
    {
     "data": {
      "text/plain": [
       "<matplotlib.axes._subplots.AxesSubplot at 0x203949319c8>"
      ]
     },
     "execution_count": 13,
     "metadata": {},
     "output_type": "execute_result"
    },
    {
     "data": {
      "image/png": "[encoded data removed]",
      "text/plain": [
       "<Figure size 432x288 with 1 Axes>"
      ]
     },
     "metadata": {
      "needs_background": "light"
     },
     "output_type": "display_data"
    }
   ],
   "source": [
    "sns.distplot(data['Sales'])"
   ]
  },
  {
   "cell_type": "code",
   "execution_count": 14,
   "metadata": {},
   "outputs": [
    {
     "data": {
      "text/plain": [
       "<matplotlib.axes._subplots.AxesSubplot at 0x203949d1bc8>"
      ]
     },
     "execution_count": 14,
     "metadata": {},
     "output_type": "execute_result"
    },
    {
     "data": {
      "image/png": "[encoded data removed]",
      "text/plain": [
       "<Figure size 432x288 with 1 Axes>"
      ]
     },
     "metadata": {
      "needs_background": "light"
     },
     "output_type": "display_data"
    }
   ],
   "source": [
    "sns.distplot(data['Competition_Metric'])"
   ]
  },
  {
   "cell_type": "code",
   "execution_count": 15,
   "metadata": {},
   "outputs": [
    {
     "data": {
      "text/plain": [
       "<matplotlib.axes._subplots.AxesSubplot at 0x20394a90b48>"
      ]
     },
     "execution_count": 15,
     "metadata": {},
     "output_type": "execute_result"
    },
    {
     "data": {
      "image/png": "[encoded data removed]",
      "text/plain": [
       "<Figure size 432x288 with 1 Axes>"
      ]
     },
     "metadata": {
      "needs_background": "light"
     },
     "output_type": "display_data"
    }
   ],
   "source": [
    "sns.distplot(data['User_Traffic'])"
   ]
  },
  {
   "cell_type": "markdown",
   "metadata": {},
   "source": [
    "### Outlier Capping"
   ]
  },
  {
   "cell_type": "code",
   "execution_count": 16,
   "metadata": {},
   "outputs": [
    {
     "data": {
      "text/html": [
       "<div>\n",
       "<style scoped>\n",
       "    .dataframe tbody tr th:only-of-type {\n",
       "        vertical-align: middle;\n",
       "    }\n",
       "\n",
       "    .dataframe tbody tr th {\n",
       "        vertical-align: top;\n",
       "    }\n",
       "\n",
       "    .dataframe thead th {\n",
       "        text-align: right;\n",
       "    }\n",
       "</style>\n",
       "<table border=\"1\" class=\"dataframe\">\n",
       "  <thead>\n",
       "    <tr style=\"text-align: right;\">\n",
       "      <th></th>\n",
       "      <th>count</th>\n",
       "      <th>mean</th>\n",
       "      <th>std</th>\n",
       "      <th>min</th>\n",
       "      <th>1%</th>\n",
       "      <th>5%</th>\n",
       "      <th>50%</th>\n",
       "      <th>95%</th>\n",
       "      <th>99%</th>\n",
       "      <th>max</th>\n",
       "    </tr>\n",
       "  </thead>\n",
       "  <tbody>\n",
       "    <tr>\n",
       "      <th>ID</th>\n",
       "      <td>512087.0</td>\n",
       "      <td>274007.300650</td>\n",
       "      <td>158228.834029</td>\n",
       "      <td>1.0</td>\n",
       "      <td>5421.86</td>\n",
       "      <td>27345.300</td>\n",
       "      <td>273984.000</td>\n",
       "      <td>520682.700</td>\n",
       "      <td>542546.140</td>\n",
       "      <td>548027.000</td>\n",
       "    </tr>\n",
       "    <tr>\n",
       "      <th>Day_No</th>\n",
       "      <td>512087.0</td>\n",
       "      <td>434.917869</td>\n",
       "      <td>256.044161</td>\n",
       "      <td>1.0</td>\n",
       "      <td>9.00</td>\n",
       "      <td>43.000</td>\n",
       "      <td>427.000</td>\n",
       "      <td>840.000</td>\n",
       "      <td>874.000</td>\n",
       "      <td>882.000</td>\n",
       "    </tr>\n",
       "    <tr>\n",
       "      <th>Course_ID</th>\n",
       "      <td>512087.0</td>\n",
       "      <td>300.388344</td>\n",
       "      <td>173.365787</td>\n",
       "      <td>1.0</td>\n",
       "      <td>6.00</td>\n",
       "      <td>30.000</td>\n",
       "      <td>300.000</td>\n",
       "      <td>571.000</td>\n",
       "      <td>594.000</td>\n",
       "      <td>600.000</td>\n",
       "    </tr>\n",
       "    <tr>\n",
       "      <th>Short_Promotion</th>\n",
       "      <td>512087.0</td>\n",
       "      <td>0.380244</td>\n",
       "      <td>0.485447</td>\n",
       "      <td>0.0</td>\n",
       "      <td>0.00</td>\n",
       "      <td>0.000</td>\n",
       "      <td>0.000</td>\n",
       "      <td>1.000</td>\n",
       "      <td>1.000</td>\n",
       "      <td>1.000</td>\n",
       "    </tr>\n",
       "    <tr>\n",
       "      <th>Public_Holiday</th>\n",
       "      <td>512087.0</td>\n",
       "      <td>0.031639</td>\n",
       "      <td>0.175038</td>\n",
       "      <td>0.0</td>\n",
       "      <td>0.00</td>\n",
       "      <td>0.000</td>\n",
       "      <td>0.000</td>\n",
       "      <td>0.000</td>\n",
       "      <td>1.000</td>\n",
       "      <td>1.000</td>\n",
       "    </tr>\n",
       "    <tr>\n",
       "      <th>Long_Promotion</th>\n",
       "      <td>512087.0</td>\n",
       "      <td>0.488968</td>\n",
       "      <td>0.499879</td>\n",
       "      <td>0.0</td>\n",
       "      <td>0.00</td>\n",
       "      <td>0.000</td>\n",
       "      <td>0.000</td>\n",
       "      <td>1.000</td>\n",
       "      <td>1.000</td>\n",
       "      <td>1.000</td>\n",
       "    </tr>\n",
       "    <tr>\n",
       "      <th>User_Traffic</th>\n",
       "      <td>512087.0</td>\n",
       "      <td>15295.651682</td>\n",
       "      <td>7222.328295</td>\n",
       "      <td>3780.0</td>\n",
       "      <td>3780.00</td>\n",
       "      <td>7035.000</td>\n",
       "      <td>13776.000</td>\n",
       "      <td>29064.000</td>\n",
       "      <td>46221.000</td>\n",
       "      <td>46221.000</td>\n",
       "    </tr>\n",
       "    <tr>\n",
       "      <th>Competition_Metric</th>\n",
       "      <td>510323.0</td>\n",
       "      <td>0.072579</td>\n",
       "      <td>0.095961</td>\n",
       "      <td>0.0</td>\n",
       "      <td>0.00</td>\n",
       "      <td>0.001</td>\n",
       "      <td>0.035</td>\n",
       "      <td>0.269</td>\n",
       "      <td>0.509</td>\n",
       "      <td>0.509</td>\n",
       "    </tr>\n",
       "    <tr>\n",
       "      <th>Sales</th>\n",
       "      <td>512087.0</td>\n",
       "      <td>120.477577</td>\n",
       "      <td>52.170514</td>\n",
       "      <td>27.0</td>\n",
       "      <td>27.00</td>\n",
       "      <td>54.000</td>\n",
       "      <td>111.000</td>\n",
       "      <td>222.000</td>\n",
       "      <td>304.000</td>\n",
       "      <td>304.000</td>\n",
       "    </tr>\n",
       "  </tbody>\n",
       "</table>\n",
       "</div>"
      ],
      "text/plain": [
       "                       count           mean            std     min       1%  \\\n",
       "ID                  512087.0  274007.300650  158228.834029     1.0  5421.86   \n",
       "Day_No              512087.0     434.917869     256.044161     1.0     9.00   \n",
       "Course_ID           512087.0     300.388344     173.365787     1.0     6.00   \n",
       "Short_Promotion     512087.0       0.380244       0.485447     0.0     0.00   \n",
       "Public_Holiday      512087.0       0.031639       0.175038     0.0     0.00   \n",
       "Long_Promotion      512087.0       0.488968       0.499879     0.0     0.00   \n",
       "User_Traffic        512087.0   15295.651682    7222.328295  3780.0  3780.00   \n",
       "Competition_Metric  510323.0       0.072579       0.095961     0.0     0.00   \n",
       "Sales               512087.0     120.477577      52.170514    27.0    27.00   \n",
       "\n",
       "                           5%         50%         95%         99%         max  \n",
       "ID                  27345.300  273984.000  520682.700  542546.140  548027.000  \n",
       "Day_No                 43.000     427.000     840.000     874.000     882.000  \n",
       "Course_ID              30.000     300.000     571.000     594.000     600.000  \n",
       "Short_Promotion         0.000       0.000       1.000       1.000       1.000  \n",
       "Public_Holiday          0.000       0.000       0.000       1.000       1.000  \n",
       "Long_Promotion          0.000       0.000       1.000       1.000       1.000  \n",
       "User_Traffic         7035.000   13776.000   29064.000   46221.000   46221.000  \n",
       "Competition_Metric      0.001       0.035       0.269       0.509       0.509  \n",
       "Sales                  54.000     111.000     222.000     304.000     304.000  "
      ]
     },
     "execution_count": 16,
     "metadata": {},
     "output_type": "execute_result"
    }
   ],
   "source": [
    "## As sales & User Traffic is only avaialble in training data, uisng outlier capping in train data only ###\n",
    "numeric_col= data[[\"User_Traffic\",\"Sales\",\"Competition_Metric\"]]\n",
    "for i in numeric_col:\n",
    "    data.loc[data[i]>data[i].quantile(0.99),i]=data[i].quantile(0.99)\n",
    "    data.loc[data[i]<data[i].quantile(0.01),i]=data[i].quantile(0.01)\n",
    "data.describe(percentiles=[0.01,0.05,0.95,0.99]).T"
   ]
  },
  {
   "cell_type": "code",
   "execution_count": 17,
   "metadata": {},
   "outputs": [],
   "source": [
    "### As Competition_Metric in both the tables , we can do outlier capping after combining these ####\n",
    "numeric_col= test[[\"Competition_Metric\"]]\n",
    "for i in numeric_col:\n",
    "    test.loc[test[i]>test[i].quantile(0.99),i]=test[i].quantile(0.99)"
   ]
  },
  {
   "cell_type": "code",
   "execution_count": 18,
   "metadata": {},
   "outputs": [
    {
     "data": {
      "text/plain": [
       "2022"
      ]
     },
     "execution_count": 18,
     "metadata": {},
     "output_type": "execute_result"
    }
   ],
   "source": [
    "# data['Course_Domain'].value_counts()   #to be run one by one \n",
    "# data['Course_Type'].value_counts()\n",
    "# data['Short_Promotion'].value_counts()\n",
    "# data['Public_Holiday'].value_counts()\n",
    "# data['Long_Promotion'].value_counts()\n",
    "data['User_Traffic'].nunique()"
   ]
  },
  {
   "cell_type": "code",
   "execution_count": 19,
   "metadata": {},
   "outputs": [
    {
     "data": {
      "text/plain": [
       "ID                       0\n",
       "Day_No                   0\n",
       "Course_ID                0\n",
       "Course_Domain            0\n",
       "Course_Type              0\n",
       "Short_Promotion          0\n",
       "Public_Holiday           0\n",
       "Long_Promotion           0\n",
       "User_Traffic             0\n",
       "Competition_Metric    1764\n",
       "Sales                    0\n",
       "dtype: int64"
      ]
     },
     "execution_count": 19,
     "metadata": {},
     "output_type": "execute_result"
    }
   ],
   "source": [
    "data.isnull().sum()"
   ]
  },
  {
   "cell_type": "code",
   "execution_count": 20,
   "metadata": {},
   "outputs": [
    {
     "data": {
      "text/plain": [
       "ID                      0\n",
       "Day_No                  0\n",
       "Course_ID               0\n",
       "Course_Domain           0\n",
       "Course_Type             0\n",
       "Short_Promotion         0\n",
       "Public_Holiday          0\n",
       "Long_Promotion          0\n",
       "Competition_Metric    120\n",
       "dtype: int64"
      ]
     },
     "execution_count": 20,
     "metadata": {},
     "output_type": "execute_result"
    }
   ],
   "source": [
    "test.isnull().sum()"
   ]
  },
  {
   "cell_type": "code",
   "execution_count": 21,
   "metadata": {},
   "outputs": [
    {
     "data": {
      "text/plain": [
       "354    882\n",
       "176    882\n",
       "Name: Course_ID, dtype: int64"
      ]
     },
     "execution_count": 21,
     "metadata": {},
     "output_type": "execute_result"
    }
   ],
   "source": [
    "# filtering data\n",
    "bool_series = pd.isnull(data[\"Competition_Metric\"])\n",
    "\n",
    "\n",
    "# displayind data only with team = NaN\n",
    "data[bool_series]['Course_ID'].value_counts()"
   ]
  },
  {
   "cell_type": "code",
   "execution_count": 22,
   "metadata": {},
   "outputs": [
    {
     "data": {
      "text/plain": [
       "354    60\n",
       "176    60\n",
       "Name: Course_ID, dtype: int64"
      ]
     },
     "execution_count": 22,
     "metadata": {},
     "output_type": "execute_result"
    }
   ],
   "source": [
    "# filtering data\n",
    "bool_series = pd.isnull(test[\"Competition_Metric\"])\n",
    "\n",
    "\n",
    "# displayind data only with team = NaN\n",
    "test[bool_series]['Course_ID'].value_counts()"
   ]
  },
  {
   "cell_type": "code",
   "execution_count": 23,
   "metadata": {},
   "outputs": [
    {
     "data": {
      "text/plain": [
       "(0.0, 0.509)"
      ]
     },
     "execution_count": 23,
     "metadata": {},
     "output_type": "execute_result"
    }
   ],
   "source": [
    "data['Competition_Metric'].min(), data['Competition_Metric'].max()"
   ]
  },
  {
   "cell_type": "code",
   "execution_count": 24,
   "metadata": {},
   "outputs": [
    {
     "data": {
      "text/html": [
       "<div>\n",
       "<style scoped>\n",
       "    .dataframe tbody tr th:only-of-type {\n",
       "        vertical-align: middle;\n",
       "    }\n",
       "\n",
       "    .dataframe tbody tr th {\n",
       "        vertical-align: top;\n",
       "    }\n",
       "\n",
       "    .dataframe thead th {\n",
       "        text-align: right;\n",
       "    }\n",
       "</style>\n",
       "<table border=\"1\" class=\"dataframe\">\n",
       "  <thead>\n",
       "    <tr style=\"text-align: right;\">\n",
       "      <th></th>\n",
       "      <th>ID</th>\n",
       "      <th>Day_No</th>\n",
       "      <th>Course_ID</th>\n",
       "      <th>Course_Domain</th>\n",
       "      <th>Course_Type</th>\n",
       "      <th>Short_Promotion</th>\n",
       "      <th>Public_Holiday</th>\n",
       "      <th>Long_Promotion</th>\n",
       "      <th>User_Traffic</th>\n",
       "      <th>Competition_Metric</th>\n",
       "      <th>Sales</th>\n",
       "    </tr>\n",
       "  </thead>\n",
       "  <tbody>\n",
       "    <tr>\n",
       "      <th>60084</th>\n",
       "      <td>64285</td>\n",
       "      <td>1</td>\n",
       "      <td>71</td>\n",
       "      <td>Development</td>\n",
       "      <td>Program</td>\n",
       "      <td>0</td>\n",
       "      <td>1</td>\n",
       "      <td>0</td>\n",
       "      <td>9660.0</td>\n",
       "      <td>0.509</td>\n",
       "      <td>76.0</td>\n",
       "    </tr>\n",
       "    <tr>\n",
       "      <th>60085</th>\n",
       "      <td>64286</td>\n",
       "      <td>2</td>\n",
       "      <td>71</td>\n",
       "      <td>Development</td>\n",
       "      <td>Program</td>\n",
       "      <td>0</td>\n",
       "      <td>0</td>\n",
       "      <td>0</td>\n",
       "      <td>19110.0</td>\n",
       "      <td>0.509</td>\n",
       "      <td>120.0</td>\n",
       "    </tr>\n",
       "    <tr>\n",
       "      <th>60086</th>\n",
       "      <td>64287</td>\n",
       "      <td>3</td>\n",
       "      <td>71</td>\n",
       "      <td>Development</td>\n",
       "      <td>Program</td>\n",
       "      <td>0</td>\n",
       "      <td>0</td>\n",
       "      <td>0</td>\n",
       "      <td>13944.0</td>\n",
       "      <td>0.509</td>\n",
       "      <td>83.0</td>\n",
       "    </tr>\n",
       "    <tr>\n",
       "      <th>60087</th>\n",
       "      <td>64288</td>\n",
       "      <td>4</td>\n",
       "      <td>71</td>\n",
       "      <td>Development</td>\n",
       "      <td>Program</td>\n",
       "      <td>0</td>\n",
       "      <td>0</td>\n",
       "      <td>0</td>\n",
       "      <td>13587.0</td>\n",
       "      <td>0.509</td>\n",
       "      <td>95.0</td>\n",
       "    </tr>\n",
       "    <tr>\n",
       "      <th>60088</th>\n",
       "      <td>64289</td>\n",
       "      <td>5</td>\n",
       "      <td>71</td>\n",
       "      <td>Development</td>\n",
       "      <td>Program</td>\n",
       "      <td>0</td>\n",
       "      <td>0</td>\n",
       "      <td>0</td>\n",
       "      <td>15036.0</td>\n",
       "      <td>0.509</td>\n",
       "      <td>93.0</td>\n",
       "    </tr>\n",
       "    <tr>\n",
       "      <th>...</th>\n",
       "      <td>...</td>\n",
       "      <td>...</td>\n",
       "      <td>...</td>\n",
       "      <td>...</td>\n",
       "      <td>...</td>\n",
       "      <td>...</td>\n",
       "      <td>...</td>\n",
       "      <td>...</td>\n",
       "      <td>...</td>\n",
       "      <td>...</td>\n",
       "      <td>...</td>\n",
       "    </tr>\n",
       "    <tr>\n",
       "      <th>381369</th>\n",
       "      <td>408130</td>\n",
       "      <td>878</td>\n",
       "      <td>447</td>\n",
       "      <td>Software Marketing</td>\n",
       "      <td>Course</td>\n",
       "      <td>0</td>\n",
       "      <td>0</td>\n",
       "      <td>0</td>\n",
       "      <td>10521.0</td>\n",
       "      <td>0.509</td>\n",
       "      <td>91.0</td>\n",
       "    </tr>\n",
       "    <tr>\n",
       "      <th>381370</th>\n",
       "      <td>408131</td>\n",
       "      <td>879</td>\n",
       "      <td>447</td>\n",
       "      <td>Software Marketing</td>\n",
       "      <td>Course</td>\n",
       "      <td>0</td>\n",
       "      <td>0</td>\n",
       "      <td>0</td>\n",
       "      <td>12180.0</td>\n",
       "      <td>0.509</td>\n",
       "      <td>116.0</td>\n",
       "    </tr>\n",
       "    <tr>\n",
       "      <th>381371</th>\n",
       "      <td>408132</td>\n",
       "      <td>880</td>\n",
       "      <td>447</td>\n",
       "      <td>Software Marketing</td>\n",
       "      <td>Course</td>\n",
       "      <td>0</td>\n",
       "      <td>0</td>\n",
       "      <td>0</td>\n",
       "      <td>10101.0</td>\n",
       "      <td>0.509</td>\n",
       "      <td>84.0</td>\n",
       "    </tr>\n",
       "    <tr>\n",
       "      <th>381372</th>\n",
       "      <td>408133</td>\n",
       "      <td>881</td>\n",
       "      <td>447</td>\n",
       "      <td>Software Marketing</td>\n",
       "      <td>Course</td>\n",
       "      <td>0</td>\n",
       "      <td>0</td>\n",
       "      <td>0</td>\n",
       "      <td>10101.0</td>\n",
       "      <td>0.509</td>\n",
       "      <td>79.0</td>\n",
       "    </tr>\n",
       "    <tr>\n",
       "      <th>381373</th>\n",
       "      <td>408134</td>\n",
       "      <td>882</td>\n",
       "      <td>447</td>\n",
       "      <td>Software Marketing</td>\n",
       "      <td>Course</td>\n",
       "      <td>1</td>\n",
       "      <td>0</td>\n",
       "      <td>0</td>\n",
       "      <td>15498.0</td>\n",
       "      <td>0.509</td>\n",
       "      <td>164.0</td>\n",
       "    </tr>\n",
       "  </tbody>\n",
       "</table>\n",
       "<p>5292 rows × 11 columns</p>\n",
       "</div>"
      ],
      "text/plain": [
       "            ID  Day_No  Course_ID       Course_Domain Course_Type  \\\n",
       "60084    64285       1         71         Development     Program   \n",
       "60085    64286       2         71         Development     Program   \n",
       "60086    64287       3         71         Development     Program   \n",
       "60087    64288       4         71         Development     Program   \n",
       "60088    64289       5         71         Development     Program   \n",
       "...        ...     ...        ...                 ...         ...   \n",
       "381369  408130     878        447  Software Marketing      Course   \n",
       "381370  408131     879        447  Software Marketing      Course   \n",
       "381371  408132     880        447  Software Marketing      Course   \n",
       "381372  408133     881        447  Software Marketing      Course   \n",
       "381373  408134     882        447  Software Marketing      Course   \n",
       "\n",
       "        Short_Promotion  Public_Holiday  Long_Promotion  User_Traffic  \\\n",
       "60084                 0               1               0        9660.0   \n",
       "60085                 0               0               0       19110.0   \n",
       "60086                 0               0               0       13944.0   \n",
       "60087                 0               0               0       13587.0   \n",
       "60088                 0               0               0       15036.0   \n",
       "...                 ...             ...             ...           ...   \n",
       "381369                0               0               0       10521.0   \n",
       "381370                0               0               0       12180.0   \n",
       "381371                0               0               0       10101.0   \n",
       "381372                0               0               0       10101.0   \n",
       "381373                1               0               0       15498.0   \n",
       "\n",
       "        Competition_Metric  Sales  \n",
       "60084                0.509   76.0  \n",
       "60085                0.509  120.0  \n",
       "60086                0.509   83.0  \n",
       "60087                0.509   95.0  \n",
       "60088                0.509   93.0  \n",
       "...                    ...    ...  \n",
       "381369               0.509   91.0  \n",
       "381370               0.509  116.0  \n",
       "381371               0.509   84.0  \n",
       "381372               0.509   79.0  \n",
       "381373               0.509  164.0  \n",
       "\n",
       "[5292 rows x 11 columns]"
      ]
     },
     "execution_count": 24,
     "metadata": {},
     "output_type": "execute_result"
    }
   ],
   "source": [
    "data[data['Competition_Metric']== 0.509]"
   ]
  },
  {
   "cell_type": "code",
   "execution_count": 29,
   "metadata": {},
   "outputs": [
    {
     "data": {
      "text/html": [
       "<div>\n",
       "<style scoped>\n",
       "    .dataframe tbody tr th:only-of-type {\n",
       "        vertical-align: middle;\n",
       "    }\n",
       "\n",
       "    .dataframe tbody tr th {\n",
       "        vertical-align: top;\n",
       "    }\n",
       "\n",
       "    .dataframe thead th {\n",
       "        text-align: right;\n",
       "    }\n",
       "</style>\n",
       "<table border=\"1\" class=\"dataframe\">\n",
       "  <thead>\n",
       "    <tr style=\"text-align: right;\">\n",
       "      <th></th>\n",
       "      <th>ID</th>\n",
       "      <th>Day_No</th>\n",
       "      <th>Course_ID</th>\n",
       "      <th>Course_Domain</th>\n",
       "      <th>Course_Type</th>\n",
       "      <th>Short_Promotion</th>\n",
       "      <th>Public_Holiday</th>\n",
       "      <th>Long_Promotion</th>\n",
       "      <th>User_Traffic</th>\n",
       "      <th>Competition_Metric</th>\n",
       "      <th>Sales</th>\n",
       "    </tr>\n",
       "  </thead>\n",
       "  <tbody>\n",
       "    <tr>\n",
       "      <th>13744</th>\n",
       "      <td>14705</td>\n",
       "      <td>1</td>\n",
       "      <td>17</td>\n",
       "      <td>Development</td>\n",
       "      <td>Course</td>\n",
       "      <td>0</td>\n",
       "      <td>1</td>\n",
       "      <td>1</td>\n",
       "      <td>13104.0</td>\n",
       "      <td>0.0</td>\n",
       "      <td>134.0</td>\n",
       "    </tr>\n",
       "    <tr>\n",
       "      <th>13745</th>\n",
       "      <td>14706</td>\n",
       "      <td>2</td>\n",
       "      <td>17</td>\n",
       "      <td>Development</td>\n",
       "      <td>Course</td>\n",
       "      <td>0</td>\n",
       "      <td>0</td>\n",
       "      <td>1</td>\n",
       "      <td>19803.0</td>\n",
       "      <td>0.0</td>\n",
       "      <td>102.0</td>\n",
       "    </tr>\n",
       "    <tr>\n",
       "      <th>13746</th>\n",
       "      <td>14707</td>\n",
       "      <td>3</td>\n",
       "      <td>17</td>\n",
       "      <td>Development</td>\n",
       "      <td>Course</td>\n",
       "      <td>0</td>\n",
       "      <td>0</td>\n",
       "      <td>1</td>\n",
       "      <td>20727.0</td>\n",
       "      <td>0.0</td>\n",
       "      <td>112.0</td>\n",
       "    </tr>\n",
       "    <tr>\n",
       "      <th>13747</th>\n",
       "      <td>14708</td>\n",
       "      <td>4</td>\n",
       "      <td>17</td>\n",
       "      <td>Development</td>\n",
       "      <td>Course</td>\n",
       "      <td>0</td>\n",
       "      <td>0</td>\n",
       "      <td>1</td>\n",
       "      <td>16863.0</td>\n",
       "      <td>0.0</td>\n",
       "      <td>91.0</td>\n",
       "    </tr>\n",
       "    <tr>\n",
       "      <th>13748</th>\n",
       "      <td>14709</td>\n",
       "      <td>5</td>\n",
       "      <td>17</td>\n",
       "      <td>Development</td>\n",
       "      <td>Course</td>\n",
       "      <td>0</td>\n",
       "      <td>0</td>\n",
       "      <td>1</td>\n",
       "      <td>18858.0</td>\n",
       "      <td>0.0</td>\n",
       "      <td>101.0</td>\n",
       "    </tr>\n",
       "    <tr>\n",
       "      <th>...</th>\n",
       "      <td>...</td>\n",
       "      <td>...</td>\n",
       "      <td>...</td>\n",
       "      <td>...</td>\n",
       "      <td>...</td>\n",
       "      <td>...</td>\n",
       "      <td>...</td>\n",
       "      <td>...</td>\n",
       "      <td>...</td>\n",
       "      <td>...</td>\n",
       "      <td>...</td>\n",
       "    </tr>\n",
       "    <tr>\n",
       "      <th>464162</th>\n",
       "      <td>496743</td>\n",
       "      <td>878</td>\n",
       "      <td>544</td>\n",
       "      <td>Development</td>\n",
       "      <td>Program</td>\n",
       "      <td>0</td>\n",
       "      <td>0</td>\n",
       "      <td>0</td>\n",
       "      <td>13251.0</td>\n",
       "      <td>0.0</td>\n",
       "      <td>87.0</td>\n",
       "    </tr>\n",
       "    <tr>\n",
       "      <th>464163</th>\n",
       "      <td>496744</td>\n",
       "      <td>879</td>\n",
       "      <td>544</td>\n",
       "      <td>Development</td>\n",
       "      <td>Program</td>\n",
       "      <td>0</td>\n",
       "      <td>0</td>\n",
       "      <td>0</td>\n",
       "      <td>15813.0</td>\n",
       "      <td>0.0</td>\n",
       "      <td>109.0</td>\n",
       "    </tr>\n",
       "    <tr>\n",
       "      <th>464164</th>\n",
       "      <td>496745</td>\n",
       "      <td>880</td>\n",
       "      <td>544</td>\n",
       "      <td>Development</td>\n",
       "      <td>Program</td>\n",
       "      <td>0</td>\n",
       "      <td>0</td>\n",
       "      <td>0</td>\n",
       "      <td>14322.0</td>\n",
       "      <td>0.0</td>\n",
       "      <td>95.0</td>\n",
       "    </tr>\n",
       "    <tr>\n",
       "      <th>464165</th>\n",
       "      <td>496746</td>\n",
       "      <td>881</td>\n",
       "      <td>544</td>\n",
       "      <td>Development</td>\n",
       "      <td>Program</td>\n",
       "      <td>0</td>\n",
       "      <td>0</td>\n",
       "      <td>0</td>\n",
       "      <td>13398.0</td>\n",
       "      <td>0.0</td>\n",
       "      <td>82.0</td>\n",
       "    </tr>\n",
       "    <tr>\n",
       "      <th>464166</th>\n",
       "      <td>496747</td>\n",
       "      <td>882</td>\n",
       "      <td>544</td>\n",
       "      <td>Development</td>\n",
       "      <td>Program</td>\n",
       "      <td>1</td>\n",
       "      <td>0</td>\n",
       "      <td>0</td>\n",
       "      <td>21063.0</td>\n",
       "      <td>0.0</td>\n",
       "      <td>167.0</td>\n",
       "    </tr>\n",
       "  </tbody>\n",
       "</table>\n",
       "<p>8819 rows × 11 columns</p>\n",
       "</div>"
      ],
      "text/plain": [
       "            ID  Day_No  Course_ID Course_Domain Course_Type  Short_Promotion  \\\n",
       "13744    14705       1         17   Development      Course                0   \n",
       "13745    14706       2         17   Development      Course                0   \n",
       "13746    14707       3         17   Development      Course                0   \n",
       "13747    14708       4         17   Development      Course                0   \n",
       "13748    14709       5         17   Development      Course                0   \n",
       "...        ...     ...        ...           ...         ...              ...   \n",
       "464162  496743     878        544   Development     Program                0   \n",
       "464163  496744     879        544   Development     Program                0   \n",
       "464164  496745     880        544   Development     Program                0   \n",
       "464165  496746     881        544   Development     Program                0   \n",
       "464166  496747     882        544   Development     Program                1   \n",
       "\n",
       "        Public_Holiday  Long_Promotion  User_Traffic  Competition_Metric  \\\n",
       "13744                1               1       13104.0                 0.0   \n",
       "13745                0               1       19803.0                 0.0   \n",
       "13746                0               1       20727.0                 0.0   \n",
       "13747                0               1       16863.0                 0.0   \n",
       "13748                0               1       18858.0                 0.0   \n",
       "...                ...             ...           ...                 ...   \n",
       "464162               0               0       13251.0                 0.0   \n",
       "464163               0               0       15813.0                 0.0   \n",
       "464164               0               0       14322.0                 0.0   \n",
       "464165               0               0       13398.0                 0.0   \n",
       "464166               0               0       21063.0                 0.0   \n",
       "\n",
       "        Sales  \n",
       "13744   134.0  \n",
       "13745   102.0  \n",
       "13746   112.0  \n",
       "13747    91.0  \n",
       "13748   101.0  \n",
       "...       ...  \n",
       "464162   87.0  \n",
       "464163  109.0  \n",
       "464164   95.0  \n",
       "464165   82.0  \n",
       "464166  167.0  \n",
       "\n",
       "[8819 rows x 11 columns]"
      ]
     },
     "execution_count": 29,
     "metadata": {},
     "output_type": "execute_result"
    }
   ],
   "source": [
    "data[data['Competition_Metric']== 0.000000]"
   ]
  },
  {
   "cell_type": "code",
   "execution_count": 30,
   "metadata": {
    "scrolled": true
   },
   "outputs": [
    {
     "data": {
      "text/html": [
       "<div>\n",
       "<style scoped>\n",
       "    .dataframe tbody tr th:only-of-type {\n",
       "        vertical-align: middle;\n",
       "    }\n",
       "\n",
       "    .dataframe tbody tr th {\n",
       "        vertical-align: top;\n",
       "    }\n",
       "\n",
       "    .dataframe thead th {\n",
       "        text-align: right;\n",
       "    }\n",
       "</style>\n",
       "<table border=\"1\" class=\"dataframe\">\n",
       "  <thead>\n",
       "    <tr style=\"text-align: right;\">\n",
       "      <th></th>\n",
       "      <th>ID</th>\n",
       "      <th>Day_No</th>\n",
       "      <th>Course_ID</th>\n",
       "      <th>Course_Domain</th>\n",
       "      <th>Course_Type</th>\n",
       "      <th>Short_Promotion</th>\n",
       "      <th>Public_Holiday</th>\n",
       "      <th>Long_Promotion</th>\n",
       "      <th>Competition_Metric</th>\n",
       "    </tr>\n",
       "  </thead>\n",
       "  <tbody>\n",
       "    <tr>\n",
       "      <th>21180</th>\n",
       "      <td>324025</td>\n",
       "      <td>883</td>\n",
       "      <td>354</td>\n",
       "      <td>Development</td>\n",
       "      <td>Program</td>\n",
       "      <td>1</td>\n",
       "      <td>0</td>\n",
       "      <td>0</td>\n",
       "      <td>NaN</td>\n",
       "    </tr>\n",
       "    <tr>\n",
       "      <th>21181</th>\n",
       "      <td>324026</td>\n",
       "      <td>884</td>\n",
       "      <td>354</td>\n",
       "      <td>Development</td>\n",
       "      <td>Program</td>\n",
       "      <td>1</td>\n",
       "      <td>0</td>\n",
       "      <td>0</td>\n",
       "      <td>NaN</td>\n",
       "    </tr>\n",
       "    <tr>\n",
       "      <th>21182</th>\n",
       "      <td>324027</td>\n",
       "      <td>885</td>\n",
       "      <td>354</td>\n",
       "      <td>Development</td>\n",
       "      <td>Program</td>\n",
       "      <td>1</td>\n",
       "      <td>0</td>\n",
       "      <td>0</td>\n",
       "      <td>NaN</td>\n",
       "    </tr>\n",
       "    <tr>\n",
       "      <th>21183</th>\n",
       "      <td>324028</td>\n",
       "      <td>886</td>\n",
       "      <td>354</td>\n",
       "      <td>Development</td>\n",
       "      <td>Program</td>\n",
       "      <td>1</td>\n",
       "      <td>0</td>\n",
       "      <td>0</td>\n",
       "      <td>NaN</td>\n",
       "    </tr>\n",
       "    <tr>\n",
       "      <th>21184</th>\n",
       "      <td>324029</td>\n",
       "      <td>887</td>\n",
       "      <td>354</td>\n",
       "      <td>Development</td>\n",
       "      <td>Program</td>\n",
       "      <td>0</td>\n",
       "      <td>0</td>\n",
       "      <td>0</td>\n",
       "      <td>NaN</td>\n",
       "    </tr>\n",
       "    <tr>\n",
       "      <th>21185</th>\n",
       "      <td>324030</td>\n",
       "      <td>888</td>\n",
       "      <td>354</td>\n",
       "      <td>Development</td>\n",
       "      <td>Program</td>\n",
       "      <td>0</td>\n",
       "      <td>0</td>\n",
       "      <td>0</td>\n",
       "      <td>NaN</td>\n",
       "    </tr>\n",
       "    <tr>\n",
       "      <th>21186</th>\n",
       "      <td>324031</td>\n",
       "      <td>889</td>\n",
       "      <td>354</td>\n",
       "      <td>Development</td>\n",
       "      <td>Program</td>\n",
       "      <td>0</td>\n",
       "      <td>0</td>\n",
       "      <td>0</td>\n",
       "      <td>NaN</td>\n",
       "    </tr>\n",
       "    <tr>\n",
       "      <th>21187</th>\n",
       "      <td>324032</td>\n",
       "      <td>890</td>\n",
       "      <td>354</td>\n",
       "      <td>Development</td>\n",
       "      <td>Program</td>\n",
       "      <td>0</td>\n",
       "      <td>0</td>\n",
       "      <td>0</td>\n",
       "      <td>NaN</td>\n",
       "    </tr>\n",
       "    <tr>\n",
       "      <th>21188</th>\n",
       "      <td>324033</td>\n",
       "      <td>891</td>\n",
       "      <td>354</td>\n",
       "      <td>Development</td>\n",
       "      <td>Program</td>\n",
       "      <td>0</td>\n",
       "      <td>0</td>\n",
       "      <td>0</td>\n",
       "      <td>NaN</td>\n",
       "    </tr>\n",
       "    <tr>\n",
       "      <th>21189</th>\n",
       "      <td>324034</td>\n",
       "      <td>892</td>\n",
       "      <td>354</td>\n",
       "      <td>Development</td>\n",
       "      <td>Program</td>\n",
       "      <td>0</td>\n",
       "      <td>0</td>\n",
       "      <td>0</td>\n",
       "      <td>NaN</td>\n",
       "    </tr>\n",
       "    <tr>\n",
       "      <th>21190</th>\n",
       "      <td>324035</td>\n",
       "      <td>893</td>\n",
       "      <td>354</td>\n",
       "      <td>Development</td>\n",
       "      <td>Program</td>\n",
       "      <td>0</td>\n",
       "      <td>0</td>\n",
       "      <td>0</td>\n",
       "      <td>NaN</td>\n",
       "    </tr>\n",
       "    <tr>\n",
       "      <th>21191</th>\n",
       "      <td>324036</td>\n",
       "      <td>894</td>\n",
       "      <td>354</td>\n",
       "      <td>Development</td>\n",
       "      <td>Program</td>\n",
       "      <td>0</td>\n",
       "      <td>0</td>\n",
       "      <td>0</td>\n",
       "      <td>NaN</td>\n",
       "    </tr>\n",
       "    <tr>\n",
       "      <th>21192</th>\n",
       "      <td>324037</td>\n",
       "      <td>895</td>\n",
       "      <td>354</td>\n",
       "      <td>Development</td>\n",
       "      <td>Program</td>\n",
       "      <td>0</td>\n",
       "      <td>0</td>\n",
       "      <td>0</td>\n",
       "      <td>NaN</td>\n",
       "    </tr>\n",
       "    <tr>\n",
       "      <th>21193</th>\n",
       "      <td>324038</td>\n",
       "      <td>896</td>\n",
       "      <td>354</td>\n",
       "      <td>Development</td>\n",
       "      <td>Program</td>\n",
       "      <td>1</td>\n",
       "      <td>0</td>\n",
       "      <td>0</td>\n",
       "      <td>NaN</td>\n",
       "    </tr>\n",
       "    <tr>\n",
       "      <th>21194</th>\n",
       "      <td>324039</td>\n",
       "      <td>897</td>\n",
       "      <td>354</td>\n",
       "      <td>Development</td>\n",
       "      <td>Program</td>\n",
       "      <td>1</td>\n",
       "      <td>0</td>\n",
       "      <td>0</td>\n",
       "      <td>NaN</td>\n",
       "    </tr>\n",
       "    <tr>\n",
       "      <th>21195</th>\n",
       "      <td>324040</td>\n",
       "      <td>898</td>\n",
       "      <td>354</td>\n",
       "      <td>Development</td>\n",
       "      <td>Program</td>\n",
       "      <td>1</td>\n",
       "      <td>0</td>\n",
       "      <td>0</td>\n",
       "      <td>NaN</td>\n",
       "    </tr>\n",
       "    <tr>\n",
       "      <th>21196</th>\n",
       "      <td>324041</td>\n",
       "      <td>899</td>\n",
       "      <td>354</td>\n",
       "      <td>Development</td>\n",
       "      <td>Program</td>\n",
       "      <td>1</td>\n",
       "      <td>0</td>\n",
       "      <td>0</td>\n",
       "      <td>NaN</td>\n",
       "    </tr>\n",
       "    <tr>\n",
       "      <th>21197</th>\n",
       "      <td>324042</td>\n",
       "      <td>900</td>\n",
       "      <td>354</td>\n",
       "      <td>Development</td>\n",
       "      <td>Program</td>\n",
       "      <td>1</td>\n",
       "      <td>0</td>\n",
       "      <td>0</td>\n",
       "      <td>NaN</td>\n",
       "    </tr>\n",
       "    <tr>\n",
       "      <th>21198</th>\n",
       "      <td>324043</td>\n",
       "      <td>901</td>\n",
       "      <td>354</td>\n",
       "      <td>Development</td>\n",
       "      <td>Program</td>\n",
       "      <td>0</td>\n",
       "      <td>0</td>\n",
       "      <td>0</td>\n",
       "      <td>NaN</td>\n",
       "    </tr>\n",
       "    <tr>\n",
       "      <th>21199</th>\n",
       "      <td>324044</td>\n",
       "      <td>902</td>\n",
       "      <td>354</td>\n",
       "      <td>Development</td>\n",
       "      <td>Program</td>\n",
       "      <td>0</td>\n",
       "      <td>0</td>\n",
       "      <td>0</td>\n",
       "      <td>NaN</td>\n",
       "    </tr>\n",
       "    <tr>\n",
       "      <th>21200</th>\n",
       "      <td>324045</td>\n",
       "      <td>903</td>\n",
       "      <td>354</td>\n",
       "      <td>Development</td>\n",
       "      <td>Program</td>\n",
       "      <td>0</td>\n",
       "      <td>0</td>\n",
       "      <td>0</td>\n",
       "      <td>NaN</td>\n",
       "    </tr>\n",
       "    <tr>\n",
       "      <th>21201</th>\n",
       "      <td>324046</td>\n",
       "      <td>904</td>\n",
       "      <td>354</td>\n",
       "      <td>Development</td>\n",
       "      <td>Program</td>\n",
       "      <td>0</td>\n",
       "      <td>0</td>\n",
       "      <td>0</td>\n",
       "      <td>NaN</td>\n",
       "    </tr>\n",
       "    <tr>\n",
       "      <th>21202</th>\n",
       "      <td>324047</td>\n",
       "      <td>905</td>\n",
       "      <td>354</td>\n",
       "      <td>Development</td>\n",
       "      <td>Program</td>\n",
       "      <td>0</td>\n",
       "      <td>0</td>\n",
       "      <td>0</td>\n",
       "      <td>NaN</td>\n",
       "    </tr>\n",
       "    <tr>\n",
       "      <th>21203</th>\n",
       "      <td>324048</td>\n",
       "      <td>906</td>\n",
       "      <td>354</td>\n",
       "      <td>Development</td>\n",
       "      <td>Program</td>\n",
       "      <td>0</td>\n",
       "      <td>0</td>\n",
       "      <td>0</td>\n",
       "      <td>NaN</td>\n",
       "    </tr>\n",
       "    <tr>\n",
       "      <th>21204</th>\n",
       "      <td>324049</td>\n",
       "      <td>907</td>\n",
       "      <td>354</td>\n",
       "      <td>Development</td>\n",
       "      <td>Program</td>\n",
       "      <td>0</td>\n",
       "      <td>0</td>\n",
       "      <td>0</td>\n",
       "      <td>NaN</td>\n",
       "    </tr>\n",
       "    <tr>\n",
       "      <th>21205</th>\n",
       "      <td>324050</td>\n",
       "      <td>908</td>\n",
       "      <td>354</td>\n",
       "      <td>Development</td>\n",
       "      <td>Program</td>\n",
       "      <td>0</td>\n",
       "      <td>0</td>\n",
       "      <td>0</td>\n",
       "      <td>NaN</td>\n",
       "    </tr>\n",
       "    <tr>\n",
       "      <th>21206</th>\n",
       "      <td>324051</td>\n",
       "      <td>909</td>\n",
       "      <td>354</td>\n",
       "      <td>Development</td>\n",
       "      <td>Program</td>\n",
       "      <td>0</td>\n",
       "      <td>0</td>\n",
       "      <td>0</td>\n",
       "      <td>NaN</td>\n",
       "    </tr>\n",
       "    <tr>\n",
       "      <th>21207</th>\n",
       "      <td>324052</td>\n",
       "      <td>910</td>\n",
       "      <td>354</td>\n",
       "      <td>Development</td>\n",
       "      <td>Program</td>\n",
       "      <td>1</td>\n",
       "      <td>0</td>\n",
       "      <td>0</td>\n",
       "      <td>NaN</td>\n",
       "    </tr>\n",
       "    <tr>\n",
       "      <th>21208</th>\n",
       "      <td>324053</td>\n",
       "      <td>911</td>\n",
       "      <td>354</td>\n",
       "      <td>Development</td>\n",
       "      <td>Program</td>\n",
       "      <td>1</td>\n",
       "      <td>0</td>\n",
       "      <td>0</td>\n",
       "      <td>NaN</td>\n",
       "    </tr>\n",
       "    <tr>\n",
       "      <th>21209</th>\n",
       "      <td>324054</td>\n",
       "      <td>912</td>\n",
       "      <td>354</td>\n",
       "      <td>Development</td>\n",
       "      <td>Program</td>\n",
       "      <td>1</td>\n",
       "      <td>0</td>\n",
       "      <td>0</td>\n",
       "      <td>NaN</td>\n",
       "    </tr>\n",
       "    <tr>\n",
       "      <th>21210</th>\n",
       "      <td>324055</td>\n",
       "      <td>913</td>\n",
       "      <td>354</td>\n",
       "      <td>Development</td>\n",
       "      <td>Program</td>\n",
       "      <td>1</td>\n",
       "      <td>0</td>\n",
       "      <td>0</td>\n",
       "      <td>NaN</td>\n",
       "    </tr>\n",
       "    <tr>\n",
       "      <th>21211</th>\n",
       "      <td>324056</td>\n",
       "      <td>914</td>\n",
       "      <td>354</td>\n",
       "      <td>Development</td>\n",
       "      <td>Program</td>\n",
       "      <td>1</td>\n",
       "      <td>0</td>\n",
       "      <td>0</td>\n",
       "      <td>NaN</td>\n",
       "    </tr>\n",
       "    <tr>\n",
       "      <th>21212</th>\n",
       "      <td>324057</td>\n",
       "      <td>915</td>\n",
       "      <td>354</td>\n",
       "      <td>Development</td>\n",
       "      <td>Program</td>\n",
       "      <td>0</td>\n",
       "      <td>0</td>\n",
       "      <td>0</td>\n",
       "      <td>NaN</td>\n",
       "    </tr>\n",
       "    <tr>\n",
       "      <th>21213</th>\n",
       "      <td>324058</td>\n",
       "      <td>916</td>\n",
       "      <td>354</td>\n",
       "      <td>Development</td>\n",
       "      <td>Program</td>\n",
       "      <td>0</td>\n",
       "      <td>0</td>\n",
       "      <td>0</td>\n",
       "      <td>NaN</td>\n",
       "    </tr>\n",
       "    <tr>\n",
       "      <th>21214</th>\n",
       "      <td>324059</td>\n",
       "      <td>917</td>\n",
       "      <td>354</td>\n",
       "      <td>Development</td>\n",
       "      <td>Program</td>\n",
       "      <td>0</td>\n",
       "      <td>0</td>\n",
       "      <td>0</td>\n",
       "      <td>NaN</td>\n",
       "    </tr>\n",
       "    <tr>\n",
       "      <th>21215</th>\n",
       "      <td>324060</td>\n",
       "      <td>918</td>\n",
       "      <td>354</td>\n",
       "      <td>Development</td>\n",
       "      <td>Program</td>\n",
       "      <td>0</td>\n",
       "      <td>0</td>\n",
       "      <td>0</td>\n",
       "      <td>NaN</td>\n",
       "    </tr>\n",
       "    <tr>\n",
       "      <th>21216</th>\n",
       "      <td>324061</td>\n",
       "      <td>919</td>\n",
       "      <td>354</td>\n",
       "      <td>Development</td>\n",
       "      <td>Program</td>\n",
       "      <td>0</td>\n",
       "      <td>0</td>\n",
       "      <td>0</td>\n",
       "      <td>NaN</td>\n",
       "    </tr>\n",
       "    <tr>\n",
       "      <th>21217</th>\n",
       "      <td>324062</td>\n",
       "      <td>920</td>\n",
       "      <td>354</td>\n",
       "      <td>Development</td>\n",
       "      <td>Program</td>\n",
       "      <td>0</td>\n",
       "      <td>0</td>\n",
       "      <td>0</td>\n",
       "      <td>NaN</td>\n",
       "    </tr>\n",
       "    <tr>\n",
       "      <th>21218</th>\n",
       "      <td>324063</td>\n",
       "      <td>921</td>\n",
       "      <td>354</td>\n",
       "      <td>Development</td>\n",
       "      <td>Program</td>\n",
       "      <td>0</td>\n",
       "      <td>0</td>\n",
       "      <td>0</td>\n",
       "      <td>NaN</td>\n",
       "    </tr>\n",
       "    <tr>\n",
       "      <th>21219</th>\n",
       "      <td>324064</td>\n",
       "      <td>922</td>\n",
       "      <td>354</td>\n",
       "      <td>Development</td>\n",
       "      <td>Program</td>\n",
       "      <td>0</td>\n",
       "      <td>0</td>\n",
       "      <td>0</td>\n",
       "      <td>NaN</td>\n",
       "    </tr>\n",
       "    <tr>\n",
       "      <th>21220</th>\n",
       "      <td>324065</td>\n",
       "      <td>923</td>\n",
       "      <td>354</td>\n",
       "      <td>Development</td>\n",
       "      <td>Program</td>\n",
       "      <td>0</td>\n",
       "      <td>0</td>\n",
       "      <td>0</td>\n",
       "      <td>NaN</td>\n",
       "    </tr>\n",
       "    <tr>\n",
       "      <th>21221</th>\n",
       "      <td>324066</td>\n",
       "      <td>924</td>\n",
       "      <td>354</td>\n",
       "      <td>Development</td>\n",
       "      <td>Program</td>\n",
       "      <td>1</td>\n",
       "      <td>0</td>\n",
       "      <td>0</td>\n",
       "      <td>NaN</td>\n",
       "    </tr>\n",
       "    <tr>\n",
       "      <th>21222</th>\n",
       "      <td>324067</td>\n",
       "      <td>925</td>\n",
       "      <td>354</td>\n",
       "      <td>Development</td>\n",
       "      <td>Program</td>\n",
       "      <td>1</td>\n",
       "      <td>0</td>\n",
       "      <td>0</td>\n",
       "      <td>NaN</td>\n",
       "    </tr>\n",
       "    <tr>\n",
       "      <th>21223</th>\n",
       "      <td>324068</td>\n",
       "      <td>926</td>\n",
       "      <td>354</td>\n",
       "      <td>Development</td>\n",
       "      <td>Program</td>\n",
       "      <td>1</td>\n",
       "      <td>0</td>\n",
       "      <td>0</td>\n",
       "      <td>NaN</td>\n",
       "    </tr>\n",
       "    <tr>\n",
       "      <th>21224</th>\n",
       "      <td>324069</td>\n",
       "      <td>927</td>\n",
       "      <td>354</td>\n",
       "      <td>Development</td>\n",
       "      <td>Program</td>\n",
       "      <td>1</td>\n",
       "      <td>0</td>\n",
       "      <td>0</td>\n",
       "      <td>NaN</td>\n",
       "    </tr>\n",
       "    <tr>\n",
       "      <th>21225</th>\n",
       "      <td>324070</td>\n",
       "      <td>928</td>\n",
       "      <td>354</td>\n",
       "      <td>Development</td>\n",
       "      <td>Program</td>\n",
       "      <td>1</td>\n",
       "      <td>0</td>\n",
       "      <td>0</td>\n",
       "      <td>NaN</td>\n",
       "    </tr>\n",
       "    <tr>\n",
       "      <th>21226</th>\n",
       "      <td>324071</td>\n",
       "      <td>929</td>\n",
       "      <td>354</td>\n",
       "      <td>Development</td>\n",
       "      <td>Program</td>\n",
       "      <td>0</td>\n",
       "      <td>0</td>\n",
       "      <td>0</td>\n",
       "      <td>NaN</td>\n",
       "    </tr>\n",
       "    <tr>\n",
       "      <th>21227</th>\n",
       "      <td>324072</td>\n",
       "      <td>930</td>\n",
       "      <td>354</td>\n",
       "      <td>Development</td>\n",
       "      <td>Program</td>\n",
       "      <td>0</td>\n",
       "      <td>0</td>\n",
       "      <td>0</td>\n",
       "      <td>NaN</td>\n",
       "    </tr>\n",
       "    <tr>\n",
       "      <th>21228</th>\n",
       "      <td>324073</td>\n",
       "      <td>931</td>\n",
       "      <td>354</td>\n",
       "      <td>Development</td>\n",
       "      <td>Program</td>\n",
       "      <td>0</td>\n",
       "      <td>0</td>\n",
       "      <td>0</td>\n",
       "      <td>NaN</td>\n",
       "    </tr>\n",
       "    <tr>\n",
       "      <th>21229</th>\n",
       "      <td>324074</td>\n",
       "      <td>932</td>\n",
       "      <td>354</td>\n",
       "      <td>Development</td>\n",
       "      <td>Program</td>\n",
       "      <td>0</td>\n",
       "      <td>0</td>\n",
       "      <td>0</td>\n",
       "      <td>NaN</td>\n",
       "    </tr>\n",
       "    <tr>\n",
       "      <th>21230</th>\n",
       "      <td>324075</td>\n",
       "      <td>933</td>\n",
       "      <td>354</td>\n",
       "      <td>Development</td>\n",
       "      <td>Program</td>\n",
       "      <td>0</td>\n",
       "      <td>0</td>\n",
       "      <td>0</td>\n",
       "      <td>NaN</td>\n",
       "    </tr>\n",
       "    <tr>\n",
       "      <th>21231</th>\n",
       "      <td>324076</td>\n",
       "      <td>934</td>\n",
       "      <td>354</td>\n",
       "      <td>Development</td>\n",
       "      <td>Program</td>\n",
       "      <td>0</td>\n",
       "      <td>0</td>\n",
       "      <td>0</td>\n",
       "      <td>NaN</td>\n",
       "    </tr>\n",
       "    <tr>\n",
       "      <th>21232</th>\n",
       "      <td>324077</td>\n",
       "      <td>935</td>\n",
       "      <td>354</td>\n",
       "      <td>Development</td>\n",
       "      <td>Program</td>\n",
       "      <td>0</td>\n",
       "      <td>0</td>\n",
       "      <td>0</td>\n",
       "      <td>NaN</td>\n",
       "    </tr>\n",
       "    <tr>\n",
       "      <th>21233</th>\n",
       "      <td>324078</td>\n",
       "      <td>936</td>\n",
       "      <td>354</td>\n",
       "      <td>Development</td>\n",
       "      <td>Program</td>\n",
       "      <td>0</td>\n",
       "      <td>0</td>\n",
       "      <td>0</td>\n",
       "      <td>NaN</td>\n",
       "    </tr>\n",
       "    <tr>\n",
       "      <th>21234</th>\n",
       "      <td>324079</td>\n",
       "      <td>937</td>\n",
       "      <td>354</td>\n",
       "      <td>Development</td>\n",
       "      <td>Program</td>\n",
       "      <td>0</td>\n",
       "      <td>0</td>\n",
       "      <td>0</td>\n",
       "      <td>NaN</td>\n",
       "    </tr>\n",
       "    <tr>\n",
       "      <th>21235</th>\n",
       "      <td>324080</td>\n",
       "      <td>938</td>\n",
       "      <td>354</td>\n",
       "      <td>Development</td>\n",
       "      <td>Program</td>\n",
       "      <td>1</td>\n",
       "      <td>0</td>\n",
       "      <td>0</td>\n",
       "      <td>NaN</td>\n",
       "    </tr>\n",
       "    <tr>\n",
       "      <th>21236</th>\n",
       "      <td>324081</td>\n",
       "      <td>939</td>\n",
       "      <td>354</td>\n",
       "      <td>Development</td>\n",
       "      <td>Program</td>\n",
       "      <td>1</td>\n",
       "      <td>0</td>\n",
       "      <td>0</td>\n",
       "      <td>NaN</td>\n",
       "    </tr>\n",
       "    <tr>\n",
       "      <th>21237</th>\n",
       "      <td>324082</td>\n",
       "      <td>940</td>\n",
       "      <td>354</td>\n",
       "      <td>Development</td>\n",
       "      <td>Program</td>\n",
       "      <td>1</td>\n",
       "      <td>0</td>\n",
       "      <td>0</td>\n",
       "      <td>NaN</td>\n",
       "    </tr>\n",
       "    <tr>\n",
       "      <th>21238</th>\n",
       "      <td>324083</td>\n",
       "      <td>941</td>\n",
       "      <td>354</td>\n",
       "      <td>Development</td>\n",
       "      <td>Program</td>\n",
       "      <td>1</td>\n",
       "      <td>0</td>\n",
       "      <td>0</td>\n",
       "      <td>NaN</td>\n",
       "    </tr>\n",
       "    <tr>\n",
       "      <th>21239</th>\n",
       "      <td>324084</td>\n",
       "      <td>942</td>\n",
       "      <td>354</td>\n",
       "      <td>Development</td>\n",
       "      <td>Program</td>\n",
       "      <td>1</td>\n",
       "      <td>0</td>\n",
       "      <td>0</td>\n",
       "      <td>NaN</td>\n",
       "    </tr>\n",
       "  </tbody>\n",
       "</table>\n",
       "</div>"
      ],
      "text/plain": [
       "           ID  Day_No  Course_ID Course_Domain Course_Type  Short_Promotion  \\\n",
       "21180  324025     883        354   Development     Program                1   \n",
       "21181  324026     884        354   Development     Program                1   \n",
       "21182  324027     885        354   Development     Program                1   \n",
       "21183  324028     886        354   Development     Program                1   \n",
       "21184  324029     887        354   Development     Program                0   \n",
       "21185  324030     888        354   Development     Program                0   \n",
       "21186  324031     889        354   Development     Program                0   \n",
       "21187  324032     890        354   Development     Program                0   \n",
       "21188  324033     891        354   Development     Program                0   \n",
       "21189  324034     892        354   Development     Program                0   \n",
       "21190  324035     893        354   Development     Program                0   \n",
       "21191  324036     894        354   Development     Program                0   \n",
       "21192  324037     895        354   Development     Program                0   \n",
       "21193  324038     896        354   Development     Program                1   \n",
       "21194  324039     897        354   Development     Program                1   \n",
       "21195  324040     898        354   Development     Program                1   \n",
       "21196  324041     899        354   Development     Program                1   \n",
       "21197  324042     900        354   Development     Program                1   \n",
       "21198  324043     901        354   Development     Program                0   \n",
       "21199  324044     902        354   Development     Program                0   \n",
       "21200  324045     903        354   Development     Program                0   \n",
       "21201  324046     904        354   Development     Program                0   \n",
       "21202  324047     905        354   Development     Program                0   \n",
       "21203  324048     906        354   Development     Program                0   \n",
       "21204  324049     907        354   Development     Program                0   \n",
       "21205  324050     908        354   Development     Program                0   \n",
       "21206  324051     909        354   Development     Program                0   \n",
       "21207  324052     910        354   Development     Program                1   \n",
       "21208  324053     911        354   Development     Program                1   \n",
       "21209  324054     912        354   Development     Program                1   \n",
       "21210  324055     913        354   Development     Program                1   \n",
       "21211  324056     914        354   Development     Program                1   \n",
       "21212  324057     915        354   Development     Program                0   \n",
       "21213  324058     916        354   Development     Program                0   \n",
       "21214  324059     917        354   Development     Program                0   \n",
       "21215  324060     918        354   Development     Program                0   \n",
       "21216  324061     919        354   Development     Program                0   \n",
       "21217  324062     920        354   Development     Program                0   \n",
       "21218  324063     921        354   Development     Program                0   \n",
       "21219  324064     922        354   Development     Program                0   \n",
       "21220  324065     923        354   Development     Program                0   \n",
       "21221  324066     924        354   Development     Program                1   \n",
       "21222  324067     925        354   Development     Program                1   \n",
       "21223  324068     926        354   Development     Program                1   \n",
       "21224  324069     927        354   Development     Program                1   \n",
       "21225  324070     928        354   Development     Program                1   \n",
       "21226  324071     929        354   Development     Program                0   \n",
       "21227  324072     930        354   Development     Program                0   \n",
       "21228  324073     931        354   Development     Program                0   \n",
       "21229  324074     932        354   Development     Program                0   \n",
       "21230  324075     933        354   Development     Program                0   \n",
       "21231  324076     934        354   Development     Program                0   \n",
       "21232  324077     935        354   Development     Program                0   \n",
       "21233  324078     936        354   Development     Program                0   \n",
       "21234  324079     937        354   Development     Program                0   \n",
       "21235  324080     938        354   Development     Program                1   \n",
       "21236  324081     939        354   Development     Program                1   \n",
       "21237  324082     940        354   Development     Program                1   \n",
       "21238  324083     941        354   Development     Program                1   \n",
       "21239  324084     942        354   Development     Program                1   \n",
       "\n",
       "       Public_Holiday  Long_Promotion  Competition_Metric  \n",
       "21180               0               0                 NaN  \n",
       "21181               0               0                 NaN  \n",
       "21182               0               0                 NaN  \n",
       "21183               0               0                 NaN  \n",
       "21184               0               0                 NaN  \n",
       "21185               0               0                 NaN  \n",
       "21186               0               0                 NaN  \n",
       "21187               0               0                 NaN  \n",
       "21188               0               0                 NaN  \n",
       "21189               0               0                 NaN  \n",
       "21190               0               0                 NaN  \n",
       "21191               0               0                 NaN  \n",
       "21192               0               0                 NaN  \n",
       "21193               0               0                 NaN  \n",
       "21194               0               0                 NaN  \n",
       "21195               0               0                 NaN  \n",
       "21196               0               0                 NaN  \n",
       "21197               0               0                 NaN  \n",
       "21198               0               0                 NaN  \n",
       "21199               0               0                 NaN  \n",
       "21200               0               0                 NaN  \n",
       "21201               0               0                 NaN  \n",
       "21202               0               0                 NaN  \n",
       "21203               0               0                 NaN  \n",
       "21204               0               0                 NaN  \n",
       "21205               0               0                 NaN  \n",
       "21206               0               0                 NaN  \n",
       "21207               0               0                 NaN  \n",
       "21208               0               0                 NaN  \n",
       "21209               0               0                 NaN  \n",
       "21210               0               0                 NaN  \n",
       "21211               0               0                 NaN  \n",
       "21212               0               0                 NaN  \n",
       "21213               0               0                 NaN  \n",
       "21214               0               0                 NaN  \n",
       "21215               0               0                 NaN  \n",
       "21216               0               0                 NaN  \n",
       "21217               0               0                 NaN  \n",
       "21218               0               0                 NaN  \n",
       "21219               0               0                 NaN  \n",
       "21220               0               0                 NaN  \n",
       "21221               0               0                 NaN  \n",
       "21222               0               0                 NaN  \n",
       "21223               0               0                 NaN  \n",
       "21224               0               0                 NaN  \n",
       "21225               0               0                 NaN  \n",
       "21226               0               0                 NaN  \n",
       "21227               0               0                 NaN  \n",
       "21228               0               0                 NaN  \n",
       "21229               0               0                 NaN  \n",
       "21230               0               0                 NaN  \n",
       "21231               0               0                 NaN  \n",
       "21232               0               0                 NaN  \n",
       "21233               0               0                 NaN  \n",
       "21234               0               0                 NaN  \n",
       "21235               0               0                 NaN  \n",
       "21236               0               0                 NaN  \n",
       "21237               0               0                 NaN  \n",
       "21238               0               0                 NaN  \n",
       "21239               0               0                 NaN  "
      ]
     },
     "execution_count": 30,
     "metadata": {},
     "output_type": "execute_result"
    }
   ],
   "source": [
    "test[test['Course_ID']==354]"
   ]
  },
  {
   "cell_type": "markdown",
   "metadata": {},
   "source": [
    "#### It seems, of all 600 courses, we do not have competition metric for two courses. Let's impute the values using mean "
   ]
  },
  {
   "cell_type": "code",
   "execution_count": 31,
   "metadata": {},
   "outputs": [],
   "source": [
    "#Should try to combine train and test to impute metric to check any improvements later"
   ]
  },
  {
   "cell_type": "code",
   "execution_count": 25,
   "metadata": {},
   "outputs": [],
   "source": [
    "data[\"Competition_Metric\"] = data.groupby([\"Course_Domain\",\"Course_Type\"])[\"Competition_Metric\"].transform(lambda x: \n",
    "                                                                                                           x.fillna(x.mean()))"
   ]
  },
  {
   "cell_type": "code",
   "execution_count": 26,
   "metadata": {},
   "outputs": [],
   "source": [
    "test[\"Competition_Metric\"] = test.groupby([\"Course_Domain\",\"Course_Type\"])[\"Competition_Metric\"].transform(lambda x: \n",
    "                                                                                                           x.fillna(x.mean()))"
   ]
  },
  {
   "cell_type": "code",
   "execution_count": 27,
   "metadata": {},
   "outputs": [
    {
     "data": {
      "text/plain": [
       "ID                    0\n",
       "Day_No                0\n",
       "Course_ID             0\n",
       "Course_Domain         0\n",
       "Course_Type           0\n",
       "Short_Promotion       0\n",
       "Public_Holiday        0\n",
       "Long_Promotion        0\n",
       "User_Traffic          0\n",
       "Competition_Metric    0\n",
       "Sales                 0\n",
       "dtype: int64"
      ]
     },
     "execution_count": 27,
     "metadata": {},
     "output_type": "execute_result"
    }
   ],
   "source": [
    "data.isnull().sum()"
   ]
  },
  {
   "cell_type": "code",
   "execution_count": 28,
   "metadata": {},
   "outputs": [
    {
     "data": {
      "text/plain": [
       "ID                    0\n",
       "Day_No                0\n",
       "Course_ID             0\n",
       "Course_Domain         0\n",
       "Course_Type           0\n",
       "Short_Promotion       0\n",
       "Public_Holiday        0\n",
       "Long_Promotion        0\n",
       "Competition_Metric    0\n",
       "dtype: int64"
      ]
     },
     "execution_count": 28,
     "metadata": {},
     "output_type": "execute_result"
    }
   ],
   "source": [
    "test.isnull().sum()"
   ]
  },
  {
   "cell_type": "markdown",
   "metadata": {},
   "source": []
  },
  {
   "cell_type": "code",
   "execution_count": null,
   "metadata": {},
   "outputs": [],
   "source": []
  },
  {
   "cell_type": "markdown",
   "metadata": {},
   "source": [
    "### Our  data: \n",
    "\n",
    "    train - data\n",
    "    test - test"
   ]
  },
  {
   "cell_type": "markdown",
   "metadata": {},
   "source": [
    "## Univariate Analysis (UVA)"
   ]
  },
  {
   "cell_type": "code",
   "execution_count": 29,
   "metadata": {},
   "outputs": [
    {
     "name": "stdout",
     "output_type": "stream",
     "text": [
      "<class 'pandas.core.frame.DataFrame'>\n",
      "RangeIndex: 512087 entries, 0 to 512086\n",
      "Data columns (total 11 columns):\n",
      " #   Column              Non-Null Count   Dtype  \n",
      "---  ------              --------------   -----  \n",
      " 0   ID                  512087 non-null  int64  \n",
      " 1   Day_No              512087 non-null  int64  \n",
      " 2   Course_ID           512087 non-null  int64  \n",
      " 3   Course_Domain       512087 non-null  object \n",
      " 4   Course_Type         512087 non-null  object \n",
      " 5   Short_Promotion     512087 non-null  int64  \n",
      " 6   Public_Holiday      512087 non-null  int64  \n",
      " 7   Long_Promotion      512087 non-null  int64  \n",
      " 8   User_Traffic        512087 non-null  float64\n",
      " 9   Competition_Metric  512087 non-null  float64\n",
      " 10  Sales               512087 non-null  float64\n",
      "dtypes: float64(3), int64(6), object(2)\n",
      "memory usage: 43.0+ MB\n"
     ]
    }
   ],
   "source": [
    "data.info()"
   ]
  },
  {
   "cell_type": "code",
   "execution_count": 31,
   "metadata": {},
   "outputs": [],
   "source": [
    "cat_cols =  ['Course_Domain','Course_Type','Short_Promotion','Public_Holiday',\n",
    "             'Long_Promotion']\n",
    "cont_cols = ['Day_No','User_Traffic','Competition_Metric','Sales']"
   ]
  },
  {
   "cell_type": "code",
   "execution_count": 32,
   "metadata": {},
   "outputs": [],
   "source": [
    "def plot_cat(var, l=8,b=5):\n",
    "    plt.figure( figsize = (l, b))\n",
    "    sns.countplot(data[var], order = data[var].value_counts().index)"
   ]
  },
  {
   "cell_type": "code",
   "execution_count": 33,
   "metadata": {},
   "outputs": [],
   "source": [
    "def plot_cont(var, l=8,b=5):\n",
    "    plt.figure(figsize=(l, b))\n",
    "    sns.distplot(data[var])\n",
    "    plt.xlabel(var)"
   ]
  },
  {
   "cell_type": "code",
   "execution_count": 34,
   "metadata": {},
   "outputs": [],
   "source": [
    "def plot_cont_kde(var, l=8,b=5):\n",
    "    \n",
    "    mini = data[var].min()\n",
    "    maxi = data[var].max()\n",
    "    ran = data[var].max()-data[var].min()\n",
    "    mean = data[var].mean()\n",
    "    skew = data[var].skew()\n",
    "    kurt = data[var].kurtosis()\n",
    "    median = data[var].median()\n",
    "    st_dev = data[var].std()\n",
    "    points = mean-st_dev, mean+st_dev\n",
    "    \n",
    "    fig, axes=plt.subplots(1,2)\n",
    "    sns.boxplot(data=data,x=var, ax=axes[0])\n",
    "    sns.distplot(a=data[var], ax=axes[1], color='#ff4125')\n",
    "    sns.lineplot(points, [0,0], color = 'black', label = \"std_dev\")\n",
    "    sns.scatterplot([mini, maxi], [0,0], color = 'orange', label = \"min/max\")\n",
    "    sns.scatterplot([mean], [0], color = 'red', label = \"mean\")\n",
    "    sns.scatterplot([median], [0], color = 'blue', label = \"median\")\n",
    "    fig.set_size_inches(l,b)\n",
    "    plt.title('std_dev = {}; kurtosis = {};\\nskew = {}; range = {}\\nmean = {}; median =  {}'.format((round(points[0],2),round(points[1],2)),\n",
    "    round(kurt,2),round(skew,2),(round(mini,2),round(maxi,2),\n",
    "    round(ran,2)),round(mean,2), round(median,2)))"
   ]
  },
  {
   "cell_type": "code",
   "execution_count": 35,
   "metadata": {
    "scrolled": true
   },
   "outputs": [
    {
     "data": {
      "image/png": "[encoded data removed]",
      "text/plain": [
       "<Figure size 576x360 with 1 Axes>"
      ]
     },
     "metadata": {
      "needs_background": "light"
     },
     "output_type": "display_data"
    },
    {
     "data": {
      "image/png": "[encoded data removed]",
      "text/plain": [
       "<Figure size 576x360 with 1 Axes>"
      ]
     },
     "metadata": {
      "needs_background": "light"
     },
     "output_type": "display_data"
    },
    {
     "data": {
      "image/png": "[encoded data removed]",
      "text/plain": [
       "<Figure size 576x360 with 1 Axes>"
      ]
     },
     "metadata": {
      "needs_background": "light"
     },
     "output_type": "display_data"
    },
    {
     "data": {
      "image/png": "[encoded data removed]",
      "text/plain": [
       "<Figure size 576x360 with 1 Axes>"
      ]
     },
     "metadata": {
      "needs_background": "light"
     },
     "output_type": "display_data"
    },
    {
     "data": {
      "image/png": "[encoded data removed]",
      "text/plain": [
       "<Figure size 576x360 with 1 Axes>"
      ]
     },
     "metadata": {
      "needs_background": "light"
     },
     "output_type": "display_data"
    }
   ],
   "source": [
    "for i in cat_cols:\n",
    "    plot_cat(i)"
   ]
  },
  {
   "cell_type": "markdown",
   "metadata": {},
   "source": [
    "### Inferences:\n",
    "\n",
    "    Course Domain - Max courses are for Development and least for Business.\n",
    "    Course type - count of degree in total course available is pretty low\n",
    "    "
   ]
  },
  {
   "cell_type": "code",
   "execution_count": 36,
   "metadata": {
    "scrolled": true
   },
   "outputs": [
    {
     "data": {
      "image/png": "[encoded data removed]",
      "text/plain": [
       "<Figure size 576x360 with 1 Axes>"
      ]
     },
     "metadata": {
      "needs_background": "light"
     },
     "output_type": "display_data"
    },
    {
     "data": {
      "image/png": "[encoded data removed]",
      "text/plain": [
       "<Figure size 576x360 with 1 Axes>"
      ]
     },
     "metadata": {
      "needs_background": "light"
     },
     "output_type": "display_data"
    },
    {
     "data": {
      "image/png": "[encoded data removed]",
      "text/plain": [
       "<Figure size 576x360 with 1 Axes>"
      ]
     },
     "metadata": {
      "needs_background": "light"
     },
     "output_type": "display_data"
    },
    {
     "data": {
      "image/png": "[encoded data removed]",
      "text/plain": [
       "<Figure size 576x360 with 1 Axes>"
      ]
     },
     "metadata": {
      "needs_background": "light"
     },
     "output_type": "display_data"
    }
   ],
   "source": [
    "for i in cont_cols:\n",
    "    plot_cont(i)"
   ]
  },
  {
   "cell_type": "code",
   "execution_count": 37,
   "metadata": {},
   "outputs": [
    {
     "data": {
      "image/png": "[encoded data removed]",
      "text/plain": [
       "<Figure size 1440x432 with 2 Axes>"
      ]
     },
     "metadata": {
      "needs_background": "light"
     },
     "output_type": "display_data"
    }
   ],
   "source": [
    "plot_cont_kde('Sales',20,6)"
   ]
  },
  {
   "cell_type": "markdown",
   "metadata": {},
   "source": [
    "### Inferences:\n",
    "\n",
    "After capping the outliers, Sales is giving a distribution similar to normal.\n",
    "\n",
    "\n",
    "    "
   ]
  },
  {
   "cell_type": "markdown",
   "metadata": {},
   "source": [
    "## BVA"
   ]
  },
  {
   "cell_type": "markdown",
   "metadata": {},
   "source": [
    "### Cont-Cont"
   ]
  },
  {
   "cell_type": "code",
   "execution_count": 38,
   "metadata": {},
   "outputs": [],
   "source": [
    "#Defining a function to calculate correlation among columns:\n",
    "def corr_2_cols(Col1, Col2):\n",
    "    res = pd.crosstab(data[Col1],data[Col2])\n",
    "    # res = df1.groupby([Col1, Col2]).size().unstack()\n",
    "    res['perc'] = (res[res.columns[1]]/(res[res.columns[0]] + res[res.columns[1]]))\n",
    "    return res"
   ]
  },
  {
   "cell_type": "code",
   "execution_count": 39,
   "metadata": {},
   "outputs": [
    {
     "data": {
      "text/plain": [
       "['Day_No', 'User_Traffic', 'Competition_Metric', 'Sales']"
      ]
     },
     "execution_count": 39,
     "metadata": {},
     "output_type": "execute_result"
    }
   ],
   "source": [
    "cont_cols"
   ]
  },
  {
   "cell_type": "code",
   "execution_count": 40,
   "metadata": {},
   "outputs": [
    {
     "data": {
      "text/plain": [
       "<seaborn.axisgrid.PairGrid at 0x17aca16c988>"
      ]
     },
     "execution_count": 40,
     "metadata": {},
     "output_type": "execute_result"
    },
    {
     "data": {
      "text/plain": [
       "<Figure size 840x560 with 0 Axes>"
      ]
     },
     "metadata": {},
     "output_type": "display_data"
    },
    {
     "data": {
      "image/png": "[encoded data removed]",
      "text/plain": [
       "<Figure size 720x720 with 20 Axes>"
      ]
     },
     "metadata": {
      "needs_background": "light"
     },
     "output_type": "display_data"
    }
   ],
   "source": [
    "# scatter plot for transactional variables\n",
    "plt.figure(dpi=140)\n",
    "sns.pairplot(data[cont_cols])"
   ]
  },
  {
   "cell_type": "code",
   "execution_count": 41,
   "metadata": {},
   "outputs": [
    {
     "data": {
      "text/html": [
       "<div>\n",
       "<style scoped>\n",
       "    .dataframe tbody tr th:only-of-type {\n",
       "        vertical-align: middle;\n",
       "    }\n",
       "\n",
       "    .dataframe tbody tr th {\n",
       "        vertical-align: top;\n",
       "    }\n",
       "\n",
       "    .dataframe thead th {\n",
       "        text-align: right;\n",
       "    }\n",
       "</style>\n",
       "<table border=\"1\" class=\"dataframe\">\n",
       "  <thead>\n",
       "    <tr style=\"text-align: right;\">\n",
       "      <th></th>\n",
       "      <th>Day_No</th>\n",
       "      <th>User_Traffic</th>\n",
       "      <th>Competition_Metric</th>\n",
       "      <th>Sales</th>\n",
       "    </tr>\n",
       "  </thead>\n",
       "  <tbody>\n",
       "    <tr>\n",
       "      <th>Day_No</th>\n",
       "      <td>1.000000</td>\n",
       "      <td>0.021338</td>\n",
       "      <td>0.003176</td>\n",
       "      <td>0.062157</td>\n",
       "    </tr>\n",
       "    <tr>\n",
       "      <th>User_Traffic</th>\n",
       "      <td>0.021338</td>\n",
       "      <td>1.000000</td>\n",
       "      <td>-0.156342</td>\n",
       "      <td>0.842259</td>\n",
       "    </tr>\n",
       "    <tr>\n",
       "      <th>Competition_Metric</th>\n",
       "      <td>0.003176</td>\n",
       "      <td>-0.156342</td>\n",
       "      <td>1.000000</td>\n",
       "      <td>-0.019415</td>\n",
       "    </tr>\n",
       "    <tr>\n",
       "      <th>Sales</th>\n",
       "      <td>0.062157</td>\n",
       "      <td>0.842259</td>\n",
       "      <td>-0.019415</td>\n",
       "      <td>1.000000</td>\n",
       "    </tr>\n",
       "  </tbody>\n",
       "</table>\n",
       "</div>"
      ],
      "text/plain": [
       "                      Day_No  User_Traffic  Competition_Metric     Sales\n",
       "Day_No              1.000000      0.021338            0.003176  0.062157\n",
       "User_Traffic        0.021338      1.000000           -0.156342  0.842259\n",
       "Competition_Metric  0.003176     -0.156342            1.000000 -0.019415\n",
       "Sales               0.062157      0.842259           -0.019415  1.000000"
      ]
     },
     "execution_count": 41,
     "metadata": {},
     "output_type": "execute_result"
    }
   ],
   "source": [
    "correlation = data[cont_cols].corr()\n",
    "correlation"
   ]
  },
  {
   "cell_type": "code",
   "execution_count": 42,
   "metadata": {},
   "outputs": [
    {
     "data": {
      "text/plain": [
       "Sales                 1.000000\n",
       "User_Traffic          0.842259\n",
       "Short_Promotion       0.374855\n",
       "Day_No                0.062157\n",
       "ID                    0.018910\n",
       "Course_ID             0.018763\n",
       "Competition_Metric   -0.019415\n",
       "Long_Promotion       -0.110404\n",
       "Public_Holiday       -0.131280\n",
       "Name: Sales, dtype: float64"
      ]
     },
     "execution_count": 42,
     "metadata": {},
     "output_type": "execute_result"
    }
   ],
   "source": [
    "cor_mat= data.corr()\n",
    "cor_with_tar=cor_mat.sort_values(['Sales'],ascending=False)\n",
    "cor_with_tar[\"Sales\"]"
   ]
  },
  {
   "cell_type": "code",
   "execution_count": 37,
   "metadata": {},
   "outputs": [],
   "source": [
    "df = data.copy()"
   ]
  },
  {
   "cell_type": "code",
   "execution_count": 38,
   "metadata": {},
   "outputs": [],
   "source": [
    "#applying log to further check the correlation"
   ]
  },
  {
   "cell_type": "code",
   "execution_count": 39,
   "metadata": {},
   "outputs": [
    {
     "ename": "NameError",
     "evalue": "name 'cont_cols' is not defined",
     "output_type": "error",
     "traceback": [
      "\u001b[1;31m---------------------------------------------------------------------------\u001b[0m",
      "\u001b[1;31mNameError\u001b[0m                                 Traceback (most recent call last)",
      "\u001b[1;32m<ipython-input-39-032f2841d24d>\u001b[0m in \u001b[0;36m<module>\u001b[1;34m\u001b[0m\n\u001b[0;32m      1\u001b[0m \u001b[1;31m#taking log of every value to negate outliers\u001b[0m\u001b[1;33m\u001b[0m\u001b[1;33m\u001b[0m\u001b[1;33m\u001b[0m\u001b[0m\n\u001b[1;32m----> 2\u001b[1;33m \u001b[1;32mfor\u001b[0m \u001b[0mcolumn\u001b[0m \u001b[1;32min\u001b[0m \u001b[0mcont_cols\u001b[0m\u001b[1;33m:\u001b[0m\u001b[1;33m\u001b[0m\u001b[1;33m\u001b[0m\u001b[0m\n\u001b[0m\u001b[0;32m      3\u001b[0m   \u001b[0mmini\u001b[0m\u001b[1;33m=\u001b[0m\u001b[1;36m1\u001b[0m\u001b[1;33m\u001b[0m\u001b[1;33m\u001b[0m\u001b[0m\n\u001b[0;32m      4\u001b[0m   \u001b[1;32mif\u001b[0m \u001b[0mdata\u001b[0m\u001b[1;33m[\u001b[0m\u001b[0mcolumn\u001b[0m\u001b[1;33m]\u001b[0m\u001b[1;33m.\u001b[0m\u001b[0mmin\u001b[0m\u001b[1;33m(\u001b[0m\u001b[1;33m)\u001b[0m\u001b[1;33m<\u001b[0m\u001b[1;36m0\u001b[0m\u001b[1;33m:\u001b[0m\u001b[1;33m\u001b[0m\u001b[1;33m\u001b[0m\u001b[0m\n\u001b[0;32m      5\u001b[0m     \u001b[0mmini\u001b[0m \u001b[1;33m=\u001b[0m  \u001b[0mabs\u001b[0m\u001b[1;33m(\u001b[0m\u001b[0mdf\u001b[0m\u001b[1;33m[\u001b[0m\u001b[0mcolumn\u001b[0m\u001b[1;33m]\u001b[0m\u001b[1;33m.\u001b[0m\u001b[0mmin\u001b[0m\u001b[1;33m(\u001b[0m\u001b[1;33m)\u001b[0m\u001b[1;33m)\u001b[0m \u001b[1;33m+\u001b[0m \u001b[1;36m1\u001b[0m\u001b[1;33m\u001b[0m\u001b[1;33m\u001b[0m\u001b[0m\n",
      "\u001b[1;31mNameError\u001b[0m: name 'cont_cols' is not defined"
     ]
    }
   ],
   "source": [
    "#taking log of every value to negate outliers\n",
    "for column in cont_cols:\n",
    "  mini=1\n",
    "  if data[column].min()<0:\n",
    "    mini =  abs(df[column].min()) + 1\n",
    "  \n",
    "  df[column] = [i+mini for i in df[column]]\n",
    "  df[column] = df[column].map(lambda x : np.log(x))"
   ]
  },
  {
   "cell_type": "code",
   "execution_count": 40,
   "metadata": {},
   "outputs": [
    {
     "ename": "NameError",
     "evalue": "name 'cont_cols' is not defined",
     "output_type": "error",
     "traceback": [
      "\u001b[1;31m---------------------------------------------------------------------------\u001b[0m",
      "\u001b[1;31mNameError\u001b[0m                                 Traceback (most recent call last)",
      "\u001b[1;32m<ipython-input-40-0e56dba921de>\u001b[0m in \u001b[0;36m<module>\u001b[1;34m\u001b[0m\n\u001b[0;32m      1\u001b[0m \u001b[1;31m# scatter plot for transactional variables\u001b[0m\u001b[1;33m\u001b[0m\u001b[1;33m\u001b[0m\u001b[1;33m\u001b[0m\u001b[0m\n\u001b[0;32m      2\u001b[0m \u001b[0mplt\u001b[0m\u001b[1;33m.\u001b[0m\u001b[0mfigure\u001b[0m\u001b[1;33m(\u001b[0m\u001b[0mdpi\u001b[0m\u001b[1;33m=\u001b[0m\u001b[1;36m140\u001b[0m\u001b[1;33m)\u001b[0m\u001b[1;33m\u001b[0m\u001b[1;33m\u001b[0m\u001b[0m\n\u001b[1;32m----> 3\u001b[1;33m \u001b[0msns\u001b[0m\u001b[1;33m.\u001b[0m\u001b[0mpairplot\u001b[0m\u001b[1;33m(\u001b[0m\u001b[0mdf\u001b[0m\u001b[1;33m[\u001b[0m\u001b[0mcont_cols\u001b[0m\u001b[1;33m]\u001b[0m\u001b[1;33m)\u001b[0m\u001b[1;33m\u001b[0m\u001b[1;33m\u001b[0m\u001b[0m\n\u001b[0m",
      "\u001b[1;31mNameError\u001b[0m: name 'cont_cols' is not defined"
     ]
    },
    {
     "data": {
      "text/plain": [
       "<Figure size 840x560 with 0 Axes>"
      ]
     },
     "metadata": {},
     "output_type": "display_data"
    }
   ],
   "source": [
    "# scatter plot for transactional variables\n",
    "plt.figure(dpi=140)\n",
    "sns.pairplot(df[cont_cols])"
   ]
  },
  {
   "cell_type": "code",
   "execution_count": 48,
   "metadata": {
    "scrolled": true
   },
   "outputs": [
    {
     "data": {
      "text/plain": [
       "['Day_No', 'User_Traffic', 'Competition_Metric', 'Sales']"
      ]
     },
     "execution_count": 48,
     "metadata": {},
     "output_type": "execute_result"
    }
   ],
   "source": [
    "cont_cols"
   ]
  },
  {
   "cell_type": "code",
   "execution_count": null,
   "metadata": {},
   "outputs": [],
   "source": []
  },
  {
   "cell_type": "markdown",
   "metadata": {},
   "source": [
    "## Features\n",
    "\n",
    "We can use Day_No to create further columns such as - year, month or week"
   ]
  },
  {
   "cell_type": "code",
   "execution_count": null,
   "metadata": {},
   "outputs": [],
   "source": []
  },
  {
   "cell_type": "markdown",
   "metadata": {},
   "source": [
    "Splitting dataset"
   ]
  },
  {
   "cell_type": "code",
   "execution_count": 30,
   "metadata": {},
   "outputs": [],
   "source": [
    "X= data.drop(columns= 'Sales',axis=1)\n",
    "y= data['Sales']\n",
    "X_train ,X_val, y_train ,y_val  = train_test_split(X, y, random_state = 7)\n",
    "col=X_train.columns"
   ]
  },
  {
   "cell_type": "code",
   "execution_count": 31,
   "metadata": {},
   "outputs": [],
   "source": [
    "#year\n",
    "data[\"Year_No\"]=np.ceil(data[\"Day_No\"]/365)\n",
    "test[\"Year_No\"]=np.ceil(test[\"Day_No\"]/365)\n"
   ]
  },
  {
   "cell_type": "code",
   "execution_count": 32,
   "metadata": {},
   "outputs": [],
   "source": [
    "# alligning day as per year\n",
    "data[\"Year_Day_No\"]=0\n",
    "test[\"Year_Day_No\"]=0\n",
    "\n",
    "data.loc[data[\"Year_No\"]==1,\"Year_Day_No\"]=data[\"Day_No\"]\n",
    "data.loc[data[\"Year_No\"]==2,\"Year_Day_No\"]=data[\"Day_No\"]-365\n",
    "data.loc[data[\"Year_No\"]==3,\"Year_Day_No\"]=data[\"Day_No\"]-730\n",
    "\n",
    "test.loc[test[\"Year_No\"]==1,\"Year_Day_No\"]=test[\"Day_No\"]\n",
    "test.loc[test[\"Year_No\"]==2,\"Year_Day_No\"]=test[\"Day_No\"]-365\n",
    "test.loc[test[\"Year_No\"]==3,\"Year_Day_No\"]=test[\"Day_No\"]-730"
   ]
  },
  {
   "cell_type": "code",
   "execution_count": 33,
   "metadata": {},
   "outputs": [],
   "source": [
    "#month\n",
    "\n",
    "data[\"Months\"]=np.ceil(data[\"Year_Day_No\"]/30)\n",
    "test[\"Months\"]=np.ceil(test[\"Year_Day_No\"]/30)\n",
    "\n",
    "data.loc[data[\"Months\"]==13,\"Months\"]=12\n",
    "test.loc[test[\"Months\"]==13,\"Months\"]=12"
   ]
  },
  {
   "cell_type": "code",
   "execution_count": 34,
   "metadata": {},
   "outputs": [],
   "source": [
    "#weeks \n",
    "data[\"Weeks\"]=np.ceil(data[\"Year_Day_No\"]/7)\n",
    "test[\"Weeks\"]=np.ceil(test[\"Year_Day_No\"]/7)\n",
    "\n",
    "data.loc[data[\"Weeks\"]==53,\"Weeks\"]=52\n",
    "test.loc[data[\"Weeks\"]==53,\"Weeks\"]=52"
   ]
  },
  {
   "cell_type": "code",
   "execution_count": 35,
   "metadata": {
    "scrolled": true
   },
   "outputs": [
    {
     "data": {
      "text/html": [
       "<div>\n",
       "<style scoped>\n",
       "    .dataframe tbody tr th:only-of-type {\n",
       "        vertical-align: middle;\n",
       "    }\n",
       "\n",
       "    .dataframe tbody tr th {\n",
       "        vertical-align: top;\n",
       "    }\n",
       "\n",
       "    .dataframe thead th {\n",
       "        text-align: right;\n",
       "    }\n",
       "</style>\n",
       "<table border=\"1\" class=\"dataframe\">\n",
       "  <thead>\n",
       "    <tr style=\"text-align: right;\">\n",
       "      <th></th>\n",
       "      <th>ID</th>\n",
       "      <th>Day_No</th>\n",
       "      <th>Course_ID</th>\n",
       "      <th>Course_Domain</th>\n",
       "      <th>Course_Type</th>\n",
       "      <th>Short_Promotion</th>\n",
       "      <th>Public_Holiday</th>\n",
       "      <th>Long_Promotion</th>\n",
       "      <th>User_Traffic</th>\n",
       "      <th>Competition_Metric</th>\n",
       "      <th>Sales</th>\n",
       "      <th>Year_No</th>\n",
       "      <th>Year_Day_No</th>\n",
       "      <th>Months</th>\n",
       "      <th>Weeks</th>\n",
       "    </tr>\n",
       "  </thead>\n",
       "  <tbody>\n",
       "    <tr>\n",
       "      <th>250372</th>\n",
       "      <td>267953</td>\n",
       "      <td>43</td>\n",
       "      <td>294</td>\n",
       "      <td>Development</td>\n",
       "      <td>Course</td>\n",
       "      <td>0</td>\n",
       "      <td>0</td>\n",
       "      <td>1</td>\n",
       "      <td>16107.0</td>\n",
       "      <td>0.024</td>\n",
       "      <td>105.0</td>\n",
       "      <td>1.0</td>\n",
       "      <td>43</td>\n",
       "      <td>2.0</td>\n",
       "      <td>7.0</td>\n",
       "    </tr>\n",
       "    <tr>\n",
       "      <th>118856</th>\n",
       "      <td>127197</td>\n",
       "      <td>307</td>\n",
       "      <td>140</td>\n",
       "      <td>Development</td>\n",
       "      <td>Course</td>\n",
       "      <td>0</td>\n",
       "      <td>0</td>\n",
       "      <td>1</td>\n",
       "      <td>8652.0</td>\n",
       "      <td>0.075</td>\n",
       "      <td>76.0</td>\n",
       "      <td>1.0</td>\n",
       "      <td>307</td>\n",
       "      <td>11.0</td>\n",
       "      <td>44.0</td>\n",
       "    </tr>\n",
       "    <tr>\n",
       "      <th>382800</th>\n",
       "      <td>409681</td>\n",
       "      <td>545</td>\n",
       "      <td>449</td>\n",
       "      <td>Software Marketing</td>\n",
       "      <td>Course</td>\n",
       "      <td>0</td>\n",
       "      <td>0</td>\n",
       "      <td>1</td>\n",
       "      <td>9114.0</td>\n",
       "      <td>0.326</td>\n",
       "      <td>75.0</td>\n",
       "      <td>2.0</td>\n",
       "      <td>180</td>\n",
       "      <td>6.0</td>\n",
       "      <td>26.0</td>\n",
       "    </tr>\n",
       "    <tr>\n",
       "      <th>173568</th>\n",
       "      <td>185749</td>\n",
       "      <td>227</td>\n",
       "      <td>204</td>\n",
       "      <td>Development</td>\n",
       "      <td>Course</td>\n",
       "      <td>1</td>\n",
       "      <td>1</td>\n",
       "      <td>1</td>\n",
       "      <td>8568.0</td>\n",
       "      <td>0.001</td>\n",
       "      <td>63.0</td>\n",
       "      <td>1.0</td>\n",
       "      <td>227</td>\n",
       "      <td>8.0</td>\n",
       "      <td>33.0</td>\n",
       "    </tr>\n",
       "    <tr>\n",
       "      <th>404672</th>\n",
       "      <td>433113</td>\n",
       "      <td>589</td>\n",
       "      <td>475</td>\n",
       "      <td>Development</td>\n",
       "      <td>Course</td>\n",
       "      <td>0</td>\n",
       "      <td>0</td>\n",
       "      <td>1</td>\n",
       "      <td>11592.0</td>\n",
       "      <td>0.013</td>\n",
       "      <td>66.0</td>\n",
       "      <td>2.0</td>\n",
       "      <td>224</td>\n",
       "      <td>8.0</td>\n",
       "      <td>32.0</td>\n",
       "    </tr>\n",
       "  </tbody>\n",
       "</table>\n",
       "</div>"
      ],
      "text/plain": [
       "            ID  Day_No  Course_ID       Course_Domain Course_Type  \\\n",
       "250372  267953      43        294         Development      Course   \n",
       "118856  127197     307        140         Development      Course   \n",
       "382800  409681     545        449  Software Marketing      Course   \n",
       "173568  185749     227        204         Development      Course   \n",
       "404672  433113     589        475         Development      Course   \n",
       "\n",
       "        Short_Promotion  Public_Holiday  Long_Promotion  User_Traffic  \\\n",
       "250372                0               0               1       16107.0   \n",
       "118856                0               0               1        8652.0   \n",
       "382800                0               0               1        9114.0   \n",
       "173568                1               1               1        8568.0   \n",
       "404672                0               0               1       11592.0   \n",
       "\n",
       "        Competition_Metric  Sales  Year_No  Year_Day_No  Months  Weeks  \n",
       "250372               0.024  105.0      1.0           43     2.0    7.0  \n",
       "118856               0.075   76.0      1.0          307    11.0   44.0  \n",
       "382800               0.326   75.0      2.0          180     6.0   26.0  \n",
       "173568               0.001   63.0      1.0          227     8.0   33.0  \n",
       "404672               0.013   66.0      2.0          224     8.0   32.0  "
      ]
     },
     "execution_count": 35,
     "metadata": {},
     "output_type": "execute_result"
    }
   ],
   "source": [
    "data.sample(5)"
   ]
  },
  {
   "cell_type": "code",
   "execution_count": 36,
   "metadata": {},
   "outputs": [],
   "source": [
    "data['Months']=data['Months'].astype(int).astype(str)\n",
    "data['Year_No'] = data['Year_No'].astype(int).astype(str)\n",
    "data['Weeks'] = data['Weeks'].astype(int).astype(str)\n",
    "\n",
    "test['Months']=test['Months'].astype(int).astype(str)\n",
    "test['Year_No'] = test['Year_No'].astype(int).astype(str)\n",
    "test['Weeks'] = test['Weeks'].astype(int).astype(str)\n"
   ]
  },
  {
   "cell_type": "code",
   "execution_count": 37,
   "metadata": {},
   "outputs": [],
   "source": [
    "cols=data[['Course_Domain','Course_Type',\"Year_No\",\"Months\",\"Weeks\",\"Long_Promotion\",\"Public_Holiday\",\"Short_Promotion\"]]\n",
    "for i in cols:\n",
    "    data[i]=data[i].astype('category')\n",
    "    test[i]=test[i].astype('category')"
   ]
  },
  {
   "cell_type": "code",
   "execution_count": 38,
   "metadata": {},
   "outputs": [
    {
     "name": "stdout",
     "output_type": "stream",
     "text": [
      "<class 'pandas.core.frame.DataFrame'>\n",
      "RangeIndex: 512087 entries, 0 to 512086\n",
      "Data columns (total 15 columns):\n",
      " #   Column              Non-Null Count   Dtype   \n",
      "---  ------              --------------   -----   \n",
      " 0   ID                  512087 non-null  int64   \n",
      " 1   Day_No              512087 non-null  int64   \n",
      " 2   Course_ID           512087 non-null  int64   \n",
      " 3   Course_Domain       512087 non-null  category\n",
      " 4   Course_Type         512087 non-null  category\n",
      " 5   Short_Promotion     512087 non-null  category\n",
      " 6   Public_Holiday      512087 non-null  category\n",
      " 7   Long_Promotion      512087 non-null  category\n",
      " 8   User_Traffic        512087 non-null  float64 \n",
      " 9   Competition_Metric  512087 non-null  float64 \n",
      " 10  Sales               512087 non-null  float64 \n",
      " 11  Year_No             512087 non-null  category\n",
      " 12  Year_Day_No         512087 non-null  int64   \n",
      " 13  Months              512087 non-null  category\n",
      " 14  Weeks               512087 non-null  category\n",
      "dtypes: category(8), float64(3), int64(4)\n",
      "memory usage: 31.3 MB\n"
     ]
    }
   ],
   "source": [
    "data.info()"
   ]
  },
  {
   "cell_type": "code",
   "execution_count": 39,
   "metadata": {},
   "outputs": [],
   "source": [
    "data_cb =data.copy()  #catboost data\n",
    "test_cb = test.copy()"
   ]
  },
  {
   "cell_type": "code",
   "execution_count": null,
   "metadata": {},
   "outputs": [],
   "source": []
  },
  {
   "cell_type": "code",
   "execution_count": 40,
   "metadata": {},
   "outputs": [
    {
     "data": {
      "text/plain": [
       "Sales                 1.000000\n",
       "User_Traffic          0.842259\n",
       "Year_Day_No           0.070269\n",
       "Day_No                0.062157\n",
       "ID                    0.018910\n",
       "Course_ID             0.018763\n",
       "Competition_Metric   -0.019415\n",
       "Name: Sales, dtype: float64"
      ]
     },
     "execution_count": 40,
     "metadata": {},
     "output_type": "execute_result"
    }
   ],
   "source": [
    "cor_mat= data.corr()\n",
    "cor_with_tar=cor_mat.sort_values(['Sales'],ascending=False)\n",
    "cor_with_tar[\"Sales\"]"
   ]
  },
  {
   "cell_type": "code",
   "execution_count": 41,
   "metadata": {},
   "outputs": [
    {
     "data": {
      "text/html": [
       "<div>\n",
       "<style scoped>\n",
       "    .dataframe tbody tr th:only-of-type {\n",
       "        vertical-align: middle;\n",
       "    }\n",
       "\n",
       "    .dataframe tbody tr th {\n",
       "        vertical-align: top;\n",
       "    }\n",
       "\n",
       "    .dataframe thead th {\n",
       "        text-align: right;\n",
       "    }\n",
       "</style>\n",
       "<table border=\"1\" class=\"dataframe\">\n",
       "  <thead>\n",
       "    <tr style=\"text-align: right;\">\n",
       "      <th></th>\n",
       "      <th>ID</th>\n",
       "      <th>Day_No</th>\n",
       "      <th>Course_ID</th>\n",
       "      <th>Course_Domain</th>\n",
       "      <th>Course_Type</th>\n",
       "      <th>Short_Promotion</th>\n",
       "      <th>Public_Holiday</th>\n",
       "      <th>Long_Promotion</th>\n",
       "      <th>User_Traffic</th>\n",
       "      <th>Competition_Metric</th>\n",
       "      <th>Sales</th>\n",
       "      <th>Year_No</th>\n",
       "      <th>Year_Day_No</th>\n",
       "      <th>Months</th>\n",
       "      <th>Weeks</th>\n",
       "    </tr>\n",
       "  </thead>\n",
       "  <tbody>\n",
       "    <tr>\n",
       "      <th>419805</th>\n",
       "      <td>449326</td>\n",
       "      <td>398</td>\n",
       "      <td>493</td>\n",
       "      <td>Development</td>\n",
       "      <td>Program</td>\n",
       "      <td>0</td>\n",
       "      <td>0</td>\n",
       "      <td>0</td>\n",
       "      <td>13482.0</td>\n",
       "      <td>0.003</td>\n",
       "      <td>75.0</td>\n",
       "      <td>2</td>\n",
       "      <td>33</td>\n",
       "      <td>2</td>\n",
       "      <td>5</td>\n",
       "    </tr>\n",
       "    <tr>\n",
       "      <th>354250</th>\n",
       "      <td>379151</td>\n",
       "      <td>365</td>\n",
       "      <td>416</td>\n",
       "      <td>Software Marketing</td>\n",
       "      <td>Program</td>\n",
       "      <td>0</td>\n",
       "      <td>0</td>\n",
       "      <td>0</td>\n",
       "      <td>6153.0</td>\n",
       "      <td>0.025</td>\n",
       "      <td>45.0</td>\n",
       "      <td>1</td>\n",
       "      <td>365</td>\n",
       "      <td>12</td>\n",
       "      <td>52</td>\n",
       "    </tr>\n",
       "    <tr>\n",
       "      <th>123731</th>\n",
       "      <td>132372</td>\n",
       "      <td>772</td>\n",
       "      <td>145</td>\n",
       "      <td>Software Marketing</td>\n",
       "      <td>Course</td>\n",
       "      <td>0</td>\n",
       "      <td>0</td>\n",
       "      <td>1</td>\n",
       "      <td>6258.0</td>\n",
       "      <td>0.090</td>\n",
       "      <td>49.0</td>\n",
       "      <td>3</td>\n",
       "      <td>42</td>\n",
       "      <td>2</td>\n",
       "      <td>6</td>\n",
       "    </tr>\n",
       "    <tr>\n",
       "      <th>174458</th>\n",
       "      <td>186699</td>\n",
       "      <td>419</td>\n",
       "      <td>205</td>\n",
       "      <td>Development</td>\n",
       "      <td>Program</td>\n",
       "      <td>0</td>\n",
       "      <td>0</td>\n",
       "      <td>0</td>\n",
       "      <td>10626.0</td>\n",
       "      <td>0.106</td>\n",
       "      <td>96.0</td>\n",
       "      <td>2</td>\n",
       "      <td>54</td>\n",
       "      <td>2</td>\n",
       "      <td>8</td>\n",
       "    </tr>\n",
       "    <tr>\n",
       "      <th>410068</th>\n",
       "      <td>438869</td>\n",
       "      <td>693</td>\n",
       "      <td>481</td>\n",
       "      <td>Software Marketing</td>\n",
       "      <td>Course</td>\n",
       "      <td>1</td>\n",
       "      <td>0</td>\n",
       "      <td>1</td>\n",
       "      <td>12789.0</td>\n",
       "      <td>0.067</td>\n",
       "      <td>130.0</td>\n",
       "      <td>2</td>\n",
       "      <td>328</td>\n",
       "      <td>11</td>\n",
       "      <td>47</td>\n",
       "    </tr>\n",
       "    <tr>\n",
       "      <th>356765</th>\n",
       "      <td>381846</td>\n",
       "      <td>418</td>\n",
       "      <td>419</td>\n",
       "      <td>Software Marketing</td>\n",
       "      <td>Program</td>\n",
       "      <td>0</td>\n",
       "      <td>0</td>\n",
       "      <td>0</td>\n",
       "      <td>18291.0</td>\n",
       "      <td>0.157</td>\n",
       "      <td>114.0</td>\n",
       "      <td>2</td>\n",
       "      <td>53</td>\n",
       "      <td>2</td>\n",
       "      <td>8</td>\n",
       "    </tr>\n",
       "    <tr>\n",
       "      <th>207860</th>\n",
       "      <td>222381</td>\n",
       "      <td>857</td>\n",
       "      <td>243</td>\n",
       "      <td>Business</td>\n",
       "      <td>Course</td>\n",
       "      <td>1</td>\n",
       "      <td>0</td>\n",
       "      <td>0</td>\n",
       "      <td>29106.0</td>\n",
       "      <td>0.016</td>\n",
       "      <td>158.0</td>\n",
       "      <td>3</td>\n",
       "      <td>127</td>\n",
       "      <td>5</td>\n",
       "      <td>19</td>\n",
       "    </tr>\n",
       "    <tr>\n",
       "      <th>341141</th>\n",
       "      <td>365082</td>\n",
       "      <td>448</td>\n",
       "      <td>400</td>\n",
       "      <td>Development</td>\n",
       "      <td>Course</td>\n",
       "      <td>0</td>\n",
       "      <td>0</td>\n",
       "      <td>0</td>\n",
       "      <td>7329.0</td>\n",
       "      <td>0.001</td>\n",
       "      <td>50.0</td>\n",
       "      <td>2</td>\n",
       "      <td>83</td>\n",
       "      <td>3</td>\n",
       "      <td>12</td>\n",
       "    </tr>\n",
       "    <tr>\n",
       "      <th>19174</th>\n",
       "      <td>20495</td>\n",
       "      <td>139</td>\n",
       "      <td>23</td>\n",
       "      <td>Development</td>\n",
       "      <td>Course</td>\n",
       "      <td>0</td>\n",
       "      <td>0</td>\n",
       "      <td>1</td>\n",
       "      <td>14112.0</td>\n",
       "      <td>0.002</td>\n",
       "      <td>80.0</td>\n",
       "      <td>1</td>\n",
       "      <td>139</td>\n",
       "      <td>5</td>\n",
       "      <td>20</td>\n",
       "    </tr>\n",
       "    <tr>\n",
       "      <th>194233</th>\n",
       "      <td>207854</td>\n",
       "      <td>92</td>\n",
       "      <td>228</td>\n",
       "      <td>Development</td>\n",
       "      <td>Program</td>\n",
       "      <td>0</td>\n",
       "      <td>0</td>\n",
       "      <td>1</td>\n",
       "      <td>15645.0</td>\n",
       "      <td>0.001</td>\n",
       "      <td>83.0</td>\n",
       "      <td>1</td>\n",
       "      <td>92</td>\n",
       "      <td>4</td>\n",
       "      <td>14</td>\n",
       "    </tr>\n",
       "  </tbody>\n",
       "</table>\n",
       "</div>"
      ],
      "text/plain": [
       "            ID  Day_No  Course_ID       Course_Domain Course_Type  \\\n",
       "419805  449326     398        493         Development     Program   \n",
       "354250  379151     365        416  Software Marketing     Program   \n",
       "123731  132372     772        145  Software Marketing      Course   \n",
       "174458  186699     419        205         Development     Program   \n",
       "410068  438869     693        481  Software Marketing      Course   \n",
       "356765  381846     418        419  Software Marketing     Program   \n",
       "207860  222381     857        243            Business      Course   \n",
       "341141  365082     448        400         Development      Course   \n",
       "19174    20495     139         23         Development      Course   \n",
       "194233  207854      92        228         Development     Program   \n",
       "\n",
       "       Short_Promotion Public_Holiday Long_Promotion  User_Traffic  \\\n",
       "419805               0              0              0       13482.0   \n",
       "354250               0              0              0        6153.0   \n",
       "123731               0              0              1        6258.0   \n",
       "174458               0              0              0       10626.0   \n",
       "410068               1              0              1       12789.0   \n",
       "356765               0              0              0       18291.0   \n",
       "207860               1              0              0       29106.0   \n",
       "341141               0              0              0        7329.0   \n",
       "19174                0              0              1       14112.0   \n",
       "194233               0              0              1       15645.0   \n",
       "\n",
       "        Competition_Metric  Sales Year_No  Year_Day_No Months Weeks  \n",
       "419805               0.003   75.0       2           33      2     5  \n",
       "354250               0.025   45.0       1          365     12    52  \n",
       "123731               0.090   49.0       3           42      2     6  \n",
       "174458               0.106   96.0       2           54      2     8  \n",
       "410068               0.067  130.0       2          328     11    47  \n",
       "356765               0.157  114.0       2           53      2     8  \n",
       "207860               0.016  158.0       3          127      5    19  \n",
       "341141               0.001   50.0       2           83      3    12  \n",
       "19174                0.002   80.0       1          139      5    20  \n",
       "194233               0.001   83.0       1           92      4    14  "
      ]
     },
     "execution_count": 41,
     "metadata": {},
     "output_type": "execute_result"
    }
   ],
   "source": [
    "data.sample(10)"
   ]
  },
  {
   "cell_type": "code",
   "execution_count": 42,
   "metadata": {},
   "outputs": [
    {
     "data": {
      "text/html": [
       "<div>\n",
       "<style scoped>\n",
       "    .dataframe tbody tr th:only-of-type {\n",
       "        vertical-align: middle;\n",
       "    }\n",
       "\n",
       "    .dataframe tbody tr th {\n",
       "        vertical-align: top;\n",
       "    }\n",
       "\n",
       "    .dataframe thead th {\n",
       "        text-align: right;\n",
       "    }\n",
       "</style>\n",
       "<table border=\"1\" class=\"dataframe\">\n",
       "  <thead>\n",
       "    <tr style=\"text-align: right;\">\n",
       "      <th></th>\n",
       "      <th>ID</th>\n",
       "      <th>Day_No</th>\n",
       "      <th>Course_ID</th>\n",
       "      <th>Course_Domain</th>\n",
       "      <th>Course_Type</th>\n",
       "      <th>Short_Promotion</th>\n",
       "      <th>Public_Holiday</th>\n",
       "      <th>Long_Promotion</th>\n",
       "      <th>Competition_Metric</th>\n",
       "      <th>Year_No</th>\n",
       "      <th>Year_Day_No</th>\n",
       "      <th>Months</th>\n",
       "      <th>Weeks</th>\n",
       "    </tr>\n",
       "  </thead>\n",
       "  <tbody>\n",
       "    <tr>\n",
       "      <th>34881</th>\n",
       "      <td>531461</td>\n",
       "      <td>904</td>\n",
       "      <td>582</td>\n",
       "      <td>Software Marketing</td>\n",
       "      <td>Program</td>\n",
       "      <td>0</td>\n",
       "      <td>0</td>\n",
       "      <td>1</td>\n",
       "      <td>0.009</td>\n",
       "      <td>3</td>\n",
       "      <td>174</td>\n",
       "      <td>6</td>\n",
       "      <td>25</td>\n",
       "    </tr>\n",
       "    <tr>\n",
       "      <th>8830</th>\n",
       "      <td>135135</td>\n",
       "      <td>893</td>\n",
       "      <td>148</td>\n",
       "      <td>Development</td>\n",
       "      <td>Program</td>\n",
       "      <td>0</td>\n",
       "      <td>0</td>\n",
       "      <td>0</td>\n",
       "      <td>0.017</td>\n",
       "      <td>3</td>\n",
       "      <td>163</td>\n",
       "      <td>6</td>\n",
       "      <td>24</td>\n",
       "    </tr>\n",
       "    <tr>\n",
       "      <th>32856</th>\n",
       "      <td>500368</td>\n",
       "      <td>919</td>\n",
       "      <td>548</td>\n",
       "      <td>Software Marketing</td>\n",
       "      <td>Program</td>\n",
       "      <td>0</td>\n",
       "      <td>0</td>\n",
       "      <td>1</td>\n",
       "      <td>0.130</td>\n",
       "      <td>3</td>\n",
       "      <td>189</td>\n",
       "      <td>7</td>\n",
       "      <td>27</td>\n",
       "    </tr>\n",
       "    <tr>\n",
       "      <th>11591</th>\n",
       "      <td>176996</td>\n",
       "      <td>894</td>\n",
       "      <td>194</td>\n",
       "      <td>Software Marketing</td>\n",
       "      <td>Program</td>\n",
       "      <td>0</td>\n",
       "      <td>0</td>\n",
       "      <td>1</td>\n",
       "      <td>0.110</td>\n",
       "      <td>3</td>\n",
       "      <td>164</td>\n",
       "      <td>6</td>\n",
       "      <td>24</td>\n",
       "    </tr>\n",
       "    <tr>\n",
       "      <th>19455</th>\n",
       "      <td>297458</td>\n",
       "      <td>898</td>\n",
       "      <td>325</td>\n",
       "      <td>Software Marketing</td>\n",
       "      <td>Course</td>\n",
       "      <td>1</td>\n",
       "      <td>0</td>\n",
       "      <td>1</td>\n",
       "      <td>0.028</td>\n",
       "      <td>3</td>\n",
       "      <td>168</td>\n",
       "      <td>6</td>\n",
       "      <td>24</td>\n",
       "    </tr>\n",
       "  </tbody>\n",
       "</table>\n",
       "</div>"
      ],
      "text/plain": [
       "           ID  Day_No  Course_ID       Course_Domain Course_Type  \\\n",
       "34881  531461     904        582  Software Marketing     Program   \n",
       "8830   135135     893        148         Development     Program   \n",
       "32856  500368     919        548  Software Marketing     Program   \n",
       "11591  176996     894        194  Software Marketing     Program   \n",
       "19455  297458     898        325  Software Marketing      Course   \n",
       "\n",
       "      Short_Promotion Public_Holiday Long_Promotion  Competition_Metric  \\\n",
       "34881               0              0              1               0.009   \n",
       "8830                0              0              0               0.017   \n",
       "32856               0              0              1               0.130   \n",
       "11591               0              0              1               0.110   \n",
       "19455               1              0              1               0.028   \n",
       "\n",
       "      Year_No  Year_Day_No Months Weeks  \n",
       "34881       3          174      6    25  \n",
       "8830        3          163      6    24  \n",
       "32856       3          189      7    27  \n",
       "11591       3          164      6    24  \n",
       "19455       3          168      6    24  "
      ]
     },
     "execution_count": 42,
     "metadata": {},
     "output_type": "execute_result"
    }
   ],
   "source": [
    "test.sample(5)"
   ]
  },
  {
   "cell_type": "code",
   "execution_count": 72,
   "metadata": {},
   "outputs": [
    {
     "data": {
      "text/plain": [
       "((512087, 15), (36000, 13))"
      ]
     },
     "execution_count": 72,
     "metadata": {},
     "output_type": "execute_result"
    }
   ],
   "source": [
    "data.shape, test.shape"
   ]
  },
  {
   "cell_type": "code",
   "execution_count": null,
   "metadata": {},
   "outputs": [],
   "source": []
  },
  {
   "cell_type": "code",
   "execution_count": null,
   "metadata": {},
   "outputs": [],
   "source": []
  },
  {
   "cell_type": "code",
   "execution_count": 58,
   "metadata": {},
   "outputs": [
    {
     "name": "stdout",
     "output_type": "stream",
     "text": [
      "<class 'pandas.core.frame.DataFrame'>\n",
      "RangeIndex: 512087 entries, 0 to 512086\n",
      "Data columns (total 15 columns):\n",
      " #   Column              Non-Null Count   Dtype   \n",
      "---  ------              --------------   -----   \n",
      " 0   ID                  512087 non-null  int64   \n",
      " 1   Day_No              512087 non-null  int64   \n",
      " 2   Course_ID           512087 non-null  int64   \n",
      " 3   Course_Domain       512087 non-null  category\n",
      " 4   Course_Type         512087 non-null  category\n",
      " 5   Short_Promotion     512087 non-null  category\n",
      " 6   Public_Holiday      512087 non-null  category\n",
      " 7   Long_Promotion      512087 non-null  category\n",
      " 8   User_Traffic        512087 non-null  float64 \n",
      " 9   Competition_Metric  512087 non-null  float64 \n",
      " 10  Sales               512087 non-null  float64 \n",
      " 11  Year_No             512087 non-null  category\n",
      " 12  Year_Day_No         512087 non-null  int64   \n",
      " 13  Months              512087 non-null  category\n",
      " 14  Weeks               512087 non-null  category\n",
      "dtypes: category(8), float64(3), int64(4)\n",
      "memory usage: 31.3 MB\n"
     ]
    }
   ],
   "source": [
    "data.info()"
   ]
  },
  {
   "cell_type": "code",
   "execution_count": 75,
   "metadata": {},
   "outputs": [
    {
     "data": {
      "text/plain": [
       "(Index(['ID', 'Day_No', 'Course_ID', 'Course_Domain', 'Course_Type',\n",
       "        'Short_Promotion', 'Public_Holiday', 'Long_Promotion', 'User_Traffic',\n",
       "        'Competition_Metric', 'Sales', 'Year_No', 'Year_Day_No', 'Months',\n",
       "        'Weeks'],\n",
       "       dtype='object'),\n",
       " Index(['ID', 'Day_No', 'Course_ID', 'Course_Domain', 'Course_Type',\n",
       "        'Short_Promotion', 'Public_Holiday', 'Long_Promotion',\n",
       "        'Competition_Metric', 'Year_No', 'Year_Day_No', 'Months', 'Weeks'],\n",
       "       dtype='object'))"
      ]
     },
     "execution_count": 75,
     "metadata": {},
     "output_type": "execute_result"
    }
   ],
   "source": [
    "data.columns, test.columns\n"
   ]
  },
  {
   "cell_type": "markdown",
   "metadata": {},
   "source": [
    "# Model\n",
    "\n",
    "### As we do not have user traffic column in test so - First step, we need to predict the User traffic column "
   ]
  },
  {
   "cell_type": "code",
   "execution_count": 43,
   "metadata": {},
   "outputs": [
    {
     "data": {
      "text/plain": [
       "(Index(['ID', 'Day_No', 'Course_ID', 'Course_Domain', 'Course_Type',\n",
       "        'Short_Promotion', 'Public_Holiday', 'Long_Promotion', 'User_Traffic',\n",
       "        'Competition_Metric', 'Sales', 'Year_No', 'Year_Day_No', 'Months',\n",
       "        'Weeks'],\n",
       "       dtype='object'),\n",
       " Index(['ID', 'Day_No', 'Course_ID', 'Course_Domain', 'Course_Type',\n",
       "        'Short_Promotion', 'Public_Holiday', 'Long_Promotion',\n",
       "        'Competition_Metric', 'Year_No', 'Year_Day_No', 'Months', 'Weeks'],\n",
       "       dtype='object'))"
      ]
     },
     "execution_count": 43,
     "metadata": {},
     "output_type": "execute_result"
    }
   ],
   "source": [
    "data_cb.columns, test_cb.columns\n"
   ]
  },
  {
   "cell_type": "code",
   "execution_count": 44,
   "metadata": {},
   "outputs": [],
   "source": [
    "data_cb.drop(columns=['Sales','ID','Course_ID'],axis=1, inplace=True)\n",
    "test_cb.drop(columns=['ID','Course_ID'],axis=1, inplace=True)\n"
   ]
  },
  {
   "cell_type": "code",
   "execution_count": 45,
   "metadata": {},
   "outputs": [],
   "source": [
    "cols=data_cb[[\"Year_No\",\"Months\",\"Weeks\",\"Long_Promotion\",\"Public_Holiday\",\"Short_Promotion\",'Course_Domain', 'Course_Type']]\n",
    "for i in cols:\n",
    "    data_cb[i]=data_cb[i].astype('category')\n",
    "    test_cb[i]=test_cb[i].astype('category')\n",
    "\n"
   ]
  },
  {
   "cell_type": "code",
   "execution_count": 46,
   "metadata": {},
   "outputs": [
    {
     "data": {
      "text/plain": [
       "Index(['Day_No', 'Course_Domain', 'Course_Type', 'Short_Promotion',\n",
       "       'Public_Holiday', 'Long_Promotion', 'User_Traffic',\n",
       "       'Competition_Metric', 'Year_No', 'Year_Day_No', 'Months', 'Weeks'],\n",
       "      dtype='object')"
      ]
     },
     "execution_count": 46,
     "metadata": {},
     "output_type": "execute_result"
    }
   ],
   "source": [
    "data_cb.columns"
   ]
  },
  {
   "cell_type": "code",
   "execution_count": 47,
   "metadata": {},
   "outputs": [],
   "source": [
    "X = data_cb.drop([\"User_Traffic\"],1)\n",
    "y = data_cb[\"User_Traffic\"]"
   ]
  },
  {
   "cell_type": "code",
   "execution_count": 48,
   "metadata": {},
   "outputs": [],
   "source": [
    "Xc_train, Xc_test, yc_train, yc_test = train_test_split(X, y, test_size=0.2, random_state=0)"
   ]
  },
  {
   "cell_type": "code",
   "execution_count": 49,
   "metadata": {},
   "outputs": [
    {
     "name": "stdout",
     "output_type": "stream",
     "text": [
      "<class 'pandas.core.frame.DataFrame'>\n",
      "RangeIndex: 36000 entries, 0 to 35999\n",
      "Data columns (total 11 columns):\n",
      " #   Column              Non-Null Count  Dtype   \n",
      "---  ------              --------------  -----   \n",
      " 0   Day_No              36000 non-null  int64   \n",
      " 1   Course_Domain       36000 non-null  category\n",
      " 2   Course_Type         36000 non-null  category\n",
      " 3   Short_Promotion     36000 non-null  category\n",
      " 4   Public_Holiday      36000 non-null  category\n",
      " 5   Long_Promotion      36000 non-null  category\n",
      " 6   Competition_Metric  36000 non-null  float64 \n",
      " 7   Year_No             36000 non-null  category\n",
      " 8   Year_Day_No         36000 non-null  int64   \n",
      " 9   Months              36000 non-null  category\n",
      " 10  Weeks               36000 non-null  category\n",
      "dtypes: category(8), float64(1), int64(2)\n",
      "memory usage: 1.1 MB\n"
     ]
    }
   ],
   "source": [
    "test_cb.info()"
   ]
  },
  {
   "cell_type": "code",
   "execution_count": 50,
   "metadata": {},
   "outputs": [
    {
     "name": "stdout",
     "output_type": "stream",
     "text": [
      "<class 'pandas.core.frame.DataFrame'>\n",
      "Int64Index: 102418 entries, 214194 to 297173\n",
      "Data columns (total 11 columns):\n",
      " #   Column              Non-Null Count   Dtype   \n",
      "---  ------              --------------   -----   \n",
      " 0   Day_No              102418 non-null  int64   \n",
      " 1   Course_Domain       102418 non-null  category\n",
      " 2   Course_Type         102418 non-null  category\n",
      " 3   Short_Promotion     102418 non-null  category\n",
      " 4   Public_Holiday      102418 non-null  category\n",
      " 5   Long_Promotion      102418 non-null  category\n",
      " 6   Competition_Metric  102418 non-null  float64 \n",
      " 7   Year_No             102418 non-null  category\n",
      " 8   Year_Day_No         102418 non-null  int64   \n",
      " 9   Months              102418 non-null  category\n",
      " 10  Weeks               102418 non-null  category\n",
      "dtypes: category(8), float64(1), int64(2)\n",
      "memory usage: 3.9 MB\n"
     ]
    }
   ],
   "source": [
    "Xc_test.info()"
   ]
  },
  {
   "cell_type": "code",
   "execution_count": 61,
   "metadata": {},
   "outputs": [],
   "source": [
    "# Xc_train['Months']=Xc_train['Months'].astype(int).astype(str)\n",
    "# Xc_train['Year_No'] = Xc_train['Year_No'].astype(int).astype(str)\n",
    "# Xc_train['Weeks'] = Xc_train['Weeks'].astype(int).astype(str)\n",
    "\n",
    "# Xc_test['Months']=Xc_test['Months'].astype(int).astype(str)\n",
    "# Xc_test['Year_No'] = Xc_test['Year_No'].astype(int).astype(str)\n",
    "# Xc_test['Weeks'] = Xc_test['Weeks'].astype(int).astype(str)\n",
    "\n",
    "# test_cb['Months']=test_cb['Months'].astype(int).astype(str)\n",
    "# test_cb['Year_No'] = test_cb['Year_No'].astype(int).astype(str)\n",
    "# test_cb['Weeks'] = test_cb['Weeks'].astype(int).astype(str)\n",
    "\n"
   ]
  },
  {
   "cell_type": "code",
   "execution_count": 51,
   "metadata": {},
   "outputs": [],
   "source": [
    "categorical_features_indices = [1,2,3,4,5,7,9,10]"
   ]
  },
  {
   "cell_type": "code",
   "execution_count": 52,
   "metadata": {},
   "outputs": [],
   "source": [
    "catb_model = CatBoostRegressor(iterations=2000,\n",
    "                             learning_rate=0.07,\n",
    "                             depth=10,\n",
    "                             eval_metric='MSLE',\n",
    "                             loss_function='RMSE',\n",
    "                             random_seed = 23,\n",
    "                             bagging_temperature = 0.5,\n",
    "                             od_wait=100,\n",
    "                             od_type='Iter',\n",
    "                             metric_period = 100,\n",
    "                             )"
   ]
  },
  {
   "cell_type": "code",
   "execution_count": null,
   "metadata": {},
   "outputs": [],
   "source": []
  },
  {
   "cell_type": "code",
   "execution_count": 53,
   "metadata": {},
   "outputs": [
    {
     "name": "stderr",
     "output_type": "stream",
     "text": [
      "Warning: Overfitting detector is active, thus evaluation metric is calculated on every iteration. 'metric_period' is ignored for evaluation metric.\n"
     ]
    },
    {
     "name": "stdout",
     "output_type": "stream",
     "text": [
      "0:\tlearn: 0.1888892\ttest: 0.1896989\tbest: 0.1896989 (0)\ttotal: 1.82s\tremaining: 1h 35s\n",
      "100:\tlearn: 0.0905243\ttest: 0.0916613\tbest: 0.0916613 (100)\ttotal: 2m 10s\tremaining: 40m 45s\n",
      "200:\tlearn: nan\ttest: nan\tbest: 0.0814633 (159)\ttotal: 4m 17s\tremaining: 38m 23s\n",
      "Stopped by overfitting detector  (100 iterations wait)\n",
      "\n",
      "bestTest = 0.08146333126\n",
      "bestIteration = 159\n",
      "\n",
      "Shrink model to first 160 iterations.\n"
     ]
    },
    {
     "data": {
      "text/plain": [
       "<catboost.core.CatBoostRegressor at 0x203a7955e48>"
      ]
     },
     "execution_count": 53,
     "metadata": {},
     "output_type": "execute_result"
    }
   ],
   "source": [
    "catb_model.fit(Xc_train, yc_train,\n",
    "             cat_features=categorical_features_indices,\n",
    "             eval_set=(Xc_test,yc_test),\n",
    "             use_best_model=True,\n",
    "             verbose=True)"
   ]
  },
  {
   "cell_type": "code",
   "execution_count": 54,
   "metadata": {},
   "outputs": [],
   "source": [
    "Xc_train, Xc_test, yc_train, yc_test , test_cb\n",
    "val_pred =catb_model.predict(Xc_test)"
   ]
  },
  {
   "cell_type": "code",
   "execution_count": 55,
   "metadata": {},
   "outputs": [
    {
     "data": {
      "text/plain": [
       "285.41782072574046"
      ]
     },
     "execution_count": 55,
     "metadata": {},
     "output_type": "execute_result"
    }
   ],
   "source": [
    "rmsle_t(yc_test,val_pred)"
   ]
  },
  {
   "cell_type": "code",
   "execution_count": 56,
   "metadata": {},
   "outputs": [],
   "source": [
    "test_ut_pred =catb_model.predict(test_cb)"
   ]
  },
  {
   "cell_type": "code",
   "execution_count": 57,
   "metadata": {},
   "outputs": [],
   "source": [
    "test_cb['User_Traffic']= test_ut_pred\n"
   ]
  },
  {
   "cell_type": "code",
   "execution_count": 79,
   "metadata": {},
   "outputs": [],
   "source": [
    "# We have imputed the whole User_traffic column in test dataset by applying Catboosting methog on other features."
   ]
  },
  {
   "cell_type": "markdown",
   "metadata": {},
   "source": [
    "--- \n",
    "---"
   ]
  },
  {
   "cell_type": "code",
   "execution_count": 58,
   "metadata": {},
   "outputs": [
    {
     "data": {
      "text/plain": [
       "Index(['Day_No', 'Course_Domain', 'Course_Type', 'Short_Promotion',\n",
       "       'Public_Holiday', 'Long_Promotion', 'Competition_Metric', 'Year_No',\n",
       "       'Year_Day_No', 'Months', 'Weeks', 'User_Traffic'],\n",
       "      dtype='object')"
      ]
     },
     "execution_count": 58,
     "metadata": {},
     "output_type": "execute_result"
    }
   ],
   "source": [
    "test = test_cb.copy()\n",
    "test.columns"
   ]
  },
  {
   "cell_type": "code",
   "execution_count": 81,
   "metadata": {},
   "outputs": [
    {
     "data": {
      "text/plain": [
       "3    36000\n",
       "Name: Year_No, dtype: int64"
      ]
     },
     "execution_count": 81,
     "metadata": {},
     "output_type": "execute_result"
    }
   ],
   "source": [
    "test['Year_No'].value_counts()"
   ]
  },
  {
   "cell_type": "code",
   "execution_count": 82,
   "metadata": {},
   "outputs": [
    {
     "name": "stdout",
     "output_type": "stream",
     "text": [
      "<class 'pandas.core.frame.DataFrame'>\n",
      "RangeIndex: 36000 entries, 0 to 35999\n",
      "Data columns (total 12 columns):\n",
      " #   Column              Non-Null Count  Dtype   \n",
      "---  ------              --------------  -----   \n",
      " 0   Day_No              36000 non-null  int64   \n",
      " 1   Course_Domain       36000 non-null  category\n",
      " 2   Course_Type         36000 non-null  category\n",
      " 3   Short_Promotion     36000 non-null  category\n",
      " 4   Public_Holiday      36000 non-null  category\n",
      " 5   Long_Promotion      36000 non-null  category\n",
      " 6   Competition_Metric  36000 non-null  float64 \n",
      " 7   Year_No             36000 non-null  category\n",
      " 8   Year_Day_No         36000 non-null  int64   \n",
      " 9   Months              36000 non-null  category\n",
      " 10  Weeks               36000 non-null  category\n",
      " 11  User_Traffic        36000 non-null  float64 \n",
      "dtypes: category(8), float64(2), int64(2)\n",
      "memory usage: 1.4 MB\n"
     ]
    }
   ],
   "source": [
    "test.info()"
   ]
  },
  {
   "cell_type": "code",
   "execution_count": 61,
   "metadata": {},
   "outputs": [],
   "source": [
    "data_cb['Sales']= data['Sales']"
   ]
  },
  {
   "cell_type": "code",
   "execution_count": 62,
   "metadata": {},
   "outputs": [
    {
     "name": "stdout",
     "output_type": "stream",
     "text": [
      "<class 'pandas.core.frame.DataFrame'>\n",
      "RangeIndex: 512087 entries, 0 to 512086\n",
      "Data columns (total 13 columns):\n",
      " #   Column              Non-Null Count   Dtype   \n",
      "---  ------              --------------   -----   \n",
      " 0   Day_No              512087 non-null  int64   \n",
      " 1   Course_Domain       512087 non-null  category\n",
      " 2   Course_Type         512087 non-null  category\n",
      " 3   Short_Promotion     512087 non-null  category\n",
      " 4   Public_Holiday      512087 non-null  category\n",
      " 5   Long_Promotion      512087 non-null  category\n",
      " 6   User_Traffic        512087 non-null  float64 \n",
      " 7   Competition_Metric  512087 non-null  float64 \n",
      " 8   Year_No             512087 non-null  category\n",
      " 9   Year_Day_No         512087 non-null  int64   \n",
      " 10  Months              512087 non-null  category\n",
      " 11  Weeks               512087 non-null  category\n",
      " 12  Sales               512087 non-null  float64 \n",
      "dtypes: category(8), float64(3), int64(2)\n",
      "memory usage: 23.4 MB\n"
     ]
    }
   ],
   "source": [
    "data_cb.info()"
   ]
  },
  {
   "cell_type": "code",
   "execution_count": 65,
   "metadata": {},
   "outputs": [
    {
     "data": {
      "text/plain": [
       "1    218999\n",
       "2    201888\n",
       "3     91200\n",
       "Name: Year_No, dtype: int64"
      ]
     },
     "execution_count": 65,
     "metadata": {},
     "output_type": "execute_result"
    }
   ],
   "source": [
    "data_cb['Year_No'].value_counts()"
   ]
  },
  {
   "cell_type": "code",
   "execution_count": 86,
   "metadata": {},
   "outputs": [],
   "source": [
    "# test['Months']=test['Months'].astype(int).astype(str)\n",
    "# test['Year_No'] = test['Year_No'].astype(int).astype(str)\n",
    "# test['Weeks'] = test['Weeks'].astype(int).astype(str)\n",
    "\n",
    "# data_cb['Months']=data_cb['Months'].astype(int).astype(str)\n",
    "# data_cb['Year_No'] = data_cb['Year_No'].astype(int).astype(str)\n",
    "# data_cb['Weeks'] = data_cb['Weeks'].astype(int).astype(str)"
   ]
  },
  {
   "cell_type": "markdown",
   "metadata": {},
   "source": [
    "## Main model"
   ]
  },
  {
   "cell_type": "code",
   "execution_count": 66,
   "metadata": {},
   "outputs": [],
   "source": [
    "X_m = data_cb.drop(columns = ['Sales'],axis=1)\n",
    "y_m = data_cb['Sales']"
   ]
  },
  {
   "cell_type": "code",
   "execution_count": 67,
   "metadata": {},
   "outputs": [],
   "source": [
    "Xcb_train, Xcb_valid, ycb_train, ycb_valid = train_test_split(X_m, y_m, test_size=0.2, random_state=7)"
   ]
  },
  {
   "cell_type": "code",
   "execution_count": 68,
   "metadata": {},
   "outputs": [
    {
     "name": "stdout",
     "output_type": "stream",
     "text": [
      "<class 'pandas.core.frame.DataFrame'>\n",
      "RangeIndex: 512087 entries, 0 to 512086\n",
      "Data columns (total 13 columns):\n",
      " #   Column              Non-Null Count   Dtype   \n",
      "---  ------              --------------   -----   \n",
      " 0   Day_No              512087 non-null  int64   \n",
      " 1   Course_Domain       512087 non-null  category\n",
      " 2   Course_Type         512087 non-null  category\n",
      " 3   Short_Promotion     512087 non-null  category\n",
      " 4   Public_Holiday      512087 non-null  category\n",
      " 5   Long_Promotion      512087 non-null  category\n",
      " 6   User_Traffic        512087 non-null  float64 \n",
      " 7   Competition_Metric  512087 non-null  float64 \n",
      " 8   Year_No             512087 non-null  category\n",
      " 9   Year_Day_No         512087 non-null  int64   \n",
      " 10  Months              512087 non-null  category\n",
      " 11  Weeks               512087 non-null  category\n",
      " 12  Sales               512087 non-null  float64 \n",
      "dtypes: category(8), float64(3), int64(2)\n",
      "memory usage: 23.4 MB\n"
     ]
    }
   ],
   "source": [
    "data_cb.info()"
   ]
  },
  {
   "cell_type": "code",
   "execution_count": 243,
   "metadata": {},
   "outputs": [],
   "source": [
    "data_cb.to_csv('data_with_features.csv')"
   ]
  },
  {
   "cell_type": "code",
   "execution_count": 244,
   "metadata": {},
   "outputs": [],
   "source": [
    "test_cb.to_csv('test_with_features.csv')"
   ]
  },
  {
   "cell_type": "code",
   "execution_count": 92,
   "metadata": {},
   "outputs": [
    {
     "name": "stdout",
     "output_type": "stream",
     "text": [
      "<class 'pandas.core.frame.DataFrame'>\n",
      "RangeIndex: 36000 entries, 0 to 35999\n",
      "Data columns (total 12 columns):\n",
      " #   Column              Non-Null Count  Dtype   \n",
      "---  ------              --------------  -----   \n",
      " 0   Day_No              36000 non-null  int64   \n",
      " 1   Course_Domain       36000 non-null  category\n",
      " 2   Course_Type         36000 non-null  category\n",
      " 3   Short_Promotion     36000 non-null  category\n",
      " 4   Public_Holiday      36000 non-null  category\n",
      " 5   Long_Promotion      36000 non-null  category\n",
      " 6   Competition_Metric  36000 non-null  float64 \n",
      " 7   Year_No             36000 non-null  category\n",
      " 8   Year_Day_No         36000 non-null  int64   \n",
      " 9   Months              36000 non-null  category\n",
      " 10  Weeks               36000 non-null  category\n",
      " 11  User_Traffic        36000 non-null  float64 \n",
      "dtypes: category(8), float64(2), int64(2)\n",
      "memory usage: 1.4 MB\n"
     ]
    }
   ],
   "source": [
    "test_cb.info()"
   ]
  },
  {
   "cell_type": "code",
   "execution_count": null,
   "metadata": {},
   "outputs": [],
   "source": []
  },
  {
   "cell_type": "code",
   "execution_count": 69,
   "metadata": {},
   "outputs": [
    {
     "data": {
      "text/plain": [
       "Index(['Day_No', 'Course_Domain', 'Course_Type', 'Short_Promotion',\n",
       "       'Public_Holiday', 'Long_Promotion', 'User_Traffic',\n",
       "       'Competition_Metric', 'Year_No', 'Year_Day_No', 'Months', 'Weeks'],\n",
       "      dtype='object')"
      ]
     },
     "execution_count": 69,
     "metadata": {},
     "output_type": "execute_result"
    }
   ],
   "source": [
    "Xcb_train.columns"
   ]
  },
  {
   "cell_type": "code",
   "execution_count": 70,
   "metadata": {},
   "outputs": [],
   "source": [
    "test_cb = test.reindex(columns =['Day_No', 'Course_Domain', 'Course_Type', 'Short_Promotion',\n",
    "       'Public_Holiday', 'Long_Promotion', 'User_Traffic',\n",
    "       'Competition_Metric', 'Year_No', 'Year_Day_No', 'Months', 'Weeks'])"
   ]
  },
  {
   "cell_type": "code",
   "execution_count": 71,
   "metadata": {},
   "outputs": [],
   "source": [
    "categorical_features_indices2 = [1,2,3,4,5,8,10,11]"
   ]
  },
  {
   "cell_type": "code",
   "execution_count": null,
   "metadata": {},
   "outputs": [],
   "source": []
  },
  {
   "cell_type": "code",
   "execution_count": 72,
   "metadata": {},
   "outputs": [],
   "source": [
    "# catb_model2 = CatBoostRegressor(iterations=5000,\n",
    "                             learning_rate=0.1,\n",
    "                             depth=10,\n",
    "                             eval_metric='MSLE',\n",
    "                             loss_function='RMSE',\n",
    "                             random_seed = 23,\n",
    "                             bagging_temperature = 0.2,\n",
    "                             od_type='Iter',\n",
    "                             metric_period = 100,\n",
    "                             od_wait=100)"
   ]
  },
  {
   "cell_type": "code",
   "execution_count": 74,
   "metadata": {
    "scrolled": true
   },
   "outputs": [
    {
     "ename": "IndentationError",
     "evalue": "unindent does not match any outer indentation level (<tokenize>, line 3)",
     "output_type": "error",
     "traceback": [
      "\u001b[1;36m  File \u001b[1;32m\"<tokenize>\"\u001b[1;36m, line \u001b[1;32m3\u001b[0m\n\u001b[1;33m    cat_features=categorical_features_indices2,\u001b[0m\n\u001b[1;37m    ^\u001b[0m\n\u001b[1;31mIndentationError\u001b[0m\u001b[1;31m:\u001b[0m unindent does not match any outer indentation level\n"
     ]
    }
   ],
   "source": [
    "catb_model2.fit(Xcb_train, ycb_train,\n",
    "             eval_set=(Xcb_valid,ycb_valid),\n",
    "            cat_features=categorical_features_indices2,\n",
    "             use_best_model=True,\n",
    "             verbose=True)"
   ]
  },
  {
   "cell_type": "code",
   "execution_count": 208,
   "metadata": {},
   "outputs": [],
   "source": [
    "val_pred_main =catb_model2.predict(Xcb_valid)"
   ]
  },
  {
   "cell_type": "code",
   "execution_count": 210,
   "metadata": {},
   "outputs": [
    {
     "data": {
      "text/plain": [
       "73.74372614163877"
      ]
     },
     "execution_count": 210,
     "metadata": {},
     "output_type": "execute_result"
    }
   ],
   "source": [
    "\n",
    "rmsle(ycb_valid,val_pred_main)"
   ]
  },
  {
   "cell_type": "code",
   "execution_count": 215,
   "metadata": {},
   "outputs": [],
   "source": [
    "test_pred_main =catb_model2.predict(test_cb)"
   ]
  },
  {
   "cell_type": "code",
   "execution_count": 227,
   "metadata": {},
   "outputs": [],
   "source": [
    "test_submit = test_pred_main.round()"
   ]
  },
  {
   "cell_type": "code",
   "execution_count": 240,
   "metadata": {},
   "outputs": [
    {
     "data": {
      "text/plain": [
       "(36000,)"
      ]
     },
     "execution_count": 240,
     "metadata": {},
     "output_type": "execute_result"
    }
   ],
   "source": [
    "test_submit.shape"
   ]
  },
  {
   "cell_type": "code",
   "execution_count": 217,
   "metadata": {},
   "outputs": [
    {
     "name": "stdout",
     "output_type": "stream",
     "text": [
      "total 34992\n",
      "drwxr-xr-x 1 dexter 197609        0 Oct  2 15:13 catboost_info\n",
      "-rw-r--r-- 1 dexter 197609  1309236 Oct  4 10:04 learnX_ML.ipynb\n",
      "-rw-r--r-- 1 dexter 197609   352808 Oct  2 08:08 sample_submission_pn2DrMq_KeLPcvs.csv\n",
      "-rw-r--r-- 1 dexter 197609  1932411 Oct  2 08:08 test.csv\n",
      "-rw-r--r-- 1 dexter 197609 32224859 Mar 27  2020 train.csv\n"
     ]
    }
   ],
   "source": [
    "!ls -l"
   ]
  },
  {
   "cell_type": "code",
   "execution_count": 84,
   "metadata": {},
   "outputs": [],
   "source": [
    "df_test = pd.read_csv('sample_submission_pn2DrMq_KeLPcvs.csv')"
   ]
  },
  {
   "cell_type": "code",
   "execution_count": null,
   "metadata": {},
   "outputs": [],
   "source": [
    "# learning_rate=0.05, l2_leaf_reg=1, iterations=2000, depth=10, border_count=128, bagging_temperature=0"
   ]
  },
  {
   "cell_type": "code",
   "execution_count": 87,
   "metadata": {
    "scrolled": true
   },
   "outputs": [
    {
     "data": {
      "text/html": [
       "<div>\n",
       "<style scoped>\n",
       "    .dataframe tbody tr th:only-of-type {\n",
       "        vertical-align: middle;\n",
       "    }\n",
       "\n",
       "    .dataframe tbody tr th {\n",
       "        vertical-align: top;\n",
       "    }\n",
       "\n",
       "    .dataframe thead th {\n",
       "        text-align: right;\n",
       "    }\n",
       "</style>\n",
       "<table border=\"1\" class=\"dataframe\">\n",
       "  <thead>\n",
       "    <tr style=\"text-align: right;\">\n",
       "      <th></th>\n",
       "      <th>ID</th>\n",
       "      <th>Sales</th>\n",
       "    </tr>\n",
       "  </thead>\n",
       "  <tbody>\n",
       "    <tr>\n",
       "      <th>0</th>\n",
       "      <td>883</td>\n",
       "      <td>5</td>\n",
       "    </tr>\n",
       "    <tr>\n",
       "      <th>1</th>\n",
       "      <td>884</td>\n",
       "      <td>5</td>\n",
       "    </tr>\n",
       "    <tr>\n",
       "      <th>2</th>\n",
       "      <td>885</td>\n",
       "      <td>5</td>\n",
       "    </tr>\n",
       "    <tr>\n",
       "      <th>3</th>\n",
       "      <td>886</td>\n",
       "      <td>5</td>\n",
       "    </tr>\n",
       "    <tr>\n",
       "      <th>4</th>\n",
       "      <td>887</td>\n",
       "      <td>5</td>\n",
       "    </tr>\n",
       "    <tr>\n",
       "      <th>5</th>\n",
       "      <td>888</td>\n",
       "      <td>5</td>\n",
       "    </tr>\n",
       "    <tr>\n",
       "      <th>6</th>\n",
       "      <td>889</td>\n",
       "      <td>5</td>\n",
       "    </tr>\n",
       "    <tr>\n",
       "      <th>7</th>\n",
       "      <td>890</td>\n",
       "      <td>5</td>\n",
       "    </tr>\n",
       "    <tr>\n",
       "      <th>8</th>\n",
       "      <td>891</td>\n",
       "      <td>5</td>\n",
       "    </tr>\n",
       "    <tr>\n",
       "      <th>9</th>\n",
       "      <td>892</td>\n",
       "      <td>5</td>\n",
       "    </tr>\n",
       "  </tbody>\n",
       "</table>\n",
       "</div>"
      ],
      "text/plain": [
       "    ID  Sales\n",
       "0  883      5\n",
       "1  884      5\n",
       "2  885      5\n",
       "3  886      5\n",
       "4  887      5\n",
       "5  888      5\n",
       "6  889      5\n",
       "7  890      5\n",
       "8  891      5\n",
       "9  892      5"
      ]
     },
     "execution_count": 87,
     "metadata": {},
     "output_type": "execute_result"
    }
   ],
   "source": [
    "df_test.head(10)"
   ]
  },
  {
   "cell_type": "code",
   "execution_count": 228,
   "metadata": {},
   "outputs": [],
   "source": [
    "df_test['Sales'] = test_submit"
   ]
  },
  {
   "cell_type": "code",
   "execution_count": 232,
   "metadata": {},
   "outputs": [
    {
     "data": {
      "text/plain": [
       "(36000, 2)"
      ]
     },
     "execution_count": 232,
     "metadata": {},
     "output_type": "execute_result"
    }
   ],
   "source": [
    "df_test.shape"
   ]
  },
  {
   "cell_type": "code",
   "execution_count": 239,
   "metadata": {},
   "outputs": [],
   "source": [
    "df_test.to_csv('submit.csv',header =True, index=False)"
   ]
  },
  {
   "cell_type": "code",
   "execution_count": null,
   "metadata": {},
   "outputs": [],
   "source": []
  },
  {
   "cell_type": "markdown",
   "metadata": {},
   "source": [
    "## Try 2"
   ]
  },
  {
   "cell_type": "code",
   "execution_count": 75,
   "metadata": {},
   "outputs": [],
   "source": [
    "\n",
    "catb_model_2 = CatBoostRegressor(iterations=5000,\n",
    "                             learning_rate=0.1,\n",
    "                             depth=10,\n",
    "                             eval_metric='RMSE',\n",
    "                             loss_function='RMSE',\n",
    "                             random_seed = 23,\n",
    "                             bagging_temperature = 0.2,\n",
    "                             od_type='Iter',\n",
    "                             metric_period = 100,\n",
    "                             od_wait=100)"
   ]
  },
  {
   "cell_type": "code",
   "execution_count": 76,
   "metadata": {
    "collapsed": true
   },
   "outputs": [
    {
     "name": "stderr",
     "output_type": "stream",
     "text": [
      "Warning: Overfitting detector is active, thus evaluation metric is calculated on every iteration. 'metric_period' is ignored for evaluation metric.\n"
     ]
    },
    {
     "name": "stdout",
     "output_type": "stream",
     "text": [
      "0:\tlearn: 48.0852390\ttest: 47.8061204\tbest: 47.8061204 (0)\ttotal: 1.3s\tremaining: 1h 48m 1s\n",
      "100:\tlearn: 14.2986841\ttest: 14.3581814\tbest: 14.3581814 (100)\ttotal: 2m 13s\tremaining: 1h 48m 8s\n",
      "200:\tlearn: 12.0732836\ttest: 12.1787500\tbest: 12.1787500 (200)\ttotal: 6m 3s\tremaining: 2h 24m 32s\n",
      "300:\tlearn: 11.0743104\ttest: 11.2125446\tbest: 11.2125446 (300)\ttotal: 9m 53s\tremaining: 2h 34m 25s\n",
      "400:\tlearn: 10.4917661\ttest: 10.6517211\tbest: 10.6517211 (400)\ttotal: 13m 45s\tremaining: 2h 37m 49s\n",
      "500:\tlearn: 10.0502557\ttest: 10.2330588\tbest: 10.2330588 (500)\ttotal: 17m 51s\tremaining: 2h 40m 20s\n",
      "600:\tlearn: 9.7677107\ttest: 9.9807364\tbest: 9.9807364 (600)\ttotal: 21m 50s\tremaining: 2h 39m 51s\n",
      "700:\tlearn: 9.5218080\ttest: 9.7599153\tbest: 9.7599153 (700)\ttotal: 25m 39s\tremaining: 2h 37m 21s\n",
      "800:\tlearn: 9.3420432\ttest: 9.6052561\tbest: 9.6052561 (800)\ttotal: 29m 29s\tremaining: 2h 34m 36s\n",
      "900:\tlearn: 9.1753907\ttest: 9.4624837\tbest: 9.4624837 (900)\ttotal: 32m 7s\tremaining: 2h 26m 7s\n",
      "1000:\tlearn: 9.0426259\ttest: 9.3564616\tbest: 9.3564616 (1000)\ttotal: 34m 8s\tremaining: 2h 16m 22s\n",
      "1100:\tlearn: 8.9494081\ttest: 9.2889809\tbest: 9.2889809 (1100)\ttotal: 36m 10s\tremaining: 2h 8m 5s\n",
      "1200:\tlearn: 8.8467434\ttest: 9.2112629\tbest: 9.2112629 (1200)\ttotal: 38m 12s\tremaining: 2h 52s\n",
      "1300:\tlearn: 8.7549807\ttest: 9.1469125\tbest: 9.1469125 (1300)\ttotal: 40m 16s\tremaining: 1h 54m 29s\n",
      "1400:\tlearn: 8.6763682\ttest: 9.0936777\tbest: 9.0936777 (1400)\ttotal: 42m 20s\tremaining: 1h 48m 46s\n",
      "1500:\tlearn: 8.5985829\ttest: 9.0443727\tbest: 9.0443727 (1500)\ttotal: 44m 25s\tremaining: 1h 43m 32s\n",
      "1600:\tlearn: 8.5374752\ttest: 9.0091942\tbest: 9.0091942 (1600)\ttotal: 46m 28s\tremaining: 1h 38m 40s\n",
      "1700:\tlearn: 8.4789715\ttest: 8.9797277\tbest: 8.9797277 (1700)\ttotal: 48m 32s\tremaining: 1h 34m 8s\n",
      "1800:\tlearn: 8.4228549\ttest: 8.9503962\tbest: 8.9503962 (1800)\ttotal: 50m 39s\tremaining: 1h 29m 58s\n",
      "1900:\tlearn: 8.3750645\ttest: 8.9273687\tbest: 8.9273687 (1900)\ttotal: 52m 42s\tremaining: 1h 25m 55s\n",
      "2000:\tlearn: 8.3232338\ttest: 8.9066495\tbest: 8.9066495 (2000)\ttotal: 54m 49s\tremaining: 1h 22m 9s\n",
      "2100:\tlearn: 8.2765954\ttest: 8.8877539\tbest: 8.8877539 (2100)\ttotal: 56m 58s\tremaining: 1h 18m 37s\n",
      "2200:\tlearn: 8.2305806\ttest: 8.8657748\tbest: 8.8657748 (2200)\ttotal: 59m 17s\tremaining: 1h 15m 24s\n",
      "2300:\tlearn: 8.1936691\ttest: 8.8518768\tbest: 8.8518768 (2300)\ttotal: 1h 1m 32s\tremaining: 1h 12m 11s\n",
      "2400:\tlearn: 8.1512789\ttest: 8.8366987\tbest: 8.8365672 (2398)\ttotal: 1h 3m 46s\tremaining: 1h 9m 2s\n",
      "2500:\tlearn: 8.1108664\ttest: 8.8215381\tbest: 8.8215381 (2500)\ttotal: 1h 5m 59s\tremaining: 1h 5m 55s\n",
      "2600:\tlearn: 8.0714138\ttest: 8.8081997\tbest: 8.8081440 (2599)\ttotal: 1h 8m 3s\tremaining: 1h 2m 46s\n",
      "2700:\tlearn: 8.0353133\ttest: 8.7963098\tbest: 8.7962782 (2699)\ttotal: 1h 10m 15s\tremaining: 59m 48s\n",
      "2800:\tlearn: 7.9970070\ttest: 8.7847725\tbest: 8.7846872 (2798)\ttotal: 1h 12m 20s\tremaining: 56m 47s\n",
      "2900:\tlearn: 7.9596493\ttest: 8.7757772\tbest: 8.7757772 (2900)\ttotal: 1h 14m 27s\tremaining: 53m 52s\n",
      "3000:\tlearn: 7.9244016\ttest: 8.7647852\tbest: 8.7647852 (3000)\ttotal: 1h 16m 33s\tremaining: 50m 59s\n",
      "3100:\tlearn: 7.8937345\ttest: 8.7582645\tbest: 8.7582645 (3100)\ttotal: 1h 18m 41s\tremaining: 48m 11s\n",
      "3200:\tlearn: 7.8609621\ttest: 8.7492016\tbest: 8.7491864 (3198)\ttotal: 1h 20m 58s\tremaining: 45m 30s\n",
      "3300:\tlearn: 7.8274091\ttest: 8.7410853\tbest: 8.7410641 (3298)\ttotal: 1h 23m 33s\tremaining: 43m\n",
      "3400:\tlearn: 7.7939578\ttest: 8.7333919\tbest: 8.7332789 (3397)\ttotal: 1h 25m 46s\tremaining: 40m 19s\n",
      "3500:\tlearn: 7.7662505\ttest: 8.7265946\tbest: 8.7265946 (3500)\ttotal: 1h 28m 11s\tremaining: 37m 45s\n",
      "3600:\tlearn: 7.7384902\ttest: 8.7209994\tbest: 8.7209994 (3600)\ttotal: 1h 30m 27s\tremaining: 35m 8s\n",
      "3700:\tlearn: 7.7084844\ttest: 8.7155098\tbest: 8.7154183 (3698)\ttotal: 1h 32m 38s\tremaining: 32m 31s\n",
      "3800:\tlearn: 7.6806571\ttest: 8.7106389\tbest: 8.7106389 (3800)\ttotal: 1h 34m 50s\tremaining: 29m 55s\n",
      "3900:\tlearn: 7.6541328\ttest: 8.7048580\tbest: 8.7048580 (3900)\ttotal: 1h 37m 1s\tremaining: 27m 20s\n",
      "4000:\tlearn: 7.6297107\ttest: 8.7005115\tbest: 8.7005115 (4000)\ttotal: 1h 39m 12s\tremaining: 24m 46s\n",
      "4100:\tlearn: 7.6035665\ttest: 8.6968631\tbest: 8.6966743 (4091)\ttotal: 1h 41m 23s\tremaining: 22m 13s\n",
      "4200:\tlearn: 7.5808907\ttest: 8.6936779\tbest: 8.6936779 (4200)\ttotal: 1h 43m 36s\tremaining: 19m 42s\n",
      "4300:\tlearn: 7.5561947\ttest: 8.6893211\tbest: 8.6893211 (4300)\ttotal: 1h 45m 48s\tremaining: 17m 11s\n",
      "4400:\tlearn: 7.5312656\ttest: 8.6866808\tbest: 8.6865879 (4398)\ttotal: 1h 48m\tremaining: 14m 42s\n",
      "4500:\tlearn: 7.5072964\ttest: 8.6837921\tbest: 8.6837497 (4498)\ttotal: 1h 50m 14s\tremaining: 12m 13s\n",
      "4600:\tlearn: 7.4872009\ttest: 8.6826222\tbest: 8.6822036 (4558)\ttotal: 1h 52m 26s\tremaining: 9m 45s\n",
      "4700:\tlearn: 7.4646068\ttest: 8.6789418\tbest: 8.6789418 (4700)\ttotal: 1h 54m 37s\tremaining: 7m 17s\n",
      "4800:\tlearn: 7.4423806\ttest: 8.6786269\tbest: 8.6785742 (4791)\ttotal: 1h 56m 52s\tremaining: 4m 50s\n",
      "4900:\tlearn: 7.4189967\ttest: 8.6766467\tbest: 8.6766467 (4900)\ttotal: 1h 59m 4s\tremaining: 2m 24s\n",
      "4999:\tlearn: 7.3965285\ttest: 8.6746991\tbest: 8.6743962 (4984)\ttotal: 2h 1m 17s\tremaining: 0us\n",
      "\n",
      "bestTest = 8.674396233\n",
      "bestIteration = 4984\n",
      "\n",
      "Shrink model to first 4985 iterations.\n"
     ]
    },
    {
     "data": {
      "text/plain": [
       "<catboost.core.CatBoostRegressor at 0x20395406888>"
      ]
     },
     "execution_count": 76,
     "metadata": {},
     "output_type": "execute_result"
    }
   ],
   "source": [
    "catb_model_2.fit(Xcb_train, ycb_train,\n",
    "             eval_set=(Xcb_valid,ycb_valid),\n",
    "            cat_features=categorical_features_indices2,\n",
    "             use_best_model=True,\n",
    "             verbose=True)"
   ]
  },
  {
   "cell_type": "code",
   "execution_count": 79,
   "metadata": {},
   "outputs": [],
   "source": [
    "val_pred_main2 =catb_model_2.predict(Xcb_valid)"
   ]
  },
  {
   "cell_type": "code",
   "execution_count": 81,
   "metadata": {},
   "outputs": [
    {
     "data": {
      "text/plain": [
       "73.7442290589427"
      ]
     },
     "execution_count": 81,
     "metadata": {},
     "output_type": "execute_result"
    }
   ],
   "source": [
    "rmsle_t(ycb_valid,val_pred_main2)"
   ]
  },
  {
   "cell_type": "code",
   "execution_count": 82,
   "metadata": {},
   "outputs": [],
   "source": [
    "test_pred_main_2 =catb_model_2.predict(test_cb)"
   ]
  },
  {
   "cell_type": "code",
   "execution_count": 88,
   "metadata": {},
   "outputs": [],
   "source": [
    "df_test['Sales'] = test_pred_main_2"
   ]
  },
  {
   "cell_type": "code",
   "execution_count": 89,
   "metadata": {},
   "outputs": [],
   "source": [
    "df_test.to_csv('submit_cb12345.csv',header =True, index=False)"
   ]
  },
  {
   "cell_type": "code",
   "execution_count": 90,
   "metadata": {},
   "outputs": [
    {
     "data": {
      "text/html": [
       "<div>\n",
       "<style scoped>\n",
       "    .dataframe tbody tr th:only-of-type {\n",
       "        vertical-align: middle;\n",
       "    }\n",
       "\n",
       "    .dataframe tbody tr th {\n",
       "        vertical-align: top;\n",
       "    }\n",
       "\n",
       "    .dataframe thead th {\n",
       "        text-align: right;\n",
       "    }\n",
       "</style>\n",
       "<table border=\"1\" class=\"dataframe\">\n",
       "  <thead>\n",
       "    <tr style=\"text-align: right;\">\n",
       "      <th></th>\n",
       "      <th>ID</th>\n",
       "      <th>Sales</th>\n",
       "    </tr>\n",
       "  </thead>\n",
       "  <tbody>\n",
       "    <tr>\n",
       "      <th>0</th>\n",
       "      <td>883</td>\n",
       "      <td>142.978099</td>\n",
       "    </tr>\n",
       "    <tr>\n",
       "      <th>1</th>\n",
       "      <td>884</td>\n",
       "      <td>142.978099</td>\n",
       "    </tr>\n",
       "    <tr>\n",
       "      <th>2</th>\n",
       "      <td>885</td>\n",
       "      <td>133.594666</td>\n",
       "    </tr>\n",
       "    <tr>\n",
       "      <th>3</th>\n",
       "      <td>886</td>\n",
       "      <td>132.159041</td>\n",
       "    </tr>\n",
       "    <tr>\n",
       "      <th>4</th>\n",
       "      <td>887</td>\n",
       "      <td>86.769182</td>\n",
       "    </tr>\n",
       "    <tr>\n",
       "      <th>...</th>\n",
       "      <td>...</td>\n",
       "      <td>...</td>\n",
       "    </tr>\n",
       "    <tr>\n",
       "      <th>35995</th>\n",
       "      <td>548083</td>\n",
       "      <td>166.001907</td>\n",
       "    </tr>\n",
       "    <tr>\n",
       "      <th>35996</th>\n",
       "      <td>548084</td>\n",
       "      <td>166.001907</td>\n",
       "    </tr>\n",
       "    <tr>\n",
       "      <th>35997</th>\n",
       "      <td>548085</td>\n",
       "      <td>163.948411</td>\n",
       "    </tr>\n",
       "    <tr>\n",
       "      <th>35998</th>\n",
       "      <td>548086</td>\n",
       "      <td>186.900745</td>\n",
       "    </tr>\n",
       "    <tr>\n",
       "      <th>35999</th>\n",
       "      <td>548087</td>\n",
       "      <td>185.345637</td>\n",
       "    </tr>\n",
       "  </tbody>\n",
       "</table>\n",
       "<p>36000 rows × 2 columns</p>\n",
       "</div>"
      ],
      "text/plain": [
       "           ID       Sales\n",
       "0         883  142.978099\n",
       "1         884  142.978099\n",
       "2         885  133.594666\n",
       "3         886  132.159041\n",
       "4         887   86.769182\n",
       "...       ...         ...\n",
       "35995  548083  166.001907\n",
       "35996  548084  166.001907\n",
       "35997  548085  163.948411\n",
       "35998  548086  186.900745\n",
       "35999  548087  185.345637\n",
       "\n",
       "[36000 rows x 2 columns]"
      ]
     },
     "execution_count": 90,
     "metadata": {},
     "output_type": "execute_result"
    }
   ],
   "source": [
    "df_test"
   ]
  },
  {
   "cell_type": "markdown",
   "metadata": {},
   "source": [
    "## Applying lgbm"
   ]
  },
  {
   "cell_type": "code",
   "execution_count": null,
   "metadata": {},
   "outputs": [],
   "source": []
  }
 ],
 "metadata": {
  "kernelspec": {
   "display_name": "Python 3",
   "language": "python",
   "name": "python3"
  },
  "language_info": {
   "codemirror_mode": {
    "name": "ipython",
    "version": 3
   },
   "file_extension": ".py",
   "mimetype": "text/x-python",
   "name": "python",
   "nbconvert_exporter": "python",
   "pygments_lexer": "ipython3",
   "version": "3.7.6"
  }
 },
 "nbformat": 4,
 "nbformat_minor": 4
}
