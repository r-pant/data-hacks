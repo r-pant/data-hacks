{
 "cells": [
  {
   "cell_type": "code",
   "execution_count": 10,
   "metadata": {},
   "outputs": [],
   "source": [
    "import pandas as pd\n",
    "import numpy as np\n",
    "from sklearn.metrics import mean_squared_error\n",
    "from sklearn.metrics.pairwise import cosine_similarity\n",
    "from sklearn.model_selection import train_test_split\n",
    "\n",
    "import seaborn as sns\n",
    "import matplotlib.pyplot as plt\n",
    "from sklearn.decomposition import PCA\n",
    "from sklearn.cluster import KMeans"
   ]
  },
  {
   "cell_type": "code",
   "execution_count": 32,
   "metadata": {},
   "outputs": [],
   "source": [
    "data = pd.read_csv('pizza_hut.txt', sep = ';', delimiter=None)"
   ]
  },
  {
   "cell_type": "code",
   "execution_count": 33,
   "metadata": {},
   "outputs": [
    {
     "data": {
      "text/plain": [
       "DW_CUSTOMER                 100000\n",
       "FL_HUT_LOVER                100000\n",
       "DAYPART_COUNT_AFTERNOON      43855\n",
       "DAYPART_COUNT_DINNER         74447\n",
       "DAYPART_COUNT_EVENING        24200\n",
       "                             ...  \n",
       "LATEST_CNT_OPTION_Sauce      22834\n",
       "LATEST_CNT_OPTION_Cheese     14045\n",
       "LATEST_CNT_OPTION_Nfresh     75440\n",
       "LATEST_CNT_OPTION_Vfresh     49774\n",
       "LATEST_CNT_OPTION_Others      4238\n",
       "Length: 319, dtype: int64"
      ]
     },
     "execution_count": 33,
     "metadata": {},
     "output_type": "execute_result"
    }
   ],
   "source": [
    "data.count()"
   ]
  },
  {
   "cell_type": "code",
   "execution_count": 34,
   "metadata": {},
   "outputs": [
    {
     "data": {
      "text/plain": [
       "92409854     1\n",
       "108559066    1\n",
       "81452265     1\n",
       "115136570    1\n",
       "38211556     1\n",
       "            ..\n",
       "102341913    1\n",
       "104693181    1\n",
       "50439454     1\n",
       "41460494     1\n",
       "106561536    1\n",
       "Name: DW_CUSTOMER, Length: 100000, dtype: int64"
      ]
     },
     "execution_count": 34,
     "metadata": {},
     "output_type": "execute_result"
    }
   ],
   "source": [
    "data['DW_CUSTOMER'].value_counts()"
   ]
  },
  {
   "cell_type": "code",
   "execution_count": 35,
   "metadata": {},
   "outputs": [],
   "source": [
    "data.drop(columns = 'FL_HUT_LOVER', axis=1, inplace=True)"
   ]
  },
  {
   "cell_type": "code",
   "execution_count": 36,
   "metadata": {},
   "outputs": [
    {
     "data": {
      "text/html": [
       "<div>\n",
       "<style scoped>\n",
       "    .dataframe tbody tr th:only-of-type {\n",
       "        vertical-align: middle;\n",
       "    }\n",
       "\n",
       "    .dataframe tbody tr th {\n",
       "        vertical-align: top;\n",
       "    }\n",
       "\n",
       "    .dataframe thead th {\n",
       "        text-align: right;\n",
       "    }\n",
       "</style>\n",
       "<table border=\"1\" class=\"dataframe\">\n",
       "  <thead>\n",
       "    <tr style=\"text-align: right;\">\n",
       "      <th></th>\n",
       "      <th>DW_CUSTOMER</th>\n",
       "      <th>DAYPART_COUNT_AFTERNOON</th>\n",
       "      <th>DAYPART_COUNT_DINNER</th>\n",
       "      <th>DAYPART_COUNT_EVENING</th>\n",
       "      <th>DAYPART_COUNT_LUNCH</th>\n",
       "      <th>DAYPART_COUNT_MID_MORNING</th>\n",
       "      <th>DAYPART_COUNT_LATE_NIGHT</th>\n",
       "      <th>DAYPART_COUNT_EARLY_MORNING</th>\n",
       "      <th>AVG_BILL_VALUE_DAYPART_AFTERNOON</th>\n",
       "      <th>AVG_BILL_VALUE_DAYPART_DINNER</th>\n",
       "      <th>...</th>\n",
       "      <th>L6M_CNT_OPTION_Cheese</th>\n",
       "      <th>L6M_CNT_OPTION_Nfresh</th>\n",
       "      <th>L6M_CNT_OPTION_Others</th>\n",
       "      <th>L6M_CNT_OPTION_Sauce</th>\n",
       "      <th>L6M_CNT_OPTION_Vfresh</th>\n",
       "      <th>LATEST_CNT_OPTION_Sauce</th>\n",
       "      <th>LATEST_CNT_OPTION_Cheese</th>\n",
       "      <th>LATEST_CNT_OPTION_Nfresh</th>\n",
       "      <th>LATEST_CNT_OPTION_Vfresh</th>\n",
       "      <th>LATEST_CNT_OPTION_Others</th>\n",
       "    </tr>\n",
       "  </thead>\n",
       "  <tbody>\n",
       "    <tr>\n",
       "      <th>0</th>\n",
       "      <td>4108</td>\n",
       "      <td>NaN</td>\n",
       "      <td>1.0</td>\n",
       "      <td>NaN</td>\n",
       "      <td>NaN</td>\n",
       "      <td>NaN</td>\n",
       "      <td>NaN</td>\n",
       "      <td>NaN</td>\n",
       "      <td>NaN</td>\n",
       "      <td>10.000000</td>\n",
       "      <td>...</td>\n",
       "      <td>NaN</td>\n",
       "      <td>NaN</td>\n",
       "      <td>NaN</td>\n",
       "      <td>NaN</td>\n",
       "      <td>1.0</td>\n",
       "      <td>NaN</td>\n",
       "      <td>NaN</td>\n",
       "      <td>NaN</td>\n",
       "      <td>1.0</td>\n",
       "      <td>NaN</td>\n",
       "    </tr>\n",
       "    <tr>\n",
       "      <th>1</th>\n",
       "      <td>9668</td>\n",
       "      <td>1.0</td>\n",
       "      <td>NaN</td>\n",
       "      <td>NaN</td>\n",
       "      <td>NaN</td>\n",
       "      <td>NaN</td>\n",
       "      <td>NaN</td>\n",
       "      <td>NaN</td>\n",
       "      <td>24.0</td>\n",
       "      <td>NaN</td>\n",
       "      <td>...</td>\n",
       "      <td>NaN</td>\n",
       "      <td>1.0</td>\n",
       "      <td>NaN</td>\n",
       "      <td>NaN</td>\n",
       "      <td>NaN</td>\n",
       "      <td>NaN</td>\n",
       "      <td>NaN</td>\n",
       "      <td>1.0</td>\n",
       "      <td>NaN</td>\n",
       "      <td>NaN</td>\n",
       "    </tr>\n",
       "    <tr>\n",
       "      <th>2</th>\n",
       "      <td>12566</td>\n",
       "      <td>NaN</td>\n",
       "      <td>7.0</td>\n",
       "      <td>NaN</td>\n",
       "      <td>NaN</td>\n",
       "      <td>NaN</td>\n",
       "      <td>NaN</td>\n",
       "      <td>NaN</td>\n",
       "      <td>NaN</td>\n",
       "      <td>12.107143</td>\n",
       "      <td>...</td>\n",
       "      <td>8.0</td>\n",
       "      <td>6.0</td>\n",
       "      <td>NaN</td>\n",
       "      <td>NaN</td>\n",
       "      <td>16.0</td>\n",
       "      <td>NaN</td>\n",
       "      <td>2.0</td>\n",
       "      <td>1.0</td>\n",
       "      <td>4.0</td>\n",
       "      <td>NaN</td>\n",
       "    </tr>\n",
       "    <tr>\n",
       "      <th>3</th>\n",
       "      <td>12646</td>\n",
       "      <td>NaN</td>\n",
       "      <td>2.0</td>\n",
       "      <td>NaN</td>\n",
       "      <td>2.0</td>\n",
       "      <td>NaN</td>\n",
       "      <td>NaN</td>\n",
       "      <td>NaN</td>\n",
       "      <td>NaN</td>\n",
       "      <td>11.525000</td>\n",
       "      <td>...</td>\n",
       "      <td>NaN</td>\n",
       "      <td>6.0</td>\n",
       "      <td>NaN</td>\n",
       "      <td>NaN</td>\n",
       "      <td>1.0</td>\n",
       "      <td>NaN</td>\n",
       "      <td>NaN</td>\n",
       "      <td>5.0</td>\n",
       "      <td>1.0</td>\n",
       "      <td>NaN</td>\n",
       "    </tr>\n",
       "    <tr>\n",
       "      <th>4</th>\n",
       "      <td>13678</td>\n",
       "      <td>NaN</td>\n",
       "      <td>1.0</td>\n",
       "      <td>NaN</td>\n",
       "      <td>NaN</td>\n",
       "      <td>NaN</td>\n",
       "      <td>NaN</td>\n",
       "      <td>NaN</td>\n",
       "      <td>NaN</td>\n",
       "      <td>27.000000</td>\n",
       "      <td>...</td>\n",
       "      <td>NaN</td>\n",
       "      <td>1.0</td>\n",
       "      <td>NaN</td>\n",
       "      <td>NaN</td>\n",
       "      <td>2.0</td>\n",
       "      <td>NaN</td>\n",
       "      <td>NaN</td>\n",
       "      <td>1.0</td>\n",
       "      <td>2.0</td>\n",
       "      <td>NaN</td>\n",
       "    </tr>\n",
       "  </tbody>\n",
       "</table>\n",
       "<p>5 rows × 318 columns</p>\n",
       "</div>"
      ],
      "text/plain": [
       "   DW_CUSTOMER  DAYPART_COUNT_AFTERNOON  DAYPART_COUNT_DINNER  \\\n",
       "0         4108                      NaN                   1.0   \n",
       "1         9668                      1.0                   NaN   \n",
       "2        12566                      NaN                   7.0   \n",
       "3        12646                      NaN                   2.0   \n",
       "4        13678                      NaN                   1.0   \n",
       "\n",
       "   DAYPART_COUNT_EVENING  DAYPART_COUNT_LUNCH  DAYPART_COUNT_MID_MORNING  \\\n",
       "0                    NaN                  NaN                        NaN   \n",
       "1                    NaN                  NaN                        NaN   \n",
       "2                    NaN                  NaN                        NaN   \n",
       "3                    NaN                  2.0                        NaN   \n",
       "4                    NaN                  NaN                        NaN   \n",
       "\n",
       "   DAYPART_COUNT_LATE_NIGHT  DAYPART_COUNT_EARLY_MORNING  \\\n",
       "0                       NaN                          NaN   \n",
       "1                       NaN                          NaN   \n",
       "2                       NaN                          NaN   \n",
       "3                       NaN                          NaN   \n",
       "4                       NaN                          NaN   \n",
       "\n",
       "   AVG_BILL_VALUE_DAYPART_AFTERNOON  AVG_BILL_VALUE_DAYPART_DINNER  ...  \\\n",
       "0                               NaN                      10.000000  ...   \n",
       "1                              24.0                            NaN  ...   \n",
       "2                               NaN                      12.107143  ...   \n",
       "3                               NaN                      11.525000  ...   \n",
       "4                               NaN                      27.000000  ...   \n",
       "\n",
       "   L6M_CNT_OPTION_Cheese  L6M_CNT_OPTION_Nfresh  L6M_CNT_OPTION_Others  \\\n",
       "0                    NaN                    NaN                    NaN   \n",
       "1                    NaN                    1.0                    NaN   \n",
       "2                    8.0                    6.0                    NaN   \n",
       "3                    NaN                    6.0                    NaN   \n",
       "4                    NaN                    1.0                    NaN   \n",
       "\n",
       "   L6M_CNT_OPTION_Sauce  L6M_CNT_OPTION_Vfresh  LATEST_CNT_OPTION_Sauce  \\\n",
       "0                   NaN                    1.0                      NaN   \n",
       "1                   NaN                    NaN                      NaN   \n",
       "2                   NaN                   16.0                      NaN   \n",
       "3                   NaN                    1.0                      NaN   \n",
       "4                   NaN                    2.0                      NaN   \n",
       "\n",
       "   LATEST_CNT_OPTION_Cheese  LATEST_CNT_OPTION_Nfresh  \\\n",
       "0                       NaN                       NaN   \n",
       "1                       NaN                       1.0   \n",
       "2                       2.0                       1.0   \n",
       "3                       NaN                       5.0   \n",
       "4                       NaN                       1.0   \n",
       "\n",
       "   LATEST_CNT_OPTION_Vfresh  LATEST_CNT_OPTION_Others  \n",
       "0                       1.0                       NaN  \n",
       "1                       NaN                       NaN  \n",
       "2                       4.0                       NaN  \n",
       "3                       1.0                       NaN  \n",
       "4                       2.0                       NaN  \n",
       "\n",
       "[5 rows x 318 columns]"
      ]
     },
     "execution_count": 36,
     "metadata": {},
     "output_type": "execute_result"
    }
   ],
   "source": [
    "data.head()"
   ]
  },
  {
   "cell_type": "code",
   "execution_count": 37,
   "metadata": {},
   "outputs": [
    {
     "data": {
      "text/plain": [
       "Index(['DW_CUSTOMER', 'DAYPART_COUNT_AFTERNOON', 'DAYPART_COUNT_DINNER',\n",
       "       'DAYPART_COUNT_EVENING', 'DAYPART_COUNT_LUNCH',\n",
       "       'DAYPART_COUNT_MID_MORNING', 'DAYPART_COUNT_LATE_NIGHT',\n",
       "       'DAYPART_COUNT_EARLY_MORNING', 'AVG_BILL_VALUE_DAYPART_AFTERNOON',\n",
       "       'AVG_BILL_VALUE_DAYPART_DINNER',\n",
       "       ...\n",
       "       'L6M_CNT_OPTION_Cheese', 'L6M_CNT_OPTION_Nfresh',\n",
       "       'L6M_CNT_OPTION_Others', 'L6M_CNT_OPTION_Sauce',\n",
       "       'L6M_CNT_OPTION_Vfresh', 'LATEST_CNT_OPTION_Sauce',\n",
       "       'LATEST_CNT_OPTION_Cheese', 'LATEST_CNT_OPTION_Nfresh',\n",
       "       'LATEST_CNT_OPTION_Vfresh', 'LATEST_CNT_OPTION_Others'],\n",
       "      dtype='object', length=318)"
      ]
     },
     "execution_count": 37,
     "metadata": {},
     "output_type": "execute_result"
    }
   ],
   "source": [
    "data.columns  "
   ]
  },
  {
   "cell_type": "markdown",
   "metadata": {},
   "source": [
    "### feature-wise EDA"
   ]
  },
  {
   "cell_type": "code",
   "execution_count": 39,
   "metadata": {},
   "outputs": [],
   "source": [
    "# data['FL_HUT_LOVER'].value_counts()"
   ]
  },
  {
   "cell_type": "code",
   "execution_count": 40,
   "metadata": {},
   "outputs": [
    {
     "data": {
      "text/html": [
       "<div>\n",
       "<style scoped>\n",
       "    .dataframe tbody tr th:only-of-type {\n",
       "        vertical-align: middle;\n",
       "    }\n",
       "\n",
       "    .dataframe tbody tr th {\n",
       "        vertical-align: top;\n",
       "    }\n",
       "\n",
       "    .dataframe thead th {\n",
       "        text-align: right;\n",
       "    }\n",
       "</style>\n",
       "<table border=\"1\" class=\"dataframe\">\n",
       "  <thead>\n",
       "    <tr style=\"text-align: right;\">\n",
       "      <th></th>\n",
       "      <th>DAYPART_COUNT_AFTERNOON</th>\n",
       "      <th>DAYPART_COUNT_DINNER</th>\n",
       "      <th>DAYPART_COUNT_EVENING</th>\n",
       "      <th>DAYPART_COUNT_LUNCH</th>\n",
       "      <th>DAYPART_COUNT_MID_MORNING</th>\n",
       "      <th>DAYPART_COUNT_LATE_NIGHT</th>\n",
       "      <th>DAYPART_COUNT_EARLY_MORNING</th>\n",
       "    </tr>\n",
       "  </thead>\n",
       "  <tbody>\n",
       "    <tr>\n",
       "      <th>0</th>\n",
       "      <td>NaN</td>\n",
       "      <td>1.0</td>\n",
       "      <td>NaN</td>\n",
       "      <td>NaN</td>\n",
       "      <td>NaN</td>\n",
       "      <td>NaN</td>\n",
       "      <td>NaN</td>\n",
       "    </tr>\n",
       "    <tr>\n",
       "      <th>1</th>\n",
       "      <td>1.0</td>\n",
       "      <td>NaN</td>\n",
       "      <td>NaN</td>\n",
       "      <td>NaN</td>\n",
       "      <td>NaN</td>\n",
       "      <td>NaN</td>\n",
       "      <td>NaN</td>\n",
       "    </tr>\n",
       "    <tr>\n",
       "      <th>2</th>\n",
       "      <td>NaN</td>\n",
       "      <td>7.0</td>\n",
       "      <td>NaN</td>\n",
       "      <td>NaN</td>\n",
       "      <td>NaN</td>\n",
       "      <td>NaN</td>\n",
       "      <td>NaN</td>\n",
       "    </tr>\n",
       "    <tr>\n",
       "      <th>3</th>\n",
       "      <td>NaN</td>\n",
       "      <td>2.0</td>\n",
       "      <td>NaN</td>\n",
       "      <td>2.0</td>\n",
       "      <td>NaN</td>\n",
       "      <td>NaN</td>\n",
       "      <td>NaN</td>\n",
       "    </tr>\n",
       "    <tr>\n",
       "      <th>4</th>\n",
       "      <td>NaN</td>\n",
       "      <td>1.0</td>\n",
       "      <td>NaN</td>\n",
       "      <td>NaN</td>\n",
       "      <td>NaN</td>\n",
       "      <td>NaN</td>\n",
       "      <td>NaN</td>\n",
       "    </tr>\n",
       "  </tbody>\n",
       "</table>\n",
       "</div>"
      ],
      "text/plain": [
       "   DAYPART_COUNT_AFTERNOON  DAYPART_COUNT_DINNER  DAYPART_COUNT_EVENING  \\\n",
       "0                      NaN                   1.0                    NaN   \n",
       "1                      1.0                   NaN                    NaN   \n",
       "2                      NaN                   7.0                    NaN   \n",
       "3                      NaN                   2.0                    NaN   \n",
       "4                      NaN                   1.0                    NaN   \n",
       "\n",
       "   DAYPART_COUNT_LUNCH  DAYPART_COUNT_MID_MORNING  DAYPART_COUNT_LATE_NIGHT  \\\n",
       "0                  NaN                        NaN                       NaN   \n",
       "1                  NaN                        NaN                       NaN   \n",
       "2                  NaN                        NaN                       NaN   \n",
       "3                  2.0                        NaN                       NaN   \n",
       "4                  NaN                        NaN                       NaN   \n",
       "\n",
       "   DAYPART_COUNT_EARLY_MORNING  \n",
       "0                          NaN  \n",
       "1                          NaN  \n",
       "2                          NaN  \n",
       "3                          NaN  \n",
       "4                          NaN  "
      ]
     },
     "execution_count": 40,
     "metadata": {},
     "output_type": "execute_result"
    }
   ],
   "source": [
    "data[['DAYPART_COUNT_AFTERNOON',\n",
    "'DAYPART_COUNT_DINNER',\n",
    "'DAYPART_COUNT_EVENING',\n",
    "'DAYPART_COUNT_LUNCH',\n",
    "'DAYPART_COUNT_MID_MORNING',\n",
    "'DAYPART_COUNT_LATE_NIGHT',\n",
    "'DAYPART_COUNT_EARLY_MORNING'\n",
    "]].head()"
   ]
  },
  {
   "cell_type": "code",
   "execution_count": 41,
   "metadata": {},
   "outputs": [],
   "source": [
    "data = data[['DAYPART_COUNT_AFTERNOON',\n",
    "'DAYPART_COUNT_DINNER',\n",
    "'DAYPART_COUNT_EVENING',\n",
    "'DAYPART_COUNT_LUNCH',\n",
    "'DAYPART_COUNT_MID_MORNING',\n",
    "'DAYPART_COUNT_LATE_NIGHT',\n",
    "'DAYPART_COUNT_EARLY_MORNING'\n",
    "]].replace(np.nan,0)"
   ]
  },
  {
   "cell_type": "code",
   "execution_count": 20,
   "metadata": {},
   "outputs": [],
   "source": [
    "# data['total_order_count'] = data['DAYPART_COUNT_AFTERNOON']+ data['DAYPART_COUNT_DINNER']+data['DAYPART_COUNT_EVENING']+\n",
    "#                             data['DAYPART_COUNT_LUNCH']+data['DAYPART_COUNT_MID_MORNING']+data['DAYPART_COUNT_LATE_NIGHT']+data[\n",
    "#                             'DAYPART_COUNT_EARLY_MORNING']"
   ]
  },
  {
   "cell_type": "code",
   "execution_count": null,
   "metadata": {},
   "outputs": [],
   "source": []
  },
  {
   "cell_type": "code",
   "execution_count": 42,
   "metadata": {
    "scrolled": true
   },
   "outputs": [
    {
     "data": {
      "text/plain": [
       "DAYPART_COUNT_AFTERNOON        0\n",
       "DAYPART_COUNT_DINNER           0\n",
       "DAYPART_COUNT_EVENING          0\n",
       "DAYPART_COUNT_LUNCH            0\n",
       "DAYPART_COUNT_MID_MORNING      0\n",
       "DAYPART_COUNT_LATE_NIGHT       0\n",
       "DAYPART_COUNT_EARLY_MORNING    0\n",
       "dtype: int64"
      ]
     },
     "execution_count": 42,
     "metadata": {},
     "output_type": "execute_result"
    }
   ],
   "source": [
    "data.isnull().sum()"
   ]
  },
  {
   "cell_type": "code",
   "execution_count": 31,
   "metadata": {},
   "outputs": [
    {
     "data": {
      "text/plain": [
       "(100000, 259)"
      ]
     },
     "execution_count": 31,
     "metadata": {},
     "output_type": "execute_result"
    }
   ],
   "source": [
    "data.shape"
   ]
  },
  {
   "cell_type": "markdown",
   "metadata": {},
   "source": [
    "## removing features with more than 80% nan values"
   ]
  },
  {
   "cell_type": "code",
   "execution_count": 22,
   "metadata": {},
   "outputs": [],
   "source": [
    "data=data.drop(columns=['L6M_CNT_OPTION_Cheese',\n",
    "'L6M_CNT_OPTION_Nfresh',\n",
    "'L6M_CNT_OPTION_Others',\n",
    "'L6M_CNT_OPTION_Sauce',\n",
    "'L6M_CNT_OPTION_Vfresh',\n",
    "'LATEST_CNT_OPTION_Sauce',\n",
    "'LATEST_CNT_OPTION_Cheese',\n",
    "'LATEST_CNT_OPTION_Nfresh',\n",
    "'LATEST_CNT_OPTION_Vfresh',\n",
    "'LATEST_CNT_OPTION_Others',\n",
    "'L6M_CNT_TOPPING__99',\n",
    "'L6M_CNT_TOPPING_0',\n",
    "'L6M_CNT_TOPPING_1',\n",
    "'L6M_CNT_TOPPING_2',\n",
    "'L6M_CNT_TOPPING_3',\n",
    "'L6M_CNT_TOPPING_6',\n",
    "'L6M_CNT_TOPPING_9',\n",
    "'L6M_CNT_TOPPING_4',\n",
    "'L6M_CNT_TOPPING_5',\n",
    "'L6M_CNT_TOPPING_7',\n",
    "'L6M_CNT_TOPPING_8',\n",
    "'L6M_CNT_TOPPING_11',\n",
    "'L6M_CNT_TOPPING_10',\n",
    "'L6M_CNT_TOPPING_14',\n",
    "'L6M_CNT_TOPPING_12',\n",
    "'L6M_CNT_TOPPING_15',\n",
    "'L6M_CNT_TOPPING_13',\n",
    "'L6M_CNT_TOPPING_16',\n",
    "'L6M_CNT_TOPPING_18',\n",
    "'L6M_CNT_TOPPING_17',\n",
    "'L6M_CNT_TOPPING_42',\n",
    "'L6M_CNT_TOPPING_19',\n",
    "'L6M_CNT_TOPPING_24',\n",
    "'L6M_CNT_TOPPING_20',\n",
    "'L6M_CNT_TOPPING_30',\n",
    "'L6M_CNT_TOPPING_21',\n",
    "'LATEST_CNT_TOPPING__99',\n",
    "'LATEST_CNT_TOPPING_0',\n",
    "'LATEST_CNT_TOPPING_1',\n",
    "'LATEST_CNT_TOPPING_2',\n",
    "'LATEST_CNT_TOPPING_3',\n",
    "'LATEST_CNT_TOPPING_4',\n",
    "'LATEST_CNT_TOPPING_6',\n",
    "'LATEST_CNT_TOPPING_5',\n",
    "'LATEST_CNT_TOPPING_7',\n",
    "'LATEST_CNT_TOPPING_8',\n",
    "'LATEST_CNT_TOPPING_9',\n",
    "'LATEST_CNT_TOPPING_11',\n",
    "'LATEST_CNT_TOPPING_10',\n",
    "'LATEST_CNT_TOPPING_15',\n",
    "'LATEST_CNT_TOPPING_12',\n",
    "'LATEST_CNT_TOPPING_16',\n",
    "'LATEST_CNT_TOPPING_14',\n",
    "'LATEST_CNT_TOPPING_13',\n",
    "'LATEST_CNT_TOPPING_17',\n",
    "'LATEST_CNT_TOPPING_20',\n",
    "'LATEST_CNT_TOPPING_24',\n",
    "'LATEST_CNT_TOPPING_18',\n",
    "'LATEST_CNT_TOPPING_20',\n",
    "'FL_WINGS_APRIL'])"
   ]
  },
  {
   "cell_type": "code",
   "execution_count": 23,
   "metadata": {},
   "outputs": [
    {
     "data": {
      "text/plain": [
       "(100000, 259)"
      ]
     },
     "execution_count": 23,
     "metadata": {},
     "output_type": "execute_result"
    }
   ],
   "source": [
    "data.shape"
   ]
  },
  {
   "cell_type": "code",
   "execution_count": 24,
   "metadata": {},
   "outputs": [],
   "source": [
    "thresh = len(data) * .2\n",
    "df = data.dropna(thresh = thresh, axis = 1)"
   ]
  },
  {
   "cell_type": "code",
   "execution_count": 25,
   "metadata": {},
   "outputs": [
    {
     "data": {
      "text/plain": [
       "(100000, 129)"
      ]
     },
     "execution_count": 25,
     "metadata": {},
     "output_type": "execute_result"
    }
   ],
   "source": [
    "df.shape"
   ]
  },
  {
   "cell_type": "code",
   "execution_count": 26,
   "metadata": {},
   "outputs": [],
   "source": [
    "features = df.columns"
   ]
  },
  {
   "cell_type": "code",
   "execution_count": 27,
   "metadata": {},
   "outputs": [
    {
     "data": {
      "text/plain": [
       "Index(['DW_CUSTOMER', 'DAYPART_COUNT_AFTERNOON', 'DAYPART_COUNT_DINNER',\n",
       "       'DAYPART_COUNT_EVENING', 'DAYPART_COUNT_LUNCH',\n",
       "       'AVG_BILL_VALUE_DAYPART_AFTERNOON', 'AVG_BILL_VALUE_DAYPART_DINNER',\n",
       "       'AVG_BILL_VALUE_DAYPART_EVENING', 'AVG_BILL_VALUE_DAYPART_LUNCH',\n",
       "       'L6M_CNT_VISIT_OCCSN_Carry_Out',\n",
       "       ...\n",
       "       'LATEST_CNT_COUPON_Pizza', 'LATEST_CNT_COUPON_Wings',\n",
       "       'LATEST_CNT_COUPON_AppDess', 'CNT_ORDER_MAY_Pizza',\n",
       "       'SPN_ORDER_MAY_Pizza', 'FL_PIZZA_MAY', 'TOT_SPN_WS_STORES_L6M',\n",
       "       'FL_VISIT_WS_STORE_LATEST', 'SPN_WINGS_WS_STORES_L6M', 'WingStreet'],\n",
       "      dtype='object', length=129)"
      ]
     },
     "execution_count": 27,
     "metadata": {},
     "output_type": "execute_result"
    }
   ],
   "source": [
    "features"
   ]
  },
  {
   "cell_type": "code",
   "execution_count": 28,
   "metadata": {},
   "outputs": [
    {
     "data": {
      "text/plain": [
       "DW_CUSTOMER                     0\n",
       "DAYPART_COUNT_AFTERNOON     56145\n",
       "DAYPART_COUNT_DINNER        25553\n",
       "DAYPART_COUNT_EVENING       75800\n",
       "DAYPART_COUNT_LUNCH         73094\n",
       "                            ...  \n",
       "FL_PIZZA_MAY                62220\n",
       "TOT_SPN_WS_STORES_L6M           0\n",
       "FL_VISIT_WS_STORE_LATEST        0\n",
       "SPN_WINGS_WS_STORES_L6M     65118\n",
       "WingStreet                  65118\n",
       "Length: 129, dtype: int64"
      ]
     },
     "execution_count": 28,
     "metadata": {},
     "output_type": "execute_result"
    }
   ],
   "source": [
    "df.isnull().sum()"
   ]
  },
  {
   "cell_type": "code",
   "execution_count": 30,
   "metadata": {},
   "outputs": [
    {
     "data": {
      "text/plain": [
       "0.00     24205\n",
       "4.00      2798\n",
       "5.00      2782\n",
       "6.00      2224\n",
       "3.00      1864\n",
       "         ...  \n",
       "20.37        1\n",
       "83.77        1\n",
       "68.59        1\n",
       "18.33        1\n",
       "63.58        1\n",
       "Name: TOTCOUPONSALES_L6M, Length: 6438, dtype: int64"
      ]
     },
     "execution_count": 30,
     "metadata": {},
     "output_type": "execute_result"
    }
   ],
   "source": [
    "data['TOTCOUPONSALES_L6M'].value_counts()"
   ]
  },
  {
   "cell_type": "code",
   "execution_count": null,
   "metadata": {},
   "outputs": [],
   "source": [
    "#bill value\n",
    "\n",
    "billcolumns = ['AVG_BILL_VALUE_DAYPART_AFTERNOON','AVG_BILL_VALUE_DAYPART_DINNER','AVG_BILL_VALUE_DAYPART_EVENING',\n",
    "'AVG_BILL_VALUE_DAYPART_LUNCH','AVG_BILL_VALUE_DAYPART_MID_MORNI','AVG_BILL_VALUE_DAYPART_LATE_NIGH',\n",
    "'AVG_BILL_VALUE_DAYPART_EARLY_MOR']"
   ]
  },
  {
   "cell_type": "code",
   "execution_count": 127,
   "metadata": {},
   "outputs": [],
   "source": [
    "# let's take a sample from above dataset\n",
    "\n",
    "sample =  df.sample(frac=.25,random_state = 7)"
   ]
  },
  {
   "cell_type": "code",
   "execution_count": 128,
   "metadata": {},
   "outputs": [
    {
     "data": {
      "text/plain": [
       "(25000, 130)"
      ]
     },
     "execution_count": 128,
     "metadata": {},
     "output_type": "execute_result"
    }
   ],
   "source": [
    "sample.shape"
   ]
  },
  {
   "cell_type": "code",
   "execution_count": 129,
   "metadata": {},
   "outputs": [
    {
     "data": {
      "text/plain": [
       "DW_CUSTOMER                     0\n",
       "FL_HUT_LOVER                    0\n",
       "DAYPART_COUNT_AFTERNOON     13947\n",
       "DAYPART_COUNT_DINNER         6483\n",
       "DAYPART_COUNT_EVENING       18883\n",
       "                            ...  \n",
       "FL_PIZZA_MAY                15567\n",
       "TOT_SPN_WS_STORES_L6M           0\n",
       "FL_VISIT_WS_STORE_LATEST        0\n",
       "SPN_WINGS_WS_STORES_L6M     16244\n",
       "WingStreet                  16244\n",
       "Length: 130, dtype: int64"
      ]
     },
     "execution_count": 129,
     "metadata": {},
     "output_type": "execute_result"
    }
   ],
   "source": [
    "sample.isna().sum()"
   ]
  },
  {
   "cell_type": "markdown",
   "metadata": {},
   "source": [
    "### ***imputing the values using knn imputer\n",
    "    "
   ]
  },
  {
   "cell_type": "code",
   "execution_count": 82,
   "metadata": {},
   "outputs": [],
   "source": [
    "# sample_floatdata = sample.loc[:, sample.dtypes == np.float64]\n",
    "# sample_floatdata.shape"
   ]
  },
  {
   "cell_type": "code",
   "execution_count": 80,
   "metadata": {},
   "outputs": [],
   "source": [
    "# import sys\n",
    "# from impyute.imputation.cs import fast_knn\n",
    "# sys.setrecursionlimit(100000) #Increase the recursion limit of the OS\n",
    "# # start the KNN training\n",
    "# imputed_training=fast_knn(sample_floatdata.values, k=30)"
   ]
  },
  {
   "cell_type": "code",
   "execution_count": null,
   "metadata": {},
   "outputs": [],
   "source": []
  },
  {
   "cell_type": "markdown",
   "metadata": {},
   "source": [
    "### imputing null values with 0"
   ]
  },
  {
   "cell_type": "code",
   "execution_count": 130,
   "metadata": {},
   "outputs": [],
   "source": [
    "for i in sample.columns:\n",
    "    sample=sample.replace(np.nan,0)"
   ]
  },
  {
   "cell_type": "code",
   "execution_count": 131,
   "metadata": {},
   "outputs": [
    {
     "data": {
      "text/plain": [
       "DW_CUSTOMER                 0\n",
       "FL_HUT_LOVER                0\n",
       "DAYPART_COUNT_AFTERNOON     0\n",
       "DAYPART_COUNT_DINNER        0\n",
       "DAYPART_COUNT_EVENING       0\n",
       "                           ..\n",
       "FL_PIZZA_MAY                0\n",
       "TOT_SPN_WS_STORES_L6M       0\n",
       "FL_VISIT_WS_STORE_LATEST    0\n",
       "SPN_WINGS_WS_STORES_L6M     0\n",
       "WingStreet                  0\n",
       "Length: 130, dtype: int64"
      ]
     },
     "execution_count": 131,
     "metadata": {},
     "output_type": "execute_result"
    }
   ],
   "source": [
    "sample.isnull().sum()"
   ]
  },
  {
   "cell_type": "code",
   "execution_count": 132,
   "metadata": {},
   "outputs": [
    {
     "data": {
      "text/html": [
       "<div>\n",
       "<style scoped>\n",
       "    .dataframe tbody tr th:only-of-type {\n",
       "        vertical-align: middle;\n",
       "    }\n",
       "\n",
       "    .dataframe tbody tr th {\n",
       "        vertical-align: top;\n",
       "    }\n",
       "\n",
       "    .dataframe thead th {\n",
       "        text-align: right;\n",
       "    }\n",
       "</style>\n",
       "<table border=\"1\" class=\"dataframe\">\n",
       "  <thead>\n",
       "    <tr style=\"text-align: right;\">\n",
       "      <th></th>\n",
       "      <th>DW_CUSTOMER</th>\n",
       "      <th>FL_HUT_LOVER</th>\n",
       "      <th>DAYPART_COUNT_AFTERNOON</th>\n",
       "      <th>DAYPART_COUNT_DINNER</th>\n",
       "      <th>DAYPART_COUNT_EVENING</th>\n",
       "      <th>DAYPART_COUNT_LUNCH</th>\n",
       "      <th>AVG_BILL_VALUE_DAYPART_AFTERNOON</th>\n",
       "      <th>AVG_BILL_VALUE_DAYPART_DINNER</th>\n",
       "      <th>AVG_BILL_VALUE_DAYPART_EVENING</th>\n",
       "      <th>AVG_BILL_VALUE_DAYPART_LUNCH</th>\n",
       "      <th>...</th>\n",
       "      <th>LATEST_CNT_COUPON_Pizza</th>\n",
       "      <th>LATEST_CNT_COUPON_Wings</th>\n",
       "      <th>LATEST_CNT_COUPON_AppDess</th>\n",
       "      <th>CNT_ORDER_MAY_Pizza</th>\n",
       "      <th>SPN_ORDER_MAY_Pizza</th>\n",
       "      <th>FL_PIZZA_MAY</th>\n",
       "      <th>TOT_SPN_WS_STORES_L6M</th>\n",
       "      <th>FL_VISIT_WS_STORE_LATEST</th>\n",
       "      <th>SPN_WINGS_WS_STORES_L6M</th>\n",
       "      <th>WingStreet</th>\n",
       "    </tr>\n",
       "  </thead>\n",
       "  <tbody>\n",
       "    <tr>\n",
       "      <th>16526</th>\n",
       "      <td>33755899</td>\n",
       "      <td>1</td>\n",
       "      <td>1.0</td>\n",
       "      <td>1.0</td>\n",
       "      <td>0.0</td>\n",
       "      <td>2.0</td>\n",
       "      <td>16.00</td>\n",
       "      <td>38.990000</td>\n",
       "      <td>0.0000</td>\n",
       "      <td>34.000</td>\n",
       "      <td>...</td>\n",
       "      <td>0.0</td>\n",
       "      <td>0.0</td>\n",
       "      <td>0.0</td>\n",
       "      <td>0.0</td>\n",
       "      <td>0.0</td>\n",
       "      <td>0.0</td>\n",
       "      <td>251.98</td>\n",
       "      <td>0</td>\n",
       "      <td>12.00</td>\n",
       "      <td>0.0</td>\n",
       "    </tr>\n",
       "    <tr>\n",
       "      <th>91187</th>\n",
       "      <td>118837858</td>\n",
       "      <td>1</td>\n",
       "      <td>1.0</td>\n",
       "      <td>0.0</td>\n",
       "      <td>1.0</td>\n",
       "      <td>0.0</td>\n",
       "      <td>22.99</td>\n",
       "      <td>0.000000</td>\n",
       "      <td>16.9900</td>\n",
       "      <td>0.000</td>\n",
       "      <td>...</td>\n",
       "      <td>1.0</td>\n",
       "      <td>1.0</td>\n",
       "      <td>0.0</td>\n",
       "      <td>0.0</td>\n",
       "      <td>0.0</td>\n",
       "      <td>0.0</td>\n",
       "      <td>42.73</td>\n",
       "      <td>1</td>\n",
       "      <td>6.99</td>\n",
       "      <td>1.0</td>\n",
       "    </tr>\n",
       "    <tr>\n",
       "      <th>34985</th>\n",
       "      <td>62610832</td>\n",
       "      <td>1</td>\n",
       "      <td>2.0</td>\n",
       "      <td>1.0</td>\n",
       "      <td>0.0</td>\n",
       "      <td>0.0</td>\n",
       "      <td>7.00</td>\n",
       "      <td>4.000000</td>\n",
       "      <td>0.0000</td>\n",
       "      <td>0.000</td>\n",
       "      <td>...</td>\n",
       "      <td>0.0</td>\n",
       "      <td>0.0</td>\n",
       "      <td>0.0</td>\n",
       "      <td>0.0</td>\n",
       "      <td>0.0</td>\n",
       "      <td>0.0</td>\n",
       "      <td>18.00</td>\n",
       "      <td>0</td>\n",
       "      <td>0.00</td>\n",
       "      <td>0.0</td>\n",
       "    </tr>\n",
       "    <tr>\n",
       "      <th>61472</th>\n",
       "      <td>97600418</td>\n",
       "      <td>1</td>\n",
       "      <td>0.0</td>\n",
       "      <td>7.0</td>\n",
       "      <td>4.0</td>\n",
       "      <td>0.0</td>\n",
       "      <td>0.00</td>\n",
       "      <td>12.428571</td>\n",
       "      <td>11.0625</td>\n",
       "      <td>0.000</td>\n",
       "      <td>...</td>\n",
       "      <td>0.0</td>\n",
       "      <td>0.0</td>\n",
       "      <td>1.0</td>\n",
       "      <td>2.0</td>\n",
       "      <td>22.0</td>\n",
       "      <td>1.0</td>\n",
       "      <td>131.25</td>\n",
       "      <td>0</td>\n",
       "      <td>8.00</td>\n",
       "      <td>0.0</td>\n",
       "    </tr>\n",
       "    <tr>\n",
       "      <th>32678</th>\n",
       "      <td>59888559</td>\n",
       "      <td>1</td>\n",
       "      <td>2.0</td>\n",
       "      <td>1.0</td>\n",
       "      <td>0.0</td>\n",
       "      <td>0.0</td>\n",
       "      <td>19.50</td>\n",
       "      <td>20.000000</td>\n",
       "      <td>0.0000</td>\n",
       "      <td>0.000</td>\n",
       "      <td>...</td>\n",
       "      <td>0.0</td>\n",
       "      <td>0.0</td>\n",
       "      <td>0.0</td>\n",
       "      <td>0.0</td>\n",
       "      <td>0.0</td>\n",
       "      <td>0.0</td>\n",
       "      <td>59.00</td>\n",
       "      <td>0</td>\n",
       "      <td>11.00</td>\n",
       "      <td>0.0</td>\n",
       "    </tr>\n",
       "    <tr>\n",
       "      <th>6504</th>\n",
       "      <td>11511300</td>\n",
       "      <td>1</td>\n",
       "      <td>0.0</td>\n",
       "      <td>2.0</td>\n",
       "      <td>0.0</td>\n",
       "      <td>0.0</td>\n",
       "      <td>0.00</td>\n",
       "      <td>17.500000</td>\n",
       "      <td>0.0000</td>\n",
       "      <td>0.000</td>\n",
       "      <td>...</td>\n",
       "      <td>0.0</td>\n",
       "      <td>0.0</td>\n",
       "      <td>0.0</td>\n",
       "      <td>1.0</td>\n",
       "      <td>11.0</td>\n",
       "      <td>1.0</td>\n",
       "      <td>35.00</td>\n",
       "      <td>0</td>\n",
       "      <td>0.00</td>\n",
       "      <td>0.0</td>\n",
       "    </tr>\n",
       "    <tr>\n",
       "      <th>70581</th>\n",
       "      <td>104836082</td>\n",
       "      <td>1</td>\n",
       "      <td>0.0</td>\n",
       "      <td>0.0</td>\n",
       "      <td>0.0</td>\n",
       "      <td>1.0</td>\n",
       "      <td>0.00</td>\n",
       "      <td>0.000000</td>\n",
       "      <td>0.0000</td>\n",
       "      <td>11.990</td>\n",
       "      <td>...</td>\n",
       "      <td>1.0</td>\n",
       "      <td>0.0</td>\n",
       "      <td>0.0</td>\n",
       "      <td>2.0</td>\n",
       "      <td>19.0</td>\n",
       "      <td>1.0</td>\n",
       "      <td>11.99</td>\n",
       "      <td>1</td>\n",
       "      <td>0.00</td>\n",
       "      <td>0.0</td>\n",
       "    </tr>\n",
       "    <tr>\n",
       "      <th>92920</th>\n",
       "      <td>119965893</td>\n",
       "      <td>1</td>\n",
       "      <td>0.0</td>\n",
       "      <td>0.0</td>\n",
       "      <td>0.0</td>\n",
       "      <td>1.0</td>\n",
       "      <td>0.00</td>\n",
       "      <td>0.000000</td>\n",
       "      <td>0.0000</td>\n",
       "      <td>10.000</td>\n",
       "      <td>...</td>\n",
       "      <td>0.0</td>\n",
       "      <td>0.0</td>\n",
       "      <td>0.0</td>\n",
       "      <td>0.0</td>\n",
       "      <td>0.0</td>\n",
       "      <td>0.0</td>\n",
       "      <td>10.00</td>\n",
       "      <td>0</td>\n",
       "      <td>0.00</td>\n",
       "      <td>0.0</td>\n",
       "    </tr>\n",
       "    <tr>\n",
       "      <th>26480</th>\n",
       "      <td>50262522</td>\n",
       "      <td>1</td>\n",
       "      <td>0.0</td>\n",
       "      <td>2.0</td>\n",
       "      <td>0.0</td>\n",
       "      <td>1.0</td>\n",
       "      <td>0.00</td>\n",
       "      <td>20.250000</td>\n",
       "      <td>0.0000</td>\n",
       "      <td>25.300</td>\n",
       "      <td>...</td>\n",
       "      <td>0.0</td>\n",
       "      <td>0.0</td>\n",
       "      <td>1.0</td>\n",
       "      <td>0.0</td>\n",
       "      <td>0.0</td>\n",
       "      <td>0.0</td>\n",
       "      <td>65.80</td>\n",
       "      <td>1</td>\n",
       "      <td>8.80</td>\n",
       "      <td>1.0</td>\n",
       "    </tr>\n",
       "    <tr>\n",
       "      <th>47937</th>\n",
       "      <td>84507247</td>\n",
       "      <td>1</td>\n",
       "      <td>0.0</td>\n",
       "      <td>2.0</td>\n",
       "      <td>1.0</td>\n",
       "      <td>2.0</td>\n",
       "      <td>0.00</td>\n",
       "      <td>15.500000</td>\n",
       "      <td>19.9800</td>\n",
       "      <td>22.635</td>\n",
       "      <td>...</td>\n",
       "      <td>2.0</td>\n",
       "      <td>0.0</td>\n",
       "      <td>0.0</td>\n",
       "      <td>0.0</td>\n",
       "      <td>0.0</td>\n",
       "      <td>0.0</td>\n",
       "      <td>89.96</td>\n",
       "      <td>0</td>\n",
       "      <td>6.99</td>\n",
       "      <td>0.0</td>\n",
       "    </tr>\n",
       "  </tbody>\n",
       "</table>\n",
       "<p>10 rows × 130 columns</p>\n",
       "</div>"
      ],
      "text/plain": [
       "       DW_CUSTOMER  FL_HUT_LOVER  DAYPART_COUNT_AFTERNOON  \\\n",
       "16526     33755899             1                      1.0   \n",
       "91187    118837858             1                      1.0   \n",
       "34985     62610832             1                      2.0   \n",
       "61472     97600418             1                      0.0   \n",
       "32678     59888559             1                      2.0   \n",
       "6504      11511300             1                      0.0   \n",
       "70581    104836082             1                      0.0   \n",
       "92920    119965893             1                      0.0   \n",
       "26480     50262522             1                      0.0   \n",
       "47937     84507247             1                      0.0   \n",
       "\n",
       "       DAYPART_COUNT_DINNER  DAYPART_COUNT_EVENING  DAYPART_COUNT_LUNCH  \\\n",
       "16526                   1.0                    0.0                  2.0   \n",
       "91187                   0.0                    1.0                  0.0   \n",
       "34985                   1.0                    0.0                  0.0   \n",
       "61472                   7.0                    4.0                  0.0   \n",
       "32678                   1.0                    0.0                  0.0   \n",
       "6504                    2.0                    0.0                  0.0   \n",
       "70581                   0.0                    0.0                  1.0   \n",
       "92920                   0.0                    0.0                  1.0   \n",
       "26480                   2.0                    0.0                  1.0   \n",
       "47937                   2.0                    1.0                  2.0   \n",
       "\n",
       "       AVG_BILL_VALUE_DAYPART_AFTERNOON  AVG_BILL_VALUE_DAYPART_DINNER  \\\n",
       "16526                             16.00                      38.990000   \n",
       "91187                             22.99                       0.000000   \n",
       "34985                              7.00                       4.000000   \n",
       "61472                              0.00                      12.428571   \n",
       "32678                             19.50                      20.000000   \n",
       "6504                               0.00                      17.500000   \n",
       "70581                              0.00                       0.000000   \n",
       "92920                              0.00                       0.000000   \n",
       "26480                              0.00                      20.250000   \n",
       "47937                              0.00                      15.500000   \n",
       "\n",
       "       AVG_BILL_VALUE_DAYPART_EVENING  AVG_BILL_VALUE_DAYPART_LUNCH  ...  \\\n",
       "16526                          0.0000                        34.000  ...   \n",
       "91187                         16.9900                         0.000  ...   \n",
       "34985                          0.0000                         0.000  ...   \n",
       "61472                         11.0625                         0.000  ...   \n",
       "32678                          0.0000                         0.000  ...   \n",
       "6504                           0.0000                         0.000  ...   \n",
       "70581                          0.0000                        11.990  ...   \n",
       "92920                          0.0000                        10.000  ...   \n",
       "26480                          0.0000                        25.300  ...   \n",
       "47937                         19.9800                        22.635  ...   \n",
       "\n",
       "       LATEST_CNT_COUPON_Pizza  LATEST_CNT_COUPON_Wings  \\\n",
       "16526                      0.0                      0.0   \n",
       "91187                      1.0                      1.0   \n",
       "34985                      0.0                      0.0   \n",
       "61472                      0.0                      0.0   \n",
       "32678                      0.0                      0.0   \n",
       "6504                       0.0                      0.0   \n",
       "70581                      1.0                      0.0   \n",
       "92920                      0.0                      0.0   \n",
       "26480                      0.0                      0.0   \n",
       "47937                      2.0                      0.0   \n",
       "\n",
       "       LATEST_CNT_COUPON_AppDess  CNT_ORDER_MAY_Pizza  SPN_ORDER_MAY_Pizza  \\\n",
       "16526                        0.0                  0.0                  0.0   \n",
       "91187                        0.0                  0.0                  0.0   \n",
       "34985                        0.0                  0.0                  0.0   \n",
       "61472                        1.0                  2.0                 22.0   \n",
       "32678                        0.0                  0.0                  0.0   \n",
       "6504                         0.0                  1.0                 11.0   \n",
       "70581                        0.0                  2.0                 19.0   \n",
       "92920                        0.0                  0.0                  0.0   \n",
       "26480                        1.0                  0.0                  0.0   \n",
       "47937                        0.0                  0.0                  0.0   \n",
       "\n",
       "       FL_PIZZA_MAY  TOT_SPN_WS_STORES_L6M  FL_VISIT_WS_STORE_LATEST  \\\n",
       "16526           0.0                 251.98                         0   \n",
       "91187           0.0                  42.73                         1   \n",
       "34985           0.0                  18.00                         0   \n",
       "61472           1.0                 131.25                         0   \n",
       "32678           0.0                  59.00                         0   \n",
       "6504            1.0                  35.00                         0   \n",
       "70581           1.0                  11.99                         1   \n",
       "92920           0.0                  10.00                         0   \n",
       "26480           0.0                  65.80                         1   \n",
       "47937           0.0                  89.96                         0   \n",
       "\n",
       "       SPN_WINGS_WS_STORES_L6M  WingStreet  \n",
       "16526                    12.00         0.0  \n",
       "91187                     6.99         1.0  \n",
       "34985                     0.00         0.0  \n",
       "61472                     8.00         0.0  \n",
       "32678                    11.00         0.0  \n",
       "6504                      0.00         0.0  \n",
       "70581                     0.00         0.0  \n",
       "92920                     0.00         0.0  \n",
       "26480                     8.80         1.0  \n",
       "47937                     6.99         0.0  \n",
       "\n",
       "[10 rows x 130 columns]"
      ]
     },
     "execution_count": 132,
     "metadata": {},
     "output_type": "execute_result"
    }
   ],
   "source": [
    "sample.sample(10)"
   ]
  },
  {
   "cell_type": "code",
   "execution_count": 133,
   "metadata": {},
   "outputs": [
    {
     "ename": "KeyError",
     "evalue": "'FL_WINGS_APRIL'",
     "output_type": "error",
     "traceback": [
      "\u001b[1;31m---------------------------------------------------------------------------\u001b[0m",
      "\u001b[1;31mKeyError\u001b[0m                                  Traceback (most recent call last)",
      "\u001b[1;32mC:\\ProgramData\\Anaconda3\\lib\\site-packages\\pandas\\core\\indexes\\base.py\u001b[0m in \u001b[0;36mget_loc\u001b[1;34m(self, key, method, tolerance)\u001b[0m\n\u001b[0;32m   2894\u001b[0m             \u001b[1;32mtry\u001b[0m\u001b[1;33m:\u001b[0m\u001b[1;33m\u001b[0m\u001b[1;33m\u001b[0m\u001b[0m\n\u001b[1;32m-> 2895\u001b[1;33m                 \u001b[1;32mreturn\u001b[0m \u001b[0mself\u001b[0m\u001b[1;33m.\u001b[0m\u001b[0m_engine\u001b[0m\u001b[1;33m.\u001b[0m\u001b[0mget_loc\u001b[0m\u001b[1;33m(\u001b[0m\u001b[0mcasted_key\u001b[0m\u001b[1;33m)\u001b[0m\u001b[1;33m\u001b[0m\u001b[1;33m\u001b[0m\u001b[0m\n\u001b[0m\u001b[0;32m   2896\u001b[0m             \u001b[1;32mexcept\u001b[0m \u001b[0mKeyError\u001b[0m \u001b[1;32mas\u001b[0m \u001b[0merr\u001b[0m\u001b[1;33m:\u001b[0m\u001b[1;33m\u001b[0m\u001b[1;33m\u001b[0m\u001b[0m\n",
      "\u001b[1;32mpandas\\_libs\\index.pyx\u001b[0m in \u001b[0;36mpandas._libs.index.IndexEngine.get_loc\u001b[1;34m()\u001b[0m\n",
      "\u001b[1;32mpandas\\_libs\\index.pyx\u001b[0m in \u001b[0;36mpandas._libs.index.IndexEngine.get_loc\u001b[1;34m()\u001b[0m\n",
      "\u001b[1;32mpandas\\_libs\\hashtable_class_helper.pxi\u001b[0m in \u001b[0;36mpandas._libs.hashtable.PyObjectHashTable.get_item\u001b[1;34m()\u001b[0m\n",
      "\u001b[1;32mpandas\\_libs\\hashtable_class_helper.pxi\u001b[0m in \u001b[0;36mpandas._libs.hashtable.PyObjectHashTable.get_item\u001b[1;34m()\u001b[0m\n",
      "\u001b[1;31mKeyError\u001b[0m: 'FL_WINGS_APRIL'",
      "\nThe above exception was the direct cause of the following exception:\n",
      "\u001b[1;31mKeyError\u001b[0m                                  Traceback (most recent call last)",
      "\u001b[1;32m<ipython-input-133-10d40608e9c8>\u001b[0m in \u001b[0;36m<module>\u001b[1;34m\u001b[0m\n\u001b[1;32m----> 1\u001b[1;33m \u001b[0msample\u001b[0m\u001b[1;33m[\u001b[0m\u001b[1;34m'FL_WINGS_APRIL'\u001b[0m\u001b[1;33m]\u001b[0m\u001b[1;33m.\u001b[0m\u001b[0mvalue_counts\u001b[0m\u001b[1;33m(\u001b[0m\u001b[1;33m)\u001b[0m\u001b[1;33m\u001b[0m\u001b[1;33m\u001b[0m\u001b[0m\n\u001b[0m",
      "\u001b[1;32mC:\\ProgramData\\Anaconda3\\lib\\site-packages\\pandas\\core\\frame.py\u001b[0m in \u001b[0;36m__getitem__\u001b[1;34m(self, key)\u001b[0m\n\u001b[0;32m   2900\u001b[0m             \u001b[1;32mif\u001b[0m \u001b[0mself\u001b[0m\u001b[1;33m.\u001b[0m\u001b[0mcolumns\u001b[0m\u001b[1;33m.\u001b[0m\u001b[0mnlevels\u001b[0m \u001b[1;33m>\u001b[0m \u001b[1;36m1\u001b[0m\u001b[1;33m:\u001b[0m\u001b[1;33m\u001b[0m\u001b[1;33m\u001b[0m\u001b[0m\n\u001b[0;32m   2901\u001b[0m                 \u001b[1;32mreturn\u001b[0m \u001b[0mself\u001b[0m\u001b[1;33m.\u001b[0m\u001b[0m_getitem_multilevel\u001b[0m\u001b[1;33m(\u001b[0m\u001b[0mkey\u001b[0m\u001b[1;33m)\u001b[0m\u001b[1;33m\u001b[0m\u001b[1;33m\u001b[0m\u001b[0m\n\u001b[1;32m-> 2902\u001b[1;33m             \u001b[0mindexer\u001b[0m \u001b[1;33m=\u001b[0m \u001b[0mself\u001b[0m\u001b[1;33m.\u001b[0m\u001b[0mcolumns\u001b[0m\u001b[1;33m.\u001b[0m\u001b[0mget_loc\u001b[0m\u001b[1;33m(\u001b[0m\u001b[0mkey\u001b[0m\u001b[1;33m)\u001b[0m\u001b[1;33m\u001b[0m\u001b[1;33m\u001b[0m\u001b[0m\n\u001b[0m\u001b[0;32m   2903\u001b[0m             \u001b[1;32mif\u001b[0m \u001b[0mis_integer\u001b[0m\u001b[1;33m(\u001b[0m\u001b[0mindexer\u001b[0m\u001b[1;33m)\u001b[0m\u001b[1;33m:\u001b[0m\u001b[1;33m\u001b[0m\u001b[1;33m\u001b[0m\u001b[0m\n\u001b[0;32m   2904\u001b[0m                 \u001b[0mindexer\u001b[0m \u001b[1;33m=\u001b[0m \u001b[1;33m[\u001b[0m\u001b[0mindexer\u001b[0m\u001b[1;33m]\u001b[0m\u001b[1;33m\u001b[0m\u001b[1;33m\u001b[0m\u001b[0m\n",
      "\u001b[1;32mC:\\ProgramData\\Anaconda3\\lib\\site-packages\\pandas\\core\\indexes\\base.py\u001b[0m in \u001b[0;36mget_loc\u001b[1;34m(self, key, method, tolerance)\u001b[0m\n\u001b[0;32m   2895\u001b[0m                 \u001b[1;32mreturn\u001b[0m \u001b[0mself\u001b[0m\u001b[1;33m.\u001b[0m\u001b[0m_engine\u001b[0m\u001b[1;33m.\u001b[0m\u001b[0mget_loc\u001b[0m\u001b[1;33m(\u001b[0m\u001b[0mcasted_key\u001b[0m\u001b[1;33m)\u001b[0m\u001b[1;33m\u001b[0m\u001b[1;33m\u001b[0m\u001b[0m\n\u001b[0;32m   2896\u001b[0m             \u001b[1;32mexcept\u001b[0m \u001b[0mKeyError\u001b[0m \u001b[1;32mas\u001b[0m \u001b[0merr\u001b[0m\u001b[1;33m:\u001b[0m\u001b[1;33m\u001b[0m\u001b[1;33m\u001b[0m\u001b[0m\n\u001b[1;32m-> 2897\u001b[1;33m                 \u001b[1;32mraise\u001b[0m \u001b[0mKeyError\u001b[0m\u001b[1;33m(\u001b[0m\u001b[0mkey\u001b[0m\u001b[1;33m)\u001b[0m \u001b[1;32mfrom\u001b[0m \u001b[0merr\u001b[0m\u001b[1;33m\u001b[0m\u001b[1;33m\u001b[0m\u001b[0m\n\u001b[0m\u001b[0;32m   2898\u001b[0m \u001b[1;33m\u001b[0m\u001b[0m\n\u001b[0;32m   2899\u001b[0m         \u001b[1;32mif\u001b[0m \u001b[0mtolerance\u001b[0m \u001b[1;32mis\u001b[0m \u001b[1;32mnot\u001b[0m \u001b[1;32mNone\u001b[0m\u001b[1;33m:\u001b[0m\u001b[1;33m\u001b[0m\u001b[1;33m\u001b[0m\u001b[0m\n",
      "\u001b[1;31mKeyError\u001b[0m: 'FL_WINGS_APRIL'"
     ]
    }
   ],
   "source": [
    "sample['FL_WINGS_APRIL'].value_counts()"
   ]
  },
  {
   "cell_type": "code",
   "execution_count": null,
   "metadata": {},
   "outputs": [],
   "source": [
    "sample.shape"
   ]
  },
  {
   "cell_type": "markdown",
   "metadata": {},
   "source": [
    "## applying rf model"
   ]
  },
  {
   "cell_type": "code",
   "execution_count": null,
   "metadata": {},
   "outputs": [],
   "source": [
    "from sklearn.utils import shuffle\n",
    "sampled_data=shuffle(sampled_data)"
   ]
  },
  {
   "cell_type": "code",
   "execution_count": 134,
   "metadata": {},
   "outputs": [
    {
     "ename": "KeyError",
     "evalue": "\"['FL_WINGS_MAY'] not found in axis\"",
     "output_type": "error",
     "traceback": [
      "\u001b[1;31m---------------------------------------------------------------------------\u001b[0m",
      "\u001b[1;31mKeyError\u001b[0m                                  Traceback (most recent call last)",
      "\u001b[1;32m<ipython-input-134-5612b787aa1e>\u001b[0m in \u001b[0;36m<module>\u001b[1;34m\u001b[0m\n\u001b[1;32m----> 1\u001b[1;33m \u001b[0mX\u001b[0m\u001b[1;33m=\u001b[0m\u001b[0msample\u001b[0m\u001b[1;33m.\u001b[0m\u001b[0mdrop\u001b[0m\u001b[1;33m(\u001b[0m\u001b[0mcolumns\u001b[0m\u001b[1;33m=\u001b[0m\u001b[1;33m[\u001b[0m\u001b[1;34m\"FL_WINGS_MAY\"\u001b[0m\u001b[1;33m]\u001b[0m\u001b[1;33m)\u001b[0m\u001b[1;33m\u001b[0m\u001b[1;33m\u001b[0m\u001b[0m\n\u001b[0m\u001b[0;32m      2\u001b[0m \u001b[0mY\u001b[0m\u001b[1;33m=\u001b[0m\u001b[0msample\u001b[0m\u001b[1;33m[\u001b[0m\u001b[1;34m\"FL_WINGS_MAY\"\u001b[0m\u001b[1;33m]\u001b[0m\u001b[1;33m\u001b[0m\u001b[1;33m\u001b[0m\u001b[0m\n",
      "\u001b[1;32mC:\\ProgramData\\Anaconda3\\lib\\site-packages\\pandas\\core\\frame.py\u001b[0m in \u001b[0;36mdrop\u001b[1;34m(self, labels, axis, index, columns, level, inplace, errors)\u001b[0m\n\u001b[0;32m   4168\u001b[0m             \u001b[0mlevel\u001b[0m\u001b[1;33m=\u001b[0m\u001b[0mlevel\u001b[0m\u001b[1;33m,\u001b[0m\u001b[1;33m\u001b[0m\u001b[1;33m\u001b[0m\u001b[0m\n\u001b[0;32m   4169\u001b[0m             \u001b[0minplace\u001b[0m\u001b[1;33m=\u001b[0m\u001b[0minplace\u001b[0m\u001b[1;33m,\u001b[0m\u001b[1;33m\u001b[0m\u001b[1;33m\u001b[0m\u001b[0m\n\u001b[1;32m-> 4170\u001b[1;33m             \u001b[0merrors\u001b[0m\u001b[1;33m=\u001b[0m\u001b[0merrors\u001b[0m\u001b[1;33m,\u001b[0m\u001b[1;33m\u001b[0m\u001b[1;33m\u001b[0m\u001b[0m\n\u001b[0m\u001b[0;32m   4171\u001b[0m         )\n\u001b[0;32m   4172\u001b[0m \u001b[1;33m\u001b[0m\u001b[0m\n",
      "\u001b[1;32mC:\\ProgramData\\Anaconda3\\lib\\site-packages\\pandas\\core\\generic.py\u001b[0m in \u001b[0;36mdrop\u001b[1;34m(self, labels, axis, index, columns, level, inplace, errors)\u001b[0m\n\u001b[0;32m   3885\u001b[0m         \u001b[1;32mfor\u001b[0m \u001b[0maxis\u001b[0m\u001b[1;33m,\u001b[0m \u001b[0mlabels\u001b[0m \u001b[1;32min\u001b[0m \u001b[0maxes\u001b[0m\u001b[1;33m.\u001b[0m\u001b[0mitems\u001b[0m\u001b[1;33m(\u001b[0m\u001b[1;33m)\u001b[0m\u001b[1;33m:\u001b[0m\u001b[1;33m\u001b[0m\u001b[1;33m\u001b[0m\u001b[0m\n\u001b[0;32m   3886\u001b[0m             \u001b[1;32mif\u001b[0m \u001b[0mlabels\u001b[0m \u001b[1;32mis\u001b[0m \u001b[1;32mnot\u001b[0m \u001b[1;32mNone\u001b[0m\u001b[1;33m:\u001b[0m\u001b[1;33m\u001b[0m\u001b[1;33m\u001b[0m\u001b[0m\n\u001b[1;32m-> 3887\u001b[1;33m                 \u001b[0mobj\u001b[0m \u001b[1;33m=\u001b[0m \u001b[0mobj\u001b[0m\u001b[1;33m.\u001b[0m\u001b[0m_drop_axis\u001b[0m\u001b[1;33m(\u001b[0m\u001b[0mlabels\u001b[0m\u001b[1;33m,\u001b[0m \u001b[0maxis\u001b[0m\u001b[1;33m,\u001b[0m \u001b[0mlevel\u001b[0m\u001b[1;33m=\u001b[0m\u001b[0mlevel\u001b[0m\u001b[1;33m,\u001b[0m \u001b[0merrors\u001b[0m\u001b[1;33m=\u001b[0m\u001b[0merrors\u001b[0m\u001b[1;33m)\u001b[0m\u001b[1;33m\u001b[0m\u001b[1;33m\u001b[0m\u001b[0m\n\u001b[0m\u001b[0;32m   3888\u001b[0m \u001b[1;33m\u001b[0m\u001b[0m\n\u001b[0;32m   3889\u001b[0m         \u001b[1;32mif\u001b[0m \u001b[0minplace\u001b[0m\u001b[1;33m:\u001b[0m\u001b[1;33m\u001b[0m\u001b[1;33m\u001b[0m\u001b[0m\n",
      "\u001b[1;32mC:\\ProgramData\\Anaconda3\\lib\\site-packages\\pandas\\core\\generic.py\u001b[0m in \u001b[0;36m_drop_axis\u001b[1;34m(self, labels, axis, level, errors)\u001b[0m\n\u001b[0;32m   3919\u001b[0m                 \u001b[0mnew_axis\u001b[0m \u001b[1;33m=\u001b[0m \u001b[0maxis\u001b[0m\u001b[1;33m.\u001b[0m\u001b[0mdrop\u001b[0m\u001b[1;33m(\u001b[0m\u001b[0mlabels\u001b[0m\u001b[1;33m,\u001b[0m \u001b[0mlevel\u001b[0m\u001b[1;33m=\u001b[0m\u001b[0mlevel\u001b[0m\u001b[1;33m,\u001b[0m \u001b[0merrors\u001b[0m\u001b[1;33m=\u001b[0m\u001b[0merrors\u001b[0m\u001b[1;33m)\u001b[0m\u001b[1;33m\u001b[0m\u001b[1;33m\u001b[0m\u001b[0m\n\u001b[0;32m   3920\u001b[0m             \u001b[1;32melse\u001b[0m\u001b[1;33m:\u001b[0m\u001b[1;33m\u001b[0m\u001b[1;33m\u001b[0m\u001b[0m\n\u001b[1;32m-> 3921\u001b[1;33m                 \u001b[0mnew_axis\u001b[0m \u001b[1;33m=\u001b[0m \u001b[0maxis\u001b[0m\u001b[1;33m.\u001b[0m\u001b[0mdrop\u001b[0m\u001b[1;33m(\u001b[0m\u001b[0mlabels\u001b[0m\u001b[1;33m,\u001b[0m \u001b[0merrors\u001b[0m\u001b[1;33m=\u001b[0m\u001b[0merrors\u001b[0m\u001b[1;33m)\u001b[0m\u001b[1;33m\u001b[0m\u001b[1;33m\u001b[0m\u001b[0m\n\u001b[0m\u001b[0;32m   3922\u001b[0m             \u001b[0mresult\u001b[0m \u001b[1;33m=\u001b[0m \u001b[0mself\u001b[0m\u001b[1;33m.\u001b[0m\u001b[0mreindex\u001b[0m\u001b[1;33m(\u001b[0m\u001b[1;33m**\u001b[0m\u001b[1;33m{\u001b[0m\u001b[0maxis_name\u001b[0m\u001b[1;33m:\u001b[0m \u001b[0mnew_axis\u001b[0m\u001b[1;33m}\u001b[0m\u001b[1;33m)\u001b[0m\u001b[1;33m\u001b[0m\u001b[1;33m\u001b[0m\u001b[0m\n\u001b[0;32m   3923\u001b[0m \u001b[1;33m\u001b[0m\u001b[0m\n",
      "\u001b[1;32mC:\\ProgramData\\Anaconda3\\lib\\site-packages\\pandas\\core\\indexes\\base.py\u001b[0m in \u001b[0;36mdrop\u001b[1;34m(self, labels, errors)\u001b[0m\n\u001b[0;32m   5280\u001b[0m         \u001b[1;32mif\u001b[0m \u001b[0mmask\u001b[0m\u001b[1;33m.\u001b[0m\u001b[0many\u001b[0m\u001b[1;33m(\u001b[0m\u001b[1;33m)\u001b[0m\u001b[1;33m:\u001b[0m\u001b[1;33m\u001b[0m\u001b[1;33m\u001b[0m\u001b[0m\n\u001b[0;32m   5281\u001b[0m             \u001b[1;32mif\u001b[0m \u001b[0merrors\u001b[0m \u001b[1;33m!=\u001b[0m \u001b[1;34m\"ignore\"\u001b[0m\u001b[1;33m:\u001b[0m\u001b[1;33m\u001b[0m\u001b[1;33m\u001b[0m\u001b[0m\n\u001b[1;32m-> 5282\u001b[1;33m                 \u001b[1;32mraise\u001b[0m \u001b[0mKeyError\u001b[0m\u001b[1;33m(\u001b[0m\u001b[1;34mf\"{labels[mask]} not found in axis\"\u001b[0m\u001b[1;33m)\u001b[0m\u001b[1;33m\u001b[0m\u001b[1;33m\u001b[0m\u001b[0m\n\u001b[0m\u001b[0;32m   5283\u001b[0m             \u001b[0mindexer\u001b[0m \u001b[1;33m=\u001b[0m \u001b[0mindexer\u001b[0m\u001b[1;33m[\u001b[0m\u001b[1;33m~\u001b[0m\u001b[0mmask\u001b[0m\u001b[1;33m]\u001b[0m\u001b[1;33m\u001b[0m\u001b[1;33m\u001b[0m\u001b[0m\n\u001b[0;32m   5284\u001b[0m         \u001b[1;32mreturn\u001b[0m \u001b[0mself\u001b[0m\u001b[1;33m.\u001b[0m\u001b[0mdelete\u001b[0m\u001b[1;33m(\u001b[0m\u001b[0mindexer\u001b[0m\u001b[1;33m)\u001b[0m\u001b[1;33m\u001b[0m\u001b[1;33m\u001b[0m\u001b[0m\n",
      "\u001b[1;31mKeyError\u001b[0m: \"['FL_WINGS_MAY'] not found in axis\""
     ]
    }
   ],
   "source": [
    "X=sample.drop(columns=[\"FL_WINGS_MAY\"])\n",
    "Y=sample[\"FL_WINGS_MAY\"]"
   ]
  },
  {
   "cell_type": "code",
   "execution_count": null,
   "metadata": {},
   "outputs": [],
   "source": [
    "from sklearn.model_selection import train_test_split\n",
    "train_x,valid_x,train_y,valid_y=train_test_split(X,Y,test_size=0.25,random_state=50,stratify=Y)"
   ]
  },
  {
   "cell_type": "code",
   "execution_count": null,
   "metadata": {},
   "outputs": [],
   "source": [
    "from sklearn.ensemble import RandomForestClassifier as RF\n",
    "clf=RF(max_depth=3,n_estimators=1000)\n",
    "clf.fit(train_x,train_y)\n",
    "rf_res=clf.predict(valid_x)"
   ]
  },
  {
   "cell_type": "code",
   "execution_count": null,
   "metadata": {},
   "outputs": [],
   "source": [
    "print(classification_report(valid_y,rf_res))"
   ]
  },
  {
   "cell_type": "code",
   "execution_count": null,
   "metadata": {},
   "outputs": [],
   "source": [
    "clf.feature_importances_"
   ]
  },
  {
   "cell_type": "code",
   "execution_count": null,
   "metadata": {},
   "outputs": [],
   "source": [
    "feature_importance=pd.DataFrame(clf.feature_importances_,index=train_x.columns,\n",
    "                                columns=['importance']).sort_values('importance',ascending=False)"
   ]
  },
  {
   "cell_type": "code",
   "execution_count": null,
   "metadata": {},
   "outputs": [],
   "source": [
    "feature_importance[\"importance\"].nlargest(60)"
   ]
  },
  {
   "cell_type": "code",
   "execution_count": null,
   "metadata": {},
   "outputs": [],
   "source": []
  },
  {
   "cell_type": "code",
   "execution_count": null,
   "metadata": {},
   "outputs": [],
   "source": []
  },
  {
   "cell_type": "code",
   "execution_count": null,
   "metadata": {},
   "outputs": [],
   "source": [
    "data1 = data"
   ]
  },
  {
   "cell_type": "code",
   "execution_count": null,
   "metadata": {},
   "outputs": [],
   "source": [
    "### Get all the features columns except the class\n",
    "features = list(data.columns)\n",
    "\n",
    "### Get the features data\n",
    "fdata = data[features]"
   ]
  },
  {
   "cell_type": "code",
   "execution_count": null,
   "metadata": {},
   "outputs": [],
   "source": [
    "### Run PCA on the data and reduce the dimensions in pca_num_components dimensions\n",
    "reduced_data = PCA(n_components=pca_num_components).fit_transform(fdata)\n",
    "results = pd.DataFrame(reduced_data,columns=['pca1','pca2'])\n",
    "\n",
    "sns.scatterplot(x=\"pca1\", y=\"pca2\", hue=data['clusters'], data=results)\n",
    "plt.title('K-means Clustering with 2 dimensions')\n",
    "plt.show()"
   ]
  },
  {
   "cell_type": "code",
   "execution_count": null,
   "metadata": {},
   "outputs": [],
   "source": []
  },
  {
   "cell_type": "code",
   "execution_count": null,
   "metadata": {},
   "outputs": [],
   "source": []
  }
 ],
 "metadata": {
  "kernelspec": {
   "display_name": "Python 3",
   "language": "python",
   "name": "python3"
  },
  "language_info": {
   "codemirror_mode": {
    "name": "ipython",
    "version": 3
   },
   "file_extension": ".py",
   "mimetype": "text/x-python",
   "name": "python",
   "nbconvert_exporter": "python",
   "pygments_lexer": "ipython3",
   "version": "3.7.6"
  }
 },
 "nbformat": 4,
 "nbformat_minor": 4
}
